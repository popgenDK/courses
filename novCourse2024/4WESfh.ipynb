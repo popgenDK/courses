{
 "cells": [
  {
   "cell_type": "markdown",
   "id": "b7f80860",
   "metadata": {},
   "source": [
    "# Exercise 4 - Rare form of Familial Hypercholesterolemia (FH)\n",
    "**Questions are marked in bold**\n",
    "\n",
    "From a check at the doctor, the child (HG04204) of a small family is found to have abnormally high levels of cholesterol.\n",
    "\n",
    "![alt](images/1.jpg)\n",
    "\n",
    "It turns out that the parents are somewhat related as 2nd degree cousins but there are no other records of abnormal cholesterol levels in the family\n",
    "\n",
    "![alt](images/2.jpg)"
   ]
  },
  {
   "cell_type": "markdown",
   "id": "7ad04f7a",
   "metadata": {},
   "source": [
    "**Q1. If the abnormal levels are caused by genetics, what type of inheritance is most likely based on the above information?**"
   ]
  },
  {
   "cell_type": "markdown",
   "id": "c628ae9f",
   "metadata": {},
   "source": [
    "*Double-click this text to write your answer*"
   ]
  },
  {
   "cell_type": "markdown",
   "id": "1ca405f3",
   "metadata": {},
   "source": [
    "As part of research for a screening-program, the two children and parents are whole-exome sequenced (WES) in the search for variants that could explain the phenotype. let's load the WES data"
   ]
  },
  {
   "cell_type": "code",
   "execution_count": 1,
   "id": "12b3403f",
   "metadata": {},
   "outputs": [
    {
     "data": {
      "text/html": [
       "'Loaded 27540 WES variants'"
      ],
      "text/latex": [
       "'Loaded 27540 WES variants'"
      ],
      "text/markdown": [
       "'Loaded 27540 WES variants'"
      ],
      "text/plain": [
       "[1] \"Loaded 27540 WES variants\""
      ]
     },
     "metadata": {},
     "output_type": "display_data"
    }
   ],
   "source": [
    "#Load the WES data\n",
    "vars <- readRDS('/course/novo23/wes/ex02.wes.rds')\n",
    "consequences <- c('transcript_ablation','splice_acceptor_variant','splice_donor_variant','stop_gained','frameshift_variant','stop_lost','start_lost','transcript_amplification','inframe_insertion','inframe_deletion','missense_variant','protein_altering_variant','splice_region_variant','incomplete_terminal_codon_variant','start_retained_variant','stop_retained_variant','synonymous_variant')\n",
    "paste0('Loaded ', nrow(vars), ' WES variants')"
   ]
  },
  {
   "cell_type": "markdown",
   "id": "558447dd",
   "metadata": {},
   "source": [
    "**Q2. Assuming Familial Hypercholesterolemia (FH) prevalence of 0.1% what is the maximum allele frequency you could find of a high penetrance recessive FH-variant?** Prevalence of FH due to this variant:\n",
    "$$\n",
    "Prevalence=P(homozygous)=AF^2\n",
    "$$\n",
    "Modify the code below to find the maximum allele frequency which can lead to a FH-prevalence of 0.1%"
   ]
  },
  {
   "cell_type": "code",
   "execution_count": 7,
   "id": "733b1fc5",
   "metadata": {},
   "outputs": [
    {
     "data": {
      "text/html": [
       "'FH prevalence due to this variant= 0.1024%'"
      ],
      "text/latex": [
       "'FH prevalence due to this variant= 0.1024\\%'"
      ],
      "text/markdown": [
       "'FH prevalence due to this variant= 0.1024%'"
      ],
      "text/plain": [
       "[1] \"FH prevalence due to this variant= 0.1024%\""
      ]
     },
     "metadata": {},
     "output_type": "display_data"
    }
   ],
   "source": [
    "# Chosen allele frequency\n",
    "AF=0.032 # <- change this\n",
    "\n",
    "# Calculate prevalence from chosen allele frequency\n",
    "prevalence=AF^2\n",
    "\n",
    "# Print out prevalence in percentage:\n",
    "paste0('FH prevalence due to this variant= ', prevalence*100, '%')"
   ]
  },
  {
   "cell_type": "markdown",
   "id": "b9030ed7",
   "metadata": {},
   "source": [
    "From [ensembl](https://www.ensembl.org/info/genome/variation/prediction/predicted_data.html) we have the following severity-order of functional consequences\n",
    "\n",
    "|Order|Consequence|IMPACT|\n",
    "|---|---|---|\n",
    "|1|transcript_ablation|HIGH|\n",
    "|2|splice_acceptor_variant|HIGH|\n",
    "|3|splice_donor_variant|HIGH|\n",
    "|4|stop_gained|HIGH|\n",
    "|5|frameshift_variant|HIGH|\n",
    "|6|stop_lost|HIGH|\n",
    "|7|start_lost|HIGH|\n",
    "|8|transcript_amplification|HIGH|\n",
    "|9|inframe_insertion|MODERATE|\n",
    "|10|inframe_deletion|MODERATE|\n",
    "|11|missense_variant|MODERATE|\n",
    "|12|protein_altering_variant|MODERATE|\n",
    "|13|splice_region_variant|LOW|\n",
    "|14|incomplete_terminal_codon_variant|LOW|\n",
    "|15|start_retained_variant|LOW|\n",
    "|16|stop_retained_variant|LOW|\n",
    "|17|synonymous_variant|LOW|"
   ]
  },
  {
   "cell_type": "markdown",
   "id": "e377a1fb",
   "metadata": {},
   "source": [
    "WES filtering:\n",
    "1. Select ‘stop_gained’ as the worst consequence (to use as a filter).\n",
    "2. Based on the above (**Q2**), choose a maximum allele frequency (AF) in gnomAD"
   ]
  },
  {
   "cell_type": "code",
   "execution_count": 11,
   "id": "eacbb109",
   "metadata": {},
   "outputs": [
    {
     "data": {
      "text/html": [
       "<table class=\"dataframe\">\n",
       "<caption>A data.frame: 28 × 13</caption>\n",
       "<thead>\n",
       "\t<tr><th></th><th scope=col>Chr</th><th scope=col>Pos</th><th scope=col>Ref</th><th scope=col>Alt</th><th scope=col>HG03642</th><th scope=col>HG03679</th><th scope=col>HG04204</th><th scope=col>HG04215</th><th scope=col>Gene</th><th scope=col>Consequence</th><th scope=col>AminoAcid</th><th scope=col>rsID</th><th scope=col>gnomAD_freq</th></tr>\n",
       "\t<tr><th></th><th scope=col>&lt;chr&gt;</th><th scope=col>&lt;int&gt;</th><th scope=col>&lt;chr&gt;</th><th scope=col>&lt;chr&gt;</th><th scope=col>&lt;chr&gt;</th><th scope=col>&lt;chr&gt;</th><th scope=col>&lt;chr&gt;</th><th scope=col>&lt;chr&gt;</th><th scope=col>&lt;chr&gt;</th><th scope=col>&lt;chr&gt;</th><th scope=col>&lt;chr&gt;</th><th scope=col>&lt;chr&gt;</th><th scope=col>&lt;dbl&gt;</th></tr>\n",
       "</thead>\n",
       "<tbody>\n",
       "\t<tr><th scope=row>347</th><td>chr1 </td><td>  1049050</td><td>TGC...</td><td>T</td><td>0|0</td><td>0|1</td><td>0|0</td><td>0|0</td><td>AGRN    </td><td>splice_donor_variant   </td><td>NA</td><td>rs1553177542</td><td>2.78467e-02</td></tr>\n",
       "\t<tr><th scope=row>5</th><td>chr1 </td><td> 25553937</td><td>G     </td><td>A</td><td>0|1</td><td>0|1</td><td>1|1</td><td>1|0</td><td>LDLRAP1 </td><td>stop_gained            </td><td>A </td><td>NA          </td><td>0.00000e+00</td></tr>\n",
       "\t<tr><th scope=row>83</th><td>chr3 </td><td>131024739</td><td>G     </td><td>A</td><td>0|0</td><td>0|1</td><td>0|0</td><td>1|0</td><td>ASTE1   </td><td>stop_gained            </td><td>A </td><td>rs549290479 </td><td>0.00000e+00</td></tr>\n",
       "\t<tr><th scope=row>6590</th><td>chr3 </td><td>195726458</td><td>C     </td><td>T</td><td>0|1</td><td>0|0</td><td>0|0</td><td>0|0</td><td>MUC20   </td><td>stop_gained            </td><td>T </td><td>rs73203946  </td><td>2.26419e-03</td></tr>\n",
       "\t<tr><th scope=row>7483</th><td>chr4 </td><td>140389235</td><td>G     </td><td>A</td><td>0|0</td><td>0|1</td><td>1|0</td><td>0|0</td><td>CLGN    </td><td>stop_gained            </td><td>A </td><td>rs200583755 </td><td>3.28947e-03</td></tr>\n",
       "\t<tr><th scope=row>8610</th><td>chr5 </td><td>141173919</td><td>G     </td><td>T</td><td>0|0</td><td>1|0</td><td>1|0</td><td>1|0</td><td>PCDHB7  </td><td>stop_gained            </td><td>T </td><td>rs138641501 </td><td>3.28731e-04</td></tr>\n",
       "\t<tr><th scope=row>10121</th><td>chr6 </td><td> 54083615</td><td>CTG   </td><td>C</td><td>1|0</td><td>0|0</td><td>0|1</td><td>0|1</td><td>MLIP    </td><td>splice_donor_variant   </td><td>NA</td><td>rs536383818 </td><td>3.60656e-03</td></tr>\n",
       "\t<tr><th scope=row>10328</th><td>chr6 </td><td> 99446136</td><td>T     </td><td>A</td><td>0|0</td><td>1|0</td><td>1|0</td><td>1|0</td><td>USP45   </td><td>stop_gained            </td><td>A </td><td>rs189281869 </td><td>4.15070e-03</td></tr>\n",
       "\t<tr><th scope=row>123</th><td>chr6 </td><td>117387779</td><td>C     </td><td>G</td><td>0|1</td><td>0|0</td><td>0|1</td><td>0|0</td><td>ROS1    </td><td>splice_donor_variant   </td><td>NA</td><td>rs573272485 </td><td>0.00000e+00</td></tr>\n",
       "\t<tr><th scope=row>12695</th><td>chr8 </td><td> 51556839</td><td>C     </td><td>T</td><td>1|0</td><td>0|0</td><td>0|1</td><td>0|1</td><td>PXDNL   </td><td>splice_donor_variant   </td><td>NA</td><td>rs544725965 </td><td>1.80683e-02</td></tr>\n",
       "\t<tr><th scope=row>13088</th><td>chr8 </td><td>142841225</td><td>C     </td><td>T</td><td>0|1</td><td>0|0</td><td>0|1</td><td>0|0</td><td>GML     </td><td>stop_gained            </td><td>T </td><td>rs150041552 </td><td>6.56599e-04</td></tr>\n",
       "\t<tr><th scope=row>13421</th><td>chr9 </td><td> 35957991</td><td>G     </td><td>C</td><td>0|0</td><td>1|0</td><td>0|0</td><td>0|0</td><td>OR2S2   </td><td>stop_gained            </td><td>C </td><td>rs144882847 </td><td>1.48124e-02</td></tr>\n",
       "\t<tr><th scope=row>14333</th><td>chr9 </td><td>137436923</td><td>G     </td><td>A</td><td>0|1</td><td>0|0</td><td>0|1</td><td>0|0</td><td>ENTPD8  </td><td>stop_gained            </td><td>A </td><td>rs139821464 </td><td>1.64150e-02</td></tr>\n",
       "\t<tr><th scope=row>17677</th><td>chr12</td><td> 11021687</td><td>C     </td><td>T</td><td>0|1</td><td>0|0</td><td>0|0</td><td>0|0</td><td>TAS2R19 </td><td>stop_gained            </td><td>T </td><td>rs77837442  </td><td>1.11359e-02</td></tr>\n",
       "\t<tr><th scope=row>18430</th><td>chr12</td><td> 98626628</td><td>G     </td><td>A</td><td>0|0</td><td>1|0</td><td>0|0</td><td>1|0</td><td>IKBIP   </td><td>stop_gained            </td><td>A </td><td>rs555042942 </td><td>1.64690e-03</td></tr>\n",
       "\t<tr><th scope=row>20016</th><td>chr14</td><td> 74910107</td><td>G     </td><td>A</td><td>0|1</td><td>0|0</td><td>0|1</td><td>0|1</td><td>RPS6KL1 </td><td>stop_gained            </td><td>A </td><td>rs200676858 </td><td>6.56599e-04</td></tr>\n",
       "\t<tr><th scope=row>20525</th><td>chr15</td><td> 23439875</td><td>ACA...</td><td>A</td><td>0|1</td><td>0|0</td><td>0|0</td><td>0|0</td><td>GOLGA6L2</td><td>splice_acceptor_variant</td><td>NA</td><td>rs760404645 </td><td>9.47867e-03</td></tr>\n",
       "\t<tr><th scope=row>20743</th><td>chr15</td><td> 42142196</td><td>G     </td><td>A</td><td>0|1</td><td>0|0</td><td>0|1</td><td>0|1</td><td>PLA2G4F </td><td>stop_gained            </td><td>A </td><td>rs150441632 </td><td>9.86842e-04</td></tr>\n",
       "\t<tr><th scope=row>21762</th><td>chr16</td><td>  5047927</td><td>A     </td><td>T</td><td>0|1</td><td>0|0</td><td>0|1</td><td>0|0</td><td>C16orf89</td><td>stop_gained            </td><td>T </td><td>rs542841048 </td><td>1.31406e-03</td></tr>\n",
       "\t<tr><th scope=row>250</th><td>chr16</td><td> 84236729</td><td>C     </td><td>T</td><td>0|0</td><td>1|0</td><td>0|0</td><td>1|0</td><td>KCNG4   </td><td>splice_donor_variant   </td><td>NA</td><td>rs528934560 </td><td>0.00000e+00</td></tr>\n",
       "\t<tr><th scope=row>23163</th><td>chr17</td><td> 15651225</td><td>G     </td><td>A</td><td>0|0</td><td>1|0</td><td>0|0</td><td>1|0</td><td>TRIM16  </td><td>stop_gained            </td><td>A </td><td>rs528978044 </td><td>4.64526e-05</td></tr>\n",
       "\t<tr><th scope=row>24657</th><td>chr18</td><td> 31760142</td><td>G     </td><td>A</td><td>0|1</td><td>0|0</td><td>0|1</td><td>0|0</td><td>SLC25A52</td><td>stop_gained            </td><td>A </td><td>rs568244554 </td><td>3.19081e-04</td></tr>\n",
       "\t<tr><th scope=row>24837</th><td>chr18</td><td> 63660799</td><td>C     </td><td>T</td><td>0|0</td><td>0|1</td><td>1|0</td><td>0|0</td><td>SERPINB3</td><td>splice_donor_variant   </td><td>NA</td><td>rs79688177  </td><td>1.01974e-02</td></tr>\n",
       "\t<tr><th scope=row>25760</th><td>chr19</td><td> 14827465</td><td>G     </td><td>C</td><td>1|0</td><td>0|0</td><td>0|1</td><td>0|1</td><td>OR7A5   </td><td>stop_gained            </td><td>C </td><td>rs201956812 </td><td>2.92571e-02</td></tr>\n",
       "\t<tr><th scope=row>27090</th><td>chr19</td><td> 52841528</td><td>G     </td><td>A</td><td>0|1</td><td>0|0</td><td>0|0</td><td>0|0</td><td>ZNF468  </td><td>stop_gained            </td><td>A </td><td>rs531943295 </td><td>9.89446e-04</td></tr>\n",
       "\t<tr><th scope=row>27232</th><td>chr19</td><td> 54752266</td><td>G     </td><td>T</td><td>1|0</td><td>0|0</td><td>0|0</td><td>0|0</td><td>KIR2DL3 </td><td>stop_gained            </td><td>T </td><td>rs1431726397</td><td>9.00901e-04</td></tr>\n",
       "\t<tr><th scope=row>27514</th><td>chr19</td><td> 57754559</td><td>C     </td><td>T</td><td>1|0</td><td>0|0</td><td>0|1</td><td>0|1</td><td>ZNF776  </td><td>stop_gained            </td><td>T </td><td>rs567895507 </td><td>1.67224e-03</td></tr>\n",
       "\t<tr><th scope=row>27878</th><td>chr20</td><td> 33179655</td><td>C     </td><td>T</td><td>0|0</td><td>1|0</td><td>1|0</td><td>0|0</td><td>BPIFA2  </td><td>stop_gained            </td><td>T </td><td>rs149285854 </td><td>1.92539e-02</td></tr>\n",
       "</tbody>\n",
       "</table>\n"
      ],
      "text/latex": [
       "A data.frame: 28 × 13\n",
       "\\begin{tabular}{r|lllllllllllll}\n",
       "  & Chr & Pos & Ref & Alt & HG03642 & HG03679 & HG04204 & HG04215 & Gene & Consequence & AminoAcid & rsID & gnomAD\\_freq\\\\\n",
       "  & <chr> & <int> & <chr> & <chr> & <chr> & <chr> & <chr> & <chr> & <chr> & <chr> & <chr> & <chr> & <dbl>\\\\\n",
       "\\hline\n",
       "\t347 & chr1  &   1049050 & TGC... & T & 0\\textbar{}0 & 0\\textbar{}1 & 0\\textbar{}0 & 0\\textbar{}0 & AGRN     & splice\\_donor\\_variant    & NA & rs1553177542 & 2.78467e-02\\\\\n",
       "\t5 & chr1  &  25553937 & G      & A & 0\\textbar{}1 & 0\\textbar{}1 & 1\\textbar{}1 & 1\\textbar{}0 & LDLRAP1  & stop\\_gained             & A  & NA           & 0.00000e+00\\\\\n",
       "\t83 & chr3  & 131024739 & G      & A & 0\\textbar{}0 & 0\\textbar{}1 & 0\\textbar{}0 & 1\\textbar{}0 & ASTE1    & stop\\_gained             & A  & rs549290479  & 0.00000e+00\\\\\n",
       "\t6590 & chr3  & 195726458 & C      & T & 0\\textbar{}1 & 0\\textbar{}0 & 0\\textbar{}0 & 0\\textbar{}0 & MUC20    & stop\\_gained             & T  & rs73203946   & 2.26419e-03\\\\\n",
       "\t7483 & chr4  & 140389235 & G      & A & 0\\textbar{}0 & 0\\textbar{}1 & 1\\textbar{}0 & 0\\textbar{}0 & CLGN     & stop\\_gained             & A  & rs200583755  & 3.28947e-03\\\\\n",
       "\t8610 & chr5  & 141173919 & G      & T & 0\\textbar{}0 & 1\\textbar{}0 & 1\\textbar{}0 & 1\\textbar{}0 & PCDHB7   & stop\\_gained             & T  & rs138641501  & 3.28731e-04\\\\\n",
       "\t10121 & chr6  &  54083615 & CTG    & C & 1\\textbar{}0 & 0\\textbar{}0 & 0\\textbar{}1 & 0\\textbar{}1 & MLIP     & splice\\_donor\\_variant    & NA & rs536383818  & 3.60656e-03\\\\\n",
       "\t10328 & chr6  &  99446136 & T      & A & 0\\textbar{}0 & 1\\textbar{}0 & 1\\textbar{}0 & 1\\textbar{}0 & USP45    & stop\\_gained             & A  & rs189281869  & 4.15070e-03\\\\\n",
       "\t123 & chr6  & 117387779 & C      & G & 0\\textbar{}1 & 0\\textbar{}0 & 0\\textbar{}1 & 0\\textbar{}0 & ROS1     & splice\\_donor\\_variant    & NA & rs573272485  & 0.00000e+00\\\\\n",
       "\t12695 & chr8  &  51556839 & C      & T & 1\\textbar{}0 & 0\\textbar{}0 & 0\\textbar{}1 & 0\\textbar{}1 & PXDNL    & splice\\_donor\\_variant    & NA & rs544725965  & 1.80683e-02\\\\\n",
       "\t13088 & chr8  & 142841225 & C      & T & 0\\textbar{}1 & 0\\textbar{}0 & 0\\textbar{}1 & 0\\textbar{}0 & GML      & stop\\_gained             & T  & rs150041552  & 6.56599e-04\\\\\n",
       "\t13421 & chr9  &  35957991 & G      & C & 0\\textbar{}0 & 1\\textbar{}0 & 0\\textbar{}0 & 0\\textbar{}0 & OR2S2    & stop\\_gained             & C  & rs144882847  & 1.48124e-02\\\\\n",
       "\t14333 & chr9  & 137436923 & G      & A & 0\\textbar{}1 & 0\\textbar{}0 & 0\\textbar{}1 & 0\\textbar{}0 & ENTPD8   & stop\\_gained             & A  & rs139821464  & 1.64150e-02\\\\\n",
       "\t17677 & chr12 &  11021687 & C      & T & 0\\textbar{}1 & 0\\textbar{}0 & 0\\textbar{}0 & 0\\textbar{}0 & TAS2R19  & stop\\_gained             & T  & rs77837442   & 1.11359e-02\\\\\n",
       "\t18430 & chr12 &  98626628 & G      & A & 0\\textbar{}0 & 1\\textbar{}0 & 0\\textbar{}0 & 1\\textbar{}0 & IKBIP    & stop\\_gained             & A  & rs555042942  & 1.64690e-03\\\\\n",
       "\t20016 & chr14 &  74910107 & G      & A & 0\\textbar{}1 & 0\\textbar{}0 & 0\\textbar{}1 & 0\\textbar{}1 & RPS6KL1  & stop\\_gained             & A  & rs200676858  & 6.56599e-04\\\\\n",
       "\t20525 & chr15 &  23439875 & ACA... & A & 0\\textbar{}1 & 0\\textbar{}0 & 0\\textbar{}0 & 0\\textbar{}0 & GOLGA6L2 & splice\\_acceptor\\_variant & NA & rs760404645  & 9.47867e-03\\\\\n",
       "\t20743 & chr15 &  42142196 & G      & A & 0\\textbar{}1 & 0\\textbar{}0 & 0\\textbar{}1 & 0\\textbar{}1 & PLA2G4F  & stop\\_gained             & A  & rs150441632  & 9.86842e-04\\\\\n",
       "\t21762 & chr16 &   5047927 & A      & T & 0\\textbar{}1 & 0\\textbar{}0 & 0\\textbar{}1 & 0\\textbar{}0 & C16orf89 & stop\\_gained             & T  & rs542841048  & 1.31406e-03\\\\\n",
       "\t250 & chr16 &  84236729 & C      & T & 0\\textbar{}0 & 1\\textbar{}0 & 0\\textbar{}0 & 1\\textbar{}0 & KCNG4    & splice\\_donor\\_variant    & NA & rs528934560  & 0.00000e+00\\\\\n",
       "\t23163 & chr17 &  15651225 & G      & A & 0\\textbar{}0 & 1\\textbar{}0 & 0\\textbar{}0 & 1\\textbar{}0 & TRIM16   & stop\\_gained             & A  & rs528978044  & 4.64526e-05\\\\\n",
       "\t24657 & chr18 &  31760142 & G      & A & 0\\textbar{}1 & 0\\textbar{}0 & 0\\textbar{}1 & 0\\textbar{}0 & SLC25A52 & stop\\_gained             & A  & rs568244554  & 3.19081e-04\\\\\n",
       "\t24837 & chr18 &  63660799 & C      & T & 0\\textbar{}0 & 0\\textbar{}1 & 1\\textbar{}0 & 0\\textbar{}0 & SERPINB3 & splice\\_donor\\_variant    & NA & rs79688177   & 1.01974e-02\\\\\n",
       "\t25760 & chr19 &  14827465 & G      & C & 1\\textbar{}0 & 0\\textbar{}0 & 0\\textbar{}1 & 0\\textbar{}1 & OR7A5    & stop\\_gained             & C  & rs201956812  & 2.92571e-02\\\\\n",
       "\t27090 & chr19 &  52841528 & G      & A & 0\\textbar{}1 & 0\\textbar{}0 & 0\\textbar{}0 & 0\\textbar{}0 & ZNF468   & stop\\_gained             & A  & rs531943295  & 9.89446e-04\\\\\n",
       "\t27232 & chr19 &  54752266 & G      & T & 1\\textbar{}0 & 0\\textbar{}0 & 0\\textbar{}0 & 0\\textbar{}0 & KIR2DL3  & stop\\_gained             & T  & rs1431726397 & 9.00901e-04\\\\\n",
       "\t27514 & chr19 &  57754559 & C      & T & 1\\textbar{}0 & 0\\textbar{}0 & 0\\textbar{}1 & 0\\textbar{}1 & ZNF776   & stop\\_gained             & T  & rs567895507  & 1.67224e-03\\\\\n",
       "\t27878 & chr20 &  33179655 & C      & T & 0\\textbar{}0 & 1\\textbar{}0 & 1\\textbar{}0 & 0\\textbar{}0 & BPIFA2   & stop\\_gained             & T  & rs149285854  & 1.92539e-02\\\\\n",
       "\\end{tabular}\n"
      ],
      "text/markdown": [
       "\n",
       "A data.frame: 28 × 13\n",
       "\n",
       "| <!--/--> | Chr &lt;chr&gt; | Pos &lt;int&gt; | Ref &lt;chr&gt; | Alt &lt;chr&gt; | HG03642 &lt;chr&gt; | HG03679 &lt;chr&gt; | HG04204 &lt;chr&gt; | HG04215 &lt;chr&gt; | Gene &lt;chr&gt; | Consequence &lt;chr&gt; | AminoAcid &lt;chr&gt; | rsID &lt;chr&gt; | gnomAD_freq &lt;dbl&gt; |\n",
       "|---|---|---|---|---|---|---|---|---|---|---|---|---|---|\n",
       "| 347 | chr1  |   1049050 | TGC... | T | 0|0 | 0|1 | 0|0 | 0|0 | AGRN     | splice_donor_variant    | NA | rs1553177542 | 2.78467e-02 |\n",
       "| 5 | chr1  |  25553937 | G      | A | 0|1 | 0|1 | 1|1 | 1|0 | LDLRAP1  | stop_gained             | A  | NA           | 0.00000e+00 |\n",
       "| 83 | chr3  | 131024739 | G      | A | 0|0 | 0|1 | 0|0 | 1|0 | ASTE1    | stop_gained             | A  | rs549290479  | 0.00000e+00 |\n",
       "| 6590 | chr3  | 195726458 | C      | T | 0|1 | 0|0 | 0|0 | 0|0 | MUC20    | stop_gained             | T  | rs73203946   | 2.26419e-03 |\n",
       "| 7483 | chr4  | 140389235 | G      | A | 0|0 | 0|1 | 1|0 | 0|0 | CLGN     | stop_gained             | A  | rs200583755  | 3.28947e-03 |\n",
       "| 8610 | chr5  | 141173919 | G      | T | 0|0 | 1|0 | 1|0 | 1|0 | PCDHB7   | stop_gained             | T  | rs138641501  | 3.28731e-04 |\n",
       "| 10121 | chr6  |  54083615 | CTG    | C | 1|0 | 0|0 | 0|1 | 0|1 | MLIP     | splice_donor_variant    | NA | rs536383818  | 3.60656e-03 |\n",
       "| 10328 | chr6  |  99446136 | T      | A | 0|0 | 1|0 | 1|0 | 1|0 | USP45    | stop_gained             | A  | rs189281869  | 4.15070e-03 |\n",
       "| 123 | chr6  | 117387779 | C      | G | 0|1 | 0|0 | 0|1 | 0|0 | ROS1     | splice_donor_variant    | NA | rs573272485  | 0.00000e+00 |\n",
       "| 12695 | chr8  |  51556839 | C      | T | 1|0 | 0|0 | 0|1 | 0|1 | PXDNL    | splice_donor_variant    | NA | rs544725965  | 1.80683e-02 |\n",
       "| 13088 | chr8  | 142841225 | C      | T | 0|1 | 0|0 | 0|1 | 0|0 | GML      | stop_gained             | T  | rs150041552  | 6.56599e-04 |\n",
       "| 13421 | chr9  |  35957991 | G      | C | 0|0 | 1|0 | 0|0 | 0|0 | OR2S2    | stop_gained             | C  | rs144882847  | 1.48124e-02 |\n",
       "| 14333 | chr9  | 137436923 | G      | A | 0|1 | 0|0 | 0|1 | 0|0 | ENTPD8   | stop_gained             | A  | rs139821464  | 1.64150e-02 |\n",
       "| 17677 | chr12 |  11021687 | C      | T | 0|1 | 0|0 | 0|0 | 0|0 | TAS2R19  | stop_gained             | T  | rs77837442   | 1.11359e-02 |\n",
       "| 18430 | chr12 |  98626628 | G      | A | 0|0 | 1|0 | 0|0 | 1|0 | IKBIP    | stop_gained             | A  | rs555042942  | 1.64690e-03 |\n",
       "| 20016 | chr14 |  74910107 | G      | A | 0|1 | 0|0 | 0|1 | 0|1 | RPS6KL1  | stop_gained             | A  | rs200676858  | 6.56599e-04 |\n",
       "| 20525 | chr15 |  23439875 | ACA... | A | 0|1 | 0|0 | 0|0 | 0|0 | GOLGA6L2 | splice_acceptor_variant | NA | rs760404645  | 9.47867e-03 |\n",
       "| 20743 | chr15 |  42142196 | G      | A | 0|1 | 0|0 | 0|1 | 0|1 | PLA2G4F  | stop_gained             | A  | rs150441632  | 9.86842e-04 |\n",
       "| 21762 | chr16 |   5047927 | A      | T | 0|1 | 0|0 | 0|1 | 0|0 | C16orf89 | stop_gained             | T  | rs542841048  | 1.31406e-03 |\n",
       "| 250 | chr16 |  84236729 | C      | T | 0|0 | 1|0 | 0|0 | 1|0 | KCNG4    | splice_donor_variant    | NA | rs528934560  | 0.00000e+00 |\n",
       "| 23163 | chr17 |  15651225 | G      | A | 0|0 | 1|0 | 0|0 | 1|0 | TRIM16   | stop_gained             | A  | rs528978044  | 4.64526e-05 |\n",
       "| 24657 | chr18 |  31760142 | G      | A | 0|1 | 0|0 | 0|1 | 0|0 | SLC25A52 | stop_gained             | A  | rs568244554  | 3.19081e-04 |\n",
       "| 24837 | chr18 |  63660799 | C      | T | 0|0 | 0|1 | 1|0 | 0|0 | SERPINB3 | splice_donor_variant    | NA | rs79688177   | 1.01974e-02 |\n",
       "| 25760 | chr19 |  14827465 | G      | C | 1|0 | 0|0 | 0|1 | 0|1 | OR7A5    | stop_gained             | C  | rs201956812  | 2.92571e-02 |\n",
       "| 27090 | chr19 |  52841528 | G      | A | 0|1 | 0|0 | 0|0 | 0|0 | ZNF468   | stop_gained             | A  | rs531943295  | 9.89446e-04 |\n",
       "| 27232 | chr19 |  54752266 | G      | T | 1|0 | 0|0 | 0|0 | 0|0 | KIR2DL3  | stop_gained             | T  | rs1431726397 | 9.00901e-04 |\n",
       "| 27514 | chr19 |  57754559 | C      | T | 1|0 | 0|0 | 0|1 | 0|1 | ZNF776   | stop_gained             | T  | rs567895507  | 1.67224e-03 |\n",
       "| 27878 | chr20 |  33179655 | C      | T | 0|0 | 1|0 | 1|0 | 0|0 | BPIFA2   | stop_gained             | T  | rs149285854  | 1.92539e-02 |\n",
       "\n"
      ],
      "text/plain": [
       "      Chr   Pos       Ref    Alt HG03642 HG03679 HG04204 HG04215 Gene    \n",
       "347   chr1    1049050 TGC... T   0|0     0|1     0|0     0|0     AGRN    \n",
       "5     chr1   25553937 G      A   0|1     0|1     1|1     1|0     LDLRAP1 \n",
       "83    chr3  131024739 G      A   0|0     0|1     0|0     1|0     ASTE1   \n",
       "6590  chr3  195726458 C      T   0|1     0|0     0|0     0|0     MUC20   \n",
       "7483  chr4  140389235 G      A   0|0     0|1     1|0     0|0     CLGN    \n",
       "8610  chr5  141173919 G      T   0|0     1|0     1|0     1|0     PCDHB7  \n",
       "10121 chr6   54083615 CTG    C   1|0     0|0     0|1     0|1     MLIP    \n",
       "10328 chr6   99446136 T      A   0|0     1|0     1|0     1|0     USP45   \n",
       "123   chr6  117387779 C      G   0|1     0|0     0|1     0|0     ROS1    \n",
       "12695 chr8   51556839 C      T   1|0     0|0     0|1     0|1     PXDNL   \n",
       "13088 chr8  142841225 C      T   0|1     0|0     0|1     0|0     GML     \n",
       "13421 chr9   35957991 G      C   0|0     1|0     0|0     0|0     OR2S2   \n",
       "14333 chr9  137436923 G      A   0|1     0|0     0|1     0|0     ENTPD8  \n",
       "17677 chr12  11021687 C      T   0|1     0|0     0|0     0|0     TAS2R19 \n",
       "18430 chr12  98626628 G      A   0|0     1|0     0|0     1|0     IKBIP   \n",
       "20016 chr14  74910107 G      A   0|1     0|0     0|1     0|1     RPS6KL1 \n",
       "20525 chr15  23439875 ACA... A   0|1     0|0     0|0     0|0     GOLGA6L2\n",
       "20743 chr15  42142196 G      A   0|1     0|0     0|1     0|1     PLA2G4F \n",
       "21762 chr16   5047927 A      T   0|1     0|0     0|1     0|0     C16orf89\n",
       "250   chr16  84236729 C      T   0|0     1|0     0|0     1|0     KCNG4   \n",
       "23163 chr17  15651225 G      A   0|0     1|0     0|0     1|0     TRIM16  \n",
       "24657 chr18  31760142 G      A   0|1     0|0     0|1     0|0     SLC25A52\n",
       "24837 chr18  63660799 C      T   0|0     0|1     1|0     0|0     SERPINB3\n",
       "25760 chr19  14827465 G      C   1|0     0|0     0|1     0|1     OR7A5   \n",
       "27090 chr19  52841528 G      A   0|1     0|0     0|0     0|0     ZNF468  \n",
       "27232 chr19  54752266 G      T   1|0     0|0     0|0     0|0     KIR2DL3 \n",
       "27514 chr19  57754559 C      T   1|0     0|0     0|1     0|1     ZNF776  \n",
       "27878 chr20  33179655 C      T   0|0     1|0     1|0     0|0     BPIFA2  \n",
       "      Consequence             AminoAcid rsID         gnomAD_freq\n",
       "347   splice_donor_variant    NA        rs1553177542 2.78467e-02\n",
       "5     stop_gained             A         NA           0.00000e+00\n",
       "83    stop_gained             A         rs549290479  0.00000e+00\n",
       "6590  stop_gained             T         rs73203946   2.26419e-03\n",
       "7483  stop_gained             A         rs200583755  3.28947e-03\n",
       "8610  stop_gained             T         rs138641501  3.28731e-04\n",
       "10121 splice_donor_variant    NA        rs536383818  3.60656e-03\n",
       "10328 stop_gained             A         rs189281869  4.15070e-03\n",
       "123   splice_donor_variant    NA        rs573272485  0.00000e+00\n",
       "12695 splice_donor_variant    NA        rs544725965  1.80683e-02\n",
       "13088 stop_gained             T         rs150041552  6.56599e-04\n",
       "13421 stop_gained             C         rs144882847  1.48124e-02\n",
       "14333 stop_gained             A         rs139821464  1.64150e-02\n",
       "17677 stop_gained             T         rs77837442   1.11359e-02\n",
       "18430 stop_gained             A         rs555042942  1.64690e-03\n",
       "20016 stop_gained             A         rs200676858  6.56599e-04\n",
       "20525 splice_acceptor_variant NA        rs760404645  9.47867e-03\n",
       "20743 stop_gained             A         rs150441632  9.86842e-04\n",
       "21762 stop_gained             T         rs542841048  1.31406e-03\n",
       "250   splice_donor_variant    NA        rs528934560  0.00000e+00\n",
       "23163 stop_gained             A         rs528978044  4.64526e-05\n",
       "24657 stop_gained             A         rs568244554  3.19081e-04\n",
       "24837 splice_donor_variant    NA        rs79688177   1.01974e-02\n",
       "25760 stop_gained             C         rs201956812  2.92571e-02\n",
       "27090 stop_gained             A         rs531943295  9.89446e-04\n",
       "27232 stop_gained             T         rs1431726397 9.00901e-04\n",
       "27514 stop_gained             T         rs567895507  1.67224e-03\n",
       "27878 stop_gained             T         rs149285854  1.92539e-02"
      ]
     },
     "metadata": {},
     "output_type": "display_data"
    }
   ],
   "source": [
    "# Filterings\n",
    "# Try to change the maximum gnomad AF and worst consequence.\n",
    "max_gnomad_AF = 0.033\n",
    "consequence_or_worse_than = 'stop_gained'\n",
    "\n",
    "or_worse = consequences[1:which(consequences==consequence_or_worse_than)]\n",
    "subset(vars,\n",
    "       gnomAD_freq < max_gnomad_AF &\n",
    "       Consequence %in% or_worse)"
   ]
  },
  {
   "cell_type": "markdown",
   "id": "7d5b3a95",
   "metadata": {},
   "source": [
    "To find a candidate variant, try\n",
    "- Looking at the genotype for the sick individual (HG04204)\n",
    "- Google the gene name of candidate variants to determine the function\n",
    "- Set a more strict maximum gnomAD AF filter\n",
    "\n",
    "**Q3. Based on the above, propose a candidate disease variant that follows the inheritance from Q1**"
   ]
  },
  {
   "cell_type": "markdown",
   "id": "6124e03c",
   "metadata": {},
   "source": [
    "*Double-click this text to write your answer*"
   ]
  },
  {
   "cell_type": "markdown",
   "id": "5baf9f49",
   "metadata": {},
   "source": [
    "# Continue with the next exercise \n",
    "[\"Exerciese 5 - WES of individuals with diabetes\"](5WESdiab.ipynb)"
   ]
  }
 ],
 "metadata": {
  "kernelspec": {
   "display_name": "R",
   "language": "R",
   "name": "ir"
  },
  "language_info": {
   "codemirror_mode": "r",
   "file_extension": ".r",
   "mimetype": "text/x-r-source",
   "name": "R",
   "pygments_lexer": "r",
   "version": "4.1.2"
  }
 },
 "nbformat": 4,
 "nbformat_minor": 5
}
