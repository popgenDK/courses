{
 "cells": [
  {
   "cell_type": "markdown",
   "id": "04e6ced4",
   "metadata": {},
   "source": [
    "# Exercise 5 - WES of individuals with diabetes\n",
    "\n",
    "**Questions are marked in bold**\n",
    "\n",
    "4 unrelated individuals with diabetes have been whole-exome sequenced to inform the clinicians in the choice of treatment. "
   ]
  },
  {
   "cell_type": "code",
   "execution_count": null,
   "id": "12b3403f",
   "metadata": {},
   "outputs": [],
   "source": [
    "# Load the WES data\n",
    "vars <- readRDS('/course/novo23/wes/ex03.wes.rds')\n",
    "consequences <- c('transcript_ablation','splice_acceptor_variant','splice_donor_variant','stop_gained','frameshift_variant','stop_lost','start_lost','transcript_amplification','inframe_insertion','inframe_deletion','missense_variant','protein_altering_variant','splice_region_variant','incomplete_terminal_codon_variant','start_retained_variant','stop_retained_variant','synonymous_variant')\n",
    "paste0('Loaded ', nrow(vars), ' WES variants')"
   ]
  },
  {
   "cell_type": "markdown",
   "id": "b9030ed7",
   "metadata": {},
   "source": [
    "From [ensembl](https://www.ensembl.org/info/genome/variation/prediction/predicted_data.html) we have the following severity-order of functional consequences\n",
    "\n",
    "|Order|Consequence|IMPACT|\n",
    "|---|---|---|\n",
    "|1|transcript_ablation|HIGH|\n",
    "|2|splice_acceptor_variant|HIGH|\n",
    "|3|splice_donor_variant|HIGH|\n",
    "|4|stop_gained|HIGH|\n",
    "|5|frameshift_variant|HIGH|\n",
    "|6|stop_lost|HIGH|\n",
    "|7|start_lost|HIGH|\n",
    "|8|transcript_amplification|HIGH|\n",
    "|9|inframe_insertion|MODERATE|\n",
    "|10|inframe_deletion|MODERATE|\n",
    "|11|missense_variant|MODERATE|\n",
    "|12|protein_altering_variant|MODERATE|\n",
    "|13|splice_region_variant|LOW|\n",
    "|14|incomplete_terminal_codon_variant|LOW|\n",
    "|15|start_retained_variant|LOW|\n",
    "|16|stop_retained_variant|LOW|\n",
    "|17|synonymous_variant|LOW|"
   ]
  },
  {
   "cell_type": "markdown",
   "id": "4b20df24",
   "metadata": {},
   "source": [
    "Run the next cell and look at rare loss-of-function variants by:\n",
    "1. Setting the worst consequence to ‘stop_gained’ (to use as a filter).\n",
    "2. Set a maximum gnomad AF of 0.001"
   ]
  },
  {
   "cell_type": "code",
   "execution_count": null,
   "id": "eacbb109",
   "metadata": {},
   "outputs": [],
   "source": [
    "# Filterings\n",
    "max_gnomad_AF = 1\n",
    "consequence_or_worse_than = 'synonymous_variant'\n",
    "\n",
    "or_worse = consequences[1:which(consequences==consequence_or_worse_than)]\n",
    "subset(vars,\n",
    "       gnomAD_freq < max_gnomad_AF &\n",
    "       Consequence %in% or_worse)"
   ]
  },
  {
   "cell_type": "markdown",
   "id": "eefb82f4",
   "metadata": {},
   "source": [
    "**Q1. For each individual, can you find a variant in a known diabetes associated gene?**"
   ]
  },
  {
   "cell_type": "markdown",
   "id": "17da9beb",
   "metadata": {},
   "source": [
    "*Double-click this text to write your answer*"
   ]
  },
  {
   "cell_type": "markdown",
   "id": "671a3f1f",
   "metadata": {},
   "source": [
    "**Q2. What are the maximum frequencies of all the above variants in gnomad?**"
   ]
  },
  {
   "cell_type": "markdown",
   "id": "71b2af90",
   "metadata": {},
   "source": [
    "*Double-click this text to write your answer*"
   ]
  },
  {
   "cell_type": "markdown",
   "id": "d9365f16",
   "metadata": {},
   "source": [
    "**Q3. Would these variants be identified in a GWAS? - Why / why not?**"
   ]
  },
  {
   "cell_type": "markdown",
   "id": "5234824c",
   "metadata": {},
   "source": [
    "*Double-click this text to write your answer*"
   ]
  }
 ],
 "metadata": {
  "kernelspec": {
   "display_name": "R",
   "language": "R",
   "name": "ir"
  },
  "language_info": {
   "codemirror_mode": "r",
   "file_extension": ".r",
   "mimetype": "text/x-r-source",
   "name": "R",
   "pygments_lexer": "r",
   "version": "4.1.2"
  }
 },
 "nbformat": 4,
 "nbformat_minor": 5
}
