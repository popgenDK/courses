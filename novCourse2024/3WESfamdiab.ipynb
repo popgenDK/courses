{
 "cells": [
  {
   "cell_type": "markdown",
   "id": "7274af0c",
   "metadata": {
    "kernel": "SoS"
   },
   "source": [
    "# Exercise 3 - Familial diabetes\n",
    "**Questions are marked in bold**\n",
    "\n",
    "A small family is referred to genetic screening for maturity onset diabetes of the young (MODY). Both the father and daughter show clinical symptoms of MODY. For MODY, being heterozygous for a disease variant is usually enough to give the disease.\n",
    "\n",
    "![alt](images/3.jpg)\n",
    "\n",
    "To investigate the genetic background, we have sequenced a number of MODY-related genes. Due to a labelling error we are not sure about the IDs for the mother and daughter.\n",
    "\n",
    "1. Download sequencing data of one of these genes, HNF1A, for the trio: [hnf1a.vcf](hnf1a.vcf)\n",
    "2. Locate the downloaded file → right-click → Open with → Notepad\n",
    "\n",
    "**Q1. How many variants and individuals are in the VCF?**"
   ]
  },
  {
   "cell_type": "markdown",
   "id": "2a4db7c3",
   "metadata": {
    "kernel": "SoS"
   },
   "source": [
    "*Double-click this text to write your answer*"
   ]
  },
  {
   "cell_type": "markdown",
   "id": "a7ebfec6",
   "metadata": {
    "kernel": "SoS"
   },
   "source": [
    "3. Locate the variant 12:120993469:T:A and fill out the genotype for each individual (write 0/0 instead of 0|0)"
   ]
  },
  {
   "cell_type": "markdown",
   "id": "241fba21",
   "metadata": {
    "kernel": "SoS"
   },
   "source": [
    "|          Variant        |     HG00403    |     HG00404    |     HG00405    |\n",
    "|:-----------------------:|:--------------:|:--------------:|:--------------:|\n",
    "|     12:120993469:T:A    |  0/0 |  1/1  |  0/1  |"
   ]
  },
  {
   "cell_type": "markdown",
   "id": "e5324cd2",
   "metadata": {
    "kernel": "SoS"
   },
   "source": [
    "**Q2. Based on the genotypes, who do you think is the child and who is the mother?**"
   ]
  },
  {
   "cell_type": "markdown",
   "id": "1c8c6d73",
   "metadata": {
    "kernel": "SoS"
   },
   "source": [
    "*Double-click this text to write your answer*"
   ]
  },
  {
   "cell_type": "markdown",
   "id": "d6fa6b60",
   "metadata": {
    "kernel": "SoS"
   },
   "source": [
    "4. Fill out the genotypes for this other variant: 12:120978847:A:C"
   ]
  },
  {
   "cell_type": "markdown",
   "id": "2fe71adf",
   "metadata": {
    "kernel": "SoS"
   },
   "source": [
    "|          Variant        |     HG00403    |     HG00404    |     HG00405    |\n",
    "|:-----------------------:|:--------------:|:--------------:|:--------------:|\n",
    "|     12:120978847:A:C    |  1/0  |  0/0  |  1/0  |"
   ]
  },
  {
   "cell_type": "markdown",
   "id": "755fae24",
   "metadata": {
    "kernel": "SoS"
   },
   "source": [
    "**Q3. Based only on genotypes, could the variant 12:120978847:A:C be the causal risk-allele?**"
   ]
  },
  {
   "cell_type": "markdown",
   "id": "8810bfe8",
   "metadata": {
    "kernel": "SoS"
   },
   "source": [
    "No idea"
   ]
  },
  {
   "cell_type": "markdown",
   "id": "47dc87fa",
   "metadata": {
    "kernel": "SoS"
   },
   "source": [
    "5. Variant Annotation. In order to identify causal variants, we want to annotate the variants with function and allele frequencies from across the world. Follow the annotation steps A-E.\n",
    "    1. Upload VCF to https://www.ensembl.org/Homo_sapiens/Tools/VEP.\n",
    "    <img src=\"images/vep1.jpg\" style=\"max-height:400px;\">\n",
    "    2. Open ‘Variants and frequency data’ and check ‘gnomAD (genomes) allele frequencies’ in the ‘Frequency data for co-located variants’ panel\n",
    "    <img src=\"images/vep2.jpg\" style=\"max-height:300px;\">\n",
    "    3. Open ‘Additional annotations’ and check ‘Phenotypes’\n",
    "    <img src=\"images/vep3.jpg\" style=\"max-height:200px;\">\n",
    "    4. Open ‘Filtering options’ and restrict results to ‘Show one selected consequence per variant’. Press ‘Run’\n",
    "    <img src=\"images/vep4.jpg\" style=\"max-height:300px;\">\n",
    "    Now, the variants are getting annotated - this can take a little while...\n",
    "    \n",
    "    5. When the job is ready press '[View results]' and press ‘All’ variants (top right circle)\n",
    "    <img src=\"images/vep5.jpg\" style=\"max-height:150px;\">\n",
    "6. Now look at the annotation for the variant 12:120978847:A:C. Focus on the columns:\n",
    "    1. 'Consequence' :  functional consequence\n",
    "    2. 'gnomAD' : Allele frequencies in other populations (you can hover cursor on column name to get additional information)\n",
    "    3. 'Clinical significance' and 'Associated phenotypes': The clinical associations"
   ]
  },
  {
   "cell_type": "markdown",
   "id": "1d1b30a0",
   "metadata": {
    "kernel": "SoS"
   },
   "source": [
    "**Q4. Based on the annotation, do you think 12:120978847:A:C is the causal MODY-variant?**"
   ]
  },
  {
   "cell_type": "markdown",
   "id": "1738fd56",
   "metadata": {
    "kernel": "SoS"
   },
   "source": [
    "*Not really.*"
   ]
  },
  {
   "cell_type": "markdown",
   "id": "2da39a35",
   "metadata": {
    "kernel": "SoS"
   },
   "source": [
    "**Q5. Which variant do you find most likely to be the causal risk variant, based on both genotypes and annotation? Add your variant and respective genotypes to the table below. (hint: try to sort by clinical significance)**"
   ]
  },
  {
   "cell_type": "markdown",
   "id": "049e1f82",
   "metadata": {
    "kernel": "SoS"
   },
   "source": [
    "|          Variant        |     HG00403    |     HG00404    |     HG00405    |\n",
    "|:-----------------------:|:--------------:|:--------------:|:--------------:|\n",
    "|       ?      |  ?  |  ?  |  ?  |"
   ]
  },
  {
   "cell_type": "markdown",
   "id": "4bedeeba",
   "metadata": {
    "kernel": "SoS"
   },
   "source": [
    "**Q6. Assuming MODY-prevalence of 0.1%, what is the maximum allele frequency you could find of a full penetrance dominant MODY-variant?**\n",
    "Prevalence of MODY due to this variant:\n",
    "$$Prevalence = P(heterozygous) + P(homozygous) = 2 \\cdot AF \\cdot (1-AF) + AF^2$$\n",
    "Modify the code below to find the maximum allele frequency which can lead to a MODY-prevalence of 0.1%"
   ]
  },
  {
   "cell_type": "code",
   "execution_count": 3,
   "id": "1969ded8",
   "metadata": {
    "kernel": "R"
   },
   "outputs": [
    {
     "data": {
      "text/html": [
       "'MODY prevalence due to this variant= 9.75%'"
      ],
      "text/latex": [
       "'MODY prevalence due to this variant= 9.75\\%'"
      ],
      "text/markdown": [
       "'MODY prevalence due to this variant= 9.75%'"
      ],
      "text/plain": [
       "[1] \"MODY prevalence due to this variant= 9.75%\""
      ]
     },
     "metadata": {},
     "output_type": "display_data"
    }
   ],
   "source": [
    "# Chosen allele frequency\n",
    "AF=0.05 # <- change this\n",
    "\n",
    "# Calculate prevalence from chosen allele frequency\n",
    "prevalence=2*AF*(1-AF)+AF^2\n",
    "\n",
    "# Print out prevalence in percentage:\n",
    "paste0('MODY prevalence due to this variant= ', prevalence*100, '%')"
   ]
  },
  {
   "cell_type": "markdown",
   "id": "cdbff884",
   "metadata": {
    "kernel": "SoS"
   },
   "source": [
    "**Bonus: How could the variant have been identified without the ‘clinical significance’ information?**"
   ]
  },
  {
   "cell_type": "markdown",
   "id": "7c63c74f",
   "metadata": {
    "kernel": "SoS"
   },
   "source": [
    "*Double-click this text to write your answer*"
   ]
  },
  {
   "cell_type": "markdown",
   "id": "a8f67e56",
   "metadata": {
    "kernel": "SoS"
   },
   "source": [
    "# Continue with the next exercise \n",
    "[\"Exercise 4 - Rare form of Familial Hypercholesterolemia (FH)\"](./4WESfh.ipynb)"
   ]
  }
 ],
 "metadata": {
  "kernelspec": {
   "display_name": "SoS",
   "language": "sos",
   "name": "sos"
  },
  "language_info": {
   "codemirror_mode": "sos",
   "file_extension": ".sos",
   "mimetype": "text/x-sos",
   "name": "sos",
   "nbconvert_exporter": "sos_notebook.converter.SoS_Exporter",
   "pygments_lexer": "sos"
  },
  "sos": {
   "kernels": [
    [
     "R",
     "ir",
     "R",
     "",
     ""
    ]
   ],
   "panel": {
    "displayed": false,
    "height": 0
   },
   "version": "0.24.1"
  }
 },
 "nbformat": 4,
 "nbformat_minor": 5
}
