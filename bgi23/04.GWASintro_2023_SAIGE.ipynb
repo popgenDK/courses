{
 "cells": [
  {
   "cell_type": "markdown",
   "id": "d2d2a76e",
   "metadata": {
    "kernel": "SoS"
   },
   "source": [
    "# Guide to the notebook\n",
    "\n",
    "## Interface\n",
    "\n",
    "- There is a console on the left to create cells temporarily for testing purpose. You can toggle it by click the **Console** button on the top toolbar.\n",
    "- Click a cell and press **Ctrl-Enter** or **Cmd-Ender** will exectute the commands in cell\n",
    "- If you get an unexpected result try to rerun the cell"
   ]
  },
  {
   "cell_type": "markdown",
   "id": "516b4548",
   "metadata": {
    "kernel": "Bash"
   },
   "source": [
    "# Practical - Genome-Wide Association study (GWAS)\n",
    "\n",
    "This exercise is about Genome-Wide Association Studies (GWAS): how to perform one and some pitfalls to look out for. \n",
    "\n",
    "It will be conducted from the command line (bash terminal) using the program PLINK2 and using R for visualization. \n",
    "\n",
    "For a detailed description of the Plink program click [here (original program)](http://zzz.bwh.harvard.edu/plink/) and [here (updated version of the program)](https://www.cog-genomics.org/plink/1.9/).\n",
    "\n",
    "The exercise will be carried out at the linux server via this notebook. This notebook consist of blocks that are either text (like this block), a bash terminal in linux with some code (says \"Bash\" in the upper right corner) or an R terminal with some code (says R in the upper right corner).\n",
    "To excecute the Bash and R code click on the relevant block with your mouse and then type Ctrl-Enter (hold down control bottom and then press enter). NB if you are a mac user you should instead type cmd-Enter. \n",
    "\n",
    "You can change the code and then run again with Crtl-Enter (Cmd-Enter on mac computers). \n",
    "\n",
    "\n",
    "\n",
    "\n",
    "## Preparation - copy the data to your folder\n",
    "\n",
    "\n",
    "First, list the content of your home folder. You do this in Bash by running the commands below. Click the box and run the commmand (Crtl-Enter on windows/linuz, Cmd-Enter on Mac). First run migt give you an error; just ignore that and rerun:"
   ]
  },
  {
   "cell_type": "code",
   "execution_count": null,
   "id": "8db04993",
   "metadata": {
    "kernel": "Bash"
   },
   "outputs": [],
   "source": [
    "# this is a comment. Comments starts with a # and the text is not run as code.\n",
    "\n",
    "# command to go to your home\n",
    "cd ~/\n",
    "\n",
    "# command to view all the files and folders in your home\n",
    "ls"
   ]
  },
  {
   "cell_type": "markdown",
   "id": "262cfcc9",
   "metadata": {
    "kernel": "SoS"
   },
   "source": [
    "Now download a compressed version of the data that we will be analyzing today. You can do this with the following commands"
   ]
  },
  {
   "cell_type": "code",
   "execution_count": null,
   "id": "8fc296ca",
   "metadata": {
    "kernel": "Bash"
   },
   "outputs": [],
   "source": [
    "# copy data to your folder\n",
    "cp /course/novo23/gwas/GWASex.tar.gz .\n",
    "# view all files in folder\n",
    "ls"
   ]
  },
  {
   "cell_type": "markdown",
   "id": "d9d95d46",
   "metadata": {
    "kernel": "SoS"
   },
   "source": [
    "Next uncompress the files and list the content of the folder to see what files appeared:"
   ]
  },
  {
   "cell_type": "code",
   "execution_count": null,
   "id": "8df2648d",
   "metadata": {
    "kernel": "Bash"
   },
   "outputs": [],
   "source": [
    "# uncompress the files\n",
    "tar -xf GWASex.tar.gz\n",
    "\n",
    "# view all files in folder\n",
    "ls"
   ]
  },
  {
   "cell_type": "markdown",
   "id": "2eb37725",
   "metadata": {
    "kernel": "SoS"
   },
   "source": [
    "Your folder should now contain a subfolder called data, containing the all files you will use in this exercise.\n",
    "\n",
    "Some of the files are data files, but note that the folder also contain a file called plink.plot.R, which contain R code for plotting your results.\n",
    "\n",
    "List the content of the data folder"
   ]
  },
  {
   "cell_type": "code",
   "execution_count": null,
   "id": "052064b9",
   "metadata": {
    "kernel": "Bash"
   },
   "outputs": [],
   "source": [
    "ls data/"
   ]
  },
  {
   "cell_type": "markdown",
   "id": "c68670a7",
   "metadata": {
    "kernel": "SoS"
   },
   "source": [
    "## Exercise A: running your first GWAS\n",
    "\n",
    "Briefly, the GWAS data consist of SNP genotyping data from 356 individuals of which some have a certain disease (cases) and the rest do not (controls).\n",
    "\n",
    "To make sure the GWAS analyses will run fast the main data file (gwa.bed) is in a binary format, which is not very reader friendly. \n",
    "\n",
    "However, PLINK (the program we will use to run the analyses) will print summary statistics about the data (number of SNPs, number of individuals, number of cases, number of controls etc) to the screen when you run an analysis.\n",
    "\n",
    "Also, there are two additional data files, gwa.bim and gwa.fam, which are not in binary format and which contains information about the SNPs in the data and the individuals in the data, respectively. \n",
    "\n",
    "(You can read more about the data format in the manuals linked to above - but for now this is all you need to know).\n",
    "\n",
    "Let's look inside the .fam file, which contains information about the individuals. The head and tail commands shows the first and last 10 lines of the file. Try to run them:"
   ]
  },
  {
   "cell_type": "code",
   "execution_count": null,
   "id": "7be20414",
   "metadata": {
    "kernel": "Bash"
   },
   "outputs": [],
   "source": [
    "#head prints the 10 lines\n",
    "head data/gwa.fam\n",
    "#tail prints the last 10 lines\n",
    "tail data/gwa.fam"
   ]
  },
  {
   "cell_type": "markdown",
   "id": "f9dd5d1e",
   "metadata": {
    "kernel": "SoS"
   },
   "source": [
    "Let's try to perform a GWAS of our data, i.e. test each SNP for association with the disease.\n",
    "\n",
    "And let's try to do it using logistic regression for case-control data\n",
    "\n",
    "The PLINK option \"--bfile data/gwa\"\" will specify that the data PLINK should analyse are the files in folder called \"data\" with the prefix \"gwa\".\n",
    "\n",
    "\"—logistic\" specifies that we want to perform GWAS using logistic regressoin\n",
    "\n",
    "\"—adjust\" tells PLINK to output a file that includes p-values that are adjusted for multiple testing using Bonferroni correction as well as other fancier methods.\n",
    "\n",
    "\"—autosome\" only use autosomes and not X,Y,MT\n",
    "\n",
    "\n",
    "Now perform the logistic regression on all the SNPs int the dataset using these options in PLINK by typing:"
   ]
  },
  {
   "cell_type": "code",
   "execution_count": null,
   "id": "e48dbf9f",
   "metadata": {
    "kernel": "Bash"
   },
   "outputs": [],
   "source": [
    "plink  --bfile data/gwa --logistic --adjust --autosome"
   ]
  },
  {
   "cell_type": "markdown",
   "id": "d3ed2799",
   "metadata": {
    "kernel": "Bash"
   },
   "source": [
    "Take a look at the text PLINK prints to your screen. Specifically, note the\n",
    "\n",
    " - number of SNPs\n",
    "\n",
    " - number of individuals\n",
    "\n",
    " - number of cases and controls\n",
    " \n"
   ]
  },
  {
   "cell_type": "markdown",
   "id": "a4086e16",
   "metadata": {
    "kernel": "Bash"
   },
   "source": [
    "Next, plot the results of the GWAS using the following command run in R\n",
    "\n"
   ]
  },
  {
   "cell_type": "code",
   "execution_count": null,
   "id": "e3980253",
   "metadata": {
    "kernel": "R"
   },
   "outputs": [],
   "source": [
    "# source R function for plotting\n",
    "source(\"/course/novo23/scripts/newPlotPlink.R\")\n",
    "\n",
    "# plot the results (plink.assoc.logistic is the output file from plink)\n",
    "plotPlink(\"~/plink.assoc.logistic\")"
   ]
  },
  {
   "cell_type": "markdown",
   "id": "f98b8efe",
   "metadata": {
    "kernel": "Bash"
   },
   "source": [
    "This should give you several plots. If nothing shows up, rerun the cell.\n",
    "\n",
    "For now just look at the Manhattan plot (the first plot). A bonferroni corrected p-value threshold based on an initial p-value threshold of 0.05 is shown as a dotted line on the plot. Explain how this threshold was reached and calculate the exact threshold using your knowledge of how many SNPs you have in your dataset (NB if you want to calculate log10 in R you can use the function log10).\n",
    "\n",
    "You can perform calculations by changing the R code below (and running it by typing Ctrl-enter as before)."
   ]
  },
  {
   "cell_type": "code",
   "execution_count": null,
   "id": "0b6829f1",
   "metadata": {
    "kernel": "R"
   },
   "outputs": [],
   "source": [
    "## change the code for your calculations (random numbers showed)\n",
    "\n",
    "4.5 / 1200000"
   ]
  },
  {
   "cell_type": "markdown",
   "id": "723c9040",
   "metadata": {
    "kernel": "Bash"
   },
   "source": [
    "\n",
    "- Using this threshold, does any of the SNPs in your dataset seem to be associated with the disease?\n",
    "\n",
    "- Do your results seem plausible? Why/why not?\n",
    "\n",
    "\n",
    "## Exercise B: checking if it went OK using QQ-plot\n",
    "\n",
    "Now look at the QQ-plot that you already generated (second plot above). Here the red line is the x=y line and the thin curves are a confidence band.\n",
    "\n",
    "- What does this plot suggest and why?\n",
    "\n",
    "\n",
    "\n"
   ]
  },
  {
   "cell_type": "markdown",
   "id": "897a49eb",
   "metadata": {
    "kernel": "Bash"
   },
   "source": [
    "## Exercise C: QC your data\n",
    "\n",
    "As you can see, a lot can go wrong if you do not check the quality of your data before running your GWAS! So if you want meaningful/useful output you always have to run a lot of quality checks (QC) before running the association tests. Will will try to go through some useful QC steps now.\n",
    "\n",
    "One potential problem in association studies is spurious relatedness, where some of the individuals in the sample are closely related. Closely related individuals can be inferred with PLINK using the following command, which only uses autosomal SNPs with a minor allele frequency > 5%:\n",
    "\n"
   ]
  },
  {
   "cell_type": "code",
   "execution_count": null,
   "id": "1fb0e888",
   "metadata": {
    "kernel": "Bash"
   },
   "outputs": [],
   "source": [
    "plink  --bfile data/gwa --genome --autosome --maf 0.05"
   ]
  },
  {
   "cell_type": "markdown",
   "id": "74dad32a",
   "metadata": {
    "kernel": "Bash"
   },
   "source": [
    "The results can be summarised in a plot with the following R code and gives the names of potential related pairs: "
   ]
  },
  {
   "cell_type": "code",
   "execution_count": null,
   "id": "3f8f082a",
   "metadata": {
    "kernel": "R",
    "scrolled": true
   },
   "outputs": [],
   "source": [
    "# source R function for plotting\n",
    "source(\"/course/novo23/scripts/newPlotPlink.R\")\n",
    "\n",
    "# plot the results (plink.genome is the output file from plink)\n",
    "plotPlink(\"~/plink.genome\")\n"
   ]
  },
  {
   "cell_type": "markdown",
   "id": "00fe64b3",
   "metadata": {
    "kernel": "Bash"
   },
   "source": [
    "The figure shows estimates of the relatedness for all pairs of individuals.\n",
    "\n",
    "For each pair k1 is the proportion of the genome where the pair shares 1 of their alleles identical-by-descent (IBD) and k2 is the proportion of the genome where the pair shares both their alleles IBD.\n",
    "\n",
    "- The expected (k1,k2) values for simple relationships are shown in the figure. Are any of the individuals in your dataset closely related?\n",
    "\n",
    "- What assumption in association studies is violated when individuals are related? \n",
    "\n",
    "- And last but not least: how would you recognize if the same person is included twice? (this actually happens often!)\n",
    "\n",
    "\n",
    "We usually only remove 1. or 2. degree relatives (MZ,PO,FS,HS) from the analysis or we use a mixed model to take the relatedness into account. "
   ]
  },
  {
   "cell_type": "markdown",
   "id": "91e81e7c",
   "metadata": {
    "kernel": "Bash"
   },
   "source": [
    "Principal component analysis (PCA) and a very similar methods called multidimensional scaling is also often used to reveal problems in the data.\n",
    "\n",
    "Such analyses can be used to project all the genotype information (e.g. 500,000 marker sites) down to a low number of dimensions e.g. two.\n",
    "\n",
    "Multidimensional scaling based on your data can be performed with PLINK as follows (the option --mind is used to remove the few individuals which have more than 20% missingness):"
   ]
  },
  {
   "cell_type": "code",
   "execution_count": null,
   "id": "cf2b3f4d",
   "metadata": {
    "kernel": "Bash"
   },
   "outputs": [],
   "source": [
    "#defailt plink --bfile data/gwa --cluster --mds-plot 2 --mind 0.2 \n",
    "plink --bfile data/gwa --cluster --mds-plot 2 --mind 0.2 "
   ]
  },
  {
   "cell_type": "markdown",
   "id": "d8419e8e",
   "metadata": {
    "kernel": "Bash"
   },
   "source": [
    "Try to plot the results in R:"
   ]
  },
  {
   "cell_type": "code",
   "execution_count": null,
   "id": "64db65a1",
   "metadata": {
    "kernel": "R"
   },
   "outputs": [],
   "source": [
    "# source R function for plotting\n",
    "source(\"/course/novo23/scripts/newPlotPlink.R\")\n",
    "\n",
    "# plot the results (plink.mds is the output file from plink)\n",
    "plotPlink(\"~/plink.mds\",fam=\"~/data/gwa.fam\")"
   ]
  },
  {
   "cell_type": "markdown",
   "id": "5c5b7446",
   "metadata": {
    "kernel": "R"
   },
   "source": [
    "It shows the first two dimensions and each individual is represented by a point, which is colored according to the individual's disease status (1=control, 2=case).\n",
    "\n",
    "Clustering of cases and controls seperately is an indication of batch bias. \n",
    "- Do you see such clustering? \n",
    "- What else could explain such clustering?\n",
    "\n",
    "Let's try to fix the issue by filtering individuals and SNPs. We can remove many of the error prone SNPs and individuals by removing\n",
    "\n",
    "- SNPs that are not in HWE (Hardy weinberg Equilibrium) (option --hwe)\n",
    "\n",
    "- the rare SNPs (difficult to genotype and very error prone) (option --maf)\n",
    "\n",
    "- SNPs with lots of missing data (why?) (option --geno)\n",
    "\n",
    "**Try to redo the above MDS analysis by adding the additional filters**\n",
    "\n",
    "--hwe 0.0001 --maf 0.05 --geno 0.05\n",
    "\n",
    "which remove sites not in HWE (p-value 0.0001), low minor allele frequency (<5%), high genotype missingness (>5%) (do it by changing the code above and running it again).\n",
    "\n",
    "\n",
    "- Can you now see differences between cases and controls?\n",
    "\n",
    "Let us try to rerun an association analysis with these additional filters (and a new output name so we won't overwrite our old results). \n"
   ]
  },
  {
   "cell_type": "code",
   "execution_count": null,
   "id": "e4541d8a",
   "metadata": {
    "kernel": "Bash"
   },
   "outputs": [],
   "source": [
    "plink --bfile data/gwa --logistic --autosome --out assoc2 --hwe 0.0001 \\\n",
    "--maf 0.05 --mind 0.55 --geno 0.05 "
   ]
  },
  {
   "cell_type": "markdown",
   "id": "1a58148d",
   "metadata": {
    "kernel": "Bash"
   },
   "source": [
    "Now try to plot the manhattan plot and the qqplot in R:"
   ]
  },
  {
   "cell_type": "code",
   "execution_count": null,
   "id": "001c9b1e",
   "metadata": {
    "kernel": "R"
   },
   "outputs": [],
   "source": [
    "# source R function for plotting\n",
    "source(\"/course/novo23/scripts/newPlotPlink.R\")\n",
    "\n",
    "# plot the results (plink.genome is the output file from plink)\n",
    "# print out the SNP with a p-value lower than 1e-5 (0.00001)\n",
    "plotPlink(\"~/assoc2.assoc.logistic\",pval=1e-5)\n"
   ]
  },
  {
   "cell_type": "markdown",
   "id": "aa37dc27",
   "metadata": {
    "kernel": "R"
   },
   "source": [
    "- How does the QQ plot look now - any signs of inflation?\n",
    "- How many genome wide significant SNPs?\n",
    "- Information about the most significant SNPs is printed above the manhatten plot. Identify the chromosome, physical position (BP), Odds-ratio and SNP name. \n",
    "\n",
    "\n",
    "Let's try to plot the region with the most significant SNP in a 1 Mb window around this SNP:"
   ]
  },
  {
   "cell_type": "code",
   "execution_count": null,
   "id": "d2478d46",
   "metadata": {
    "kernel": "R"
   },
   "outputs": [],
   "source": [
    "# read in data in R\n",
    "source(\"/course/novo23/scripts/newPlotPlink.R\")\n",
    "\n",
    "# read in data in R\n",
    "d<-read.table(\"~/assoc2.assoc.logistic\",head=T,as.is=T)\n",
    "\n",
    "# select sites to plot, 0.5Mb on either side of SNP\n",
    "region <- subset(d,CHR==4 & BP > 119229342-5e5 &  BP < 119229342+5e5)\n",
    "\n",
    "#plot\n",
    "locusZoomNoLD(region$P,chr=4,pos=region$BP,main=\"LocusZoom\")"
   ]
  },
  {
   "cell_type": "markdown",
   "id": "f60983d8",
   "metadata": {
    "kernel": "R"
   },
   "source": [
    "By itself the above signal is not genome wide significant. \n",
    "- what would be the next step\n",
    "\n",
    "Assuming the association signal is due to a single causal SNP\n",
    "- How many good candidates for causal SNPs are there?\n",
    "- Which gene is the most likely gene that is affected by the variant?\n",
    "- How can we determine, which variant (and which gene) is the causal ones?"
   ]
  },
  {
   "cell_type": "markdown",
   "id": "1cb82457",
   "metadata": {
    "kernel": "R"
   },
   "source": [
    "# linear mixed model\n",
    "Below you will apply a method called saige that implemented linear mixed model for GWAS"
   ]
  },
  {
   "cell_type": "code",
   "execution_count": null,
   "id": "4862bdeb",
   "metadata": {
    "kernel": "Bash"
   },
   "outputs": [],
   "source": [
    "cp -r /home/jupyter-bgi23_siyang/SAIGE .\n",
    "dir1=`pwd`/SAIGE\n",
    "cd ~/\n",
    "\n",
    "mkdir -p SAIGE_output"
   ]
  },
  {
   "cell_type": "markdown",
   "id": "958b2ef2",
   "metadata": {
    "kernel": "Bash"
   },
   "source": [
    "# Step0 :Format the data as needed\n"
   ]
  },
  {
   "cell_type": "code",
   "execution_count": null,
   "id": "831d2980",
   "metadata": {
    "kernel": "R"
   },
   "outputs": [],
   "source": [
    "##Format the fam file\n",
    "library(data.table)\n",
    "data<-fread(\"data/gwa.fam\",header=F)\n",
    "data$V2<- data$V1\n",
    "write.table (data, file =\"data/gwa.fam\", sep =\" \", col.names =FALSE, quote =FALSE,row.names = FALSE,)\n",
    "\n",
    "\n",
    "##Format the phenotype \n",
    "data1<-data[,c(1,6)]\n",
    "colnames(data1)<-c(\"IID\",\"y_binary\")\n",
    "data1$y_binary<-data1$y_binary-1\n",
    "write.table (data1, file =\"data/pheno.txt\", sep =\" \", col.names =TRUE, quote =FALSE,row.names = FALSE,)"
   ]
  },
  {
   "cell_type": "markdown",
   "id": "fe8c9e4d",
   "metadata": {
    "kernel": "R"
   },
   "source": [
    "# Step1: fitting the null logistic/linear mixed model\n",
    "For binary traits, a null logistic mixed model will be fitted (–traitType=binary).\n",
    "\n",
    "For quantitative traits, a null linear mixed model will be fitted (–traitType=quantitative) and needs to be inverse normalized (–invNormalize=TRUE)"
   ]
  },
  {
   "cell_type": "code",
   "execution_count": null,
   "id": "0621fe6f",
   "metadata": {
    "kernel": "Bash"
   },
   "outputs": [],
   "source": [
    "Rscript ${dir1}/extdata/step1_fitNULLGLMM.R  \\\n",
    "    --plinkFile=./data/gwa  \\\n",
    "    --phenoFile=./data/pheno.txt \\\n",
    "    --phenoCol=y_binary \\\n",
    "    --sampleIDColinphenoFile=IID \\\n",
    "    --traitType=binary        \\\n",
    "    --outputPrefix=./SAIGE_output/example_binary \\\n",
    "    --isCovariateOffset=FALSE \\\n",
    "    --nThreads=4    \\\n",
    "    --IsOverwriteVarianceRatioFile=TRUE"
   ]
  },
  {
   "cell_type": "markdown",
   "id": "0fd6cf14",
   "metadata": {
    "kernel": "Calysto Bash"
   },
   "source": [
    "# \n",
    "See more parameter explanations: Rscript /home/jupyter-bgi23s22/SAIGE/extdata/step1_fitNULLGLMM.R --help"
   ]
  },
  {
   "cell_type": "markdown",
   "id": "7aaed0d2",
   "metadata": {
    "kernel": "Calysto Bash"
   },
   "source": [
    "# Step 2: performing single-variant association tests\n",
    "For binary traits, saddle point approximation is used to account for case-control imbalance.\n",
    "\n",
    "For binary traits, use –is_output_moreDetails=TRUE to output heterozygous and homozygous counts as well as allele frequencies in cases and controls\n",
    "\n",
    "–is_Firth_beta=TRUE and –pCutoffforFirth=0.05. The effect sizes of markers with p-value <= pCutoffforFirth will be estimated through the Firth’s Bias-Reduced Logistic Regression.\n",
    "\n",
    "If LOCO=TRUE (by default), –chrom MUST be specified, so genotype/dosage file should only contain one chromosome"
   ]
  },
  {
   "cell_type": "code",
   "execution_count": null,
   "id": "fe2eac6b",
   "metadata": {
    "kernel": "Bash"
   },
   "outputs": [],
   "source": [
    "Rscript ${dir1}/extdata/step2_SPAtests.R        \\\n",
    "    --bedFile=./data/gwa.bed       \\\n",
    "    --bimFile=./data/gwa.bim       \\\n",
    "    --famFile=./data/gwa.fam       \\\n",
    "    --AlleleOrder=alt-first \\\n",
    "    --SAIGEOutputFile=./SAIGE_output/SAIGE_GWAS.txt \\\n",
    "    --minMAF=0 \\\n",
    "    --minMAC=20 \\\n",
    "    --GMMATmodelFile=./SAIGE_output/example_binary.rda \\\n",
    "    --varianceRatioFile=./SAIGE_output/example_binary.varianceRatio.txt   \\\n",
    "    --is_output_moreDetails=TRUE    \\\n",
    "    --is_Firth_beta=TRUE    \\\n",
    "    --pCutoffforFirth=0.05  \\\n",
    "    --LOCO=FALSE    \\\n",
    "    --is_output_moreDetails=TRUE"
   ]
  },
  {
   "cell_type": "markdown",
   "id": "3ebe85f8",
   "metadata": {
    "kernel": "Calysto Bash"
   },
   "source": [
    "# View the result of SAIGE-GWAS\n"
   ]
  },
  {
   "cell_type": "code",
   "execution_count": null,
   "id": "5d191862",
   "metadata": {
    "kernel": "Bash"
   },
   "outputs": [],
   "source": [
    "head ./SAIGE_output/SAIGE_GWAS.txt"
   ]
  }
 ],
 "metadata": {
  "kernelspec": {
   "display_name": "SoS",
   "language": "sos",
   "name": "sos"
  },
  "language_info": {
   "codemirror_mode": "sos",
   "file_extension": ".sos",
   "mimetype": "text/x-sos",
   "name": "sos",
   "nbconvert_exporter": "sos_notebook.converter.SoS_Exporter",
   "pygments_lexer": "sos"
  },
  "sos": {
   "kernels": [
    [
     "Bash",
     "bash",
     "bash",
     "",
     "shell"
    ],
    [
     "R",
     "ir",
     "R",
     "#DCDCDA",
     "r"
    ]
   ],
   "panel": {
    "displayed": false,
    "height": 0
   },
   "version": "0.24.1"
  }
 },
 "nbformat": 4,
 "nbformat_minor": 5
}
