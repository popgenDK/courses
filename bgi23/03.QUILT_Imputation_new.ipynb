{
 "cells": [
  {
   "cell_type": "code",
   "execution_count": null,
   "id": "18f7d4b6",
   "metadata": {
    "kernel": "Bash"
   },
   "outputs": [],
   "source": [
    "mkdir -p ./QUILT/package_2021_01_15A/\n",
    "cp -r /home/jupyter-bgi23_siyang/software/QUILT/package_2021_01_15A/* ./QUILT/package_2021_01_15A/\n",
    "cd QUILT"
   ]
  },
  {
   "cell_type": "code",
   "execution_count": null,
   "id": "01cda209",
   "metadata": {
    "kernel": "Bash"
   },
   "outputs": [],
   "source": [
    "/home/jupyter-bgi23_siyang/software/QUILT/QUILT.R -h"
   ]
  },
  {
   "cell_type": "markdown",
   "id": "5b17fd21",
   "metadata": {
    "kernel": "Bash"
   },
   "source": [
    "# Input formats\n",
    "Input Reference panel. IMPUTE format hap and legend format files with reference haplotypes. These can be made from haplotype VCFs using bcftools convert --haplegendsample. Alternatively, they can be made manually. The haplotype file is a gzipped file with no header and no rownames, with one row per SNP, with one column per reference haplotype, space separated, and values of 0 (ref) and 1 (alt). The legend file is a gzipped file with no rownames, a header file including position for the physical position in 1 based coordinates, a0 for the reference allele, and a1 for the alternate allele. An optional sample file and file with samples to exclude can be useful for changing who is used in the reference panel.\n",
    "\n",
    "Genetic map. File with genetic map information, with 3 white-space delimited columns giving position (1-based), genetic rate map in cM/Mbp, and genetic map in cM\n",
    "\n",
    "Bams. Given as a bamlist (i.e. a file with one row per sample, the path to the bam)\n",
    "\n",
    "(Optional) Truth data. phasefile and posfile. Useful for understanding performance. Phasefile has a header row with a name for each sample, matching what is found in the bam file. File is tab separated, one subject per column, with 0 = ref and 1 = alt, separated by a vertical bar |, e.g. 0|0 or 0|1. Note therefore this file has one more row than posfile which has no header. For posfile, this is a file with positions of where to impute, lining up one-to-one with the SNPs of phasefile. File is tab seperated with no header, one row per SNP, with col 1 = chromosome, col 2 = physical position (sorted from smallest to largest), col 3 = reference base, col 4 = alternate base. Bases are capitalized. Example first row: 11000AG"
   ]
  },
  {
   "cell_type": "code",
   "execution_count": null,
   "id": "8c888c13",
   "metadata": {
    "kernel": "Bash"
   },
   "outputs": [],
   "source": [
    "cat ./package_2021_01_15A/bamlist.1.0.txt"
   ]
  },
  {
   "cell_type": "code",
   "execution_count": null,
   "id": "b8d5ccf7",
   "metadata": {
    "kernel": "Bash"
   },
   "outputs": [],
   "source": [
    "#reference_haplotype_file\n",
    "zcat ./package_2021_01_15A/ALL.chr20_GRCh38.genotypes.20170504.chr20.2000001.2100000.noNA12878.hap.gz|head -n 5"
   ]
  },
  {
   "cell_type": "code",
   "execution_count": null,
   "id": "69245557",
   "metadata": {
    "kernel": "Bash"
   },
   "outputs": [],
   "source": [
    "#reference_legend_file\n",
    "zcat ./package_2021_01_15A/ALL.chr20_GRCh38.genotypes.20170504.chr20.2000001.2100000.noNA12878.legend.gz|head -n 5"
   ]
  },
  {
   "cell_type": "code",
   "execution_count": null,
   "id": "bd69d23b",
   "metadata": {
    "kernel": "Bash"
   },
   "outputs": [],
   "source": [
    "#genetic_map_file\n",
    "zcat ./package_2021_01_15A/CEU-chr20-final.b38.txt.gz|head -n 5"
   ]
  },
  {
   "cell_type": "code",
   "execution_count": null,
   "id": "e4deeb24",
   "metadata": {
    "kernel": "Bash"
   },
   "outputs": [],
   "source": [
    "#Run QUILT\n",
    "\n",
    "rm -r -f quilt_output\n",
    "/home/jupyter-bgi23_siyang/software/QUILT/QUILT.R  \\\n",
    "--outputdir=quilt_output \\\n",
    "--chr=chr20 \\\n",
    "--regionStart=2000001 \\\n",
    "--regionEnd=2100000 \\\n",
    "--buffer=10000 \\\n",
    "--bamlist=package_2021_01_15A/bamlist.1.0.txt \\\n",
    "--posfile=package_2021_01_15A/ALL.chr20_GRCh38.genotypes.20170504.chr20.2000001.2100000.posfile.txt \\\n",
    "--phasefile=package_2021_01_15A/ALL.chr20_GRCh38.genotypes.20170504.chr20.2000001.2100000.phasefile.txt \\\n",
    "--reference_haplotype_file=package_2021_01_15A/ALL.chr20_GRCh38.genotypes.20170504.chr20.2000001.2100000.noNA12878.hap.gz \\\n",
    "--reference_legend_file=package_2021_01_15A/ALL.chr20_GRCh38.genotypes.20170504.chr20.2000001.2100000.noNA12878.legend.gz \\\n",
    "--genetic_map_file=package_2021_01_15A/CEU-chr20-final.b38.txt.gz \\\n",
    "--nGen=100 \\\n",
    "--save_prepared_reference=TRUE"
   ]
  },
  {
   "cell_type": "markdown",
   "id": "4bf8dd00",
   "metadata": {
    "kernel": "Bash"
   },
   "source": [
    "# output formats\n",
    "Output VCF with both SNP annotation information (see below) and per-sample genotype information. Per-sample genotype information includes the following entries\n",
    "\n",
    "GT Phased genotypes Phased genotype, where each allele is the rounded per-haplotype posterior probability (HD below)\n",
    "\n",
    "GP Genotype posteriors Posterior probabilities of the three genotypes given the data\n",
    "\n",
    "DS Diploid dosage Posterior expectation of the diploid genotype i.e. the expected number of copies of the alternate allele\n",
    "\n",
    "HD Haploid dosages Per-haplotype posterior probability of an alternate allele\n",
    "\n",
    "Note that in QUILT, genotype posteriors (GP) and dosages (DS) are taken from the main Gibbs sampling, while the phasing results (GT and HD) are taken from an additional special phasing Gibbs sample. As such, phasing results (GT and HD) might not be consistent with genotype information (GP and DS). If consistency is necessary, note that you can create a consistent GP and DS from HD."
   ]
  },
  {
   "cell_type": "code",
   "execution_count": 11,
   "id": "e74eada4",
   "metadata": {
    "kernel": "Bash"
   },
   "outputs": [
    {
     "name": "stdout",
     "output_type": "stream",
     "text": [
      "##fileformat=VCFv4.0\n",
      "##INFO=<ID=INFO_SCORE,Number=.,Type=Float,Description=\"Info score\">\n",
      "##INFO=<ID=EAF,Number=.,Type=Float,Description=\"Estimated allele frequency\">\n",
      "##INFO=<ID=HWE,Number=.,Type=Float,Description=\"Hardy-Weinberg p-value\">\n",
      "##INFO=<ID=ERC,Number=.,Type=Float,Description=\"Estimated number of copies of the reference allele from the pileup\">\n",
      "##INFO=<ID=EAC,Number=.,Type=Float,Description=\"Estimated number of copies of the alternate allele from the pileup\">\n",
      "##INFO=<ID=PAF,Number=.,Type=Float,Description=\"Estimated allele frequency using the pileup of reference and alternate alleles\">\n",
      "##FORMAT=<ID=GT,Number=1,Type=String,Description=\"Phased genotypes\">\n",
      "##FORMAT=<ID=GP,Number=3,Type=Float,Description=\"Posterior genotype probability of 0/0, 0/1, and 1/1\">\n",
      "##FORMAT=<ID=DS,Number=1,Type=Float,Description=\"Diploid dosage\">\n",
      "##FORMAT=<ID=HD,Number=2,Type=Float,Description=\"Haploid dosages\">\n",
      "#CHROM\tPOS\tID\tREF\tALT\tQUAL\tFILTER\tINFO\tFORMAT\tNA12878HT\tNA12878ONT\tNA12878\n",
      "chr20\t2000004\t.\tC\tT\t.\tPASS\tEAF=0.001;INFO_SCORE=1;HWE=1.00e+00;ERC=0.00277;EAC=1.9917;PAF=0.00139\tGT:GP:DS:HD\t0|0:0.998,0.002,0.000:0.002:0.001,0.001\t0|0:0.998,0.002,0.000:0.002:0.001,0.001\t0|0:0.998,0.002,0.000:0.002:0.001,0.001\n",
      "chr20\t2000071\t.\tC\tG\t.\tPASS\tEAF=0.001;INFO_SCORE=1;HWE=1.00e+00;ERC=0.0056;EAC=3.9832;PAF=0.0014\tGT:GP:DS:HD\t0|0:0.998,0.002,0.000:0.002:0.001,0.001\t0|0:0.998,0.002,0.000:0.002:0.001,0.001\t0|0:0.998,0.002,0.000:0.002:0.001,0.001\n",
      "chr20\t2000112\t.\tT\tC\t.\tPASS\tEAF=0.001;INFO_SCORE=1;HWE=1.00e+00;ERC=0.01268;EAC=4.96195;PAF=0.00255\tGT:GP:DS:HD\t0|0:0.998,0.002,0.000:0.002:0.001,0.001\t0|0:0.998,0.002,0.000:0.002:0.001,0.001\t0|0:0.998,0.002,0.000:0.002:0.001,0.001\n",
      "chr20\t2000163\t.\tT\tC\t.\tPASS\tEAF=0.001;INFO_SCORE=1;HWE=1.00e+00;ERC=0.00427;EAC=2.98718;PAF=0.00143\tGT:GP:DS:HD\t0|0:0.998,0.002,0.000:0.002:0.001,0.001\t0|0:0.998,0.002,0.000:0.002:0.001,0.001\t0|0:0.998,0.002,0.000:0.002:0.001,0.001\n",
      "chr20\t2000171\t.\tC\tT\t.\tPASS\tEAF=0.001;INFO_SCORE=1;HWE=1.00e+00;ERC=0.00751;EAC=3.97747;PAF=0.00188\tGT:GP:DS:HD\t0|0:0.998,0.002,0.000:0.002:0.001,0.001\t0|0:0.998,0.002,0.000:0.002:0.001,0.001\t0|0:0.998,0.002,0.000:0.002:0.001,0.001\n",
      "chr20\t2000184\t.\tC\tT\t.\tPASS\tEAF=0.001;INFO_SCORE=1;HWE=1.00e+00;ERC=0.0137;EAC=3.9589;PAF=0.00345\tGT:GP:DS:HD\t0|0:0.998,0.002,0.000:0.002:0.001,0.001\t0|0:0.998,0.002,0.000:0.002:0.001,0.001\t0|0:0.998,0.002,0.000:0.002:0.001,0.001\n",
      "chr20\t2000203\t.\tC\tT\t.\tPASS\tEAF=0.001;INFO_SCORE=1;HWE=1.00e+00;ERC=0.00511;EAC=3.98467;PAF=0.00128\tGT:GP:DS:HD\t0|0:0.998,0.002,0.000:0.002:0.001,0.001\t0|0:0.998,0.002,0.000:0.002:0.001,0.001\t0|0:0.998,0.002,0.000:0.002:0.001,0.001\n",
      "chr20\t2000285\t.\tG\tT\t.\tPASS\tEAF=0.001;INFO_SCORE=1;HWE=1.00e+00;ERC=0.01158;EAC=2.96525;PAF=0.00389\tGT:GP:DS:HD\t0|0:0.998,0.002,0.000:0.002:0.001,0.001\t0|0:0.998,0.002,0.000:0.002:0.001,0.001\t0|0:0.998,0.002,0.000:0.002:0.001,0.001\n",
      "\n",
      "gzip: stdout: Broken pipe\n"
     ]
    }
   ],
   "source": [
    "cd ~/QUILT/quilt_output\n",
    "zcat quilt.chr20.2000001.2100000.vcf.gz|head -n 20"
   ]
  },
  {
   "cell_type": "code",
   "execution_count": 21,
   "id": "95fd86ce",
   "metadata": {
    "kernel": "Python 3 (ipykernel)"
   },
   "outputs": [
    {
     "data": {
      "image/png": "[encoded data removed]",
      "text/plain": [
       "<Figure size 600x400 with 1 Axes>"
      ]
     },
     "metadata": {},
     "output_type": "display_data"
    }
   ],
   "source": [
    "#INFO_sorce\n",
    "#Visualize distribution of the MACH R2 \n",
    "import sys\n",
    "import gzip\n",
    "import re\n",
    "import pandas as pd\n",
    "import os\n",
    "\n",
    "import matplotlib.pyplot as plt\n",
    "import seaborn as sns\n",
    "\n",
    "\n",
    "if __name__ == \"__main__\":\n",
    "    in_fname = os.path.expanduser(\"~\")+\"/QUILT/quilt_output/quilt.chr20.2000001.2100000.vcf.gz\"\n",
    "\n",
    "    data = []\n",
    "    with gzip.open(in_fname, \"rt\") if in_fname.endswith(\".gz\") else open(in_fname) as f:\n",
    "        for line in f:\n",
    "            if line.startswith(\"#\"):\n",
    "                continue\n",
    "\n",
    "            col = line.strip().split()\n",
    "\n",
    "            # af = float(re.search(\";?AF=([^;]+)\", col[7]).group(1))\n",
    "            m = re.search(\";?INFO_SCORE=([^;]+)\", col[7])\n",
    "            if m:\n",
    "                r2 = float(m.group(1))\n",
    "                data.append(r2)\n",
    "\n",
    "\n",
    "    df = pd.DataFrame({\"R2\": data})\n",
    "\n",
    "    f, ax = plt.subplots(1,1,figsize=(6, 4), constrained_layout=True)\n",
    "    sns.histplot(data=df[df[\"R2\"]!=0], x=\"R2\", kde=True, color=\"b\", ax=ax)\n",
    "    ax.set_yscale(\"log\")\n",
    "    plt.show()\n"
   ]
  },
  {
   "cell_type": "code",
   "execution_count": 19,
   "id": "326839d7",
   "metadata": {
    "kernel": "Bash"
   },
   "outputs": [
    {
     "name": "stdout",
     "output_type": "stream",
     "text": [
      "/home/jupyter-bgi23s22/QUILT/quilt_output\n"
     ]
    }
   ],
   "source": [
    "pwd"
   ]
  }
 ],
 "metadata": {
  "kernelspec": {
   "display_name": "SoS",
   "language": "sos",
   "name": "sos"
  },
  "language_info": {
   "codemirror_mode": "sos",
   "file_extension": ".sos",
   "mimetype": "text/x-sos",
   "name": "sos",
   "nbconvert_exporter": "sos_notebook.converter.SoS_Exporter",
   "pygments_lexer": "sos"
  },
  "sos": {
   "kernels": [
    [
     "Bash",
     "bash",
     "bash",
     "",
     "shell"
    ],
    [
     "Python 3 (ipykernel)",
     "python3",
     "python3",
     "",
     {
      "name": "ipython",
      "version": 3
     }
    ]
   ],
   "panel": {
    "displayed": false,
    "height": 0
   },
   "version": "0.24.1"
  }
 },
 "nbformat": 4,
 "nbformat_minor": 5
}
