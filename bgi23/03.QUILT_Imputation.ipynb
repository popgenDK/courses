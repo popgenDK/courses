{
 "cells": [
  {
   "cell_type": "markdown",
   "id": "544aa7a0",
   "metadata": {},
   "source": [
    "#Check QUILT commands"
   ]
  },
  {
   "cell_type": "code",
   "execution_count": null,
   "id": "b7616fef",
   "metadata": {},
   "outputs": [],
   "source": [
    "mkdir -p ./QUILT/package_2021_01_15A/\n",
    "cp -r /home/jupyter-bgi23_siyang/software/QUILT/package_2021_01_15A/* ./QUILT/package_2021_01_15A/\n",
    "cd QUILT"
   ]
  },
  {
   "cell_type": "code",
   "execution_count": null,
   "id": "99a65a10",
   "metadata": {},
   "outputs": [],
   "source": [
    "/home/jupyter-bgi23_siyang/software/QUILT/QUILT.R -h"
   ]
  },
  {
   "cell_type": "markdown",
   "id": "e0cc06da",
   "metadata": {},
   "source": [
    "# Input formats \n",
    "Input \n",
    "Reference panel. IMPUTE format hap and legend format files with reference haplotypes. These can be made from haplotype VCFs using bcftools convert --haplegendsample. Alternatively, they can be made manually. The haplotype file is a gzipped file with no header and no rownames, with one row per SNP, with one column per reference haplotype, space separated, and values of 0 (ref) and 1 (alt). The legend file is a gzipped file with no rownames, a header file including position for the physical position in 1 based coordinates, a0 for the reference allele, and a1 for the alternate allele. An optional sample file and file with samples to exclude can be useful for changing who is used in the reference panel.\n",
    "\n",
    "Genetic map. File with genetic map information, with 3 white-space delimited columns giving position (1-based), genetic rate map in cM/Mbp, and genetic map in cM\n",
    "\n",
    "Bams. Given as a bamlist (i.e. a file with one row per sample, the path to the bam)\n",
    "\n",
    "(Optional) Truth data. phasefile and posfile. Useful for understanding performance. Phasefile has a header row with a name for each sample, matching what is found in the bam file. File is tab separated, one subject per column, with 0 = ref and 1 = alt, separated by a vertical bar |, e.g. 0|0 or 0|1. Note therefore this file has one more row than posfile which has no header. For posfile, this is a file with positions of where to impute, lining up one-to-one with the SNPs of phasefile. File is tab seperated with no header, one row per SNP, with col 1 = chromosome, col 2 = physical position (sorted from smallest to largest), col 3 = reference base, col 4 = alternate base. Bases are capitalized. Example first row: 1<tab>1000<tab>A<tab>G<tab>"
   ]
  },
  {
   "cell_type": "code",
   "execution_count": null,
   "id": "e4c8ca21",
   "metadata": {
    "scrolled": true
   },
   "outputs": [],
   "source": [
    "cat ./package_2021_01_15A/bamlist.1.0.txt"
   ]
  },
  {
   "cell_type": "code",
   "execution_count": null,
   "id": "6a67b97a",
   "metadata": {},
   "outputs": [],
   "source": [
    "#reference_haplotype_file\n",
    "less -S ./package_2021_01_15A/ALL.chr20_GRCh38.genotypes.20170504.chr20.2000001.2100000.noNA12878.hap.gz"
   ]
  },
  {
   "cell_type": "code",
   "execution_count": null,
   "id": "35d5fdb0",
   "metadata": {},
   "outputs": [],
   "source": [
    "#reference_legend_file\n",
    "less -S ./package_2021_01_15A/ALL.chr20_GRCh38.genotypes.20170504.chr20.2000001.2100000.noNA12878.legend.gz"
   ]
  },
  {
   "cell_type": "code",
   "execution_count": null,
   "id": "389cd3f5",
   "metadata": {},
   "outputs": [],
   "source": [
    "#genetic_map_file\n",
    "less -S ./package_2021_01_15A/CEU-chr20-final.b38.txt.gz"
   ]
  },
  {
   "cell_type": "code",
   "execution_count": null,
   "id": "1d890c3a",
   "metadata": {},
   "outputs": [],
   "source": [
    "#Run QUILT\n",
    "\n",
    "rm -r -f quilt_output\n",
    "/home/jupyter-bgi23_siyang/software/QUILT/QUILT.R  \\\n",
    "--outputdir=quilt_output \\\n",
    "--chr=chr20 \\\n",
    "--regionStart=2000001 \\\n",
    "--regionEnd=2100000 \\\n",
    "--buffer=10000 \\\n",
    "--bamlist=package_2021_01_15A/bamlist.1.0.txt \\\n",
    "--posfile=package_2021_01_15A/ALL.chr20_GRCh38.genotypes.20170504.chr20.2000001.2100000.posfile.txt \\\n",
    "--phasefile=package_2021_01_15A/ALL.chr20_GRCh38.genotypes.20170504.chr20.2000001.2100000.phasefile.txt \\\n",
    "--reference_haplotype_file=package_2021_01_15A/ALL.chr20_GRCh38.genotypes.20170504.chr20.2000001.2100000.noNA12878.hap.gz \\\n",
    "--reference_legend_file=package_2021_01_15A/ALL.chr20_GRCh38.genotypes.20170504.chr20.2000001.2100000.noNA12878.legend.gz \\\n",
    "--genetic_map_file=package_2021_01_15A/CEU-chr20-final.b38.txt.gz \\\n",
    "--nGen=100 \\\n",
    "--save_prepared_reference=TRUE"
   ]
  },
  {
   "cell_type": "markdown",
   "id": "be8e2e37",
   "metadata": {},
   "source": [
    "# output formats \n",
    "Output \n",
    "VCF with both SNP annotation information (see below) and per-sample genotype information. Per-sample genotype information includes the following entries\n",
    "\n",
    "GT Phased genotypes Phased genotype, where each allele is the rounded per-haplotype posterior probability (HD below)\n",
    "\n",
    "GP Genotype posteriors Posterior probabilities of the three genotypes given the data\n",
    "\n",
    "DS Diploid dosage Posterior expectation of the diploid genotype i.e. the expected number of copies of the alternate allele\n",
    "\n",
    "HD Haploid dosages Per-haplotype posterior probability of an alternate allele\n",
    "\n",
    "Note that in QUILT, genotype posteriors (GP) and dosages (DS) are taken from the main Gibbs sampling, while the phasing results (GT and HD) are taken from an additional special phasing Gibbs sample. As such, phasing results (GT and HD) might not be consistent with genotype information (GP and DS). If consistency is necessary, note that you can create a consistent GP and DS from HD."
   ]
  },
  {
   "cell_type": "code",
   "execution_count": null,
   "id": "f17b598e",
   "metadata": {},
   "outputs": [],
   "source": [
    "cd ~/QUILT/quilt_output\n",
    "less -S quilt.chr20.2000001.2100000.vcf.gz"
   ]
  },
  {
   "cell_type": "code",
   "execution_count": null,
   "id": "075a7dbd",
   "metadata": {},
   "outputs": [],
   "source": []
  }
 ],
 "metadata": {
  "kernelspec": {
   "display_name": "Calysto Bash",
   "language": "bash",
   "name": "calysto_bash"
  },
  "language_info": {
   "file_extension": ".sh",
   "help_links": [
    {
     "text": "MetaKernel Magics",
     "url": "https://metakernel.readthedocs.io/en/latest/source/README.html"
    }
   ],
   "mimetype": "text/x-sh",
   "name": "bash",
   "version": "0.2.2"
  }
 },
 "nbformat": 4,
 "nbformat_minor": 5
}
