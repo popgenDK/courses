{
 "cells": [
  {
   "cell_type": "code",
   "execution_count": 1,
   "id": "0bdf88b5",
   "metadata": {},
   "outputs": [
    {
     "name": "stdout",
     "output_type": "stream",
     "text": [
      "\n"
     ]
    }
   ],
   "source": [
    "cd /course/bgi23/quan/"
   ]
  },
  {
   "cell_type": "code",
   "execution_count": 2,
   "id": "29335338",
   "metadata": {},
   "outputs": [
    {
     "name": "stdout",
     "output_type": "stream",
     "text": [
      "ept            gencode.v44.annotation.gtf.gz\r\n",
      "epts_anno.bed  glioblastoma.html\r\n",
      "epts.bed       Parent_SC3v3_Human_Glioblastoma_possorted_genome_bam.bam\r\n",
      "exon           Parent_SC3v3_Human_Glioblastoma_possorted_genome_bam.bam.bai\r\n",
      "exp            var\r\n",
      "\n"
     ]
    }
   ],
   "source": [
    "ls"
   ]
  },
  {
   "cell_type": "code",
   "execution_count": 3,
   "id": "102a582d",
   "metadata": {},
   "outputs": [
    {
     "name": "stdout",
     "output_type": "stream",
     "text": [
      "A00836:286:HMTMVDMXX:1:2139:6090:35368\t16\tchr1\t10537\t1\t1S64M26S\t*\t0\t0\tGACCACCGAAATCTGTGCAGAGGAGAACGCAGCTCCGCCCTCGCGGTGCTCTCCGGGTCTGTGCTCCCCATGTACTCTGCGTTGATACCAC\t:,FF,FFF,:FFFFFFFFFFFFF:F:FFFFFFF,FF:FFFFFFFFFFFFFFFFFFFFFFFFFFFFFFFFFFFFFFFFFFFFFFFFFFFFFF\tNH:i:3\tHI:i:1\tAS:i:60\tnM:i:1\tts:i:25\tRG:Z:Parent_SC3v3_Human_Glioblastoma:0:1:HMTMVDMXX:1\tRE:A:I\txf:i:0\tCR:Z:CCTGCATCAGCTACAT\tCY:Z:FFFFFFFFFFFFFFFF\tCB:Z:CCTGCATCAGCTACAT-1\tUR:Z:CGACACTTTAAG\tUY:Z:FFFFFFFFFFFF\tUB:Z:CGACACTTTAAG\r\n",
      "A00836:286:HMTMVDMXX:1:2123:26811:15890\t16\tchr1\t10587\t0\t43M2D19M29S\t*\t0\t0\tTCCGGGTCTGTGCTGAGGAGAACGCAACTCCGCCGTCGCAAAGGCGCCGCGCCGGCGCAGGCCCCATGTACTCTGCGTTGATACCACTGCT\tFF,FFFFFFFF:,:FFFFF::FFFFFFF,FFFFFFFFF,FFFF,FF:,FFFFFFF:FFF,FFFFFF,FFFFFFFFFFFFFF:FFFFFFFFF\tNH:i:5\tHI:i:1\tAS:i:52\tnM:i:1\tts:i:29\tRG:Z:Parent_SC3v3_Human_Glioblastoma:0:1:HMTMVDMXX:1\tRE:A:I\txf:i:0\tCR:Z:GAGGCCTGTCATCGGC\tCY:Z:F,FF:FFFFFFFFFFF\tCB:Z:GAGGCCTGTCATCGGC-1\tUR:Z:TCATAGCACGTT\tUY:Z:F:FFFFFFFF:F\tUB:Z:TCATAGCACGTT\r\n",
      "A00836:286:HMTMVDMXX:1:2409:1533:33301\t16\tchr1\t10588\t3\t42M2D19M30S\t*\t0\t0\tCCGGGTCTGTGCTGAGGAGAACGCAACTCCGCCGTCGCAAAGGCGCCGCGCCGGCGCAGGCCCCATGTACTCTGCGTTGATACCACTGCTT\tFFFFFFFFFFFFFF,:FFFFFFFFFFFFFFFFFFFFFFFFFFFFFFFFFFFFFFFFFFFFFFFF,FFFFFFF:FFFF,FF::FFFFFFFFF\tNH:i:2\tHI:i:1\tAS:i:52\tnM:i:1\tts:i:30\tRG:Z:Parent_SC3v3_Human_Glioblastoma:0:1:HMTMVDMXX:1\tRE:A:I\txf:i:0\tCR:Z:GAGGCCTGTCATCGGC\tCY:Z:FFFFFFFFFFFFFFFF\tCB:Z:GAGGCCTGTCATCGGC-1\tUR:Z:TCATAGCACGTT\tUY:Z:FFFFFFFFFFFF\tUB:Z:TCATAGCACGTT\r\n",
      "A00836:286:HMTMVDMXX:2:1180:12744:33019\t16\tchr1\t11605\t1\t91M\t*\t0\t0\tCAGCAATGTCTAGGAATGCCTGTTTCTCCACAAAGTGTTTACTTTTGGATTTTTGCCAGTCTAACAGGTGAAGCCCTGGAGATTCTTATTA\tFFFFFFFFFFFFFFFFFFFFFFFFFFFFFFFFFFFFFFFFFFFFFFFFFFFFFFFFFFFFFFFFFFFFFFFFFFFFFFFFFFFFFFFFFFF\tNH:i:3\tHI:i:1\tAS:i:89\tnM:i:0\tRG:Z:Parent_SC3v3_Human_Glioblastoma:0:1:HMTMVDMXX:2\tRE:A:I\txf:i:0\tCR:Z:CTAAGTGAGTAGACCG\tCY:Z:FFFFFFFFFFFFFFFF\tCB:Z:CTAAGTGAGTAGACCG-1\tUR:Z:GATTTACCTATT\tUY:Z:FFFFFFFFFFFF\tUB:Z:GATTTACCTATT\r\n",
      "A00836:286:HMTMVDMXX:2:2180:15031:28150\t16\tchr1\t11605\t1\t91M\t*\t0\t0\tCAGCAATGTCTAGGAATGCCTGTTTCTCCACAAAGTGTTTACTTTTGGATTTTTGCCAGTCTAACAGGTGAAGCCCTGGAGATTCTTATTA\tF:FFFFFFFFFFFFFFFFFFFFFFFFFFFFFFFFFFFF,FFFFFFFFFFFFFF,FFFFFFFFFFFFFFFFFFFFFFFFFFFFFFFFFFFFF\tNH:i:3\tHI:i:1\tAS:i:89\tnM:i:0\tRG:Z:Parent_SC3v3_Human_Glioblastoma:0:1:HMTMVDMXX:2\tRE:A:I\txf:i:0\tCR:Z:CTAAGTGAGTAGACCG\tCY:Z:FFFFFFFFFFFFFFFF\tCB:Z:CTAAGTGAGTAGACCG-1\tUR:Z:GATTTACCTATT\tUY:Z:FFFFFFFFFFFF\tUB:Z:GATTTACCTATT\r\n",
      "A00836:286:HMTMVDMXX:1:2419:22028:5509\t16\tchr1\t12679\t0\t91M\t*\t0\t0\tCGACTTGGATCACACTCTTGTGAGTGTCCCCAGTGTTGCAGAGGTGAGAGGAGAGTAGGCGATGAGTGGGAGTGGCGTCGCCCCTAGGGCT\tFFFFFFF,:FFFFFFFFFFF,FFF:FFFFFFFF:FFFFFFFFFFFFFFFFFFFFFFFFFFFFFFFFFFFFFFFFFFFFFFFFFFFFFFFFF\tNH:i:5\tHI:i:1\tAS:i:83\tnM:i:3\tRG:Z:Parent_SC3v3_Human_Glioblastoma:0:1:HMTMVDMXX:1\tRE:A:I\txf:i:0\tCR:Z:GGGTTTATCCGGTAGC\tCY:Z:FFFFFFFFFFFFFFFF\tCB:Z:GGGTTTATCCGGTAGC-1\tUR:Z:GTCCCAGCCACA\tUY:Z:FFFFFFFFFFFF\tUB:Z:GTCCCAGCCACA\r\n",
      "A00836:286:HMTMVDMXX:1:1204:20708:1877\t16\tchr1\t14101\t0\t91M\t*\t0\t0\tCCAAGACATCTTCTACCCCAACACCAGCAATTGTGCCAAGGGCCATTAGGCTCTCAGCATGACTATTTTTAGAGACCCCGTGTCTGTCACT\tFFFFFFFFFFFFFFFFFFFF:F:FFFFF:FFFFFFFFFFFFFFFFFFFFFFFFFFFFFFFFFFFFFFFFFFFFFFFFFFFFFFFFFFFFFF\tNH:i:5\tHI:i:1\tAS:i:89\tnM:i:0\tRG:Z:Parent_SC3v3_Human_Glioblastoma:0:1:HMTMVDMXX:1\tRE:A:I\txf:i:0\tCR:Z:ATTCACTCACCTCAGG\tCY:Z::FFFFFFFFFFFFFFF\tCB:Z:ATTCACTCACCTCAGG-1\tUR:Z:CAAATCCACCCG\tUY:Z:FFFFFFFFFFFF\tUB:Z:CAAATCCACCCG\r\n",
      "A00836:286:HMTMVDMXX:1:2432:27290:32659\t0\tchr1\t14174\t0\t91M\t*\t0\t0\tGACCCCGTGTCTGTCACTGAAACCTTTTTTGTGGGAGACTATTCCTCCCATCTGCAACAGCTGCCCCTGCTCACTGCCCTTCTCTCCTCCC\tFFFFFFFFFFFFFFFFFFFFF:FFFFFFFFFFFFFFFFFFFFFF:FFFFFFFFFF,FFFFFFFF,FF,FFF:FFF:FFF:FFFFFFFFFFF\tNH:i:5\tHI:i:1\tAS:i:87\tnM:i:1\tRG:Z:Parent_SC3v3_Human_Glioblastoma:0:1:HMTMVDMXX:1\tRE:A:I\txf:i:0\tCR:Z:AGGAATATCTTTGCTA\tCY:Z:FFFF:FFFFFFFFFFF\tCB:Z:AGGAATATCTTTGCTA-1\tUR:Z:CCCCATCTGGGT\tUY:Z:FFFFFFFFFFFF\tUB:Z:CCCCATCTGGGT\r\n",
      "A00836:286:HMTMVDMXX:2:1428:30671:11428\t0\tchr1\t14314\t0\t30S61M\t*\t0\t0\tAAGCAGTGGTATCAACGCAGAGTACATGGGAGGGACCAACAGGGGCAGGAGGCAGTCACTGACCCCGAGACGTTTGCATCCTGCACAGCTA\tFFFFFFFFFFFFFFFFFFFFFFFFFFFFFFFFFFFFFFFFFFFFFFFFFFFFFFFFFFFFFFFFFFFFFF:FFF:FFFFFFFFFF:FFFFF\tNH:i:8\tHI:i:1\tAS:i:60\tnM:i:0\tts:i:30\tRG:Z:Parent_SC3v3_Human_Glioblastoma:0:1:HMTMVDMXX:2\tRE:A:I\txf:i:0\tCR:Z:ATCGGATCAGTTTCGA\tCY:Z:FFFFFFFFFFFFFFFF\tCB:Z:ATCGGATCAGTTTCGA-1\tUR:Z:CGGCGTCAGTTA\tUY:Z:FFFFFFFFFFFF\tUB:Z:CGGCGTCAGTTA\r\n",
      "A00836:286:HMTMVDMXX:2:1229:26395:12665\t0\tchr1\t14314\t0\t30S61M\t*\t0\t0\tAAGCAGTGGTATCAACGCAGAGTACATGGGAGGGACCAACAGGGGCAGGAGGCAGTCACTGACCCCGAGACGTTTGCATCCTGCACAGCTA\tFFFFFFFFFFFFFFFFFFFFFFFFFFFFFFFFFFFFFFFFFFFFFFFFFFFFFFFFFFFFFFFFFFFFFFFFFFFFFFFFFFFFFFFFFFF\tNH:i:8\tHI:i:1\tAS:i:60\tnM:i:0\tts:i:30\tRG:Z:Parent_SC3v3_Human_Glioblastoma:0:1:HMTMVDMXX:2\tRE:A:I\txf:i:0\tCR:Z:CACGTGGTACAAACAT\tCY:Z:FFFFFFFFFFFFFFFF\tCB:Z:CACGTGGTCCAAACAT-1\tUR:Z:TGCATCAAATTT\tUY:Z:FFFFFFFFFFFF\tUB:Z:TGCATCAAATTT\r\n",
      "samtools view: writing to standard output failed: Broken pipe\r\n",
      "samtools view: error closing standard output: -1\r\n",
      "\n"
     ]
    }
   ],
   "source": [
    "samtools view Parent_SC3v3_Human_Glioblastoma_possorted_genome_bam.bam|head\n"
   ]
  },
  {
   "cell_type": "code",
   "execution_count": 4,
   "id": "7227becd",
   "metadata": {},
   "outputs": [
    {
     "name": "stdout",
     "output_type": "stream",
     "text": [
      "[W::bam_hdr_read] EOF marker is absent. The input is probably truncated\r\n",
      "A00836:286:HMTMVDMXX:1:2139:6090:35368\t16\tchr1\t10537\t1\t1S64M26S\t*\t0\t0\tGACCACCGAAATCTGTGCAGAGGAGAACGCAGCTCCGCCCTCGCGGTGCTCTCCGGGTCTGTGCTCCCCATGTACTCTGCGTTGATACCAC\t:,FF,FFF,:FFFFFFFFFFFFF:F:FFFFFFF,FF:FFFFFFFFFFFFFFFFFFFFFFFFFFFFFFFFFFFFFFFFFFFFFFFFFFFFFF\tNH:i:3\tHI:i:1\tAS:i:60\tnM:i:1\tts:i:25\tRG:Z:Parent_SC3v3_Human_Glioblastoma:0:1:HMTMVDMXX:1\txf:i:0\tCR:Z:CCTGCATCAGCTACAT\tCY:Z:FFFFFFFFFFFFFFFF\tCB:Z:CCTGCATCAGCTACAT-1\tUR:Z:CGACACTTTAAG\tUY:Z:FFFFFFFFFFFF\tUB:Z:CGACACTTTAAG\tRE:A:I\r\n",
      "A00836:286:HMTMVDMXX:1:2123:26811:15890\t16\tchr1\t10587\t0\t43M2D19M29S\t*\t0\t0\tTCCGGGTCTGTGCTGAGGAGAACGCAACTCCGCCGTCGCAAAGGCGCCGCGCCGGCGCAGGCCCCATGTACTCTGCGTTGATACCACTGCT\tFF,FFFFFFFF:,:FFFFF::FFFFFFF,FFFFFFFFF,FFFF,FF:,FFFFFFF:FFF,FFFFFF,FFFFFFFFFFFFFF:FFFFFFFFF\tNH:i:5\tHI:i:1\tAS:i:52\tnM:i:1\tts:i:29\tRG:Z:Parent_SC3v3_Human_Glioblastoma:0:1:HMTMVDMXX:1\txf:i:0\tCR:Z:GAGGCCTGTCATCGGC\tCY:Z:F,FF:FFFFFFFFFFF\tCB:Z:GAGGCCTGTCATCGGC-1\tUR:Z:TCATAGCACGTT\tUY:Z:F:FFFFFFFF:F\tUB:Z:TCATAGCACGTT\tRE:A:I\r\n",
      "A00836:286:HMTMVDMXX:1:2409:1533:33301\t16\tchr1\t10588\t3\t42M2D19M30S\t*\t0\t0\tCCGGGTCTGTGCTGAGGAGAACGCAACTCCGCCGTCGCAAAGGCGCCGCGCCGGCGCAGGCCCCATGTACTCTGCGTTGATACCACTGCTT\tFFFFFFFFFFFFFF,:FFFFFFFFFFFFFFFFFFFFFFFFFFFFFFFFFFFFFFFFFFFFFFFF,FFFFFFF:FFFF,FF::FFFFFFFFF\tNH:i:2\tHI:i:1\tAS:i:52\tnM:i:1\tts:i:30\tRG:Z:Parent_SC3v3_Human_Glioblastoma:0:1:HMTMVDMXX:1\txf:i:0\tCR:Z:GAGGCCTGTCATCGGC\tCY:Z:FFFFFFFFFFFFFFFF\tCB:Z:GAGGCCTGTCATCGGC-1\tUR:Z:TCATAGCACGTT\tUY:Z:FFFFFFFFFFFF\tUB:Z:TCATAGCACGTT\tRE:A:I\r\n",
      "A00836:286:HMTMVDMXX:2:1180:12744:33019\t16\tchr1\t11605\t1\t91M\t*\t0\t0\tCAGCAATGTCTAGGAATGCCTGTTTCTCCACAAAGTGTTTACTTTTGGATTTTTGCCAGTCTAACAGGTGAAGCCCTGGAGATTCTTATTA\tFFFFFFFFFFFFFFFFFFFFFFFFFFFFFFFFFFFFFFFFFFFFFFFFFFFFFFFFFFFFFFFFFFFFFFFFFFFFFFFFFFFFFFFFFFF\tNH:i:3\tHI:i:1\tAS:i:89\tnM:i:0\tRG:Z:Parent_SC3v3_Human_Glioblastoma:0:1:HMTMVDMXX:2\txf:i:0\tCR:Z:CTAAGTGAGTAGACCG\tCY:Z:FFFFFFFFFFFFFFFF\tCB:Z:CTAAGTGAGTAGACCG-1\tUR:Z:GATTTACCTATT\tUY:Z:FFFFFFFFFFFF\tUB:Z:GATTTACCTATT\tRE:A:I\r\n",
      "A00836:286:HMTMVDMXX:2:2180:15031:28150\t16\tchr1\t11605\t1\t91M\t*\t0\t0\tCAGCAATGTCTAGGAATGCCTGTTTCTCCACAAAGTGTTTACTTTTGGATTTTTGCCAGTCTAACAGGTGAAGCCCTGGAGATTCTTATTA\tF:FFFFFFFFFFFFFFFFFFFFFFFFFFFFFFFFFFFF,FFFFFFFFFFFFFF,FFFFFFFFFFFFFFFFFFFFFFFFFFFFFFFFFFFFF\tNH:i:3\tHI:i:1\tAS:i:89\tnM:i:0\tRG:Z:Parent_SC3v3_Human_Glioblastoma:0:1:HMTMVDMXX:2\txf:i:0\tCR:Z:CTAAGTGAGTAGACCG\tCY:Z:FFFFFFFFFFFFFFFF\tCB:Z:CTAAGTGAGTAGACCG-1\tUR:Z:GATTTACCTATT\tUY:Z:FFFFFFFFFFFF\tUB:Z:GATTTACCTATT\tRE:A:I\r\n",
      "A00836:286:HMTMVDMXX:1:2419:22028:5509\t16\tchr1\t12679\t0\t91M\t*\t0\t0\tCGACTTGGATCACACTCTTGTGAGTGTCCCCAGTGTTGCAGAGGTGAGAGGAGAGTAGGCGATGAGTGGGAGTGGCGTCGCCCCTAGGGCT\tFFFFFFF,:FFFFFFFFFFF,FFF:FFFFFFFF:FFFFFFFFFFFFFFFFFFFFFFFFFFFFFFFFFFFFFFFFFFFFFFFFFFFFFFFFF\tNH:i:5\tHI:i:1\tAS:i:83\tnM:i:3\tRG:Z:Parent_SC3v3_Human_Glioblastoma:0:1:HMTMVDMXX:1\txf:i:0\tCR:Z:GGGTTTATCCGGTAGC\tCY:Z:FFFFFFFFFFFFFFFF\tCB:Z:GGGTTTATCCGGTAGC-1\tUR:Z:GTCCCAGCCACA\tUY:Z:FFFFFFFFFFFF\tUB:Z:GTCCCAGCCACA\tRE:A:B\r\n",
      "A00836:286:HMTMVDMXX:1:1204:20708:1877\t16\tchr1\t14101\t0\t91M\t*\t0\t0\tCCAAGACATCTTCTACCCCAACACCAGCAATTGTGCCAAGGGCCATTAGGCTCTCAGCATGACTATTTTTAGAGACCCCGTGTCTGTCACT\tFFFFFFFFFFFFFFFFFFFF:F:FFFFF:FFFFFFFFFFFFFFFFFFFFFFFFFFFFFFFFFFFFFFFFFFFFFFFFFFFFFFFFFFFFFF\tNH:i:5\tHI:i:1\tAS:i:89\tnM:i:0\tRG:Z:Parent_SC3v3_Human_Glioblastoma:0:1:HMTMVDMXX:1\txf:i:0\tCR:Z:ATTCACTCACCTCAGG\tCY:Z::FFFFFFFFFFFFFFF\tCB:Z:ATTCACTCACCTCAGG-1\tUR:Z:CAAATCCACCCG\tUY:Z:FFFFFFFFFFFF\tUB:Z:CAAATCCACCCG\tRE:A:A\r\n",
      "A00836:286:HMTMVDMXX:1:2432:27290:32659\t0\tchr1\t14174\t0\t91M\t*\t0\t0\tGACCCCGTGTCTGTCACTGAAACCTTTTTTGTGGGAGACTATTCCTCCCATCTGCAACAGCTGCCCCTGCTCACTGCCCTTCTCTCCTCCC\tFFFFFFFFFFFFFFFFFFFFF:FFFFFFFFFFFFFFFFFFFFFF:FFFFFFFFFF,FFFFFFFF,FF,FFF:FFF:FFF:FFFFFFFFFFF\tNH:i:5\tHI:i:1\tAS:i:87\tnM:i:1\tRG:Z:Parent_SC3v3_Human_Glioblastoma:0:1:HMTMVDMXX:1\txf:i:0\tCR:Z:AGGAATATCTTTGCTA\tCY:Z:FFFF:FFFFFFFFFFF\tCB:Z:AGGAATATCTTTGCTA-1\tUR:Z:CCCCATCTGGGT\tUY:Z:FFFFFFFFFFFF\tUB:Z:CCCCATCTGGGT\tRE:A:E\tGX:Z:ENSG00000290825.1\tGN:Z:DDX11L2\tTX:Z:ENST00000456328.2\tEX:Z:chr1:13221-14409/+/DDX11L2\r\n",
      "A00836:286:HMTMVDMXX:2:1428:30671:11428\t0\tchr1\t14314\t0\t30S61M\t*\t0\t0\tAAGCAGTGGTATCAACGCAGAGTACATGGGAGGGACCAACAGGGGCAGGAGGCAGTCACTGACCCCGAGACGTTTGCATCCTGCACAGCTA\tFFFFFFFFFFFFFFFFFFFFFFFFFFFFFFFFFFFFFFFFFFFFFFFFFFFFFFFFFFFFFFFFFFFFFF:FFF:FFFFFFFFFF:FFFFF\tNH:i:8\tHI:i:1\tAS:i:60\tnM:i:0\tts:i:30\tRG:Z:Parent_SC3v3_Human_Glioblastoma:0:1:HMTMVDMXX:2\txf:i:0\tCR:Z:ATCGGATCAGTTTCGA\tCY:Z:FFFFFFFFFFFFFFFF\tCB:Z:ATCGGATCAGTTTCGA-1\tUR:Z:CGGCGTCAGTTA\tUY:Z:FFFFFFFFFFFF\tUB:Z:CGGCGTCAGTTA\tRE:A:E\tGX:Z:ENSG00000290825.1\tGN:Z:DDX11L2\tTX:Z:ENST00000456328.2\tEX:Z:chr1:13221-14409/+/DDX11L2\r\n",
      "A00836:286:HMTMVDMXX:2:1229:26395:12665\t0\tchr1\t14314\t0\t30S61M\t*\t0\t0\tAAGCAGTGGTATCAACGCAGAGTACATGGGAGGGACCAACAGGGGCAGGAGGCAGTCACTGACCCCGAGACGTTTGCATCCTGCACAGCTA\tFFFFFFFFFFFFFFFFFFFFFFFFFFFFFFFFFFFFFFFFFFFFFFFFFFFFFFFFFFFFFFFFFFFFFFFFFFFFFFFFFFFFFFFFFFF\tNH:i:8\tHI:i:1\tAS:i:60\tnM:i:0\tts:i:30\tRG:Z:Parent_SC3v3_Human_Glioblastoma:0:1:HMTMVDMXX:2\txf:i:0\tCR:Z:CACGTGGTACAAACAT\tCY:Z:FFFFFFFFFFFFFFFF\tCB:Z:CACGTGGTCCAAACAT-1\tUR:Z:TGCATCAAATTT\tUY:Z:FFFFFFFFFFFF\tUB:Z:TGCATCAAATTT\tRE:A:E\tGX:Z:ENSG00000290825.1\tGN:Z:DDX11L2\tTX:Z:ENST00000456328.2\tEX:Z:chr1:13221-14409/+/DDX11L2\r\n",
      "samtools view: writing to standard output failed: Broken pipe\r\n",
      "samtools view: error closing standard output: -1\r\n",
      "\n"
     ]
    }
   ],
   "source": [
    "samtools view anno.bam|head"
   ]
  },
  {
   "cell_type": "code",
   "execution_count": 5,
   "id": "68406cc8",
   "metadata": {},
   "outputs": [
    {
     "name": "stdout",
     "output_type": "stream",
     "text": [
      "barcodes.tsv.gz  features.tsv.gz  matrix.mtx.gz\r\n",
      "\n"
     ]
    }
   ],
   "source": [
    "ls exp"
   ]
  },
  {
   "cell_type": "code",
   "execution_count": 6,
   "id": "2d0fc00e",
   "metadata": {},
   "outputs": [
    {
     "name": "stdout",
     "output_type": "stream",
     "text": [
      "TTCCACGGTTCGGCTG-1\r\n",
      "GTGCTTCGTAATGTGA-1\r\n",
      "CACAGGCAGCTGGTGA-1\r\n",
      "TGGCGTGGTGCAACGA-1\r\n",
      "ATCTCTAGTCCATAGT-1\r\n",
      "AGCGCCACAAGCGATG-1\r\n",
      "CGAGTTAGTGTCGATT-1\r\n",
      "GTCAAGTCAGGCTCTG-1\r\n",
      "GGGTAGATCCCGTTGT-1\r\n",
      "GGGACAAAGAGGTATT-1\r\n",
      "\r\n",
      "gzip: stdout: Broken pipe\r\n",
      "\n"
     ]
    }
   ],
   "source": [
    "zcat exp/barcodes.tsv.gz|head"
   ]
  },
  {
   "cell_type": "code",
   "execution_count": 7,
   "id": "ea32e796",
   "metadata": {},
   "outputs": [
    {
     "name": "stdout",
     "output_type": "stream",
     "text": [
      "MIR1302-2HG\r\n",
      "ENSG00000238009\r\n",
      "ENSG00000239945\r\n",
      "ENSG00000268903\r\n",
      "ENSG00000241860\r\n",
      "WASH9P\r\n",
      "ENSG00000228463\r\n",
      "ENSG00000286448\r\n",
      "ENSG00000236601\r\n",
      "ENSG00000230021\r\n",
      "\r\n",
      "gzip: stdout: Broken pipe\r\n",
      "\n"
     ]
    }
   ],
   "source": [
    "zcat exp/features.tsv.gz|head"
   ]
  },
  {
   "cell_type": "code",
   "execution_count": 8,
   "id": "e5271769",
   "metadata": {},
   "outputs": [
    {
     "name": "stdout",
     "output_type": "stream",
     "text": [
      "%%MatrixMarket matrix coordinate integer general\r\n",
      "% Generated by PISA v0.12-15-g1715853\r\n",
      "37175\t967749\t23590089\r\n",
      "1\t1\t1\r\n",
      "1\t2\t1\r\n",
      "2\t3\t1\r\n",
      "2\t4\t1\r\n",
      "2\t5\t1\r\n",
      "2\t6\t1\r\n",
      "2\t7\t1\r\n",
      "\r\n",
      "gzip: stdout: Broken pipe\r\n",
      "\n"
     ]
    }
   ],
   "source": [
    "zcat exp/matrix.mtx.gz|head"
   ]
  },
  {
   "cell_type": "code",
   "execution_count": 9,
   "id": "911185c3",
   "metadata": {},
   "outputs": [
    {
     "name": "stdout",
     "output_type": "stream",
     "text": [
      "chr1:29554-30039/+/MIR1302-2HG\r\n",
      "chr1:30564-30667/+/MIR1302-2HG\r\n",
      "chr1:89295-91629/-/ENSG00000238009\r\n",
      "chr1:89551-90050/-/ENSG00000239945\r\n",
      "chr1:90287-91105/-/ENSG00000239945\r\n",
      "chr1:135141-135895/-/ENSG00000268903\r\n",
      "chr1:141474-143011/-/ENSG00000241860\r\n",
      "chr1:146386-149707/-/ENSG00000241860\r\n",
      "chr1:142808-143011/-/ENSG00000241860\r\n",
      "chr1:146386-146509/-/ENSG00000241860\r\n",
      "\r\n",
      "gzip: stdout: Broken pipe\r\n",
      "\n"
     ]
    }
   ],
   "source": [
    "zcat exon/features.tsv.gz|head"
   ]
  },
  {
   "cell_type": "code",
   "execution_count": 10,
   "id": "063bcaa1",
   "metadata": {},
   "outputs": [
    {
     "name": "stdout",
     "output_type": "stream",
     "text": [
      "chr1:14665-14787/-\r\n",
      "chr1:134935-135281/-\r\n",
      "chr1:187036-187159/-\r\n",
      "chr1:631822-631943/+\r\n",
      "chr1:629103-629323/+\r\n",
      "chr1:629906-630021/-\r\n",
      "chr1:629906-630025/+\r\n",
      "chr1:632266-632703/+\r\n",
      "chr1:633103-633310/+\r\n",
      "chr1:633365-633463/+\r\n",
      "\r\n",
      "gzip: stdout: Broken pipe\r\n",
      "\n"
     ]
    }
   ],
   "source": [
    "zcat ept/features.tsv.gz|head"
   ]
  },
  {
   "cell_type": "code",
   "execution_count": 11,
   "id": "6f566ee1",
   "metadata": {},
   "outputs": [
    {
     "name": "stdout",
     "output_type": "stream",
     "text": [
      "chr1:51716G>A/+\r\n",
      "chr1:90040A>C/-\r\n",
      "chr1:136048C>T/+\r\n",
      "chr1:187485G>A/-\r\n",
      "chr1:511685T>C/-\r\n",
      "chr1:511685T=/-\r\n",
      "chr1:629072A>G/+\r\n",
      "chr1:629081A>G/+\r\n",
      "chr1:629087A>G/+\r\n",
      "chr1:629087A=/+\r\n",
      "\r\n",
      "gzip: stdout: Broken pipe\r\n",
      "\n"
     ]
    }
   ],
   "source": [
    "zcat var/features.tsv.gz|head"
   ]
  },
  {
   "cell_type": "code",
   "execution_count": null,
   "id": "53cac917",
   "metadata": {},
   "outputs": [],
   "source": []
  }
 ],
 "metadata": {
  "kernelspec": {
   "display_name": "Calysto Bash",
   "language": "bash",
   "name": "calysto_bash"
  },
  "language_info": {
   "file_extension": ".sh",
   "help_links": [
    {
     "text": "MetaKernel Magics",
     "url": "https://metakernel.readthedocs.io/en/latest/source/README.html"
    }
   ],
   "mimetype": "text/x-sh",
   "name": "bash",
   "version": "0.2.2"
  }
 },
 "nbformat": 4,
 "nbformat_minor": 5
}
