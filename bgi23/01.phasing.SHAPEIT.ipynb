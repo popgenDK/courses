{
 "cells": [
  {
   "cell_type": "markdown",
   "id": "3a3f9c79",
   "metadata": {
    "kernel": "Bash"
   },
   "source": [
    "## First you may check the list of options by shapeit\n"
   ]
  },
  {
   "cell_type": "code",
   "execution_count": null,
   "id": "9a39e0cb",
   "metadata": {
    "kernel": "Bash"
   },
   "outputs": [],
   "source": [
    "cp -r /home/jupyter-bgi23_siyang/shapeit.v2/shapeitV2 .\n",
    "dir1=`pwd`/shapeitV2\n",
    "$dir1/bin/shapeit --h\n"
   ]
  },
  {
   "cell_type": "markdown",
   "id": "862e8fb8",
   "metadata": {
    "kernel": "Bash"
   },
   "source": [
    "# Getting started\n",
    "SHAPEIT takes as input a set of genotypes and a genetic map, and produces as output, either a single set of estimated haplotypes, or a haplotype graph that encapsulates the uncertainty about the underlying haplotypes.\n",
    "\n",
    "Speeding up phasing using multi-threading:-T \n"
   ]
  },
  {
   "cell_type": "code",
   "execution_count": null,
   "id": "6d57aa02",
   "metadata": {
    "kernel": "Bash"
   },
   "outputs": [],
   "source": [
    " #gwas.vcf.gz: we use genotypes in VCF format for an example\n",
    "less $dir1/example/gwas.vcf.gz| head -n 5"
   ]
  },
  {
   "cell_type": "code",
   "execution_count": null,
   "id": "421e4eca",
   "metadata": {
    "kernel": "Bash"
   },
   "outputs": [],
   "source": [
    "#genetic_map.txt: recombination rates between SNPs are provided via a genetic map that specifies the genetic position of the SNPs in cM. \n",
    "head $dir1/example/genetic_map.txt "
   ]
  },
  {
   "cell_type": "code",
   "execution_count": null,
   "id": "39590ce8",
   "metadata": {
    "kernel": "Bash"
   },
   "outputs": [],
   "source": [
    "mkdir -p $dir1/test\n",
    "cd  $dir1/test\n",
    "$dir1/bin/shapeit --input-vcf $dir1/example/gwas.vcf.gz \\\n",
    "                  -M $dir1/example/genetic_map.txt  \\\n",
    "                  -T 8 \\\n",
    "                  -O gwas.phased\n",
    "##This process took about 2 minutes."
   ]
  },
  {
   "cell_type": "markdown",
   "id": "e5982a53",
   "metadata": {
    "kernel": "Bash"
   },
   "source": [
    "# Data checks\n",
    "SHAPEIT generates 2 additional log files to facilitate the detection of any problems in the input data.\n",
    "\n",
    "(1)XXXX.ind.mm contains the individual missing rates (N lines).\n",
    "\n",
    "(2)XXXX.snp.mm contains the SNP missing rates and allele frequencies (L lines)."
   ]
  },
  {
   "cell_type": "code",
   "execution_count": null,
   "id": "82a3db76",
   "metadata": {
    "kernel": "Bash"
   },
   "outputs": [],
   "source": [
    "cd  $dir1/test\n",
    "head -n 10 *ind.mm\n",
    "head -n 10 *snp.mm"
   ]
  },
  {
   "cell_type": "markdown",
   "id": "7578054b",
   "metadata": {
    "kernel": "Bash"
   },
   "source": [
    "# Convert the SHAPEIT haplotypes to VCF formats\n"
   ]
  },
  {
   "cell_type": "code",
   "execution_count": null,
   "id": "adddba37",
   "metadata": {
    "kernel": "Bash"
   },
   "outputs": [],
   "source": [
    "#SHAPEIT can convert haplotypes in HAPS/SAMPLE format to VCF formats.\n",
    "$dir1/bin/shapeit -convert \\\n",
    "        --input-haps gwas.phased \\\n",
    "        --output-vcf gwas.phased.vcf\n"
   ]
  },
  {
   "cell_type": "code",
   "execution_count": null,
   "id": "0f441119",
   "metadata": {
    "kernel": "Bash"
   },
   "outputs": [],
   "source": [
    "## View the result of estimation of phasing.\n",
    "head -n 10 gwas.phased.vcf"
   ]
  }
 ],
 "metadata": {
  "kernelspec": {
   "display_name": "SoS",
   "language": "sos",
   "name": "sos"
  },
  "language_info": {
   "codemirror_mode": "sos",
   "file_extension": ".sos",
   "mimetype": "text/x-sos",
   "name": "sos",
   "nbconvert_exporter": "sos_notebook.converter.SoS_Exporter",
   "pygments_lexer": "sos"
  },
  "sos": {
   "kernels": [
    [
     "Bash",
     "bash",
     "bash",
     "",
     "shell"
    ]
   ],
   "panel": {
    "displayed": false,
    "height": 0
   },
   "version": "0.24.1"
  }
 },
 "nbformat": 4,
 "nbformat_minor": 5
}
