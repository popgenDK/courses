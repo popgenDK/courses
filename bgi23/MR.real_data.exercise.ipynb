{
 "cells": [
  {
   "cell_type": "markdown",
   "id": "d2b1623a",
   "metadata": {},
   "source": [
    "### Load library"
   ]
  },
  {
   "cell_type": "code",
   "execution_count": null,
   "id": "afa6a80d",
   "metadata": {},
   "outputs": [],
   "source": [
    "library(TwoSampleMR)\n",
    "library(data.table)\n",
    "library(R.utils)"
   ]
  },
  {
   "cell_type": "markdown",
   "id": "4ee401c6",
   "metadata": {},
   "source": [
    "### form exposure data"
   ]
  },
  {
   "cell_type": "code",
   "execution_count": null,
   "id": "c35db1bc",
   "metadata": {},
   "outputs": [],
   "source": [
    "# Read raw data and filter by pvalue\n",
    "\n",
    "# cc = as.data.frame(fread(\"/course/bgi23/huanhuan/case-control-2.txt\",header = T))\n",
    "wh = as.data.frame(fread(\"/course/bgi23/huanhuan/EOS_pct.ss\",header = T))\n",
    "wh_sig = wh[wh$pvalue < 5e-08 & wh$SNP != \".\",]"
   ]
  },
  {
   "cell_type": "code",
   "execution_count": null,
   "id": "ae321778",
   "metadata": {},
   "outputs": [],
   "source": [
    "# format data\n",
    "exposure_dat = format_data(\n",
    "  wh_sig,\n",
    "  type = \"exposure\",\n",
    "  phenotype_col = \"trait\",\n",
    "  snp_col = \"SNP\",\n",
    "  beta_col = \"beta\",\n",
    "  se_col = \"se\",\n",
    "  eaf_col = \"eaf\",\n",
    "  effect_allele_col = \"effect_allele\",\n",
    "  other_allele_col = \"other_allele\",\n",
    "  pval_col = \"pvalue\",\n",
    "  samplesize_col = \"samplesize\"\n",
    ")\n",
    "# exposure_dat$chr.exposure = gsub(\"chr\",\"\",exposure_dat$chr.exposure)"
   ]
  },
  {
   "cell_type": "code",
   "execution_count": null,
   "id": "b1a8d510",
   "metadata": {},
   "outputs": [],
   "source": [
    "# Clumping data\n",
    "exp_dat = clump_data(\n",
    "  exposure_dat,\n",
    "  clump_kb = 10000,\n",
    "  clump_r2 = 0.1,\n",
    "  clump_p1 = 1,\n",
    "  clump_p2 = 1,\n",
    "  pop = \"EAS\"\n",
    ")\n"
   ]
  },
  {
   "cell_type": "markdown",
   "id": "eab3765f",
   "metadata": {},
   "source": [
    "### form outcome data"
   ]
  },
  {
   "cell_type": "code",
   "execution_count": null,
   "id": "a99914f5",
   "metadata": {},
   "outputs": [],
   "source": [
    "############################ outcome variable ########\n",
    "trait = \"Prostate_cancer\"\n",
    "ncase = 5408\n",
    "ncontrol = 103939"
   ]
  },
  {
   "cell_type": "code",
   "execution_count": null,
   "id": "500f3072",
   "metadata": {},
   "outputs": [],
   "source": [
    "# read raw data and do filtering\n",
    "bbj = as.data.frame(fread(\"/course/bgi23/huanhuan/phenocode-Prostate_cancer.tsv.gz\",header = T))\n",
    "bbj_slt = bbj[bbj$rsids %in% exp_dat$SNP,]\n",
    "bbj_slt$trait = trait\n",
    "bbj_slt$ncase = ncase\n",
    "bbj_slt$ncontrol = ncontrol"
   ]
  },
  {
   "cell_type": "code",
   "execution_count": null,
   "id": "c383f6a5",
   "metadata": {},
   "outputs": [],
   "source": [
    "# format data\n",
    "out_dat = format_data(\n",
    "  bbj_slt,\n",
    "  type = \"outcome\",\n",
    "  phenotype_col = \"trait\",\n",
    "  snp_col = \"rsids\",\n",
    "  beta_col = \"beta\",\n",
    "  se_col = \"sebeta\",\n",
    "  eaf_col = \"maf\",\n",
    "  effect_allele_col = \"alt\",\n",
    "  other_allele_col = \"ref\",\n",
    "  pval_col = \"pval\",\n",
    "  ncase_col = \"ncase\",\n",
    "  ncontrol_col = \"ncontrol\",\n",
    ")"
   ]
  },
  {
   "cell_type": "markdown",
   "id": "481116f3",
   "metadata": {},
   "source": [
    "### Harmonize data"
   ]
  },
  {
   "cell_type": "code",
   "execution_count": null,
   "id": "6c5390cc",
   "metadata": {},
   "outputs": [],
   "source": [
    "dat <- harmonise_data(exp_dat, out_dat)"
   ]
  },
  {
   "cell_type": "markdown",
   "id": "61c8f03b",
   "metadata": {},
   "source": [
    "### run MR analysis"
   ]
  },
  {
   "cell_type": "code",
   "execution_count": null,
   "id": "ef4ce1ee",
   "metadata": {},
   "outputs": [],
   "source": [
    "res <- mr(dat)"
   ]
  },
  {
   "cell_type": "markdown",
   "id": "88e21475",
   "metadata": {},
   "source": [
    "### view the result"
   ]
  },
  {
   "cell_type": "code",
   "execution_count": null,
   "id": "b5c3e948",
   "metadata": {},
   "outputs": [],
   "source": [
    "res"
   ]
  }
 ],
 "metadata": {
  "kernelspec": {
   "display_name": "R",
   "language": "R",
   "name": "ir"
  },
  "language_info": {
   "codemirror_mode": "r",
   "file_extension": ".r",
   "mimetype": "text/x-r-source",
   "name": "R",
   "pygments_lexer": "r",
   "version": "4.1.2"
  }
 },
 "nbformat": 4,
 "nbformat_minor": 5
}
