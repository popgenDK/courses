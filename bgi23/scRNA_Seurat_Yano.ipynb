{
 "cells": [
  {
   "cell_type": "markdown",
   "id": "e6718cd7",
   "metadata": {},
   "source": [
    "# Section one, cell clustering and visulization"
   ]
  },
  {
   "cell_type": "code",
   "execution_count": null,
   "id": "35abbfd0",
   "metadata": {
    "scrolled": true
   },
   "outputs": [],
   "source": [
    "# load all packages\n",
    "require(Seurat) # single cell transcriptome analysis pipelin, ref: https://satijalab.org/seurat/\n",
    "require(Yano) # for ReadPISA and alternative expression analysis, ref: https://github.com/shiquan/Yano\n",
    "require(dplyr) # data pipeline %>%"
   ]
  },
  {
   "cell_type": "code",
   "execution_count": null,
   "id": "d5512d07",
   "metadata": {},
   "outputs": [],
   "source": [
    "# read gene count files, in MEX format\n",
    "count <- ReadPISA(\"/course/bgi23/quan/exp/\")"
   ]
  },
  {
   "cell_type": "code",
   "execution_count": null,
   "id": "3d672fd7",
   "metadata": {},
   "outputs": [],
   "source": [
    "# Create a Seurat object\n",
    "# Set min.features to 5000 to reduce memory usage\n",
    "# obj <- CreateSeuratObject(count, min.features = 1000, min.cells = 10)\n",
    "obj <- CreateSeuratObject(count, min.features = 5000, min.cells = 10)"
   ]
  },
  {
   "cell_type": "code",
   "execution_count": null,
   "id": "bb06907d",
   "metadata": {},
   "outputs": [],
   "source": [
    "obj"
   ]
  },
  {
   "cell_type": "code",
   "execution_count": null,
   "id": "5baa8a98",
   "metadata": {},
   "outputs": [],
   "source": [
    "# Setup the mitochrondria gene expression ratio and red blood pollution\n",
    "obj[[\"percent.mt\"]] <- PercentageFeatureSet(obj, pattern = \"^MT-\")\n",
    "obj[[\"percent.hg\"]] <- PercentageFeatureSet(obj, pattern = \"^HB[ABDEGQZ12]+$\")"
   ]
  },
  {
   "cell_type": "code",
   "execution_count": null,
   "id": "2645e48a",
   "metadata": {},
   "outputs": [],
   "source": [
    "# Visulizate the features per cell\n",
    "VlnPlot(obj, features = c(\"nFeature_RNA\", \"nCount_RNA\", \"percent.mt\", \"percent.hg\"), ncol = 4)"
   ]
  },
  {
   "cell_type": "code",
   "execution_count": null,
   "id": "59226ea0",
   "metadata": {},
   "outputs": [],
   "source": [
    "# filter outliers\n",
    "obj <- subset(obj, nFeature_RNA < 9000 & percent.mt < 20)\n",
    "obj"
   ]
  },
  {
   "cell_type": "code",
   "execution_count": null,
   "id": "9cdcef3f",
   "metadata": {},
   "outputs": [],
   "source": [
    "# normalize (usually log scaled) the gene expression value to stablize the variance\n",
    "# Comparsion of different normlize method. ref: Ahlmann-Eltze, C., Huber, W. Comparison of transformations for single-cell RNA-seq data. Nat Methods 20, 665–672 (2023). https://doi.org/10.1038/s41592-023-01814-1  \n",
    "\n",
    "obj <- NormalizeData(obj)"
   ]
  },
  {
   "cell_type": "code",
   "execution_count": null,
   "id": "8da2002b",
   "metadata": {},
   "outputs": [],
   "source": [
    "# select the high variable expressed genes \n",
    "obj <- FindVariableFeatures(obj, selection.method = \"vst\", nfeatures = 2000)"
   ]
  },
  {
   "cell_type": "code",
   "execution_count": null,
   "id": "6a72964f",
   "metadata": {},
   "outputs": [],
   "source": [
    "# scaled the features for PCA analysis and clust cells by these features\n",
    "obj <- ScaleData(obj, features = VariableFeatures(obj))\n",
    "obj <- RunPCA(obj, features =  VariableFeatures(obj))\n",
    "\n",
    "# Cluster cell groups\n",
    "obj <- FindNeighbors(obj, dims = 1:10)\n",
    "obj <- FindClusters(obj, resolution = 0.5)"
   ]
  },
  {
   "cell_type": "code",
   "execution_count": null,
   "id": "4e230a82",
   "metadata": {},
   "outputs": [],
   "source": [
    "DimPlot(obj, reduction = \"pca\")"
   ]
  },
  {
   "cell_type": "code",
   "execution_count": null,
   "id": "7a791011",
   "metadata": {},
   "outputs": [],
   "source": [
    "# Reduce feature space to 2D space\n",
    "obj <- RunUMAP(obj, dims = 1:10)\n",
    "DimPlot(obj, reduction = \"umap\")"
   ]
  },
  {
   "cell_type": "code",
   "execution_count": null,
   "id": "18ffeef5",
   "metadata": {},
   "outputs": [],
   "source": [
    "# label the clusters\n",
    "DimPlot(obj, label=TRUE, label.size = 10, label.box = TRUE)"
   ]
  },
  {
   "cell_type": "code",
   "execution_count": null,
   "id": "8d3d634f",
   "metadata": {},
   "outputs": [],
   "source": [
    "# find gene markers for each cell group \n",
    "markers <- FindAllMarkers(obj, only.pos = TRUE, min.pct = 0.25, logfc.threshold = 0.25)"
   ]
  },
  {
   "cell_type": "code",
   "execution_count": null,
   "id": "32a20a48",
   "metadata": {},
   "outputs": [],
   "source": [
    "markers %>% group_by(cluster) %>% slice_max(n = 5, order_by = avg_log2FC)"
   ]
  },
  {
   "cell_type": "code",
   "execution_count": null,
   "id": "c464452a",
   "metadata": {},
   "outputs": [],
   "source": [
    "# select top 1 gene marker for each cell group and put to `sel`\n",
    "markers %>% group_by(cluster) %>% slice_max(n = 1, order_by = avg_log2FC) %>% pull(gene) %>% unique() -> sel"
   ]
  },
  {
   "cell_type": "code",
   "execution_count": null,
   "id": "d10bcda2",
   "metadata": {},
   "outputs": [],
   "source": [
    "options(repr.plot.width=15, repr.plot.height=10) # change the size of figure\n",
    "# plot expression level of marker genes on umap plot\n",
    "FeaturePlot(obj, features = sel, ncol = 4) "
   ]
  },
  {
   "cell_type": "code",
   "execution_count": null,
   "id": "d6862a46",
   "metadata": {},
   "outputs": [],
   "source": [
    "# merge gene expression for cells in the same cell group and generate a gene-group expression matrix.\n",
    "DefaultAssay(obj) <- \"RNA\"\n",
    "mat <- AggregateExpression(obj, assays = \"RNA\", slot=\"counts\")\n",
    "markers %>% group_by(cluster) %>% slice_max(n = 100, order_by = avg_log2FC) %>% pull(gene) %>% unique()->sel\n",
    "mat <- mat$RNA[sel,]\n",
    "dim(mat)"
   ]
  },
  {
   "cell_type": "code",
   "execution_count": null,
   "id": "6dff5495",
   "metadata": {},
   "outputs": [],
   "source": [
    "# enrichment analysis\n",
    "require(msigdbr) # to load database\n",
    "require(GSVA)\n",
    "require(ComplexHeatmap)\n",
    "\n",
    "kegg.dat <-  msigdbr(species = \"Homo sapiens\", category = \"C2\", subcategory = \"CP:KEGG\") \n",
    "kegg.genes <- split(kegg.dat$gene_symbol, kegg.dat$gs_name)\n",
    "gsva.kegg.result <- gsva(expr=mat, gset.idx.list=kegg.genes, kcdf=\"Poisson\", verbose=FALSE, parallel.sz = 16, mx.diff=1)\n",
    "options(repr.plot.width=10, repr.plot.height=20) # change the size of figure\n",
    "Heatmap(gsva.kegg.result)\n",
    "\n",
    "#go.dat <- msigdbr(species = \"Homo sapiens\", category = \"C5\") %>% filter(gs_subcat != \"HPO\")\n",
    "#go.genes <- split(go.dat$gene_symbol, go.dat$gs_name)\n",
    "\n",
    "#gsva.go.result <- gsva(expr=mat, gset.idx.list=go.genes, kcdf=\"Poisson\", verbose=FALSE, parallel.sz = 16, mx.diff=1)\n",
    "#Heatmap(gsva.go.result)"
   ]
  },
  {
   "cell_type": "markdown",
   "id": "4718c139",
   "metadata": {},
   "source": [
    "# Section two, alternative expression analysis"
   ]
  },
  {
   "cell_type": "code",
   "execution_count": null,
   "id": "2806e344",
   "metadata": {},
   "outputs": [],
   "source": [
    "# Load the exon expression file and add the exon-cell matrix to the Seurat object\n",
    "exon <- ReadPISA(\"/course/bgi23/quan/exon/\")\n",
    "obj[['EXON']] <- CreateAssayObject(exon[, colnames(obj)], min.cells=30)"
   ]
  },
  {
   "cell_type": "code",
   "execution_count": null,
   "id": "74397fcf",
   "metadata": {},
   "outputs": [],
   "source": [
    "rm(exon)\n",
    "# A new EPT assay now created\n",
    "names(obj)"
   ]
  },
  {
   "cell_type": "code",
   "execution_count": null,
   "id": "e61440af",
   "metadata": {},
   "outputs": [],
   "source": [
    "# Check the meta data for features. Try to understand between meta.features and obj@meta.data\n",
    "head(obj[['RNA']]@meta.features)"
   ]
  },
  {
   "cell_type": "code",
   "execution_count": null,
   "id": "9459d2e0",
   "metadata": {},
   "outputs": [],
   "source": [
    "# set up the default assay to \"EXON\", let's move to exon analysis\n",
    "DefaultAssay(obj) <- \"EXON\""
   ]
  },
  {
   "cell_type": "code",
   "execution_count": null,
   "id": "49333394",
   "metadata": {},
   "outputs": [],
   "source": [
    "head(obj[['EXON']]@meta.features)"
   ]
  },
  {
   "cell_type": "code",
   "execution_count": null,
   "id": "fd5b0632",
   "metadata": {},
   "outputs": [],
   "source": [
    "obj <- ParseExonName(obj)"
   ]
  },
  {
   "cell_type": "code",
   "execution_count": null,
   "id": "03d2d011",
   "metadata": {},
   "outputs": [],
   "source": [
    "# update exon annotation\n",
    "head(obj[['EXON']]@meta.features)"
   ]
  },
  {
   "cell_type": "code",
   "execution_count": null,
   "id": "6bd036aa",
   "metadata": {},
   "outputs": [],
   "source": [
    "# calculate the autocorrelation score (here use Moran's I) for all exon features\n",
    "obj <- RunAutoCorr(obj, threads = 8)"
   ]
  },
  {
   "cell_type": "code",
   "execution_count": null,
   "id": "686f78cd",
   "metadata": {},
   "outputs": [],
   "source": [
    "# select the spatial autocorrelated features for downstream analysis\n",
    "obj <- SetAutoCorrFeatures(obj, moransi.min = 0.1)"
   ]
  },
  {
   "cell_type": "code",
   "execution_count": null,
   "id": "a0c4ff28",
   "metadata": {},
   "outputs": [],
   "source": [
    "# This step may take a while; depending on the feature number and cell number, the runtime may range from seconds to hours. \n",
    "# The default permutation step is 1000. It's probably too overwhelming. Here, we change perm to 100 to save time.\n",
    "obj <- RunBlockCorr(obj, block.name = \"gene_name\", block.assay = \"RNA\", threads=8, perm=100)"
   ]
  },
  {
   "cell_type": "code",
   "execution_count": null,
   "id": "d7d01e8e",
   "metadata": {},
   "outputs": [],
   "source": [
    "options(repr.plot.width=15, repr.plot.height=5) # change the size of figure\n",
    "# Plot Genome wide feature binding test plot\n",
    "FbtPlot(obj, val = \"gene_name.pval\")"
   ]
  },
  {
   "cell_type": "code",
   "execution_count": null,
   "id": "ed13ed60",
   "metadata": {},
   "outputs": [],
   "source": [
    "obj[['EXON']]@meta.features %>% filter(gene_name.pval < 0.001) "
   ]
  },
  {
   "cell_type": "code",
   "execution_count": null,
   "id": "a03af17e",
   "metadata": {},
   "outputs": [],
   "source": [
    "# Normalize Exon expression for featureplot\n",
    "obj <- NormalizeData(obj)"
   ]
  },
  {
   "cell_type": "code",
   "execution_count": null,
   "id": "407b9129",
   "metadata": {},
   "outputs": [],
   "source": [
    "options(repr.plot.width=10, repr.plot.height=5) # change the size of figure\n",
    "# random pick one exon and its related gene, visulise these features on all cells\n",
    "FeaturePlot(obj, features = c(\"chr19:16095264-16095357/+/TPM4\", \"TPM4\"), order = TRUE, pt.size=1)"
   ]
  },
  {
   "cell_type": "code",
   "execution_count": null,
   "id": "056ceece",
   "metadata": {},
   "outputs": [],
   "source": [
    "# Prepare GTF database for track plots \n",
    "db <- gtf2db(\"/course/bgi23/quan/gencode.v44.annotation.gtf.gz\")"
   ]
  },
  {
   "cell_type": "code",
   "execution_count": null,
   "id": "636529c7",
   "metadata": {},
   "outputs": [],
   "source": [
    "options(repr.plot.width=15, repr.plot.height=10) # change the size of figure\n",
    "#plot alignment tracks\n",
    "plotTracks(bamfile=\"/course/bgi23/quan/Parent_SC3v3_Human_Glioblastoma_possorted_genome_bam.bam\", db=db, gene=\"TPM4\",cell.group =  Idents(obj), highlight=c(16095264,16095357))"
   ]
  },
  {
   "cell_type": "code",
   "execution_count": null,
   "id": "500da0a8",
   "metadata": {},
   "outputs": [],
   "source": [
    "#Set max.depth to 1000 and plot tracks again\n",
    "plotTracks(bamfile=\"/course/bgi23/quan/Parent_SC3v3_Human_Glioblastoma_possorted_genome_bam.bam\", max.depth=1000, db=db, gene=\"TPM4\",cell.group =  Idents(obj), highlight=c(16095264,16095357))"
   ]
  },
  {
   "cell_type": "markdown",
   "id": "8fd99762",
   "metadata": {},
   "source": [
    "## Task 1: Try to explain the biased coverage of gene expression with the knowledge you learned today."
   ]
  },
  {
   "cell_type": "markdown",
   "id": "fddf41e9",
   "metadata": {},
   "source": [
    "## Task 2:\n",
    "\n",
    "* plot more alternative expressed exons and genes on UMAP\n",
    "* plot alignment tracks of these genes"
   ]
  },
  {
   "cell_type": "code",
   "execution_count": null,
   "id": "dd67c093",
   "metadata": {},
   "outputs": [],
   "source": []
  }
 ],
 "metadata": {
  "kernelspec": {
   "display_name": "R",
   "language": "R",
   "name": "ir"
  },
  "language_info": {
   "codemirror_mode": "r",
   "file_extension": ".r",
   "mimetype": "text/x-r-source",
   "name": "R",
   "pygments_lexer": "r",
   "version": "4.1.2"
  }
 },
 "nbformat": 4,
 "nbformat_minor": 5
}
