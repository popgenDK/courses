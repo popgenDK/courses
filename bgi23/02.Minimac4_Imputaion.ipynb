{
 "cells": [
  {
   "cell_type": "markdown",
   "id": "7dfddad8",
   "metadata": {
    "kernel": "Calysto Bash"
   },
   "source": [
    "# First you may check the list of options by Minimac4"
   ]
  },
  {
   "cell_type": "code",
   "execution_count": null,
   "id": "5a3893bb",
   "metadata": {
    "kernel": "Python 3 (ipykernel)"
   },
   "outputs": [],
   "source": [
    "%matplotlib inline"
   ]
  },
  {
   "cell_type": "code",
   "execution_count": null,
   "id": "9282589a",
   "metadata": {
    "kernel": "Bash",
    "scrolled": true
   },
   "outputs": [],
   "source": [
    "cp -r /home/jupyter-bgi23_siyang/software/Minimac4 .\n",
    "cd ./Minimac4\n",
    "mkdir -p ./test/output\n",
    "minimac4=`pwd`/build/minimac4 \n",
    "input=`pwd`/test/input\n",
    "output=`pwd`/test/output\n",
    "$minimac4 --help\n"
   ]
  },
  {
   "cell_type": "markdown",
   "id": "1527c95b",
   "metadata": {
    "kernel": "Calysto Bash"
   },
   "source": [
    "# Format the data"
   ]
  },
  {
   "cell_type": "code",
   "execution_count": null,
   "id": "ffcb5b16",
   "metadata": {
    "kernel": "Bash"
   },
   "outputs": [],
   "source": [
    "bcftools view ${input}/ref_panel_with_haploid_sample.vcf -Oz -o ${output}/ref_panel_with_haploid_sample.vcf.gz\n",
    "bcftools view ${input}/tar_panel_with_haploid_sample.vcf -Oz -o ${output}/tar_panel_with_haploid_sample.vcf.gz\n",
    "\n",
    "bcftools index ${output}/ref_panel_with_haploid_sample.vcf.gz\n",
    "bcftools index ${output}/tar_panel_with_haploid_sample.vcf.gz\n",
    "less -S ${input}/ref_panel_with_haploid_sample.vcf|wc -l"
   ]
  },
  {
   "cell_type": "markdown",
   "id": "e16827dd",
   "metadata": {
    "kernel": "Calysto Bash"
   },
   "source": [
    "# Reference Panel Creation"
   ]
  },
  {
   "cell_type": "code",
   "execution_count": null,
   "id": "d89611c1",
   "metadata": {
    "kernel": "Bash"
   },
   "outputs": [],
   "source": [
    "$minimac4 --compress-reference \\\n",
    "    ${output}/ref_panel_with_haploid_sample.vcf.gz > ${output}/ref_panel_with_haploid_sample.msav\n"
   ]
  },
  {
   "cell_type": "markdown",
   "id": "7c10a3d0",
   "metadata": {
    "kernel": "Calysto Bash"
   },
   "source": [
    "# A typical Minimac4 command line for imputation"
   ]
  },
  {
   "cell_type": "code",
   "execution_count": null,
   "id": "c8080fa8",
   "metadata": {
    "kernel": "Bash"
   },
   "outputs": [],
   "source": [
    "$minimac4 ${output}/ref_panel_with_haploid_sample.msav ${output}/tar_panel_with_haploid_sample.vcf.gz -f GT -O vcf.gz --temp-buffer 2 > ${output}/imputed_vcf.gz\n",
    "\n"
   ]
  },
  {
   "cell_type": "markdown",
   "id": "740991a2",
   "metadata": {
    "kernel": "Calysto Bash"
   },
   "source": [
    "# View the result"
   ]
  },
  {
   "cell_type": "code",
   "execution_count": null,
   "id": "9e3c3216",
   "metadata": {
    "kernel": "Bash"
   },
   "outputs": [],
   "source": [
    "less -S ${output}/imputed_vcf.gz|head -n 20\n",
    "gunzip -c ${output}/imputed_vcf.gz|wc -l"
   ]
  },
  {
   "cell_type": "code",
   "execution_count": null,
   "id": "2b729a27",
   "metadata": {
    "kernel": "Bash"
   },
   "outputs": [],
   "source": [
    "drawr2=/home/jupyter-bgi23_siyang/scripts/draw_r2.py\n",
    "python $drawr2 ${output}/imputed_vcf.gz"
   ]
  },
  {
   "cell_type": "code",
   "execution_count": null,
   "id": "24bbdd5d",
   "metadata": {
    "kernel": "Python 3 (ipykernel)"
   },
   "outputs": [],
   "source": [
    "#Visualize distribution of the MACH R2 \n",
    "import sys\n",
    "import gzip\n",
    "import re\n",
    "import pandas as pd\n",
    "\n",
    "import matplotlib.pyplot as plt\n",
    "import seaborn as sns\n",
    "\n",
    "\n",
    "if __name__ == \"__main__\":\n",
    "    in_fname = \"Minimac4/test/output/imputed_vcf.gz\"\n",
    "\n",
    "    data = []\n",
    "    with gzip.open(in_fname, \"rt\") if in_fname.endswith(\".gz\") else open(in_fname) as f:\n",
    "        for line in f:\n",
    "            if line.startswith(\"#\"):\n",
    "                continue\n",
    "\n",
    "            col = line.strip().split()\n",
    "\n",
    "            # af = float(re.search(\";?AF=([^;]+)\", col[7]).group(1))\n",
    "            m = re.search(\";?R2=([^;]+)\", col[7])\n",
    "            if m:\n",
    "                r2 = float(m.group(1))\n",
    "                data.append(r2)\n",
    "\n",
    "\n",
    "    df = pd.DataFrame({\"R2\": data})\n",
    "\n",
    "    f, ax = plt.subplots(1,1,figsize=(6, 4), constrained_layout=True)\n",
    "    sns.histplot(data=df[df[\"R2\"]!=0], x=\"R2\", kde=True, color=\"b\", ax=ax)\n",
    "    ax.set_yscale(\"log\")\n",
    "    plt.show()\n"
   ]
  }
 ],
 "metadata": {
  "kernelspec": {
   "display_name": "SoS",
   "language": "sos",
   "name": "sos"
  },
  "language_info": {
   "codemirror_mode": "sos",
   "file_extension": ".sos",
   "mimetype": "text/x-sos",
   "name": "sos",
   "nbconvert_exporter": "sos_notebook.converter.SoS_Exporter",
   "pygments_lexer": "sos"
  },
  "sos": {
   "kernels": [
    [
     "Bash",
     "bash",
     "bash",
     "",
     "shell"
    ],
    [
     "Python 3 (ipykernel)",
     "python3",
     "python3",
     "",
     {
      "name": "ipython",
      "version": 3
     }
    ]
   ],
   "panel": {
    "displayed": false,
    "height": 0
   },
   "version": "0.24.1"
  }
 },
 "nbformat": 4,
 "nbformat_minor": 5
}
