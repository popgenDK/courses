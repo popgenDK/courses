{
 "cells": [
  {
   "cell_type": "code",
   "execution_count": null,
   "id": "a6059c79",
   "metadata": {},
   "outputs": [],
   "source": [
    "library(TwoSampleMR)\n",
    "library(data.table)\n",
    "library(ggplot2)"
   ]
  },
  {
   "cell_type": "code",
   "execution_count": null,
   "id": "eeea918d",
   "metadata": {},
   "outputs": [],
   "source": [
    "list.files(\"/course/bgi23/huanhuan/\")"
   ]
  },
  {
   "cell_type": "code",
   "execution_count": null,
   "id": "04a46d9a",
   "metadata": {},
   "outputs": [],
   "source": [
    "# Use BMI as exposure variable\n",
    "bmi_exp_dat <- extract_instruments(outcomes =\"ieu-a-2\")\n",
    "#bmi_exp_dat <- as.data.frame(fread(\"/course/bgi23/huanhuan/bmi_exp_dat.txt\",header=T))\n",
    "# Use Coronary heart disease as outcome variable\n",
    "chd_out_dat <- extract_outcome_data(snps = bmi_exp_dat$SNP, outcomes = \"ieu-a-7\")\n",
    "#chd_out_dat <- as.data.frame(fread(\"/course/bgi23/huanhuan/chd_out_dat.txt\",header=T))\n",
    "# Harmonize data\n",
    "dat <- harmonise_data(bmi_exp_dat, chd_out_dat)\n",
    "#saveRDS(dat, \"MR_huanhuan.harmonized.rds\")\n"
   ]
  },
  {
   "cell_type": "code",
   "execution_count": null,
   "id": "af6fb081",
   "metadata": {},
   "outputs": [],
   "source": [
    "dat <- readRDS(\"/course/bgi23/huanhuan/MR_huanhuan.harmonized.rds\")"
   ]
  },
  {
   "cell_type": "code",
   "execution_count": null,
   "id": "48d1853f",
   "metadata": {
    "scrolled": false
   },
   "outputs": [],
   "source": [
    "# Perform MR\n",
    "res <- mr(dat)\n",
    "\n",
    "\n",
    "####F-statistic:\n",
    "beta = bmi_exp_dat$beta.exposure\n",
    "sebeta = bmi_exp_dat$se.exposure\n",
    "F   = beta^2/sebeta^2\n",
    "mean(F)\n",
    "\n",
    "###Horizontal pleiotropy:\n",
    "mr_pleiotropy_test(dat)\n",
    "\n",
    "###Heterogeneity:\n",
    "mr_heterogeneity(dat)\n",
    "\n",
    "###Leave-one-out:\n",
    "res_loo <- mr_leaveoneout(dat)\n",
    "\n",
    "\n",
    "# Scatter plot\n",
    "mr_scatter_plot(res, dat)\n",
    "\n",
    "# Forest plot\n",
    "res_single <- mr_singlesnp(dat)\n",
    "mr_forest_plot(res_single)\n",
    "\n",
    "# Leave-one-out\n",
    "res_loo <- mr_leaveoneout(dat)\n",
    "mr_leaveoneout_plot(res_loo)\n",
    "\n",
    "# Funnel plot\n",
    "res_single <- mr_singlesnp(dat)\n",
    "mr_funnel_plot(res_single)\n",
    "\n"
   ]
  }
 ],
 "metadata": {
  "kernelspec": {
   "display_name": "R",
   "language": "R",
   "name": "ir"
  },
  "language_info": {
   "codemirror_mode": "r",
   "file_extension": ".r",
   "mimetype": "text/x-r-source",
   "name": "R",
   "pygments_lexer": "r",
   "version": "4.1.2"
  }
 },
 "nbformat": 4,
 "nbformat_minor": 5
}
