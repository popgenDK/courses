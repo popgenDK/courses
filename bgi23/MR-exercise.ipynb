{
 "cells": [
  {
   "cell_type": "markdown",
   "id": "83f26263",
   "metadata": {},
   "source": [
    "# MR exercises"
   ]
  },
  {
   "cell_type": "code",
   "execution_count": null,
   "id": "a6059c79",
   "metadata": {
    "scrolled": true
   },
   "outputs": [],
   "source": [
    "library(TwoSampleMR)\n",
    "library(data.table)\n",
    "library(ggplot2)"
   ]
  },
  {
   "cell_type": "markdown",
   "id": "92b37532",
   "metadata": {},
   "source": []
  },
  {
   "cell_type": "code",
   "execution_count": null,
   "id": "04a46d9a",
   "metadata": {},
   "outputs": [],
   "source": [
    "# Use BMI as exposure variable\n",
    "\n",
    "#bmi_exp_dat <- extract_instruments(outcomes =\"ieu-a-2\")\n",
    "bmi_exp_dat <- readRDS(\"/course/bgi23/malthe/friday/ieu-a-2.rds\")\n",
    "\n",
    "bmi_exp_dat\n"
   ]
  },
  {
   "cell_type": "markdown",
   "id": "9f761d8d",
   "metadata": {},
   "source": []
  },
  {
   "cell_type": "code",
   "execution_count": null,
   "id": "a990ae3c",
   "metadata": {},
   "outputs": [],
   "source": [
    "#bmi_exp_dat <- as.data.frame(fread(\"/course/bgi23/huanhuan/bmi_exp_dat.txt\",header=T))\n",
    "# Use Coronary heart disease as outcome variable\n",
    "#chd_out_dat <- extract_outcome_data(snps = bmi_exp_dat$SNP, outcomes = \"ieu-a-7\")\n",
    "chd_out_dat <- readRDS(\"/course/bgi23/malthe/friday/ieu-a-7-out.rds\")\n",
    "chd_out_dat"
   ]
  },
  {
   "cell_type": "markdown",
   "id": "14215b81",
   "metadata": {},
   "source": []
  },
  {
   "cell_type": "code",
   "execution_count": null,
   "id": "7b412769",
   "metadata": {},
   "outputs": [],
   "source": [
    "# Harmonize data\n",
    "dat <- harmonise_data(bmi_exp_dat, chd_out_dat)\n",
    "#saveRDS(dat, \"MR_huanhuan.harmonized.rds\")"
   ]
  },
  {
   "cell_type": "markdown",
   "id": "e94aaf0b",
   "metadata": {},
   "source": []
  },
  {
   "cell_type": "code",
   "execution_count": null,
   "id": "89e8e167",
   "metadata": {},
   "outputs": [],
   "source": [
    "# Perform MR\n",
    "res <- mr(dat)\n"
   ]
  },
  {
   "cell_type": "markdown",
   "id": "883b25a8",
   "metadata": {},
   "source": [
    "### F-statistic:\n"
   ]
  },
  {
   "cell_type": "code",
   "execution_count": null,
   "id": "a2f26111",
   "metadata": {},
   "outputs": [],
   "source": [
    "beta = bmi_exp_dat$beta.exposure\n",
    "sebeta = bmi_exp_dat$se.exposure\n",
    "F   = beta^2/sebeta^2\n",
    "mean(F)"
   ]
  },
  {
   "cell_type": "markdown",
   "id": "0c42abe3",
   "metadata": {},
   "source": []
  },
  {
   "cell_type": "code",
   "execution_count": null,
   "id": "d2d894b0",
   "metadata": {},
   "outputs": [],
   "source": [
    "\n",
    "###Horizontal pleiotropy:\n",
    "mr_pleiotropy_test(dat)"
   ]
  },
  {
   "cell_type": "markdown",
   "id": "7c816032",
   "metadata": {},
   "source": []
  },
  {
   "cell_type": "code",
   "execution_count": null,
   "id": "48d1853f",
   "metadata": {},
   "outputs": [],
   "source": [
    "###Heterogeneity:\n",
    "mr_heterogeneity(dat)\n",
    "\n"
   ]
  },
  {
   "cell_type": "markdown",
   "id": "f477f525",
   "metadata": {},
   "source": []
  },
  {
   "cell_type": "code",
   "execution_count": null,
   "id": "7110a12e",
   "metadata": {},
   "outputs": [],
   "source": [
    "###Leave-one-out:\n",
    "res_loo <- mr_leaveoneout(dat)\n",
    "\n",
    "\n"
   ]
  },
  {
   "cell_type": "markdown",
   "id": "51a77bd3",
   "metadata": {},
   "source": []
  },
  {
   "cell_type": "code",
   "execution_count": null,
   "id": "c14b2ca9",
   "metadata": {},
   "outputs": [],
   "source": [
    "# Scatter plot\n",
    "mr_scatter_plot(res, dat)\n",
    "\n"
   ]
  },
  {
   "cell_type": "markdown",
   "id": "7685fab2",
   "metadata": {},
   "source": []
  },
  {
   "cell_type": "code",
   "execution_count": null,
   "id": "d4fb48b1",
   "metadata": {
    "scrolled": true
   },
   "outputs": [],
   "source": [
    "# Forest plot\n",
    "res_single <- mr_singlesnp(dat)\n",
    "mr_forest_plot(res_single)\n",
    "\n"
   ]
  },
  {
   "cell_type": "markdown",
   "id": "e710a19e",
   "metadata": {},
   "source": []
  },
  {
   "cell_type": "code",
   "execution_count": null,
   "id": "5a76d998",
   "metadata": {},
   "outputs": [],
   "source": [
    "# Leave-one-out\n",
    "res_loo <- mr_leaveoneout(dat)\n",
    "mr_leaveoneout_plot(res_loo)\n",
    "\n"
   ]
  },
  {
   "cell_type": "markdown",
   "id": "416f75e5",
   "metadata": {},
   "source": []
  },
  {
   "cell_type": "code",
   "execution_count": null,
   "id": "c9870411",
   "metadata": {},
   "outputs": [],
   "source": [
    "# Funnel plot\n",
    "res_single <- mr_singlesnp(dat)\n",
    "mr_funnel_plot(res_single)\n",
    "\n"
   ]
  },
  {
   "cell_type": "markdown",
   "id": "61f93e35",
   "metadata": {},
   "source": []
  },
  {
   "cell_type": "code",
   "execution_count": null,
   "id": "8ab5d42c",
   "metadata": {},
   "outputs": [],
   "source": [
    "exposure_dat <- format_data(\n",
    "  dat,\n",
    "  type = \"exposure\",\n",
    "  snps = NULL,\n",
    "  header = TRUE,\n",
    "  phenotype_col = \"Phenotype\",\n",
    "  snp_col = \"SNP\",\n",
    "  beta_col = \"beta\",\n",
    "  se_col = \"se\",\n",
    "  eaf_col = \"eaf\",\n",
    "  effect_allele_col = \"effect_allele\",\n",
    "  other_allele_col = \"other_allele\",\n",
    "  pval_col = \"pval\",\n",
    "  units_col = \"units\",\n",
    "  ncase_col = \"ncase\",\n",
    "  ncontrol_col = \"ncontrol\",\n",
    "  samplesize_col = \"samplesize\",\n",
    "  gene_col = \"gene\",\n",
    ")\n"
   ]
  },
  {
   "cell_type": "code",
   "execution_count": null,
   "id": "5cb4fa26",
   "metadata": {},
   "outputs": [],
   "source": []
  },
  {
   "cell_type": "code",
   "execution_count": null,
   "id": "589a3bf1",
   "metadata": {},
   "outputs": [],
   "source": [
    "exp_dat = clump_data(\n",
    "    exposure_dat,\n",
    "    clump_kb = 10000,\n",
    "    clump_r2 = 0.1,\n",
    "    clump_p1 = 1,\n",
    "    clump_p2 = 1,\n",
    "    pop = \"EAS\"\n",
    "  )\n",
    "exp_dat"
   ]
  },
  {
   "cell_type": "markdown",
   "id": "353bf182",
   "metadata": {},
   "source": []
  },
  {
   "cell_type": "markdown",
   "id": "23ef7d0d",
   "metadata": {},
   "source": []
  },
  {
   "cell_type": "code",
   "execution_count": null,
   "id": "a41c0fd9",
   "metadata": {},
   "outputs": [],
   "source": [
    "# Get instruments\n",
    "exposure_dat1 <- extract_instruments(\"ieu-a-299\")\n",
    "\n"
   ]
  },
  {
   "cell_type": "markdown",
   "id": "60dcb757",
   "metadata": {},
   "source": []
  },
  {
   "cell_type": "code",
   "execution_count": null,
   "id": "5f69d70a",
   "metadata": {},
   "outputs": [],
   "source": [
    "# Get effects of instruments on outcome\n",
    "outcome_dat1 <- extract_outcome_data(snps=exposure_dat$SNP, outcomes=\"ieu-a-7\")\n",
    "\n"
   ]
  },
  {
   "cell_type": "markdown",
   "id": "80e124fb",
   "metadata": {},
   "source": []
  },
  {
   "cell_type": "code",
   "execution_count": null,
   "id": "3148fce7",
   "metadata": {},
   "outputs": [],
   "source": [
    "# Harmonise the exposure and outcome data\n",
    "dat <- harmonise_data(exposure_dat1, outcome_dat1)\n"
   ]
  },
  {
   "cell_type": "markdown",
   "id": "15eb9f7a",
   "metadata": {},
   "source": []
  },
  {
   "cell_type": "code",
   "execution_count": null,
   "id": "a924e721",
   "metadata": {},
   "outputs": [],
   "source": []
  },
  {
   "cell_type": "markdown",
   "id": "15823329",
   "metadata": {},
   "source": [
    "## Multivariate MR\n"
   ]
  },
  {
   "cell_type": "code",
   "execution_count": null,
   "id": "802e0264",
   "metadata": {},
   "outputs": [],
   "source": [
    "id_exposure <- c(\"ieu-a-299\",\"ieu-a-300\", \"ieu-a-302\") # HDL cholesterol，LDL cholesterol, Triglycerides\n",
    "#exposure_dat <- mv_extract_exposures(id_exposure)\n",
    "exposure_dat <-  readRDS(\"/course/bgi23/malthe/friday/exposure.rds\")\n"
   ]
  },
  {
   "cell_type": "markdown",
   "id": "e54154e8",
   "metadata": {},
   "source": [
    "The code below takes a couple of minutes"
   ]
  },
  {
   "cell_type": "code",
   "execution_count": null,
   "id": "80c976b5",
   "metadata": {},
   "outputs": [],
   "source": [
    "outcome_dat <- extract_outcome_data(exposure_dat$SNP, \"ieu-a-7\")\n",
    "\n",
    "outcome_dat"
   ]
  },
  {
   "cell_type": "markdown",
   "id": "db67440a",
   "metadata": {},
   "source": []
  },
  {
   "cell_type": "code",
   "execution_count": null,
   "id": "967aa564",
   "metadata": {},
   "outputs": [],
   "source": [
    "mvdat <- mv_harmonise_data(exposure_dat,  outcome_dat) \n",
    "mvdat"
   ]
  },
  {
   "cell_type": "markdown",
   "id": "69445af3",
   "metadata": {},
   "source": []
  },
  {
   "cell_type": "code",
   "execution_count": null,
   "id": "963823c1",
   "metadata": {},
   "outputs": [],
   "source": [
    "res <- mv_multiple(mvdat) \n",
    "res"
   ]
  },
  {
   "cell_type": "markdown",
   "id": "f74763be",
   "metadata": {},
   "source": []
  }
 ],
 "metadata": {
  "kernelspec": {
   "display_name": "R",
   "language": "R",
   "name": "ir"
  },
  "language_info": {
   "codemirror_mode": "r",
   "file_extension": ".r",
   "mimetype": "text/x-r-source",
   "name": "R",
   "pygments_lexer": "r",
   "version": "4.1.2"
  }
 },
 "nbformat": 4,
 "nbformat_minor": 5
}
