{
 "cells": [
  {
   "cell_type": "markdown",
   "metadata": {
    "kernel": "SoS"
   },
   "source": [
    "# 1. Resources and set up\n",
    "- [`PSMC`](https://github.com/lh3/psmc)\n",
    "- [`VCF file format`](https://samtools.github.io/hts-specs/VCFv4.2.pdf)\n",
    "- [`vcftools`](https://vcftools.github.io/index.html)\n",
    "- [`1000 genomes high coverage variant calls`](https://www.internationalgenome.org/data-portal/sample)\n",
    "- `Cattle genomes high coverage variant calls`\n",
    "\n",
    "We have prepared all required tools and data for this exercise. Please enjoy the exercise !"
   ]
  },
  {
   "cell_type": "markdown",
   "metadata": {
    "kernel": "SoS"
   },
   "source": [
    "We will use the `psmc` tool to estimate the effective population size for our data. But instead of directly using bam files, we will use a variant calling format (vcf) file as the starting point. In this tutorial, we will first take a look at a vcf file, then look at how a vcf file is converted to an input for `psmc` using a custom python script. And finally, run psmc on simulated and real data to see how well we can estimate effective population size $N_e$. Note that `psmc` relies on high coverage data where we can estimate genotypes accurately, which is one of the reasons we are working in our exercises with vcf files. "
   ]
  },
  {
   "cell_type": "markdown",
   "metadata": {
    "kernel": "SoS"
   },
   "source": [
    "# 2. Data\n",
    "In this tutorial, we will use 3 sets of data. First, we will use three simulated samples as input data to estimate the effective population size in those three populations. The advantage here is that here we know what the true population size should be, so therefore we can test whether `psmc` is able to give a correct result. In the second part of the exercises, we will use data from the 1000 genomes project, namely 2 human individuals, NA12718 - a CEU female sample (Northern European ancestry), and NA19471 - a female Luhya sample from Kenya, to compare and contrast how the effective population sizes vary between these two populations. Lastly, we will use one sample of European cattle (*Bos taurus*): Limousin_ROUSTAN, one sample from their close relative, the Bali cattle (a domesticated population of the banteng, *Bos javanicus*): N_7B, and one sample that is the hybrid offspring of a Bali cattle and a regular cattle: N_31B. The latter sample will help us to understand what happens when we analyze an admixed sample using `psmc`."
   ]
  },
  {
   "cell_type": "markdown",
   "metadata": {
    "kernel": "SoS"
   },
   "source": [
    "Before we begin, let us take a look at the vcf file format using the simulated data with three individuals, one from each simulated population. Note that all the vcf files are zipped, so we will use `zcat` to display them."
   ]
  },
  {
   "cell_type": "code",
   "execution_count": null,
   "metadata": {
    "kernel": "Bash"
   },
   "outputs": [],
   "source": [
    "zcat /course/bgi23/rasmus/shyam/psmc_tutorial/data/threeinds.recode.vcf.gz | head -10"
   ]
  },
  {
   "cell_type": "markdown",
   "metadata": {
    "kernel": "SoS"
   },
   "source": [
    "All the lines starting with `##` are information header lines which describe the VCF file. The line beginning with `#CHROM` is the header line describing the contents of the subsequent data lines. Each data line contains information on a single variant. As you can also see, each individual s1_1, s2_1 and s3_1 has a column with the genotype for that individual at each variant. Here \"0|0\" is homozygous for the reference (REF) allele, \"0|1\" is heterozygous, and \"1|1\" is homozygous for the alternate (ALT) allele."
   ]
  },
  {
   "cell_type": "markdown",
   "metadata": {
    "kernel": "SoS"
   },
   "source": [
    "We will use the vcf files to generate input files for our `psmc` analysis. Note that this is __NOT__ the prefered method to generate input files for `psmc`. The prefered method is to generate the input files directly from bam files, and that information can be found [here](https://github.com/lh3/psmc). \n",
    "\n",
    "__Question:__ Why do you think vcf files are not the preferred format? What information do you think is missing?"
   ]
  },
  {
   "cell_type": "code",
   "execution_count": null,
   "metadata": {
    "kernel": "Bash"
   },
   "outputs": [],
   "source": [
    "cp /davidData/data/course/bgi23/rasmus/shyam/psmc_tutorial/images/*.png ./"
   ]
  },
  {
   "cell_type": "markdown",
   "metadata": {
    "kernel": "SoS"
   },
   "source": [
    "# 3. Working with simulated data\n",
    "\n",
    "In this first exercise, we will look at simulated data. The simulation setup looked like this:\n",
    "\n",
    "(please run the following code to show the plot)"
   ]
  },
  {
   "cell_type": "code",
   "execution_count": null,
   "metadata": {
    "kernel": "Python 3 (ipykernel)"
   },
   "outputs": [],
   "source": [
    "## check the output image\n",
    "from IPython.display import Image # import image module \n",
    "Image(url=\"popsize.png\", width=600, height=600)"
   ]
  },
  {
   "cell_type": "markdown",
   "metadata": {
    "kernel": "Python 3 (ipykernel)"
   },
   "source": [
    "We will try and reconstruct the population sizes using `psmc` to see if we can faithfully reconstruct the population sizes. First, let us construct a psmcfa file - an input fasta file for psmc from the vcf files. \n",
    "\n",
    "## psmcfa file\n",
    "\n",
    "A psmcfa file is a fasta representation of the genome (or part of a genome), where each entry (letter) represents if there exists a heterozygous variant in a fixed size window. Let us try and understand this by converting our vcf file to a psmcfa file. We will use the custom script `vcf2psmcfa.py` to do this. Note that this script expects that the vcf file contains only 1 \"chromosome\", which is not the case for a general vcf file. The script takes 2 input parameters - the vcf file name and the name of the sample. The output file name is derived from the name of the sample. It also uses a fixed window size of 100 bp. "
   ]
  },
  {
   "cell_type": "code",
   "execution_count": null,
   "metadata": {
    "kernel": "Bash"
   },
   "outputs": [],
   "source": [
    "python2 /course/bgi23/rasmus/shyam/psmc_tutorial/scripts/vcf2psmcfa.py /course/bgi23/rasmus/shyam/psmc_tutorial/data/threeinds.recode.vcf.gz s1_1\n",
    "python2 /course/bgi23/rasmus/shyam/psmc_tutorial/scripts/vcf2psmcfa.py /course/bgi23/rasmus/shyam/psmc_tutorial/data/threeinds.recode.vcf.gz s2_1\n",
    "python2 /course/bgi23/rasmus/shyam/psmc_tutorial/scripts/vcf2psmcfa.py /course/bgi23/rasmus/shyam/psmc_tutorial/data/threeinds.recode.vcf.gz s3_1"
   ]
  },
  {
   "cell_type": "markdown",
   "metadata": {
    "kernel": "SoS"
   },
   "source": [
    "Let us take a quick look at one of the psmcfa files. "
   ]
  },
  {
   "cell_type": "code",
   "execution_count": null,
   "metadata": {
    "kernel": "Bash"
   },
   "outputs": [],
   "source": [
    "head /course/bgi23/rasmus/shyam/psmc_tutorial/data/s2_1.psmcfa"
   ]
  },
  {
   "cell_type": "markdown",
   "metadata": {
    "kernel": "SoS"
   },
   "source": [
    "It appears to be a regular fasta file, with only \"T\" and \"K\". Here a \"T\" represents a 100 bp window without any heterozygous sites in it, whereas a \"K\" represents a 100 bp window with at least 1 heterozygous site in it. \n",
    "\n",
    "__Question:__ Given the population histories, which of the three samples would you expect to have the highest number of heterozygous windows?"
   ]
  },
  {
   "cell_type": "markdown",
   "metadata": {
    "kernel": "SoS"
   },
   "source": [
    "## Running psmc\n",
    "\n",
    "Now it is time for us to run our first `psmc` analysis. Let us first look at the options for running psmc. "
   ]
  },
  {
   "cell_type": "code",
   "execution_count": null,
   "metadata": {
    "kernel": "Bash"
   },
   "outputs": [],
   "source": [
    "/course/bgi23/rasmus/psmc/psmc"
   ]
  },
  {
   "cell_type": "markdown",
   "metadata": {
    "kernel": "SoS"
   },
   "source": [
    "In particular, note the `-p` option, which allows us to specify a pattern of parameters. As we discussed in the lecture before, we divide up time into discrete bins. This pattern allows us to estimate the same parameter for multiple consecutive time bins. For example - the default pattern 4+5\\*3+4 splits time up into 23 bins (4+15+4), where only 1 parameter is estimated for the first 4 bins, then 1 parameter is estimmated for the next 5 triples of bins, and 1 parameter for the last 4 bins. So the total number of paramters we are estimating is 7 (1+5+1). Note this also in the plots for the effective population size, when we plot them. \n",
    "\n",
    "Let us now run psmc for the first time - we will just use the default values for the options, while still explicitly specifying the parameter pattern. This pattern is quite coarse, but we will try and estimate it again with finer time bins in the next section.  \n",
    "\n",
    "__Question:__ Can you think of a reason why the most recent and oldest time bins are quite often merged to get only 1 parameter?"
   ]
  },
  {
   "cell_type": "code",
   "execution_count": null,
   "metadata": {
    "kernel": "Bash"
   },
   "outputs": [],
   "source": [
    "/course/bgi23/rasmus/psmc/psmc -p \"4+5*3+4\" -o s1_1_coarsePattern.psmc /course/bgi23/rasmus/shyam/psmc_tutorial/data/s1_1.psmcfa\n",
    "/course/bgi23/rasmus/psmc/psmc -p \"4+5*3+4\" -o s2_1_coarsePattern.psmc /course/bgi23/rasmus/shyam/psmc_tutorial/data/s2_1.psmcfa\n",
    "/course/bgi23/rasmus/psmc/psmc -p \"4+5*3+4\" -o s3_1_coarsePattern.psmc /course/bgi23/rasmus/shyam/psmc_tutorial/data/s3_1.psmcfa"
   ]
  },
  {
   "cell_type": "markdown",
   "metadata": {
    "kernel": "SoS"
   },
   "source": [
    "Let us take a look at one of the output files, and discuss its contents. "
   ]
  },
  {
   "cell_type": "code",
   "execution_count": null,
   "metadata": {
    "kernel": "Bash"
   },
   "outputs": [],
   "source": [
    "tail -34 s1_1_coarsePattern.psmc"
   ]
  },
  {
   "cell_type": "markdown",
   "metadata": {
    "kernel": "SoS"
   },
   "source": [
    "Let us now cat the psmc outputs for all 3 samples, and plot them into a pdf. "
   ]
  },
  {
   "cell_type": "code",
   "execution_count": null,
   "metadata": {
    "kernel": "Bash"
   },
   "outputs": [],
   "source": [
    "cat s1_1_coarsePattern.psmc \\\n",
    "    s2_1_coarsePattern.psmc s3_1_coarsePattern.psmc > combined_coarsePattern.psmc "
   ]
  },
  {
   "cell_type": "markdown",
   "metadata": {
    "kernel": "SoS"
   },
   "source": [
    "We will use the inbuilt plotting functions in psmc to plot them. "
   ]
  },
  {
   "cell_type": "code",
   "execution_count": null,
   "metadata": {
    "kernel": "Bash"
   },
   "outputs": [],
   "source": [
    "perl /course/bgi23/rasmus/psmc/utils/psmc_plot.pl"
   ]
  },
  {
   "cell_type": "code",
   "execution_count": null,
   "metadata": {
    "kernel": "Bash"
   },
   "outputs": [],
   "source": [
    "perl /course/bgi23/rasmus/psmc/utils/psmc_plot.pl -u 2.5e-08 -s 100 -Y 1 -m 5 -n 30 -p -M \"Pop1, Pop2, Pop3\" Simulations_coarsePattern combined_coarsePattern.psmc\n",
    "convert Simulations_coarsePattern.pdf Simulations_coarsePattern.png"
   ]
  },
  {
   "cell_type": "code",
   "execution_count": null,
   "metadata": {
    "kernel": "Python 3 (ipykernel)"
   },
   "outputs": [],
   "source": [
    "## check the output image\n",
    "from IPython.display import Image # import image module \n",
    "Image(url=\"Simulations_coarsePattern.png\", width=600, height=600)"
   ]
  },
  {
   "cell_type": "markdown",
   "metadata": {
    "kernel": "SoS"
   },
   "source": [
    "\n",
    "__Question:__ Can you see the differences in the population sizes? Do they make sense to you? Do they match up with you simulation scheme?"
   ]
  },
  {
   "cell_type": "markdown",
   "metadata": {
    "kernel": "SoS"
   },
   "source": [
    "Now that we know how to run psmc, and plot the output, we could run the psmc for the same samples, but with a much finer time pattern of \"4+25\\*2+4+6\", and plot the output. \n",
    "\n",
    "__Question:__ What would you expect the output to be? \n",
    "\n",
    "\n",
    "__Question:__ Does the output plot from the finer time pattern match the coarser time pattern? Which one would you prefer?\n",
    "\n",
    "\n",
    "__Question:__ Is it always better to use a finer resolution? Why or why not?\n"
   ]
  },
  {
   "cell_type": "markdown",
   "metadata": {
    "kernel": "SoS"
   },
   "source": [
    "# 4. PSMC on real world samples"
   ]
  },
  {
   "cell_type": "markdown",
   "metadata": {
    "kernel": "SoS"
   },
   "source": [
    "## 4.1 human data sets\n",
    "We are now going to shift gears to estimate the effective population sizes from 2 samples in the 1000 genomes consoritum. We will only be using data from chromosome 1 due to time constraints. Further, we have already run the commands that generate the psmcfa files using our custom script, so you do not need to do that."
   ]
  },
  {
   "cell_type": "code",
   "execution_count": null,
   "metadata": {
    "kernel": "Bash"
   },
   "outputs": [],
   "source": [
    "echo python2 /course/bgi23/rasmus/shyam/psmc_tutorial/scripts/vcf2psmcfa.py /course/bgi23/rasmus/shyam/psmc_tutorial/data/1kg_2samps_chr1_noindels.recode.vcf.gz NA12718\n",
    "echo python2 /course/bgi23/rasmus/shyam/psmc_tutorial/scripts/vcf2psmcfa.py /course/bgi23/rasmus/shyam/psmc_tutorial/data/1kg_2samps_chr1_noindels.recode.vcf.gz NA19471"
   ]
  },
  {
   "cell_type": "markdown",
   "metadata": {
    "kernel": "SoS"
   },
   "source": [
    "__Task__ The psmcfa files are called NA12718_chr1.psmcfa and NA19471_chr1.psmcfa. Using the same sets of commands we used in the previous section, run psmc on these 2 samples using the pattern \"4+25\\*2+4+6\". Note that this will take about 10 minutes to run."
   ]
  },
  {
   "cell_type": "markdown",
   "metadata": {
    "kernel": "SoS"
   },
   "source": [
    "If you are short on time, or are tired of waiting, I have the psmc files for these samples already generated. They are called NA12718_chr1.psmc and NA19471_chr1.psmc. Use the plotting command - you might have to remove the -Y option from the command from the last section - to plot these. \n",
    "\n",
    "Here is my output from psmc runs on these 2 samples. Please run the following code to show the output plot."
   ]
  },
  {
   "cell_type": "code",
   "execution_count": null,
   "metadata": {
    "kernel": "Python 3 (ipykernel)"
   },
   "outputs": [],
   "source": [
    "## check the output image\n",
    "from IPython.display import Image # import image module \n",
    "Image(url=\"1kg_chr1.png\", width=600, height=600)"
   ]
  },
  {
   "cell_type": "markdown",
   "metadata": {
    "kernel": "SoS"
   },
   "source": [
    "__Question:__ Interpret these effective population size plots for an European and an African population.\n",
    "\n",
    "__Question:__ Connect the recent high population size of African populations to what you know about the genetic variation seen in Africa. "
   ]
  },
  {
   "cell_type": "markdown",
   "metadata": {
    "kernel": "SoS"
   },
   "source": [
    "### Effect of low coverage\n",
    "\n",
    "In the last section, we will explore the effects of low coverage on effective population size estimation. First let me ask you a quesiton?\n",
    "\n",
    "__Question:__ What will happen to genotype calling with decreasing coverage, for a single individual? Think about which kind of genotypes will be hard to call? Homozygote or heterozygote?\n",
    "\n",
    "I have run psmc 2 extra times for the sample NA12718, where I intentionally mask 10% and 20% of the heterozygote sites to mimic the effects of low coverage. \n",
    "\n",
    "__Question:__ What do you expect will happen to the effective population size estimates?"
   ]
  },
  {
   "cell_type": "markdown",
   "metadata": {
    "kernel": "SoS"
   },
   "source": [
    "Here is my psmc plot for the these three scenarios: (Please run the following code to show the plot)"
   ]
  },
  {
   "cell_type": "code",
   "execution_count": null,
   "metadata": {
    "kernel": "Python 3 (ipykernel)"
   },
   "outputs": [],
   "source": [
    "## check the output image\n",
    "from IPython.display import Image # import image module \n",
    "Image(url=\"NA12718.png\", width=600, height=600)"
   ]
  },
  {
   "cell_type": "markdown",
   "metadata": {
    "kernel": "Python 3 (ipykernel)"
   },
   "source": [
    "__Question:__ Can you explain the reduction in the $N_e$ with increasing missingness of heterozygotes?"
   ]
  },
  {
   "cell_type": "markdown",
   "metadata": {
    "kernel": "SoS"
   },
   "source": [
    "### Estimating uncertainty in $N_e$ estimates\n",
    "\n",
    "Due to time constraints, we will not delve into details here, but one can estimate the uncertainty in the $N_e$ estimates from psmc using bootstrapping, where the genome is broken into chunks and resampled. An example of bootstrapped estimates: (Please run the following code to see the plot)"
   ]
  },
  {
   "cell_type": "code",
   "execution_count": null,
   "metadata": {
    "kernel": "Python 3 (ipykernel)"
   },
   "outputs": [],
   "source": [
    "## check the output image\n",
    "from IPython.display import Image # import image module \n",
    "Image(url=\"bootstrap.png\", width=600, height=600)"
   ]
  },
  {
   "cell_type": "markdown",
   "metadata": {
    "kernel": "Bash"
   },
   "source": [
    "__Question:__ Why do the most recent time periods have the highest variance in $N_e$ estimates?"
   ]
  },
  {
   "cell_type": "markdown",
   "metadata": {
    "kernel": "SoS"
   },
   "source": [
    "## 4.2 Cattle data\n",
    "We are now going to estimate the effective population sizes from 3 samples of cattles. We will only be using data from chromosome 1 due to time constraints. We will also be slightly reducing the resolution, but you can feel free to try using the same resolution settings as above for the human data.\n",
    "\n",
    "**Note: running PSMC may take around 10 mins**"
   ]
  },
  {
   "cell_type": "code",
   "execution_count": null,
   "metadata": {
    "kernel": "Bash"
   },
   "outputs": [],
   "source": [
    "python2 /course/bgi23/rasmus/cattles/vcf2psmcfa.py /course/bgi23/rasmus/cattles/Cattles.4inds.vcf.gz N_7B\n",
    "python2 /course/bgi23/rasmus/cattles/vcf2psmcfa.py /course/bgi23/rasmus/cattles/Cattles.4inds.vcf.gz N_31B\n",
    "python2 /course/bgi23/rasmus/cattles/vcf2psmcfa.py /course/bgi23/rasmus/cattles/Cattles.4inds.vcf.gz Limousin_ROUSTAN"
   ]
  },
  {
   "cell_type": "code",
   "execution_count": null,
   "metadata": {
    "kernel": "Bash"
   },
   "outputs": [],
   "source": [
    "/course/bgi23/rasmus/psmc/psmc -p \"4+10*2+4+6\" -o N_7B.425246.psmc N_7B.psmcfa\n",
    "/course/bgi23/rasmus/psmc/psmc -p \"4+10*2+4+6\" -o N_31B.425246.psmc N_31B.psmcfa\n",
    "/course/bgi23/rasmus/psmc/psmc -p \"4+10*2+4+6\" -o Limousin_ROUSTAN.425246.psmc Limousin_ROUSTAN.psmcfa"
   ]
  },
  {
   "cell_type": "code",
   "execution_count": null,
   "metadata": {
    "kernel": "Bash"
   },
   "outputs": [],
   "source": [
    "cat N_7B.425246.psmc Limousin_ROUSTAN.425246.psmc > two.combined_cattles.425246.psmc\n",
    "perl /course/bgi23/rasmus/psmc/utils/psmc_plot.pl -u 1.26e-08 -g 6 -s 100 -m 5 -n 30 -p -M \"PureBali,EuropeanTaurine\" two.combined_cattles.425246.psmc.plot two.combined_cattles.425246.psmc\n",
    "convert two.combined_cattles.425246.psmc.plot.pdf two.combined_cattles.425246.psmc.plot.png\n",
    "cat N_7B.425246.psmc N_31B.425246.psmc Limousin_ROUSTAN.425246.psmc > combined_cattles.425246.psmc\n",
    "perl /course/bgi23/rasmus/psmc/utils/psmc_plot.pl -u 1.26e-08 -g 6 -s 100 -m 5 -n 30 -p -M \"PureBali,Hybrid,EuropeanTaurine\" combined_cattles.425246.psmc.plot combined_cattles.425246.psmc\n",
    "convert combined_cattles.425246.psmc.plot.pdf combined_cattles.425246.psmc.plot.png"
   ]
  },
  {
   "cell_type": "markdown",
   "metadata": {
    "kernel": "Python 3 (ipykernel)"
   },
   "source": [
    "check the outputs"
   ]
  },
  {
   "cell_type": "code",
   "execution_count": null,
   "metadata": {
    "kernel": "Python 3 (ipykernel)"
   },
   "outputs": [],
   "source": [
    "# import image module \n",
    "from IPython.display import Image # import image module \n",
    "Image(url=\"combined_cattles.425246.psmc.plot.png\", width=600, height=600)"
   ]
  },
  {
   "cell_type": "code",
   "execution_count": null,
   "metadata": {
    "kernel": "Python 3 (ipykernel)"
   },
   "outputs": [],
   "source": [
    "Image(url=\"two.combined_cattles.425246.psmc.plot.png\", width=600, height=600)"
   ]
  },
  {
   "cell_type": "markdown",
   "metadata": {
    "kernel": "SoS"
   },
   "source": [
    "### Effect of admixture\n",
    "\n",
    "__Question__: Look at the curves for cattle and Bali cattle - what can we see here?\n",
    "\n",
    "__Question__: How about the hybrid sample? How does admixture impact the inference of effective population size? "
   ]
  }
 ],
 "metadata": {
  "kernelspec": {
   "display_name": "SoS",
   "language": "sos",
   "name": "sos"
  },
  "language_info": {
   "codemirror_mode": "sos",
   "file_extension": ".sos",
   "mimetype": "text/x-sos",
   "name": "sos",
   "nbconvert_exporter": "sos_notebook.converter.SoS_Exporter",
   "pygments_lexer": "sos"
  },
  "sos": {
   "kernels": [
    [
     "Bash",
     "bash",
     "bash",
     "",
     "shell"
    ],
    [
     "Python 3 (ipykernel)",
     "python3",
     "python3",
     "",
     {
      "name": "ipython",
      "version": 3
     }
    ]
   ],
   "panel": {
    "displayed": false,
    "height": 0
   },
   "version": "0.24.1"
  }
 },
 "nbformat": 4,
 "nbformat_minor": 2
}
