{
 "cells": [
  {
   "cell_type": "code",
   "execution_count": null,
   "id": "e1b2e194",
   "metadata": {
    "kernel": "SoS"
   },
   "outputs": [],
   "source": []
  },
  {
   "cell_type": "markdown",
   "id": "e29ad476",
   "metadata": {
    "kernel": "SoS"
   },
   "source": [
    "# intro to HTS data\n",
    "In this exercise will cover the following:\n",
    "\n",
    " - File formats (FASTQ, SAM/BAM, VCF)\n",
    " - Mapping (single-end, paired-end) NGS data to a reference sequence\n",
    " - Read flags\n",
    " - VERY IMPORTANT, you need to identify the 'pipe' button on your computer '|'. That is the character that looks like a vertical bar, on a standard American keyboard this can be found by pressing shift+'button left of enter' or 'button above enter"
   ]
  },
  {
   "cell_type": "markdown",
   "id": "b6e660df",
   "metadata": {
    "kernel": "SoS"
   },
   "source": [
    "## Environment setup"
   ]
  },
  {
   "cell_type": "code",
   "execution_count": null,
   "id": "21b80b59",
   "metadata": {
    "kernel": "Calysto Bash"
   },
   "outputs": [],
   "source": [
    "# shared tools and data folder\n",
    "TOOL_PATH=/home/users/shixu/Software # for standalone tool script including java package\n",
    "SHARED_PATH=/home/users/shixu/shared # For reference database\n",
    "INPUT_PATH=/home/users/shixu/chinacourse2025/shared_data/NGSIntro  # for input data"
   ]
  },
  {
   "cell_type": "code",
   "execution_count": null,
   "id": "d4439654",
   "metadata": {
    "kernel": "Calysto Bash"
   },
   "outputs": [],
   "source": [
    "NA19238_1_FQ=${INPUT_PATH}/fastq/NA19238.YRI.low_coverage.chr21_1.fq.gz\n",
    "NA19238_2_FQ=${INPUT_PATH}/fastq/NA19238.YRI.low_coverage.chr21_2.fq.gz\n",
    "CHR21=${INPUT_PATH}/human/chr21.fa.gz\n",
    "\n",
    "# JAVA program\n",
    "PICARD=${TOOL_PATH}/picard.jar\n",
    "\n",
    "echo --programs that are installed:--\n",
    "which samtools\n",
    "which bwa\n",
    "which angsd\n",
    "which bcftools\n",
    "ls $PICARD\n",
    "\n",
    "\n",
    "echo --Datasets that will be use--\\\n",
    "echo pair of fastQ files\n",
    "ls $NA19238_1_FQ\n",
    "ls $NA19238_1_FQ\n",
    "\n",
    "echo reference genome\n",
    "ls $CHR21\n"
   ]
  },
  {
   "cell_type": "markdown",
   "id": "4538c524",
   "metadata": {
    "kernel": "SoS"
   },
   "source": [
    "First make a folder for the exercise and had a symbolic link to the reference genomes and the fastQ files"
   ]
  },
  {
   "cell_type": "code",
   "execution_count": null,
   "id": "aee54f0f",
   "metadata": {
    "kernel": "Calysto Bash"
   },
   "outputs": [],
   "source": [
    "#make folder and enter it\n",
    "mkdir -p ~/day1_ngsintro\n",
    "cd ~/day1_ngsintro\n",
    "\n",
    "#make links to files and add them to the folder\n",
    "cp -sf  $NA19238_1_FQ .\n",
    "cp -sf  $NA19238_2_FQ .\n",
    "cp -sf  ${CHR21}* .\n",
    "\n",
    "echo --- files in folder ---\n",
    "ls"
   ]
  },
  {
   "cell_type": "code",
   "execution_count": null,
   "id": "c2469a65",
   "metadata": {
    "kernel": "R"
   },
   "outputs": [],
   "source": [
    "# set up R working space\n",
    "work_d <- path.expand(\"~/day1_ngsintro\")\n",
    "setwd(work_d)"
   ]
  },
  {
   "cell_type": "code",
   "execution_count": null,
   "id": "1aa36658",
   "metadata": {
    "kernel": "Python 3 (ipykernel)"
   },
   "outputs": [],
   "source": [
    "# set up python working space\n",
    "import os\n",
    "work_d = os.path.expanduser(\"~/day1_ngsintro\")\n",
    "os.chdir(work_d)"
   ]
  },
  {
   "cell_type": "markdown",
   "id": "b4101546",
   "metadata": {
    "kernel": "SoS"
   },
   "source": [
    "## Mapping one reduced genome\n",
    "In this exercise you will align a fastq file using bwa and generate a SAM file.\n",
    "\n",
    "Due to the computational time we have created a reduced genome from one of the individuals from the 1000genomes pilot project. The individual, NA19238, has been sequenced using llumina. For this excerice we have created a reduced reference genome consisting only of chromosome 21 (the smallest human chromosome) and also reduced the sequencing data to reads that will likely map to chromosome 21 with the first 15Mb of the chromosome.  \n",
    "\n",
    " The fastQ file NA19238.YRI.low_coverage.chr21_1.fq.gz has variable name with *_1.fq.gz  which is first read or the read pair \n",
    " \n",
    " We first want map both read pairs to the reference genome chr21.fa.gz.\n",
    " \n",
    " \n",
    " \n",
    "### Viewing the input files\n",
    "\n",
    "view the fastq file (NA19238......1.fq.gz) using the head command and identity the reads and quality scores (ignore the length)\n"
   ]
  },
  {
   "cell_type": "code",
   "execution_count": null,
   "id": "d5e3d61b",
   "metadata": {
    "kernel": "Calysto Bash"
   },
   "outputs": [],
   "source": [
    "# -n defermines the number of lines printed\n",
    "gunzip -c NA19238.YRI.low_coverage.chr21_2.fq.gz | head -n 2000\n"
   ]
  },
  {
   "cell_type": "markdown",
   "id": "4401059d",
   "metadata": {
    "kernel": "SoS"
   },
   "source": [
    " - identify the read names, the sequence, the base quality scores. Fill in the ???? below\n",
    "<code>\n",
    "?????        @SRR794309.186 \n",
    "?????        GTTGGCGTGGGTGCAGTGATGAGGGAACACTTCTACACTGCTGGTGGGATTGTAAGCTAGTATAGCCACCACAGAAAACAGTGTGGAGATTTCTTAAAGA\n",
    "        +\n",
    "?????        CCCFFFFDHHHFHIIJEHIJJHIJJIJIJJJJJJJJJJJJJJJJFHIJGJHIGIJJJJHHEEEHHFFFFFDDDEDDDDDDDCCACDDDDDDDDEDDEDDD\n",
    "</code>\n",
    "View the reference fasta file (chr21.fa.gz) using the head command."
   ]
  },
  {
   "cell_type": "markdown",
   "id": "ee989104",
   "metadata": {
    "kernel": "Calysto Bash"
   },
   "source": [
    "The below command count the number of lines in the file\n",
    " - How many lines to you have ????\n",
    " - How many Reads in the data ????\n",
    " - is the number of lines the same in the 2 fastQ files ???? ( modify the code below to see the number of lines in the other file)"
   ]
  },
  {
   "cell_type": "code",
   "execution_count": null,
   "id": "3f46b96d",
   "metadata": {
    "kernel": "Calysto Bash",
    "scrolled": true
   },
   "outputs": [],
   "source": [
    "gunzip -c NA19238.YRI.low_coverage.chr21_2.fq.gz |  wc -l"
   ]
  },
  {
   "cell_type": "markdown",
   "id": "480ac89c",
   "metadata": {
    "kernel": "Calysto Bash"
   },
   "source": [
    "View the reference fasta file (chr21.fa.gz) using the head command. The first many bases of the refence genome is all Ns ( unknown bases).\n",
    "First view the first bases of chr21 then then try to view other parts. You can modify the below uncommented code below\n",
    "\n"
   ]
  },
  {
   "cell_type": "code",
   "execution_count": null,
   "id": "d509b201",
   "metadata": {
    "kernel": "Calysto Bash"
   },
   "outputs": [],
   "source": [
    "# first 20 lines\n",
    "gunzip -c chr21.fa.gz | head -n 20\n",
    "\n",
    "# last 100 lines of the first million  lines (uncomment and modify below)\n",
    "# gunzip -c chr21.fa.gz | head -n 1000000 | tail -n 100"
   ]
  },
  {
   "cell_type": "markdown",
   "id": "3e14e90d",
   "metadata": {
    "kernel": "SoS"
   },
   "source": [
    "\n",
    "## Aligning\n",
    "\n",
    "Align the reads using bwa. We use bwa in the exercises because it is fast and widely used. We first need to index the reference chromosome, followed by the actual aligning process. If should take around 1 min to finish. \n"
   ]
  },
  {
   "cell_type": "code",
   "execution_count": null,
   "id": "a059553e",
   "metadata": {
    "kernel": "Calysto Bash"
   },
   "outputs": [],
   "source": [
    "## # we will use the prepared index files\n",
    "# bwa index chr21.fa.gz"
   ]
  },
  {
   "cell_type": "markdown",
   "id": "2eb6081f",
   "metadata": {
    "kernel": "SoS"
   },
   "source": [
    "Once the index is made, the second step is to map the reads. There are several ways to do this, but I suggest you use the bwa mem mode, which is the most commonly used these days. Again you can run it with no arguments to get info about how to use it. "
   ]
  },
  {
   "cell_type": "code",
   "execution_count": null,
   "id": "a6ac7a81",
   "metadata": {
    "kernel": "Calysto Bash"
   },
   "outputs": [],
   "source": [
    "# see options\n",
    "bwa mem"
   ]
  },
  {
   "cell_type": "markdown",
   "id": "8ad695bd",
   "metadata": {
    "kernel": "Calysto Bash"
   },
   "source": [
    "The number of options may be a bit overwhelming, but you can run it with no additional options, although I suggest you add \"-t 5\" to run 5 threads if your computer has multiple cores. It reads the compressed fastq files directly, so you need not decompress them. By default the result comes on stdout (in the terminal), so you have to redirect to a file, like the below command. \n",
    "We also want to add a read group name with information about where the reads comes from. This is very usefull if you have sequencing data from multiple libraries.  \n",
    "Now try to align the data\n"
   ]
  },
  {
   "cell_type": "code",
   "execution_count": null,
   "id": "380f6f1f",
   "metadata": {
    "kernel": "Calysto Bash"
   },
   "outputs": [],
   "source": [
    "#align the data ( take ~ 1 min)\n",
    "bwa mem -R '@RG\\tID:foo\\tSM:bar\\tLB:library1' -t 5 chr21.fa.gz NA19238.YRI.low_coverage.chr21_1.fq.gz NA19238.YRI.low_coverage.chr21_2.fq.gz  > NA19238.sam"
   ]
  },
  {
   "cell_type": "markdown",
   "id": "2d51fdbb",
   "metadata": {
    "kernel": "Calysto Bash"
   },
   "source": [
    "Lets look at the generated sam file"
   ]
  },
  {
   "cell_type": "code",
   "execution_count": null,
   "id": "d284f16e",
   "metadata": {
    "kernel": "Calysto Bash"
   },
   "outputs": [],
   "source": [
    "# view first 100 lines\n",
    "head -n100 NA19238.sam"
   ]
  },
  {
   "cell_type": "markdown",
   "id": "5ce8a4de",
   "metadata": {
    "kernel": "SoS"
   },
   "source": [
    "You can read about the sam output here: https://bioinformatics-core-shared-training.github.io/cruk-summer-school-2017/Day1/Session5-alignedReads.html  \n",
    "\n",
    " - Identify the header and explain its contents. \n",
    " - For the first read identify the following and fill in the (?????) below\n",
    "     - the chromosome\n",
    "     - the position of the first base of the read \n",
    "     - The mapping qualty\n",
    "     - The alignment (cigar string)\n",
    "     - the insert size (template length)\n",
    "     - the read(the bases)\n",
    "     - the base qualities\n",
    " <code>\n",
    " SRR794309.186\t(the name of the read)\n",
    " 99 \t\t\t(FLAGS)\n",
    " chr21\t\t\t(?????)\n",
    " 16239093\t\t(?????\n",
    " 60\t\t\t\t(?????\n",
    " 100M\t\t\t(?????\n",
    " =\t\t\t\t(name of the mate is the same)\n",
    " 16239300\t\t(position of the mate)\n",
    " 307\t\t\t(?????)\n",
    " CCTTTTTATGGCTGAGTAGTATTCCACAGTTTCTTTACCCACTCCTTGATCAATAGGCACTTGGGTTGGTTCCACGATTTTGCATTTGTGAATTGTGTTG\t\t(?????)\n",
    " CCCFFFFFHHHHHJJJFHIFHHJIJJJJJHIJJJJJIIJJJJJJJJJIHIIJJJJJJJJJJJJJJFHIJHFHHHHFFFDDEEEEEEDEACCEEECDCCDD\t\t(?????)\n",
    " NM:i:0\tMD:Z:100\tMC:Z:100M\tAS:i:100\tXS:i:26\tRG:Z:foo  (TAGS)\n",
    " </code>\n",
    " \n",
    " \n",
    " To understand the flags (second column in the sam format) you can type a flag into this page and get the meaning: https://broadinstitute.github.io/picard/explain-flags.html\n",
    " \n",
    "\n",
    "\n",
    "Lets try to find the number of reads  in the samfile.\n"
   ]
  },
  {
   "cell_type": "code",
   "execution_count": null,
   "id": "bdafc63c",
   "metadata": {
    "kernel": "Calysto Bash"
   },
   "outputs": [],
   "source": [
    "wc -l NA19238.sam "
   ]
  },
  {
   "cell_type": "markdown",
   "id": "e85d2f1e",
   "metadata": {
    "kernel": "SoS"
   },
   "source": [
    "Why is it not the same number as in the fastQ file?\n",
    "\n",
    "\n",
    "\n",
    "Fortunately there are tools to handle sam files, which will make your life easier. We will use the samtools program. First, you often need the compressed version of the sam format, which is called bam. You use samtools view for converting between formats. BAM files faciliates random access to genomic regions, but this requires the file to be sorted and requires  an index this is generated using the command below.\n",
    "Converting sam to bam is done like this:"
   ]
  },
  {
   "cell_type": "code",
   "execution_count": null,
   "id": "54d193bd",
   "metadata": {
    "kernel": "Calysto Bash"
   },
   "outputs": [],
   "source": [
    "#sam to bam\n",
    "samtools view -b NA19238.sam > NA19238.bam\n",
    "#sort bam file\n",
    "samtools sort -o NA19238.sorted.bam NA19238.bam\n",
    "#index bam file\n",
    "samtools index NA19238.sorted.bam\n",
    "\n",
    "#see sizes\n",
    "echo --- files sizes ---\n",
    "ls -lah NA19238.sam NA19238.bam NA19238.sorted.bam"
   ]
  },
  {
   "cell_type": "markdown",
   "id": "6aae4cb7",
   "metadata": {
    "kernel": "SoS"
   },
   "source": [
    "The bam file is a compressed version of sam, you can see it is about one-third of the sam file in size. \n",
    "\n",
    "\n",
    "\n",
    "We now have a functional alignment file that we can use for analysis. Lets first to view the alignment at different part of the chromosome 21. We will use tview to extact alignment. The option -d -w print  150 bases of the alignment to the terminal"
   ]
  },
  {
   "cell_type": "code",
   "execution_count": null,
   "id": "1dd69041",
   "metadata": {
    "kernel": "Calysto Bash"
   },
   "outputs": [],
   "source": [
    "samtools tview NA19238.sorted.bam  -d T -w 150 -p chr21:10002000"
   ]
  },
  {
   "cell_type": "markdown",
   "id": "2dd91046",
   "metadata": {
    "kernel": "Calysto Bash"
   },
   "source": [
    "In the above the lines are\n",
    "\n",
    "Line1: The position on chromome 21\n",
    "\n",
    "Line2: The refence genome ( N if not provided)\n",
    "\n",
    "Line3: The concensus sequence (If all reads have a G then the concensus is G)\n",
    "\n",
    "Line4+:  (lines 4,5 ect) the reads alignment\n",
    "\n",
    "\n",
    "- When looking at the region starting with position chr21:10002000 can you find a possible variable site?\n",
    "- look at chr21:10028350. Do you think there are problems with the alignment at this position?\n",
    "- look at chr21:10042151. is this a variable site or is there another likely explanation?\n",
    "\n",
    "Lets try to add the referecne genome to make it esiaer to see the sequencing error and variable sites"
   ]
  },
  {
   "cell_type": "code",
   "execution_count": null,
   "id": "ce46bfb2",
   "metadata": {
    "kernel": "Calysto Bash",
    "scrolled": true
   },
   "outputs": [],
   "source": [
    "samtools tview NA19238.sorted.bam  -d T -w 150 -p chr21:10042151 chr21.fa.gz"
   ]
  },
  {
   "cell_type": "markdown",
   "id": "5bb1ad12",
   "metadata": {
    "kernel": "Calysto Bash"
   },
   "source": [
    " - How many likelely variable sites can you see?\n",
    " - Is is possible that both of the first two sites (sites 10042151 and 10042152) are heterzygoes sites?\n",
    " - Have a look at the region staring with 9719896. Do you think the variable sites in this region are reliable (why/why not)?\n",
    " \n",
    " \n",
    " Another way to look at the genome is by generating a [pileup](http://samtools.sourceforge.net/samtools.shtml) format"
   ]
  },
  {
   "cell_type": "code",
   "execution_count": null,
   "id": "1873d555",
   "metadata": {
    "kernel": "Calysto Bash"
   },
   "outputs": [],
   "source": [
    "# see first 1000 sites where there is data\n",
    "samtools mpileup NA19238.sorted.bam  | head -n 1000"
   ]
  },
  {
   "cell_type": "markdown",
   "id": "768bbdc6",
   "metadata": {
    "kernel": "Calysto Bash"
   },
   "source": [
    "\n",
    "Each line is a position with data.\n",
    " - When is this a format particually usefull?\n",
    " \n",
    " \n",
    " From the pileup it is easiy to get the sequencing depth distribution"
   ]
  },
  {
   "cell_type": "code",
   "execution_count": null,
   "id": "67c64eac",
   "metadata": {
    "kernel": "Calysto Bash"
   },
   "outputs": [],
   "source": [
    "samtools mpileup NA19238.sorted.bam | cut -f4 | sort -n | uniq -c >dep2\n",
    "cat dep2"
   ]
  },
  {
   "cell_type": "markdown",
   "id": "6b267e10",
   "metadata": {
    "kernel": "Calysto Bash"
   },
   "source": [
    "\n",
    "the left column is the number of sites and the right is the depth. \n",
    "\n",
    "View the distribution for this individuals using the following R command\n"
   ]
  },
  {
   "cell_type": "code",
   "execution_count": null,
   "id": "4a15d246",
   "metadata": {
    "kernel": "R"
   },
   "outputs": [],
   "source": [
    "depth <- read.table(\"dep2\")\n",
    "d <- 1:15 #chosen depths to plot\n",
    "\n",
    "barplot(depth[d+1,1],names=d,xlab=\"sequencing depth\",ylab=\"Number of sites with sequencing depth \",col=\"mistyrose\")\n"
   ]
  },
  {
   "cell_type": "markdown",
   "id": "f43aeaba",
   "metadata": {
    "kernel": "Calysto Bash"
   },
   "source": [
    " - How do you think the depth will affect genotype and variant calling?\n",
    " \n",
    " First lets view the mpileup with the reference"
   ]
  },
  {
   "cell_type": "code",
   "execution_count": null,
   "id": "cf8d0e51",
   "metadata": {
    "kernel": "Calysto Bash"
   },
   "outputs": [],
   "source": [
    "samtools mpileup -f chr21.fa.gz NA19238.sorted.bam | head -n 1000"
   ]
  },
  {
   "cell_type": "markdown",
   "id": "1a6d3933",
   "metadata": {
    "kernel": "Calysto Bash"
   },
   "source": [
    " - Can you see the difference compared to not using the referecne genome. \n",
    " - Can you identify a heterozygoes site? (e.g. position 9719896)\n",
    " \n",
    " \n",
    " ### Variant calling \n",
    "  Lets create a VCF file for the first couple of MB of chr21. This is done based on the mpileup. There will be much more information tomorrow about how the calling is done using genotype likelihoods. However, before doing so we should remove duplicated reads ( read with the same starting points) as they are likely PCR duplicate"
   ]
  },
  {
   "cell_type": "code",
   "execution_count": null,
   "id": "b8e2a5ce",
   "metadata": {
    "kernel": "Calysto Bash"
   },
   "outputs": [],
   "source": [
    "## remove duplicates\n",
    "samtools rmdup -s NA19238.sorted.bam NA19238.md.bam\n",
    "\n",
    "## call variants\n",
    "bcftools mpileup -Ou -f chr21.fa.gz NA19238.md.bam | bcftools call -mv -Ov -o NA19238.vcf"
   ]
  },
  {
   "cell_type": "markdown",
   "id": "9175204e",
   "metadata": {
    "kernel": "Calysto Bash"
   },
   "source": [
    "Lets have a look at the VCF file"
   ]
  },
  {
   "cell_type": "code",
   "execution_count": null,
   "id": "f0750f46",
   "metadata": {
    "kernel": "Calysto Bash"
   },
   "outputs": [],
   "source": [
    "head -n 200 NA19238.vcf "
   ]
  },
  {
   "cell_type": "markdown",
   "id": "f8958c8f",
   "metadata": {
    "kernel": "Calysto Bash"
   },
   "source": [
    "\n",
    " The header of the VCF contains meta information about what it in the file.\n",
    "In the body of the file\n",
    " - Identify the position, the reference allele and the alternative allele of the file.\n",
    " - Identify the depth of each position\n",
    " - Find a tri-allelic site. Do you believe that it is truely triallelic?\n",
    " - How many sites are are called as variable?\n",
    " \n",
    " \n",
    " \n",
    " # Bonus exercise (Only do this part if you have finished the rest) \n",
    " ## Bonus exercise 1 -  duplicated reads using Picardtools\n",
    " \n",
    " bwa actually fills in the mate information, but not all aligners do that, so we can run picard tools to fill in the mate information and sort the file according to position. We will output the file in the binary version of SAM which is BAM"
   ]
  },
  {
   "cell_type": "code",
   "execution_count": null,
   "id": "bcf5a2c2",
   "metadata": {
    "kernel": "Calysto Bash"
   },
   "outputs": [],
   "source": [
    "\n",
    "java -jar /course/popgen23/anders/ngsIntro/picard.jar FixMateInformation INPUT=NA19238.sam \\\n",
    "OUTPUT=id.fixmate.srt.bam SORT_ORDER=coordinate"
   ]
  },
  {
   "cell_type": "markdown",
   "id": "7a002778",
   "metadata": {
    "kernel": "Calysto Bash"
   },
   "source": [
    "View the header of the BAM file"
   ]
  },
  {
   "cell_type": "code",
   "execution_count": null,
   "id": "b9289616",
   "metadata": {
    "kernel": "Calysto Bash"
   },
   "outputs": [],
   "source": [
    "samtools view -H id.fixmate.srt.bam "
   ]
  },
  {
   "cell_type": "markdown",
   "id": "173434a3",
   "metadata": {
    "kernel": "Calysto Bash"
   },
   "source": [
    "picard didn't update the PG flag, so let us update the header information so that we have documented how we modified the file."
   ]
  },
  {
   "cell_type": "code",
   "execution_count": null,
   "id": "6f46ff02",
   "metadata": {
    "kernel": "Calysto Bash"
   },
   "outputs": [],
   "source": [
    "\n",
    "(samtools view -H id.fixmate.srt.bam;echo -e \"@PG\\tID:fixmate\\tPN:fixmate\\tVN:2.60\\tCL:stuff\" ) >newhd\n",
    "samtools reheader newhd id.fixmate.srt.bam > id.fixmate.srt2.bam\n"
   ]
  },
  {
   "cell_type": "markdown",
   "id": "1d649a41",
   "metadata": {
    "kernel": "Calysto Bash"
   },
   "source": [
    " - Validate that the header in file id.fixmate.srt2.bam  has been updated"
   ]
  },
  {
   "cell_type": "code",
   "execution_count": null,
   "id": "d7d98d08",
   "metadata": {
    "kernel": "Calysto Bash",
    "scrolled": false
   },
   "outputs": [],
   "source": [
    "samtools view -H id.fixmate.srt2.bam "
   ]
  },
  {
   "cell_type": "markdown",
   "id": "de55214b",
   "metadata": {
    "kernel": "Calysto Bash"
   },
   "source": [
    "Now mark duplicates using picard"
   ]
  },
  {
   "cell_type": "code",
   "execution_count": null,
   "id": "2476dc52",
   "metadata": {
    "kernel": "Calysto Bash"
   },
   "outputs": [],
   "source": [
    "\n",
    "java -jar /course/popgen23/anders/ngsIntro/picard.jar MarkDuplicates I=id.fixmate.srt2.bam \\\n",
    "O=id.fixmate.srt.md.bam  M=metrics;\n"
   ]
  },
  {
   "cell_type": "markdown",
   "id": "7a3df8a7",
   "metadata": {
    "kernel": "Calysto Bash"
   },
   "source": [
    " - Did picard update the PG flag of the header?\n",
    " - Did picard update anything else in the header?\n",
    "\n",
    "NB you can view the header of a bamfile using 'samtools view -H'\n",
    "\n",
    "\n"
   ]
  },
  {
   "cell_type": "code",
   "execution_count": null,
   "id": "152e468b",
   "metadata": {
    "kernel": "Calysto Bash"
   },
   "outputs": [],
   "source": [
    "samtools view -H id.fixmate.srt.md.bam"
   ]
  },
  {
   "cell_type": "markdown",
   "id": "d27c2c29",
   "metadata": {
    "kernel": "Calysto Bash"
   },
   "source": [
    "\n",
    "\n",
    "## Bonus exercise 2 - clean you bam files using the FLAGS column\n",
    "\n",
    "The second column in the SAM format is the very important FLAG. This will tell tell you about the state of the paired end mapping, QC duplicates etc.\n",
    "\n",
    "\n",
    "  \n",
    "Using the samtools -F/-f you can discard/include flags that fulfill certain patterns. See http://broadinstitute.github.io/picard/explain-flags.html .\n",
    "\n",
    "  1. How many reads have we marked as duplicate in the final file.\n",
    "  2. How many properly mapped read pairs do we have? (Where both reads map to the same chr etc).\n",
    "  3. How many mapped reads do we have ?\n",
    "  4. How many unmapped reads do we have ?\n",
    "  5. Find the distribution of the RNAMES of the unmapped reads!?\n",
    "\n",
    " Run the following command one at a time by uncommenting them"
   ]
  },
  {
   "cell_type": "code",
   "execution_count": null,
   "id": "f90bd3e3",
   "metadata": {
    "kernel": "Calysto Bash"
   },
   "outputs": [],
   "source": [
    "\n",
    "\n",
    "\n",
    "#samtools view -f 1024 id.fixmate.srt.md.bam|wc -l\n",
    "#samtools view -f 2 id.fixmate.srt.md.bam|wc -l\n",
    "#samtools view -F 4 id.fixmate.srt.md.bam|wc -l\n",
    "#samtools view -f 4 id.fixmate.srt.md.bam|wc -l\n",
    "# samtools view -f 4 id.fixmate.srt.md.bam|cut -f3|sort -n |uniq -c\n",
    "\n",
    "\n"
   ]
  },
  {
   "cell_type": "markdown",
   "id": "28e8bbb2",
   "metadata": {
    "kernel": "Calysto Bash"
   },
   "source": [
    "Compare with \"samtools flagstat\" command \n"
   ]
  },
  {
   "cell_type": "code",
   "execution_count": null,
   "id": "1ece8489",
   "metadata": {
    "kernel": "Calysto Bash"
   },
   "outputs": [],
   "source": [
    "samtools flagstat id.fixmate.srt.md.bam\n"
   ]
  },
  {
   "cell_type": "markdown",
   "id": "42784277",
   "metadata": {
    "kernel": "Calysto Bash"
   },
   "source": [
    "Make a new bamfile, where you only the reads where both ends maps, and filter out those with a mapping quality below 10, and removing duplicates\n"
   ]
  },
  {
   "cell_type": "code",
   "execution_count": null,
   "id": "7fb45a0e",
   "metadata": {
    "kernel": "Calysto Bash"
   },
   "outputs": [],
   "source": [
    "samtools view -f 2 -F 1024 id.fixmate.srt.md.bam -q 10 >new.bam"
   ]
  }
 ],
 "metadata": {
  "kernelspec": {
   "display_name": "SoS",
   "language": "sos",
   "name": "sos"
  },
  "language_info": {
   "codemirror_mode": "sos",
   "file_extension": ".sos",
   "mimetype": "text/x-sos",
   "name": "sos",
   "nbconvert_exporter": "sos_notebook.converter.SoS_Exporter",
   "pygments_lexer": "sos"
  },
  "sos": {
   "kernels": [
    [
     "Calysto Bash",
     "calysto_bash",
     "bash",
     "",
     ""
    ],
    [
     "Python 3 (ipykernel)",
     "python3",
     "python3",
     "",
     ""
    ],
    [
     "R",
     "ir",
     "R",
     "",
     "r"
    ],
    [
     "SoS",
     "sos",
     "",
     "",
     "sos"
    ]
   ],
   "panel": {
    "displayed": false,
    "height": 0
   },
   "version": "0.24.1"
  }
 },
 "nbformat": 4,
 "nbformat_minor": 5
}
