{
 "cells": [
  {
   "cell_type": "markdown",
   "id": "9301f75e",
   "metadata": {
    "kernel": "SoS"
   },
   "source": [
    "# Variant calling and genotype calling\n",
    "\n",
    "let's continue from yesterdays exercises where we mapped data. "
   ]
  },
  {
   "cell_type": "markdown",
   "id": "a2dd2ef9",
   "metadata": {
    "kernel": "SoS"
   },
   "source": [
    "## Setup environment\n",
    "\n",
    "First we need to go to the same folder and make sure \n",
    "we have all the files and software we need. "
   ]
  },
  {
   "cell_type": "code",
   "execution_count": null,
   "id": "ec04d1b7",
   "metadata": {
    "kernel": "Calysto Bash"
   },
   "outputs": [],
   "source": [
    "COURSE_PATH=/course/popgen25\n",
    "DATA_PATH=$COURSE_PATH/NGSInference\n",
    "SOFTWARE_PATH=$COURSE_PATH/software\n",
    "\n",
    "REF=${DATA_PATH}/data/ref.fa.gz\n",
    "ANC=${DATA_PATH}/data/anc.fa.gz\n",
    "\n",
    "\n",
    "echo --programs that are installed:--\n",
    "\n",
    "which samtools\n",
    "which bcftools\n",
    "which angsd\n",
    "\n",
    "# enter folder\n",
    "mkdir -p ~/popgen25_NGSinference\n",
    "cd ~/popgen25_NGSinference\n",
    "\n",
    "#make sym link for data and current folder\n",
    "ln -sfn ~/popgen25_NGSinference ~/current_folder\n",
    "ln -sfn $DATA_PATH ~/data_folder\n",
    "\n",
    "echo --Reference fasta for goat:--\n",
    "ls ~/data_folder/fasta/goat.fa.gz*\n"
   ]
  },
  {
   "cell_type": "markdown",
   "id": "5848b7a2",
   "metadata": {
    "kernel": "Calysto Bash"
   },
   "source": [
    "We will use the SAM (BAM) files which has been generated during the exercise yesterday.\n",
    "\n",
    "In case that you cannot find them, we also prepared the BAM file for you."
   ]
  },
  {
   "cell_type": "code",
   "execution_count": null,
   "id": "3d3a652f",
   "metadata": {
    "kernel": "Calysto Bash"
   },
   "outputs": [],
   "source": [
    "# this exercise depends on bam file made yesterday - folder for this \n",
    "ls ~/popgen25_ngsintro/CTauTzS_8872.sorted.bam\n",
    "if [ -f ~/popgen25_ngsintro/CTauTzS_8872.sorted.bam ]; then ln -sfn ~/popgen25_ngsintro/CTauTzS_8872.sorted.bam ./; fi\n"
   ]
  },
  {
   "cell_type": "code",
   "execution_count": null,
   "id": "6dc13b37",
   "metadata": {
    "kernel": "Calysto Bash"
   },
   "outputs": [],
   "source": [
    "\n",
    "# If it says \"No such file or directory\", then let's use this pre-generated file\n",
    "ls ${DATA_PATH}/sams/CTauTzS_8872.sorted.bam\n",
    "if [ -f ${DATA_PATH}/sams/CTauTzS_8872.sorted.bam ]; then ln -sfn ${DATA_PATH}/sams/CTauTzS_8872.sorted.bam ./; fi\n"
   ]
  },
  {
   "cell_type": "markdown",
   "id": "a4b64dc8",
   "metadata": {
    "kernel": "SoS"
   },
   "source": [
    "### create VCF file\n",
    "Lets create a VCF file for the CTauTzS_8872.sorted.bam. This is done using bcftools. The ploidy is diploid (2) for mammals but otherwise we use the default settings\n"
   ]
  },
  {
   "cell_type": "code",
   "execution_count": null,
   "id": "d39636c0",
   "metadata": {
    "kernel": "Calysto Bash"
   },
   "outputs": [],
   "source": [
    "## create index for the BAM file\n",
    "samtools index CTauTzS_8872.sorted.bam\n",
    "\n",
    "## call variants\n",
    "bcftools mpileup -Ou -f ~/data_folder/fasta/goat.fa.gz CTauTzS_8872.sorted.bam -r NC_030808.1:1-1000000 | bcftools call --ploidy 2 -mv -a GQ  -Ov -o CTauTzS_8872.vcf\n"
   ]
  },
  {
   "cell_type": "markdown",
   "id": "c8781f55",
   "metadata": {
    "kernel": "SoS"
   },
   "source": [
    "Lets have a look at the VCF file\n"
   ]
  },
  {
   "cell_type": "code",
   "execution_count": null,
   "id": "0811ea61",
   "metadata": {
    "kernel": "Calysto Bash"
   },
   "outputs": [],
   "source": [
    "head -n 100 CTauTzS_8872.vcf"
   ]
  },
  {
   "cell_type": "markdown",
   "id": "526b8643",
   "metadata": {
    "kernel": "SoS"
   },
   "source": [
    "\n",
    " The header of the VCF contains meta information about what it in the file.\n",
    "In the body of the file\n",
    " - Identify the position, the reference allele and the alternative allele of the file.\n",
    " - Identify the depth of each position\n",
    " - Identify the genotype quality for each genotype call\n",
    " \n",
    " There are many sites with too little information to call variants. \n",
    " \n",
    " Let's apply some light filters. Here we remove sites with less than 8 reads (DP<8) and sites with a low quality score (QUAL<20)\n"
   ]
  },
  {
   "cell_type": "code",
   "execution_count": null,
   "id": "bcfcb2e9",
   "metadata": {
    "kernel": "Calysto Bash"
   },
   "outputs": [],
   "source": [
    "\n",
    "bcftools filter CTauTzS_8872.vcf -e 'QUAL<20 || DP < 8' > CTauTzS_8872.filt.vcf\n",
    "\n",
    "head -n 100 CTauTzS_8872.filt.vcf\n"
   ]
  },
  {
   "cell_type": "markdown",
   "id": "d74be69e",
   "metadata": {
    "kernel": "SoS"
   },
   "source": [
    "\n",
    " - How many sites are are called as variable?\n",
    " - Find a heterozygous site.  ( look for 0/1)\n",
    "\n"
   ]
  },
  {
   "cell_type": "markdown",
   "id": "2af75f46",
   "metadata": {
    "kernel": "SoS"
   },
   "source": [
    "\n",
    "\n",
    " Look at the alignment for the position\n",
    " "
   ]
  },
  {
   "cell_type": "code",
   "execution_count": null,
   "id": "03d0a309",
   "metadata": {
    "kernel": "Calysto Bash"
   },
   "outputs": [],
   "source": [
    "\n",
    "POS=6833\n",
    "\n",
    "#the site you choose is the first base of the alignment so we center it by subtracting 50 to the position\n",
    "POS50=$(($POS  - 50 ))\n",
    "samtools tview  CTauTzS_8872.sorted.bam  -d T -w 100 -p NC_030808.1:$POS50\n"
   ]
  },
  {
   "cell_type": "markdown",
   "id": "ca696807",
   "metadata": {
    "kernel": "SoS"
   },
   "source": [
    "We can use the mpileup option to get a summary of the data at that position"
   ]
  },
  {
   "cell_type": "code",
   "execution_count": null,
   "id": "fa5d58d5",
   "metadata": {
    "kernel": "Calysto Bash"
   },
   "outputs": [],
   "source": [
    "\n",
    "echo -e \"CHR\\tPOS\\tREF\\tDEPTH\\tBASES\\tbaseQuality\" > mpileup.file\n",
    "samtools mpileup CTauTzS_8872.sorted.bam -r NC_030808.1:$POS-$POS >> mpileup.file\n",
    "\n",
    "echo --- pileup of the site which shows the bases and their score ---\n",
    "column -t mpileup.file\n"
   ]
  },
  {
   "cell_type": "markdown",
   "id": "7de66a57",
   "metadata": {
    "kernel": "SoS"
   },
   "source": [
    " - At that position count the number of bases of different types\n",
    "   - #A = ??\n",
    "   - #C = ??\n",
    "   - #G = ??\n",
    "   - #T = ??"
   ]
  },
  {
   "cell_type": "markdown",
   "id": "eb6c92c2",
   "metadata": {
    "kernel": "SoS"
   },
   "source": [
    " - Calculate the genotype likelihoods and call the genotype for the site. \n",
    " \n",
    "You can use the shiny app to help with the calculations for calculating genotype likelihoods using the GATK model. Enter the BASES and their base qualities. Keep the prior (allele frequency) field blank.\n",
    "\n",
    "https://popgen.dk/shiny/anders/GL/\n",
    "\n",
    "\n",
    "The resulting values will not be exactly the same as in bcftools since bcftools uses a slightly different way of calculating the genotype likelihoods than the GATK model. \n"
   ]
  },
  {
   "cell_type": "markdown",
   "id": "016291f4",
   "metadata": {
    "kernel": "SoS"
   },
   "source": [
    "# Exercises in low depth NGS data\n",
    "\n",
    "Exercises is a modified version of [Matteo Fumagilli's exercises] that i previously did for this summer course(https://github.com/mfumagalli/Copenhagen)\n",
    "\n",
    "In this session you will learn how to do:\n",
    "* genotype calling\n",
    "* allele frequency estimation\n",
    "* variant (or SNP) calling\n",
    "### Data\n",
    "\n",
    "As an illustration, we will use 40 BAM files of human samples (of African, European, East Asian, and Native American descent), a reference genome, and putative ancestral sequence. We will also use 10 BAM files of Latinos in one example.\n",
    "\n",
    "\n",
    "*MOTIVATION*\n",
    "Detecting signatures of natural selection in the genome has the twofold meaning of (i) understanding which adaptive processes shaped genetic variation and (ii) identifying putative functional variants.\n",
    "In case of humans, biological pathways enriched with selection signatures include pigmentation, immune-system regulation and metabolic processes.\n",
    "The latter may be related to human adaptation to different diet regimes, depending on local food availability (e.g. the case of lactase persistence in dairy-practicing populations).\n",
    "\n",
    "The human Ectodysplasin A receptor gene, or EDAR, is part of the EDA signalling pathway which specifies prenatally the location, size and shape of ectodermal appendages (such as hair follicles, teeth and glands).\n",
    "EDAR is a textbook example of positive selection in East Asians (Sabeti et al. 2007 Nature) with tested phenotypic effects (using transgenic mice).\n",
    "\n",
    "Recently, a genome-wide association study found the same functional variant in EDAR associated to several human facial traits (ear shape, chin protusion, ...) in Native American populations (Adhikari et al. Nat Commun 2016).\n",
    "\n",
    "![](https://raw.githubusercontent.com/popgenDK/courses/main/summer2023/NGSinference/practical.png)\n",
    "\n",
    "\n",
    "*HYPOTHESIS*\n",
    "\n",
    "- Is the functional allele in East Asian at high frequency in other human populations (e.g. Native Americans)?\n",
    "- Can we identify signatures of natural selection on EDAR in Native Americans?\n",
    "- Is selection targeting the same functional variant?\n",
    "\n",
    "*CHALLENGES*\n",
    "- Admixed population\n",
    "- Low-depth sequencing data\n",
    "- Effect of genetic drift\n",
    "- ...\n",
    "\n",
    "\n",
    "\n",
    "We are using the program [ANGSD](http://popgen.dk/wiki/index.php/ANGSD) (Analysis of Next Generation Sequencing Data).\n",
    "More information about its rationale and implemented methods can be found [here](http://www.ncbi.nlm.nih.gov/pubmed/25420514).\n",
    "\n",
    "According to its website *ANGSD is a software for analyzing next generation sequencing data. The software can handle a number of different input types from mapped reads to imputed genotype probabilities. Most methods take genotype uncertainty into account instead of basing the analysis on called genotypes. This is especially useful for low and medium depth data.*\n",
    "\n",
    "Please make sure to follow these preparatory instructions below before running these examples. \n",
    "Briefly, you need to first login to the server with your user name and password. And once you are logged in you should set the path to the software and various data that will be used by pasting in the following code in the terminal:\n",
    "\n",
    "\n"
   ]
  },
  {
   "cell_type": "code",
   "execution_count": null,
   "id": "1678c8d8",
   "metadata": {
    "kernel": "Calysto Bash"
   },
   "outputs": [],
   "source": [
    "#REF=${DATA_PATH}/data/ref.fa.gz\n",
    "#ANC=${DATA_PATH}/data/anc.fa.gz\n",
    "\n",
    "## see paths of used programs\n",
    "which angsd\n",
    "which samtools\n",
    "\n",
    "## check the reference sequences we need\n",
    "ls ${REF}\n",
    "ls ${ANC}\n"
   ]
  },
  {
   "cell_type": "markdown",
   "id": "24c6ddd8",
   "metadata": {
    "kernel": "SoS"
   },
   "source": [
    "\n",
    "Also, you will have to create two folders in your working directory, one for your results and one for your intermediate data, which you can do by running the following code:\n"
   ]
  },
  {
   "cell_type": "code",
   "execution_count": null,
   "id": "311d86d4",
   "metadata": {
    "kernel": "Calysto Bash"
   },
   "outputs": [],
   "source": [
    "# make sure we're in the working space\n",
    "cd ~/current_folder/\n",
    "\n",
    "mkdir -p Results\n",
    "mkdir -p Data\n",
    "\n",
    "ls"
   ]
  },
  {
   "cell_type": "markdown",
   "id": "b88e9fb4",
   "metadata": {
    "kernel": "SoS"
   },
   "source": [
    "### Workflow\n",
    "\n",
    "The workflow for this practical looks like this\n",
    "\n",
    "![stages](https://raw.githubusercontent.com/popgenDK/courses/main/summer2023/NGSinference/stages.png)\n",
    "\n",
    "which seems daunting! \n",
    "However, that's actually not the case and we will go through each step to understand each one of them.\n",
    "\n",
    "The workflow is roughty divided into four steps:\n",
    "\n",
    "0. Data filtering and I/O\n",
    "1. Genotype likelihoods\n",
    "2. Genotype calling\n",
    "3. SNP calling\n",
    "\n",
    "\n",
    "\n",
    "#### 0. Data filtering and I/O\n",
    "\n",
    "First, we will learn **how to build a command line in ANGSD**.\n",
    "\n",
    "![stage0](https://raw.githubusercontent.com/popgenDK/courses/main/summer2023/NGSinference//stage0.png)\n",
    "\n",
    "To see a full list of options in ANGSD type the following in the terminal:\n"
   ]
  },
  {
   "cell_type": "code",
   "execution_count": null,
   "id": "47e800a2",
   "metadata": {
    "kernel": "Calysto Bash"
   },
   "outputs": [],
   "source": [
    "angsd"
   ]
  },
  {
   "cell_type": "markdown",
   "id": "586940d6",
   "metadata": {
    "kernel": "SoS"
   },
   "source": [
    "ANGSD can accept several input files, as described [here](http://popgen.dk/angsd/index.php/Input):\n",
    "\n",
    "* BAM, CRAM, mpileup\n",
    "* VCF, GLF, beagle\n",
    "\n",
    "Here we show how ANGSD can also perform some basic filtering of the data.\n",
    "These filters are based on:\n",
    "\n",
    "* quality and depth, see [here](http://www.popgen.dk/angsd/index.php/Filters)\n",
    "* SNP quality, see [here](http://popgen.dk/angsd/index.php/SnpFilters)\n",
    "* sites, see [here](http://popgen.dk/angsd/index.php/Sites)\n",
    "\n",
    "### Make list of bam files\n",
    "In our data we have alignment files (BAM files) from four populations. Let's make file list with the BAM files for each population seperately and one list with all samples by running the following code \n"
   ]
  },
  {
   "cell_type": "code",
   "execution_count": null,
   "id": "a8eb4d7e",
   "metadata": {
    "kernel": "Calysto Bash"
   },
   "outputs": [],
   "source": [
    "ls ${DATA_PATH}/data/CHB.BAMs/*bam > EAS.bams\n",
    "ls ${DATA_PATH}/data/TSI.BAMs/*bam > EUR.bams\n",
    "ls ${DATA_PATH}/data/NAM.BAMs/*bam > NAM.bams\n",
    "ls ${DATA_PATH}/data/PEL.BAMs/*bam > LAT.bams\n",
    "ls ${DATA_PATH}/data/LWK.BAMs/*bam > AFR.bams\n",
    "\n",
    "cat EAS.bams EUR.bams NAM.bams LAT.bams AFR.bams > ALL.bams"
   ]
  },
  {
   "cell_type": "markdown",
   "id": "1865d55a",
   "metadata": {
    "kernel": "SoS"
   },
   "source": [
    "have a look at our list of BAM files\n",
    "\n"
   ]
  },
  {
   "cell_type": "code",
   "execution_count": null,
   "id": "5a410dcf",
   "metadata": {
    "kernel": "Calysto Bash",
    "scrolled": true
   },
   "outputs": [],
   "source": [
    "\n",
    "## print path of all bam files\n",
    "cat ALL.bams\n",
    "echo \\# count number of bam files\n",
    "wc -l ALL.bams\n",
    "echo \\# show the bam file lists\n",
    "ls *.bams\n"
   ]
  },
  {
   "cell_type": "markdown",
   "id": "603893da",
   "metadata": {
    "kernel": "SoS"
   },
   "source": [
    "\n",
    "If the input file is in BAM format, the possible options are visible if you run the command `angsd -bam`.\n"
   ]
  },
  {
   "cell_type": "code",
   "execution_count": null,
   "id": "0ce4e457",
   "metadata": {
    "kernel": "Calysto Bash"
   },
   "outputs": [],
   "source": [
    "angsd -bam"
   ]
  },
  {
   "cell_type": "markdown",
   "id": "cd481625",
   "metadata": {
    "kernel": "SoS"
   },
   "source": [
    "First we need to define input and output files (please note that here we do not run these intermediate steps, as you can see thare is a ```#``` in the front):\n",
    "```bash\n",
    "angsd -b ALL.bams -ref $REF -out Results/ALL \\\n",
    "```\n"
   ]
  },
  {
   "cell_type": "markdown",
   "id": "cca77ded",
   "metadata": {
    "kernel": "SoS"
   },
   "source": [
    "with `-b` we give the file including paths to all BAM files we need to analyse.\n",
    "`-ref` specifies the reference sequence.\n",
    "`-out` states the prefix for all output files that will be generated.\n",
    "\n",
    "Next we need to define some basic filtering options.\n",
    "First we define filters based on reads quality.\n"
   ]
  },
  {
   "cell_type": "markdown",
   "id": "b20e6294",
   "metadata": {
    "kernel": "SoS"
   },
   "source": [
    "```bash\n",
    " angsd -b ALL.bams -ref $REF -out Results/ALL \\\n",
    "        -uniqueOnly 1 -remove_bads 1 -only_proper_pairs 1 -trim 0 -C 50 -baq 1 \\\n",
    "```\n"
   ]
  },
  {
   "cell_type": "markdown",
   "id": "8e1b0ae9",
   "metadata": {
    "kernel": "SoS"
   },
   "source": [
    "\n",
    "These filters will retain only uniquely mapping reads, not tagged as bad, considering only proper pairs, without trimming, and adjusting for indel/mapping (as in samtools).\n",
    "`-C 50` reduces the effect of reads with excessive mismatches, while `-baq 1` computes base alignment quality as explained here ([BAQ](http://samtools.sourceforge.net/mpileup.shtml)) used to rule out false SNPs close to INDELS.\n",
    "\n",
    "Also, you may want to remove reads with low mapping quality and sites with low quality or covered by few reads (low depth).\n",
    "Under these circumstances, the assignment of individual genotypes and SNPs is problematic, and can lead to errors.\n",
    "We may also want to remove sites where a fraction (half?) of the individuals have no data.\n",
    "This is achieved by the ```-minInd``` option.\n",
    "\n",
    "In order to understand which filters to use, it is important to visualise the distribution of quality scores and depth. Run the following command\n"
   ]
  },
  {
   "cell_type": "code",
   "execution_count": null,
   "id": "8adfbe6c",
   "metadata": {
    "kernel": "Calysto Bash"
   },
   "outputs": [],
   "source": [
    "angsd  -b EUR.bams  -ref $REF -out Results/EUR \\\n",
    "        -uniqueOnly 1 -remove_bads 1 -only_proper_pairs 1 -trim 0 -C 50 -baq 1 \\\n",
    "        -minMapQ 20 \\\n",
    "        -doQsDist 1 -doDepth 1 -doCounts 1 -maxDepth 70"
   ]
  },
  {
   "cell_type": "markdown",
   "id": "fb1f4aba",
   "metadata": {
    "kernel": "Calysto Bash"
   },
   "source": [
    "Angsd will give a warning that the BAM files do not contain data for the whole genome. \n",
    "\n",
    "- make a plot of the results\n"
   ]
  },
  {
   "cell_type": "code",
   "execution_count": null,
   "id": "50f6b435",
   "metadata": {
    "kernel": "R",
    "scrolled": false
   },
   "outputs": [],
   "source": [
    "# quick script to compute percentiles and plot distributions of quality scores and depths\n",
    "\n",
    "fin <-\"~/current_folder/Results/EUR\"\n",
    "bam.list <- \"\"\n",
    "samples <- paste(\"sample\",1:1e5)\n",
    "\n",
    "par(mfrow=c(3,1))\n",
    "\n",
    "## barplot q-scores\n",
    "qs <- read.table(paste(fin,\".qs\",sep=\"\",collapse=\"\"), head=T, stringsAsFactors=F)\n",
    "barplot(height=qs$counts, names.arg=qs$qscore, xlab=\"Q-score\", ylab=\"Counts\",main=basename(bam.list))\n",
    "qs <- cbind(qs, perc=cumsum(qs$counts/1e4)/sum(qs$counts/1e4,na.rm=T))\n",
    "\n",
    "## global depth\n",
    "dep <- as.numeric(scan(paste(fin,\".depthGlobal\", sep=\"\",collapse=\"\"),what=\"char\", quiet=T))\n",
    "barplot(height=dep, names.arg=seq(1,length(dep))-1, xlab=\"Global Depth\", ylab=\"Counts\",main=basename(bam.list))\n",
    "\n",
    "## sample depth\n",
    "deps <- t(read.table(paste(fin,\".depthSample\", sep=\"\",collapse=\"\"),head=F, stringsAsFactors=F))\n",
    "## per sample\n",
    "max_x <- 2 * nrow(deps)/ncol(deps)\n",
    "for (i in 1:ncol(deps)) {\n",
    "  barplot(height=deps[1:max_x,i], names.arg=seq(1,max_x)-1, xlab=\"Sample Depth\", ylab=\"Counts\",main=samples[i])\n",
    "}\n"
   ]
  },
  {
   "cell_type": "markdown",
   "id": "0faf3c5e",
   "metadata": {
    "kernel": "SoS"
   },
   "source": [
    "\n",
    "![stage0A](https://raw.githubusercontent.com/popgenDK/courses/main/summer2023/NGSinference//stage0A.png)\n",
    "\n",
    "Based on the plots (global depth) one could keep sites with a least 7 reads accross sample and with less than 50 reads. A possible command line would contain the following filtering:\n"
   ]
  },
  {
   "cell_type": "markdown",
   "id": "c253669d",
   "metadata": {
    "kernel": "Calysto Bash"
   },
   "source": [
    "```bash\n",
    "angsd -b ALL.bams -ref $REF -out Results/ALL \\\n",
    "        -uniqueOnly 1 -remove_bads 1 -only_proper_pairs 1 -trim 0 -C 50 -baq 1 \\\n",
    "        -minMapQ 20 -minQ 20 -minInd 5 -setMinDepth 14 -setMaxDepth 50 -doCounts 1 \n",
    "```"
   ]
  },
  {
   "cell_type": "markdown",
   "id": "1aa4d1fd",
   "metadata": {
    "kernel": "SoS"
   },
   "source": [
    "\n",
    "which corresponds to the following scenario:\n",
    "\n",
    "Parameter | Meaning |\n",
    "--- | --- |\n",
    "-minInd 5 | use only sites with data from at least 5 individuals |\n",
    "-setMinDepth 14 | minimum total depth of 14 |\n",
    "-setMaxDepth 50 | maximum total depth of 50 |\n",
    "\n",
    "More sophisticated filtering can be done, but this is outside the scope of this practical.\n",
    "\n",
    "---------------------------------------\n",
    "\n",
    "#### 1. Genotype likelihoods\n",
    "\n",
    "![stage1](https://raw.githubusercontent.com/popgenDK/courses/main/summer2023/NGSinference/stage1.png)\n",
    "\n",
    "We now wish to calculate the ***genotype likelihoods*** for each site at each individual.\n",
    "\n",
    "To do so you need to specify which genotype likelihood model to use.\n"
   ]
  },
  {
   "cell_type": "code",
   "execution_count": null,
   "id": "04e442e8",
   "metadata": {
    "kernel": "Calysto Bash",
    "scrolled": true
   },
   "outputs": [],
   "source": [
    "angsd -GL"
   ]
  },
  {
   "cell_type": "markdown",
   "id": "c12c5dc0",
   "metadata": {
    "kernel": "SoS"
   },
   "source": [
    "A description of these different models can be found [here](http://www.popgen.dk/angsd/index.php/Genotype_likelihoods).\n",
    "Briefly, the GATK model refers to the first GATK paper, SAMtools is somehow more sophisticated (non-independence of errors), SOAPsnp requires a reference sequence for recalibration of quality scores, SYK is error-type specific.\n",
    "For most applications and data, GATK and SAMtools models should give similar results.\n",
    "\n",
    "Let's assume to analyse European.\n",
    "A possible command line to estimate allele frequencies can be seen below. Run the command ( takes ~1 min, \"[*]\" means it is still running)\n",
    "\n"
   ]
  },
  {
   "cell_type": "code",
   "execution_count": null,
   "id": "9f123178",
   "metadata": {
    "kernel": "Calysto Bash"
   },
   "outputs": [],
   "source": [
    "#run angsd command\n",
    "angsd -b EUR.bams -ref $REF -out Results/EUR \\\n",
    "        -uniqueOnly 1 -remove_bads 1 -only_proper_pairs 1 -trim 0 -C 50 -baq 1 \\\n",
    "        -minMapQ 20 -minQ 20 -minInd 5 -setMinDepth 7 -setMaxDepth 30 -doCounts 1 \\\n",
    "        -GL 2 -doGlf 4\n",
    "# No data for chromoId=0 chromoname=1"
   ]
  },
  {
   "cell_type": "markdown",
   "id": "c6f36b1f",
   "metadata": {
    "kernel": "SoS"
   },
   "source": [
    "where we specify:\n",
    "* -GL 2: genotype likelihood model as in GATK\n",
    "* -doGlf 4: output in text format\n",
    "\n",
    "Ignore the various warning messages (if any).\n",
    "\n",
    "![stage1A](https://raw.githubusercontent.com/popgenDK/courses/main/summer2023/NGSinference//stage1A.png)\n",
    "\n",
    "**QUESTION**\n",
    "What are the output files?\n",
    "\n",
    "<details>\n",
    "\n",
    "<summary> click here to show the answer </summary>\n",
    "\n",
    "```bash\n",
    "The output from angsd tells you it made two files called \"Results/EUR.arg\" and \"Results/EUR.glf.gz\"\n",
    "\t.....\n",
    "\t-> Done reading data waiting for calculations to finish\n",
    "\t-> Done waiting for threads\n",
    "\t-> Output filenames:\n",
    "\t\t->\"Results/EUR.arg\"\n",
    "\t\t->\"Results/EUR.glf.gz\"\n",
    "\t-> Mon Aug  7 20:50:39 2023\n",
    "\t-> Arguments and parameters for all analysis are located in .arg file\n",
    "\t-> Total number of sites analyzed: 983839\n",
    "\t-> Number of sites retained after filtering: 444928 \n",
    "\t[ALL done] cpu-time used =  57.66 sec\n",
    "\t[ALL done] walltime used =  57.00 sec\n",
    "\n",
    "```\n",
    "</details>\n",
    "\n",
    "One files contains information of all the used options and the other contains the 10 genotype likelihoods (log) for each individual. \n",
    "View the file with"
   ]
  },
  {
   "cell_type": "code",
   "execution_count": null,
   "id": "3bda0528",
   "metadata": {
    "kernel": "Calysto Bash"
   },
   "outputs": [],
   "source": [
    "#view first 1 lines\n",
    "zcat Results/EUR.glf.gz  | head -n 1"
   ]
  },
  {
   "cell_type": "markdown",
   "id": "9a278418",
   "metadata": {
    "kernel": "Calysto Bash"
   },
   "source": [
    "A value of 0 means no reads or a high genotype likelihood ( GL=1 -> log(GL)~0). The first 2 columns denotes the chromosomes and position. The rest is 10 genotypes likelihoods for each of the individuals.  \n",
    "\n",
    "lets look at a sites with data from individual one at a certain position together with the obversed bases"
   ]
  },
  {
   "cell_type": "code",
   "execution_count": null,
   "id": "bdfb5ddd",
   "metadata": {
    "kernel": "Calysto Bash",
    "scrolled": true
   },
   "outputs": [],
   "source": [
    "#(ignore broken pipe)\n",
    "echo -e \"Chr\\tPos\\tAA\\tAC\\tAG\\tAT\\tCC\\tCG\\tCT\\tGG\\tGT\\tTT\" > res\n",
    "zcat Results/EUR.glf.gz | cut -f 1-12 | head -n1250 | tail -n 1 >>res\n",
    "echo -e \"\\n\\n----10 GLs-----\"\n",
    "column -t res\n",
    "\n",
    "\n",
    "echo -e \"\\n\\n----mpileup for the same position-----\"\n",
    "echo -e \"\\nChr\\tPos\\tREF\\tDepth\\tObservedBases\" > res\n",
    "samtools mpileup -r 2:109002954-109002954 -b EUR.bams | cut -f 1-5 >> res\n",
    "#print results\n",
    "column -t res\n",
    "\n",
    "# cut: write error: Broken pipe"
   ]
  },
  {
   "cell_type": "markdown",
   "id": "899cb540",
   "metadata": {
    "kernel": "SoS"
   },
   "source": [
    "#### 2. Genotype calling\n",
    "\n",
    "![stage2](https://raw.githubusercontent.com/popgenDK/courses/main/summer2023/NGSinference//stage2.png)\n",
    "\n",
    "Here we will explore several ways to call genotypes from sequencing data.\n",
    "We will also calculate genotypes probabilities to each site for each individual.\n",
    "\n",
    "In ANGSD, the option to call genotypes is `-doGeno`:"
   ]
  },
  {
   "cell_type": "code",
   "execution_count": null,
   "id": "c62b1e9c",
   "metadata": {
    "kernel": "Calysto Bash"
   },
   "outputs": [],
   "source": [
    "angsd -doGeno"
   ]
  },
  {
   "cell_type": "markdown",
   "id": "696e022a",
   "metadata": {
    "kernel": "SoS"
   },
   "source": [
    "Therefore, if we set `-doGeno 2`, genotypes are coded as 0,1,2, as the number of alternate alleles. A value of -1 indicates a missing (uncalled) genotype.\n",
    "If we want to print the major and minor alleles as well then we set `-doGeno 3`.\n",
    "\n",
    "To calculate the posterior probability of genotypes we need to define a model."
   ]
  },
  {
   "cell_type": "code",
   "execution_count": null,
   "id": "2d1153e4",
   "metadata": {
    "kernel": "Calysto Bash"
   },
   "outputs": [],
   "source": [
    "angsd -doPost"
   ]
  },
  {
   "cell_type": "markdown",
   "id": "6e9301aa",
   "metadata": {
    "kernel": "SoS"
   },
   "source": [
    "Furthermore, this calculation requires the specification of how to assign the major and minor alleles (if biallelic)."
   ]
  },
  {
   "cell_type": "code",
   "execution_count": null,
   "id": "0fea02a3",
   "metadata": {
    "kernel": "Calysto Bash"
   },
   "outputs": [],
   "source": [
    "angsd -doMajorMinor"
   ]
  },
  {
   "cell_type": "markdown",
   "id": "92f4bc3b",
   "metadata": {
    "kernel": "SoS"
   },
   "source": [
    "\n",
    "We can call genotypes from the genotype likelihoods ( Results/EUR.glf.gz) by first identifying the major and minor alleles accross samples and the choosing the genotype with the highest genotype likelihood. \n"
   ]
  },
  {
   "cell_type": "code",
   "execution_count": null,
   "id": "2312607f",
   "metadata": {
    "kernel": "Calysto Bash"
   },
   "outputs": [],
   "source": [
    "angsd -b EUR.bams -ref $REF -out Results/EUR \\\n",
    "        -uniqueOnly 1 -remove_bads 1 -only_proper_pairs 1 -trim 0 -C 50 -baq 1 \\\n",
    "        -minMapQ 20 -minQ 20 -minInd 5 -setMinDepth 7 -setMaxDepth 30 -doCounts 1 \\\n",
    "        -GL 2 -doGlf 1 \n",
    "\n",
    "\n",
    "angsd -glf Results/EUR.glf.gz -fai $REF.fai -nInd 10 -out Results/EUR \\\n",
    "    -doMajorMinor 1 -doGeno 3 -doPost 2 -doMaf 1\n"
   ]
  },
  {
   "cell_type": "markdown",
   "id": "e5687832",
   "metadata": {
    "kernel": "Calysto Bash"
   },
   "source": [
    "Let's ignore the `-doMaf` option now. Note the number of sites retained after filtering\n",
    "\n",
    "- how many sites in your data?\n",
    "- For how many sites did you try call genotypes?\n",
    "\n",
    "Have a look at the first 10 lines of the output file by running the follwoing command:\n"
   ]
  },
  {
   "cell_type": "code",
   "execution_count": null,
   "id": "c3946c0c",
   "metadata": {
    "kernel": "Calysto Bash"
   },
   "outputs": [],
   "source": [
    "#-> Total number of sites analyzed: 983839\n",
    "#\t-> Number of sites retained after filtering: 444928 "
   ]
  },
  {
   "cell_type": "code",
   "execution_count": null,
   "id": "557cb362",
   "metadata": {
    "kernel": "Calysto Bash"
   },
   "outputs": [],
   "source": [
    "zcat Results/EUR.geno.gz | head -n 10"
   ]
  },
  {
   "cell_type": "markdown",
   "id": "cc0cf785",
   "metadata": {
    "kernel": "SoS"
   },
   "source": [
    "The columns are: chromosome, position, major allele, minor allele, genotypes is 0,1,2 format.\n",
    "\n",
    "\n",
    "\n",
    "The following code counts the number of sites with least one missing genotype? \n"
   ]
  },
  {
   "cell_type": "code",
   "execution_count": null,
   "id": "24f35dfa",
   "metadata": {
    "kernel": "Calysto Bash"
   },
   "outputs": [],
   "source": [
    "zcat Results/EUR.geno.gz | grep -1 - | wc -l"
   ]
  },
  {
   "cell_type": "markdown",
   "id": "27da2af6",
   "metadata": {
    "kernel": "Calysto Bash"
   },
   "source": [
    "- How many sites have no missing genotypes?  Why so few?"
   ]
  },
  {
   "cell_type": "code",
   "execution_count": null,
   "id": "9ee5ce36",
   "metadata": {
    "kernel": "Calysto Bash"
   },
   "outputs": [],
   "source": [
    "zcat Results/EUR.geno.gz | grep -v -1 - | wc -l"
   ]
  },
  {
   "cell_type": "markdown",
   "id": "161e9d26",
   "metadata": {
    "kernel": "SoS"
   },
   "source": [
    "<details>\n",
    "\n",
    "<summary> click here to show the answer </summary>\n",
    "    The mean depth per sample is around 2-3X, therefore genotypes cannot be assigned with very high confidence.\n",
    "Setting this threshold depends on the mean sequencing depth of your data, as well as your application.\n",
    "For some analyses you need to work only with high quality genotypes (e.g. measure of proportion of shared SNPs for gene flow estimate), while for others you can be more relaxed (e.g. estimate of overall nucleotide diversity).\n",
    "We will show later how to accurately estimate summary statistics with low-depth data.\n",
    "\n",
    "\n",
    "</details>"
   ]
  },
  {
   "cell_type": "markdown",
   "id": "b95f88cf",
   "metadata": {
    "kernel": "Calysto Bash"
   },
   "source": [
    "\n",
    "![stage2A](https://raw.githubusercontent.com/popgenDK/courses/main/summer2023/NGSinference//stage2A.png)\n",
    "**EXERCISE 1**\n",
    "\n",
    "If we calculate the allele frequency and assume hwe then we can use this information as prior probability to calculate genotype posterior probabilities.\n",
    "The command line would be:"
   ]
  },
  {
   "cell_type": "code",
   "execution_count": null,
   "id": "02d65066",
   "metadata": {
    "kernel": "Calysto Bash"
   },
   "outputs": [],
   "source": [
    "angsd -glf Results/EUR.glf.gz -fai $REF.fai -nInd 10 -out Results/EUR \\\n",
    "        -doMajorMinor 1 -doGeno 3 -doPost 1 -doMaf 1"
   ]
  },
  {
   "cell_type": "markdown",
   "id": "349b0709",
   "metadata": {
    "kernel": "SoS"
   },
   "source": [
    "using the option `-doPost 1`.\n",
    "\n",
    "We are finally ready to gather some biological insights from the data.\n",
    "Recalling our research aim, our first goal is to calculate allele frequencies of our target variant in EDAR gene for different human populations.\n",
    "\n",
    "Our SNP of interest is located in EDAR gene.\n",
    "According to the reference [paper](http://www.nature.com/ncomms/2016/160519/ncomms11616/full/ncomms11616.html), *The derived G allele at the index SNP in this region (rs3827760) encodes a functional substitution in the intracellular death domain of EDAR (370A) and is associated with reduced chin protrusion*.\n",
    "The genomic location of this SNP is `chr2:109513601-109513601`.\n",
    "\n",
    "In ANGSD we can restrict our analyses on single region using the option `-r 2:109513601`\n",
    "\n",
    "We are interested in calculating the derived allele frequencies, so are using the ancestral sequence to polarise the alleles.\n",
    "We also want to compute the allele frequencies for each population separately.\n",
    "We need to use a different file for each population, with a different list of BAM files, as provided:\n"
   ]
  },
  {
   "cell_type": "code",
   "execution_count": null,
   "id": "287e3d83",
   "metadata": {
    "kernel": "Calysto Bash"
   },
   "outputs": [],
   "source": [
    "ls *.bams"
   ]
  },
  {
   "cell_type": "markdown",
   "id": "4eab0e2d",
   "metadata": {
    "kernel": "SoS"
   },
   "source": [
    "\n",
    "We retain only these populations: AFR (Africans), EUR (Europeans), EAS (East Asians), LAT (Latinos), NAM (Native Americans).\n",
    "\n",
    "Back to our example of functional variants in EDAR, we want to assign individual genotypes by first computing genotype posterior probabilities for all samples.\n",
    "Finally we will calculate the **derived** allele frequencies based on assigned genotypes.\n",
    "\n",
    "Note that we are interested in calculating the **derived** allele frequency, so we need to specify a putative ancestral sequence.\n",
    "Let's assume that our reference sequence represents the ancestral sequence too.\n",
    "Please finally note that we want to relax out filtering to make sure to have results.\n",
    "\n",
    "Write the code that performs the following genotype calling for EDAR variants in all populations.\n",
    "Also, you can directly call genotypes without generating the genotype likelihood files, by starting from BAM files directly.\n",
    "As an indication, you can follow these guidelines:\n",
    "- use the SAMtools genotype likelihood model\n",
    "- calculate genotype posterior probabilities using a HWE-based prior\n",
    "- filter out bases with a quality score less than 20\n",
    "- filter our reads with a mapping quality score less than 20\n",
    "- use ony sites where you have at least one sample with data (-mindInd)\n",
    "- do not set any filtering based on min and max depth\n",
    "- use -doMajorMinor 1 and -doMaf 1 options\n",
    "- set genotypes as missing if the highest genotype probability is less than 0.50\n",
    "- use option `-r 2:109513601` to restrict the analysis only to that site\n",
    "but feel free to choose some parameters yourself.\n",
    "\n",
    "Run the below code where we loop over each population to generate results for each of them. \n",
    "\n"
   ]
  },
  {
   "cell_type": "code",
   "execution_count": null,
   "id": "c099cb94",
   "metadata": {
    "kernel": "Calysto Bash"
   },
   "outputs": [],
   "source": [
    "for POP in AFR EUR EAS LAT NAM\n",
    "do\n",
    "        echo $POP\n",
    "        angsd -b $POP.bams -ref $REF -anc $ANC -out Results/$POP.EDAR \\\n",
    "                -uniqueOnly 1 -remove_bads 1 -only_proper_pairs 1 -trim 0 -C 50 -baq 1 \\\n",
    "                -minMapQ 20 -minQ 20 -minInd 1 -setMinDepth 1 -setMaxDepth 100 -doCounts 1 \\\n",
    "                -GL 1 -doMajorMinor 5 -doMaf 1 -skipTriallelic 1 \\\n",
    "                -doGeno 3 -doPost 1 -postCutoff 0.50 \\\n",
    "                -r 2:109513601\n",
    "done"
   ]
  },
  {
   "cell_type": "markdown",
   "id": "0ee27a58",
   "metadata": {
    "kernel": "SoS"
   },
   "source": [
    "You can view the genotype calls with       "
   ]
  },
  {
   "cell_type": "code",
   "execution_count": null,
   "id": "d86b44c0",
   "metadata": {
    "kernel": "Calysto Bash"
   },
   "outputs": [],
   "source": [
    "for POP in AFR EUR EAS LAT NAM\n",
    "do\n",
    "    echo $POP\n",
    "    zcat Results/$POP.EDAR.geno.gz\n",
    "done"
   ]
  },
  {
   "cell_type": "markdown",
   "id": "808e8ff2",
   "metadata": {
    "kernel": "SoS"
   },
   "source": [
    "\n",
    "For instance, you may have 0/20 in AFR and EUR, 20/20 in EAS, while there are only 4 called genotypes in NAM.\n",
    "\n",
    "\n",
    "\n",
    "\n",
    "Once done, open the output files and calculate the derived allele frequency by counting genotypes.\n",
    "What is the derived allele frequency for each population?\n",
    "\n",
    "Can you comment these results?\n",
    "Do you see any allele frequency differentiation in the derived state?\n",
    "\n",
    "In the original paper, Authors state that *The G allele at rs3827760 is not present in Europeans and Africans but is seen at high frequency in East Asians and is essentially fixed in Native Americans.*\n",
    "Are your results in agreement with this?\n",
    "\n",
    "Why is it not at high frequency in the Latino sample?\n",
    "\n",
    "----------------------------\n",
    "\n",
    "\n",
    "\n",
    "## SNP calling(OPTIONAL for the fast )\n",
    "\n",
    "<details>\n",
    "<summary> Expand to do the optional exercise else continue with excercise 2 </summary>\n",
    "\n",
    "![stage3](https://raw.githubusercontent.com/popgenDK/courses/main/summer2023/NGSinference//stage3.png)\n",
    "\n",
    "We now want to estimate allele frequencies at each site without relying on genotype calls.\n",
    "In other words, at each site we want to to estimate (or count) how many copies of different alleles (two in case of biallelic variants) we observe in our sample (across all sequenced individuals).\n",
    "However, with low depth data direct counting of individually assigned genotypes can lead to biased allele frequencies.\n",
    "\n",
    "ANGSD has an option to estimate **allele frequencies** taking into account data uncertainty from genotype likelihoods:\n"
   ]
  },
  {
   "cell_type": "code",
   "execution_count": null,
   "id": "4ca74057",
   "metadata": {
    "kernel": "Calysto Bash"
   },
   "outputs": [],
   "source": [
    "# calc derived allele freq per popn\n",
    " zcat Results/EUR.EDAR.geno.gz | head"
   ]
  },
  {
   "cell_type": "code",
   "execution_count": null,
   "id": "9d355b2b",
   "metadata": {
    "kernel": "Calysto Bash"
   },
   "outputs": [],
   "source": [
    "angsd -doMaf"
   ]
  },
  {
   "cell_type": "markdown",
   "id": "5e0c5397",
   "metadata": {
    "kernel": "SoS"
   },
   "source": [
    "Therefore, the estimation of allele frequencies requires the specification of how to assign the major and minor alleles (if biallelic)."
   ]
  },
  {
   "cell_type": "code",
   "execution_count": null,
   "id": "452b9fc1",
   "metadata": {
    "kernel": "Calysto Bash"
   },
   "outputs": [],
   "source": [
    "angsd -doMajorMinor\n"
   ]
  },
  {
   "cell_type": "markdown",
   "id": "9a52c36c",
   "metadata": {
    "kernel": "SoS"
   },
   "source": [
    "A possible command line to estimate allele frequencies might be (this may take 1 min to run):"
   ]
  },
  {
   "cell_type": "code",
   "execution_count": null,
   "id": "dcf3e396",
   "metadata": {
    "kernel": "Calysto Bash"
   },
   "outputs": [],
   "source": [
    "angsd -b EUR.bams -ref $REF -out Results/EUR \\\n",
    "        -uniqueOnly 1 -remove_bads 1 -only_proper_pairs 1 -trim 0 -C 50 -baq 1 \\\n",
    "        -minMapQ 20 -minQ 20 -minInd 5 -setMinDepth 7 -setMaxDepth 30 -doCounts 1 \\\n",
    "        -GL 1 -doGlf 1 \\\n",
    "        -doMajorMinor 1 -doMaf 1"
   ]
  },
  {
   "cell_type": "markdown",
   "id": "75728f99",
   "metadata": {
    "kernel": "SoS"
   },
   "source": [
    "where we specify:\n",
    "* -doMajorMinor 1: both alleles are inferred from genotype likelihoods\n",
    "* -doMaf 1: major and minor are fixed\n",
    "\n",
    "What are the output files?\n",
    "* \"Results/EUR.arg\"\n",
    "* \"Results/EUR.mafs.gz\"\n",
    "`.args` file is a summary of all options used, while `.mafs.gz` file shows the allele frequencies computed at each site.\n",
    "\n",
    "Have a look at this file which contains estimates of allele frequency values.\n"
   ]
  },
  {
   "cell_type": "code",
   "execution_count": null,
   "id": "597cbe99",
   "metadata": {
    "kernel": "Calysto Bash"
   },
   "outputs": [],
   "source": [
    "zcat Results/EUR.mafs.gz | head"
   ]
  },
  {
   "cell_type": "markdown",
   "id": "0a74425d",
   "metadata": {
    "kernel": "SoS"
   },
   "source": [
    "and you may see something like\n",
    "```\n",
    "chromo\tposition\tmajor\tminor\tref\tknownEM\tnInd\n",
    "2\t108999945\tC\tA\tC\t0.000004\t5\n",
    "2\t108999946\tT\tA\tT\t0.000004\t5\n",
    "2\t108999947\tT\tA\tT\t0.000004\t5\n",
    "2\t108999948\tC\tA\tC\t0.000004\t5\n",
    "2\t108999949\tT\tA\tT\t0.000004\t5\n",
    "2\t108999950\tA\tC\tA\t0.000004\t5\n",
    "2\t108999951\tT\tA\tT\t0.000004\t5\n",
    "2\t108999952\tG\tA\tG\t0.000004\t5\n",
    "2\t108999953\tA\tC\tA\t0.000002\t5\n",
    "```\n",
    "where `knownEM` specifies the algorithm used to estimate the allele frequency which is given under that column.\n",
    "Please note that this refers to the allele frequency of the allele labelled as `minor`.\n",
    "The columns are: chromosome, position, major allele, minor allele, reference allele, allele frequency, p-value for SNP calling (if -SNP-pval was called), number of individuals with data.\n",
    "The last column gives the number of samples with data (you can see that this never below 5 given our filtering).\n",
    "\n",
    "You can notice that many sites have low allele frequency, probably reflecting the fact that that site is monomorphic.\n",
    "We may be interested in looking at allele frequencies only for sites that are actually variable in our sample.\n",
    "Therefore we want to perform a **SNP calling**.\n",
    "There are two main ways to call SNPs using ANGSD with these options:\n",
    "```\n",
    "        -minMaf         0.000000        (Remove sites with MAF below)\n",
    "        -SNP_pval       1.000000        (Remove sites with a pvalue larger)\n",
    "```\n",
    "Therefore we can consider assigning as SNPs sites whose estimated allele frequency is above a certain threhsold (e.g. the frequency of a singleton) or whose probability of being variable is above a specified value.\n",
    "\n",
    "\n",
    "\n",
    "As an illustration, call SNPs by computing:\n",
    " - genotype likelihoods using GATK method;\n",
    " - major and minor alleles inferred from genotype likelihoods;\n",
    " - frequency from known major allele but unknown minor;\n",
    " - SNPs as those having MAF=>0.05.\n",
    "\n",
    "\n",
    "As a general guidance, `-GL 1` ( Samtool genotype likelihood model), `-doMaf 1/2` and `-doMajorMinor 1` should be the preferred choice for genotype calling when data uncertainty is high.\n",
    "If interested in analysing very low frequency SNPs, then `-doMaf 2` should be selected.\n",
    "When accurate information on reference sequence or outgroup are available, one can use `-doMajorMinor` to 4 or 5.\n",
    "Also, detecting variable sites based on their probability of being SNPs is generally a better choice than defining a threshold on the allele frequency.\n",
    "However, various cutoffs and a dedicated filtering should be perform to assess robustness of your called SNPs.\n",
    "\n",
    "![stage3A](https://raw.githubusercontent.com/popgenDK/courses/main/summer2023/NGSinference//stage3A.png)\n",
    "\n",
    "\n",
    "Try varying the cutoff for SNP calling and record how many sites are predicted to be variable for each scenario.\n",
    "Identify which sites are not predicted to be variable anymore with a more stringent cutoff (e.g. between a pair of scenario), and plot their allele frequencies.\n",
    "Use the previously calculated genotype likelihoods as input file (use additonal options  -fai  and -nInd to provide information of the genome size and number of individuals)."
   ]
  },
  {
   "cell_type": "code",
   "execution_count": null,
   "id": "8d65a38e",
   "metadata": {
    "kernel": "Calysto Bash"
   },
   "outputs": [],
   "source": [
    "# iterate over some cutoffs (you can change these)\n",
    "for PV in 0.05 1e-2 1e-4 1e-6\n",
    "do\n",
    "        if [ $PV == 0.05 ]; then echo SNP_pval NR_SNPs; fi\n",
    "        angsd -glf Results/EUR.glf.gz -nInd 10 -fai $REF.fai -out Results/EUR.$PV \\\n",
    "                -doMajorMinor 1 -doMaf 1 -skipTriallelic 1 \\\n",
    "                -SNP_pval $PV &> /dev/null\n",
    "        echo $PV `zcat Results/EUR.$PV.mafs.gz | tail -n+2 | wc -l`\n",
    "done"
   ]
  },
  {
   "cell_type": "markdown",
   "id": "001ab3d8",
   "metadata": {
    "kernel": "SoS"
   },
   "source": [
    "\n",
    "\n",
    "A possible output is (your numbers may be different):\n",
    "```\n",
    "SNP_pval NR_SNPs\n",
    "0.05 4405\n",
    "1e-2 2950\n",
    "1e-4 1428\n",
    "1e-6 1084\n",
    "```\n",
    "\n",
    "Which sites differ from 0.05 and 0.01? What is their frequency?\n",
    "This script will also print out the first 20 discordant sites (pK.EM is the p-value for the SNP calling test).\n",
    "\n"
   ]
  },
  {
   "cell_type": "code",
   "execution_count": null,
   "id": "9c2d7ade",
   "metadata": {
    "kernel": "R"
   },
   "outputs": [],
   "source": [
    "\n",
    "mafs1 <- read.table(gzfile(\"~/current_folder/Results/EUR.1e-2.mafs.gz\"), he=T, row.names=NULL, strings=F)\n",
    "mafs5 <- read.table(gzfile(\"~/current_folder/Results/EUR.0.05.mafs.gz\"), header=T, row.names=NULL, stringsAsFact=F)\n",
    "cat(\"SNPs only found with p-value threshold 0.05:\\n\")\n",
    "both <- mafs5[,2] %in% mafs1[,2]\n",
    "mafs5[both,][1:20,]\n",
    "\n",
    "hist(as.numeric(mafs5[!both,5]), main=\"Discordant SNPs (SNPS only found with p-value 0.05)\", xlab=\"MAF\", xlim=c(0,0.5))\n",
    "\n",
    "hist(as.numeric(mafs5[both,][,5]), main=\"Concordant SNPs(SNPs found in both)\", xlab=\"MAF\", xlim=c(0,0.5))\n"
   ]
  },
  {
   "cell_type": "markdown",
   "id": "88a7c186",
   "metadata": {
    "kernel": "SoS"
   },
   "source": [
    "What can you conclude from these results?\n",
    "Which frequencies are more difficult to estimate and therefore affect SNP calling?\n"
   ]
  },
  {
   "cell_type": "markdown",
   "id": "6d80d921",
   "metadata": {
    "kernel": "SoS"
   },
   "source": [
    "\n",
    "**EXERCISE 2**\n",
    "\n",
    "Estimate derived allele frequencies for all populations of interest using a likelihood approach, without relying on genotype calls.\n"
   ]
  },
  {
   "cell_type": "code",
   "execution_count": null,
   "id": "4cea61ca",
   "metadata": {
    "kernel": "Calysto Bash"
   },
   "outputs": [],
   "source": [
    "for POP in AFR EUR EAS LAT NAM\n",
    "do\n",
    "        echo $POP\n",
    "        angsd -b $POP.bams -ref $REF -anc $ANC -out Results/$POP.EDAR \\\n",
    "                -uniqueOnly 1 -remove_bads 1 -only_proper_pairs 1 -trim 0 -C 50 -baq 1 \\\n",
    "                -minMapQ 20 -minQ 20 -minInd 1 -setMinDepth 1 -setMaxDepth 100 -doCounts 1 \\\n",
    "                -GL 1 -doMajorMinor 5 -doMaf 1 -skipTriallelic 1 \\\n",
    "                -doGeno 3 -doPost 1 -postCutoff 0.50 \\\n",
    "                -r 2:109513601\n",
    "done"
   ]
  },
  {
   "cell_type": "markdown",
   "id": "2e8f1677",
   "metadata": {
    "kernel": "SoS"
   },
   "source": [
    "and print the results to the screen (Column knownEM if the estimated allele frequency based on know major and minor allele)\n"
   ]
  },
  {
   "cell_type": "code",
   "execution_count": null,
   "id": "bb458f76",
   "metadata": {
    "kernel": "Calysto Bash"
   },
   "outputs": [],
   "source": [
    "\n",
    "print header\n",
    "paste <(echo POP) <(zcat Results/EUR.EDAR.mafs.gz  | head -n1 )\n",
    "#print maf for each pop\n",
    "for POP in AFR EUR EAS LAT NAM\n",
    "do\n",
    "    paste <(echo $POP) <(zcat Results/$POP.EDAR.mafs.gz | tail -1)\n",
    "done\n"
   ]
  },
  {
   "cell_type": "markdown",
   "id": "64ae2c55",
   "metadata": {
    "kernel": "SoS"
   },
   "source": [
    "- What is the difference compared to what you previously estimated?\n",
    "- Based on these new results is there a difference in allele frequency between East Asians (EAS) and Native amerians (NAM)?\n",
    "\n",
    "Lets try to make a formal test. First make a file with all of the bam files for the two populations. Then make a file where the first 20 lines contains a zero ( representing the 20 NAM) and the next 20 lines contains a 1 ( representing the 20 EAS)\n"
   ]
  },
  {
   "cell_type": "code",
   "execution_count": null,
   "id": "f69608b9",
   "metadata": {
    "kernel": "Calysto Bash"
   },
   "outputs": [],
   "source": [
    "\n",
    "cat NAM.bams EAS.bams > NAM_EAS.bams\n",
    "\n",
    "cat <(yes 0 | head -n 20) <(yes 1 | head -n 20) > NAM_EAS.ybin\n",
    "#view the file\n",
    "echo -e \"\\n----NAM_EAS.ybin----\\n\"\n",
    "cat NAM_EAS.ybin\n"
   ]
  },
  {
   "cell_type": "markdown",
   "id": "4a6b0fad",
   "metadata": {
    "kernel": "SoS"
   },
   "source": [
    "We will use the association module in angsd to perform the test. "
   ]
  },
  {
   "cell_type": "code",
   "execution_count": null,
   "id": "17f9751b",
   "metadata": {
    "kernel": "Calysto Bash"
   },
   "outputs": [],
   "source": [
    "angsd -doAsso"
   ]
  },
  {
   "cell_type": "markdown",
   "id": "7e163785",
   "metadata": {
    "kernel": "Calysto Bash"
   },
   "source": [
    "We will use the frequency test (-doAsso 1) and include the \"phenotype\" file that we just made (NAM_EAS.ybin). \n",
    "Use the following command to test whether there is a difference between the allele frequencies of the EDAR variants in the East Asian population and the Native american population. "
   ]
  },
  {
   "cell_type": "code",
   "execution_count": null,
   "id": "63d81a32",
   "metadata": {
    "kernel": "Calysto Bash"
   },
   "outputs": [],
   "source": [
    "angsd -b NAM_EAS.bams -ref $REF -anc $ANC -out Results/$POP.EDAR \\\n",
    "                -uniqueOnly 1 -remove_bads 1 -only_proper_pairs 1 -trim 0 -C 50 -baq 1 \\\n",
    "                -minMapQ 20 -minQ 20 -minInd 1 -setMinDepth 1 -setMaxDepth 100 -doCounts 1 \\\n",
    "                -GL 1 -doMajorMinor 5 -doMaf 1 -skipTriallelic 1 \\\n",
    "                -doGeno 3 -doPost 1 -postCutoff 0.50 \\\n",
    "                -r 2:109513601  -yBin NAM_EAS.ybin -doAsso 1"
   ]
  },
  {
   "cell_type": "markdown",
   "id": "de2d4a79",
   "metadata": {
    "kernel": "SoS"
   },
   "source": [
    "Lets look at the results"
   ]
  },
  {
   "cell_type": "code",
   "execution_count": null,
   "id": "cb35316f",
   "metadata": {
    "kernel": "Calysto Bash"
   },
   "outputs": [],
   "source": [
    "zcat Results/NAM.EDAR.lrt0.gz\n",
    "\n",
    "#converting Likely ratio test statistic to a p-values\n",
    "Rscript -e 'cat(\"\\nP-value is\",pchisq(2.739244,1,low=F))'"
   ]
  },
  {
   "cell_type": "markdown",
   "id": "cb11b835",
   "metadata": {
    "kernel": "SoS"
   },
   "source": [
    "- Is there a significant difference?\n",
    "- Can you find other uses for such a test?\n",
    "\n",
    "This approach can be used genome wide to detect sites with different allele frequencies accross the whole genome. The effect size can either be the difference in allele frequency or it can be measured by e.g. Fst. \n"
   ]
  }
 ],
 "metadata": {
  "kernelspec": {
   "display_name": "SoS",
   "language": "sos",
   "name": "sos"
  },
  "language_info": {
   "codemirror_mode": "sos",
   "file_extension": ".sos",
   "mimetype": "text/x-sos",
   "name": "sos",
   "nbconvert_exporter": "sos_notebook.converter.SoS_Exporter",
   "pygments_lexer": "sos"
  },
  "sos": {
   "kernels": [
    [
     "Bash",
     "bash",
     "bash",
     "",
     "shell"
    ],
    [
     "Calysto Bash",
     "calysto_bash",
     "bash",
     "",
     ""
    ],
    [
     "R",
     "ir",
     "R",
     "",
     "r"
    ]
   ],
   "panel": {
    "displayed": false,
    "height": 0
   },
   "version": "0.24.1"
  }
 },
 "nbformat": 4,
 "nbformat_minor": 5
}
