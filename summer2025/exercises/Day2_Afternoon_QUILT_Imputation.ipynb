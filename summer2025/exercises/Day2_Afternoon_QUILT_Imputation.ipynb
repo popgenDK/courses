{
 "cells": [
  {
   "cell_type": "markdown",
   "id": "4f42eede",
   "metadata": {
    "kernel": "SoS"
   },
   "source": [
    "# NGS: SNP calling, genoptype calling and Imputation "
   ]
  },
  {
   "cell_type": "markdown",
   "id": "28038f1d",
   "metadata": {
    "kernel": "SoS"
   },
   "source": [
    "We will work on 33 European samples where we have reduced the genome so there is very little data. \n",
    "\n",
    "We will be looking at the default behaviour for 3 different programs.\n",
    "\n",
    "| tool | SAMtools/bcftools | GATK | ANGSD |\n",
    "| --- | --- | --- | --- |\n",
    "| Genotype likelihood | tries to model error dependencies | simple | user specified |\n",
    "| SNP caller | uses SFS as prior | uses SFS as prior | likelihood ratio test |\n",
    "| Genotype caller | MAF | ML | MAF prior |\n",
    "\n",
    "<br>\n",
    "All the programs have additional filters and additional differences. "
   ]
  },
  {
   "cell_type": "markdown",
   "id": "c5a99af0",
   "metadata": {
    "kernel": "SoS"
   },
   "source": [
    "## Setup"
   ]
  },
  {
   "cell_type": "markdown",
   "id": "50e398ef",
   "metadata": {
    "kernel": "R"
   },
   "source": [
    "We are first going to set up the environmental variables to help run the software later. "
   ]
  },
  {
   "cell_type": "code",
   "execution_count": null,
   "id": "1c54f2cc",
   "metadata": {
    "kernel": "Calysto Bash"
   },
   "outputs": [],
   "source": [
    "COURSE_PATH=/course/popgen25\n",
    "DATA_PATH=${COURSE_PATH}/Imputation\n",
    "SOFTWARE_PATH=${COURSE_PATH}/software\n",
    "\n",
    "## shared tools and data folder\n",
    "#TOOL_PATH=/course/popgen25/software \n",
    "#RESOURCE_PATH=/course/popgen25/Imputation/resources\n",
    "#INPUT_PATH=/course/popgen25/Imputation  # for input data\n",
    "\n",
    "# go to working folder\n",
    "mkdir -p ~/popgen25_imputation\n",
    "cd ~/popgen25_imputation\n",
    "\n",
    "ln -sfn ~/popgen25_imputation ~/current_folder\n",
    "ln -sfn ${DATA_PATH} ~/data_folder\n",
    "\n",
    "OUT_DIR=~/popgen25_imputation"
   ]
  },
  {
   "cell_type": "markdown",
   "id": "f239b92c",
   "metadata": {
    "kernel": "R"
   },
   "source": [
    "we should have access to all files and tools if the environment is set up correctly"
   ]
  },
  {
   "cell_type": "code",
   "execution_count": null,
   "id": "a300dbcf",
   "metadata": {
    "kernel": "Calysto Bash"
   },
   "outputs": [],
   "source": [
    "# check environment\n",
    "which angsd\n",
    "which samtools\n",
    "which bcftools\n",
    "which vcftools\n",
    "\n",
    "# Additional tools\n",
    "BEAGLE4=${SOFTWARE_PATH}/beagle.27Jan18.7e1.jar\n",
    "BEAGLE5=${SOFTWARE_PATH}/beagle.27Feb25.75f.jar\n",
    "QUILT2=${SOFTWARE_PATH}/QUILT/QUILT2.R\n",
    "\n",
    "# Reference data\n",
    "QUILT2_MAP=~/data_folder/resources/CEU-chr20-final.b38.txt.gz\n",
    "BEAGLE5_MAP=~/data_folder/resources/plink.chr20.GRCh38.rename.map\n",
    "REF_GENOME=~/data_folder/resources/GRCh38_full_analysis_set_plus_decoy_hla.fa\n",
    "\n",
    "REF_VCF=~/data_folder/vcfs/CEU_ref_set.chr20.vcf.gz\n",
    "TRUE_VCF=~/data_folder/vcfs/CEU_true_set.chr20.vcf.gz\n",
    "EXAMPLE_VCF=~/data_folder/vcfs/example.vcf.gz\n",
    "QUILT2_EXAMPLE=~/data_folder/vcfs/quilt2_all_inds.vcf.gz\n",
    "\n",
    "# Input data\n",
    "SAM_FOLDER=~/data_folder/bams\n",
    "FAKE_SNPCHIP=~/data_folder/vcfs/CEU_fake_chip.chr20.vcf.gz\n",
    "\n",
    "# you could run this to check whether files exist\n",
    "ls ${BEAGLE4} ${BEAGLE5} ${BEAGLE5_MAP} ${QUILT2} ${QULT2_MAP} ${REF_GENOME}* ${TRUE_VCF} ${REF_VCF} ${QUILT2_EXAMPLE} ${FAKE_SNPCHIP} ${SAM_FOLDER} "
   ]
  },
  {
   "cell_type": "markdown",
   "id": "b9223351",
   "metadata": {
    "kernel": "Calysto Bash"
   },
   "source": [
    "## Input formats and data preparation\n",
    "\n",
    "### Input Reference panel\n",
    "IMPUTE format hap and legend format files with reference haplotypes. These can be made from haplotype VCFs using bcftools convert --haplegendsample. Alternatively, they can be made manually. The haplotype file is a gzipped file with no header and no rownames, with one row per SNP, with one column per reference haplotype, space separated, and values of 0 (ref) and 1 (alt). The legend file is a gzipped file with no rownames, a header file including position for the physical position in 1 based coordinates, a0 for the reference allele, and a1 for the alternate allele. An optional sample file and file with samples to exclude can be useful for changing who is used in the reference panel.\n",
    "\n",
    "### Genetic map \n",
    "This is sometimes referred to as recombiation map. File with genetic map information, with 3 white-space delimited columns giving position (1-based), recombination rate in cM/Mbp, and genetic map in cM\n",
    "\n",
    "### Bams\n",
    "Given as a bamlist (i.e. a file with one row per sample, the path to the bam)\n",
    "\n",
    "### Truth data (Optional) \n",
    "Consists of two files - phasefile and posfile - these are useful for understanding performance of imputation. \n",
    "\n",
    "Phasefile has a header row with a name for each sample, matching what is found in the bam file. File is tab separated, one subject per column, with 0 = ref and 1 = alt, separated by a vertical bar |, e.g. 0|0 or 0|1. Note therefore this file has one more row than posfile which has no header. \n",
    "\n",
    "For posfile, this is a file with positions of where to impute, lining up one-to-one with the SNPs of phasefile. File is tab seperated with no header, one row per SNP, with col 1 = chromosome, col 2 = physical position (sorted from smallest to largest), col 3 = reference base, col 4 = alternate base. Bases are capitalized. Example first row: 1 1000 A G"
   ]
  },
  {
   "cell_type": "markdown",
   "id": "d7475950",
   "metadata": {
    "kernel": "Calysto Bash"
   },
   "source": [
    "- create folders and prepare inputs"
   ]
  },
  {
   "cell_type": "code",
   "execution_count": null,
   "id": "f2d68ad5",
   "metadata": {
    "kernel": "Calysto Bash"
   },
   "outputs": [],
   "source": [
    "ls $SAM_FOLDER/NA*.bam > ${OUT_DIR}/CEU_inds_bams.list"
   ]
  },
  {
   "cell_type": "markdown",
   "id": "1eaa68fe",
   "metadata": {
    "kernel": "Calysto Bash"
   },
   "source": [
    "* Check your data to see it looks OK. "
   ]
  },
  {
   "cell_type": "code",
   "execution_count": null,
   "id": "ed4cdac1",
   "metadata": {
    "kernel": "Calysto Bash",
    "scrolled": true
   },
   "outputs": [],
   "source": [
    "samtools mpileup -b ${OUT_DIR}/CEU_inds_bams.list | head -n 10"
   ]
  },
  {
   "cell_type": "markdown",
   "id": "6cdc2f85",
   "metadata": {
    "kernel": "Calysto Bash"
   },
   "source": [
    "- View the data in mpileup format and identify the columns\n",
    "\n",
    "\n",
    "And you should index the fasta reference"
   ]
  },
  {
   "cell_type": "markdown",
   "id": "f2255e1e",
   "metadata": {
    "kernel": "Calysto Bash"
   },
   "source": [
    "## Output formats\n",
    "Output VCF with both SNP annotation information (see below) and per-sample genotype information. \n",
    "\n",
    "Per-sample genotype information includes the following entries:\n",
    "\n",
    "* GT: Phased genotypes. Genotypes with phase where each allele is the rounded per-haplotype posterior probability (HD below).\n",
    "\n",
    "* GP: Genotype posteriors. Posterior probabilities of the three genotypes given the data.\n",
    "\n",
    "* DS Diploid dosage. Posterior expectation of the diploid genotype i.e. the expected number of copies of the alternate allele\n",
    "\n",
    "* HD: Haploid dosages. Per-haplotype posterior probability of an alternate allele\n",
    "\n",
    "Note that in QUILT, genotype posteriors (GP) and dosages (DS) are taken from the main Gibbs sampling, while the phasing results (GT and HD) are taken from an additional special phasing Gibbs sample. As such, phasing results (GT and HD) might not be consistent with genotype information (GP and DS). If consistency is necessary, note that you can create a consistent GP and DS from HD."
   ]
  },
  {
   "cell_type": "code",
   "execution_count": null,
   "id": "8a6499fb",
   "metadata": {
    "kernel": "Calysto Bash",
    "scrolled": true
   },
   "outputs": [],
   "source": [
    "zcat ${EXAMPLE_VCF} | head -n 100 | tail -n +95"
   ]
  },
  {
   "cell_type": "markdown",
   "id": "70b49d4a",
   "metadata": {
    "kernel": "Calysto Bash"
   },
   "source": [
    "## Genotype calling without Imputation\n",
    "\n",
    "In this exercise you will try to generate the widely used **vcf** formatted files. We will use\n",
    "\n",
    " - angsd\n",
    " - bcftools\n",
    " - vcftools"
   ]
  },
  {
   "cell_type": "markdown",
   "id": "5074bbb8",
   "metadata": {
    "kernel": "Calysto Bash"
   },
   "source": [
    "### samtools/bcftools\n",
    "\n",
    "SAMtools outputs a binary version of vcf files, called bcf files. To get a the vcf equivalent you shou0ld pipe the data to bcftools which is located within the samtools/bcftools subfolder.\n",
    "\n",
    "bcftools can do single sample genotyping/SNP calling however, it calculates the genotype likelihoods a little different than the simple GATK model"
   ]
  },
  {
   "cell_type": "code",
   "execution_count": null,
   "id": "2ac9fd74",
   "metadata": {
    "kernel": "Calysto Bash"
   },
   "outputs": [],
   "source": [
    "mkdir -p ${OUT_DIR}/bcftoolsgt_out\n",
    "\n",
    "## 3 min to run\n",
    "#bcftools mpileup -f ${REF_GENOME} -Ou -b ${OUT_DIR}/CEU_inds_bams.list -r chr20:2000001-5000000 | \\\n",
    "#    bcftools call -V indels -a GQ,GP -mv -Ov -o ${OUT_DIR}/bcftoolsgt_out/CEU_inds_bam.vcf\n",
    "#\n",
    "#bgzip -f ${OUT_DIR}/bcftoolsgt_out/CEU_inds_bam.vcf\n",
    "#tabix -f ${OUT_DIR}/bcftoolsgt_out/CEU_inds_bam.vcf.gz\n",
    "#\n",
    "## this takes 3min to run, we just copy the output file\n",
    "## you can uncomment (remove the leading single \"#\") the above lines to run it by yourself\n",
    "cp -sf ~/data_folder/outputs/bcftoolsgt_out/* ~/current_folder/bcftoolsgt_out/\n"
   ]
  },
  {
   "cell_type": "markdown",
   "id": "eb2abae6",
   "metadata": {
    "kernel": "Calysto Bash"
   },
   "source": [
    "### ANGSD\n",
    "We now call genotypes using ANGSD, and by simply calling the genotype that has the highest likelihood. We see that genotypes in the above vcf format is identified by the counts of non-reference. The default behaviour of angsd is to estimate the major/minor based on GL. But we can force it to use the reference as major by using -doMajorMinor 4 and supplying the reference (just as in done i GATK and Samtools)."
   ]
  },
  {
   "cell_type": "code",
   "execution_count": null,
   "id": "4dcdfdee",
   "metadata": {
    "kernel": "Calysto Bash"
   },
   "outputs": [],
   "source": [
    "mkdir -p ${OUT_DIR}/angsd_out\n",
    "\n",
    "# 5 min to run\n",
    "#angsd -bam ${OUT_DIR}/CEU_inds_bams.list -SNP_pval 0.001 \\\n",
    "# -doMaf 2 -doMajorMinor 4 -r chr20:2000001-5000000 \\\n",
    "# -doGlf 2 -doGeno 2 -doPost 2 -GL 1 -doBcf 1 \\\n",
    "# -out ${OUT_DIR}/angsd_out/angsd_genotype -ref ${REF_GENOME}\n",
    "# \n",
    "#bcftools index ${OUT_DIR}/angsd_out/angsd_genotype.bcf\n",
    "\n",
    "## again, this takes 5min to run, we just copy the output file\n",
    "## you can uncomment (remove the leading single \"#\") the above lines to run it by yourself\n",
    "cp -sf ~/data_folder/outputs/angsd_out/angsd_genotype* ~/current_folder/angsd_out/\n"
   ]
  },
  {
   "cell_type": "markdown",
   "id": "45015fe0",
   "metadata": {
    "kernel": "Calysto Bash"
   },
   "source": [
    "This commands can be read as: We want to run the analysis based on 'bams.list' and we limit the analysis to chromosome '1'. We are not interested in all sites, but only those sites that are variable with a likelihood ratio test with a p-value of 0.001. Our output files should be prefixed with angsd. We want to estimate the allele frequency, and that requires that we also find the major and minor allele. And we base all analysis on the Samtools model of genotype likelihoods. \n",
    "For all information, please view <https://www.popgen.dk/angsd/index.php/ANGSD>\n",
    "\n",
    "Here we use the allele frequency in order to call SNPs.\n"
   ]
  },
  {
   "cell_type": "markdown",
   "id": "7cadf207",
   "metadata": {
    "kernel": "Calysto Bash"
   },
   "source": [
    "### Comparing the results (SNP-discovery)\n",
    "\n",
    "This requires R and the vcfppR and UpSetR package.\n",
    "Let us examine the difference between the two different approaches for SNP-calling, and their difference from the truth."
   ]
  },
  {
   "cell_type": "code",
   "execution_count": null,
   "id": "e02018b4",
   "metadata": {
    "kernel": "R"
   },
   "outputs": [],
   "source": [
    "wd <- path.expand(\"~/current_folder/\")\n",
    "#wd <- path.expand(\"~/popgen25_imputation/\")\n",
    "setwd(wd)\n",
    "\n",
    "library(vcfppR)\n",
    "library(UpSetR)\n",
    "\n",
    "find_match <- function(vcf_in, vcf_truth, name=\"tool\", data_type=\"gt\"){\n",
    "    if(! all(vcf_truth$samples %in% vcf_in$samples)){stop(\"samples doesn't match\")}\n",
    "    true_pos_match <- match(vcf_truth$pos, vcf_in$pos)\n",
    "    vcf_pos_match <- match(vcf_in$pos, vcf_truth$pos)\n",
    "    vcf_in[[data_type]][true_pos_match,  match(vcf_truth$samples, vcf_in$samples)]\n",
    "}\n",
    "\n",
    "gt_truth_file <- paste0(\"/course/popgen25/Imputation/vcfs/CEU_true_set.chr20.vcf.gz\")\n",
    "gt_bcftool_file <- paste0(wd, \"/bcftoolsgt_out/CEU_inds_bam.vcf.gz\")\n",
    "gt_angsd_file <- paste0(wd, \"/angsd_out/angsd_genotype.bcf\")\n",
    "\n",
    "res_truth <- vcftable(gt_truth_file, \"chr20:2000001-5000000\", vartype = \"snps\")\n",
    "res_bcftools <- vcftable(gt_bcftool_file, \"chr20:2000001-5000000\", vartype = \"snps\")\n",
    "res_angsd <- vcftable(gt_angsd_file, \"chr20:2000001-5000000\", vartype = \"snps\")\n"
   ]
  },
  {
   "cell_type": "markdown",
   "id": "955d0348",
   "metadata": {
    "kernel": "R"
   },
   "source": [
    "We will use Upset plot to see the performance of angsd and bcftools genotype calling."
   ]
  },
  {
   "cell_type": "code",
   "execution_count": null,
   "id": "d79d43e5",
   "metadata": {
    "kernel": "R"
   },
   "outputs": [],
   "source": [
    "wd <- path.expand(\"~/current_folder/\")\n",
    "#wd <- path.expand(\"~/popgen25_imputation/\")\n",
    "setwd(wd)\n",
    "\n",
    "## Make the data frame to make the upset plot. \n",
    "upsetdf <- fromList(list(\n",
    "    Truth=res_truth$pos,\n",
    "    angsd=res_angsd$pos,\n",
    "    bcftools=res_bcftools$pos\n",
    "))\n",
    "\n",
    "## Visualize the results\n",
    "upset(\n",
    "  upsetdf,\n",
    "  order.by         = \"freq\",\n",
    "  sets.x.label     = \"SNP count\",\n",
    "  mainbar.y.label  = \"shared SNP\",\n",
    "  text.scale = c(2.2, 1.8, 2.2, 1.8, 2, 1.8)\n",
    ")"
   ]
  },
  {
   "cell_type": "markdown",
   "id": "5a95bcdf",
   "metadata": {
    "kernel": "R"
   },
   "source": [
    "See the last two columns, angsd has a bit less shared SNPs with the truth. The reason is, angsd is mainly focusing on genotype likelihood estimation, but not genotype calling."
   ]
  },
  {
   "cell_type": "markdown",
   "id": "aa7bcd99",
   "metadata": {
    "kernel": "R"
   },
   "source": [
    "# Genotype calling with imputation\n",
    "We will use several different strategies to impute the genotype."
   ]
  },
  {
   "cell_type": "markdown",
   "id": "0bbe2fd7",
   "metadata": {
    "kernel": "Calysto Bash"
   },
   "source": [
    "## Imputation using Beagle 4"
   ]
  },
  {
   "cell_type": "markdown",
   "id": "b980fc0d",
   "metadata": {
    "kernel": "R"
   },
   "source": [
    "We should first preparing the information needed for imputation. As we already have genotype (likelihood) data called by angsd, we will just use those output files.\n",
    "\n",
    "Before that, we need to convert the data to vcf format, and build index, which is required for running Beagle 4 in genotype (likelihood) mode."
   ]
  },
  {
   "cell_type": "code",
   "execution_count": null,
   "id": "215e2dd9",
   "metadata": {
    "kernel": "Calysto Bash"
   },
   "outputs": [],
   "source": [
    "\n",
    "# prepare data for beagle 4, using angsd bcf output\n",
    "mkdir -p ${OUT_DIR}/beagle4_out\n",
    "bcftools view ${OUT_DIR}/angsd_out/angsd_genotype.bcf -Ov -o ${OUT_DIR}/beagle4_out/angsd_for_beagle.vcf\n",
    "bgzip -f ${OUT_DIR}/beagle4_out/angsd_for_beagle.vcf\n",
    "tabix -f ${OUT_DIR}/beagle4_out/angsd_for_beagle.vcf.gz\n",
    " "
   ]
  },
  {
   "cell_type": "markdown",
   "id": "791b0904",
   "metadata": {
    "kernel": "Calysto Bash"
   },
   "source": [
    "Run the imputation based on the angsd genotype.\n",
    "\"gl\" means genotype likelihood"
   ]
  },
  {
   "cell_type": "code",
   "execution_count": null,
   "id": "57c66534",
   "metadata": {
    "kernel": "Calysto Bash",
    "scrolled": true
   },
   "outputs": [],
   "source": [
    "\n",
    "# 10 secs to run\n",
    "java -Xmx8g -jar ${BEAGLE4} \\\n",
    "    gl=${OUT_DIR}/beagle4_out/angsd_for_beagle.vcf.gz \\\n",
    "    out=${OUT_DIR}/beagle4_out/beagle4_imputation \\\n",
    "    niterations=10 \\\n",
    "    nthreads=32\n",
    "bcftools index ${OUT_DIR}/beagle4_out/beagle4_imputation.vcf.gz\n"
   ]
  },
  {
   "cell_type": "markdown",
   "id": "878b1210",
   "metadata": {
    "kernel": "Calysto Bash"
   },
   "source": [
    "## Imputation using QUILT2"
   ]
  },
  {
   "cell_type": "markdown",
   "id": "6d4251fe",
   "metadata": {
    "kernel": "Calysto Bash"
   },
   "source": [
    "We will then use QUILT2 to go all the way from bams to genotypes with imputation, i.e. it will start from the bam file, do genotype calling and perform imputation.\n",
    "\n",
    "Because of time constraints, we will take 1 sample as an example, and use the prepared outcome of 30 samples for further comparison."
   ]
  },
  {
   "cell_type": "code",
   "execution_count": null,
   "id": "e90f0633",
   "metadata": {
    "kernel": "Calysto Bash",
    "scrolled": true
   },
   "outputs": [],
   "source": [
    "# 2 min to run\n",
    "#mkdir -p ${OUT_DIR}/quilt2_1_ind\n",
    "\n",
    "quilt_out=${OUT_DIR}/quilt2_1_ind\n",
    "if [ -d ${quilt_out}/ ]; then rm -rf ${quilt_out}/; fi\n",
    "head -n 1 ${OUT_DIR}/CEU_inds_bams.list > ${OUT_DIR}/CEU_1_ind.list\n",
    "\n",
    "$QUILT2 \\\n",
    "    --outputdir=${quilt_out} \\\n",
    "    --chr=chr20 \\\n",
    "    --regionStart=2000001 \\\n",
    "    --regionEnd=5000000 \\\n",
    "    --buffer=500000 \\\n",
    "    --nGen=100 \\\n",
    "    --bamlist=${OUT_DIR}/CEU_1_ind.list \\\n",
    "    --genetic_map_file=${QUILT2_MAP} \\\n",
    "    --reference_vcf_file=${REF_VCF} \\\n",
    "    --save_prepared_reference=TRUE\n"
   ]
  },
  {
   "cell_type": "code",
   "execution_count": null,
   "id": "98c5dc05",
   "metadata": {
    "kernel": "Calysto Bash"
   },
   "outputs": [],
   "source": [
    "\n",
    "# it takes 20 min to run for all individuals, we will just copy the prepared results\n",
    "#quilt_out=${output_dir}/quilt2_output\n",
    "#if [ -d $quilt_out ]; then rm -rf $quilt_out; fi\n",
    "#$QUILT2 \\\n",
    "#    --outputdir=${quilt_out} \\\n",
    "#    --chr=chr20 \\\n",
    "#    --regionStart=2000001 \\\n",
    "#    --regionEnd=5000000 \\\n",
    "#    --buffer=500000 \\\n",
    "#    --nGen=100 \\\n",
    "#    --bamlist=${output_dir}/CEU_inds_bams.list \\\n",
    "#    --genetic_map_file=${QUILT2_MAP} \\\n",
    "#    --reference_vcf_file=${REF_VCF} \\\n",
    "#    --save_prepared_reference=TRUE\n",
    "\n",
    "cp ${QUILT2_EXAMPLE} ${OUT_DIR}/quilt2_1_ind/quilt2_all_inds.vcf.gz\n",
    "tabix ${OUT_DIR}/quilt2_1_ind/quilt2_all_inds.vcf.gz\n"
   ]
  },
  {
   "cell_type": "markdown",
   "id": "3c8cebb1",
   "metadata": {
    "kernel": "Calysto Bash"
   },
   "source": [
    "## SNP-chip data Beagle 5.5 imputation"
   ]
  },
  {
   "cell_type": "markdown",
   "id": "1ee8b55a",
   "metadata": {
    "kernel": "Calysto Bash"
   },
   "source": [
    "Beagle 5.5 supports large reference panel, which should help improve the accuracy of imputation and retain more SNPs with good imputation results."
   ]
  },
  {
   "cell_type": "code",
   "execution_count": null,
   "id": "88358382",
   "metadata": {
    "kernel": "Calysto Bash",
    "scrolled": true
   },
   "outputs": [],
   "source": [
    "# 3 secs to run\n",
    "mkdir -p ${OUT_DIR}/beagle5_out\n",
    "\n",
    "java -Xmx8g -jar $BEAGLE5 \\\n",
    "    gt=${FAKE_SNPCHIP} \\\n",
    "    ref=${REF_VCF} \\\n",
    "    map=${BEAGLE5_MAP} \\\n",
    "    nthreads=16 \\\n",
    "    impute=true \\\n",
    "    gp=true \\\n",
    "    out=${OUT_DIR}/beagle5_out/beagle5_imputed\n",
    "\n",
    "bcftools index ${OUT_DIR}/beagle5_out/beagle5_imputed.vcf.gz\n"
   ]
  },
  {
   "cell_type": "markdown",
   "id": "3ad393bb",
   "metadata": {
    "kernel": "Calysto Bash"
   },
   "source": [
    "# Compare results from tools"
   ]
  },
  {
   "cell_type": "markdown",
   "id": "0d0f501b",
   "metadata": {
    "kernel": "Calysto Bash"
   },
   "source": [
    "Lets first copy the true VCF results"
   ]
  },
  {
   "cell_type": "code",
   "execution_count": null,
   "id": "41ad7df7",
   "metadata": {
    "kernel": "Calysto Bash"
   },
   "outputs": [],
   "source": [
    "cp ${TRUE_VCF} ${OUT_DIR}/\n",
    "tabix ${OUT_DIR}/CEU_true_set.chr20.vcf.gz"
   ]
  },
  {
   "cell_type": "code",
   "execution_count": null,
   "id": "07976bcf",
   "metadata": {
    "kernel": "R"
   },
   "outputs": [],
   "source": [
    "# load the function\n",
    "library(vcfppR)\n",
    "\n",
    "estimate_gt_tools <- function(gt_mat_list = list(), gt_true_mat=matrix(), keep=c()){\n",
    "    if(!all(lapply(gt_mat_list, nrow) == nrow(gt_true_mat))){stop(\"SNP count doesn't match\")}\n",
    "    if(!all(lapply(gt_mat_list, ncol) == ncol(gt_true_mat))){stop(\"Sample count doesn't match\")}\n",
    "    if(length(keep)==0){\n",
    "        keep <- rep(TRUE, nrow(gt_true_mat))\n",
    "    }\n",
    "    res <- \n",
    "    sapply(gt_mat_list,function(x){\n",
    "        x[is.na(x)] <- -1;\n",
    "      mean(res_truth_mat[keep, ]==x[keep, ],na.rm=T)})\n",
    "    \n",
    "    resMis <- sapply(gt_mat_list,function(x) \n",
    "      mean(is.na(x[keep, ]),na.rm=T))\n",
    "    resNA <- \n",
    "    sapply(gt_mat_list,function(x) \n",
    "      mean(res_truth_mat[keep, ]==x[keep, ],na.rm=T))\n",
    "    \n",
    "    cat(\"Missing genotype rate:\\n\")\n",
    "    print(resMis)\n",
    "    \n",
    "    cat(\"\\nDiscordance rate assuming missing is discordant:\\n\")\n",
    "    print(res)\n",
    "    \n",
    "    cat(\"\\nDiscordance rate when ignoring missing genotypes:\\n\")\n",
    "    print(resNA)\n",
    "}\n",
    "           \n",
    "gp_to_gq <- function(gp_row) {\n",
    "  if (any(is.na(gp_row))) return(0)  # NA to 0\n",
    "  p_max <- max(gp_row)\n",
    "  if (p_max >= 0.999999) return(99)  # cap GQ at 99\n",
    "  gq <- -10 * log10(1 - p_max)\n",
    "  return(round(gq, 2))\n",
    "}"
   ]
  },
  {
   "cell_type": "code",
   "execution_count": null,
   "id": "1b240c22",
   "metadata": {
    "kernel": "R"
   },
   "outputs": [],
   "source": [
    "# Read all data\n",
    "\n",
    "gt_truth_file <- paste0(wd, \"/CEU_true_set.chr20.vcf.gz\")\n",
    "gt_bcftool_file <- paste0(wd, \"/bcftoolsgt_out/CEU_inds_bam.vcf.gz\")\n",
    "gt_angsd_file <- paste0(wd, \"/angsd_out/angsd_genotype.bcf\")\n",
    "gt_beagle4gl_file <- paste0(wd, \"/beagle4_out/beagle4_imputation.vcf.gz\")\n",
    "gt_quilt2_file <- paste0(wd, \"/quilt2_1_ind/quilt2_all_inds.vcf.gz\")\n",
    "gt_beagle5gl_file <- paste0(wd, \"/beagle5_out/beagle5_imputed.vcf.gz\")\n",
    "\n",
    "\n",
    "res_truth <- vcftable(gt_truth_file, \"chr20:2000001-5000000\", vartype = \"snps\")\n",
    "res_bcftools <- vcftable(gt_bcftool_file, \"chr20:2000001-5000000\", vartype = \"snps\")\n",
    "res_angsd <- vcftable(gt_angsd_file, \"chr20:2000001-5000000\", vartype = \"snps\")\n",
    "res_beagle4gl <- vcftable(gt_beagle4gl_file, \"chr20:2000001-5000000\", vartype = \"snps\")\n",
    "res_quilt2 <- vcftable(gt_quilt2_file, \"chr20:2000001-5000000\", vartype = \"snps\")\n",
    "res_beagle5gl <- vcftable(gt_beagle5gl_file, \"chr20:2000001-5000000\", vartype = \"snps\")\n",
    "\n",
    "\n",
    "res_truth$samples <- sub(\".lc.bam\", \"\", basename(res_truth$samples))\n",
    "res_bcftools$samples <- sub(\".lc.bam\", \"\", basename(res_bcftools$samples))\n",
    "res_angsd$samples <- sub(\".lc.bam\", \"\", basename(res_angsd$samples))\n",
    "res_beagle4gl$samples <- sub(\".lc.bam\", \"\", basename(res_beagle4gl$samples))\n",
    "res_quilt2$samples <- sub(\".lc.bam\", \"\", basename(res_quilt2$samples))\n",
    "res_beagle5gl$samples <- sub(\".lc.bam\", \"\", basename(res_beagle5gl$samples))\n",
    "\n"
   ]
  },
  {
   "cell_type": "code",
   "execution_count": null,
   "id": "36ee773e",
   "metadata": {
    "kernel": "R"
   },
   "outputs": [],
   "source": [
    "true_freq <- rowMeans(res_truth$gt)/2\n",
    "table(true_common <- true_freq > 0.05 & true_freq < 0.95)\n",
    "names(res_truth)"
   ]
  },
  {
   "cell_type": "code",
   "execution_count": null,
   "id": "f69a63c3",
   "metadata": {
    "kernel": "R"
   },
   "outputs": [],
   "source": [
    "res_truth_mat <- res_truth$gt\n",
    "res_bcftools_mat <- find_match(res_bcftools, res_truth, name=\"bcftools\")\n",
    "res_angsd_mat <- find_match(res_angsd, res_truth, name=\"angsd\")\n",
    "res_beagle4gl_mat <- find_match(res_beagle4gl, res_truth, name=\"beagle4gl\")\n",
    "res_beagle5gl_mat <- find_match(res_beagle5gl, res_truth, name=\"beagle5gl\")\n",
    "res_quilt2_mat <- find_match(res_quilt2, res_truth, name=\"quilt2\")\n"
   ]
  },
  {
   "cell_type": "code",
   "execution_count": null,
   "id": "e8807f46",
   "metadata": {
    "kernel": "R"
   },
   "outputs": [],
   "source": [
    "estimate_gt_tools(list(\n",
    "    bcftools=res_bcftools_mat,\n",
    "    angsd=res_angsd_mat,\n",
    "    beagle4gl=res_beagle4gl_mat,\n",
    "    beagle5gl=res_beagle5gl_mat,\n",
    "    quilt2=res_quilt2_mat), res_truth_mat)"
   ]
  },
  {
   "cell_type": "code",
   "execution_count": null,
   "id": "49f8a928",
   "metadata": {
    "kernel": "R"
   },
   "outputs": [],
   "source": [
    "estimate_gt_tools(list(\n",
    "    bcftools=res_bcftools_mat,\n",
    "    angsd=res_angsd_mat,\n",
    "    beagle4gl=res_beagle4gl_mat,\n",
    "    beagle5gl=res_beagle5gl_mat,\n",
    "    quilt2=res_quilt2_mat), res_truth_mat, keep=true_common)"
   ]
  }
 ],
 "metadata": {
  "kernelspec": {
   "display_name": "SoS",
   "language": "sos",
   "name": "sos"
  },
  "language_info": {
   "codemirror_mode": "sos",
   "file_extension": ".sos",
   "mimetype": "text/x-sos",
   "name": "sos",
   "nbconvert_exporter": "sos_notebook.converter.SoS_Exporter",
   "pygments_lexer": "sos"
  },
  "sos": {
   "kernels": [
    [
     "Calysto Bash",
     "calysto_bash",
     "bash",
     "",
     ""
    ],
    [
     "R",
     "ir",
     "R",
     "",
     "r"
    ]
   ],
   "panel": {
    "displayed": false,
    "height": 0
   },
   "version": "0.24.1"
  }
 },
 "nbformat": 4,
 "nbformat_minor": 5
}
