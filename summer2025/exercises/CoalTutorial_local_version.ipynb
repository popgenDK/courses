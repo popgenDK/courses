{
 "cells": [
  {
   "cell_type": "markdown",
   "id": "ce9efb2c",
   "metadata": {
    "kernel": "SoS"
   },
   "source": [
    "Exercises in coalescent theory\n",
    "===============\n",
    "\n",
    "## Exercise A: Simulating a coalescence tree assuming a constant population size\n",
    "(Based on notes by Ida Moltke)\n",
    "\n",
    "The purpose of this first exercise is to make sure it is clear how a coalescence tree is simulated. We will use R so a little familiarity with this language will help. First, let us try to simulate a coalescence tree for five samples by hand:\n",
    "\n",
    "1. Start by drawing on a piece of paper a small circle for each of the five samples. They should be lined up on an invisible horizontal line and you should leave enough space above the circles for \n",
    "drawing a tree above them (which we will do shortly). We will henceforth call these five circles \"nodes\" and label them 1,2,3,4,5\n",
    "\n",
    "Example:\n",
    "<img src=\"https://raw.githubusercontent.com/FerRacimo/CopenhagenTutorial/master/CoalSimul1.jpeg\" alt=\"Example\" width=\"300\"/>"
   ]
  },
  {
   "cell_type": "markdown",
   "id": "18d17db5",
   "metadata": {
    "kernel": "SoS"
   },
   "source": [
    "2. Also, make a list of the node names. You can either do this by hand or you can do it in R by \n",
    "simply writing:"
   ]
  },
  {
   "cell_type": "code",
   "execution_count": null,
   "id": "906e9c9b",
   "metadata": {
    "kernel": "R"
   },
   "outputs": [],
   "source": [
    "\n",
    "nodes = c(1,2,3,4,5) # make the list and call it nodes\n",
    "nodes # print the list\n"
   ]
  },
  {
   "cell_type": "markdown",
   "id": "777f19c4",
   "metadata": {
    "kernel": "SoS"
   },
   "source": [
    "3. Sample which two nodes will coalesce first (going back in time) by randomly picking two of the \n",
    "nodes. You can either do this by hand or you can do it in R by typing:"
   ]
  },
  {
   "cell_type": "code",
   "execution_count": null,
   "id": "2bff4f72",
   "metadata": {
    "kernel": "R"
   },
   "outputs": [],
   "source": [
    "\n",
    "nodecount = length(nodes) # save the number of nodes in the variable nodecount\n",
    "tocoalesce = sample(1:nodecount, size=2) # sample 2 different nodes in node list\n",
    "nodes[tocoalesce[1]] # print the first node sampled\n",
    "nodes[tocoalesce[2]] # print the second node sampled\n"
   ]
  },
  {
   "cell_type": "markdown",
   "id": "d6c817cd",
   "metadata": {
    "kernel": "SoS"
   },
   "source": [
    "If you used R then make sure you understand what the R code does before moving on."
   ]
  },
  {
   "cell_type": "markdown",
   "id": "97fcf770",
   "metadata": {
    "kernel": "SoS"
   },
   "source": [
    "4. Sample the time it takes before these two nodes coalesce (measured from previous \n",
    "coalescence event in units of 2N) by sampling from an exponential distribution with rate equal \n",
    "to \"nodecount choose 2\" (expressed in R as `choose(nodecount,2)` ) where nodecount is the number of nodes in your node list. Do \n",
    "this in R by typing:"
   ]
  },
  {
   "cell_type": "code",
   "execution_count": null,
   "id": "4a093a40",
   "metadata": {
    "kernel": "R"
   },
   "outputs": [],
   "source": [
    "\n",
    "coalescencerate = choose(nodecount,2) # calculate the coalescent rate\n",
    "coalescencetime = rexp(1, rate=coalescencerate) # sample from exponential w. that rate\n",
    "coalescencetime\n"
   ]
  },
  {
   "cell_type": "markdown",
   "id": "f78f48b4",
   "metadata": {
    "kernel": "SoS"
   },
   "source": [
    "Make sure you understand what the R code does before moving on."
   ]
  },
  {
   "cell_type": "markdown",
   "id": "302594da",
   "metadata": {
    "kernel": "SoS"
   },
   "source": [
    "5. Now, in your piece of paper, draw a node that is the sampled amount of time further up in the tree than the currently \n",
    "highest node (so if the currently highest node is drawn at height T then draw the new one at \n",
    "height T plus the sampled coalescence time) and draw a branch from each of the nodes you \n",
    "sampled in step 3 to this new node indicating that these two nodes coalesce at this time. \n",
    "\n",
    "Example:\n",
    "<img src=\"https://raw.githubusercontent.com/FerRacimo/CopenhagenTutorial/master/CoalSimul2.jpeg\" alt=\"Example\" width=\"300\"/>"
   ]
  },
  {
   "cell_type": "markdown",
   "id": "b11c0973",
   "metadata": {
    "kernel": "SoS"
   },
   "source": [
    "6. Next, make an updated list of the nodes that are left by removing the two nodes that \n",
    "coalesced and instead adding the newly drawn node that represents their common ancestor. \n",
    "You can call the new node the next number not used as a name yet (e.g. if this is the first \n",
    "coalescence event you can call it 6, if it is the second coalescence event you can call it 7 etc.). \n",
    "You can either do this by hand or in R. If you want to do it R you can do it as follows:"
   ]
  },
  {
   "cell_type": "code",
   "execution_count": null,
   "id": "1a0e738b",
   "metadata": {
    "kernel": "R"
   },
   "outputs": [],
   "source": [
    "\n",
    "nodes <- nodes[-tocoalesce] # remove the two nodes that coalesced\n",
    "nodes <- c(nodes,2*5-length(nodes)-1) # add the new node\n",
    "nodes # print the new list\n"
   ]
  },
  {
   "cell_type": "markdown",
   "id": "b26963ba",
   "metadata": {
    "kernel": "SoS"
   },
   "source": [
    "If you used R then make sure you understand what the R code does before moving on."
   ]
  },
  {
   "cell_type": "markdown",
   "id": "63c92538",
   "metadata": {
    "kernel": "SoS"
   },
   "source": [
    "7. If you only have one node left in your list of remaining nodes you are done. If not, go back to  step 3, copy the code into the space below and repeat all subsequent steps. Do this until only one node is left in your nodes vector. "
   ]
  },
  {
   "cell_type": "code",
   "execution_count": null,
   "id": "3e7069ae",
   "metadata": {
    "kernel": "R"
   },
   "outputs": [],
   "source": []
  },
  {
   "cell_type": "markdown",
   "id": "3f4d5251",
   "metadata": {
    "kernel": "SoS"
   },
   "source": [
    "\n",
    "In the end you should have a tree, which is a simulation of a coalescence tree. Try to do this a \n",
    "couple times until you feel like you know how it is done and understand how the coalescence process works (if after drawing a few trees still don’t understand, then feel free to ask for help!).\n"
   ]
  },
  {
   "cell_type": "markdown",
   "id": "37156c59",
   "metadata": {
    "kernel": "SoS"
   },
   "source": [
    "## Exercise B: Simulating and plotting coalescent trees along a genomic sequence\n",
    "\n",
    "\n",
    "Generating a tree by hand is obviously a bit tedious. Let's now take advantage of existing simulation software to generate not just one tree, but a whole sequence of trees! In this section, we will simulate a set of genomes evolving in a simple, constant-sized population. We will use the slendr R library and the msprime simulation engine. We will then extract and plot various coalescent trees from our simulation, to see how different individuals are related to each other in different parts of the genome.\n",
    "\n",
    "We first load the required libraries. These include slendr, a plotting library (ggplot2), a data manipulation library (dplyr) and the ape library for tree plotting."
   ]
  },
  {
   "cell_type": "code",
   "execution_count": null,
   "id": "61d09689",
   "metadata": {
    "kernel": "R"
   },
   "outputs": [],
   "source": [
    "\n",
    "reticulate::use_condaenv(\"/home/jupyter-shared_conda/.local/share/r-miniconda/envs/Python-3.12_msprime-1.3.1_tskit-0.5.6_pyslim-1.0.4_tspop-0.0.2\", required=TRUE)\n",
    "reticulate::source_python(file = system.file(\"pylib/pylib.py\", package = \"slendr\"))\n",
    "library(\"slendr\")\n",
    "## You will need to run setup_env() if mspprime, pyslim and tskit are not installed in your environment already\n",
    "#setup_env(agree=TRUE, pip=FALSE)\n",
    "#init_env()\n",
    "check_env()\n",
    "library(ggplot2)\n",
    "library(dplyr)\n",
    "library(ape)\n"
   ]
  },
  {
   "cell_type": "markdown",
   "id": "78a4667c",
   "metadata": {
    "kernel": "SoS"
   },
   "source": [
    "We set the seed to a specific number (101) for reproducibility of results. Note that this means we will all get the same results. You can try to see what happens when you use a different seed relative to your partner."
   ]
  },
  {
   "cell_type": "code",
   "execution_count": null,
   "id": "08db4d7a",
   "metadata": {
    "kernel": "R"
   },
   "outputs": [],
   "source": [
    "set.seed(101)"
   ]
  },
  {
   "cell_type": "markdown",
   "id": "6bb6b20e",
   "metadata": {
    "kernel": "SoS"
   },
   "source": [
    "We will simulate a very simple demographic model in slendr, with just 1 population of size 1,000."
   ]
  },
  {
   "cell_type": "code",
   "execution_count": null,
   "id": "5c4efcf0",
   "metadata": {
    "kernel": "R"
   },
   "outputs": [],
   "source": [
    "popA <- population(\"A\", time = 6.5e6, N = 1000)\n",
    "model <- compile_model(\n",
    "  populations = list(popA),\n",
    "  generation_time = 30,\n",
    "  path = paste0(tempfile(), \"_basic\"),\n",
    "  direction = \"backward\"\n",
    ")"
   ]
  },
  {
   "cell_type": "markdown",
   "id": "7f9234c7",
   "metadata": {
    "kernel": "SoS"
   },
   "source": [
    "We can plot this model to see what it looks like (SPOILER: it won't be very interesting)."
   ]
  },
  {
   "cell_type": "code",
   "execution_count": null,
   "id": "ed94a69d",
   "metadata": {
    "kernel": "R"
   },
   "outputs": [],
   "source": [
    "plot_model(model, sizes = FALSE)"
   ]
  },
  {
   "cell_type": "markdown",
   "id": "7b2ea1d0",
   "metadata": {
    "kernel": "SoS"
   },
   "source": [
    "We specify the number of samples we want to simulate. In this case, we will sample 5 (diploid) individuals from the present-day."
   ]
  },
  {
   "cell_type": "code",
   "execution_count": null,
   "id": "e991d8d7",
   "metadata": {
    "kernel": "R"
   },
   "outputs": [],
   "source": [
    "\n",
    "present_samples <- schedule_sampling(model, times = 0, list(popA, 5))"
   ]
  },
  {
   "cell_type": "markdown",
   "id": "0b039093",
   "metadata": {
    "kernel": "SoS"
   },
   "source": [
    "We ca now run our simulation, calling msprime (a backward coalescent simulator). We simulate a sequence of length 10 megabases, with a recombination rate similar to the one observed in humans (on average, 10^-8 recombination events per basepair). Note that we need not specify a mutation rate, as we're only interested in the coalescent trees in our simulation, not on the sequences themselves."
   ]
  },
  {
   "cell_type": "code",
   "execution_count": null,
   "id": "0fb834c1",
   "metadata": {
    "kernel": "R"
   },
   "outputs": [],
   "source": [
    "ts <- msprime(\n",
    "  model, sequence_length = 10e6, recombination_rate = 1e-8,\n",
    "  samples = present_samples,\n",
    "  random_seed = 101, verbose = TRUE\n",
    ")"
   ]
  },
  {
   "cell_type": "markdown",
   "id": "8b208a07",
   "metadata": {
    "kernel": "SoS"
   },
   "source": [
    "The ts object now contains a \"tree-sequence\", i.e. a series of coalescent trees that specify how individuals are related to each other across the simulated sequence. We can obtain individual trees from this sequence using the function \"ts_phylo\". The first tree can be obtained and plotted as shown below.  Note that the trees are 0-indexed, i.e. the first tree is the tree number \"0\", the second is number \"1\", the third is number \"2\", etc. This is why we write \"i=0\" to extract the first tree."
   ]
  },
  {
   "cell_type": "code",
   "execution_count": null,
   "id": "056c1792",
   "metadata": {
    "kernel": "R"
   },
   "outputs": [],
   "source": [
    "tree.1 <- ts_phylo(ts, i=0)\n",
    "plot(tree.1)\n",
    "nodelabels()"
   ]
  },
  {
   "cell_type": "markdown",
   "id": "73e091e7",
   "metadata": {
    "kernel": "SoS"
   },
   "source": [
    "The numbers in each leaf node refer to each sampled lineage. Because we're sampling diploids, the number in parenthesis refers to the diploid individual to which that lineage belongs to.\n",
    "\n",
    "Can you plot the second tree in the sequence? How about the 10th tree? And the 1000th tree? If not, why not?"
   ]
  },
  {
   "cell_type": "code",
   "execution_count": null,
   "id": "a46d510d",
   "metadata": {
    "kernel": "R"
   },
   "outputs": [],
   "source": []
  },
  {
   "cell_type": "markdown",
   "id": "da31fe4c",
   "metadata": {
    "kernel": "R"
   },
   "source": [
    "## Exercise C: One or two populations? \n",
    "\n",
    "Imagine the following case: a researcher has estimated the structure of a tree for \n",
    "mtDNA from a species sampled in a single location. She obtains a tree looking as follows:\n",
    "\n",
    "![alt text](https://raw.githubusercontent.com/FerRacimo/CopenhagenTutorial/master/Tree0.png)\n",
    "\n",
    "Based on the structure of the tree, i.e. two groups of related individuals separated by long \n",
    "branches down to the root of the tree, she concludes that there must be population \n",
    "subdivision with two clearly differentiated groups.  Based on what you have learned from \n",
    "the simulations, do you agree with this conclusion?"
   ]
  },
  {
   "cell_type": "code",
   "execution_count": null,
   "id": "d46418d0",
   "metadata": {
    "kernel": "R"
   },
   "outputs": [],
   "source": []
  }
 ],
 "metadata": {
  "kernelspec": {
   "display_name": "SoS",
   "language": "sos",
   "name": "sos"
  },
  "language_info": {
   "codemirror_mode": "sos",
   "file_extension": ".sos",
   "mimetype": "text/x-sos",
   "name": "sos",
   "nbconvert_exporter": "sos_notebook.converter.SoS_Exporter",
   "pygments_lexer": "sos"
  },
  "sos": {
   "kernels": [
    [
     "R",
     "ir",
     "R",
     "",
     "r"
    ]
   ],
   "panel": {
    "displayed": false,
    "height": 0
   },
   "version": "0.24.1"
  }
 },
 "nbformat": 4,
 "nbformat_minor": 5
}
