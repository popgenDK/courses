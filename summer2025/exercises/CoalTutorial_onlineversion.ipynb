{
 "cells": [
  {
   "cell_type": "markdown",
   "id": "fb98d012-af58-4919-bbeb-6a53dbc108e3",
   "metadata": {
    "kernel": "R"
   },
   "source": [
    "Exercises in coalescent theory\n",
    "===============\n",
    "\n",
    "## Exercise\tA:\tSimulating\ta\tcoalescence\ttree\tassuming\ta\tconstant\tpopulation\tsize\n",
    "(Based on notes by Ida Moltke)\n",
    "\n",
    "The\tpurpose\tof\tthis first\texercise\tis\tto\tmake\tsure\tit\tis\tclear\thow\ta\tcoalescence tree\tis\tsimulated. We will use R so a little familiarity with this language will help. First, let\tus try to\tsimulate\ta\tcoalescence tree\tfor\tfive samples by\thand:\n",
    "\n",
    "1. Start\tby\tdrawing\ton a piece of paper a\tsmall circle\tfor\teach\tof\tthe\tfive\tsamples. They should be lined up on\tan\tinvisible horizontal line\tand you should leave enough\tspace\tabove the circles for\t\n",
    "drawing\ta\ttree\tabove them (which we will do shortly).\tWe will henceforth call these five circles \"nodes\" and label them 1,2,3,4,5\n",
    "\n",
    "Example:\n",
    "<img src=\"https://raw.githubusercontent.com/FerRacimo/CopenhagenTutorial/master/CoalSimul1.jpeg\" alt=\"Example\" width=\"300\"/>\n",
    "\n",
    "\n",
    "2. Also,\tmake\ta\tlist\tof\tthe\tnode\tnames.\tYou\tcan\teither\tdo\tthis\tby\thand\tor\tyou\tcan\tdo\tit\tin\tR\tby\t\n",
    "simply\twriting:\n"
   ]
  },
  {
   "cell_type": "code",
   "execution_count": null,
   "id": "ab0ed417-29aa-4ab9-8e0e-3a3b0e012b81",
   "metadata": {
    "kernel": "R"
   },
   "outputs": [],
   "source": [
    "nodes = c(1,2,3,4,5) # make the list and call it nodes\n",
    "nodes # print the list"
   ]
  },
  {
   "cell_type": "markdown",
   "id": "0993e0da-4d81-4105-a540-d2df43ffaa58",
   "metadata": {
    "kernel": "R"
   },
   "source": [
    "3. Sample\twhich\ttwo\tnodes\twill\tcoalesce\tfirst\t(going\tback\tin\ttime)\tby\trandomly\tpicking\ttwo\tof\tthe\t\n",
    "nodes.\tYou\tcan\teither\tdo\tthis\tby\thand\tor\tyou\tcan\tdo\tit\tin\tR\tby\ttyping:"
   ]
  },
  {
   "cell_type": "code",
   "execution_count": null,
   "id": "a58f036e-2f7f-46a7-a134-8e2c624a1826",
   "metadata": {
    "kernel": "R"
   },
   "outputs": [],
   "source": [
    "nodecount = length(nodes) # save the number of nodes in the variable nodecount\n",
    "tocoalesce = sample(1:nodecount, size=2) # sample 2 different nodes in node list\n",
    "nodes[tocoalesce[1]] # print the first node sampled\n",
    "nodes[tocoalesce[2]] # print the second node sampled"
   ]
  },
  {
   "cell_type": "markdown",
   "id": "bbc8b227-f1d9-4dc3-aa1a-b60a28d579f9",
   "metadata": {
    "kernel": "R"
   },
   "source": [
    "If\tyou\tused\tR\tthen\tmake\tsure\tyou\tunderstand\twhat\tthe\tR\tcode\tdoes\tbefore\tmoving\ton.\n",
    "\n",
    "4. Sample\tthe\ttime\tit\ttakes\tbefore\tthese\ttwo\tnodes\tcoalesce\t(measured\tfrom\tprevious\t\n",
    "coalescence\tevent in\tunits\tof\t2N)\tby\tsampling\tfrom\tan\texponential\tdistribution\twith\trate\tequal\t\n",
    "to\t\"nodecount choose 2\" (expressed in R as `choose(nodecount,2)` ) where\tnodecount\tis\tthe\tnumber\tof\tnodes\tin\tyour node\tlist.\tDo\t\n",
    "this\tin\tR\tby\ttyping:"
   ]
  },
  {
   "cell_type": "code",
   "execution_count": null,
   "id": "dc47bb06-a158-4997-a1b7-3ee08e7f7b15",
   "metadata": {
    "kernel": "R"
   },
   "outputs": [],
   "source": [
    "coalescencerate = choose(nodecount,2) # calculate the coalescent rate\n",
    "coalescencetime = rexp(1, rate=coalescencerate) # sample from exponential w. that rate\n",
    "coalescencetime"
   ]
  },
  {
   "cell_type": "markdown",
   "id": "5abe5e2f-5554-40be-837a-63582d30e3c0",
   "metadata": {
    "kernel": "R"
   },
   "source": [
    "\n",
    "Make sure\tyou\tunderstand\twhat\tthe\tR\tcode\tdoes\tbefore\tmoving\ton.\n",
    "\n",
    "5. Now, in your piece of paper,\tdraw\ta\tnode\tthat\tis\tthe\tsampled amount\tof\ttime\tfurther\tup\tin\tthe\ttree\tthan\tthe currently\t\n",
    "highest node\t(so\tif\tthe\tcurrently\thighest\tnode\tis\tdrawn\tat\theight\tT\tthen\tdraw\tthe\tnew\tone\tat\t\n",
    "height\tT plus the\tsampled\tcoalescence\ttime)\tand\tdraw\ta\tbranch\tfrom\teach\tof\tthe\tnodes\tyou\t\n",
    "sampled\tin\tstep\t3\tto\tthis\tnew\tnode\tindicating\tthat\tthese\ttwo\tnodes\tcoalesce at\tthis\ttime.\t\n",
    "\n",
    "Example:\n",
    "<img src=\"https://raw.githubusercontent.com/FerRacimo/CopenhagenTutorial/master/CoalSimul2.jpeg\" alt=\"Example\" width=\"300\"/>\n",
    "\n",
    "6. Next,\tmake\tan\tupdated\tlist\tof\tthe\tnodes\tthat\tare\tleft\tby\tremoving\tthe two\tnodes\tthat\t\n",
    "coalesced\tand\tinstead\tadding\tthe\tnewly\tdrawn\tnode\tthat represents\ttheir\tcommon\tancestor.\t\n",
    "You\tcan\tcall\tthe\tnew\tnode\tthe\tnext\tnumber\tnot\tused\tas\ta\tname\tyet\t(e.g. if\tthis\tis\tthe\tfirst\t\n",
    "coalescence event you\tcan\tcall\tit\t6, if\tit\tis\tthe\tsecond\tcoalescence\tevent you\tcan\tcall\tit\t7\tetc.).\t\n",
    "You\tcan\teither\tdo\tthis\tby\thand\tor\tin\tR.\tIf\tyou\twant\tto\tdo\tit\tR\tyou\tcan\tdo\tit\tas\tfollows:\n"
   ]
  },
  {
   "cell_type": "code",
   "execution_count": null,
   "id": "0391c2ee-78b3-4365-b486-4a286a1fb902",
   "metadata": {
    "kernel": "R"
   },
   "outputs": [],
   "source": [
    "nodes <- nodes[-tocoalesce] # remove the two nodes that coalesced\n",
    "nodes <- c(nodes,2*5-length(nodes)-1) # add the new node\n",
    "nodes # print the new list"
   ]
  },
  {
   "cell_type": "markdown",
   "id": "54bf3475-db22-4e6e-a76c-84652da9258c",
   "metadata": {
    "kernel": "R"
   },
   "source": [
    "If\tyou\tused\tR\tthen\tmake\tsure\tyou\tunderstand\twhat\tthe\tR\tcode\tdoes\tbefore\tmoving\ton.\n",
    "\n",
    "7. If\tyou\tonly\thave\tone\tnode\tleft\tin\tyour\tlist\tof\tremaining\tnodes\tyou\tare\tdone.\tIf\tnot,\tgo\tback\tto\t\n",
    "step\t3.\t\n",
    "\n",
    "In\tthe\tend you\tshould\thave\ta\ttree,\twhich\tis\ta\tsimulation\tof\ta\tcoalescence\ttree. Try\tto\tdo\tthis\ta\t\n",
    "couple times\tuntil\tyou\tfeel\tlike\tyou\tknow\thow\tit\tis\tdone\tand\tunderstand\thow the coalescence process works\t(if after\tdrawing\ta\tfew\ttrees still\tdon’t\tunderstand,\tthen\tfeel\tfree\tto\task for\thelp!).\n",
    "\n",
    "## Exercise B: Simulating and plotting coalescent trees along a genomic sequence\n",
    "\n",
    "\n",
    "Generating a tree by hand is obviously a bit tedious.\tLet's now take advantage of existing simulation software to generate not just one tree, but a whole sequence of trees! In this section, we will simulate a set of genomes evolving in a simple, constant-sized population. We will use the slendr R library and the msprime simulation engine. We will then extract and plot various coalescent trees from our simulation, to see how different individuals are related to each other in different parts of the genome.\n",
    "\n",
    "We first load the required libraries. These include slendr, a plotting library (ggplot2), a data manipulation library (dplyr) and the ape library for tree plotting.\n"
   ]
  },
  {
   "cell_type": "code",
   "execution_count": null,
   "id": "7386c498-acff-4657-9072-fcb384cd634c",
   "metadata": {
    "kernel": "R"
   },
   "outputs": [],
   "source": [
    "#### Some extra stuff to help slendr work on the in the notebook\n",
    "Sys.setenv(CONDA_PREFIX = \"/opt/tljh/user/envs/slendr-env\")\n",
    "Sys.setenv(RETICULATE_PYTHON = \"/opt/tljh/user/envs/slendr-env/bin/python\")  # Optional but helps force the python path\n",
    "Sys.setenv(MPLBACKEND = \"Agg\")  # Force safe headless backend\n",
    "\n",
    "library(reticulate)\n",
    "use_condaenv(\"/opt/tljh/user/envs/slendr-env\", required = TRUE)\n",
    "use_python(\"/opt/tljh/user/envs/slendr-env/bin/python\", required = TRUE)\n",
    "\n",
    "system(\"conda tos accept --override-channels --channel https://repo.anaconda.com/pkgs/main\")\n",
    "system(\"conda tos accept --override-channels --channel https://repo.anaconda.com/pkgs/r\")\n",
    "library(slendr)\n",
    "setup_env(agree=T, pip=T)\n",
    "init_env()\n",
    "####\n",
    "\n",
    "library(ggplot2)\n",
    "library(dplyr)\n",
    "library(ape)"
   ]
  },
  {
   "cell_type": "markdown",
   "id": "d7f4bd2f-ca50-4f70-b6a1-bdcfe435f0c7",
   "metadata": {
    "kernel": "R"
   },
   "source": [
    "We set the seed to a specific number (101) for reproducibility of results. Note that this means we will all get the same results. You can try to see what happens when you use a different seed relative to your partner.\n"
   ]
  },
  {
   "cell_type": "code",
   "execution_count": null,
   "id": "3f6ec3c0-d78f-421f-b585-b43b24730fa8",
   "metadata": {
    "kernel": "R"
   },
   "outputs": [],
   "source": [
    "set.seed(101)\n"
   ]
  },
  {
   "cell_type": "markdown",
   "id": "9312886a-292b-4008-a97f-03470fb81482",
   "metadata": {
    "kernel": "R"
   },
   "source": [
    "We will simulate a very simple demographic model in slendr, with just 1 population of size 1,000."
   ]
  },
  {
   "cell_type": "code",
   "execution_count": null,
   "id": "e1bc4de2-3568-4009-b247-0f75395cefda",
   "metadata": {
    "kernel": "R"
   },
   "outputs": [],
   "source": [
    "popA <- population(\"A\", time = 6.5e6, N = 1000)\n",
    "model <- compile_model(\n",
    "  populations = list(popA),\n",
    "  generation_time = 30,\n",
    "  path = paste0(tempfile(), \"_basic\"),\n",
    "  direction = \"backward\"\n",
    ")"
   ]
  },
  {
   "cell_type": "markdown",
   "id": "c2439d6c-1b8b-4b7d-8d11-92ae8b5e626c",
   "metadata": {
    "kernel": "R"
   },
   "source": [
    "We can plot this model to see what it looks like (SPOILER: it won't be very interesting)."
   ]
  },
  {
   "cell_type": "code",
   "execution_count": null,
   "id": "94cacc31-2044-45e2-bf2b-758ea764a189",
   "metadata": {
    "kernel": "R"
   },
   "outputs": [],
   "source": [
    "plot_model(model, sizes = FALSE)"
   ]
  },
  {
   "cell_type": "markdown",
   "id": "11837126-ba19-44ac-9de6-e8345398c9f3",
   "metadata": {
    "kernel": "R"
   },
   "source": [
    "We specify the number of samples we want to simulate. In this case, we will sample 5 (diploid) individuals from the present-day."
   ]
  },
  {
   "cell_type": "code",
   "execution_count": null,
   "id": "f3c17d61-43f4-4e33-82fc-1e6154c5e857",
   "metadata": {
    "kernel": "R"
   },
   "outputs": [],
   "source": [
    "present_samples <- schedule_sampling(model, times = 0, list(popA, 5))"
   ]
  },
  {
   "cell_type": "markdown",
   "id": "ce670f7d-a9a2-4693-8a61-c9b960c75a7a",
   "metadata": {
    "kernel": "R"
   },
   "source": [
    "We ca now run our simulation, calling msprime (a backward coalescent simulator). We simulate a sequence of length 10 megabases, with a recombination rate similar to the one observed in humans (on average, 10^-8 recombination events per basepair). Note that we need not specify a mutation rate, as we're only interested in the coalescent trees in our simulation, not on the sequences themselves.\n"
   ]
  },
  {
   "cell_type": "code",
   "execution_count": null,
   "id": "3c937432-06be-452a-8e04-fb16f037d9d6",
   "metadata": {
    "kernel": "R"
   },
   "outputs": [],
   "source": [
    "ts <- msprime(\n",
    "  model, sequence_length = 10e6, recombination_rate = 1e-8,\n",
    "  samples = present_samples,\n",
    "  random_seed = 101, verbose = TRUE\n",
    ")"
   ]
  },
  {
   "cell_type": "markdown",
   "id": "66572837-31e7-466a-861a-2956d76f9b23",
   "metadata": {
    "kernel": "R"
   },
   "source": [
    "The ts object now contains a \"tree-sequence\", i.e. a series of coalescent trees that specify how individuals are related to each other across the simulated sequence. We can obtain individual trees from this sequence using the function \"ts_phylo\". The first tree can be obtained and plotted as shown below.  Note that the trees are 0-indexed, i.e. the first tree is the tree number \"0\", the second is number \"1\", the third is number \"2\", etc. This is why we write \"i=0\" to extract the first tree.\n"
   ]
  },
  {
   "cell_type": "code",
   "execution_count": null,
   "id": "205d8710-4ca6-41c7-87cd-73945b81b6e0",
   "metadata": {
    "kernel": "R"
   },
   "outputs": [],
   "source": [
    "tree.1 <- ts_phylo(ts, i=0)\n",
    "plot(tree.1)\n",
    "nodelabels()"
   ]
  },
  {
   "cell_type": "markdown",
   "id": "e08f2e35-3439-4747-a6ae-d0753b1b8f55",
   "metadata": {
    "kernel": "R"
   },
   "source": [
    "\n",
    "The numbers in each leaf node refer to each sampled lineage. Because we're sampling diploids, the number in parenthesis refers to the diploid individual to which that lineage belongs to.\n",
    "\n",
    "Can you plot the second tree in the sequence? How about the 10th tree? And the 1000th tree? If not, why not?\n",
    "\n",
    "\n",
    "## Exercise C: One or two populations? \n",
    "\n",
    "Imagine\tthe\tfollowing\tcase:\ta\tresearcher\thas\testimated\tthe\tstructure\tof\ta\ttree\tfor\t\n",
    "mtDNA\tfrom\ta\tspecies\tsampled\tin\ta\tsingle\tlocation.\tShe\tobtains\ta\ttree\tlooking\tas\tfollows:\n",
    "\n",
    "![alt text](https://raw.githubusercontent.com/FerRacimo/CopenhagenTutorial/master/Tree0.png)\n",
    "\n",
    "Based\ton\tthe\tstructure\tof\tthe\ttree,\ti.e.\ttwo\tgroups\tof\trelated\tindividuals\tseparated\tby\tlong\t\n",
    "branches\tdown\tto the\troot\tof\tthe\ttree,\tshe\tconcludes\tthat\tthere\tmust\tbe population\t\n",
    "subdivision\twith\ttwo\tclearly\tdifferentiated\tgroups.\t Based\ton\twhat\tyou\thave\tlearned\tfrom\t\n",
    "the\tsimulations,\tdo\tyou\tagree\twith\tthis\tconclusion?"
   ]
  },
  {
   "cell_type": "code",
   "execution_count": null,
   "id": "f8d708dc-d3bb-4a49-8987-5952f285325b",
   "metadata": {
    "kernel": "R"
   },
   "outputs": [],
   "source": []
  }
 ],
 "metadata": {
  "kernelspec": {
   "display_name": "SoS",
   "language": "sos",
   "name": "sos"
  },
  "language_info": {
   "codemirror_mode": "sos",
   "file_extension": ".sos",
   "mimetype": "text/x-sos",
   "name": "sos",
   "nbconvert_exporter": "sos_notebook.converter.SoS_Exporter",
   "pygments_lexer": "sos"
  },
  "sos": {
   "kernels": [
    [
     "R",
     "ir",
     "R",
     "",
     "r"
    ]
   ],
   "version": ""
  }
 },
 "nbformat": 4,
 "nbformat_minor": 5
}
