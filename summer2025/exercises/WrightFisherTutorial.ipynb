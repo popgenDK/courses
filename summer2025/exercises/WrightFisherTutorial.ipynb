{
 "cells": [
  {
   "cell_type": "markdown",
   "id": "8289bca3-0880-4106-8ac7-dad84eb1329d",
   "metadata": {
    "kernel": "R"
   },
   "source": [
    "Exercises using the Wright-Fisher model\n",
    "===============\n",
    "(based on scripts by Graham Coop)\n",
    "\n",
    "\n",
    "Start running the R console and load the following R file:\n"
   ]
  },
  {
   "cell_type": "code",
   "execution_count": null,
   "id": "285666b0-6e65-4166-9667-b16385ba4166",
   "metadata": {
    "kernel": "R"
   },
   "outputs": [],
   "source": [
    "source(\"https://raw.githubusercontent.com/FerRacimo/CopenhagenTutorial/refs/heads/master/simulateWF.R\")"
   ]
  },
  {
   "cell_type": "markdown",
   "id": "75fabbad-697b-4dac-ae08-74ce2c7ec123",
   "metadata": {
    "kernel": "R"
   },
   "source": [
    "This script contains a set of functions for simulating the Wright-Fisher model, both forwards and backwards in time. We'll play with these functions to gain some intuition about how the model works.\n",
    "\n",
    "## 1 - Thinking forwards in time: 2 alleles\n",
    "\n",
    "First, we'll run a Wright-Fisher model beginning with a population with two alleles. The population will have size 2N = 10 (so N = 5 diploids) and we'll run the simulation for 15 generations:\n"
   ]
  },
  {
   "cell_type": "code",
   "execution_count": null,
   "id": "821ddc3e-6ca3-4c7b-9956-5956782c2965",
   "metadata": {
    "kernel": "R"
   },
   "outputs": [],
   "source": [
    "WF_twoalleles(5,15)"
   ]
  },
  {
   "cell_type": "markdown",
   "id": "02613939-de17-43b6-a025-958f9e998b34",
   "metadata": {
    "kernel": "R"
   },
   "source": [
    "What do you observe plotted on the screen?\n",
    "\n",
    "a) Run this line 5 times, and record how many times the red allele fixes, how many times the blue allele fixes and how many times the population remains polymorphic (both the blue and the red allele still co-exist). Compare your results with your neighbor. Does there seem to be a preference for whether the blue or red allele fixes? Why do you think this is so? Hint: check the frequency of the two alleles at the beginning of the simulation.\n",
    "\n",
    "You may have noticed that a vector of values also gets printed into the console every time we run this simulation. This is the allele counts of the blue allele. We can use this vector to trace the frequency of the blue allele over time:\n",
    "\n"
   ]
  },
  {
   "cell_type": "code",
   "execution_count": null,
   "id": "892697a1-edd1-40ba-8f59-d76cfd097a67",
   "metadata": {
    "kernel": "R"
   },
   "outputs": [],
   "source": [
    "bluecounts <- WF_twoalleles(5,15)\n",
    "bluefreq <- bluecounts / (2 * 5)\n",
    "plot(bluefreq,ylim=c(0,1),type=\"b\",col=\"blue\",pch=19,xlab=\"generations\",ylab=\"Blue frequency\")"
   ]
  },
  {
   "cell_type": "markdown",
   "id": "92e2e2d7-1935-43e4-976b-1a404319c51f",
   "metadata": {
    "kernel": "R"
   },
   "source": [
    "b) Repeat exercise a) but with N=3 and N=10. Do alleles tend to \"fix\" faster when N is large or when N is small?\n",
    "\n",
    "## 2 - Thinking forwards in time: many alleles\n",
    "\n",
    "We can also run a Wright-Fisher model with more than two alleles. The function below begins with a population in which each individual contains two distinct alleles, which are different from all other alleles in the population.\n"
   ]
  },
  {
   "cell_type": "code",
   "execution_count": null,
   "id": "c92e62e6-91fa-4fc2-845e-e7a88404ad23",
   "metadata": {
    "kernel": "R"
   },
   "outputs": [],
   "source": [
    "WF_manyalleles(5,15)"
   ]
  },
  {
   "cell_type": "markdown",
   "id": "cde28028-4b52-4f8b-bfd7-2858d04e29cf",
   "metadata": {
    "kernel": "R"
   },
   "source": [
    "\n",
    "a) What happens to the allelic diversity (number of alleles present) as time goes forward? Are there more or less heterozygotes at the end of the simulation than at the beginning?\n",
    "\n",
    "b) Check what happens to allelic diversity over time, when N = 3 and when N = 10.\n",
    "\n",
    "## 3 - Thinking backwards in time\n",
    "\n",
    "So far, we've been running the Wright-Fisher model forwards in time. We began with a population of individuals with (possibly) distinct alleles and observed what happened as we approached the present. Now, we'll start in the present and go backwards in time. Specifically, we'll aim to trace the lineages of particular individuals that exist in the present and see how they \"coalesce\" (find a common ancestor) in the past.\n",
    "\n",
    "a) We will trace the genealogy of 3 lineages in a population of size N = 10 (2N = 20) over 20 generations:\n"
   ]
  },
  {
   "cell_type": "code",
   "execution_count": null,
   "id": "636e5bef-dd89-443e-8acd-af471943c0f7",
   "metadata": {
    "kernel": "R"
   },
   "outputs": [],
   "source": [
    "track_lineages(N.vec=rep(10,20), n.iter=1, num.tracked=3)"
   ]
  },
  {
   "cell_type": "markdown",
   "id": "44706f11-90d8-444e-b270-78d48915c64b",
   "metadata": {
    "kernel": "R"
   },
   "source": [
    "Repeat this simulation 5 times. For each simulation, record the time between the present and the first coalescent event, and the time between the first coalescent event and the second coalescent event (i.e. the most recent common ancestor of all 3 lineages). You can ignore simulations where lineages have not coalesced at generation 20. Which of the two times tends to be larger, on average? Why do you think this is?\n",
    "\n",
    "b) Check what happens to the coalescence rate, when N = 7 and when N = 20. Do lineages coalesce faster or slower with larger population size?"
   ]
  }
 ],
 "metadata": {
  "kernelspec": {
   "display_name": "SoS",
   "language": "sos",
   "name": "sos"
  },
  "language_info": {
   "codemirror_mode": "sos",
   "file_extension": ".sos",
   "mimetype": "text/x-sos",
   "name": "sos",
   "nbconvert_exporter": "sos_notebook.converter.SoS_Exporter",
   "pygments_lexer": "sos"
  },
  "sos": {
   "kernels": [
    [
     "R",
     "ir",
     "R",
     "",
     ""
    ]
   ],
   "version": ""
  }
 },
 "nbformat": 4,
 "nbformat_minor": 5
}
