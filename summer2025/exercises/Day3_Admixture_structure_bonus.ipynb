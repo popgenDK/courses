{
 "cells": [
  {
   "cell_type": "markdown",
   "id": "80daa632",
   "metadata": {
    "kernel": "SoS"
   },
   "source": [
    "\n",
    "\n",
    "</br>\n",
    "<font size=\"12\">Estimating admixture proportions</font>\n",
    "\n",
    "\n",
    "For this exercise we will again use data from the Blue Wildebeest. To simplify the analyses we have included only one of the Brindled wildebeest populations (B-Etosha). We have included one population from each of the five blue wildebeest subspecies,except for the eastern white-bearded wildebeest for which we included three populations.  \n",
    "\n",
    "<img src=\"https://raw.githubusercontent.com/popgenDK/popgenDK.github.io/gh-pages/images/slider/wildeBeastMap.png\" alt=\"image info\" />\n",
    "\n",
    "\n",
    "# Software and data\n",
    "\n",
    "\n",
    "\n",
    "### Software\n",
    "We will be using plink, PCAone and ADMIXTURE for this exercise. First let's see if the software is installed."
   ]
  },
  {
   "cell_type": "code",
   "execution_count": null,
   "id": "20b11063",
   "metadata": {
    "kernel": "Calysto Bash"
   },
   "outputs": [],
   "source": [
    "\n",
    "COURSE_PATH=/course/popgen25\n",
    "DATA_PATH=${COURSE_PATH}/structure\n",
    "SOFTWARE_PATH=${COURSE_PATH}/software\n",
    "\n",
    "echo --programs that are installed:--\n",
    "which admixture\n",
    "which plink\n",
    "which PCAone\n",
    "which evalAdmix\n",
    "\n",
    "mkdir -p ~/popgen25_admixture_bonus\n",
    "cd ~/popgen25_admixture_bonus\n",
    "\n",
    "ln -sfn ~/popgen25_admixture_bonus ~/current_folder\n",
    "ln -sfn ${DATA_PATH} ~/data_folder\n"
   ]
  },
  {
   "cell_type": "markdown",
   "id": "baed83f1",
   "metadata": {
    "kernel": "SoS"
   },
   "source": [
    "### Data sets\n",
    "\n",
    "First let's make a folder in your home directory, then then we will copy the data into your folder."
   ]
  },
  {
   "cell_type": "code",
   "execution_count": null,
   "id": "21a95aab",
   "metadata": {
    "kernel": "Calysto Bash"
   },
   "outputs": [],
   "source": [
    "\n",
    "##make links to files and add them to the folder\n",
    "ln -sfn ~/data_folder/blue_wildebeest_thin* .\n",
    "ln -sfn ~/data_folder/multiRunK7 .\n",
    "ln -sfn ~/data_folder/allK .\n",
    "\n",
    "\n",
    "echo --- files in folder ---\n",
    "ls\n"
   ]
  },
  {
   "cell_type": "markdown",
   "id": "e8e75567",
   "metadata": {
    "kernel": "SoS"
   },
   "source": [
    "### The fam file\n",
    "The genotype data is stored in binary plink files (*.bed,*.fam,*.bim). Lets first look into the fam file which described the individuals in the data"
   ]
  },
  {
   "cell_type": "code",
   "execution_count": null,
   "id": "4323ea2e",
   "metadata": {
    "kernel": "Calysto Bash"
   },
   "outputs": [],
   "source": [
    "\n",
    "echo -- number of lines in fam file --\n",
    "wc -l blue_wildebeest_thin.fam\n",
    "\n",
    "echo -- first 10 lines fam file --\n",
    "head blue_wildebeest_thin.fam\n",
    "\n",
    "echo -- counts of populations/subspecies from first column of fam file --\n",
    "cut -f1 -d\" \" blue_wildebeest_thin.fam | sort | uniq -c\n"
   ]
  },
  {
   "cell_type": "markdown",
   "id": "7cc94a4c",
   "metadata": {
    "kernel": "SoS"
   },
   "source": [
    "# The bim file\n",
    "Now let's look into the bim file. This is the file that describes the different genetic variants in the data set."
   ]
  },
  {
   "cell_type": "code",
   "execution_count": null,
   "id": "6c85d1ff",
   "metadata": {
    "kernel": "Calysto Bash"
   },
   "outputs": [],
   "source": [
    "\n",
    "echo -- number of lines in bim file --\n",
    "wc -l blue_wildebeest_thin.bim\n",
    "\n",
    "echo -e \"\\n-- first 10 lines bim file --\"\n",
    "echo -e \"CHR\\tvariantID CM\\tPosition allele_1\\t allele_2\"\n",
    "head blue_wildebeest_thin.bim\n",
    "\n",
    "echo -e \"\\n-- counts number of variants per chromosone from the first column of bim file --\"\n",
    "echo \\#Var Chromosome_name\n",
    "cat blue_wildebeest_thin.bim | cut -f1  | uniq -c\n"
   ]
  },
  {
   "cell_type": "markdown",
   "id": "e6096ec5",
   "metadata": {
    "kernel": "Bash"
   },
   "source": [
    "Run the code below to start a quiz. "
   ]
  },
  {
   "cell_type": "code",
   "execution_count": null,
   "id": "16789164",
   "metadata": {
    "kernel": "Python 3 (ipykernel)"
   },
   "outputs": [],
   "source": [
    "\n",
    "from jupyterquiz import display_quiz\n",
    "display_quiz('https://raw.githubusercontent.com/popgenDK/courses/main/kenya2024/exercises/day3_PopulationStructure/admixture_quiz1.json')\n"
   ]
  },
  {
   "cell_type": "markdown",
   "id": "bc4e42c9",
   "metadata": {
    "kernel": "Python 3 (ipykernel)"
   },
   "source": [
    "## LD pruning\n",
    "\n",
    "It is recommended that LD pruning is performed prior to running ADMIXTURE. This is often done on the whole set of individuals using plink, while assmuming that there is no population structure. However, we actually expect there could be lots of population structure in our data, as individuals come from many different localities. Therefore, we will us a new method, PCAone, that corrects for population structure using PCA. To perform LD pruning we will choose the number of PCAs needed which in this case is **-k=6** since we expect there are 7 different populations (6 PCs allows for modelling 7 populations), because each PC can split data into to groups. We will use a LD threshold of **r2=0.1** which removes variants that are in LD with any other variant with a correlation coefficent above 0.1. Since we don't want to calculate LD between all pairs of variants in the whole genome, we will estimate LD in a sliding window of size **1000000=1Mb**. \n",
    "\n",
    "The command to do so can be seen below.\n",
    "\n"
   ]
  },
  {
   "cell_type": "code",
   "execution_count": null,
   "id": "8c4a0e5a-8b8d-4e50-8b25-2119f6a0a829",
   "metadata": {
    "kernel": "Calysto Bash"
   },
   "outputs": [],
   "source": [
    "\n",
    "ls blue_wildebeest_thin*"
   ]
  },
  {
   "cell_type": "code",
   "execution_count": null,
   "id": "902fe229-2e95-429e-b23a-a86258162838",
   "metadata": {
    "kernel": "Calysto Bash"
   },
   "outputs": [],
   "source": [
    "\n",
    "PCAone -b blue_wildebeest_thin -k 6 --ld -o ./pcaone\n"
   ]
  },
  {
   "cell_type": "code",
   "execution_count": null,
   "id": "ca0c5b93-8d2c-4faf-a01d-d72b04d67302",
   "metadata": {
    "kernel": "Calysto Bash"
   },
   "outputs": [],
   "source": [
    "\n",
    "PCAone -B ./pcaone.residuals --match-bim ./pcaone.mbim --ld-r2 0.1 --ld-bp 1000000 -o ./pcaone\n"
   ]
  },
  {
   "cell_type": "markdown",
   "id": "c09f9a31",
   "metadata": {
    "kernel": "Bash"
   },
   "source": [
    "The software prints out a new list of variants that are now not in LD with eachother. We will extract those sites using plink, and create a new plink file named blue_wildebeest_noLD."
   ]
  },
  {
   "cell_type": "code",
   "execution_count": null,
   "id": "070d39cc",
   "metadata": {
    "kernel": "Calysto Bash"
   },
   "outputs": [],
   "source": [
    "\n",
    "echo --number of variants to be keept --\n",
    "wc -l pcaone.ld.prune.in\n",
    " \n",
    "echo -e \"\\n --Extract variants using plink --\"\n",
    " plink --bfile blue_wildebeest_thin --extract pcaone.ld.prune.in --make-bed --out blue_wildebeest_noLD  --chr-set 29\n",
    " "
   ]
  },
  {
   "cell_type": "markdown",
   "id": "7355eb22",
   "metadata": {
    "kernel": "Bash"
   },
   "source": [
    "\n",
    "\n",
    "## ADMIXTURE\n",
    "\n",
    "We are now ready to run ADMIXTURE. First, let's look at the options of the program."
   ]
  },
  {
   "cell_type": "code",
   "execution_count": null,
   "id": "849a4b7c",
   "metadata": {
    "kernel": "Calysto Bash"
   },
   "outputs": [],
   "source": [
    "\n",
    "admixture --help\n"
   ]
  },
  {
   "cell_type": "markdown",
   "id": "f65d7037",
   "metadata": {
    "kernel": "Bash"
   },
   "source": [
    "As can be seen in the code above, we need to input our plink file and we need to choose a number of ancestral populations to use. In our case, the most likely relevant number of assumed ancestral populations is 7 - one for each sampling locality. ADMIXTURE uses numeric optimisation based on a random starting guess of the parameters. Therefore, we will specify a seed for the random numbers, so that we can reproduce the results (else we will get a different result each time we run it). \n",
    "\n",
    "To make is run faster we will use 10 CPU threads. Run the following ( will take several minutes).\n"
   ]
  },
  {
   "cell_type": "code",
   "execution_count": null,
   "id": "8e24823c-549f-48f0-8556-bb698c02dae5",
   "metadata": {
    "kernel": "Calysto Bash"
   },
   "outputs": [],
   "source": [
    "ls blue_wildebeest_noLD*"
   ]
  },
  {
   "cell_type": "code",
   "execution_count": null,
   "id": "a95de0fb",
   "metadata": {
    "kernel": "Calysto Bash"
   },
   "outputs": [],
   "source": [
    "\n",
    "#admixture --seed 0 -j10 blue_wildebeest_noLD.bed 7\n",
    "\n",
    "## it takes too long to run the command, we just copy the results\n",
    "cp ~/data_folder/blue_wildebeest_noLD.7.[QP]  .\n"
   ]
  },
  {
   "cell_type": "code",
   "execution_count": null,
   "id": "92c7c5f4",
   "metadata": {
    "kernel": "Calysto Bash"
   },
   "outputs": [],
   "source": [
    "\n",
    "# let see which files it produces \n",
    "echo -- files sorted. last files are the most recent --\n",
    "ls -r\n"
   ]
  },
  {
   "cell_type": "markdown",
   "id": "59eb6d5e",
   "metadata": {
    "kernel": "Bash",
    "scrolled": true
   },
   "source": [
    "\n",
    "You should find two files ending with * .7.Q and * .7.P respectively. These are the estimated ancestry proportions and allele frequencies in the 7 inferred populations. \n",
    "\n",
    "### Plotting admixture proportions\n",
    "Let's plot the results. For this we will use R.\n"
   ]
  },
  {
   "cell_type": "code",
   "execution_count": null,
   "id": "23a9a3c7",
   "metadata": {
    "kernel": "Calysto Bash"
   },
   "outputs": [],
   "source": [
    "\n",
    "cat ~/current_folder/multiRunK7/blue_wildebeest_noLD.7.log_1\n"
   ]
  },
  {
   "cell_type": "code",
   "execution_count": null,
   "id": "655d5315",
   "metadata": {
    "kernel": "R"
   },
   "outputs": [],
   "source": [
    "\n",
    "#make plot wide\n",
    "library(\"repr\")\n",
    "options(repr.plot.width=17, repr.plot.height=4.5)\n",
    "\n",
    "#read in code to plot admixture proportions ( plotAdmix function)\n",
    "source(\"https://raw.githubusercontent.com/GenisGE/evalAdmix/master/visFuns.R\")\n",
    "\n",
    "# Read in inferred admixture proportions\n",
    "q <- read.table(\"~/current_folder/blue_wildebeest_noLD.7.Q\")\n",
    "\n",
    "#read in the population labels (first column of fam file)\n",
    "table(pop <- read.table(\"~/current_folder/blue_wildebeest_noLD.fam\")[,1])\n",
    "\n",
    "#plot admixture proportions\n",
    "plotAdmix(q,pop=pop,rotatelab=15,padj=0.15,cex.lab=1.4,col=2:8)\n",
    "legend(0,1.1,fill=2:8,legend=0:5,hor=T,xpd=T)\n"
   ]
  },
  {
   "cell_type": "markdown",
   "id": "e9083e6d",
   "metadata": {
    "kernel": "R"
   },
   "source": [
    " - Does the results look like you expect (why/why not)?\n",
    " \n",
    " \n",
    " There are several hints that the results might be wrong. For example, do you think it is realistic that the 3 Cookson's wildebeest samples ('C-Luangwa') are all truly admixed with exactly the same admixture proportions?\n",
    " \n",
    " ### EvalAdmix to the rescue\n",
    " \n",
    "To solve this challenge, we can use evalAdmix to diagnose problems with the results of the analysis. This method uses the results from ADMIXTURE to predict the genotypes for each indiviudals, and then try to identify individuals or populations with a bad fit under this ADMIXTURE model with K=7.\n",
    " \n",
    " "
   ]
  },
  {
   "cell_type": "code",
   "execution_count": null,
   "id": "21349d43",
   "metadata": {
    "kernel": "Calysto Bash"
   },
   "outputs": [],
   "source": [
    "\n",
    "evalAdmix -plink blue_wildebeest_noLD -fname blue_wildebeest_noLD.7.P \\\n",
    "-qname blue_wildebeest_noLD.7.Q -o blue_wildebeest_noLD.7.eval -P 10\n"
   ]
  },
  {
   "cell_type": "markdown",
   "id": "3aca6c5a",
   "metadata": {
    "kernel": "R"
   },
   "source": [
    "The results from evalAdmixture can be plotted in R. "
   ]
  },
  {
   "cell_type": "code",
   "execution_count": null,
   "id": "23f1ec5b",
   "metadata": {
    "kernel": "R"
   },
   "outputs": [],
   "source": [
    "\n",
    "options(repr.plot.width=17, repr.plot.height=12)\n",
    "\n",
    "r <- as.matrix(read.table(\"~/current_folder/blue_wildebeest_noLD.7.eval\"))\n",
    "plotCorRes(r, pop=pop, max_z = 0.25,rotatelabpop =20,adjlab = .05)\n"
   ]
  },
  {
   "cell_type": "markdown",
   "id": "84e5e030",
   "metadata": {
    "kernel": "Bash"
   },
   "source": [
    " - Which population(s) does evalAdmix identify as having a bad fit? \n",
    "\n",
    "\n",
    "### Evaluating covergence\n",
    "There are several possible explanations for why the ADMIXTURE model fit is bad. The two most common reasons are 1) The choice of K is sub-optimal, and 2) the algorithm has not converged to the globally best solution. ADMIXTURE tries to find the combination of parameters than maximizes the log likelihoods. However, the algorithm does not always find the optimal solution when the likelhoood surface is not concave as illustated below.\n",
    "\n",
    "<img src=\"https://www.mathsisfun.com/algebra/images/function-max-global.svg\" alt=\"image info\" />\n",
    "\n",
    "To test for convergence (i.e. reason (2) mentioned above), we can test many different starting points. If many different runs with different starting points consistently lead to the same best log likelihood, then ADMIXTURE has very likely found the global optimal soluation. \n",
    "\n",
    "To save time, we have pre-run ADMIXTURE using 10 other seeds. The results are found in the folder multiRunK7.\n",
    "\n",
    "\n"
   ]
  },
  {
   "cell_type": "code",
   "execution_count": null,
   "id": "21aad3c6",
   "metadata": {
    "kernel": "Calysto Bash"
   },
   "outputs": [],
   "source": [
    "\n",
    "K=7\n",
    "\n",
    "#mkdir -p multiRunK$K\n",
    "#for seed in 1 2 3 4 5 6 7 8 9 10\n",
    "#do\n",
    "#admixture --seed $seed -j70 blue_wildebeest_noLD.bed $K | tee multiRunK$K/blue_wildebeest_noLD.$K.log_$seed\n",
    "#mv blue_wildebeest_noLD.$K.Q multiRunK$K/blue_wildebeest_noLD.$K.Q_$seed \n",
    "#mv blue_wildebeest_noLD.$K.P multiRunK$K/blue_wildebeest_noLD.$K.P_$seed\n",
    "#done\n",
    "\n",
    "ls multiRunK$K\n"
   ]
  },
  {
   "cell_type": "markdown",
   "id": "1675da66",
   "metadata": {
    "kernel": "Bash"
   },
   "source": [
    "We can extract the likelihoods for each of the 10 runs started with different seeds, and sort them according to their values. "
   ]
  },
  {
   "cell_type": "code",
   "execution_count": null,
   "id": "7d6579b3",
   "metadata": {
    "kernel": "Calysto Bash"
   },
   "outputs": [],
   "source": [
    "\n",
    "grep ^Loglikelihood multiRunK7/blue_wildebeest_noLD.7.log* | sort -k 2 -t \" \"\n"
   ]
  },
  {
   "cell_type": "markdown",
   "id": "af2184a0",
   "metadata": {
    "kernel": "Bash"
   },
   "source": [
    " - Which seed has the highest likelihood?\n",
    " - Your first run used seed 0. Did your run find a local or global maximum (find the likeihood in the bottom of the output from the program when you ran it first, above).\n",
    " \n",
    " \n",
    "Let's try to plot the results from the seed with the best likelihood."
   ]
  },
  {
   "cell_type": "code",
   "execution_count": null,
   "id": "f6260cd1",
   "metadata": {
    "kernel": "R"
   },
   "outputs": [],
   "source": [
    "\n",
    "options(repr.plot.width=17, repr.plot.height=4.5)\n",
    "\n",
    "\n",
    "#read in code to plot admixture proportions ( plotAdmix function)\n",
    "source(\"https://raw.githubusercontent.com/GenisGE/evalAdmix/master/visFuns.R\")\n",
    "\n",
    "\n",
    "# Read in inferred admixture proportions\n",
    "q <- read.table(\"~/current_folder/multiRunK7/blue_wildebeest_noLD.7.Q_4\")\n",
    "\n",
    "#read in the population labels (first column of fam file)\n",
    "pop <- read.table(\"~/current_folder/blue_wildebeest_noLD.fam\")[,1]\n",
    "\n",
    "#make the plot. \n",
    "plotAdmix(q,pop=pop,rotatelab=15,padj=0.15,cex.lab=1.4,col=2:8)\n"
   ]
  },
  {
   "cell_type": "markdown",
   "id": "e9bcfb9f",
   "metadata": {
    "kernel": "Bash"
   },
   "source": [
    " - Did the results improve?\n",
    " - How many individuals can you find that are admixted between two subspecies?\n",
    " \n",
    " \n",
    " Let's use evalAdmix to see if the model fit is better now."
   ]
  },
  {
   "cell_type": "code",
   "execution_count": null,
   "id": "56ed0f01",
   "metadata": {
    "kernel": "Calysto Bash"
   },
   "outputs": [],
   "source": [
    "\n",
    "evalAdmix -plink blue_wildebeest_noLD -fname ~/current_folder/multiRunK7/blue_wildebeest_noLD.7.P_4 \\\n",
    "-qname ~/current_folder/multiRunK7/blue_wildebeest_noLD.7.Q_4 -o blue_wildebeest_noLD.7.eval_4 -P 10\n"
   ]
  },
  {
   "cell_type": "markdown",
   "id": "d87a7afd",
   "metadata": {
    "kernel": "Bash"
   },
   "source": [
    "Let's plot the results"
   ]
  },
  {
   "cell_type": "code",
   "execution_count": null,
   "id": "a7f45b3c",
   "metadata": {
    "kernel": "R"
   },
   "outputs": [],
   "source": [
    "\n",
    "#make plot wide\n",
    "library(\"repr\")\n",
    "options(repr.plot.width=17, repr.plot.height=12)\n",
    "\n",
    "#read in code to plot admixture proportions ( plotAdmix function)\n",
    "source(\"https://raw.githubusercontent.com/GenisGE/evalAdmix/master/visFuns.R\")\n",
    "\n",
    "#read in the population labels (first column of fam file)\n",
    "pop <- read.table(\"~/current_folder/blue_wildebeest_noLD.fam\")[,1]\n",
    "\n",
    "r <- as.matrix(read.table(\"~/current_folder/blue_wildebeest_noLD.7.eval_4\"))\n",
    "plotCorRes(r, pop=pop, max_z = 0.25,rotatelabpop =20,adjlab = .05)\n"
   ]
  },
  {
   "cell_type": "markdown",
   "id": "a40c53ae",
   "metadata": {
    "kernel": "R"
   },
   "source": [
    " - How good is the fit this time?\n",
    " - There are some few remaining pairs of individuals with a strong positive correlation. What do you think is the reason?\n",
    " \n",
    " # Bonus exercise (only if you have time)\n",
    " \n",
    " ### Running ADMIXTURE for multiple K\n",
    " \n",
    " \n",
    " This would take some time, so we have pre-computed it using the code below using 3 seeds per K value."
   ]
  },
  {
   "cell_type": "code",
   "execution_count": null,
   "id": "55c79f15",
   "metadata": {
    "kernel": "Calysto Bash"
   },
   "outputs": [],
   "source": [
    " \n",
    "#mkdir -p allK\n",
    "#for K in 1 2 3 4 5 6 7\n",
    "#do\n",
    "#  for seed in 1 2 3 \n",
    "#  do\n",
    "#    admixture --seed $seed -j70 blue_wildebeest_noLD.bed $K | tee allK/blue_wildebeest_noLD.$K.log_$seed\n",
    "#    mv blue_wildebeest_noLD.$K.Q allK/blue_wildebeest_noLD.$K.Q_$seed \n",
    "#    mv blue_wildebeest_noLD.$K.P allK/blue_wildebeest_noLD.$K.P_$seed\n",
    "#  done\n",
    "#done\n",
    "\n",
    "ls allK/\n"
   ]
  },
  {
   "cell_type": "markdown",
   "id": "f8b4ba9f",
   "metadata": {
    "kernel": "Bash"
   },
   "source": [
    "\n",
    "We can plot the results in R.\n"
   ]
  },
  {
   "cell_type": "code",
   "execution_count": null,
   "id": "eba34594",
   "metadata": {
    "kernel": "R"
   },
   "outputs": [],
   "source": [
    "\n",
    "options(repr.plot.width=17, repr.plot.height=9)\n",
    "\n",
    "l<-list.files(\"~/current_folder/allK/\",full=TRUE,pattern=\"[^1].Q_1\")\n",
    "files<-sort(l)\n",
    "print(files)\n",
    "# possible K\n",
    "Kall <- 2:7\n",
    "\n",
    "## read Qs\n",
    "allQ <- list()\n",
    "for(K in Kall)\n",
    "    allQ[[K]]<-t(read.table(files[K-min(Kall)+1]))\n",
    "\n",
    "\n",
    "source(\"https://raw.githubusercontent.com/popgenDK/admixturePlot/main/admixFun.R\")\n",
    "\n",
    "pop <- read.table(\"~/current_folder/blue_wildebeest_noLD.fam\")[,1]\n",
    "palette(\"default\")\n",
    "palette(palette()[-1])\n",
    "plotMulti(allQ,Kall=Kall,as.factor(pop))\n"
   ]
  },
  {
   "cell_type": "markdown",
   "id": "1061cdd9",
   "metadata": {
    "kernel": "R"
   },
   "source": [
    " - What determines the order at which populations get their own ancestry compoment? In other words, is there a logic to which populations distinguishable at lower K?\n",
    "- Which K is the best one?\n",
    " \n",
    " Lets use evalAdmix to evalute the fit for each choice of K\n"
   ]
  },
  {
   "cell_type": "code",
   "execution_count": null,
   "id": "46632daf",
   "metadata": {
    "kernel": "Calysto Bash"
   },
   "outputs": [],
   "source": [
    "\n",
    "K=2\n",
    "\n",
    "for K in 1 2 3 4 5 6 7\n",
    "  do\n",
    "    echo ---- Running for K=$K -----------------------\n",
    "    evalAdmix -plink blue_wildebeest_noLD -fname ~/current_folder/allK/blue_wildebeest_noLD.$K.P_1 \\\n",
    "    -qname ~/current_folder/allK/blue_wildebeest_noLD.$K.Q_1 -o blue_wildebeest_noLD.$K.eval_1 -P 10\n",
    "  done\n"
   ]
  },
  {
   "cell_type": "markdown",
   "id": "f186d0bf",
   "metadata": {
    "kernel": "Bash"
   },
   "source": [
    "Lets plot the results in R"
   ]
  },
  {
   "cell_type": "code",
   "execution_count": null,
   "id": "1afea5ca",
   "metadata": {
    "kernel": "R"
   },
   "outputs": [],
   "source": [
    "\n",
    "#make plot wide\n",
    "library(\"repr\")\n",
    "\n",
    "#read in code to plot admixture proportions ( plotAdmix function)\n",
    "source(\"https://raw.githubusercontent.com/GenisGE/evalAdmix/master/visFuns.R\")\n",
    "\n",
    "#read in the population labels (first column of fam file)\n",
    "pop <- read.table(\"~/current_folder/blue_wildebeest_noLD.fam\")[,1]\n",
    "    options(repr.plot.width=14, repr.plot.height=4)\n",
    "\n",
    "# Read in inferred admixture proportions\n",
    "K=2\n",
    "for(K in 2:7){\n",
    "   \n",
    "    q <- read.table(paste0(\"~/current_folder/allK/blue_wildebeest_noLD.\",K,\".Q_1\"))\n",
    "\n",
    "    #read in the population labels (first column of fam file)\n",
    "    pop <- read.table(\"~/current_folder/blue_wildebeest_noLD.fam\")[,1]\n",
    "\n",
    "    #make the plot. \n",
    " \n",
    "    plotAdmix(q,pop=pop,rotatelab=15,padj=0.15,cex.lab=1.4,col=2:8)\n",
    "    \n",
    "    options(repr.plot.width=14, repr.plot.height=4)\n",
    "\n",
    "    r <- as.matrix(read.table(paste0(\"~/current_folder/blue_wildebeest_noLD.\",K,\".eval_1\")))\n",
    "\n",
    "    plotCorRes(r, pop=pop, max_z = 0.25,rotatelabpop =20,adjlab = .05,title=paste0(\"Correlation of residuals with K=\",K))\n",
    "   options(repr.plot.width=14, repr.plot.height=11)\n",
    "\n",
    "}\n",
    "#for(K in 2:7){\n",
    "#    r <- as.matrix(read.table(paste0(\"~/kenya2024/admixture/blue_wildebeest_noLD.\",K,\".eval_1\")))\n",
    "#    plotCorRes(r, pop=pop, max_z = 0.25,rotatelabpop =20,adjlab = .05,title=paste0(\"Correlation of residuals with K=\",K))\n",
    "#}\n"
   ]
  },
  {
   "cell_type": "markdown",
   "id": "960b6c60",
   "metadata": {
    "kernel": "Bash"
   },
   "source": [
    " - How high a K is needed to have a good fit?\n",
    " - at K=4 selous and luangwa have the same component. Can you then conclude that they are the same population? and how can you use evalAdmix to help you interpretation\n",
    " "
   ]
  }
 ],
 "metadata": {
  "kernelspec": {
   "display_name": "SoS",
   "language": "sos",
   "name": "sos"
  },
  "language_info": {
   "codemirror_mode": "sos",
   "file_extension": ".sos",
   "mimetype": "text/x-sos",
   "name": "sos",
   "nbconvert_exporter": "sos_notebook.converter.SoS_Exporter",
   "pygments_lexer": "sos"
  },
  "sos": {
   "kernels": [
    [
     "Calysto Bash",
     "calysto_bash",
     "bash",
     "",
     ""
    ],
    [
     "Python 3 (ipykernel)",
     "python3",
     "python3",
     "",
     {
      "name": "ipython",
      "version": 3
     }
    ],
    [
     "R",
     "ir",
     "R",
     "",
     "r"
    ]
   ],
   "panel": {
    "displayed": false,
    "height": 0
   },
   "version": "0.24.1"
  }
 },
 "nbformat": 4,
 "nbformat_minor": 5
}
