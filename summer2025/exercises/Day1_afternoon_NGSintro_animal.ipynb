{
 "cells": [
  {
   "cell_type": "markdown",
   "id": "e29ad476",
   "metadata": {
    "kernel": "SoS"
   },
   "source": [
    "# Intro to HTS data\n",
    "In this exercise will cover the following:\n",
    "\n",
    " - File formats (FASTQ, SAM/BAM, VCF)\n",
    " - Mapping (single-end, paired-end) NGS data to a reference sequence\n",
    " - Read flags\n",
    " - VERY IMPORTANT, you need to identify the 'pipe' button on your computer '|'. That is the character that looks like a vertical bar, on a standard American keyboard this can be found by pressing shift+'button left of enter' or 'button above enter\n",
    " \n",
    "\n",
    "In this exercise you will align a fastq file using bwa and generate a SAM file.\n",
    "\n",
    "Due to the computational time we have created a reduced genome from one of the individual. The individual is a wildebeest. The individual, CTauTzS_8872, has been sequenced using short read sequencing. For this exercise we have created a reduced reference genome.\n",
    "Because we do not have a high quality and well annotated reference genome then we will map it to the goat genome. \n",
    "\n",
    "The fastQ file CCTauTzS_8872.Goat.small.fq_1.gz has variable name with *_1.fq.gz  which is first read or the read pair.  \n",
    " \n",
    " \n",
    " ### Running jupyter\n",
    " use Ctrl+ENTER to run code. \n",
    " "
   ]
  },
  {
   "cell_type": "markdown",
   "id": "e4e74ba8",
   "metadata": {
    "kernel": "SoS"
   },
   "source": [
    "# setup environment\n",
    "\n",
    "This has to be run every time"
   ]
  },
  {
   "cell_type": "code",
   "execution_count": null,
   "id": "85914712",
   "metadata": {
    "kernel": "Calysto Bash"
   },
   "outputs": [],
   "source": [
    "COURSE_PATH=/course/popgen25\n",
    "DATA_PATH=$COURSE_PATH/NGSIntro \n",
    "SOFTWARE_PATH=$COURSE_PATH/software\n",
    "\n",
    "# JAVA program\n",
    "PICARD=${SOFTWARE_PATH}/picard.jar\n",
    "\n",
    "echo --programs that are installed:--\n",
    "which samtools\n",
    "which bwa\n",
    "which angsd\n",
    "which bcftools\n",
    "ls $PICARD\n",
    "\n",
    "#make folder \n",
    "mkdir -p ~/popgen25_ngsintro\n",
    "\n",
    "# enter folder\n",
    "cd ~/popgen25_ngsintro\n",
    "\n",
    "#make sym link for data and current folder\n",
    "ln -sfn ~/popgen25_ngsintro ~/current_folder\n",
    "ln -sfn $DATA_PATH ~/data_folder"
   ]
  },
  {
   "cell_type": "markdown",
   "id": "4538c524",
   "metadata": {
    "kernel": "SoS"
   },
   "source": [
    "First make a folder for the exercise and had a symbolic link to the reference genomes and the fastQ files"
   ]
  },
  {
   "cell_type": "code",
   "execution_count": null,
   "id": "aee54f0f",
   "metadata": {
    "kernel": "Calysto Bash"
   },
   "outputs": [],
   "source": [
    "##make links to files and add them to the folder\n",
    "# links to the two fastQ files\n",
    "cp -sf ${DATA_PATH}/fastq/CCTauTzS_8872.Goat.small.fq_1.gz .\n",
    "cp -sf ${DATA_PATH}/fastq/CCTauTzS_8872.Goat.small.fq_2.gz .\n",
    "\n",
    "# like to reference genome with index\n",
    "cp -sf ${DATA_PATH}/goat/goat.fa.gz* .\n",
    "\n",
    "echo --- files in folder ---\n",
    "ls "
   ]
  },
  {
   "cell_type": "markdown",
   "id": "b4101546",
   "metadata": {
    "kernel": "SoS"
   },
   "source": [
    "\n",
    "Before we start mapping we want to perform some QC of the data. \n",
    " \n",
    "# Step 1: FastQ file and QC\n",
    "### Viewing the input files (fastQ file)\n",
    "\n",
    "\n",
    "view the fastq file (CTauTzS_8872_subset_R1.fastq.gz) using the head command and identity the reads and quality scores (ignore the Broken pipe warning)\n"
   ]
  },
  {
   "cell_type": "code",
   "execution_count": null,
   "id": "d5e3d61b",
   "metadata": {
    "kernel": "Calysto Bash"
   },
   "outputs": [],
   "source": [
    "# -n defermines the number of lines printed\n",
    "gunzip -c CCTauTzS_8872.Goat.small.fq_1.gz | head -n 12\n"
   ]
  },
  {
   "cell_type": "markdown",
   "id": "7c5679b9",
   "metadata": {
    "kernel": "Calysto Bash"
   },
   "source": [
    "### Run code below to start quiz"
   ]
  },
  {
   "cell_type": "code",
   "execution_count": null,
   "id": "0e3f687f",
   "metadata": {
    "kernel": "Python 3 (ipykernel)",
    "scrolled": false,
    "tags": [
     "hide-input"
    ]
   },
   "outputs": [],
   "source": [
    "import os\n",
    "os.chdir(os.path.expanduser(\"~/data_folder\"))\n",
    "\n",
    "# run to start quiz       \n",
    "from jupyterquiz import display_quiz\n",
    "display_quiz('quiz1.json')\n"
   ]
  },
  {
   "cell_type": "markdown",
   "id": "ee989104",
   "metadata": {
    "kernel": "Calysto Bash"
   },
   "source": [
    "\n",
    "The below command count the number of lines in the file\n"
   ]
  },
  {
   "cell_type": "code",
   "execution_count": null,
   "id": "3f46b96d",
   "metadata": {
    "kernel": "Calysto Bash",
    "scrolled": true
   },
   "outputs": [],
   "source": [
    "gunzip -c CCTauTzS_8872.Goat.small.fq_1.gz |  wc -l"
   ]
  },
  {
   "cell_type": "code",
   "execution_count": null,
   "id": "b3f450d9",
   "metadata": {
    "kernel": "Python 3 (ipykernel)",
    "tags": [
     "remove_cell"
    ]
   },
   "outputs": [],
   "source": [
    "import os\n",
    "os.chdir(os.path.expanduser(\"~/data_folder\"))\n",
    "\n",
    "# run to start quiz\n",
    "from jupyterquiz import display_quiz\n",
    "display_quiz('quiz2.json')"
   ]
  },
  {
   "cell_type": "markdown",
   "id": "480ac89c",
   "metadata": {
    "kernel": "Calysto Bash"
   },
   "source": [
    "\n",
    "#### Reference fasta file\n",
    "\n",
    "View the reference fasta file (goat.fa.gz) using the head command. You can modify the below uncommented code below to view other parts of the reference\n",
    "\n"
   ]
  },
  {
   "cell_type": "code",
   "execution_count": null,
   "id": "d509b201",
   "metadata": {
    "kernel": "Calysto Bash"
   },
   "outputs": [],
   "source": [
    "# first 20 lines\n",
    "zcat goat.fa.gz  | head -n 20\n",
    "\n",
    "# last 1000 lines of the first million  lines (uncomment and modify below)\n",
    "# gunzip -c goat.fa.gz 2>/dev/null | head -n 1000000 | tail -n 1000"
   ]
  },
  {
   "cell_type": "markdown",
   "id": "8feb8208",
   "metadata": {
    "kernel": "Calysto Bash"
   },
   "source": [
    "#### Fastqc\n",
    "\n",
    "Let's see if there is any issues with the sequencing reads"
   ]
  },
  {
   "cell_type": "code",
   "execution_count": null,
   "id": "b40912c1",
   "metadata": {
    "kernel": "Calysto Bash"
   },
   "outputs": [],
   "source": [
    " fastqc --nogroup CCTauTzS_8872.Goat.small.fq_1.gz\n",
    " \n",
    " echo ---- fastQC has created this file ----\n",
    " ls *html"
   ]
  },
  {
   "cell_type": "markdown",
   "id": "1d6726d6",
   "metadata": {
    "kernel": "Calysto Bash"
   },
   "source": [
    "To view then swich to the main browser tab for jypiter notebook. Enter the folder /popgen24/NGSintro/ and find the html file. Click on the file to open the fastQC report\n",
    "\n",
    "It will look something like below picture (called popgen24 instead of kenya)\n",
    "![fastQC file](https://github.com/popgenDK/courses/blob/main/kenya2024/exercises/day1_NGSintro/fastQCfile.png?raw=true)"
   ]
  },
  {
   "cell_type": "code",
   "execution_count": null,
   "id": "5ba9bbc9",
   "metadata": {
    "kernel": "Python 3 (ipykernel)"
   },
   "outputs": [],
   "source": [
    "import os\n",
    "os.chdir(os.path.expanduser(\"~/data_folder\"))\n",
    "\n",
    "# run to start quiz       \n",
    "from jupyterquiz import display_quiz\n",
    "display_quiz('quiz3.json')"
   ]
  },
  {
   "cell_type": "markdown",
   "id": "3e14e90d",
   "metadata": {
    "kernel": "SoS"
   },
   "source": [
    "\n",
    "# Mapping / Aligning\n",
    "\n",
    "Align the reads using bwa. We use bwa in the exercises because it is fast and widely used. We first need to index the reference chromosome, followed by the actual aligning process. If should take around 1 min to finish. \n"
   ]
  },
  {
   "cell_type": "markdown",
   "id": "2eb6081f",
   "metadata": {
    "kernel": "SoS"
   },
   "source": [
    "Once the index is made, the second step is to map the reads. There are several ways to do this, but I suggest you use the bwa mem mode, which is the most commonly used these days. Again you can run it with no arguments to get info about how to use it. "
   ]
  },
  {
   "cell_type": "code",
   "execution_count": null,
   "id": "a6ac7a81",
   "metadata": {
    "kernel": "Calysto Bash",
    "scrolled": true
   },
   "outputs": [],
   "source": [
    "# see options\n",
    "bwa mem"
   ]
  },
  {
   "cell_type": "markdown",
   "id": "8ad695bd",
   "metadata": {
    "kernel": "Calysto Bash"
   },
   "source": [
    "The number of options may be a bit overwhelming, but you can run it with no additional options, although I suggest you add \"-t 5\" to run 5 threads if your computer has multiple cores. It reads the compressed fastq files directly, so you need not decompress them. By default the result comes on stdout (in the terminal), so you have to redirect to a file, like the below command. \n",
    "We also want to add a read group name with information about where the reads comes from. This is very usefull if you have sequencing data from multiple libraries.  \n",
    "Now try to align the data\n"
   ]
  },
  {
   "cell_type": "code",
   "execution_count": null,
   "id": "380f6f1f",
   "metadata": {
    "kernel": "Calysto Bash"
   },
   "outputs": [],
   "source": [
    "# bwa command \n",
    "# bwa men -R readGroupName -t threads REF fastq_1 fast1_2\n",
    "\n",
    "#align the data ( take ~ 1 min)\n",
    "bwa mem -R '@RG\\tID:foo\\tSM:bar\\tLB:library1' -t 5 goat.fa.gz CCTauTzS_8872.Goat.small.fq_1.gz CCTauTzS_8872.Goat.small.fq_2.gz > CTauTzS_8872.sam\n"
   ]
  },
  {
   "cell_type": "markdown",
   "id": "2d51fdbb",
   "metadata": {
    "kernel": "Calysto Bash"
   },
   "source": [
    "Wait til it done - if there is not output it is still running and you will see [*]\n",
    "\n",
    "Let's look at the generated sam file ( ignore the warnings )"
   ]
  },
  {
   "cell_type": "code",
   "execution_count": null,
   "id": "d284f16e",
   "metadata": {
    "kernel": "Calysto Bash"
   },
   "outputs": [],
   "source": [
    "# view first 1 line of the sam file\n",
    "samtools view CTauTzS_8872.sam | head -n 1"
   ]
  },
  {
   "cell_type": "markdown",
   "id": "5ce8a4de",
   "metadata": {
    "kernel": "SoS"
   },
   "source": [
    "You can read about the sam output here: https://bioinformatics-core-shared-training.github.io/cruk-summer-school-2017/Day1/Session5-alignedReads.html  \n",
    "\n",
    " - Identify the header and explain its contents. \n",
    " - For the first read identify the following and fill in the (?????) below\n",
    "     - the chromosome\n",
    "     - the position of the first base of the read \n",
    "     - The mapping qualty\n",
    "     - The alignment (cigar string)\n",
    "     - the insert size (template length)\n",
    "     - the read(the bases)\n",
    "     - the base qualities\n",
    "\n"
   ]
  },
  {
   "cell_type": "markdown",
   "id": "4102bb97",
   "metadata": {
    "kernel": "Calysto Bash"
   },
   "source": [
    " <code>\n",
    "FP200000259BRL1C001R0010206629\t(the name of the read)\n",
    "99                  \t\t\t(FLAGS)\n",
    "NC_030808.1\t\t            \t(?????)\n",
    "760750\t                \t\t(?????)\n",
    "60              \t\t\t\t(?????)\n",
    "150M\t\t\t                (?????)\n",
    "=\t                \t\t\t(name of the mate is the same)\n",
    "760946                  \t\t(position of the mate)\n",
    "346                 \t\t\t(?????)\n",
    "CATACATACACAAGCATACTACACCT....\t(?????)\n",
    "FDFBFDFEFEFCEDEFFEEGEFEEEE...\t(?????)\n",
    " NM:i:2\tMD:Z:21G89G38 ....      (TAGS)\n",
    " </code>\n",
    " "
   ]
  },
  {
   "cell_type": "markdown",
   "id": "612b2bf0",
   "metadata": {
    "kernel": "Calysto Bash"
   },
   "source": [
    "\n",
    " \n",
    " To understand the flags (second column in the sam format) you can type a flag into this page and get the meaning: https://broadinstitute.github.io/picard/explain-flags.html\n",
    " \n",
    "\n",
    "\n",
    "Let's try to find the number of reads  in the samfile."
   ]
  },
  {
   "cell_type": "code",
   "execution_count": null,
   "id": "bdafc63c",
   "metadata": {
    "kernel": "Calysto Bash"
   },
   "outputs": [],
   "source": [
    "wc -l CTauTzS_8872.sam"
   ]
  },
  {
   "cell_type": "markdown",
   "id": "e85d2f1e",
   "metadata": {
    "kernel": "SoS"
   },
   "source": [
    "- Why is it not the same number as in the fastQ file?\n",
    "\n",
    "\n",
    "\n",
    "Fortunately there are tools to handle sam files, which will make your life easier. We will use the samtools program. First, you often need the compressed version of the sam format, which is called bam. You use samtools view for converting between formats. BAM files faciliates random access to genomic regions, but this requires the file to be sorted and requires  an index this is generated using the command below.\n",
    "Converting sam to bam is done like this:"
   ]
  },
  {
   "cell_type": "code",
   "execution_count": null,
   "id": "54d193bd",
   "metadata": {
    "kernel": "Calysto Bash"
   },
   "outputs": [],
   "source": [
    "#sam to bam\n",
    "samtools view -b CTauTzS_8872.sam > CTauTzS_8872.bam\n",
    "\n",
    "#sort bam file\n",
    "samtools sort -o CTauTzS_8872.sorted.bam CTauTzS_8872.bam\n",
    "\n",
    "#index bam file\n",
    "samtools index CTauTzS_8872.sorted.bam\n",
    "\n",
    "#see sizes\n",
    "echo --- files sizes ---\n",
    "ls -lah CTauTzS_8872.sam CTauTzS_8872.bam CTauTzS_8872.sorted.bam"
   ]
  },
  {
   "cell_type": "markdown",
   "id": "6aae4cb7",
   "metadata": {
    "kernel": "SoS"
   },
   "source": [
    "The bam file is a compressed version of sam, you can see it is about one-third of the sam file in size. \n",
    "\n",
    "\n",
    "\n",
    "We now have a functional alignment file that we can use for analysis. Lets first to view the alignment at different part of the chromosome NC_030808.1. We will use tview to extact alignment. The option -d -w print  100 bases of the alignment to the terminal"
   ]
  },
  {
   "cell_type": "code",
   "execution_count": null,
   "id": "1dd69041",
   "metadata": {
    "kernel": "Calysto Bash",
    "scrolled": true
   },
   "outputs": [],
   "source": [
    "samtools tview  CTauTzS_8872.sorted.bam  -d T -w 100 -p NC_030808.1:130171\n"
   ]
  },
  {
   "cell_type": "markdown",
   "id": "2dd91046",
   "metadata": {
    "kernel": "Calysto Bash"
   },
   "source": [
    "In the above the lines are\n",
    "\n",
    "Line1: The position on chromome NC_030808.1\n",
    "\n",
    "Line2: The refence genome ( N if not provided)\n",
    "\n",
    "Line3: The concensus sequence (If most or all reads have a G then the concensus is G)\n",
    "\n",
    "Line4+:  (lines 4,5 ect) the reads alignment \n",
    "\n",
    "\n",
    "- When looking at the region starting with position NC_030808.1:130171 can you find a possible variable site?\n",
    "\n",
    "\n",
    "Lets try to add the referecne genome to make it easier to see the sequencing error and variable sites"
   ]
  },
  {
   "cell_type": "code",
   "execution_count": null,
   "id": "ce46bfb2",
   "metadata": {
    "kernel": "Calysto Bash"
   },
   "outputs": [],
   "source": [
    "samtools tview CTauTzS_8872.sorted.bam  -d T -w 100 -p NC_030808.1:130161 goat.fa.gz"
   ]
  },
  {
   "cell_type": "markdown",
   "id": "5bb1ad12",
   "metadata": {
    "kernel": "Calysto Bash"
   },
   "source": [
    " - can you find the site that is likely heterozygous?\n",
    " \n",
    " Some parts of the genome are hard to map to. Lets try another postion\n",
    " - Change the position to NC_030808.1:156221. (modify above code a run)\n",
    " - How many likelely variable sites can you see?\n",
    " - Are these variable sites or is there another likely explanation?\n",
    "\n",
    " \n"
   ]
  },
  {
   "cell_type": "code",
   "execution_count": null,
   "id": "67c64eac",
   "metadata": {
    "kernel": "Calysto Bash"
   },
   "outputs": [],
   "source": [
    "samtools mpileup CTauTzS_8872.sorted.bam  | cut -f4 | sort -n | uniq -c >dep1\n",
    "\n",
    "cat dep1"
   ]
  },
  {
   "cell_type": "markdown",
   "id": "6b267e10",
   "metadata": {
    "kernel": "Calysto Bash"
   },
   "source": [
    "The left column is the number of sites and the right is the depth. \n",
    "\n",
    "View the distribution for this individuals using the following R command\n"
   ]
  },
  {
   "cell_type": "code",
   "execution_count": null,
   "id": "4a15d246",
   "metadata": {
    "kernel": "R"
   },
   "outputs": [],
   "source": [
    "depth <- read.table(\"~/current_folder/dep1\")\n",
    "d <- 1:15 #chosen depths to plot\n",
    "\n",
    "barplot(depth[d+1,1],names=d,xlab=\"sequencing depth\",ylab=\"Number of sites with sequencing depth \",col=\"mistyrose\")\n"
   ]
  },
  {
   "cell_type": "markdown",
   "id": "f43aeaba",
   "metadata": {
    "kernel": "Calysto Bash"
   },
   "source": [
    " - How do you think the depth will affect genotype and variant calling?\n",
    " \n"
   ]
  },
  {
   "cell_type": "markdown",
   "id": "1f597552",
   "metadata": {
    "kernel": "Calysto Bash"
   },
   "source": [
    " \n",
    " # Bonus exercise (Only do this part if you have finished the rest) \n",
    " ## Bonus exercise -  duplicated reads using Picardtools\n",
    " \n",
    " bwa actually fills in the mate information, but not all aligners do that, so we can run picard tools to fill in the mate information and sort the file according to position. We will output the file in the binary version of SAM which is BAM"
   ]
  },
  {
   "cell_type": "code",
   "execution_count": null,
   "id": "bcf5a2c2",
   "metadata": {
    "kernel": "Calysto Bash"
   },
   "outputs": [],
   "source": [
    "\n",
    "java -jar $PICARD FixMateInformation INPUT=CTauTzS_8872.sam \\\n",
    "OUTPUT=id.fixmate.srt.bam SORT_ORDER=coordinate"
   ]
  },
  {
   "cell_type": "markdown",
   "id": "7a002778",
   "metadata": {
    "kernel": "Calysto Bash"
   },
   "source": [
    "View the header of the BAM file"
   ]
  },
  {
   "cell_type": "code",
   "execution_count": null,
   "id": "b9289616",
   "metadata": {
    "kernel": "Calysto Bash"
   },
   "outputs": [],
   "source": [
    "samtools view -H id.fixmate.srt.bam "
   ]
  },
  {
   "cell_type": "markdown",
   "id": "173434a3",
   "metadata": {
    "kernel": "Calysto Bash"
   },
   "source": [
    "picard didn't update the PG flag, so let us update the header information so that we have documented how we modified the file."
   ]
  },
  {
   "cell_type": "code",
   "execution_count": null,
   "id": "6f46ff02",
   "metadata": {
    "kernel": "Calysto Bash"
   },
   "outputs": [],
   "source": [
    "\n",
    "(samtools view -H id.fixmate.srt.bam;echo -e \"@PG\\tID:fixmate\\tPN:fixmate\\tVN:2.60\\tCL:stuff\" ) >newhd\n",
    "samtools reheader newhd id.fixmate.srt.bam > id.fixmate.srt2.bam"
   ]
  },
  {
   "cell_type": "markdown",
   "id": "1d649a41",
   "metadata": {
    "kernel": "Calysto Bash"
   },
   "source": [
    " - Validate that the header in file id.fixmate.srt2.bam  has been updated"
   ]
  },
  {
   "cell_type": "code",
   "execution_count": null,
   "id": "d7d98d08",
   "metadata": {
    "kernel": "Calysto Bash",
    "scrolled": false
   },
   "outputs": [],
   "source": [
    "samtools view -H id.fixmate.srt2.bam "
   ]
  },
  {
   "cell_type": "markdown",
   "id": "de55214b",
   "metadata": {
    "kernel": "Calysto Bash"
   },
   "source": [
    "Now mark duplicates using picard"
   ]
  },
  {
   "cell_type": "code",
   "execution_count": null,
   "id": "2476dc52",
   "metadata": {
    "kernel": "Calysto Bash"
   },
   "outputs": [],
   "source": [
    "\n",
    "java -jar $PICARD MarkDuplicates I=id.fixmate.srt2.bam \\\n",
    "O=id.fixmate.srt.md.bam  M=metrics;"
   ]
  },
  {
   "cell_type": "markdown",
   "id": "7a3df8a7",
   "metadata": {
    "kernel": "Calysto Bash"
   },
   "source": [
    " - Did picard update the PG flag of the header?\n",
    " - Did picard update anything else in the header?\n",
    "\n",
    "NB you can view the header of a bamfile using 'samtools view -H'\n",
    "\n",
    "\n"
   ]
  },
  {
   "cell_type": "code",
   "execution_count": null,
   "id": "152e468b",
   "metadata": {
    "kernel": "Calysto Bash"
   },
   "outputs": [],
   "source": [
    "samtools view -H id.fixmate.srt.md.bam"
   ]
  },
  {
   "cell_type": "markdown",
   "id": "d27c2c29",
   "metadata": {
    "kernel": "Calysto Bash"
   },
   "source": [
    "\n",
    "\n",
    "## Bonus exercise 3 - clean you bam files using the FLAGS column\n",
    "\n",
    "The second column in the SAM format is the very important FLAG. This will tell tell you about the state of the paired end mapping, QC duplicates etc.\n",
    "\n",
    "\n",
    "  \n",
    "Using the samtools -F/-f you can discard/include flags that fulfill certain patterns. See http://broadinstitute.github.io/picard/explain-flags.html .\n",
    "\n",
    "  1. How many reads have we marked as duplicate in the final file.\n",
    "  2. How many properly mapped read pairs do we have? (Where both reads map to the same chr etc).\n",
    "  3. How many mapped reads do we have ?\n",
    "  4. How many unmapped reads do we have ?\n",
    "  5. Find the distribution of the RNAMES of the unmapped reads!?\n",
    "\n",
    " Run the following command one at a time by uncommenting them (i.e. remove the # in front)"
   ]
  },
  {
   "cell_type": "code",
   "execution_count": null,
   "id": "f90bd3e3",
   "metadata": {
    "kernel": "Calysto Bash"
   },
   "outputs": [],
   "source": [
    "\n",
    "#samtools view -f 1024 id.fixmate.srt.md.bam|wc -l\n",
    "#samtools view -f 2 id.fixmate.srt.md.bam|wc -l\n",
    "#samtools view -F 4 id.fixmate.srt.md.bam|wc -l\n",
    "#samtools view -f 4 id.fixmate.srt.md.bam|wc -l\n",
    "#samtools view -f 4 id.fixmate.srt.md.bam|cut -f3|sort -n |uniq -c\n"
   ]
  },
  {
   "cell_type": "markdown",
   "id": "28e8bbb2",
   "metadata": {
    "kernel": "Calysto Bash"
   },
   "source": [
    "Compare with \"samtools flagstat\" command \n"
   ]
  },
  {
   "cell_type": "code",
   "execution_count": null,
   "id": "1ece8489",
   "metadata": {
    "kernel": "Calysto Bash"
   },
   "outputs": [],
   "source": [
    "samtools flagstat id.fixmate.srt.md.bam\n"
   ]
  },
  {
   "cell_type": "markdown",
   "id": "42784277",
   "metadata": {
    "kernel": "Calysto Bash"
   },
   "source": [
    "Make a new bamfile, where you only include the reads where both ends maps, and filter out those with a mapping quality below 10, and removing duplicates\n"
   ]
  },
  {
   "cell_type": "code",
   "execution_count": null,
   "id": "7fb45a0e",
   "metadata": {
    "kernel": "Calysto Bash"
   },
   "outputs": [],
   "source": [
    "samtools view -f 2 -F 1024 id.fixmate.srt.md.bam -q 10 >new.bam"
   ]
  }
 ],
 "metadata": {
  "kernelspec": {
   "display_name": "SoS",
   "language": "sos",
   "name": "sos"
  },
  "language_info": {
   "codemirror_mode": "sos",
   "file_extension": ".sos",
   "mimetype": "text/x-sos",
   "name": "sos",
   "nbconvert_exporter": "sos_notebook.converter.SoS_Exporter",
   "pygments_lexer": "sos"
  },
  "sos": {
   "kernels": [
    [
     "Calysto Bash",
     "calysto_bash",
     "bash",
     "",
     ""
    ],
    [
     "Python 3 (ipykernel)",
     "python3",
     "python3",
     "",
     {
      "name": "ipython",
      "version": 3
     }
    ],
    [
     "R",
     "ir",
     "R",
     "",
     "r"
    ]
   ],
   "panel": {
    "displayed": false,
    "height": 0
   },
   "version": "0.24.1"
  }
 },
 "nbformat": 4,
 "nbformat_minor": 5
}
