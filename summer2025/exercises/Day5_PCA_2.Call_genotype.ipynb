{
 "cells": [
  {
   "cell_type": "markdown",
   "id": "0cf4cf69",
   "metadata": {
    "kernel": "SoS"
   },
   "source": [
    "</br>\n",
    "<font size=\"12\">PCA and population structure with called genotypes</font>\n"
   ]
  },
  {
   "cell_type": "markdown",
   "id": "b6b873e9",
   "metadata": {
    "kernel": "SoS"
   },
   "source": [
    "# PCA for wildebeest\n",
    "\n",
    "Again we will use data from the Blue Wildebeest. To simply the the analysis we have included only on of the Brindles populations ( B-Etosha). \n",
    "\n",
    "<img src=\"https://raw.githubusercontent.com/popgenDK/popgenDK.github.io/gh-pages/images/slider/wildeBeastMap.png\" alt=\"image info\" />\n",
    "\n",
    "\n",
    "\n"
   ]
  },
  {
   "cell_type": "markdown",
   "id": "316c6f67",
   "metadata": {
    "kernel": "SoS"
   },
   "source": [
    "# Setup enviroment"
   ]
  },
  {
   "cell_type": "code",
   "execution_count": null,
   "id": "f9fc188b",
   "metadata": {
    "kernel": "Calysto Bash"
   },
   "outputs": [],
   "source": [
    "COURSE_PATH=/course/popgen25\n",
    "DATA_PATH=$COURSE_PATH/pca\n",
    "SOFTWARE_PATH=$COURSE_PATH/software\n",
    "\n",
    "echo --programs that are installed:--\n",
    "type plink\n",
    "type PCAone\n",
    "\n",
    "\n",
    "#make folder \n",
    "FOLDER=~/popgen25_pca\n",
    "echo -e \"\\n--creating folder-- \"\n",
    "echo $FOLDER\n",
    "mkdir -p $FOLDER\n",
    "\n",
    "# enter folder\n",
    "cd $FOLDER\n",
    "\n",
    "#make sym link for data and current folder\n",
    "ln -sfn $FOLDER ~/current_folder\n",
    "ln -sfn $DATA_PATH ~/data_folder"
   ]
  },
  {
   "cell_type": "markdown",
   "id": "be1cee18",
   "metadata": {
    "kernel": "Calysto Bash"
   },
   "source": [
    "# Software and data\n",
    "\n",
    "### data \n",
    "We will use the same wildebeest data as in the ADMIXTURE analysis. The genotype data is in plink format consisting of three files bim/bam/fam. For more details about the data see the admixture exercises"
   ]
  },
  {
   "cell_type": "code",
   "execution_count": null,
   "id": "5d974403",
   "metadata": {
    "kernel": "Calysto Bash"
   },
   "outputs": [],
   "source": [
    "# make links to files and add them to the folder\n",
    "cp -sf ${DATA_PATH}/blue_wildebeest_thin* .\n",
    "cp -r -sf  ${DATA_PATH}/multiRunK7 .\n",
    "\n",
    "ls blue_wildebeest_thin*\n",
    "\n",
    "echo -e \"\\n-- number of lines in bim file (number of SNPs) --\"\n",
    "wc -l blue_wildebeest_thin.bim\n",
    "\n",
    "echo -e \"\\n-- number of lines in fam file (number of indivuals) --\"\n",
    "wc -l blue_wildebeest_thin.fam\n",
    "\n",
    "echo -e \"\\n--counts of populations/subspecies from first column of fam file --\"\n",
    "cut -f1 -d\" \" blue_wildebeest_thin.fam | sort | uniq -c"
   ]
  },
  {
   "cell_type": "markdown",
   "id": "9007c856",
   "metadata": {
    "kernel": "SoS"
   },
   "source": [
    "\n",
    "\n",
    "\n",
    "### Software\n",
    "We will be using PCAone for this exercise. PCAone works both for called genotypes and on genotype likelihoods. "
   ]
  },
  {
   "cell_type": "markdown",
   "id": "deeaffce",
   "metadata": {
    "kernel": "Bash"
   },
   "source": [
    "Let perform PCA on the whole data (without LD pruning). \n",
    "\n",
    "We will use PCAone first:\n",
    "\n"
   ]
  },
  {
   "cell_type": "code",
   "execution_count": null,
   "id": "9b31bad8",
   "metadata": {
    "kernel": "Calysto Bash"
   },
   "outputs": [],
   "source": [
    "PCAone -h"
   ]
  },
  {
   "cell_type": "markdown",
   "id": "09dba6b3",
   "metadata": {
    "kernel": "Bash"
   },
   "source": [
    "Shows the options. To perform the PCA use the following command"
   ]
  },
  {
   "cell_type": "code",
   "execution_count": null,
   "id": "544369a4",
   "metadata": {
    "kernel": "Calysto Bash"
   },
   "outputs": [],
   "source": [
    "\n",
    "PCAone -b blue_wildebeest_thin -o blue_wildebeest_thin"
   ]
  },
  {
   "cell_type": "markdown",
   "id": "bf139a1e",
   "metadata": {
    "kernel": "Calysto Bash"
   },
   "source": [
    " - look at the above output. How many SNPs and how many individuals?\n",
    " \n",
    " The default is to calculate the top 10 PCs. If you want more you can use the option --pc <INT> to choose a different number. However, let see what the top PCs capture. \n",
    "    \n",
    "First let look the two first PCs as well as the admixture proportions estimated in the prevous admixture exercises\n"
   ]
  },
  {
   "cell_type": "code",
   "execution_count": null,
   "id": "d1147269",
   "metadata": {
    "kernel": "R"
   },
   "outputs": [],
   "source": [
    "#read in code to plot admixture proportions ( plotAdmix function)\n",
    "source(\"https://raw.githubusercontent.com/GenisGE/evalAdmix/master/visFuns.R\")\n",
    "\n",
    "options(repr.plot.width=12, repr.plot.height=12)\n",
    "layout(matrix(c(1,1,2,3),nrow=2,by=T),height=c(2,4),width=2:1)\n",
    "\n",
    "# Read in inferred admixture proportions\n",
    "q <- read.table(\"~/current_folder/multiRunK7/blue_wildebeest_noLD.7.Q_4\")\n",
    "\n",
    "#read in the population labels (first column of fam file)\n",
    "tab <- table(pop <- read.table(\"~/current_folder/blue_wildebeest_thin.fam\")[,1])\n",
    "\n",
    "#make the plot. \n",
    "plotAdmix(q,pop=pop,rotatelab=15,padj=0.15,cex.lab=1.4,col=c(3,5,8,4,2,6,7))\n",
    "\n",
    "\n",
    "pca <- read.table(\"~/current_folder/blue_wildebeest_thin.eigvecs\")\n",
    "#layout(matrix(1:2,nrow=1),w=c(4,2))\n",
    "plot(pca[,1:2],col=as.integer(as.factor(pop))+1,ylab=paste(\"PC\",1),xlab=paste(\"PC\",2),cex.lab=1.5,cex=2,lwd=8)\n",
    "plot.new()\n",
    "legend(\"top\",legend=names(tab),bty=\"n\",xpd=T,cex=2,text.col=1:length(tab)+1,text.font=2)\n"
   ]
  },
  {
   "cell_type": "markdown",
   "id": "fc4b480c",
   "metadata": {
    "kernel": "R"
   },
   "source": [
    " - What information do you get from the PCA that you don't get from the ADMIXTURE results?\n",
    " - Can you identify the admixed individuals?\n",
    " \n",
    " \n",
    " Lets see what the other PCs show. \n",
    " "
   ]
  },
  {
   "cell_type": "code",
   "execution_count": null,
   "id": "245d4a20",
   "metadata": {
    "kernel": "R"
   },
   "outputs": [],
   "source": [
    "options(repr.plot.width=12, repr.plot.height=16)\n",
    "\n",
    "par(mfrow=c(3,2))\n",
    "for(pc in 0:4)\n",
    "    plot(pca[,pc*2+1:2],col=as.factor(pop),ylab=paste(\"PC\",pc*2+2),xlab=paste(\"PC\",pc*2+1),cex.lab=1.5,cex=2,lwd=8)\n"
   ]
  },
  {
   "cell_type": "markdown",
   "id": "e708940c",
   "metadata": {
    "kernel": "Bash"
   },
   "source": [
    " - How many PCs are used to separate the populations?\n",
    " - What do you think is captured on PC 7 and 8?\n",
    " - What  do you think is captures on PC 9 and 10?\n",
    " "
   ]
  },
  {
   "cell_type": "markdown",
   "id": "57386879",
   "metadata": {
    "kernel": "R"
   },
   "source": [
    "## Bonus exercise if there is time\n",
    "\n",
    "\n",
    "Lets try to run the PCA after pruning LD (linkage disequillibrium) from the data. The noLD data was created in the admixture exercise. \n",
    "Run first the pruning with PCA  and then run PCA on the pruned data"
   ]
  },
  {
   "cell_type": "code",
   "execution_count": null,
   "id": "72d6ae36",
   "metadata": {
    "kernel": "Calysto Bash"
   },
   "outputs": [],
   "source": [
    "PCAone -b blue_wildebeest_thin -k 6 --ld -o pcaone  "
   ]
  },
  {
   "cell_type": "code",
   "execution_count": null,
   "id": "bc2c4b9a",
   "metadata": {
    "kernel": "Calysto Bash"
   },
   "outputs": [],
   "source": [
    "#see created files\n",
    "ls pcaone*"
   ]
  },
  {
   "cell_type": "markdown",
   "id": "ca9b5506",
   "metadata": {
    "kernel": "Calysto Bash"
   },
   "source": [
    "Calculate LD between markers in a 1Mb sliding window and identify a set of SNPs so that the LD is less than $r^2<0.1$"
   ]
  },
  {
   "cell_type": "code",
   "execution_count": null,
   "id": "fc87c0be",
   "metadata": {
    "kernel": "Calysto Bash"
   },
   "outputs": [],
   "source": [
    "PCAone -B pcaone.residuals \\\n",
    "         --match-bim pcaone.mbim \\\n",
    "         --ld-r2 0.1 \\\n",
    "         --ld-bp 1000000 \\\n",
    "         -o pcaone\n",
    "         "
   ]
  },
  {
   "cell_type": "markdown",
   "id": "14173b91",
   "metadata": {
    "kernel": "Calysto Bash"
   },
   "source": [
    "  The LD measure has been adjusted for population structure using the PCs. \n",
    "  - Why does the LD need to be adjusted for population structure?\n",
    "  - Why do we use a sliding window?\n",
    "  \n",
    " Lets make a new plink file containing only the markers in low LD"
   ]
  },
  {
   "cell_type": "code",
   "execution_count": null,
   "id": "7c7b3d49",
   "metadata": {
    "kernel": "Calysto Bash"
   },
   "outputs": [],
   "source": [
    "echo --number of variants to be keept --\n",
    "wc -l pcaone.ld.prune.in\n",
    "\n",
    "echo -e \"\\n --Extract variants using plink --\"\n",
    "plink --bfile blue_wildebeest_thin \\\n",
    "    --extract pcaone.ld.prune.in  \\\n",
    "    --make-bed  \\\n",
    "    --out blue_wildebeest_noLD  \\\n",
    "    --chr-set 29\n"
   ]
  },
  {
   "cell_type": "markdown",
   "id": "d31753e9",
   "metadata": {
    "kernel": "Calysto Bash"
   },
   "source": [
    "We can not perform the PCA again on the pruned data"
   ]
  },
  {
   "cell_type": "code",
   "execution_count": null,
   "id": "21661880",
   "metadata": {
    "kernel": "Calysto Bash"
   },
   "outputs": [],
   "source": [
    "PCAone  -b blue_wildebeest_noLD -o blue_wildebeest_noLD"
   ]
  },
  {
   "cell_type": "markdown",
   "id": "3cf7c4a2",
   "metadata": {
    "kernel": "Bash"
   },
   "source": [
    "\n",
    "We can start by comparing the singular values. These are proportional to the variance explained so that higher values means that the corresponding PC captures more information about the data. "
   ]
  },
  {
   "cell_type": "code",
   "execution_count": null,
   "id": "87a0a512",
   "metadata": {
    "kernel": "R"
   },
   "outputs": [],
   "source": [
    "options(repr.plot.width=12, repr.plot.height=8)\n",
    "\n",
    "singularValues <- scan(\"~/current_folder/blue_wildebeest_thin.eigvals\")\n",
    "singularValuesNoLD <- scan(\"~/current_folder/blue_wildebeest_noLD.eigvals\")\n",
    "\n",
    "varianceExplained <- function(x)\n",
    "    x^2/sum(x^2)\n",
    "\n",
    "varExp <- varianceExplained(rbind(singularValues,singularValuesNoLD))\n",
    "\n",
    "\n",
    "barplot(varExp*100,beside=T,col=2:3,legend=c(\"With LD\",\"Without LD\"),\n",
    "       ylab=\"%variance explained\",xlab=\"PC 1:10\")"
   ]
  },
  {
   "cell_type": "markdown",
   "id": "9bffb30e",
   "metadata": {
    "kernel": "Bash"
   },
   "source": [
    " - which data set captures the most information about the population structure from the first top PCs?\n",
    " \n",
    " Lets plot the PCs from the two data sets"
   ]
  },
  {
   "cell_type": "code",
   "execution_count": null,
   "id": "ca4a0440",
   "metadata": {
    "kernel": "R"
   },
   "outputs": [],
   "source": [
    "options(repr.plot.width=12, repr.plot.height=32)\n",
    "\n",
    "tab <- table(pop <- read.table(\"~/current_folder/blue_wildebeest_noLD.fam\")[,1])\n",
    "\n",
    "\n",
    "pcaNoLD <- read.table(\"~/current_folder/blue_wildebeest_noLD.eigvecs\")\n",
    "\n",
    "\n",
    "par(mfrow=c(5,2))\n",
    "for(pc in 0:4){\n",
    " \n",
    "    plot(pca[,pc*2+1:2],col=as.factor(pop),ylab=paste(\"PC\",pc*2+2),xlab=paste(\"PC\",pc*2+1),cex.lab=1.5,cex=2,lwd=8,main=\"with LD\")\n",
    "    plot(pcaNoLD[,pc*2+1:2],col=as.factor(pop),ylab=paste(\"PC\",pc*2+2),xlab=paste(\"PC\",pc*2+1),cex.lab=1.5,cex=2,lwd=8,main=\"No LD\")\n",
    "\n",
    "    \n",
    "    }"
   ]
  },
  {
   "cell_type": "markdown",
   "id": "d233cf13",
   "metadata": {
    "kernel": "R"
   },
   "source": [
    " - Which of the PCs from prevous analysis capture LD and not population structure?\n",
    " - Do you think it is better to perform PCA with out without LD?"
   ]
  },
  {
   "cell_type": "markdown",
   "id": "fbcf04a6",
   "metadata": {
    "kernel": "R"
   },
   "source": [
    "## Identity by state tree\n",
    "As a last minute addition we can also make a neighbour joining tree by first computing identity-by-state distances between individuals which a just the proportion of sites between two individuals where they are different.\n",
    "We can then load these distances into R and produce a NJ tree with the package APE.\n"
   ]
  },
  {
   "cell_type": "code",
   "execution_count": null,
   "id": "f939b999",
   "metadata": {
    "kernel": "Calysto Bash"
   },
   "outputs": [],
   "source": [
    "# get IBS distances with plink\n",
    "plink --allow-extra-chr \\\n",
    "    --bfile blue_wildebeest_thin \\\n",
    "    --distance square 1-ibs \\\n",
    "    --chr-set 29 \\\n",
    "    --out plink\n"
   ]
  },
  {
   "cell_type": "code",
   "execution_count": null,
   "id": "1ba26195",
   "metadata": {
    "kernel": "R"
   },
   "outputs": [],
   "source": [
    "library(ape)\n",
    "\n",
    "# read in distances\n",
    "m <- as.matrix(read.table(\"~/current_folder/plink.mdist\", header = F))\n",
    "\n",
    "# read id of individuals\n",
    "id <- read.table(\"~/current_folder/plink.mdist.id\")\n",
    "rownames(m) <- id$V2\n",
    "colnames(m) <- id$V2\n",
    "\n",
    "pops <- c(4,6,8,2,5,7,3)\n",
    "names(pops) <- unique(id$V1)\n",
    "\n",
    "plot(nj(m), tip.color = pops[id$V1], type = \"unrooted\", show.tip.label = TRUE)\n",
    "add.scale.bar()\n",
    "legend(\"topright\",\n",
    "       legend = names(pops),\n",
    "       fill = pops,\n",
    "          ncol=4)"
   ]
  },
  {
   "cell_type": "markdown",
   "id": "a0705cad",
   "metadata": {
    "kernel": "R"
   },
   "source": [
    " - Can you find the admixed individual?\n",
    " - Try removing the \" type = 'unrooted',\" argument from the plotting command above and see what happens to the tree"
   ]
  }
 ],
 "metadata": {
  "kernelspec": {
   "display_name": "SoS",
   "language": "sos",
   "name": "sos"
  },
  "language_info": {
   "codemirror_mode": "sos",
   "file_extension": ".sos",
   "mimetype": "text/x-sos",
   "name": "sos",
   "nbconvert_exporter": "sos_notebook.converter.SoS_Exporter",
   "pygments_lexer": "sos"
  },
  "sos": {
   "kernels": [
    [
     "Calysto Bash",
     "calysto_bash",
     "bash",
     "",
     ""
    ],
    [
     "R",
     "ir",
     "R",
     "#DCDCDA",
     "r"
    ]
   ],
   "panel": {
    "displayed": false,
    "height": 0
   },
   "version": "0.24.1"
  }
 },
 "nbformat": 4,
 "nbformat_minor": 5
}
