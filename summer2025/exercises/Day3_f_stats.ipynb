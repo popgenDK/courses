{
 "cells": [
  {
   "cell_type": "markdown",
   "id": "1b33fe1d",
   "metadata": {
    "kernel": "SoS"
   },
   "source": [
    "# setup enviroment and data"
   ]
  },
  {
   "cell_type": "code",
   "execution_count": null,
   "id": "8e606f1b",
   "metadata": {
    "kernel": "Calysto Bash"
   },
   "outputs": [],
   "source": [
    "COURSE_PATH=/course/popgen25\n",
    "DATA_PATH=$COURSE_PATH/dstats\n",
    "SOFTWARE_PATH=$COURSE_PATH/software\n",
    "\n",
    "#make folder \n",
    "mkdir -p ~/popgen25_dstat\n",
    "\n",
    "# enter folder\n",
    "cd ~/popgen25_dstat\n",
    "\n",
    "#make sym link for data and current folder\n",
    "ln -sfn ~/popgen25_dstat ~/current_folder\n",
    "ln -sfn $DATA_PATH ~/data_folder"
   ]
  },
  {
   "cell_type": "markdown",
   "id": "e15e389a",
   "metadata": {
    "kernel": "SoS"
   },
   "source": [
    "# Practical on $F$-statistics CPH popgen 2025\n",
    "\n",
    "In this practical we will explore the $F$-statistics framework using the `R`-package `admixtools`, a fast implementation of $F$-statistics. \n",
    "\n",
    "To begin, we load a few R packages required for the practical"
   ]
  },
  {
   "cell_type": "code",
   "execution_count": null,
   "id": "1ab8be8d",
   "metadata": {
    "kernel": "R",
    "vscode": {
     "languageId": "r"
    }
   },
   "outputs": [],
   "source": [
    "suppressPackageStartupMessages({\n",
    "    library(tidyverse)\n",
    "    library(admixtools)\n",
    "    library(viridis)\n",
    "    library(ape)\n",
    "})"
   ]
  },
  {
   "cell_type": "markdown",
   "id": "c40b7b6c",
   "metadata": {
    "kernel": "SoS"
   },
   "source": [
    "## 1. Dataset exploration\n",
    "\n",
    "The data we are using is a subset of genotype data of modern and ancient humans from the Allen Ancient DNA Resource ([AADR](https://reich.hms.harvard.edu/allen-ancient-dna-resource-aadr-downloadable-genotypes-present-day-and-ancient-dna-data)). \n",
    "\n",
    "Here we read a table containing some minimal metadata for the samples included. The `group_id` column contains the population labels for the individuals included. Modern populations have a suffix `.HO` as they represent SNP genotype data obtained using the Human Origins SNP array. Ancient groups have suffices indicating their age group and/or culture label. For example, groups with suffix `_HG` represent hunter-gatherers, groups with suffix `_N` or similar represent Neolithic populations; and `_BA` or similar represents Bronze Age populations. Finally, the suffix `.SG` represents genome-wide shotgun-sequenced data, whereas all other ancient data has been generated using in-solution capture enrichment at SNP sites."
   ]
  },
  {
   "cell_type": "code",
   "execution_count": null,
   "id": "b474a560",
   "metadata": {
    "kernel": "R",
    "vscode": {
     "languageId": "r"
    }
   },
   "outputs": [],
   "source": [
    "## load sample metadata\n",
    "sample_info <- read_tsv(\"~/data_folder/ho_anc.sample_info.tsv\")\n",
    "head(sample_info)\n",
    "count(sample_info, age_group, group_id) ## population sample sizes per age group\n"
   ]
  },
  {
   "cell_type": "markdown",
   "id": "df00c7aa",
   "metadata": {
    "kernel": "SoS"
   },
   "source": [
    "The pairwise $F_2$ statistics for each population pair has already been pre-computed, allowing for easy use of all other $F$-statistics-based tools using `admixtools`."
   ]
  },
  {
   "cell_type": "code",
   "execution_count": null,
   "id": "543526c1",
   "metadata": {
    "kernel": "R",
    "vscode": {
     "languageId": "r"
    }
   },
   "outputs": [],
   "source": [
    "## load precomputed f2 data\n",
    "## please ignore warning message about negative f2 statistic estimates\n",
    "f2_dir <- \"~/data_folder/f2.ho_anc\"\n",
    "f2_data <- f2_from_precomp(f2_dir)"
   ]
  },
  {
   "cell_type": "markdown",
   "id": "633a834c",
   "metadata": {
    "kernel": "SoS"
   },
   "source": [
    "Let's have a quick look at the populations and number of SNPs included in the pre-computed dataset"
   ]
  },
  {
   "cell_type": "code",
   "execution_count": null,
   "id": "fc51f390",
   "metadata": {
    "kernel": "R",
    "vscode": {
     "languageId": "r"
    }
   },
   "outputs": [],
   "source": [
    "## populations\n",
    "dimnames(f2_data)[1]\n",
    "\n",
    "## number of SNPs\n",
    "count_snps(f2_data)"
   ]
  },
  {
   "cell_type": "markdown",
   "id": "e3126fc7",
   "metadata": {
    "kernel": "SoS"
   },
   "source": [
    "## 2. $F_{2}$ statistics\n",
    "\n",
    "$F_{2}$ statistics provide a distance measure based on genetic drift between pairs of populations. In `admixtools`, pre-computed data is organized in an array with those $F_{2}$ distances between each pair of populations, separate for each genomic block. \n",
    "\n",
    "We can average the pairwise statistics across all blocks to obtain genome-wide distances, and use them to visualize genetic structure between the populations. Here we do that for all modern populations in the dataset, using a heatmap and a neighbor-joining tree."
   ]
  },
  {
   "cell_type": "code",
   "execution_count": null,
   "id": "146af282",
   "metadata": {
    "kernel": "R",
    "vscode": {
     "languageId": "r"
    }
   },
   "outputs": [],
   "source": [
    "## heatmap of f2 distances between modern populations\n",
    "pops <- sample_info %>%\n",
    "    filter(age_group == \"modern\") %>%\n",
    "    distinct(group_id) %>%\n",
    "    pull(group_id)\n",
    "\n",
    "f2_pop <- apply(f2_data[pops, pops, ], 1:2, mean) # average across all blocks\n",
    "diag(f2_pop) <- NA\n",
    "heatmap(f2_pop, scale = \"none\", col = viridis(100), cexCol = 0.5, cexRow = 0.5)\n",
    "\n",
    "## Neighbor-joining tree of f2 distances, root with South African hunter-gatherer population\n",
    "tr <- nj(f2_pop) %>%\n",
    "    root(outgroup = \"Ju_hoan_North.HO\")\n",
    "\n",
    "plot(tr, cex = 0.5, font = 1)"
   ]
  },
  {
   "cell_type": "markdown",
   "id": "8f9ce508",
   "metadata": {
    "kernel": "SoS"
   },
   "source": [
    "Questions:\n",
    "- Which populations show high branch lengths? Why might that be?\n",
    "- Which populations have negative branch lengths? Why might that be?\n",
    "\n",
    "Task: Using the same approach as above, now explore genetic structure of ancient populations\n",
    "- heatmap of $F_2$ distances\n",
    "- NJ, rooted with ancient South African hunter-gatherers (population `South_Africa_1900BP.SG`)\n",
    "\n",
    "Questions:\n",
    "- Which population groups show deepest split in the heatmap clustering? \n",
    "- Which populations have very long branch lengths? Why might that be?"
   ]
  },
  {
   "cell_type": "code",
   "execution_count": null,
   "id": "7843a2f5",
   "metadata": {
    "kernel": "R",
    "vscode": {
     "languageId": "r"
    }
   },
   "outputs": [],
   "source": [
    "## Task"
   ]
  },
  {
   "cell_type": "markdown",
   "id": "38114024",
   "metadata": {
    "kernel": "SoS"
   },
   "source": [
    "## 3. $F_{3}$ statistics \n",
    "\n",
    "In this section we will explore the two main applications of $F_{3}$ statistics: Testing for evidence of admixture, and measuring shared genetic drift."
   ]
  },
  {
   "cell_type": "markdown",
   "id": "6f5c671c",
   "metadata": {
    "kernel": "SoS"
   },
   "source": [
    "### 3.1. Admixture $F_{3}$\n",
    "\n",
    "Admixture $F_{3}$ statistics of the form $F_{3}$(X;A,B) test whether there is evidence for admixture in population X. IF $F_{3}$(X;A,B) < 0, we can conclude that X is admixed with respect to sources related (possibly deeply!) to populations A and B. To gauge whether the test statistic is significantly negative, a block jacknife across all $F_{2}$ blocks is used to estimate standard errors and a corresponding Z-score. \n",
    "\n",
    "In the following example, we use the `qp3pop` function to test whether there is evidence for admixture in African Americans, between Yoruba from Nigeria as one source and all other modern populations as other source."
   ]
  },
  {
   "cell_type": "code",
   "execution_count": null,
   "id": "38cd93b9",
   "metadata": {
    "kernel": "R",
    "vscode": {
     "languageId": "r"
    }
   },
   "outputs": [],
   "source": [
    "## Testing for admixture in African Americans\n",
    "pops_ref <- sample_info %>%\n",
    "    filter(age_group == \"modern\") %>%\n",
    "    distinct(group_id) %>%\n",
    "    pull(group_id)\n",
    "\n",
    "## We use qp3pop here with\n",
    "## African Americans as the admixed population (pop1).\n",
    "## the Yoruba population as one of the reference population (pop2).\n",
    "## and all other modern populations as the second reference population (pop3).\n",
    "f3 <- qp3pop(f2_data, pop1 = \"AfricanAmericans.HO\", pop2 = \"Yoruba.HO\", pop3 = pops_ref) %>%\n",
    "    arrange(est) %>%\n",
    "    mutate(pop3 = fct_reorder(pop3, -est))\n",
    "f3 %>% head()\n",
    "\n",
    "## plotting the results\n",
    "ggplot(f3, aes(x = est, y = pop3)) +\n",
    "    geom_vline(xintercept = 0, linetype = \"dashed\") +\n",
    "    geom_errorbarh(aes(xmin = est - 3 * se, xmax = est + 3 * se), height = 0.2) +\n",
    "    geom_point() +\n",
    "    theme_bw()\n"
   ]
  },
  {
   "cell_type": "markdown",
   "id": "143c1f18",
   "metadata": {
    "kernel": "SoS"
   },
   "source": [
    "Questions:\n",
    "- Is there evidence for admixture in African Americans?\n",
    "- Which populations give significantly negative f3 values?\n",
    "- Can we conclude anything about which likely true non-African source populations?\n",
    "\n",
    "Task: Using the same approach as above, now test for admixture in modern target populations using Yamanaya pastoralists from the Eurasian Steppe (`Russia_Samara_EBA_Yamnaya`) and early European farmers (`Germany_EN_LBK`) as source populations\n",
    "\n",
    "Questions:\n",
    "- Is there evidence for admixture?\n",
    "- Do any European populations have non-significant result? If so, how can we interpret that?"
   ]
  },
  {
   "cell_type": "code",
   "execution_count": null,
   "id": "1acd38fb",
   "metadata": {
    "kernel": "R",
    "vscode": {
     "languageId": "r"
    }
   },
   "outputs": [],
   "source": [
    "## Task"
   ]
  },
  {
   "cell_type": "markdown",
   "id": "ae22d640",
   "metadata": {
    "kernel": "SoS"
   },
   "source": [
    "### 3.2. Outgroup $F_{3}$\n",
    "\n",
    "In outgroup $F_{3}$ statistics of the form $F_{3}$(O;A,B) the target population X from the admixture test is replaced by a known outgroup population O to (A,B). The result of $F_{3}$(O;A,B) is then are a measure of the genetic drift shared between A and B from their common ancestor to the outgroup O.\n",
    "\n",
    "In the following example, we use the `qp3pop` function to test estimate genetic drift shared between Sardinians and other modern populations, using an African hunter-gatherer population (Mbuti) as outgroup."
   ]
  },
  {
   "cell_type": "code",
   "execution_count": null,
   "id": "6a3955fd",
   "metadata": {
    "kernel": "R",
    "vscode": {
     "languageId": "r"
    }
   },
   "outputs": [],
   "source": [
    "## Use outgroup f3 to estimate genetic drift shared between Sardinians and other modern populations\n",
    "pops_ref <- sample_info %>%\n",
    "    filter(age_group == \"modern\") %>%\n",
    "    distinct(group_id) %>%\n",
    "    pull(group_id)\n",
    "\n",
    "## We use qp3pop here with\n",
    "## Mbuti as the outgroup population (pop1).\n",
    "## Sardinians as our test population (pop2).\n",
    "## and all other modern populations as the reference population (pop3).\n",
    "f3 <- qp3pop(f2_data, pop1 = \"Mbuti.HO\", pop2 = \"Sardinian.HO\", pop3 = pops_ref) %>%\n",
    "    filter(pop2 != pop3) %>%\n",
    "    slice_max(est, n = 20) %>%\n",
    "    arrange(desc(est)) %>%\n",
    "    mutate(pop3 = fct_reorder(pop3, est))\n",
    "f3\n",
    "\n",
    "ggplot(f3, aes(x = est, y = pop3)) +\n",
    "    geom_errorbarh(aes(xmin = est - 3 * se, xmax = est + 3 * se), height = 0.2) +\n",
    "    geom_point() +\n",
    "    theme_bw()"
   ]
  },
  {
   "cell_type": "markdown",
   "id": "a0889f0d",
   "metadata": {
    "kernel": "SoS"
   },
   "source": [
    "Questions:\n",
    "- Which modern population shares most drift with Sardinians?\n",
    "\n",
    "Task: Using the same approach as above, now also include ancient populations in the analysis for (`pop3`)\n",
    "\n",
    "Questions:\n",
    "- Which populations now share most drift with Sardinians?\n",
    "- What do they have in common?"
   ]
  },
  {
   "cell_type": "code",
   "execution_count": null,
   "id": "659eb886",
   "metadata": {
    "kernel": "R",
    "vscode": {
     "languageId": "r"
    }
   },
   "outputs": [],
   "source": [
    "## Task"
   ]
  },
  {
   "cell_type": "markdown",
   "id": "2e9995cb",
   "metadata": {
    "kernel": "SoS"
   },
   "source": [
    "## 4. $F_{4}$ statistics \n",
    "\n",
    "In this section we will explore the two related applications of $F_{4}$ statistics: Testing for treeness and symmetry tests."
   ]
  },
  {
   "cell_type": "markdown",
   "id": "7bd2fa3f",
   "metadata": {
    "kernel": "SoS"
   },
   "source": [
    "### 4.1. Treeness test\n",
    "\n",
    "Statistics of the form $F_{4}$(A,B;C,D) test whether four populations A,B,C,D are related through a simple unrooted tree. If $F_{4}$(A,B;C,D) = 0, and the results for the other two configurations are $F_{4}$(A,C;B,D)>0 and $F_{4}$(A,D;B,C)>0, a simple tree ((A,B)(C,D)) without gene flow is supported. If all three configurations are different from zero, a simple tree is rejected and gene flow must have occured.\n",
    "\n",
    "D-statistics are closely related to these $F_{4}$ statistics, differing only by a scaling factor.\n",
    "\n",
    "In the following example, we use `qpdstat` to test whether two African populations (Mbuti hunter-gatherers and Yoruba from Nigeria) form a clade with respect to two ancient European populations: Yamanaya pastoralists from the Eurasian Steppe (`Russia_Samara_EBA_Yamnaya`) and early European farmers (`Germany_EN_LBK`)"
   ]
  },
  {
   "cell_type": "code",
   "execution_count": null,
   "id": "4f34a9ee",
   "metadata": {
    "kernel": "R",
    "vscode": {
     "languageId": "r"
    }
   },
   "outputs": [],
   "source": [
    "pops_test <- \"Yoruba.HO\"\n",
    "\n",
    "## here we use the `qpdstat` function to compute the three configurations of f4 statistics for the given populations\n",
    "## 1) f4(Mbuti, Yoruba; Yamnaya, LBK)\n",
    "## 2) f4(Mbuti, Yamnaya; Yoruba, LBK)\n",
    "## 3) f4(Mbuti, LBK; Yoruba, Yamnaya)\n",
    "r <- map_dfr(pops_test, ~ {\n",
    "    r1 <- qpdstat(f2_data, pop1 = \"Mbuti.HO\", pop2 = .x, pop3 = \"Russia_Samara_EBA_Yamnaya\", pop4 = \"Germany_EN_LBK\")\n",
    "    r2 <- qpdstat(f2_data, pop1 = \"Mbuti.HO\", pop2 = \"Russia_Samara_EBA_Yamnaya\", pop3 = .x, pop4 = \"Germany_EN_LBK\")\n",
    "    r3 <- qpdstat(f2_data, pop1 = \"Mbuti.HO\", pop2 = \"Germany_EN_LBK\", pop3 = .x, pop4 = \"Russia_Samara_EBA_Yamnaya\")\n",
    "    bind_rows(r1, r2, r3) %>%\n",
    "        mutate(test_pop = .x)\n",
    "})\n",
    "r"
   ]
  },
  {
   "cell_type": "markdown",
   "id": "50ddce30",
   "metadata": {
    "kernel": "SoS"
   },
   "source": [
    "Questions:\n",
    "- Does the test support treeness of the two African populations with respect to the two ancient European populations?\n",
    "\n",
    "Task: Using the same approach as above, replace Yoruba with the Maasai (`Masai.HO`), a nomadic pastoralist population from East Africa\n",
    "\n",
    "Questions:\n",
    "- Does the test support treeness of the Maasai and Mbuti with respect to the two ancient European populations?\n",
    "- If not, what gene flow could explain the results?"
   ]
  },
  {
   "cell_type": "code",
   "execution_count": null,
   "id": "cc991efc",
   "metadata": {
    "kernel": "R",
    "vscode": {
     "languageId": "r"
    }
   },
   "outputs": [],
   "source": [
    "## Task"
   ]
  },
  {
   "cell_type": "markdown",
   "id": "2b4b4551",
   "metadata": {
    "kernel": "SoS"
   },
   "source": [
    "### 4.2. Symmetry test\n",
    "In case we have a known outgroup O, we can use statistics of the form $F_{4}$(O,B;C,D) test whether population B is symmetrically related to populations (C,D). In the following example we check whether modern populations are symmetrically related to Yamnaya and early farmers, using the Mbuti as outgroup."
   ]
  },
  {
   "cell_type": "code",
   "execution_count": null,
   "id": "3957e410",
   "metadata": {
    "kernel": "R",
    "vscode": {
     "languageId": "r"
    }
   },
   "outputs": [],
   "source": [
    "pops_test <- sample_info %>%\n",
    "    filter(age_group == \"modern\") %>%\n",
    "    distinct(group_id) %>%\n",
    "    pull(group_id)\n",
    "\n",
    "## here we use the `qpdstat` function to check whether our modern test populations \n",
    "## are symmetrically related to Yamnaya and LBK\n",
    "## f4(Mbuti, Test population; Yamnaya, LBK)\n",
    "f4 <- qpdstat(f2_data, pop1 = \"Mbuti.HO\", pop2 = pops_test, pop3 = \"Russia_Samara_EBA_Yamnaya\", pop4 = \"Germany_EN_LBK\") %>%\n",
    "    arrange(est) %>%\n",
    "    mutate(pop2 = fct_reorder(pop2, est))\n",
    "f4\n",
    "\n",
    "## plot results\n",
    "ggplot(f4, aes(x = est, y = pop2)) +\n",
    "    geom_vline(xintercept = 0, linetype = \"dashed\") +\n",
    "    geom_errorbarh(aes(xmin = est - 3 * se, xmax = est + 3 * se), height = 0.2) +\n",
    "    geom_point() +\n",
    "    theme_bw()"
   ]
  },
  {
   "cell_type": "markdown",
   "id": "0e855b2c",
   "metadata": {
    "kernel": "SoS"
   },
   "source": [
    "Questions:\n",
    "- Which populations share more drift with early farmers?\n",
    "- Which populations share more drift with Yamnaya?\n",
    "- Which populations are symmetrically related? Does that mean they form a clade with the outgroup?"
   ]
  },
  {
   "cell_type": "markdown",
   "id": "72e16b3e",
   "metadata": {
    "kernel": "SoS"
   },
   "source": [
    "## 5. *qpAdm*\n",
    "\n",
    "In the final part of the exercises we will explore how to estimate admixture proportions using *qpAdm*, a phylogeny-free approach based on sets of $F_4$ statistics between three groups of populations:\n",
    "\n",
    "- a \"target\" population for which we want to estimate admixture proportions\n",
    "- \"source\" or \"left\" populations which can potentially contribute ancestry to the \"target\"\n",
    "- \"outgroup\" or \"right\" populations, differentially related to the \"source\" and \"target\" groups\n",
    "\n",
    "The choice of \"right\" populations has important impact on the results, as differentially shared genetic drift with both \"source\" and \"target\" populations are the signal that *qpAdm* uses to test for admixture and estimate proportions.\n",
    "\n",
    "In the following example, we explore the established three ancestral population model of Europe (hunter-gatherers, farmers and Steppe) on modern English as a target."
   ]
  },
  {
   "cell_type": "code",
   "execution_count": null,
   "id": "da2db1e5",
   "metadata": {
    "kernel": "R",
    "vscode": {
     "languageId": "r"
    }
   },
   "outputs": [],
   "source": [
    "## model a European target populations as 3 pop model (HG/farmer/Yamnaya)\n",
    "\n",
    "## define right populations. These include\n",
    "## 1) South African hunter-gatherer population\n",
    "## 2) Ust-Ishim hunter-gatherer population\n",
    "## 3) Kostenki14 Upper Paleolithic European hunter-gatherer population\n",
    "## 4) Karelia Mesolithic European hunter-gatherer population\n",
    "## 5) Anatolian Neolithic farmer population\n",
    "## 6) Kotias Upper Paleolithic Caucasus hunter-gatherer population\n",
    "\n",
    "right <- c(\n",
    "    \"South_Africa_1900BP.SG\", \"Russia_Ust_Ishim_HG.DG\",\n",
    "    \"Russia_Kostenki14.SG\", \"Russia_Karelia_HG.SG\", \n",
    "    \"Turkey_N.SG\", \"Georgia_Kotias.SG\")\n",
    "\n",
    "## define left populations. These include\n",
    "## 1) Germany LBK Neolithic farmer population\n",
    "## 2) Russia Samara EBA Yamnaya population\n",
    "## 3) Hungary Koros Neolithic hunter-gatherer population\n",
    "\n",
    "left <- c(\"Germany_EN_LBK\", \"Russia_Samara_EBA_Yamnaya\", \"Hungary_EN_HG_Koros\")\n",
    "\n",
    "## define target population\n",
    "target <- \"English.HO\"\n",
    "\n",
    "## here we use the `qpadm` function to compute admixture weights for the 3-population model\n",
    "res <- qpadm(f2_data, left, right, target)\n",
    "\n",
    "## results of admixture weights for 3 pop model\n",
    "res$weights\n",
    "\n",
    "## results of nested models 1 and 2 population models with remining source population contribution forced to 0\n",
    "res$popdrop\n",
    "\n",
    "# please ignore warning: solve(): system is singular; attempting approx solution"
   ]
  },
  {
   "cell_type": "markdown",
   "id": "8068e36c",
   "metadata": {
    "kernel": "SoS"
   },
   "source": [
    "We can explore two components of the results. \n",
    "\n",
    "The `weights` component contains the final estimated admixture proportions for the three population model. \n",
    "\n",
    "Questions: \n",
    "- Which population has the highest contribution?\n",
    "\n",
    "The `popdrop` component contains result contrasting the full three populations model to different nested models with less source populations. For example, the row with pattern (`pat`) `001` shows proportions and model fit for a nested model where the third source population contribution (`Hungary_EN_HG_Koros` in this model) is forced to zero.\n",
    "\n",
    "Questions: \n",
    "- Are models with fewer source populations also supported (check columns `chisq` and `p` for model fit)\n",
    "- If so which populations are included there?\n",
    "\n",
    "Task: \n",
    "Apply the same model to Sardinians as target population.\n",
    "\n",
    "Questions:\n",
    "- Which model is best supported?\n",
    "- What are the admixture proportions?\n",
    "- Do Sardinians have Steppe ancestry?"
   ]
  },
  {
   "cell_type": "code",
   "execution_count": null,
   "id": "b5359dbd",
   "metadata": {
    "kernel": "R",
    "vscode": {
     "languageId": "r"
    }
   },
   "outputs": [],
   "source": [
    "## Task"
   ]
  },
  {
   "cell_type": "markdown",
   "id": "d5728b7f",
   "metadata": {
    "kernel": "SoS"
   },
   "source": [
    "## 6. Free exercise - Explore admixture in Czech population history\n",
    "\n",
    "The example dataset contains a large temporal transect of different ancient populatins from present-day Czech republic and their modern counterpart. Time permitting, explore their relationships using the tools learned here."
   ]
  },
  {
   "cell_type": "code",
   "execution_count": null,
   "id": "8a91335a",
   "metadata": {
    "kernel": "R",
    "vscode": {
     "languageId": "r"
    }
   },
   "outputs": [],
   "source": []
  }
 ],
 "metadata": {
  "kernelspec": {
   "display_name": "SoS",
   "language": "sos",
   "name": "sos"
  },
  "language_info": {
   "codemirror_mode": "sos",
   "file_extension": ".sos",
   "mimetype": "text/x-sos",
   "name": "sos",
   "nbconvert_exporter": "sos_notebook.converter.SoS_Exporter",
   "pygments_lexer": "sos"
  },
  "sos": {
   "kernels": [
    [
     "Calysto Bash",
     "calysto_bash",
     "bash",
     "",
     ""
    ],
    [
     "R",
     "ir",
     "R",
     "",
     "r"
    ]
   ],
   "panel": {
    "displayed": true,
    "height": 0
   },
   "version": "0.24.1"
  }
 },
 "nbformat": 4,
 "nbformat_minor": 5
}
