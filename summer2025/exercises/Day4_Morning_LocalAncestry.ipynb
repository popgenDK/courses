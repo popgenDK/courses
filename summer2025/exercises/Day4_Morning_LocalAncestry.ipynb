{
 "cells": [
  {
   "cell_type": "markdown",
   "id": "2d42f503",
   "metadata": {
    "kernel": "SoS"
   },
   "source": [
    "# Population genetics summer course 2025, Denmark\n",
    "\n",
    "# Local Ancestry Inference Exercise"
   ]
  },
  {
   "cell_type": "markdown",
   "id": "feeeb991",
   "metadata": {
    "kernel": "SoS"
   },
   "source": [
    "## Setup Environment"
   ]
  },
  {
   "cell_type": "code",
   "execution_count": null,
   "id": "61ac9b30",
   "metadata": {
    "kernel": "Calysto Bash"
   },
   "outputs": [],
   "source": [
    "COURSE_PATH=/course/popgen25\n",
    "DATA_PATH=${COURSE_PATH}/LocalAncestry\n",
    "SOFTWARE_PATH=${COURSE_PATH}/software\n",
    "\n",
    "# go to working folder\n",
    "mkdir -p ~/popgen25_localancestry\n",
    "cd ~/popgen25_localancestry\n",
    "\n",
    "\n",
    "ln -sfn ~/popgen25_localancestry ~/current_folder\n",
    "ln -sfn ${DATA_PATH} ~/data_folder\n"
   ]
  },
  {
   "cell_type": "code",
   "execution_count": null,
   "id": "a3491498",
   "metadata": {
    "kernel": "Calysto Bash"
   },
   "outputs": [],
   "source": [
    "\n",
    "FLARE=${SOFTWARE_PATH}/flare.jar\n",
    "MOSAIC=${SOFTWARE_PATH}/mosaic.R\n",
    "\n",
    "which bcftools\n",
    "\n",
    "ls ${FLARE}\n",
    "ls ${MOSAIC}\n"
   ]
  },
  {
   "cell_type": "markdown",
   "id": "0d8b06eb",
   "metadata": {
    "kernel": "Calysto Bash"
   },
   "source": [
    "## Exercise"
   ]
  },
  {
   "cell_type": "markdown",
   "id": "dbf07fc9",
   "metadata": {
    "kernel": "SoS"
   },
   "source": [
    "#### For this practical we will infer local ancestry in simulated data using two methods: FLARE and MOSAIC. We will compare the outputs from the two methods for different demographic models and show how their performance may differ. "
   ]
  },
  {
   "cell_type": "markdown",
   "id": "8a3b10de",
   "metadata": {
    "kernel": "SoS"
   },
   "source": [
    "We will use simulated data from two toy models, with gene flow happening either at 20 or 200 generations ago.\n",
    "\n",
    "If you're interested in how the data was simulated, please refer to the slendr R package: https://slendr.net/index.html\n",
    "\n",
    "Let's take a look at the demographic model based on which we simulated genetic data.\n",
    "\n",
    "One ancestral population \"pop\" splits into two populations (pop_b and pop_c) 1500 generations ago. At 400 generations ago, pop_mix splits from pop_b, and then subsequent gene flow occurs from pop_c into pop_mix either 20 or 200 generations ago."
   ]
  },
  {
   "cell_type": "markdown",
   "id": "7fba2c47",
   "metadata": {
    "kernel": "SoS"
   },
   "source": [
    "##### Gene flow from pop_c into pop_mix 20 generations ago:"
   ]
  },
  {
   "cell_type": "code",
   "execution_count": null,
   "id": "b39c6fa2",
   "metadata": {
    "kernel": "Python 3 (ipykernel)"
   },
   "outputs": [],
   "source": [
    "\n",
    "import os\n",
    "from IPython.display import Image\n",
    "Image(filename=os.path.expanduser('~/data_folder/model_gen_adm_20.png'))\n"
   ]
  },
  {
   "cell_type": "markdown",
   "id": "2f71eafd",
   "metadata": {
    "kernel": "SoS"
   },
   "source": [
    "##### Gene flow from pop_c into pop_mix 200 generations ago:"
   ]
  },
  {
   "cell_type": "code",
   "execution_count": null,
   "id": "da46d703",
   "metadata": {
    "kernel": "Python 3 (ipykernel)"
   },
   "outputs": [],
   "source": [
    "\n",
    "import os\n",
    "from IPython.display import Image\n",
    "Image(filename=os.path.expanduser('~/data_folder/model_gen_adm_200.png'))\n"
   ]
  },
  {
   "cell_type": "markdown",
   "id": "5a53889a",
   "metadata": {
    "kernel": "SoS"
   },
   "source": [
    "##### Let's have a look at the files available for each scenario"
   ]
  },
  {
   "cell_type": "code",
   "execution_count": null,
   "id": "19d58e42",
   "metadata": {
    "kernel": "Calysto Bash"
   },
   "outputs": [],
   "source": [
    "\n",
    "ls ~/data_folder/model*\n"
   ]
  },
  {
   "cell_type": "markdown",
   "id": "932141e4",
   "metadata": {
    "kernel": "SoS"
   },
   "source": [
    "##### Focusing on the scenario where gene flow happens 20 generation ago, let's take a look at the metadata file"
   ]
  },
  {
   "cell_type": "code",
   "execution_count": null,
   "id": "e6fb4432",
   "metadata": {
    "kernel": "Calysto Bash",
    "scrolled": false
   },
   "outputs": [],
   "source": [
    "\n",
    "cat ~/data_folder/model_gen_adm_20_meta.tsv"
   ]
  },
  {
   "cell_type": "markdown",
   "id": "deb33a60",
   "metadata": {
    "kernel": "SoS"
   },
   "source": [
    "#### Q: How many samples are taken at each time point and population?"
   ]
  },
  {
   "cell_type": "code",
   "execution_count": null,
   "id": "56392d8d",
   "metadata": {
    "kernel": "R"
   },
   "outputs": [],
   "source": [
    "\n",
    "suppressMessages(library(dplyr))\n",
    "\n",
    "meta <- read.delim('~/data_folder/model_gen_adm_20_meta.tsv')\n",
    "meta %>% \n",
    "    group_by(time, pop) %>%\n",
    "    tally()"
   ]
  },
  {
   "cell_type": "markdown",
   "id": "42a8126f",
   "metadata": {
    "kernel": "SoS"
   },
   "source": [
    "##### Let's do the same for the scenario with gene flow happening 200 generations ago:"
   ]
  },
  {
   "cell_type": "code",
   "execution_count": null,
   "id": "60e84a35",
   "metadata": {
    "kernel": "R"
   },
   "outputs": [],
   "source": [
    "\n",
    "suppressMessages(library(dplyr))\n",
    "\n",
    "meta <- read.delim('~/data_folder/model_gen_adm_200_meta.tsv')\n",
    "meta %>% \n",
    "    group_by(time, pop) %>%\n",
    "    tally()"
   ]
  },
  {
   "cell_type": "markdown",
   "id": "65a76206",
   "metadata": {
    "kernel": "SoS"
   },
   "source": [
    "We can see that in both demographic scenarios, we have 10 individuals from pop_mix from one time point (0=present), and 50 from pop_b and 50 from pop_c from two different time points (0 and 1200 generations ago)."
   ]
  },
  {
   "cell_type": "markdown",
   "id": "c418954e",
   "metadata": {
    "kernel": "SoS"
   },
   "source": [
    "Let's focus a bit on the sources sampled at two different time points, 0 and 1200 generations before present. Specifically, let's see how differentiated pop_b and pop_c are in each case. "
   ]
  },
  {
   "cell_type": "markdown",
   "id": "a0754e4e",
   "metadata": {
    "kernel": "SoS"
   },
   "source": [
    "##### From the simulated data, we have estimated FST values between pop_b and pop_c at both time points. (Remember FST?!) Let's load the estimates and take a look:"
   ]
  },
  {
   "cell_type": "code",
   "execution_count": null,
   "id": "004a7c66",
   "metadata": {
    "kernel": "Calysto Bash"
   },
   "outputs": [],
   "source": [
    "\n",
    "cat ~/data_folder/model_gen_adm_20_fst.tsv"
   ]
  },
  {
   "cell_type": "markdown",
   "id": "ec26d05f",
   "metadata": {
    "kernel": "SoS"
   },
   "source": [
    "#### Q: Do the fst values differ? Why?"
   ]
  },
  {
   "cell_type": "markdown",
   "id": "5fdb8003",
   "metadata": {
    "kernel": "SoS"
   },
   "source": [
    "Let's keep this difference in the back of our minds for a bit, it might come in handy again later in the exercise. "
   ]
  },
  {
   "cell_type": "markdown",
   "id": "b3303ebf",
   "metadata": {
    "kernel": "SoS"
   },
   "source": [
    "##### Time to dive into the true ancestry tracks from the two scenarios. Let's load the tracts for each:"
   ]
  },
  {
   "cell_type": "code",
   "execution_count": null,
   "id": "41ff8c9b",
   "metadata": {
    "kernel": "Calysto Bash",
    "scrolled": false
   },
   "outputs": [],
   "source": [
    "\n",
    "cat ~/data_folder/model_gen_adm_20_tracts.tsv"
   ]
  },
  {
   "cell_type": "code",
   "execution_count": null,
   "id": "695c598a",
   "metadata": {
    "kernel": "Calysto Bash",
    "scrolled": false
   },
   "outputs": [],
   "source": [
    "\n",
    "cat ~/data_folder/model_gen_adm_200_tracts.tsv"
   ]
  },
  {
   "cell_type": "markdown",
   "id": "80ccdfd6",
   "metadata": {
    "kernel": "SoS"
   },
   "source": [
    "Ok, this seems like a lot of numbers. Let's make a plot so that it's easier to the eye.\n",
    "\n",
    "##### Plot the true ancestry tracts with gene flow happening 20 generations ago:"
   ]
  },
  {
   "cell_type": "code",
   "execution_count": null,
   "id": "f5dc9ba1",
   "metadata": {
    "kernel": "R"
   },
   "outputs": [],
   "source": [
    "\n",
    "library(ggplot2)\n",
    "suppressMessages(library(dplyr))\n",
    "options(scipen=999)\n",
    "\n",
    "tracts_20 <- read.delim('~/data_folder/model_gen_adm_20_tracts.tsv')\n",
    "\n",
    "values = c(\"pop_b\" = \"green4\", \n",
    "           \"pop_c\" = \"cadetblue3\")\n",
    "\n",
    "tracts_20 %>%\n",
    "  mutate(chrom = paste(name, \" (node\", node_id, \")\")) %>%\n",
    "  ggplot(aes(x = left, xend = right, y = chrom, yend = chrom, color = source_pop)) +\n",
    "  geom_segment(linewidth = 5) +\n",
    "  scale_colour_manual(values = values, name=\"Source population\") + \n",
    "  theme_minimal() +\n",
    "  theme(axis.text.y = element_blank(), \n",
    "        panel.grid = element_blank(),\n",
    "        legend.position = 'bottom',\n",
    "        strip.text.y = element_text(size = 6)) +\n",
    "  labs(x = \"Position (bp)\", y = \"Haplotypes\") +\n",
    "  ggtitle(\"True ancestry tracts for gene flow happening 20 generations ago\") +\n",
    "  facet_grid(name ~ ., scales = \"free_y\")\n"
   ]
  },
  {
   "cell_type": "markdown",
   "id": "6c2f45eb",
   "metadata": {
    "kernel": "SoS"
   },
   "source": [
    "Each row is an individual from pop_mix with its two haplotypes. The colour of each segment indicates the ancestry from which it came from (either pop_b or pop_c)."
   ]
  },
  {
   "cell_type": "markdown",
   "id": "36408a41",
   "metadata": {
    "kernel": "SoS"
   },
   "source": [
    "##### Now looking at gene flow happening 200 generations ago:"
   ]
  },
  {
   "cell_type": "code",
   "execution_count": null,
   "id": "9cff6ecf",
   "metadata": {
    "kernel": "R"
   },
   "outputs": [],
   "source": [
    "\n",
    "library(ggplot2)\n",
    "suppressMessages(library(dplyr))\n",
    "options(scipen=999)\n",
    "\n",
    "tracts_200 <- read.delim('~/data_folder/model_gen_adm_200_tracts.tsv')\n",
    "\n",
    "values = c(\"pop_b\" = \"green4\", \n",
    "           \"pop_c\" = \"cadetblue3\")\n",
    "\n",
    "tracts_200 %>%\n",
    "  mutate(chrom = paste(name, \" (node\", node_id, \")\")) %>%\n",
    "  ggplot(aes(x = left, xend = right, y = chrom, yend = chrom, color = source_pop)) +\n",
    "  geom_segment(linewidth = 5) +\n",
    "  scale_colour_manual(values = values, name=\"Source population\") + \n",
    "  theme_minimal() +\n",
    "  theme(axis.text.y = element_blank(), \n",
    "        panel.grid = element_blank(),\n",
    "        legend.position = 'bottom',\n",
    "        strip.text.y = element_text(size = 6)) +\n",
    "  labs(x = \"Position (bp)\", y = \"Haplotypes\") +\n",
    "  ggtitle(\"True ancestry tracts for gene flow happening 200 generations ago\") +\n",
    "  facet_grid(name ~ ., scales = \"free_y\")\n"
   ]
  },
  {
   "cell_type": "markdown",
   "id": "3a4ae615",
   "metadata": {
    "kernel": "SoS"
   },
   "source": [
    "#### Q: What difference do we see in the tracts in each case? Why?"
   ]
  },
  {
   "cell_type": "markdown",
   "id": "7365bdfa",
   "metadata": {
    "kernel": "SoS"
   },
   "source": [
    "##### Let's look at the track length distribution:"
   ]
  },
  {
   "cell_type": "code",
   "execution_count": null,
   "id": "6dd8b66d",
   "metadata": {
    "kernel": "R"
   },
   "outputs": [],
   "source": [
    "\n",
    "tracts <- rbind(tracts_20, tracts_200)\n",
    "\n",
    "tracts$adm_time_f = factor(tracts$adm_time, levels=c('20', '200'))\n",
    "\n",
    "ggplot(tracts) +\n",
    "  geom_histogram(\n",
    "    aes(x = length, fill=source_pop),\n",
    "    binwidth = 100000, alpha = 0.75\n",
    "  ) +\n",
    "  labs(\n",
    "    x = \"Tract length (bp)\", y = \"Density\",\n",
    "    title = \"Tract length distribution\"\n",
    "  ) +\n",
    "  scale_x_continuous(labels = scales::comma) +\n",
    "  scale_fill_manual(values = values) + \n",
    "  theme_bw() +\n",
    "  theme(legend.position = \"none\", \n",
    "        title =element_text(size=9),\n",
    "        axis.text=element_text(size=9)) +  \n",
    "  facet_grid(adm_time_f~source_pop, scales = \"free_y\")\n"
   ]
  },
  {
   "cell_type": "markdown",
   "id": "c007ed50",
   "metadata": {
    "kernel": "SoS"
   },
   "source": [
    "#### Q: Is this what we would expect? How come do we always have longer tracts of pop_b ancestry relative to pop_c tracts?"
   ]
  },
  {
   "cell_type": "markdown",
   "id": "55b347a3",
   "metadata": {
    "kernel": "SoS"
   },
   "source": [
    "### Now let's test some LAI methods. For this exercise, we will use FLARE (Browning et al., 2023) and MOSAIC (Salter-Townshend & Myers, 2019)."
   ]
  },
  {
   "cell_type": "markdown",
   "id": "594c931a",
   "metadata": {
    "kernel": "SoS"
   },
   "source": [
    "The point of this exercise is to see how LAI method performance may vary depending on different aspects of our data, such as sample sizes and how far back the admixture time is.  \n",
    "\n",
    "You will find the files needed for each software in the following folders:"
   ]
  },
  {
   "cell_type": "code",
   "execution_count": null,
   "id": "6dd94f10",
   "metadata": {
    "kernel": "Calysto Bash"
   },
   "outputs": [],
   "source": [
    "\n",
    "ls -1 ~/data_folder/FLARE/\n",
    "\n",
    "echo \"\"\n",
    "\n",
    "ls -1 ~/data_folder/MOSAIC/"
   ]
  },
  {
   "cell_type": "markdown",
   "id": "cd6c2776",
   "metadata": {
    "kernel": "SoS"
   },
   "source": [
    "#### Following the demographic scenarios pictured at the beginning of the exercise, we will infer local ancestry in target individuals from the pop_mix population, using samples from the pop_b and pop_c populations as sources. We will first focus on the case where gene flow happened 20 generations ago, using 20 samples from each of the two source populations (pop_b and pop_c) to \"paint\" the genomes of 10 individuals in the target population (pop_mix). Both source and target samples are sampled from the present (0 generations ago). We'll look at the results from the other scenarios later on."
   ]
  },
  {
   "cell_type": "markdown",
   "id": "9b69ee9f",
   "metadata": {
    "kernel": "SoS"
   },
   "source": [
    "### LAI using FLARE"
   ]
  },
  {
   "cell_type": "markdown",
   "id": "3847ebe0",
   "metadata": {
    "kernel": "SoS"
   },
   "source": [
    "##### FLARE is a recently developed LAI method, that has been tailored to run on large datasets with reduced computational time. Let's take a look at the input files needed:"
   ]
  },
  {
   "cell_type": "code",
   "execution_count": null,
   "id": "50becdc5",
   "metadata": {
    "kernel": "Calysto Bash"
   },
   "outputs": [],
   "source": [
    "ls -1 ~/data_folder/FLARE/gen_adm_20_source_20_source_time_0/"
   ]
  },
  {
   "cell_type": "markdown",
   "id": "4a6c6827",
   "metadata": {
    "kernel": "SoS"
   },
   "source": [
    "##### Let's look at each of the files in more detail:"
   ]
  },
  {
   "cell_type": "code",
   "execution_count": null,
   "id": "37820631",
   "metadata": {
    "kernel": "Calysto Bash"
   },
   "outputs": [],
   "source": [
    "\n",
    "adm20_flare=~/data_folder/FLARE/gen_adm_20_source_20_source_time_0/\n",
    "\n",
    "#model_gen_adm_20_filt.vcf.gz: simulated VCF\n",
    "\n",
    "#model_gen_adm_20-genetic_map.txt: genetic map with the following columns: chromosome, rs# or sno identifier, genetic distance (cM units), base-pair position\n",
    "echo model_gen_adm_20-genetic_map.txt\n",
    "head ${adm20_flare}/model_gen_adm_20-genetic_map.txt \n",
    "echo \"\"\n",
    "\n",
    "#source_name_pop_gen_adm_20_source_20_source_time_0.txt: file containing the source sample names (first column) and their population (second column)\n",
    "echo source_name_pop_gen_adm_20_source_20_source_time_0.txt\n",
    "head ${adm20_flare}/source_name_pop_gen_adm_20_source_20_source_time_0.txt\n",
    "echo \"\"\n",
    "\n",
    "#target_name_gen_adm_20_source_20_source_time_0.txt: file with target sample names (from pop_mix)\n",
    "echo target_name_gen_adm_20_source_20_source_time_0.txt\n",
    "head ${adm20_flare}/target_name_gen_adm_20_source_20_source_time_0.txt\n"
   ]
  },
  {
   "cell_type": "markdown",
   "id": "a3c732d4",
   "metadata": {
    "kernel": "SoS"
   },
   "source": [
    "#####  Time to run FLARE (this might take a few minutes)"
   ]
  },
  {
   "cell_type": "code",
   "execution_count": null,
   "id": "bae75ff0",
   "metadata": {
    "kernel": "Calysto Bash"
   },
   "outputs": [],
   "source": [
    "\n",
    "# Specify parameters\n",
    "\n",
    "# Admixture time (generations before present)\n",
    "GEN_ADM=20\n",
    "\n",
    "# Number of samples from each source population\n",
    "SOURCE=20\n",
    "\n",
    "# Time point from which source samples were taken from (generations before present)\n",
    "SOURCE_TIME=0\n",
    "\n",
    "# Specify output path\n",
    "FOLDER=~/data_folder/FLARE/gen_adm_${GEN_ADM}_source_${SOURCE}_source_time_${SOURCE_TIME}\n",
    "\n",
    "# Specify input files\n",
    "MAP=${FOLDER}/model_gen_adm_${GEN_ADM}-genetic_map.txt # Plink format genetic map\n",
    "VCF=${FOLDER}/model_gen_adm_${GEN_ADM}_filt.vcf.gz # VCF with target and source samples\n",
    "SOURCE_LIST=${FOLDER}/source_name_pop_gen_adm_${GEN_ADM}_source_${SOURCE}_source_time_${SOURCE_TIME}.txt # two column file with source sample names and source population name\n",
    "TARGET_LIST=${FOLDER}/target_name_gen_adm_${GEN_ADM}_source_20_source_time_0.txt # file with target sample names (considered one population)\n",
    "\n",
    "# Make output folder if not present\n",
    "if [ ! -d ~/current_folder/flare_out ]; then\n",
    "    mkdir -p ~/current_folder/flare_out\n",
    "fi\n",
    "\n",
    "# Prefix for output files\n",
    "PREFIX=~/current_folder/flare_out/gen_adm_${GEN_ADM}_source_${SOURCE}_source_time_${SOURCE_TIME}-output\n",
    "\n",
    "# Run FLARE\n",
    "java -Xmx500g -jar ${FLARE} \\\n",
    "ref=${VCF} \\\n",
    "ref-panel=${SOURCE_LIST} \\\n",
    "gt=${VCF} \\\n",
    "map=${MAP} \\\n",
    "gt-samples=${TARGET_LIST} \\\n",
    "gen=${GEN_ADM} \\\n",
    "out=${PREFIX} \\\n",
    "min-mac=1 \\\n",
    "probs=true \\\n",
    "nthreads=4\n",
    "\n",
    "# index anc.vcf.gz output file\n",
    "bcftools index -f ~/current_folder/flare_out/gen_adm_${GEN_ADM}_source_${SOURCE}_source_time_${SOURCE_TIME}-output.anc.vcf.gz\n",
    "\n",
    "# What each option represents:\n",
    "# java -Xmx500g -jar programmes/flare.jar \\\n",
    "# ref: VCF file with source (reference) samples\n",
    "# ref-panel: two column file with source sample names and source population name\n",
    "# gt: VCF with target samples\n",
    "# map: Plink format genetic map\n",
    "# gt-samples: file with target sample names (considered one population)\n",
    "# gen: number of generations since admixture (default is 10 if not specified)\n",
    "# out: output file prefix\n",
    "# min-mac: minimum minor allele count in the ref VCF\n",
    "# probs: specified whether the posterior probabilities are reported\n",
    "# nthreads: number of computational threads"
   ]
  },
  {
   "cell_type": "markdown",
   "id": "77331bc0",
   "metadata": {
    "kernel": "SoS"
   },
   "source": [
    "#####  Let's look at the output files:"
   ]
  },
  {
   "cell_type": "code",
   "execution_count": null,
   "id": "f3be093c",
   "metadata": {
    "kernel": "Calysto Bash"
   },
   "outputs": [],
   "source": [
    "\n",
    "GEN_ADM=20\n",
    "SOURCE=20\n",
    "SOURCE_TIME=0\n",
    "PREFIX=~/current_folder/flare_out/gen_adm_${GEN_ADM}_source_${SOURCE}_source_time_${SOURCE_TIME}-output\n",
    "\n",
    "\n",
    "# List files in output folder\n",
    "ls ${PREFIX}*\n"
   ]
  },
  {
   "cell_type": "code",
   "execution_count": null,
   "id": "b073ae8a",
   "metadata": {
    "kernel": "Calysto Bash"
   },
   "outputs": [],
   "source": [
    "\n",
    "GEN_ADM=20\n",
    "SOURCE=20\n",
    "SOURCE_TIME=0\n",
    "PREFIX=~/current_folder/flare_out/gen_adm_${GEN_ADM}_source_${SOURCE}_source_time_${SOURCE_TIME}-output\n",
    "\n",
    "# Look at the global ancestry estimates\n",
    "#zless -S ${PREFIX}.global.anc.gz\n",
    "zcat ${PREFIX}.global.anc.gz\n"
   ]
  },
  {
   "cell_type": "code",
   "execution_count": null,
   "id": "b9cdc64e",
   "metadata": {
    "kernel": "Calysto Bash"
   },
   "outputs": [],
   "source": [
    "\n",
    "GEN_ADM=20\n",
    "SOURCE=20\n",
    "SOURCE_TIME=0\n",
    "PREFIX=~/current_folder/flare_out/gen_adm_${GEN_ADM}_source_${SOURCE}_source_time_${SOURCE_TIME}-output\n",
    "\n",
    "# Look at the model output\n",
    "cat ${PREFIX}.model\n"
   ]
  },
  {
   "cell_type": "code",
   "execution_count": null,
   "id": "1efff5bd",
   "metadata": {
    "kernel": "Calysto Bash"
   },
   "outputs": [],
   "source": [
    "\n",
    "GEN_ADM=20\n",
    "SOURCE=20\n",
    "SOURCE_TIME=0\n",
    "PREFIX=~/current_folder/flare_out/gen_adm_${GEN_ADM}_source_${SOURCE}_source_time_${SOURCE_TIME}-output\n",
    "\n",
    "# Look at the log file which contains the summary of the analysis\n",
    "cat ${PREFIX}.log\n"
   ]
  },
  {
   "cell_type": "code",
   "execution_count": null,
   "id": "b5be0b46",
   "metadata": {
    "kernel": "Calysto Bash"
   },
   "outputs": [],
   "source": [
    "\n",
    "GEN_ADM=20\n",
    "SOURCE=20\n",
    "SOURCE_TIME=0\n",
    "PREFIX=~/current_folder/flare_out/gen_adm_${GEN_ADM}_source_${SOURCE}_source_time_${SOURCE_TIME}-output\n",
    "\n",
    "# Look at the file which contains the inferred local ancestry for each allele (we'll only view one sample to make it easier to the eye)\n",
    "bcftools view -s pop_mix_1 ${PREFIX}.anc.vcf.gz | head -20\n"
   ]
  },
  {
   "cell_type": "markdown",
   "id": "a0f38a30",
   "metadata": {
    "kernel": "SoS"
   },
   "source": [
    "Take some time to understand the FORMAT field entries AN1, AN2, ANP1, ANP2."
   ]
  },
  {
   "cell_type": "markdown",
   "id": "8ead4e25",
   "metadata": {
    "kernel": "SoS"
   },
   "source": [
    "#### Q: What ancestry or ancestries is the first position of sample pop_mix_1 assigned to? Why?"
   ]
  },
  {
   "cell_type": "markdown",
   "id": "ee00aecc",
   "metadata": {
    "kernel": "SoS"
   },
   "source": [
    "### LAI using MOSAIC"
   ]
  },
  {
   "cell_type": "markdown",
   "id": "185425ae",
   "metadata": {
    "kernel": "SoS"
   },
   "source": [
    "##### MOSAIC is an LAI method which allows for unknown relationships between reference panels (sources) of ancestry. Let's take a look at the input files needed:"
   ]
  },
  {
   "cell_type": "code",
   "execution_count": null,
   "id": "86845902",
   "metadata": {
    "kernel": "Calysto Bash"
   },
   "outputs": [],
   "source": [
    "\n",
    "ls -1 ~/data_folder/MOSAIC/gen_adm_20_source_20_source_time_0/\n"
   ]
  },
  {
   "cell_type": "code",
   "execution_count": null,
   "id": "b763846e",
   "metadata": {
    "kernel": "Calysto Bash"
   },
   "outputs": [],
   "source": [
    "\n",
    "adm20_mosaic=~/data_folder/MOSAIC/gen_adm_20_source_20_source_time_0/\n",
    "\n",
    "#model_gen_adm_20_filt.vcf.gz: simulated VCF file\n",
    "\n",
    "#pop_bgenofile.1: genotype file of pop_b samples\n",
    "echo pop_bgenofile.1\n",
    "head ${adm20_mosaic}/pop_bgenofile.1\n",
    "echo \"\"\n",
    "\n",
    "#pop_cgenofile.1: genotype file of pop_c samples\n",
    "echo pop_cgenofile.1\n",
    "head ${adm20_mosaic}/pop_cgenofile.1\n",
    "echo \"\"\n",
    "\n",
    "#pop_mixgenofile.1: genotype file of pop_mix samples\n",
    "echo pop_mixgenofile.1\n",
    "head ${adm20_mosaic}/pop_mixgenofile.1\n",
    "echo \"\"\n",
    "\n",
    "#sample.names: file with population in first column and sample names in second column\n",
    "echo sample.names\n",
    "cat ${adm20_mosaic}/sample.names\n",
    "echo\"\"\n",
    "\n",
    "#snpfile.1: file with one snp per row and 6 columns: rsID, chr, distance, position, allele ?, allele ?. \n",
    "echo snpfile.1\n",
    "head ${adm20_mosaic}/snpfile.1 \n",
    "echo\"\"\n"
   ]
  },
  {
   "cell_type": "code",
   "execution_count": null,
   "id": "02d6f6c8",
   "metadata": {
    "kernel": "Calysto Bash"
   },
   "outputs": [],
   "source": [
    "\n",
    "adm20_mosaic=~/data_folder/MOSAIC/gen_adm_20_source_20_source_time_0/\n",
    "\n",
    "#rates.1: Recombination rates file for MOSAIC, has a bit of a weird format compared to normal genetic maps\n",
    "echo rates.1\n",
    "\n",
    "#3 rows with #sites, position, cumulative recombination rate (in centiMorgans). \n",
    "\n",
    "# the first row shows the number of sites\n",
    "sed -n '1p' ${adm20_mosaic}/rates.1 \n",
    "\n",
    "# the second row shows the snp positions\n",
    "sed -n '2p' ${adm20_mosaic}/rates.1 | cut -d \" \" -f 1-10\n",
    "\n",
    "# the second row shows the snp positions\n",
    "sed -n '3p' ${adm20_mosaic}/rates.1 | cut -d \" \" -f 1-10\n"
   ]
  },
  {
   "cell_type": "markdown",
   "id": "5bf12d9c",
   "metadata": {
    "kernel": "SoS"
   },
   "source": [
    "#####  Run MOSAIC. This will take a couple of minutes, so time to take a break!"
   ]
  },
  {
   "cell_type": "code",
   "execution_count": null,
   "id": "a0b1d21f",
   "metadata": {
    "kernel": "Calysto Bash"
   },
   "outputs": [],
   "source": [
    "\n",
    "# Specify parameters\n",
    "\n",
    "# Admixture time (generations before present)\n",
    "GEN_ADM=20\n",
    "\n",
    "# Number of samples from each source population\n",
    "SOURCE=20\n",
    "\n",
    "# Time point from which source samples were taken from (generations before present)\n",
    "SOURCE_TIME=0\n",
    "\n",
    "# Specify path to input files\n",
    "FOLDER=~/data_folder/MOSAIC/gen_adm_${GEN_ADM}_source_${SOURCE}_source_time_${SOURCE_TIME}\n",
    "\n",
    "# Specify output path\n",
    "OUTPUT=~/current_folder/MOSAIC/gen_adm_${GEN_ADM}_source_${SOURCE}_source_time_${SOURCE_TIME}/output\n",
    "\n",
    "# Remove output folder if it already exists from previous run\n",
    "if [ -d ${OUTPUT} ]; then\n",
    "    rm -r ${OUTPUT}\n",
    "fi\n",
    "\n",
    "# Specify path to output files\n",
    "mkdir -p ${OUTPUT}\n",
    "#OUTPUT=LAI/exercise/MOSAIC/gen_adm_Missing superscript or subscript argumentMissing superscript or subscript argument{SOURCE}_source_time_${SOURCE_TIME}/output\n",
    "\n",
    "# specify path to fastfiles temporary folder\n",
    "mkdir -p ~/.cache/fastfiles\n",
    "\n",
    "# Specify the number of gridpoints per cM equal to the product of 0.0012 and the # of sites (suggested in Browning et al., 2023)\n",
    "SITES=$(bcftools view -H ${FOLDER}/model_gen_adm_${GEN_ADM}_filt.vcf.gz | wc -l)\n",
    "GRID=$(echo \"$SITES * 0.0012\" | bc) \n",
    "\n",
    "Rscript ${MOSAIC} \\\n",
    "'pop_mix' \\\n",
    "${FOLDER}/ \\\n",
    "--number 10 \\\n",
    "--ancestries 2 \\\n",
    "--chromosomes 1:1 \\\n",
    "--GpcM $GRID \\\n",
    "--fastfiles ~/.cache/fastfiles \\\n",
    "--gens ${GEN_ADM} \\\n",
    "--nophase \\\n",
    "--maxcores 16\n",
    "\n",
    "# Move files to working directory\n",
    "mv MOSAIC_RESULTS ${OUTPUT}\n"
   ]
  },
  {
   "cell_type": "markdown",
   "id": "699683f3",
   "metadata": {
    "kernel": "SoS"
   },
   "source": [
    "##### Let's now plot the inferred tracts from the two methods and compare them with the true tracts we extracted from the simulated data. We've formatted the output of each method so that we have all the tracts in the same format. You can find them here, with seperate files for haplotypes 1 and 2"
   ]
  },
  {
   "cell_type": "code",
   "execution_count": null,
   "id": "8eb0b8c7",
   "metadata": {
    "kernel": "Calysto Bash"
   },
   "outputs": [],
   "source": [
    "\n",
    "ls ~/data_folder/all_tracts/model_gen_adm_20_source_20_source_time_0_prob_0.0_all_tracts_hap*.tsv\n"
   ]
  },
  {
   "cell_type": "markdown",
   "id": "5054507a",
   "metadata": {
    "kernel": "SoS"
   },
   "source": [
    "##### Look at the format of the hap1 file:"
   ]
  },
  {
   "cell_type": "code",
   "execution_count": null,
   "id": "e659851d",
   "metadata": {
    "kernel": "Calysto Bash",
    "scrolled": false
   },
   "outputs": [],
   "source": [
    "\n",
    "cat ~/data_folder/all_tracts/model_gen_adm_20_source_20_source_time_0_prob_0.0_all_tracts_hap1.tsv\n"
   ]
  },
  {
   "cell_type": "markdown",
   "id": "143250f4",
   "metadata": {
    "kernel": "SoS"
   },
   "source": [
    "##### Plot true and inferred tracts:"
   ]
  },
  {
   "cell_type": "code",
   "execution_count": null,
   "id": "2133b63a",
   "metadata": {
    "kernel": "R"
   },
   "outputs": [],
   "source": [
    "\n",
    "# import libraries\n",
    "library(ggplot2)\n",
    "suppressMessages(library(dplyr))\n",
    "\n",
    "tracks_hap1 <- read.delim('~/data_folder/all_tracts/model_gen_adm_20_source_20_source_time_0_prob_0.0_all_tracts_hap1.tsv')\n",
    "tracks_hap2 <- read.delim('~/data_folder/all_tracts/model_gen_adm_20_source_20_source_time_0_prob_0.0_all_tracts_hap2.tsv')\n",
    "\n",
    "values = c(\"pop_b\" = \"chartreuse4\", \n",
    "           \"pop_c\" = \"cyan3\")\n",
    "\n",
    "# Let's plot three samples from the pop_mix population\n",
    "samples <- c('pop_mix_1', 'pop_mix_2', 'pop_mix_3')\n",
    "\n",
    "ggplot()+\n",
    "  geom_segment(data=tracks_hap1 %>% filter(name %in% samples), aes(y = type, yend = type, x = left/1000000, xend = right/1000000, colour=source_pop), linewidth = 12) +\n",
    "  geom_segment(data=tracks_hap2 %>% filter(name %in% samples), aes(y = type, yend = type, x = left_2/1000000, xend = right_2/1000000, colour=source_pop), linewidth = 12) +\n",
    "  theme_bw()+\n",
    "  theme(panel.spacing.y=unit(0.1, \"lines\"),\n",
    "        axis.title.x = element_text(margin=margin(t=5)),\n",
    "        axis.title.y = element_text(margin=margin(r=5)),\n",
    "        axis.text.x = element_text(color = \"black\"),\n",
    "        axis.ticks.x = element_line(linewidth = 0.3),\n",
    "        plot.margin = margin(r = 0.5, l = 0.1, b = 0.5, unit = \"cm\"),\n",
    "        axis.line.y = element_blank(),\n",
    "        axis.ticks.y = element_blank(),\n",
    "        strip.text.y.left = element_text(size = 10, angle = 0),\n",
    "        legend.position = 'none',\n",
    "        strip.background =element_rect(fill=\"gray28\"),\n",
    "        strip.text = element_text(colour = 'white')\n",
    "  ) +\n",
    "  scale_color_manual(name = \"Ancestry\", values = values) +\n",
    "  ylab(\"Sample\") +\n",
    "  xlab(\"Genome position (Mb)\") +\n",
    "  ggtitle(\"True and inferred ancestry tracts - gen_adm=20 generations ago\") +\n",
    "  facet_grid(name~.)\n"
   ]
  },
  {
   "cell_type": "markdown",
   "id": "d619b6e7",
   "metadata": {
    "kernel": "SoS"
   },
   "source": [
    "Each panel is a sample from the pop_mix population (only 3 samples shown in this plot) with its true and inferred ancestry tracts from MOSAIC and FLARE. Note that the two haplotypes have been \"merged\" as a continuous long chromosome. The colour of each segment indicates the ancestry from which it came from (either pop_b as green or pop_c as blue).\n",
    "\n",
    "#### Q: How do the inferred ancesrty tracts look compared to the true ones?"
   ]
  },
  {
   "cell_type": "markdown",
   "id": "05552849",
   "metadata": {
    "kernel": "SoS"
   },
   "source": [
    "##### Now let's see how the inferred tracts look like if we focus on a scenario where gene flow from pop_c into pop_mix happened 200 generations ago instead. We've already run the local ancestry inference methods and have the tracts ready to plot:"
   ]
  },
  {
   "cell_type": "code",
   "execution_count": null,
   "id": "a7d65a2a",
   "metadata": {
    "kernel": "R"
   },
   "outputs": [],
   "source": [
    "\n",
    "# import libraries\n",
    "library(ggplot2)\n",
    "suppressMessages(library(dplyr))\n",
    "\n",
    "tracks_hap1 <- read.delim('~/data_folder/all_tracts/model_gen_adm_200_source_20_source_time_0_prob_0.0_all_tracts_hap1.tsv')\n",
    "tracks_hap2 <- read.delim('~/data_folder/all_tracts/model_gen_adm_200_source_20_source_time_0_prob_0.0_all_tracts_hap2.tsv')\n",
    "\n",
    "values = c(\"pop_b\" = \"chartreuse4\", \n",
    "           \"pop_c\" = \"cyan3\")\n",
    "\n",
    "# Let's plot three samples from the pop_mix population\n",
    "samples <- c('pop_mix_1', 'pop_mix_2', 'pop_mix_3')\n",
    "\n",
    "ggplot()+\n",
    "  geom_segment(data=tracks_hap1 %>% filter(name %in% samples), aes(y = type, yend = type, x = left/1000000, xend = right/1000000, colour=source_pop), linewidth = 12) +\n",
    "  geom_segment(data=tracks_hap2 %>% filter(name %in% samples), aes(y = type, yend = type, x = left_2/1000000, xend = right_2/1000000, colour=source_pop), linewidth = 12) +\n",
    "  theme_bw()+\n",
    "  theme(panel.spacing.y=unit(0.1, \"lines\"),\n",
    "        axis.title.x = element_text(margin=margin(t=5)),\n",
    "        axis.title.y = element_text(margin=margin(r=5)),\n",
    "        axis.text.x = element_text(color = \"black\"),\n",
    "        axis.ticks.x = element_line(linewidth = 0.3),\n",
    "        plot.margin = margin(r = 0.5, l = 0.1, b = 0.5, unit = \"cm\"),\n",
    "        axis.line.y = element_blank(),\n",
    "        axis.ticks.y = element_blank(),\n",
    "        strip.text.y.left = element_text(size = 10, angle = 0),\n",
    "        legend.position = 'none',\n",
    "        strip.background =element_rect(fill=\"gray28\"),\n",
    "        strip.text = element_text(colour = 'white')\n",
    "  ) +\n",
    "  scale_color_manual(name = \"Ancestry\", values = values) +\n",
    "  ylab(\"Sample\") +\n",
    "  xlab(\"Genome position (Mb)\") +\n",
    "  ggtitle(\"True and inferred ancestry tracts - gen_adm=200 generations ago\") +\n",
    "  facet_grid(name~.)\n"
   ]
  },
  {
   "cell_type": "markdown",
   "id": "07f2fe84",
   "metadata": {
    "kernel": "SoS"
   },
   "source": [
    "#### Q: Does the overlap seem to change? Why?"
   ]
  },
  {
   "cell_type": "markdown",
   "id": "5468fe9a",
   "metadata": {
    "kernel": "SoS"
   },
   "source": [
    "##### Let's now see what happens to the above scenario if we increase the sample size of sources from pop_b and pop_c from 20 to 50. Again, we have re-run the analyses in FLARE and MOSAIC and have the tracts ready to view:"
   ]
  },
  {
   "cell_type": "code",
   "execution_count": null,
   "id": "ee9aa46a",
   "metadata": {
    "kernel": "R"
   },
   "outputs": [],
   "source": [
    "\n",
    "# import libraries\n",
    "library(ggplot2)\n",
    "suppressMessages(library(dplyr))\n",
    "\n",
    "tracks_hap1 <- read.delim('~/data_folder/all_tracts/model_gen_adm_200_source_50_source_time_0_prob_0.0_all_tracts_hap1.tsv')\n",
    "tracks_hap2 <- read.delim('~/data_folder/all_tracts/model_gen_adm_200_source_50_source_time_0_prob_0.0_all_tracts_hap2.tsv')\n",
    "\n",
    "values = c(\"pop_b\" = \"chartreuse4\", \n",
    "           \"pop_c\" = \"cyan3\")\n",
    "\n",
    "# Let's plot three samples from the pop_mix population\n",
    "samples <- c('pop_mix_1', 'pop_mix_2', 'pop_mix_3')\n",
    "\n",
    "ggplot()+\n",
    "  geom_segment(data=tracks_hap1 %>% filter(name %in% samples), aes(y = type, yend = type, x = left/1000000, xend = right/1000000, colour=source_pop), linewidth = 12) +\n",
    "  geom_segment(data=tracks_hap2 %>% filter(name %in% samples), aes(y = type, yend = type, x = left_2/1000000, xend = right_2/1000000, colour=source_pop), linewidth = 12) +\n",
    "  theme_bw()+\n",
    "  theme(panel.spacing.y=unit(0.1, \"lines\"),\n",
    "        axis.title.x = element_text(margin=margin(t=5)),\n",
    "        axis.title.y = element_text(margin=margin(r=5)),\n",
    "        axis.text.x = element_text(color = \"black\"),\n",
    "        axis.ticks.x = element_line(linewidth = 0.3),\n",
    "        plot.margin = margin(r = 0.5, l = 0.1, b = 0.5, unit = \"cm\"),\n",
    "        axis.line.y = element_blank(),\n",
    "        axis.ticks.y = element_blank(),\n",
    "        strip.text.y.left = element_text(size = 10, angle = 0),\n",
    "        legend.position = 'none',\n",
    "        strip.background =element_rect(fill=\"gray28\"),\n",
    "        strip.text = element_text(colour = 'white')\n",
    "  ) +\n",
    "  scale_color_manual(name = \"Ancestry\", values = values) +\n",
    "  ylab(\"Sample\") +\n",
    "  xlab(\"Genome position (Mb)\") +\n",
    "  ggtitle(\"True and inferred ancestry tracts - gen_adm=200 generations ago\") +\n",
    "  facet_grid(name~.)\n"
   ]
  },
  {
   "cell_type": "markdown",
   "id": "4b959a97",
   "metadata": {
    "kernel": "SoS"
   },
   "source": [
    "Seems a lot better!\n",
    "\n",
    "#### Q: Why does increasing sample size improve the local ancestry inference?"
   ]
  },
  {
   "cell_type": "markdown",
   "id": "1aa41019",
   "metadata": {
    "kernel": "SoS"
   },
   "source": [
    "##### One final thing we will check is how the differentiation between sources can impact the local ancestry inference.\n",
    "\n",
    "##### Focusing again on gene flow happening 20 generations ago, let's look at the metadata file with our sample info from the simulation:"
   ]
  },
  {
   "cell_type": "code",
   "execution_count": null,
   "id": "cc27630c",
   "metadata": {
    "kernel": "R"
   },
   "outputs": [],
   "source": [
    "\n",
    "suppressMessages(library(dplyr))\n",
    "\n",
    "meta <- read.delim('~/data_folder/model_gen_adm_20_meta.tsv')\n",
    "meta %>% \n",
    "    group_by(time, pop) %>%\n",
    "    tally()\n"
   ]
  },
  {
   "cell_type": "markdown",
   "id": "943a8343",
   "metadata": {
    "kernel": "SoS"
   },
   "source": [
    "We can see that we have 10 individuals from pop_mix from one time point (0, present), and 50 from pop_b and 50 from pop_c from two different time points (0 and 1200). Let's see what happens if instead of using source samples from the present (0 generations before present), we take them from 1200 generations before present, and re-run the local ancestry inference methods:"
   ]
  },
  {
   "cell_type": "code",
   "execution_count": null,
   "id": "9fcfb647",
   "metadata": {
    "kernel": "R"
   },
   "outputs": [],
   "source": [
    "\n",
    "# import libraries\n",
    "library(ggplot2)\n",
    "suppressMessages(library(dplyr))\n",
    "\n",
    "tracks_hap1 <- read.delim('~/data_folder/all_tracts/model_gen_adm_20_source_20_source_time_1200_prob_0.0_all_tracts_hap1.tsv')\n",
    "tracks_hap2 <- read.delim('~/data_folder/all_tracts/model_gen_adm_20_source_20_source_time_1200_prob_0.0_all_tracts_hap2.tsv')\n",
    "\n",
    "values = c(\"pop_b\" = \"chartreuse4\", \n",
    "           \"pop_c\" = \"cyan3\")\n",
    "\n",
    "# Let's plot three samples from the pop_mix population\n",
    "samples <- c('pop_mix_1', 'pop_mix_2', 'pop_mix_3')\n",
    "\n",
    "ggplot()+\n",
    "  geom_segment(data=tracks_hap1 %>% filter(name %in% samples), aes(y = type, yend = type, x = left/1000000, xend = right/1000000, colour=source_pop), linewidth = 12) +\n",
    "  geom_segment(data=tracks_hap2 %>% filter(name %in% samples), aes(y = type, yend = type, x = left_2/1000000, xend = right_2/1000000, colour=source_pop), linewidth = 12) +\n",
    "  theme_bw()+\n",
    "  theme(panel.spacing.y=unit(0.1, \"lines\"),\n",
    "        axis.title.x = element_text(margin=margin(t=5)),\n",
    "        axis.title.y = element_text(margin=margin(r=5)),\n",
    "        axis.text.x = element_text(color = \"black\"),\n",
    "        axis.ticks.x = element_line(linewidth = 0.3),\n",
    "        plot.margin = margin(r = 0.5, l = 0.1, b = 0.5, unit = \"cm\"),\n",
    "        axis.line.y = element_blank(),\n",
    "        axis.ticks.y = element_blank(),\n",
    "        strip.text.y.left = element_text(size = 10, angle = 0),\n",
    "        legend.position = 'none',\n",
    "        strip.background =element_rect(fill=\"gray28\"),\n",
    "        strip.text = element_text(colour = 'white')\n",
    "  ) +\n",
    "  scale_color_manual(name = \"Ancestry\", values = values) +\n",
    "  ylab(\"Sample\") +\n",
    "  xlab(\"Genome position (Mb)\") +\n",
    "  ggtitle(\"True and inferred ancestry tracts - gen_adm=20 generations ago\") +\n",
    "  facet_grid(name~.)\n",
    "    "
   ]
  },
  {
   "cell_type": "markdown",
   "id": "c6eeda70",
   "metadata": {
    "kernel": "SoS"
   },
   "source": [
    "Hmm, seems like FLARE is having difficulty inferring the tracts (remember a few plots above it did quite well when using sources from the present (0 generations ago)?"
   ]
  },
  {
   "cell_type": "markdown",
   "id": "91fc37e1",
   "metadata": {
    "kernel": "SoS"
   },
   "source": [
    "#### Q: Do you have any feeling why this might be the case? (Hint: Take a look at the FST calculations we did at the beginning of the exercise)"
   ]
  },
  {
   "cell_type": "markdown",
   "id": "aade39f4",
   "metadata": {
    "kernel": "SoS"
   },
   "source": [
    "So we can see that LAI methods can be sensitive to how old the admixture event was, the sample sizes used and the level of differentiation between the sources used."
   ]
  },
  {
   "cell_type": "markdown",
   "id": "b98bd0d8",
   "metadata": {
    "kernel": "SoS"
   },
   "source": [
    "### BONUS: Infering admixture times"
   ]
  },
  {
   "cell_type": "markdown",
   "id": "724fca4b",
   "metadata": {
    "kernel": "SoS"
   },
   "source": [
    "Some LAI methods also infer the timing of admixture, or more specifically, how many generations prior to the age of the target individual(s) did the admixture event happen.\n",
    "\n",
    "##### Let's go back to the output from MOSAIC and check how the inferred times perform for the admixture event happening 20 generations ago:"
   ]
  },
  {
   "cell_type": "code",
   "execution_count": null,
   "id": "3462ae05",
   "metadata": {
    "kernel": "Python 3 (ipykernel)"
   },
   "outputs": [],
   "source": [
    "\n",
    "import os\n",
    "from IPython.display import Image\n",
    "Image(filename=os.path.expanduser('~/data_folder/MOSAIC/gen_adm_20_source_20_source_time_0/coancestry_curves.png'))\n"
   ]
  },
  {
   "cell_type": "markdown",
   "id": "b6b12b87",
   "metadata": {
    "kernel": "SoS"
   },
   "source": [
    "The above plots are coancestry curves as produced by MOSAIC. They capture information about the lengths of segments inherited from each source population (here shown as numbers 1 and 2). They show how rapidly the ancestry changes as genetic distance increases across the chromosome.\n",
    "\n",
    "So if we take two locations of the genome seperated by a specific distance, we can see if the ancestry changes or not. If we do that over different genetic distances across the genome, we can construct these curves that show the length of segments from the source groups.\n",
    "\n",
    "These curves should theoretically follow an exponential distribution with rate equal to the number of generations since the admixture event happened.\n",
    "\n",
    "Each of these curves is governed by an admixture parameter lambda (λ), which drives the exponential decay of tract lengths since admixture. For our given two-way admixture model, we will average across the 3 estimates of the λ parameter outputted by MOSAIC, in order to report an admixture time.\n",
    "\n",
    "The y axis shows the ratio of probabilities of pairs of local ancestries. The x axis is the genetic distance in cM. Looking at the first plot, we can see that the probability of going from ancestry 1 to ancestry 1 at two different genetic sites across the chromosome decreases with increasing genetic distance. Same thing in the 3rd plot going from ancestry 2 to ancestry 2. In the second plot, we see that you're more likely to switch ancestries the further you go down the chromosome. \n",
    "\n",
    "The green line is the fitted curve, the black line is the observed ratios across targets and the grey line is the per target ratio.\n",
    "\n",
    "If we calculate the average across the three coancestry curves we get 20.2 generations before present, which is almost spot on with the actual admixture event!\n",
    "\n",
    "More info here: https://www.chg.ox.ac.uk/~gav/admixture/2014-science-final/resources/FAQ.pdf (\"under What are coancestry curves?\")"
   ]
  },
  {
   "cell_type": "markdown",
   "id": "d11ef9b8",
   "metadata": {
    "kernel": "SoS"
   },
   "source": [
    "##### Now let's look a the coancestry curves for the admixture event happening 200 generations ago:"
   ]
  },
  {
   "cell_type": "code",
   "execution_count": null,
   "id": "f2b031a0",
   "metadata": {
    "kernel": "Python 3 (ipykernel)"
   },
   "outputs": [],
   "source": [
    "\n",
    "import os\n",
    "from IPython.display import Image\n",
    "Image(filename=os.path.expanduser('~/data_folder/MOSAIC/gen_adm_200_source_20_source_time_0/coancestry_curves.png'))\n"
   ]
  },
  {
   "cell_type": "markdown",
   "id": "3f5f51db",
   "metadata": {
    "kernel": "SoS"
   },
   "source": [
    "We can see that this is much more noisy and a bit more tricky to infer, considering that the admixture event is older in time, and therefore a lot of the ancestry tracts across the genome have been broken down into smaller segments due to recombination. \n",
    "\n",
    "The average inferred admixture time across the three curves is 254.7 generations ago. This is not too far off from the truth, but we should always be cautious when interpreting results, especially for old admixture events."
   ]
  }
 ],
 "metadata": {
  "kernelspec": {
   "display_name": "SoS",
   "language": "sos",
   "name": "sos"
  },
  "language_info": {
   "codemirror_mode": "sos",
   "file_extension": ".sos",
   "mimetype": "text/x-sos",
   "name": "sos",
   "nbconvert_exporter": "sos_notebook.converter.SoS_Exporter",
   "pygments_lexer": "sos"
  },
  "sos": {
   "kernels": [
    [
     "Calysto Bash",
     "calysto_bash",
     "bash",
     "",
     ""
    ],
    [
     "Python 3 (ipykernel)",
     "python3",
     "python3",
     "",
     {
      "name": "ipython",
      "version": 3
     }
    ],
    [
     "R",
     "ir",
     "R",
     "",
     "r"
    ]
   ],
   "panel": {
    "displayed": false,
    "height": 0
   },
   "version": "0.24.1"
  }
 },
 "nbformat": 4,
 "nbformat_minor": 5
}
