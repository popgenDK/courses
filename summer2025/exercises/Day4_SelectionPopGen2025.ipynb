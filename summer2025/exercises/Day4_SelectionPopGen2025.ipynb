{
 "cells": [
  {
   "cell_type": "markdown",
   "id": "e15e389a",
   "metadata": {
    "kernel": "SoS"
   },
   "source": [
    "# Estimating selection in maize using NGS data\n",
    "\n",
    "\n",
    "For this exercise, we will be working on a dataset that consists of maize genomes from modern and ancient samples. In the first exercise, we will look for selection in 15 domesticated maize (*Zea mays* subsp. *mays*) genomes by estimating Tajima's D. In the second exercise, we will look for selection in a specific population of maize from Eastern North America using the Population Branch Statistic (PBS).\n",
    "\n",
    "### Setup enviroment"
   ]
  },
  {
   "cell_type": "code",
   "execution_count": 1,
   "id": "78dc84cf",
   "metadata": {
    "kernel": "Calysto Bash"
   },
   "outputs": [
    {
     "name": "stdout",
     "output_type": "stream",
     "text": [
      "--programs that are installed:--\r\n",
      "angsd is /usr/local/bin/angsd\r\n",
      "realSFS is /usr/bin/realSFS\r\n",
      "thetaStat is /usr/bin/thetaStat\r\n",
      "\r\n",
      "--creating folder-- \r\n",
      "/home/jupyter-anders/SelectionExercise/\r\n",
      "\n"
     ]
    }
   ],
   "source": [
    "COURSE_PATH=/course/popgen25\n",
    "DATA_PATH=$COURSE_PATH/selection\n",
    "SOFTWARE_PATH=$COURSE_PATH/software\n",
    "\n",
    "echo --programs that are installed:--\n",
    "type angsd\n",
    "type realSFS\n",
    "type thetaStat\n",
    "\n",
    "#make folder \n",
    "FOLDER=~/SelectionExercise/\n",
    "echo -e \"\\n--creating folder-- \"\n",
    "echo $FOLDER\n",
    "mkdir -p $FOLDER\n",
    "\n",
    "# enter folder\n",
    "cd $FOLDER\n",
    "\n",
    "#make sym link for data and current folder\n",
    "ln -sfn $FOLDER ~/current_folder\n",
    "ln -sfn $DATA_PATH ~/data_folder"
   ]
  },
  {
   "cell_type": "markdown",
   "id": "95d646a9",
   "metadata": {
    "kernel": "SoS"
   },
   "source": [
    "### Estimating Tajima's D in domesticated maize\n",
    "For this exercise we will use 15 domesticated maize genomes from different varieties to look for signatures of selection that the domestication process might have left. For this, we have 15 BAM files with sequencing data for maize chromosome 4:"
   ]
  },
  {
   "cell_type": "code",
   "execution_count": 2,
   "id": "asdrcj57",
   "metadata": {
    "kernel": "Calysto Bash"
   },
   "outputs": [
    {
     "name": "stdout",
     "output_type": "stream",
     "text": [
      "\r\n",
      "-- files in folder \r\n",
      "\u001b[0m\u001b[40;31;01mB73v3_25.fa\u001b[0m                      parviglumis_ds1.arg\r\n",
      "\u001b[40;31;01mB73v3_25.fa.fai\u001b[0m                  \u001b[01;31mparviglumis_ds1.saf.gz\u001b[0m\r\n",
      "\u001b[01;36mB73v3_25.fa.gz\u001b[0m                   parviglumis_ds1.saf.idx\r\n",
      "\u001b[01;36mB73v3_25.fa.gz.fai\u001b[0m               \u001b[01;31mparviglumis_ds1.saf.pos.gz\u001b[0m\r\n",
      "B73v3_25.fa.gz.gzi               parviglumis_ozark.sfs\r\n",
      "\u001b[01;34mbamfiles\u001b[0m                         parviglumis_ozark_sw750_chr9_5Kwin\r\n",
      "chr4_sfs.pdf                     \u001b[01;31mparviglumis_ozark_sw750.fst.gz\u001b[0m\r\n",
      "DomesticatedMaize.txt            parviglumis_ozark_sw750.fst.idx\r\n",
      "maize_chr4.arg                   parviglumis_sw750.sfs\r\n",
      "maize_chr4.log                   parviglumis.txt\r\n",
      "\u001b[01;31mmaize_chr4.saf.gz\u001b[0m                pbs_ozarks_5Kwin.pdf\r\n",
      "maize_chr4.saf.idx               \u001b[01;34mrun\u001b[0m\r\n",
      "\u001b[01;31mmaize_chr4.saf.pos.gz\u001b[0m            sw750_ds1.arg\r\n",
      "maize_chr4.sfs                   \u001b[01;31msw750_ds1.saf.gz\u001b[0m\r\n",
      "maize_chr4.thetas.5kWind.pestPG  sw750_ds1.saf.idx\r\n",
      "\u001b[01;31mmaize_chr4.thetas.gz\u001b[0m             \u001b[01;31msw750_ds1.saf.pos.gz\u001b[0m\r\n",
      "maize_chr4.thetas.idx            SW750.txt\r\n",
      "\u001b[01;35mMaize_migNorth.png\u001b[0m               TajimasD_5Kwin.pdf\r\n",
      "ozark_ds1.arg                    \u001b[40;31;01mTDD39103.fa\u001b[0m\r\n",
      "\u001b[01;31mozark_ds1.saf.gz\u001b[0m                 \u001b[40;31;01mTDD39103.fa.fai\u001b[0m\r\n",
      "ozark_ds1.saf.idx                \u001b[01;36mTDD39103.fa.gz\u001b[0m\r\n",
      "\u001b[01;31mozark_ds1.saf.pos.gz\u001b[0m             \u001b[01;36mTDD39103.fa.gz.fai\u001b[0m\r\n",
      "ozarks.txt                       TDD39103.fa.gz.gzi\r\n",
      "ozark_sw750.sfs\r\n",
      "\r\n",
      "-- files in bamfiles folder \r\n",
      "\u001b[0m\u001b[01;36mOzarks_203_chr9.bam\u001b[0m      \u001b[01;36mRIMMA0626.bam\u001b[0m              \u001b[01;36mTIL16_chr9.bam\u001b[0m\r\n",
      "\u001b[01;36mOzarks_203_chr9.bam.bai\u001b[0m  \u001b[01;36mRIMMA0626.bam.bai\u001b[0m          \u001b[01;36mTIL16_chr9.bam.bai\u001b[0m\r\n",
      "\u001b[01;36mOzarks_204_chr9.bam\u001b[0m      \u001b[01;36mRIMMA0670.bam\u001b[0m              \u001b[01;36mTIL17_chr9.bam\u001b[0m\r\n",
      "\u001b[01;36mOzarks_204_chr9.bam.bai\u001b[0m  \u001b[01;36mRIMMA0670.bam.bai\u001b[0m          \u001b[01;36mTIL17_chr9.bam.bai\u001b[0m\r\n",
      "\u001b[01;36mOzarks_211_chr9.bam\u001b[0m      \u001b[01;36mRIMMA0672.bam\u001b[0m              \u001b[01;36mTIL2A_chr9.bam\u001b[0m\r\n",
      "\u001b[01;36mOzarks_211_chr9.bam.bai\u001b[0m  \u001b[01;36mRIMMA0672.bam.bai\u001b[0m          \u001b[01;36mTIL2A_chr9.bam.bai\u001b[0m\r\n",
      "\u001b[01;36mOzarks_212_chr9.bam\u001b[0m      \u001b[01;36mRIMMA0677.bam\u001b[0m              \u001b[01;36mTIL2B_chr9.bam\u001b[0m\r\n",
      "\u001b[01;36mOzarks_212_chr9.bam.bai\u001b[0m  \u001b[01;36mRIMMA0677.bam.bai\u001b[0m          \u001b[01;36mTIL2B_chr9.bam.bai\u001b[0m\r\n",
      "\u001b[01;36mOzarks_214_chr9.bam\u001b[0m      \u001b[01;36mRIMMA1007.bam\u001b[0m              \u001b[01;36mTIL2C_chr9.bam\u001b[0m\r\n",
      "\u001b[01;36mOzarks_214_chr9.bam.bai\u001b[0m  \u001b[01;36mRIMMA1007.bam.bai\u001b[0m          \u001b[01;36mTIL2C_chr9.bam.bai\u001b[0m\r\n",
      "\u001b[01;36mOzarks_215_chr9.bam\u001b[0m      \u001b[01;36mRIMMA1008.bam\u001b[0m              \u001b[01;36mTIL2D_chr9.bam\u001b[0m\r\n",
      "\u001b[01;36mOzarks_215_chr9.bam.bai\u001b[0m  \u001b[01;36mRIMMA1008.bam.bai\u001b[0m          \u001b[01;36mTIL2D_chr9.bam.bai\u001b[0m\r\n",
      "\u001b[01;36mOzarks_220_chr9.bam\u001b[0m      \u001b[01;36mRIMMA1012.bam\u001b[0m              \u001b[01;36mTularosa_107_chr9.bam\u001b[0m\r\n",
      "\u001b[01;36mOzarks_220_chr9.bam.bai\u001b[0m  \u001b[01;36mRIMMA1012.bam.bai\u001b[0m          \u001b[01;36mTularosa_107_chr9.bam.bai\u001b[0m\r\n",
      "\u001b[01;36mOzarks_224_chr9.bam\u001b[0m      \u001b[01;36mTIL01_chr9.bam\u001b[0m             \u001b[01;36mTularosa_109_chr9.bam\u001b[0m\r\n",
      "\u001b[01;36mOzarks_224_chr9.bam.bai\u001b[0m  \u001b[01;36mTIL01_chr9.bam.bai\u001b[0m         \u001b[01;36mTularosa_109_chr9.bam.bai\u001b[0m\r\n",
      "\u001b[01;36mOzarks_226_chr9.bam\u001b[0m      \u001b[01;36mTIL02_chr9.bam\u001b[0m             \u001b[01;36mTularosa_110_chr9.bam\u001b[0m\r\n",
      "\u001b[01;36mOzarks_226_chr9.bam.bai\u001b[0m  \u001b[01;36mTIL02_chr9.bam.bai\u001b[0m         \u001b[01;36mTularosa_110_chr9.bam.bai\u001b[0m\r\n",
      "\u001b[01;36mRIMMA0383.bam\u001b[0m            \u001b[01;36mTIL04-TIP454_chr9.bam\u001b[0m      \u001b[01;36mTularosa_111_chr9.bam\u001b[0m\r\n",
      "\u001b[01;36mRIMMA0383.bam.bai\u001b[0m        \u001b[01;36mTIL04-TIP454_chr9.bam.bai\u001b[0m  \u001b[01;36mTularosa_111_chr9.bam.bai\u001b[0m\r\n",
      "\u001b[01;36mRIMMA0384.bam\u001b[0m            \u001b[01;36mTIL07_chr9.bam\u001b[0m             \u001b[01;36mTularosa_112_chr9.bam\u001b[0m\r\n",
      "\u001b[01;36mRIMMA0384.bam.bai\u001b[0m        \u001b[01;36mTIL07_chr9.bam.bai\u001b[0m         \u001b[01;36mTularosa_112_chr9.bam.bai\u001b[0m\r\n",
      "\u001b[01;36mRIMMA0385.bam\u001b[0m            \u001b[01;36mTIL09_chr9.bam\u001b[0m             \u001b[01;36mTularosa_118_chr9.bam\u001b[0m\r\n",
      "\u001b[01;36mRIMMA0385.bam.bai\u001b[0m        \u001b[01;36mTIL09_chr9.bam.bai\u001b[0m         \u001b[01;36mTularosa_118_chr9.bam.bai\u001b[0m\r\n",
      "\u001b[01;36mRIMMA0387.bam\u001b[0m            \u001b[01;36mTIL10_chr9.bam\u001b[0m             \u001b[01;36mTularosa_121_chr9.bam\u001b[0m\r\n",
      "\u001b[01;36mRIMMA0387.bam.bai\u001b[0m        \u001b[01;36mTIL10_chr9.bam.bai\u001b[0m         \u001b[01;36mTularosa_121_chr9.bam.bai\u001b[0m\r\n",
      "\u001b[01;36mRIMMA0415.bam\u001b[0m            \u001b[01;36mTIL11_chr9.bam\u001b[0m             \u001b[01;36mTularosa_124_chr9.bam\u001b[0m\r\n",
      "\u001b[01;36mRIMMA0415.bam.bai\u001b[0m        \u001b[01;36mTIL11_chr9.bam.bai\u001b[0m         \u001b[01;36mTularosa_124_chr9.bam.bai\u001b[0m\r\n",
      "\u001b[01;36mRIMMA0421.bam\u001b[0m            \u001b[01;36mTIL12_chr9.bam\u001b[0m             \u001b[01;36mTularosa_132_chr9.bam\u001b[0m\r\n",
      "\u001b[01;36mRIMMA0421.bam.bai\u001b[0m        \u001b[01;36mTIL12_chr9.bam.bai\u001b[0m         \u001b[01;36mTularosa_132_chr9.bam.bai\u001b[0m\r\n",
      "\u001b[01;36mRIMMA0623.bam\u001b[0m            \u001b[01;36mTIL14_chr9.bam\u001b[0m             \u001b[01;36mTularosa_146_chr9.bam\u001b[0m\r\n",
      "\u001b[01;36mRIMMA0623.bam.bai\u001b[0m        \u001b[01;36mTIL14_chr9.bam.bai\u001b[0m         \u001b[01;36mTularosa_146_chr9.bam.bai\u001b[0m\r\n",
      "\u001b[01;36mRIMMA0625.bam\u001b[0m            \u001b[01;36mTIL15_chr9.bam\u001b[0m\r\n",
      "\u001b[01;36mRIMMA0625.bam.bai\u001b[0m        \u001b[01;36mTIL15_chr9.bam.bai\u001b[0m\r\n",
      "\n"
     ]
    }
   ],
   "source": [
    "#Go to the working directory where we have the data:\n",
    "\n",
    "# make links to files and add them to the folder\n",
    "cp -r -sf  ${DATA_PATH}/bamfiles .\n",
    "cp -sf ${DATA_PATH}/*fa.gz .\n",
    "cp -sf ${DATA_PATH}/*fai .\n",
    "\n",
    "#You can check which files we have in this directory by typing 'ls': \n",
    "#list of BAM files with domesticated maize data: \n",
    "echo -e \"\\n-- files in folder \"\n",
    "ls\n",
    "\n",
    "echo -e \"\\n-- files in bamfiles folder \"\n",
    "ls bamfiles"
   ]
  },
  {
   "cell_type": "markdown",
   "id": "b5e929ed",
   "metadata": {
    "kernel": "SoS"
   },
   "source": [
    "Now, let's create a list with the BAM files that we will be using:"
   ]
  },
  {
   "cell_type": "code",
   "execution_count": 3,
   "id": "c0cc1e1b",
   "metadata": {
    "kernel": "Calysto Bash"
   },
   "outputs": [
    {
     "name": "stdout",
     "output_type": "stream",
     "text": [
      "\b first lines of file\r\n",
      "bamfiles/RIMMA0383.bam\r\n",
      "bamfiles/RIMMA0384.bam\r\n",
      "bamfiles/RIMMA0385.bam\r\n",
      "bamfiles/RIMMA0387.bam\r\n",
      "bamfiles/RIMMA0415.bam\r\n",
      "bamfiles/RIMMA0421.bam\r\n",
      "bamfiles/RIMMA0623.bam\r\n",
      "bamfiles/RIMMA0625.bam\r\n",
      "bamfiles/RIMMA0626.bam\r\n",
      "bamfiles/RIMMA0670.bam\r\n",
      "\n"
     ]
    }
   ],
   "source": [
    "#All the modern maize BAM files start with 'RIM'\n",
    "ls bamfiles/RIM*.bam > DomesticatedMaize.txt\n",
    "\n",
    "echo -e \"\\b first lines of file\"\n",
    "head DomesticatedMaize.txt"
   ]
  },
  {
   "cell_type": "markdown",
   "id": "d7b6dc4f",
   "metadata": {
    "kernel": "SoS"
   },
   "source": [
    "#### 1. Estimate Genotype-likelihoods (GL)\n",
    "Now we can estimate GL using ANGSD -doSaf:\n"
   ]
  },
  {
   "cell_type": "code",
   "execution_count": 4,
   "id": "71f3e518",
   "metadata": {
    "kernel": "Calysto Bash"
   },
   "outputs": [
    {
     "name": "stdout",
     "output_type": "stream",
     "text": [
      "\n"
     ]
    }
   ],
   "source": [
    "# do not run\n",
    "# command takes to long (~Min)\n",
    "# you can run it after class if you want\n",
    "#angsd -bam DomesticatedMaize.txt \\\n",
    "#    -ref B73v3_25.fa.gz \\\n",
    "#    -anc TDD39103.fa.gz \\\n",
    "#    -out maize_chr4 \\\n",
    "#    -doSaf 1 \\\n",
    "#    -C 50 -baq 1 \\\n",
    "#    -GL 2 \\\n",
    "#    -P 5 \\\n",
    "#    -minMapQ 30 \\\n",
    "#    -minQ 20 \\\n",
    "#    -minInd 10 \\\n",
    "#    -setMinDepth 3 \\\n",
    "#    -doCounts 1 \\\n",
    "#    -r 4:1-242029974"
   ]
  },
  {
   "cell_type": "markdown",
   "id": "b5e924as",
   "metadata": {
    "kernel": "SoS"
   },
   "source": [
    "Check which parameters we are using and make sure they make sense to you.\n",
    "\n",
    "This step takes too long to run so wecopy the results from the **res** directory like this (ANGSD outputs three files: maize_chr4.saf.gz, maize_chr4.saf.pos.gz and maize_chr4.saf.idx):"
   ]
  },
  {
   "cell_type": "code",
   "execution_count": 5,
   "id": "2bb9bc1e",
   "metadata": {
    "kernel": "Calysto Bash"
   },
   "outputs": [
    {
     "name": "stdout",
     "output_type": "stream",
     "text": [
      "-> angsd version: 0.941-21-g8a58e17 (htslib: 1.18-17-g5acbc15) build(Sep 10 2023 10:54:12)\r\n",
      "\t-> angsd -bam DomesticatedMaize.txt -ref B73v3_25.fa -anc TDD39103.fa -out maize_chr4 -doSaf 1 -C 50 -baq 1 -GL 2 -P 5 -minMapQ 30 -minQ 20 -minInd 10 -setMinDepth 3 -doCounts 1 -r 4:1-242029974 \r\n",
      "\t-> Inputtype is BAM/CRAM\r\n",
      "[W::bam_hdr_read] EOF marker is absent. The input is probably truncated\r\n",
      "[multiReader] 15 samples in 15 input files\r\n",
      "\t-> Reading fasta: TDD39103.fa\r\n",
      "\t-> Reading fasta: B73v3_25.fa\r\n",
      "\t-> Parsing 15 number of samples \r\n",
      "\t-> Region lookup 1/1\r\n",
      "\r\n",
      "\t-> Allocated ~ 10 million nodes to the nodepool, this is not an estimate of the memory usage\r\n",
      "\r\n",
      "\t-> Allocated ~ 20 million nodes to the nodepool, this is not an estimate of the memory usage\r\n",
      "\r\n",
      "\t-> Allocated ~ 30 million nodes to the nodepool, this is not an estimate of the memory usage\r\n",
      "\r\n",
      "\t-> Allocated ~ 40 million nodes to the nodepool, this is not an estimate of the memory usage\r\n",
      "\r\n",
      "\t-> Allocated ~ 50 million nodes to the nodepool, this is not an estimate of the memory usage\r\n",
      "\r\n",
      "\t-> Allocated ~ 60 million nodes to the nodepool, this is not an estimate of the memory usage\r\n",
      "\r\n",
      "\t-> Allocated ~ 70 million nodes to the nodepool, this is not an estimate of the memory usage\r\n",
      "\r\n",
      "\t-> Allocated ~ 80 million nodes to the nodepool, this is not an estimate of the memory usage\r\n",
      "\r\n",
      "\t-> Allocated ~ 90 million nodes to the nodepool, this is not an estimate of the memory usage\r\n",
      "\r\n",
      "\t-> Allocated ~ 100 million nodes to the nodepool, this is not an estimate of the memory usage\r\n",
      "\r\n",
      "\t-> Allocated ~ 110 million nodes to the nodepool, this is not an estimate of the memory usage\r\n",
      "\r\n",
      "\t-> Allocated ~ 120 million nodes to the nodepool, this is not an estimate of the memory usage\r\n",
      "\t-> Printing at chr: 4 pos:95810501 chunknumber 54500 contains 399 sites[E::bgzf_read_block] Failed to read BGZF block data at offset 226471413 expected 22232 bytes; hread returned 20985\r\n",
      "[E::bgzf_read] Read block operation failed with error 4 after 117 of 245 bytes\r\n",
      "[E::bam_aux_next] Corrupted aux data for read SRR2886875.58721078\r\n",
      "[E::bam_aux_next] Corrupted aux data for read SRR2886875.58721078\r\n",
      "\t-> Printing at chr: 4 pos:241985786 chunknumber 137400 contains 652 sitesss\r\n",
      "\t-> Done reading data waiting for calculations to finish\r\n",
      "\t-> Done waiting for threads\r\n",
      "\t-> Output filenames:\r\n",
      "\t\t->\"maize_chr4.arg\"\r\n",
      "\t\t->\"maize_chr4.saf.gz\"\r\n",
      "\t\t->\"maize_chr4.saf.pos.gz\"\r\n",
      "\t\t->\"maize_chr4.saf.idx\"\r\n",
      "\t-> Wed Aug  6 10:17:22 2025\r\n",
      "\t-> Arguments and parameters for all analysis are located in .arg file\r\n",
      "\t-> Total number of sites analyzed: 177091591\r\n",
      "\t-> Number of sites retained after filtering: 3430180 \r\n",
      "\t[ALL done] cpu-time used =  3164.00 sec\r\n",
      "\t[ALL done] walltime used =  2504.00 sec\r\n",
      "\t\n"
     ]
    }
   ],
   "source": [
    "# copy results of the command and print the log    \n",
    "cp ~/data_folder/res/maize_chr4* .\n",
    "cat maize_chr4.log"
   ]
  },
  {
   "cell_type": "markdown",
   "id": "20adc535",
   "metadata": {
    "kernel": "SoS"
   },
   "source": [
    "#### 2. Estimate the SFS using realSFS\n",
    "We will use realSFS to obtain an estimate of the SFS for domesticated maize. Note that we are providing realSFS the file that ends in *.idx*, which is the index for the GL that we generated before:"
   ]
  },
  {
   "cell_type": "code",
   "execution_count": 6,
   "id": "2af555sa2",
   "metadata": {
    "kernel": "Calysto Bash"
   },
   "outputs": [
    {
     "name": "stdout",
     "output_type": "stream",
     "text": [
      "[persaf::persaf_init] Version of maize_chr4.saf.idx is 3\r\n",
      "[persaf::persaf_init] Assuming .saf.gz file is maize_chr4.saf.gz\r\n",
      "[persaf::persaf_init] Assuming .saf.pos.gz file is maize_chr4.saf.pos.gz\r\n",
      "\t-> args: tole:0.000000 nthreads:4 maxiter:100 nsites(block):0 start:(null) chr:(null) start:-1 stop:-1 fstout:(null) oldout:0 seed:-1 bootstrap:0 resample_chr:0 whichFst:0 fold:0 ref:(null) anc:(null)\r\n",
      "\t-> The choice of -nSites will require atleast: 119.419891 megabyte memory, that is at least: 0.03% of total memory\r\n",
      "\t-> dim(maize_chr4.saf.idx):31\r\n",
      "\t-> Dimension of parameter space: 31\r\n",
      "\t-> Done reading data from chromosome will prepare next chromosome\r\n",
      "\t-> Is in multi sfs, will now read data from chr:4\r\n",
      "\t-> hello Im the master merge part of realSFS. and I'll now do a tripple bypass to find intersect \r\n",
      "\t-> 1) Will set iter according to chooseChr and start and stop, and possibly using -sites\r\n",
      "\t-> Will run optimization on nSites: 3522027\r\n",
      "------------\r\n",
      "startlik=-11903056.791178\r\n",
      "lik[2]=-964882.031557 diff=1.093817e+07 alpha:1.000000 sr2:8.001172e-01 nsites_difference[0]: 3.349383e+06\r\n",
      "lik[5]=-963240.492718 diff=1.641539e+03 alpha:1.115581 sr2:9.366534e-06 nsites_difference[1]: 9.144228e+03\r\n",
      "lik[8]=-963239.136837 diff=1.355881e+00 alpha:1.921925 sr2:1.402234e-10 nsites_difference[15]: 6.122965e+01\r\n",
      "lik[11]=-963239.009903 diff=1.269347e-01 alpha:4.000000 sr2:4.664378e-12 nsites_difference[15]: 2.197188e+01\r\n",
      "lik[14]=-963239.009286 diff=6.167521e-04 alpha:1.588629 sr2:8.801880e-14 nsites_difference[14]: 9.628027e-01\r\n",
      "lik[17]=-963239.009148 diff=1.378724e-04 alpha:5.823317 sr2:4.720743e-15 nsites_difference[14]: 7.468488e-01\r\n",
      "lik[20]=-963239.009148 diff=1.909211e-07 alpha:1.381122 sr2:3.786057e-17 nsites_difference[1]: 1.963713e-02\r\n",
      "lik[23]=-963239.009148 diff=5.518086e-08 alpha:3.049772 sr2:2.131813e-19 nsites_difference[15]: 2.591782e-03\r\n",
      "\t-> Breaking EM(sr2) at iter:24, sqrt(sr2):1.675970e-11\r\n",
      "likelihood: -963239.009148\r\n",
      "------------\r\n",
      "\t-> Only read nSites: 0 will therefore prepare next chromosome (or exit)\r\n",
      "\r\n",
      "\t-> NB output is no longer log probs of the frequency spectrum!\r\n",
      "\t-> Output is now simply the expected values! \r\n",
      "\t-> You can convert to the old format simply with log(norm(x))\r\n",
      "\r\n",
      "\t-> Please check that it has converged!\r\n",
      "\t-> You can add start new optimization by supplying -sfs FILE, where is >FILE from this run\r\n",
      "\t-> -maxIter INT -tole FLOAT\r\n",
      "\n"
     ]
    }
   ],
   "source": [
    "realSFS maize_chr4.saf.idx > maize_chr4.sfs\n"
   ]
  },
  {
   "cell_type": "markdown",
   "id": "7c049cbf",
   "metadata": {
    "kernel": "SoS"
   },
   "source": [
    "Now we will use R to plot the SFS, just to make sure it looks reasonable."
   ]
  },
  {
   "cell_type": "code",
   "execution_count": 7,
   "id": "2af5235j2",
   "metadata": {
    "kernel": "R"
   },
   "outputs": [
    {
     "data": {
      "text/html": [
       "<strong>pdf:</strong> 2"
      ],
      "text/latex": [
       "\\textbf{pdf:} 2"
      ],
      "text/markdown": [
       "**pdf:** 2"
      ],
      "text/plain": [
       "pdf \n",
       "  2 "
      ]
     },
     "metadata": {},
     "output_type": "display_data"
    },
    {
     "data": {
      "image/png": "[encoded data removed]",
      "text/plain": [
       "Plot with title “SFS chr4 maize”"
      ]
     },
     "metadata": {
      "image/png": {
       "height": 420,
       "width": 420
      }
     },
     "output_type": "display_data"
    },
    {
     "name": "stderr",
     "output_type": "stream",
     "text": [
      "Read 31 items\n"
     ]
    }
   ],
   "source": [
    "#read the file with the SFS:\n",
    "sfsmaize<-scan('~/current_folder/maize_chr4.sfs')\n",
    "\n",
    "#exclude first column and normalise\n",
    "sfsmaize<-sfsmaize[-c(1,length(sfsmaize))]\n",
    "sfsmaize<-sfsmaize/sum(sfsmaize)\n",
    "\n",
    "#create a PDF with the plot (you can also run the barplot line only)\n",
    "pdf('~/current_folder/chr4_sfs.pdf')\n",
    "barplot(sfsmaize, names=1:length(sfsmaize), main='SFS chr4 maize')\n",
    "dev.off()\n",
    "\n",
    "barplot(sfsmaize, names=1:length(sfsmaize), main='SFS chr4 maize')\n",
    "\n",
    "\n"
   ]
  },
  {
   "cell_type": "markdown",
   "id": "0dc9e966",
   "metadata": {
    "kernel": "SoS"
   },
   "source": [
    "To look at the PDF with the plot, go to the main browser tab in jypiter notebook and go to our working directory: \n",
    " **Question**: \n",
    " - What factors do you think could affect our SFS? \n",
    " - What do you think we should consider when deciding which individuals/samples to include in our population?\n",
    "\n",
    "#### 3. Calculate thetas per site\n",
    "We will now use **realSFS saf2theta** to get the two diversity metrics that we need to estimate Tajima's D: theta and Pi."
   ]
  },
  {
   "cell_type": "code",
   "execution_count": 8,
   "id": "2af25op1",
   "metadata": {
    "kernel": "Calysto Bash"
   },
   "outputs": [
    {
     "name": "stdout",
     "output_type": "stream",
     "text": [
      "[persaf::persaf_init] Version of maize_chr4.saf.idx is 3\r\n",
      "[persaf::persaf_init] Assuming .saf.gz file is maize_chr4.saf.gz\r\n",
      "[persaf::persaf_init] Assuming .saf.pos.gz file is maize_chr4.saf.pos.gz\r\n",
      "\t-> args: tole:0.000000 nthreads:4 maxiter:100 nsites(block):0 start:maize_chr4.sfs chr:(null) start:-1 stop:-1 fstout:maize_chr4 oldout:0 seed:-1 bootstrap:0 resample_chr:0 whichFst:0 fold:0 ref:(null) anc:(null)\r\n",
      "\t-> Will read chunks of size: 4096\r\n",
      "\t-> Reading: maize_chr4.sfs assuming counts (will normalize to probs internally)\r\n",
      "\t-> nChr:30\r\n",
      "\t-> Done reading data from chromosome will prepare next chromosome\r\n",
      "\t-> Is in multi sfs, will now read data from chr:4\r\n",
      "\t-> hello Im the master merge part of realSFS. and I'll now do a tripple bypass to find intersect \r\n",
      "\t-> 1) Will set iter according to chooseChr and start and stop, and possibly using -sites\r\n",
      "\t-> Only read nSites: 0 will therefore prepare next chromosome (or exit)\r\n",
      "\t-> Done reading data from chromosome will prepare next chromosome\r\n",
      "\t-> Writing 3522027 sites for chr:4\r\n",
      "\t-> Output filenames:\r\n",
      "\t\t->\"maize_chr4.thetas.gz\"\r\n",
      "\t\t->\"maize_chr4.thetas.idx\"\r\n",
      "\n"
     ]
    }
   ],
   "source": [
    "#this might take a few minutes, so wait until it is done running:\n",
    "realSFS saf2theta maize_chr4.saf.idx  \\\n",
    "    -sfs maize_chr4.sfs \\\n",
    "    -outname maize_chr4\n"
   ]
  },
  {
   "cell_type": "markdown",
   "id": "ad82bb0b",
   "metadata": {
    "kernel": "SoS"
   },
   "source": [
    "#### 4. Estimate Tajima's D\n",
    "Now we will use **thetaStat** to estimate Tajima's D in 5Kb windows along chr4:"
   ]
  },
  {
   "cell_type": "code",
   "execution_count": 9,
   "id": "2a05h52",
   "metadata": {
    "kernel": "Calysto Bash"
   },
   "outputs": [
    {
     "name": "stdout",
     "output_type": "stream",
     "text": [
      " thetaStat do_stat maize_chr4.thetas.idx -win 5000 -step 1000 -outnames maize_chr4.thetas.5kWind\r\n",
      "\tAssuming binfile:maize_chr4.thetas.gz and indexfile:maize_chr4.thetas.idx\r\n",
      "\t\tInformation from index file:\r\n",
      "\t\t0\t4\t3522027\t8\t30\r\n",
      "\t -r=(null) outnames=maize_chr4.thetas.5kWind step: 1000 win: 5000\r\n",
      "\tpc.chr=4 pc.nSites=3522027 firstpos=30555 lastpos=241908510\r\n",
      "\tDumping file: \"maize_chr4.thetas.5kWind.pestPG\"\r\n",
      "\n"
     ]
    }
   ],
   "source": [
    "thetaStat do_stat \\\n",
    "    maize_chr4.thetas.idx \\\n",
    "    -win 5000 \\\n",
    "    -step 1000 \\\n",
    "    -outnames maize_chr4.thetas.5kWind\n"
   ]
  },
  {
   "cell_type": "markdown",
   "id": "57f2e647",
   "metadata": {
    "kernel": "SoS"
   },
   "source": [
    "Once it is done running, let's look at the results:"
   ]
  },
  {
   "cell_type": "code",
   "execution_count": 10,
   "id": "70895909",
   "metadata": {
    "kernel": "Calysto Bash"
   },
   "outputs": [
    {
     "name": "stdout",
     "output_type": "stream",
     "text": [
      "#(indexStart,indexStop)(firstPos_withData,lastPos_withData)(WinStart,WinStop)\tChr\tWinCenter\ttW\ttP\ttF\ttH\ttL\tTajima\tfuf\tfud\tfayh\tzeng\tnSites\r\n",
      "(159,1782)(31078,108833)(31000,36000)\t4\t33500\t6.763158\t4.250631\t11.976197\t8.510986\t6.380808\t-1.330410\t-1.733252\t-1.481226\t-0.530547\t-0.048605\t1623\r\n",
      "(285,1782)(32697,108833)(32000,37000)\t4\t34500\t5.999502\t3.978113\t9.966828\t8.490016\t6.234064\t-1.194047\t-1.483449\t-1.240701\t-0.630713\t0.033371\t1497\r\n",
      "(377,1782)(33043,108833)(33000,38000)\t4\t35500\t5.991736\t3.976013\t9.938799\t8.486015\t6.231014\t-1.192101\t-1.478595\t-1.235632\t-0.631234\t0.034083\t1405\r\n",
      "(1110,1782)(34000,108833)(34000,39000)\t4\t36500\t3.426512\t2.982402\t3.904624\t6.463406\t4.722904\t-0.430669\t-0.354815\t-0.228656\t-0.829054\t0.308509\t672\r\n",
      "\n"
     ]
    }
   ],
   "source": [
    "head -n 5 maize_chr4.thetas.5kWind.pestPG\n"
   ]
  },
  {
   "cell_type": "markdown",
   "id": "0a8fedd6",
   "metadata": {
    "kernel": "SoS"
   },
   "source": [
    "Can you guess what each column is?\n",
    "\n",
    "####  Plot the results in R"
   ]
  },
  {
   "cell_type": "code",
   "execution_count": 11,
   "id": "7912ngw",
   "metadata": {
    "kernel": "R"
   },
   "outputs": [
    {
     "data": {
      "text/html": [
       "<strong>pdf:</strong> 2"
      ],
      "text/latex": [
       "\\textbf{pdf:} 2"
      ],
      "text/markdown": [
       "**pdf:** 2"
      ],
      "text/plain": [
       "pdf \n",
       "  2 "
      ]
     },
     "metadata": {},
     "output_type": "display_data"
    },
    {
     "data": {
      "image/png": "[encoded data removed]",
      "text/plain": [
       "plot without title"
      ]
     },
     "metadata": {
      "image/png": {
       "height": 420,
       "width": 420
      }
     },
     "output_type": "display_data"
    }
   ],
   "source": [
    "#read the table with the results from thetaStat:\n",
    "d<-read.table('~/current_folder/maize_chr4.thetas.5kWind.pestPG', as.is=T, h=T, comment.char='')\n",
    "\n",
    "#exclude results that are NaN due to missing data:\n",
    "d<-d[!is.na(d$fuf),]\n",
    "\n",
    "#exclude windows with less than 100 SNPs:\n",
    "d<-d[d$nSites>=100,]\n",
    "\n",
    "#identify the 0.1% windows with the most negative Tajima's D\n",
    "perc01<-sort(d$Tajima)[length(d$Tajima)*0.001]\n",
    "\n",
    "#plot the Tajima's D vs the position along chr4:\n",
    "pdf('~/current_folder/TajimasD_5Kwin.pdf', useDingbats=F, width=7.5, heigh=5)\n",
    "\n",
    "plot(as.numeric(d$WinCenter), d$Tajima, col='grey80', ylab='Tajima D',  xlab='Chr9', pch=16)\n",
    "\n",
    "#draw a line to mark the location of bt2 gene\n",
    "abline(v=c(58979526, 58985686), col='purple')\n",
    "\n",
    "#draw a line to mark the 0.1% most negative D\n",
    "abline(h=perc01, col='red', lty=2)\n",
    "dev.off()\n",
    "\n",
    "plot(as.numeric(d$WinCenter), d$Tajima, col='grey80', ylab='Tajima D',  xlab='Chr9', pch=16)\n",
    "\n",
    "#draw a line to mark the location of bt2 gene\n",
    "abline(v=c(58979526, 58985686), col='purple')\n",
    "\n",
    "#draw a line to mark the 0.1% most negative D\n",
    "abline(h=perc01, col='red', lty=2)"
   ]
  },
  {
   "cell_type": "markdown",
   "id": "206497ad",
   "metadata": {
    "kernel": "SoS"
   },
   "source": [
    "**Question**: \n",
    " - Why do you think we are going for 1) negative Tajima's D and 2) the top 0.01% most negative values?\n",
    "\n",
    "### Population Branch Statistic (PBS)\n",
    "Now we will look for selection specificially in a population of ancient maize in Eastern North America (ENA). We would like to know if there has been any selection in the evolutionary lineage that gave rise to maize in ENA. We know that maize dispersed north from the domestication center reaching the US Southwest (US SW) ~4000 years ago, and then moved into ENA between 2000-1000 years ago (Figure below,left side).\n",
    "\n",
    "So, for this exercise we will use genomic data from three populations:\n",
    "- 9 genomes from the Ozarks rockshelters in ENA\n",
    "- 10 genomes from the Tularosa cave in the US SW\n",
    "- 16 genomes from maize's wild ancestor *Zea mays* subsp. *parviglumis*\n",
    "So, given how these populations are related, we want to setup a PBS test like the one in the figure below (left side)\n",
    "\n",
    "\n",
    "<img src=\"data_folder/Figures/Maize_migNorth.png\" width=\"600\">\n",
    "\n",
    "\n",
    "#### 0. Prepare input files\n",
    "\n",
    "\n",
    "Start by creating a list of BAM files for each population:\n"
   ]
  },
  {
   "cell_type": "code",
   "execution_count": 12,
   "id": "32c660fe",
   "metadata": {
    "kernel": "Calysto Bash"
   },
   "outputs": [
    {
     "name": "stdout",
     "output_type": "stream",
     "text": [
      "\n"
     ]
    }
   ],
   "source": [
    "#Ozarks maize:\n",
    "ls bamfiles/Ozark*.bam >ozarks.txt\n",
    " \n",
    "#US SW maize:\n",
    "ls bamfiles/Tularosa*.bam >SW750.txt\n",
    "\n",
    "#wild maize:\n",
    "ls bamfiles/TIL*.bam >parviglumis.txt\n",
    "\n"
   ]
  },
  {
   "cell_type": "markdown",
   "id": "b120929",
   "metadata": {
    "kernel": "SoS"
   },
   "source": [
    "#### 1. Estimate GL for each population\n",
    "Now let's estimate GL for each population independently using ANGSD (we will restrict to chr9 so that it is faster to run). Run one by one (it will take a couple of minutes each):\n"
   ]
  },
  {
   "cell_type": "code",
   "execution_count": 13,
   "id": "d4e7b1ac",
   "metadata": {
    "kernel": "Calysto Bash",
    "scrolled": true
   },
   "outputs": [
    {
     "name": "stdout",
     "output_type": "stream",
     "text": [
      "ozark_ds1.arg         parviglumis_ds1.arg         sw750_ds1.arg\r\n",
      "\u001b[0m\u001b[01;31mozark_ds1.saf.gz\u001b[0m      \u001b[01;31mparviglumis_ds1.saf.gz\u001b[0m      \u001b[01;31msw750_ds1.saf.gz\u001b[0m\r\n",
      "ozark_ds1.saf.idx     parviglumis_ds1.saf.idx     sw750_ds1.saf.idx\r\n",
      "\u001b[01;31mozark_ds1.saf.pos.gz\u001b[0m  \u001b[01;31mparviglumis_ds1.saf.pos.gz\u001b[0m  \u001b[01;31msw750_ds1.saf.pos.gz\u001b[0m\r\n",
      "\n"
     ]
    }
   ],
   "source": [
    "#### takes around 15 min to run all 3. So lets just copy the results\n",
    "# US Southwest:\n",
    "#angsd -bam SW750.txt -ref B73v3_25.fa.gz -anc TDD39103.fa.gz -out sw750_ds1 -doSaf 1 -C 50 -baq 1 -GL 2 -minMapQ 30 -minQ 20 -minInd 6 -setMinDepth 3 -doCounts 1  -r 9:1-157021084 &\n",
    "\n",
    "# Ozarks (Eastern North America):\n",
    "#angsd -bam ozarks.txt -ref B73v3_25.fa.gz -anc TDD39103.fa.gz -out ozark_ds1 -doSaf 1 -C 50 -baq 1 -GL 2 -minMapQ 30 -minQ 20 -minInd 6 -setMinDepth 3 -doCounts 1  -r 9:1-157021084 &\n",
    "\n",
    "# Wild maize (parviglumis):\n",
    "#angsd -bam parviglumis.txt -ref B73v3_25.fa.gz -anc TDD39103.fa.gz -out parviglumis_ds1 -doSaf 1 -C 50 -baq 1 -GL 2 -minMapQ 30 -minQ 20 -minInd 6 -setMinDepth 3 -doCounts 1  -r 9:1-157021084\n",
    "\n",
    "\n",
    "\n",
    "## The he restart the kernal and copy results to your folder instead\n",
    " cp ~/data_folder/res/*ds1* .\n",
    " ls *ds1*\n",
    "\n"
   ]
  },
  {
   "cell_type": "markdown",
   "id": "492a1979",
   "metadata": {
    "kernel": "SoS"
   },
   "source": [
    "Check again the parameters, do they make sense to you?\n",
    "\n",
    "#### 2. Estimate 2D-SFS\n",
    "We now need to estimate the 2-dimension SFS for every combination of 2 populations (again, run one at a time):\n"
   ]
  },
  {
   "cell_type": "code",
   "execution_count": 14,
   "id": "46d090d1",
   "metadata": {
    "kernel": "Calysto Bash"
   },
   "outputs": [
    {
     "name": "stdout",
     "output_type": "stream",
     "text": [
      "[persaf::persaf_init] Version of parviglumis_ds1.saf.idx is 3\r\n",
      "[persaf::persaf_init] Assuming .saf.gz file is parviglumis_ds1.saf.gz\r\n",
      "[persaf::persaf_init] Assuming .saf.pos.gz file is parviglumis_ds1.saf.pos.gz\r\n",
      "[persaf::persaf_init] Version of sw750_ds1.saf.idx is 3\r\n",
      "[persaf::persaf_init] Assuming .saf.gz file is sw750_ds1.saf.gz\r\n",
      "[persaf::persaf_init] Assuming .saf.pos.gz file is sw750_ds1.saf.pos.gz\r\n",
      "\t-> args: tole:0.000000 nthreads:4 maxiter:100 nsites(block):0 start:(null) chr:(null) start:-1 stop:-1 fstout:(null) oldout:0 seed:-1 bootstrap:0 resample_chr:0 whichFst:0 fold:0 ref:(null) anc:(null)\r\n",
      "[main] Multi SFS is 'still' under development. Please report strange behaviour.\r\n",
      "\t-> The choice of -nSites will require atleast: 328.087921 megabyte memory, that is at least: 0.08% of total memory\r\n",
      "\t-> dim(parviglumis_ds1.saf.idx):33\r\n",
      "\t-> dim(sw750_ds1.saf.idx):21\r\n",
      "\t-> Dimension of parameter space: 693\r\n",
      "\t-> Done reading data from chromosome will prepare next chromosome\r\n",
      "\t-> Is in multi sfs, will now read data from chr:9\r\n",
      "\t-> hello Im the master merge part of realSFS. and I'll now do a tripple bypass to find intersect \r\n",
      "\t-> 1) Will set iter according to chooseChr and start and stop, and possibly using -sites\r\n",
      "\t-> Sites to keep[9] from pop0:\t38471\r\n",
      "\t-> Sites to keep[9] from pop1:\t38471\r\n",
      "\t-> [readdata] lastread:38471 posi:564186\r\n",
      "\t-> Comparing positions: 1 with 0 has:38471\r\n",
      "\t-> Only read nSites: 38471 will therefore prepare next chromosome (or exit)\r\n",
      "\t-> Done reading data from chromosome will prepare next chromosome\r\n",
      "\t-> Will run optimization on nSites: 38471\r\n",
      "------------\r\n",
      "startlik=-216689.751553\r\n",
      "\t-> Instability detected, accelerated guess is too close to bound or outside will fallback to regular EM for this step\r\n",
      "lik[2]=-16429.122434 diff=2.002606e+05 alpha:1.000000 sr2:2.209348e-01 nsites_difference[0]: 2.911659e+04\r\n",
      "lik[4]=-12555.699958 diff=3.873422e+03 alpha:1.583308 sr2:1.801974e-02 nsites_difference[0]: 6.263554e+03\r\n",
      "lik[6]=-12262.650244 diff=2.930497e+02 alpha:1.000000 sr2:3.738247e-04 nsites_difference[0]: 8.762036e+02\r\n",
      "lik[8]=-12229.395301 diff=3.325494e+01 alpha:1.991128 sr2:1.357998e-05 nsites_difference[0]: 1.670693e+02\r\n",
      "lik[10]=-12222.082725 diff=7.312576e+00 alpha:1.000000 sr2:1.012078e-06 nsites_difference[0]: 4.401312e+01\r\n",
      "lik[12]=-12219.097557 diff=2.985168e+00 alpha:3.021422 sr2:1.451131e-07 nsites_difference[0]: 1.520240e+01\r\n",
      "lik[14]=-12217.336030 diff=1.761528e+00 alpha:1.000000 sr2:3.502530e-08 nsites_difference[21]: 8.149669e+00\r\n",
      "lik[16]=-12216.101598 diff=1.234432e+00 alpha:4.000000 sr2:1.245873e-08 nsites_difference[21]: 4.981880e+00\r\n",
      "lik[18]=-12215.163176 diff=9.384224e-01 alpha:1.000000 sr2:5.825703e-09 nsites_difference[21]: 3.269508e+00\r\n",
      "lik[20]=-12214.416899 diff=7.462765e-01 alpha:4.000000 sr2:3.277515e-09 nsites_difference[42]: 2.297724e+00\r\n",
      "lik[22]=-12213.805822 diff=6.110775e-01 alpha:1.000000 sr2:2.087734e-09 nsites_difference[42]: 1.853338e+00\r\n",
      "lik[24]=-12213.294743 diff=5.110784e-01 alpha:4.000000 sr2:1.448705e-09 nsites_difference[42]: 1.516960e+00\r\n",
      "lik[26]=-12212.860221 diff=4.345227e-01 alpha:1.000000 sr2:1.069041e-09 nsites_difference[42]: 1.257271e+00\r\n",
      "lik[28]=-12212.485834 diff=3.743870e-01 alpha:4.000000 sr2:8.260772e-10 nsites_difference[42]: 1.053284e+00\r\n",
      "lik[30]=-12212.159652 diff=3.261817e-01 alpha:1.000000 sr2:6.615637e-10 nsites_difference[42]: 8.906188e-01\r\n",
      "lik[32]=-12211.872760 diff=2.868923e-01 alpha:4.000000 sr2:5.451045e-10 nsites_difference[63]: 7.642733e-01\r\n",
      "lik[34]=-12211.618342 diff=2.544179e-01 alpha:1.000000 sr2:4.596197e-10 nsites_difference[63]: 7.178440e-01\r\n",
      "lik[36]=-12211.391092 diff=2.272493e-01 alpha:4.000000 sr2:3.949317e-10 nsites_difference[63]: 6.747566e-01\r\n",
      "lik[38]=-12211.186816 diff=2.042761e-01 alpha:1.000000 sr2:3.446843e-10 nsites_difference[63]: 6.350268e-01\r\n",
      "lik[40]=-12211.002152 diff=1.846646e-01 alpha:4.000000 sr2:3.047527e-10 nsites_difference[63]: 5.985163e-01\r\n",
      "lik[42]=-12210.834374 diff=1.677780e-01 alpha:1.000000 sr2:2.723745e-10 nsites_difference[63]: 5.650137e-01\r\n",
      "lik[44]=-12210.681250 diff=1.531236e-01 alpha:4.000000 sr2:2.456488e-10 nsites_difference[63]: 5.342797e-01\r\n",
      "lik[46]=-12210.540935 diff=1.403147e-01 alpha:1.000000 sr2:2.232370e-10 nsites_difference[63]: 5.060719e-01\r\n",
      "lik[48]=-12210.411890 diff=1.290453e-01 alpha:4.000000 sr2:2.041770e-10 nsites_difference[84]: 4.826319e-01\r\n",
      "lik[50]=-12210.292820 diff=1.190704e-01 alpha:1.000000 sr2:1.877645e-10 nsites_difference[84]: 4.782164e-01\r\n",
      "lik[52]=-12210.182627 diff=1.101924e-01 alpha:4.000000 sr2:1.734748e-10 nsites_difference[84]: 4.732493e-01\r\n",
      "lik[54]=-12210.080377 diff=1.022506e-01 alpha:1.000000 sr2:1.609116e-10 nsites_difference[84]: 4.678423e-01\r\n",
      "lik[56]=-12209.985264 diff=9.511313e-02 alpha:4.000000 sr2:1.497709e-10 nsites_difference[84]: 4.620866e-01\r\n",
      "lik[58]=-12209.896592 diff=8.867141e-02 alpha:1.000000 sr2:1.398162e-10 nsites_difference[84]: 4.560573e-01\r\n",
      "lik[60]=-12209.813757 diff=8.283500e-02 alpha:4.000000 sr2:1.308617e-10 nsites_difference[84]: 4.498156e-01\r\n",
      "lik[62]=-12209.736229 diff=7.752826e-02 alpha:1.000000 sr2:1.227592e-10 nsites_difference[84]: 4.434120e-01\r\n",
      "lik[64]=-12209.663541 diff=7.268749e-02 alpha:4.000000 sr2:1.153895e-10 nsites_difference[84]: 4.368877e-01\r\n",
      "lik[66]=-12209.595283 diff=6.825870e-02 alpha:1.000000 sr2:1.086556e-10 nsites_difference[84]: 4.302768e-01\r\n",
      "lik[68]=-12209.531087 diff=6.419586e-02 alpha:4.000000 sr2:1.024776e-10 nsites_difference[84]: 4.236074e-01\r\n",
      "lik[70]=-12209.470627 diff=6.045945e-02 alpha:1.000000 sr2:9.678921e-11 nsites_difference[84]: 4.169028e-01\r\n",
      "lik[72]=-12209.413612 diff=5.701543e-02 alpha:4.000000 sr2:9.153502e-11 nsites_difference[84]: 4.101822e-01\r\n",
      "lik[74]=-12209.359778 diff=5.383423e-02 alpha:1.000000 sr2:8.666810e-11 nsites_difference[84]: 4.034618e-01\r\n",
      "lik[76]=-12209.308888 diff=5.089011e-02 alpha:4.000000 sr2:8.214845e-11 nsites_difference[84]: 3.967550e-01\r\n",
      "lik[78]=-12209.260727 diff=4.816050e-02 alpha:1.000000 sr2:7.794177e-11 nsites_difference[84]: 3.900733e-01\r\n",
      "lik[80]=-12209.215102 diff=4.562553e-02 alpha:4.000000 sr2:7.401834e-11 nsites_difference[84]: 3.834263e-01\r\n",
      "lik[82]=-12209.171834 diff=4.326764e-02 alpha:1.000000 sr2:7.035231e-11 nsites_difference[84]: 3.768220e-01\r\n",
      "lik[84]=-12209.130763 diff=4.107125e-02 alpha:4.000000 sr2:6.692101e-11 nsites_difference[84]: 3.702676e-01\r\n",
      "lik[86]=-12209.091740 diff=3.902248e-02 alpha:1.000000 sr2:6.370445e-11 nsites_difference[84]: 3.637689e-01\r\n",
      "lik[88]=-12209.054631 diff=3.710889e-02 alpha:4.000000 sr2:6.068492e-11 nsites_difference[84]: 3.573311e-01\r\n",
      "lik[90]=-12209.019312 diff=3.531937e-02 alpha:1.000000 sr2:5.784664e-11 nsites_difference[84]: 3.509585e-01\r\n",
      "lik[92]=-12208.985668 diff=3.364389e-02 alpha:4.000000 sr2:5.517549e-11 nsites_difference[84]: 3.446551e-01\r\n",
      "lik[94]=-12208.953595 diff=3.207342e-02 alpha:1.000000 sr2:5.265879e-11 nsites_difference[84]: 3.384240e-01\r\n",
      "lik[96]=-12208.922995 diff=3.059979e-02 alpha:4.000000 sr2:5.028509e-11 nsites_difference[84]: 3.322682e-01\r\n",
      "lik[98]=-12208.893779 diff=2.921559e-02 alpha:1.000000 sr2:4.804405e-11 nsites_difference[84]: 3.261899e-01\r\n",
      "lik[100]=-12208.865865 diff=2.791411e-02 alpha:4.000000 sr2:4.592626e-11 nsites_difference[84]: 3.201913e-01\r\n",
      "likelihood: -12208.865865\r\n",
      "------------\r\n",
      "\t-> Done reading data from chromosome will prepare next chromosome\r\n",
      "\t-> Only read nSites: 0 will therefore prepare next chromosome (or exit)\r\n",
      "\r\n",
      "\t-> NB output is no longer log probs of the frequency spectrum!\r\n",
      "\t-> Output is now simply the expected values! \r\n",
      "\t-> You can convert to the old format simply with log(norm(x))\r\n",
      "\r\n",
      "\t-> Please check that it has converged!\r\n",
      "\t-> You can add start new optimization by supplying -sfs FILE, where is >FILE from this run\r\n",
      "\t-> -maxIter INT -tole FLOAT\r\n",
      "[persaf::persaf_init] Version of parviglumis_ds1.saf.idx is 3\r\n",
      "[persaf::persaf_init] Assuming .saf.gz file is parviglumis_ds1.saf.gz\r\n",
      "[persaf::persaf_init] Assuming .saf.pos.gz file is parviglumis_ds1.saf.pos.gz\r\n",
      "[persaf::persaf_init] Version of ozark_ds1.saf.idx is 3\r\n",
      "[persaf::persaf_init] Assuming .saf.gz file is ozark_ds1.saf.gz\r\n",
      "[persaf::persaf_init] Assuming .saf.pos.gz file is ozark_ds1.saf.pos.gz\r\n",
      "\t-> args: tole:0.000000 nthreads:4 maxiter:100 nsites(block):0 start:(null) chr:(null) start:-1 stop:-1 fstout:(null) oldout:0 seed:-1 bootstrap:0 resample_chr:0 whichFst:0 fold:0 ref:(null) anc:(null)\r\n",
      "[main] Multi SFS is 'still' under development. Please report strange behaviour.\r\n",
      "\t-> The choice of -nSites will require atleast: 347.576385 megabyte memory, that is at least: 0.09% of total memory\r\n",
      "\t-> dim(parviglumis_ds1.saf.idx):33\r\n",
      "\t-> dim(ozark_ds1.saf.idx):19\r\n",
      "\t-> Dimension of parameter space: 627\r\n",
      "\t-> Done reading data from chromosome will prepare next chromosome\r\n",
      "\t-> Is in multi sfs, will now read data from chr:9\r\n",
      "\t-> hello Im the master merge part of realSFS. and I'll now do a tripple bypass to find intersect \r\n",
      "\t-> 1) Will set iter according to chooseChr and start and stop, and possibly using -sites\r\n",
      "\t-> Sites to keep[9] from pop0:\t812441\r\n",
      "\t-> Sites to keep[9] from pop1:\t812441\r\n",
      "\t-> [readdata] lastread:812441 posi:29332\r\n",
      "\t-> Comparing positions: 1 with 0 has:812441\r\n",
      "\t-> Only read nSites: 812441 will therefore prepare next chromosome (or exit)\r\n",
      "\t-> Done reading data from chromosome will prepare next chromosome\r\n",
      "\t-> Will run optimization on nSites: 812441\r\n",
      "------------\r\n",
      "startlik=-4427329.255809\r\n",
      "lik[2]=-403364.766177 diff=4.023964e+06 alpha:1.000000 sr2:1.855529e-01 nsites_difference[0]: 5.436569e+05\r\n",
      "\t-> Instability detected, accelerated guess is too close to bound or outside will fallback to regular EM for this step\r\n",
      "lik[4]=-300402.532284 diff=1.029622e+05 alpha:1.890933 sr2:2.547519e-02 nsites_difference[0]: 1.689718e+05\r\n",
      "lik[6]=-286245.017484 diff=1.415751e+04 alpha:1.000000 sr2:1.480161e-03 nsites_difference[0]: 3.760140e+04\r\n",
      "lik[9]=-282262.699480 diff=3.982318e+03 alpha:2.378390 sr2:1.206032e-04 nsites_difference[0]: 1.636286e+04\r\n",
      "lik[12]=-282131.775642 diff=1.309238e+02 alpha:3.635074 sr2:4.753400e-07 nsites_difference[1]: 1.563694e+03\r\n",
      "\t-> Instability detected, accelerated guess is too close to bound or outside will fallback to regular EM for this step\r\n",
      "lik[14]=-282126.716753 diff=5.058889e+00 alpha:3.233214 sr2:1.158684e-08 nsites_difference[0]: 1.060949e+02\r\n",
      "lik[16]=-282122.958419 diff=3.758334e+00 alpha:1.000000 sr2:4.224107e-09 nsites_difference[1]: 7.026566e+01\r\n",
      "\t-> Instability detected, accelerated guess is too close to bound or outside will fallback to regular EM for this step\r\n",
      "lik[18]=-282119.997323 diff=2.961097e+00 alpha:4.000000 sr2:2.442654e-09 nsites_difference[1]: 5.510842e+01\r\n",
      "lik[20]=-282117.576934 diff=2.420389e+00 alpha:1.000000 sr2:1.563162e-09 nsites_difference[1]: 4.423076e+01\r\n",
      "\t-> Instability detected, accelerated guess is too close to bound or outside will fallback to regular EM for this step\r\n",
      "lik[22]=-282115.539676 diff=2.037257e+00 alpha:4.000000 sr2:1.052637e-09 nsites_difference[1]: 3.615357e+01\r\n",
      "lik[24]=-282113.784012 diff=1.755665e+00 alpha:1.000000 sr2:7.360785e-10 nsites_difference[1]: 3.000455e+01\r\n",
      "\t-> Instability detected, accelerated guess is too close to bound or outside will fallback to regular EM for this step\r\n",
      "lik[26]=-282112.242028 diff=1.541983e+00 alpha:4.000000 sr2:5.312301e-10 nsites_difference[1]: 2.522765e+01\r\n",
      "lik[28]=-282110.866814 diff=1.375214e+00 alpha:1.000000 sr2:3.941459e-10 nsites_difference[1]: 2.145267e+01\r\n",
      "\t-> Instability detected, accelerated guess is too close to bound or outside will fallback to regular EM for this step\r\n",
      "lik[30]=-282109.625021 diff=1.241793e+00 alpha:4.000000 sr2:2.997725e-10 nsites_difference[1]: 1.842519e+01\r\n",
      "lik[32]=-282108.492328 diff=1.132693e+00 alpha:1.000000 sr2:2.331775e-10 nsites_difference[1]: 1.596580e+01\r\n",
      "lik[34]=-282107.450577 diff=1.041751e+00 alpha:4.000000 sr2:1.851405e-10 nsites_difference[1]: 1.394515e+01\r\n",
      "lik[36]=-282106.485919 diff=9.646583e-01 alpha:1.000000 sr2:1.497961e-10 nsites_difference[1]: 1.226815e+01\r\n",
      "lik[38]=-282105.587575 diff=8.983435e-01 alpha:4.000000 sr2:1.233154e-10 nsites_difference[1]: 1.086374e+01\r\n",
      "lik[40]=-282104.747003 diff=8.405718e-01 alpha:1.000000 sr2:1.031415e-10 nsites_difference[1]: 9.677951e+00\r\n",
      "lik[42]=-282103.957314 diff=7.896896e-01 alpha:4.000000 sr2:8.753194e-11 nsites_difference[1]: 8.669281e+00\r\n",
      "lik[44]=-282103.212862 diff=7.444518e-01 alpha:1.000000 sr2:7.527749e-11 nsites_difference[1]: 7.805391e+00\r\n",
      "lik[46]=-282102.508956 diff=7.039057e-01 alpha:4.000000 sr2:6.552501e-11 nsites_difference[1]: 7.060817e+00\r\n",
      "lik[48]=-282101.841646 diff=6.673108e-01 alpha:1.000000 sr2:5.766338e-11 nsites_difference[1]: 6.415300e+00\r\n",
      "lik[50]=-282101.207563 diff=6.340826e-01 alpha:4.000000 sr2:5.124878e-11 nsites_difference[1]: 5.852579e+00\r\n",
      "lik[52]=-282100.603809 diff=6.037535e-01 alpha:1.000000 sr2:4.595465e-11 nsites_difference[1]: 5.359493e+00\r\n",
      "lik[54]=-282100.027865 diff=5.759440e-01 alpha:4.000000 sr2:4.153786e-11 nsites_difference[1]: 4.925310e+00\r\n",
      "lik[56]=-282099.477523 diff=5.503422e-01 alpha:1.000000 sr2:3.781534e-11 nsites_difference[1]: 4.541218e+00\r\n",
      "lik[58]=-282098.950834 diff=5.266889e-01 alpha:4.000000 sr2:3.464773e-11 nsites_difference[1]: 4.199939e+00\r\n",
      "lik[60]=-282098.446068 diff=5.047664e-01 alpha:1.000000 sr2:3.192796e-11 nsites_difference[1]: 3.895425e+00\r\n",
      "lik[62]=-282097.961678 diff=4.843897e-01 alpha:4.000000 sr2:2.957290e-11 nsites_difference[1]: 3.622625e+00\r\n",
      "lik[64]=-282097.496277 diff=4.654008e-01 alpha:1.000000 sr2:2.751747e-11 nsites_difference[76]: 3.378048e+00\r\n",
      "lik[66]=-282097.048614 diff=4.476631e-01 alpha:4.000000 sr2:2.571026e-11 nsites_difference[76]: 3.319081e+00\r\n",
      "lik[68]=-282096.617556 diff=4.310582e-01 alpha:1.000000 sr2:2.411033e-11 nsites_difference[76]: 3.262400e+00\r\n",
      "lik[70]=-282096.202074 diff=4.154824e-01 alpha:4.000000 sr2:2.268479e-11 nsites_difference[76]: 3.207754e+00\r\n",
      "lik[72]=-282095.801229 diff=4.008447e-01 alpha:1.000000 sr2:2.140707e-11 nsites_difference[76]: 3.154930e+00\r\n",
      "lik[74]=-282095.414165 diff=3.870645e-01 alpha:4.000000 sr2:2.025548e-11 nsites_difference[76]: 3.103752e+00\r\n",
      "lik[76]=-282095.040094 diff=3.740705e-01 alpha:1.000000 sr2:1.921225e-11 nsites_difference[76]: 3.054071e+00\r\n",
      "lik[78]=-282094.678295 diff=3.617989e-01 alpha:4.000000 sr2:1.826268e-11 nsites_difference[76]: 3.005760e+00\r\n",
      "lik[80]=-282094.328102 diff=3.501928e-01 alpha:1.000000 sr2:1.739454e-11 nsites_difference[76]: 2.958713e+00\r\n",
      "lik[82]=-282093.988901 diff=3.392011e-01 alpha:4.000000 sr2:1.659763e-11 nsites_difference[76]: 2.912839e+00\r\n",
      "lik[84]=-282093.660123 diff=3.287777e-01 alpha:1.000000 sr2:1.586333e-11 nsites_difference[76]: 2.868060e+00\r\n",
      "lik[86]=-282093.341242 diff=3.188811e-01 alpha:4.000000 sr2:1.518436e-11 nsites_difference[76]: 2.824309e+00\r\n",
      "lik[88]=-282093.031769 diff=3.094735e-01 alpha:1.000000 sr2:1.455451e-11 nsites_difference[76]: 2.781528e+00\r\n",
      "lik[90]=-282092.731248 diff=3.005207e-01 alpha:4.000000 sr2:1.396848e-11 nsites_difference[76]: 2.739667e+00\r\n",
      "lik[92]=-282092.439256 diff=2.919918e-01 alpha:1.000000 sr2:1.342170e-11 nsites_difference[76]: 2.698683e+00\r\n",
      "lik[94]=-282092.155398 diff=2.838582e-01 alpha:4.000000 sr2:1.291023e-11 nsites_difference[76]: 2.658537e+00\r\n",
      "lik[96]=-282091.879304 diff=2.760940e-01 alpha:1.000000 sr2:1.243064e-11 nsites_difference[76]: 2.619195e+00\r\n",
      "lik[98]=-282091.610629 diff=2.686755e-01 alpha:4.000000 sr2:1.197995e-11 nsites_difference[76]: 2.580626e+00\r\n",
      "lik[100]=-282091.349048 diff=2.615809e-01 alpha:1.000000 sr2:1.155554e-11 nsites_difference[76]: 2.542803e+00\r\n",
      "likelihood: -282091.349048\r\n",
      "------------\r\n",
      "\t-> Done reading data from chromosome will prepare next chromosome\r\n",
      "\t-> Only read nSites: 0 will therefore prepare next chromosome (or exit)\r\n",
      "\r\n",
      "\t-> NB output is no longer log probs of the frequency spectrum!\r\n",
      "\t-> Output is now simply the expected values! \r\n",
      "\t-> You can convert to the old format simply with log(norm(x))\r\n",
      "\r\n",
      "\t-> Please check that it has converged!\r\n",
      "\t-> You can add start new optimization by supplying -sfs FILE, where is >FILE from this run\r\n",
      "\t-> -maxIter INT -tole FLOAT\r\n",
      "[persaf::persaf_init] Version of ozark_ds1.saf.idx is 3\r\n",
      "[persaf::persaf_init] Assuming .saf.gz file is ozark_ds1.saf.gz\r\n",
      "[persaf::persaf_init] Assuming .saf.pos.gz file is ozark_ds1.saf.pos.gz\r\n",
      "[persaf::persaf_init] Version of sw750_ds1.saf.idx is 3\r\n",
      "[persaf::persaf_init] Assuming .saf.gz file is sw750_ds1.saf.gz\r\n",
      "[persaf::persaf_init] Assuming .saf.pos.gz file is sw750_ds1.saf.pos.gz\r\n",
      "\t-> args: tole:0.000000 nthreads:4 maxiter:100 nsites(block):0 start:(null) chr:(null) start:-1 stop:-1 fstout:(null) oldout:0 seed:-1 bootstrap:0 resample_chr:0 whichFst:0 fold:0 ref:(null) anc:(null)\r\n",
      "[main] Multi SFS is 'still' under development. Please report strange behaviour.\r\n",
      "\t-> The choice of -nSites will require atleast: 100.892067 megabyte memory, that is at least: 0.03% of total memory\r\n",
      "\t-> dim(ozark_ds1.saf.idx):19\r\n",
      "\t-> dim(sw750_ds1.saf.idx):21\r\n",
      "\t-> Dimension of parameter space: 399\r\n",
      "\t-> Done reading data from chromosome will prepare next chromosome\r\n",
      "\t-> Is in multi sfs, will now read data from chr:9\r\n",
      "\t-> hello Im the master merge part of realSFS. and I'll now do a tripple bypass to find intersect \r\n",
      "\t-> 1) Will set iter according to chooseChr and start and stop, and possibly using -sites\r\n",
      "\t-> Sites to keep[9] from pop0:\t24437\r\n",
      "\t-> Sites to keep[9] from pop1:\t24437\r\n",
      "\t-> [readdata] lastread:24437 posi:564186\r\n",
      "\t-> Comparing positions: 1 with 0 has:24437\r\n",
      "\t-> Only read nSites: 24437 will therefore prepare next chromosome (or exit)\r\n",
      "\t-> Done reading data from chromosome will prepare next chromosome\r\n",
      "\t-> Will run optimization on nSites: 24437\r\n",
      "------------\r\n",
      "startlik=-121396.536416\r\n",
      "\t-> Instability detected, accelerated guess is too close to bound or outside will fallback to regular EM for this step\r\n",
      "lik[2]=-10051.596861 diff=1.113449e+05 alpha:1.000000 sr2:1.857797e-01 nsites_difference[0]: 1.717337e+04\r\n",
      "lik[4]=-6842.552817 diff=3.209044e+03 alpha:1.785155 sr2:2.514018e-02 nsites_difference[0]: 4.971738e+03\r\n",
      "lik[6]=-6459.848919 diff=3.827039e+02 alpha:1.000000 sr2:1.079580e-03 nsites_difference[0]: 9.737778e+02\r\n",
      "lik[8]=-6392.602139 diff=6.724678e+01 alpha:2.265016 sr2:7.114644e-05 nsites_difference[0]: 2.504643e+02\r\n",
      "lik[10]=-6376.396331 diff=1.620581e+01 alpha:1.000000 sr2:7.826211e-06 nsites_difference[0]: 8.349431e+01\r\n",
      "lik[12]=-6371.209965 diff=5.186366e+00 alpha:3.129419 sr2:1.311929e-06 nsites_difference[0]: 3.399767e+01\r\n",
      "lik[14]=-6369.067571 diff=2.142394e+00 alpha:1.000000 sr2:3.034152e-07 nsites_difference[21]: 1.621486e+01\r\n",
      "lik[16]=-6367.974642 diff=1.092928e+00 alpha:4.000000 sr2:9.011195e-08 nsites_difference[21]: 9.344195e+00\r\n",
      "lik[18]=-6367.321116 diff=6.535260e-01 alpha:1.000000 sr2:3.269887e-08 nsites_difference[21]: 5.873711e+00\r\n",
      "lik[20]=-6366.883136 diff=4.379807e-01 alpha:4.000000 sr2:1.395814e-08 nsites_difference[21]: 3.950743e+00\r\n",
      "lik[22]=-6366.564815 diff=3.183202e-01 alpha:1.000000 sr2:6.796726e-09 nsites_difference[21]: 2.802027e+00\r\n",
      "lik[24]=-6366.319680 diff=2.451354e-01 alpha:4.000000 sr2:3.681539e-09 nsites_difference[21]: 2.072205e+00\r\n",
      "lik[26]=-6366.122901 diff=1.967788e-01 alpha:1.000000 sr2:2.173800e-09 nsites_difference[21]: 1.584476e+00\r\n",
      "lik[28]=-6365.960133 diff=1.627679e-01 alpha:4.000000 sr2:1.376686e-09 nsites_difference[21]: 1.244712e+00\r\n",
      "lik[30]=-6365.822524 diff=1.376092e-01 alpha:1.000000 sr2:9.230533e-10 nsites_difference[21]: 9.997538e-01\r\n",
      "lik[32]=-6365.704292 diff=1.182317e-01 alpha:4.000000 sr2:6.483679e-10 nsites_difference[21]: 8.179912e-01\r\n",
      "lik[34]=-6365.601470 diff=1.028223e-01 alpha:1.000000 sr2:4.730419e-10 nsites_difference[21]: 6.797699e-01\r\n",
      "lik[36]=-6365.511213 diff=9.025706e-02 alpha:4.000000 sr2:3.559938e-10 nsites_difference[21]: 5.723954e-01\r\n",
      "lik[38]=-6365.431405 diff=7.980842e-02 alpha:1.000000 sr2:2.748019e-10 nsites_difference[21]: 4.874014e-01\r\n",
      "lik[40]=-6365.360419 diff=7.098586e-02 alpha:4.000000 sr2:2.166189e-10 nsites_difference[21]: 4.189873e-01\r\n",
      "lik[42]=-6365.296972 diff=6.344631e-02 alpha:1.000000 sr2:1.737596e-10 nsites_difference[21]: 3.630870e-01\r\n",
      "lik[44]=-6365.240031 diff=5.694160e-02 alpha:4.000000 sr2:1.414456e-10 nsites_difference[21]: 3.167942e-01\r\n",
      "lik[46]=-6365.188744 diff=5.128673e-02 alpha:1.000000 sr2:1.166005e-10 nsites_difference[21]: 2.779955e-01\r\n",
      "lik[48]=-6365.142404 diff=4.634006e-02 alpha:4.000000 sr2:9.717947e-11 nsites_difference[21]: 2.451297e-01\r\n",
      "lik[50]=-6365.100413 diff=4.199063e-02 alpha:1.000000 sr2:8.178423e-11 nsites_difference[21]: 2.170271e-01\r\n",
      "lik[52]=-6365.062264 diff=3.814974e-02 alpha:4.000000 sr2:6.943330e-11 nsites_difference[21]: 1.927990e-01\r\n",
      "lik[54]=-6365.027518 diff=3.474532e-02 alpha:1.000000 sr2:5.942176e-11 nsites_difference[21]: 1.717614e-01\r\n",
      "lik[56]=-6364.995800 diff=3.171796e-02 alpha:4.000000 sr2:5.123279e-11 nsites_difference[21]: 1.533812e-01\r\n",
      "lik[58]=-6364.966782 diff=2.901815e-02 alpha:1.000000 sr2:4.448066e-11 nsites_difference[21]: 1.372373e-01\r\n",
      "lik[60]=-6364.940178 diff=2.660415e-02 alpha:4.000000 sr2:3.887286e-11 nsites_difference[65]: 1.281423e-01\r\n",
      "lik[62]=-6364.915738 diff=2.444055e-02 alpha:1.000000 sr2:3.418454e-11 nsites_difference[65]: 1.228071e-01\r\n",
      "lik[64]=-6364.893241 diff=2.249707e-02 alpha:4.000000 sr2:3.024076e-11 nsites_difference[65]: 1.176844e-01\r\n",
      "lik[66]=-6364.872493 diff=2.074766e-02 alpha:1.000000 sr2:2.690407e-11 nsites_difference[65]: 1.127703e-01\r\n",
      "lik[68]=-6364.853323 diff=1.916983e-02 alpha:4.000000 sr2:2.406543e-11 nsites_difference[65]: 1.080601e-01\r\n",
      "lik[70]=-6364.835579 diff=1.774404e-02 alpha:1.000000 sr2:2.163771e-11 nsites_difference[65]: 1.035490e-01\r\n",
      "lik[72]=-6364.819126 diff=1.645329e-02 alpha:4.000000 sr2:1.955079e-11 nsites_difference[65]: 9.923193e-02\r\n",
      "lik[74]=-6364.803843 diff=1.528271e-02 alpha:1.000000 sr2:1.774789e-11 nsites_difference[65]: 9.510346e-02\r\n",
      "lik[76]=-6364.789624 diff=1.421928e-02 alpha:4.000000 sr2:1.618281e-11 nsites_difference[65]: 9.115808e-02\r\n",
      "lik[78]=-6364.776372 diff=1.325155e-02 alpha:1.000000 sr2:1.481773e-11 nsites_difference[65]: 8.739010e-02\r\n",
      "lik[80]=-6364.764003 diff=1.236947e-02 alpha:4.000000 sr2:1.362157e-11 nsites_difference[65]: 8.379375e-02\r\n",
      "lik[82]=-6364.752439 diff=1.156413e-02 alpha:1.000000 sr2:1.256868e-11 nsites_difference[65]: 8.036321e-02\r\n",
      "lik[84]=-6364.741611 diff=1.082769e-02 alpha:4.000000 sr2:1.163781e-11 nsites_difference[65]: 7.709263e-02\r\n",
      "lik[86]=-6364.731458 diff=1.015318e-02 alpha:1.000000 sr2:1.081128e-11 nsites_difference[65]: 7.397615e-02\r\n",
      "lik[88]=-6364.721923 diff=9.534431e-03 alpha:4.000000 sr2:1.007432e-11 nsites_difference[65]: 7.100794e-02\r\n",
      "lik[90]=-6364.712957 diff=8.965967e-03 alpha:1.000000 sr2:9.414552e-12 nsites_difference[65]: 6.818224e-02\r\n",
      "lik[92]=-6364.704514 diff=8.442906e-03 alpha:4.000000 sr2:8.821577e-12 nsites_difference[65]: 6.549334e-02\r\n",
      "lik[94]=-6364.696554 diff=7.960900e-03 alpha:1.000000 sr2:8.286608e-12 nsites_difference[65]: 6.293563e-02\r\n",
      "lik[96]=-6364.689037 diff=7.516070e-03 alpha:4.000000 sr2:7.802205e-12 nsites_difference[65]: 6.050358e-02\r\n",
      "lik[98]=-6364.681933 diff=7.104951e-03 alpha:1.000000 sr2:7.362044e-12 nsites_difference[65]: 5.819181e-02\r\n",
      "lik[100]=-6364.675208 diff=6.724442e-03 alpha:4.000000 sr2:6.960734e-12 nsites_difference[65]: 5.599504e-02\r\n",
      "likelihood: -6364.675208\r\n",
      "------------\r\n",
      "\t-> Done reading data from chromosome will prepare next chromosome\r\n",
      "\t-> Only read nSites: 0 will therefore prepare next chromosome (or exit)\r\n",
      "\r\n",
      "\t-> NB output is no longer log probs of the frequency spectrum!\r\n",
      "\t-> Output is now simply the expected values! \r\n",
      "\t-> You can convert to the old format simply with log(norm(x))\r\n",
      "\r\n",
      "\t-> Please check that it has converged!\r\n",
      "\t-> You can add start new optimization by supplying -sfs FILE, where is >FILE from this run\r\n",
      "\t-> -maxIter INT -tole FLOAT\r\n",
      "\n"
     ]
    }
   ],
   "source": [
    "# parviglumis X US SW:\n",
    "realSFS parviglumis_ds1.saf.idx sw750_ds1.saf.idx > parviglumis_sw750.sfs\n",
    "\n",
    "# parviglumis X Ozarks:\n",
    "realSFS parviglumis_ds1.saf.idx ozark_ds1.saf.idx > parviglumis_ozark.sfs\n",
    "\n",
    "# Ozarks X US SW:\n",
    "realSFS ozark_ds1.saf.idx sw750_ds1.saf.idx > ozark_sw750.sfs\n",
    "\n"
   ]
  },
  {
   "cell_type": "markdown",
   "id": "9e0706cc",
   "metadata": {
    "kernel": "SoS"
   },
   "source": [
    "#### 3. Estimate the three-pops FST \n",
    "Now we will estimate the F_ST using our GL and 2D-SFS (the order of the populations here will determine the order of the results in the output file):"
   ]
  },
  {
   "cell_type": "code",
   "execution_count": 19,
   "id": "1af0yjwe",
   "metadata": {
    "kernel": "Calysto Bash"
   },
   "outputs": [
    {
     "name": "stdout",
     "output_type": "stream",
     "text": [
      "[persaf::persaf_init] Version of parviglumis_ds1.saf.idx is 3\r\n",
      "[persaf::persaf_init] Assuming .saf.gz file is parviglumis_ds1.saf.gz\r\n",
      "[persaf::persaf_init] Assuming .saf.pos.gz file is parviglumis_ds1.saf.pos.gz\r\n",
      "[persaf::persaf_init] Version of ozark_ds1.saf.idx is 3\r\n",
      "[persaf::persaf_init] Assuming .saf.gz file is ozark_ds1.saf.gz\r\n",
      "[persaf::persaf_init] Assuming .saf.pos.gz file is ozark_ds1.saf.pos.gz\r\n",
      "[persaf::persaf_init] Version of sw750_ds1.saf.idx is 3\r\n",
      "[persaf::persaf_init] Assuming .saf.gz file is sw750_ds1.saf.gz\r\n",
      "[persaf::persaf_init] Assuming .saf.pos.gz file is sw750_ds1.saf.pos.gz\r\n",
      "\t-> args: tole:0.000000 nthreads:4 maxiter:100 nsites(block):0 start:parviglumis_ozark.sfs chr:(null) start:-1 stop:-1 fstout:parviglumis_ozark_sw750 oldout:0 seed:-1 bootstrap:0 resample_chr:0 whichFst:1 fold:0 ref:(null) anc:(null)\r\n",
      "\t-> nSites: 100000\r\n",
      "\t-> IMPORTANT: please make sure that your saf files haven't been folded with -fold 1 in -doSaf in angsd\r\n",
      "\t-> [bhatiaFst] sfs1:32 sfs2:18 dimspace:627 \r\n",
      "\t-> generating offset remapper lookup\r\n",
      "\t-> isSame:1 adjusting foldfactors\r\n",
      "\t-> [bhatiaFst] sfs1:32 sfs2:20 dimspace:693 \r\n",
      "\t-> generating offset remapper lookup\r\n",
      "\t-> isSame:1 adjusting foldfactors\r\n",
      "\t-> [bhatiaFst] sfs1:18 sfs2:20 dimspace:399 \r\n",
      "\t-> generating offset remapper lookup\r\n",
      "\t-> isSame:1 adjusting foldfactors\r\n",
      "\t-> Reading: parviglumis_ozark.sfs assuming counts (will normalize to probs internally)\r\n",
      "\t-> Reading: parviglumis_sw750.sfs assuming counts (will normalize to probs internally)\r\n",
      "\t-> Reading: ozark_sw750.sfs assuming counts (will normalize to probs internally)\r\n",
      "\t-> Done reading data from chromosome will prepare next chromosome\r\n",
      "\t-> hello Im the master merge part of realSFS. and I'll now do a tripple bypass to find intersect \r\n",
      "\t-> 1) Will set iter according to chooseChr and start and stop, and possibly using -sites\r\n",
      "\t-> Sites to keep[9] from pop0:\t24401\r\n",
      "\t-> Sites to keep[9] from pop1:\t24401\r\n",
      "\t-> Sites to keep[9] from pop2:\t24401\r\n",
      "\t-> [readdata] lastread:24401 posi:564186\r\n",
      "\t-> Comparing positions: 1 with 0 has:24401\r\n",
      "\t-> Comparing positions: 2 with 0 has:24401\r\n",
      "\t-> Will now do fst temp dump using a chunk of 24401\r\n",
      "\t-> Only read nSites: 0 will therefore prepare next chromosome (or exit)\r\n",
      "\t-> Will now do fst temp dump using a chunk of 0\r\n",
      "\t-> fst index finished with no errors!\r\n",
      "\t\t Example runs:\r\n",
      "\t realSFS fst stats  parviglumis_ozark_sw750.fst.idx \r\n",
      "\t realSFS fst stats2 parviglumis_ozark_sw750.fst.idx \r\n",
      "\n"
     ]
    }
   ],
   "source": [
    "realSFS fst index parviglumis_ds1.saf.idx ozark_ds1.saf.idx sw750_ds1.saf.idx -fstout parviglumis_ozark_sw750 -whichFst 1 -sfs parviglumis_ozark.sfs -sfs parviglumis_sw750.sfs -sfs ozark_sw750.sfs\n",
    "\n"
   ]
  },
  {
   "cell_type": "markdown",
   "id": "05bec2e7",
   "metadata": {
    "kernel": "SoS"
   },
   "source": [
    "####4. Estimate PBS in 5kb windowns\n",
    "We estimate the FST and PBS along chromosome 4 for in windowns of 5kb:"
   ]
  },
  {
   "cell_type": "code",
   "execution_count": 20,
   "id": "jygnj349",
   "metadata": {
    "kernel": "Calysto Bash"
   },
   "outputs": [
    {
     "name": "stdout",
     "output_type": "stream",
     "text": [
      "\t-> Assuming idxname:parviglumis_ozark_sw750.fst.idx\r\n",
      "\t-> Assuming .fst.gz file: parviglumis_ozark_sw750.fst.gz\r\n",
      "\t-> args: tole:0.000000 nthreads:4 maxiter:100 nsites(block):0 start:(null) chr:(null) start:-1 stop:-1 fstout:(null) oldout:0 seed:-1 bootstrap:0 resample_chr:0 whichFst:0 fold:0 ref:(null) anc:(null)\r\n",
      "win:5000 step:1000\r\n",
      "nSites:24401\r\n",
      "\n"
     ]
    }
   ],
   "source": [
    "realSFS fst stats2 parviglumis_ozark_sw750.fst.idx -win 5000 -step 1000  > parviglumis_ozark_sw750_chr9_5Kwin\n",
    "\n"
   ]
  },
  {
   "cell_type": "markdown",
   "id": "asium2q4",
   "metadata": {
    "kernel": "SoS"
   },
   "source": [
    "Once it is done running, we can take a look at the results:\n"
   ]
  },
  {
   "cell_type": "code",
   "execution_count": 21,
   "id": "e4295857",
   "metadata": {
    "kernel": "Calysto Bash"
   },
   "outputs": [
    {
     "name": "stdout",
     "output_type": "stream",
     "text": [
      "region\tchr\tmidPos\tNsites\tFst01\tFst02\tFst12\tPBS0\tPBS1\tPBS2\r\n",
      "(26,26)(565353,565353)(565000,570000)\t9\t567500\t2\t0.016310\t0.016712\t0.019894\t0.006601\t0.009843\t0.010252\r\n",
      "(27,34)(1000300,1000308)(996000,1001000)\t9\t998500\t9\t0.038097\t0.025300\t0.007852\t0.028293\t0.010549\t-0.002667\r\n",
      "(27,34)(1000300,1000308)(997000,1002000)\t9\t999500\t9\t0.038097\t0.025300\t0.007852\t0.028293\t0.010549\t-0.002667\r\n",
      "(27,34)(1000300,1000308)(998000,1003000)\t9\t1000500\t9\t0.038097\t0.025300\t0.007852\t0.028293\t0.010549\t-0.002667\r\n",
      "\n"
     ]
    }
   ],
   "source": [
    "head -n 5 parviglumis_ozark_sw750_chr9_5Kwin\n",
    "\n"
   ]
  },
  {
   "cell_type": "markdown",
   "id": "bb453140",
   "metadata": {
    "kernel": "SoS"
   },
   "source": [
    "#### 5. Plot the results using R\n"
   ]
  },
  {
   "cell_type": "code",
   "execution_count": 22,
   "id": "wmb752",
   "metadata": {
    "kernel": "R"
   },
   "outputs": [
    {
     "data": {
      "text/html": [
       "<strong>pdf:</strong> 2"
      ],
      "text/latex": [
       "\\textbf{pdf:} 2"
      ],
      "text/markdown": [
       "**pdf:** 2"
      ],
      "text/plain": [
       "pdf \n",
       "  2 "
      ]
     },
     "metadata": {},
     "output_type": "display_data"
    },
    {
     "data": {
      "image/png": "[encoded data removed]",
      "text/plain": [
       "plot without title"
      ]
     },
     "metadata": {
      "image/png": {
       "height": 420,
       "width": 420
      }
     },
     "output_type": "display_data"
    }
   ],
   "source": [
    "#read the results:\n",
    "newtab<-read.table('~/current_folder/parviglumis_ozark_sw750_chr9_5Kwin', as.is=T, h=T)\n",
    "\n",
    "#exclude windows with less than 10 SNPs:\n",
    "newtab<-newtab[newtab$Nsites>=10,]\n",
    "\n",
    "#Get the threshold for the 99.5 percentile (notice how we are ploting the PBS1, which corresponds to the PBS of the Ozarks)q995<-quantile(newtab$PBS1[!is.na(newtab$PBS1)], probs=0.995)\n",
    "#This is genomic threshold for the 99.9 percentile:q999GW<-0.721893\n",
    "\n",
    "#make the plot\n",
    "pdf('~/current_folder/pbs_ozarks_5Kwin.pdf', useDingbats=F, width=7.5, heigh=5)\n",
    "\n",
    "plot(as.numeric(newtab$midPos), newtab$PBS1, col='grey80', ylab='PBS Ozarks', ylim=c(0, max(c(newtab$PBS0, newtab$PBS1, newtab$PBS2))+0.1), yaxs='i', , xaxs='i', xlab='Chr9', pch=16)\n",
    "\n",
    "#mark the location of the waxy gene\n",
    "abline(v=newtab$midPos[newtab$midPos>=23267684 & newtab$midPos<=23271612][1], col='black')\n",
    "\n",
    "#mark the 99.5 percentaline for chr4 and the 99.9 percentile for the whole genome:abline(h=q995, col='red', lty=2)\n",
    "#abline(h=q999GW, col='mediumpurple3', lty=2)\n",
    "\n",
    "dev.off()\n",
    "\n",
    "\n",
    "plot(as.numeric(newtab$midPos), newtab$PBS1, col='grey80', ylab='PBS Ozarks', ylim=c(0, max(c(newtab$PBS0, newtab$PBS1, newtab$PBS2))+0.1), yaxs='i', , xaxs='i', xlab='Chr9', pch=16)\n",
    "\n",
    "#mark the location of the waxy gene\n",
    "abline(v=newtab$midPos[newtab$midPos>=23267684 & newtab$midPos<=23271612][1], col='black')\n",
    "\n",
    "#mark the 99.5 percentaline for chr4 and the 99.9 percentile for the whole genome:abline(h=q995, col='red', lty=2)\n",
    "#abline(h=q999GW, col='mediumpurple3', lty=2)\n",
    "\n"
   ]
  },
  {
   "cell_type": "markdown",
   "id": "11550d07",
   "metadata": {
    "kernel": "SoS"
   },
   "source": [
    "Let's look at the results together."
   ]
  }
 ],
 "metadata": {
  "kernelspec": {
   "display_name": "SoS",
   "language": "sos",
   "name": "sos"
  },
  "language_info": {
   "codemirror_mode": "sos",
   "file_extension": ".sos",
   "mimetype": "text/x-sos",
   "name": "sos",
   "nbconvert_exporter": "sos_notebook.converter.SoS_Exporter",
   "pygments_lexer": "sos"
  },
  "sos": {
   "kernels": [
    [
     "Calysto Bash",
     "calysto_bash",
     "bash",
     "",
     ""
    ],
    [
     "Python 3 (ipykernel)",
     "python3",
     "python3",
     "",
     {
      "name": "ipython",
      "version": 3
     }
    ],
    [
     "R",
     "ir",
     "R",
     "",
     "r"
    ]
   ],
   "panel": {
    "displayed": true,
    "height": 0
   },
   "version": "0.24.1"
  }
 },
 "nbformat": 4,
 "nbformat_minor": 5
}
