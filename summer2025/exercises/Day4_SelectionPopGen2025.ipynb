{
 "cells": [
  {
   "cell_type": "markdown",
   "id": "e15e389a",
   "metadata": {
    "kernel": "SoS"
   },
   "source": [
    "# Estimating selection in maize using NGS data\n",
    "\n",
    "\n",
    "For this exercise, we will be working on a dataset that consists of maize genomes from modern and ancient samples. In the first exercise, we will look for selection in 15 domesticated maize (*Zea mays* subsp. *mays*) genomes by estimating Tajima's D. In the second exercise, we will look for selection in a specific population of maize from Eastern North America using the Population Branch Statistic (PBS).\n",
    "\n",
    "### Setup enviroment"
   ]
  },
  {
   "cell_type": "code",
   "execution_count": null,
   "id": "78dc84cf",
   "metadata": {
    "kernel": "Calysto Bash"
   },
   "outputs": [],
   "source": [
    "COURSE_PATH=/course/popgen25\n",
    "DATA_PATH=$COURSE_PATH/selection\n",
    "SOFTWARE_PATH=$COURSE_PATH/software\n",
    "\n",
    "echo --programs that are installed:--\n",
    "type angsd\n",
    "type realSFS\n",
    "type thetaStat\n",
    "\n",
    "#make folder \n",
    "FOLDER=~/SelectionExercise/\n",
    "echo -e \"\\n--creating folder-- \"\n",
    "echo $FOLDER\n",
    "mkdir -p $FOLDER\n",
    "\n",
    "# enter folder\n",
    "cd $FOLDER\n",
    "\n",
    "#make sym link for data and current folder\n",
    "ln -sfn $FOLDER ~/current_folder\n",
    "ln -sfn $DATA_PATH ~/data_folder"
   ]
  },
  {
   "cell_type": "markdown",
   "id": "95d646a9",
   "metadata": {
    "kernel": "SoS"
   },
   "source": [
    "### Estimating Tajima's D in domesticated maize\n",
    "For this exercise we will use 15 domesticated maize genomes from different varieties to look for signatures of selection that the domestication process might have left. For this, we have 15 BAM files with sequencing data for maize chromosome 4:"
   ]
  },
  {
   "cell_type": "code",
   "execution_count": null,
   "id": "asdrcj57",
   "metadata": {
    "kernel": "Calysto Bash"
   },
   "outputs": [],
   "source": [
    "#Go to the working directory where we have the data:\n",
    "\n",
    "# make links to files and add them to the folder\n",
    "cp -r -sf  ${DATA_PATH}/bamfiles .\n",
    "cp -sf ${DATA_PATH}/*fa.gz .\n",
    "cp -sf ${DATA_PATH}/*fai .\n",
    "\n",
    "#You can check which files we have in this directory by typing 'ls': \n",
    "#list of BAM files with domesticated maize data: \n",
    "echo -e \"\\n-- files in folder \"\n",
    "ls\n",
    "\n",
    "echo -e \"\\n-- files in bamfiles folder \"\n",
    "ls bamfiles"
   ]
  },
  {
   "cell_type": "markdown",
   "id": "b5e929ed",
   "metadata": {
    "kernel": "SoS"
   },
   "source": [
    "Now, let's create a list with the BAM files that we will be using:"
   ]
  },
  {
   "cell_type": "code",
   "execution_count": null,
   "id": "c0cc1e1b",
   "metadata": {
    "kernel": "Calysto Bash"
   },
   "outputs": [],
   "source": [
    "#All the modern maize BAM files start with 'RIM'\n",
    "ls bamfiles/RIM*.bam > DomesticatedMaize.txt\n",
    "\n",
    "echo -e \"\\b first lines of file\"\n",
    "head DomesticatedMaize.txt"
   ]
  },
  {
   "cell_type": "markdown",
   "id": "d7b6dc4f",
   "metadata": {
    "kernel": "SoS"
   },
   "source": [
    "#### 1. Estimate Genotype-likelihoods (GL)\n",
    "Now we can estimate GL using ANGSD -doSaf:\n"
   ]
  },
  {
   "cell_type": "code",
   "execution_count": null,
   "id": "71f3e518",
   "metadata": {
    "kernel": "Calysto Bash"
   },
   "outputs": [],
   "source": [
    "# do not run\n",
    "# command takes to long (~Min)\n",
    "# you can run it after class if you want\n",
    "#angsd -bam DomesticatedMaize.txt \\\n",
    "#    -ref B73v3_25.fa.gz \\\n",
    "#    -anc TDD39103.fa.gz \\\n",
    "#    -out maize_chr4 \\\n",
    "#    -doSaf 1 \\\n",
    "#    -C 50 -baq 1 \\\n",
    "#    -GL 2 \\\n",
    "#    -P 5 \\\n",
    "#    -minMapQ 30 \\\n",
    "#    -minQ 20 \\\n",
    "#    -minInd 10 \\\n",
    "#    -setMinDepth 3 \\\n",
    "#    -doCounts 1 \\\n",
    "#    -r 4:1-242029974"
   ]
  },
  {
   "cell_type": "markdown",
   "id": "b5e924as",
   "metadata": {
    "kernel": "SoS"
   },
   "source": [
    "Check which parameters we are using and make sure they make sense to you.\n",
    "\n",
    "This step takes too long to run so wecopy the results from the **res** directory like this (ANGSD outputs three files: maize_chr4.saf.gz, maize_chr4.saf.pos.gz and maize_chr4.saf.idx):"
   ]
  },
  {
   "cell_type": "code",
   "execution_count": null,
   "id": "2bb9bc1e",
   "metadata": {
    "kernel": "Calysto Bash"
   },
   "outputs": [],
   "source": [
    "# copy results of the command and print the log    \n",
    "cp ~/data_folder/res/maize_chr4* .\n",
    "cat maize_chr4.log"
   ]
  },
  {
   "cell_type": "markdown",
   "id": "20adc535",
   "metadata": {
    "kernel": "SoS"
   },
   "source": [
    "#### 2. Estimate the SFS using realSFS\n",
    "We will use realSFS to obtain an estimate of the SFS for domesticated maize. Note that we are providing realSFS the file that ends in *.idx*, which is the index for the GL that we generated before:"
   ]
  },
  {
   "cell_type": "code",
   "execution_count": null,
   "id": "2af555sa2",
   "metadata": {
    "kernel": "Calysto Bash"
   },
   "outputs": [],
   "source": [
    "realSFS maize_chr4.saf.idx > maize_chr4.sfs\n"
   ]
  },
  {
   "cell_type": "markdown",
   "id": "7c049cbf",
   "metadata": {
    "kernel": "SoS"
   },
   "source": [
    "Now we will use R to plot the SFS, just to make sure it looks reasonable."
   ]
  },
  {
   "cell_type": "code",
   "execution_count": null,
   "id": "2af5235j2",
   "metadata": {
    "kernel": "R"
   },
   "outputs": [],
   "source": [
    "#read the file with the SFS:\n",
    "sfsmaize<-scan('~/current_folder/maize_chr4.sfs')\n",
    "\n",
    "#exclude first column and normalise\n",
    "sfsmaize<-sfsmaize[-c(1,length(sfsmaize))]\n",
    "sfsmaize<-sfsmaize/sum(sfsmaize)\n",
    "\n",
    "#create a PDF with the plot (you can also run the barplot line only)\n",
    "pdf('~/current_folder/chr4_sfs.pdf')\n",
    "barplot(sfsmaize, names=1:length(sfsmaize), main='SFS chr4 maize')\n",
    "dev.off()\n",
    "\n",
    "barplot(sfsmaize, names=1:length(sfsmaize), main='SFS chr4 maize')\n",
    "\n",
    "\n"
   ]
  },
  {
   "cell_type": "markdown",
   "id": "0dc9e966",
   "metadata": {
    "kernel": "SoS"
   },
   "source": [
    "To look at the PDF with the plot, go to the main browser tab in jypiter notebook and go to our working directory: \n",
    " **Question**: \n",
    " - What factors do you think could affect our SFS? \n",
    " - What do you think we should consider when deciding which individuals/samples to include in our population?\n",
    "\n",
    "#### 3. Calculate thetas per site\n",
    "We will now use **realSFS saf2theta** to get the two diversity metrics that we need to estimate Tajima's D: theta and Pi."
   ]
  },
  {
   "cell_type": "code",
   "execution_count": null,
   "id": "2af25op1",
   "metadata": {
    "kernel": "Calysto Bash"
   },
   "outputs": [],
   "source": [
    "#this might take a few minutes, so wait until it is done running:\n",
    "realSFS saf2theta maize_chr4.saf.idx  \\\n",
    "    -sfs maize_chr4.sfs \\\n",
    "    -outname maize_chr4\n"
   ]
  },
  {
   "cell_type": "markdown",
   "id": "ad82bb0b",
   "metadata": {
    "kernel": "SoS"
   },
   "source": [
    "#### 4. Estimate Tajima's D\n",
    "Now we will use **thetaStat** to estimate Tajima's D in 5Kb windows along chr4:"
   ]
  },
  {
   "cell_type": "code",
   "execution_count": null,
   "id": "2a05h52",
   "metadata": {
    "kernel": "Calysto Bash"
   },
   "outputs": [],
   "source": [
    "thetaStat do_stat \\\n",
    "    maize_chr4.thetas.idx \\\n",
    "    -win 5000 \\\n",
    "    -step 1000 \\\n",
    "    -outnames maize_chr4.thetas.5kWind\n"
   ]
  },
  {
   "cell_type": "markdown",
   "id": "57f2e647",
   "metadata": {
    "kernel": "SoS"
   },
   "source": [
    "Once it is done running, let's look at the results:"
   ]
  },
  {
   "cell_type": "code",
   "execution_count": null,
   "id": "70895909",
   "metadata": {
    "kernel": "Calysto Bash"
   },
   "outputs": [],
   "source": [
    "head -n 5 maize_chr4.thetas.5kWind.pestPG\n"
   ]
  },
  {
   "cell_type": "markdown",
   "id": "0a8fedd6",
   "metadata": {
    "kernel": "SoS"
   },
   "source": [
    "Can you guess what each column is?\n",
    "\n",
    "####  Plot the results in R"
   ]
  },
  {
   "cell_type": "code",
   "execution_count": null,
   "id": "7912ngw",
   "metadata": {
    "kernel": "R"
   },
   "outputs": [],
   "source": [
    "#read the table with the results from thetaStat:\n",
    "d<-read.table('~/current_folder/maize_chr4.thetas.5kWind.pestPG', as.is=T, h=T, comment.char='')\n",
    "\n",
    "#exclude results that are NaN due to missing data:\n",
    "d<-d[!is.na(d$fuf),]\n",
    "\n",
    "#exclude windows with less than 100 SNPs:\n",
    "d<-d[d$nSites>=100,]\n",
    "\n",
    "#identify the 0.1% windows with the most negative Tajima's D\n",
    "perc01<-sort(d$Tajima)[length(d$Tajima)*0.001]\n",
    "\n",
    "#plot the Tajima's D vs the position along chr4:\n",
    "pdf('~/current_folder/TajimasD_5Kwin.pdf', useDingbats=F, width=7.5, heigh=5)\n",
    "\n",
    "plot(as.numeric(d$WinCenter), d$Tajima, col='grey80', ylab='Tajima D',  xlab='Chr9', pch=16)\n",
    "\n",
    "#draw a line to mark the location of bt2 gene\n",
    "abline(v=c(58979526, 58985686), col='purple')\n",
    "\n",
    "#draw a line to mark the 0.1% most negative D\n",
    "abline(h=perc01, col='red', lty=2)\n",
    "dev.off()\n",
    "\n",
    "plot(as.numeric(d$WinCenter), d$Tajima, col='grey80', ylab='Tajima D',  xlab='Chr9', pch=16)\n",
    "\n",
    "#draw a line to mark the location of bt2 gene\n",
    "abline(v=c(58979526, 58985686), col='purple')\n",
    "\n",
    "#draw a line to mark the 0.1% most negative D\n",
    "abline(h=perc01, col='red', lty=2)"
   ]
  },
  {
   "cell_type": "markdown",
   "id": "206497ad",
   "metadata": {
    "kernel": "SoS"
   },
   "source": [
    "**Question**: \n",
    " - Why do you think we are going for 1) negative Tajima's D and 2) the top 0.01% most negative values?\n",
    "\n",
    "### Population Branch Statistic (PBS)\n",
    "Now we will look for selection specificially in a population of ancient maize in Eastern North America (ENA). We would like to know if there has been any selection in the evolutionary lineage that gave rise to maize in ENA. We know that maize dispersed north from the domestication center reaching the US Southwest (US SW) ~4000 years ago, and then moved into ENA between 2000-1000 years ago (Figure below,left side).\n",
    "\n",
    "So, for this exercise we will use genomic data from three populations:\n",
    "- 9 genomes from the Ozarks rockshelters in ENA\n",
    "- 10 genomes from the Tularosa cave in the US SW\n",
    "- 16 genomes from maize's wild ancestor *Zea mays* subsp. *parviglumis*\n",
    "So, given how these populations are related, we want to setup a PBS test like the one in the figure below (left side)\n",
    "\n",
    "\n",
    "<img src=\"data_folder/Figures/Maize_migNorth.png\" width=\"600\">\n",
    "\n",
    "\n",
    "#### 0. Prepare input files\n",
    "\n",
    "\n",
    "Start by creating a list of BAM files for each population:\n"
   ]
  },
  {
   "cell_type": "code",
   "execution_count": null,
   "id": "32c660fe",
   "metadata": {
    "kernel": "Calysto Bash"
   },
   "outputs": [],
   "source": [
    "#Ozarks maize:\n",
    "ls bamfiles/Ozark*.bam >ozarks.txt\n",
    " \n",
    "#US SW maize:\n",
    "ls bamfiles/Tularosa*.bam >SW750.txt\n",
    "\n",
    "#wild maize:\n",
    "ls bamfiles/TIL*.bam >parviglumis.txt\n",
    "\n"
   ]
  },
  {
   "cell_type": "markdown",
   "id": "b120929",
   "metadata": {
    "kernel": "SoS"
   },
   "source": [
    "#### 1. Estimate GL for each population\n",
    "Now let's estimate GL for each population independently using ANGSD (we will restrict to chr9 so that it is faster to run). Run one by one (it will take a couple of minutes each):\n"
   ]
  },
  {
   "cell_type": "code",
   "execution_count": null,
   "id": "d4e7b1ac",
   "metadata": {
    "kernel": "Calysto Bash",
    "scrolled": true
   },
   "outputs": [],
   "source": [
    "#### takes around 15 min to run all 3. So lets just copy the results\n",
    "# US Southwest:\n",
    "#angsd -bam SW750.txt -ref B73v3_25.fa.gz -anc TDD39103.fa.gz -out sw750_ds1 -doSaf 1 -C 50 -baq 1 -GL 2 -minMapQ 30 -minQ 20 -minInd 6 -setMinDepth 3 -doCounts 1  -r 9:1-157021084 &\n",
    "\n",
    "# Ozarks (Eastern North America):\n",
    "#angsd -bam ozarks.txt -ref B73v3_25.fa.gz -anc TDD39103.fa.gz -out ozark_ds1 -doSaf 1 -C 50 -baq 1 -GL 2 -minMapQ 30 -minQ 20 -minInd 6 -setMinDepth 3 -doCounts 1  -r 9:1-157021084 &\n",
    "\n",
    "# Wild maize (parviglumis):\n",
    "#angsd -bam parviglumis.txt -ref B73v3_25.fa.gz -anc TDD39103.fa.gz -out parviglumis_ds1 -doSaf 1 -C 50 -baq 1 -GL 2 -minMapQ 30 -minQ 20 -minInd 6 -setMinDepth 3 -doCounts 1  -r 9:1-157021084\n",
    "\n",
    "\n",
    "\n",
    "## The he restart the kernal and copy results to your folder instead\n",
    " cp ~/data_folder/res/*ds1* .\n",
    " ls *ds1*\n",
    "\n"
   ]
  },
  {
   "cell_type": "markdown",
   "id": "492a1979",
   "metadata": {
    "kernel": "SoS"
   },
   "source": [
    "Check again the parameters, do they make sense to you?\n",
    "\n",
    "#### 2. Estimate 2D-SFS\n",
    "We now need to estimate the 2-dimension SFS for every combination of 2 populations (again, run one at a time):\n"
   ]
  },
  {
   "cell_type": "code",
   "execution_count": null,
   "id": "46d090d1",
   "metadata": {
    "kernel": "Calysto Bash"
   },
   "outputs": [],
   "source": [
    "# parviglumis X US SW:\n",
    "realSFS parviglumis_ds1.saf.idx sw750_ds1.saf.idx > parviglumis_sw750.sfs\n",
    "\n",
    "# parviglumis X Ozarks:\n",
    "realSFS parviglumis_ds1.saf.idx ozark_ds1.saf.idx > parviglumis_ozark.sfs\n",
    "\n",
    "# Ozarks X US SW:\n",
    "realSFS ozark_ds1.saf.idx sw750_ds1.saf.idx > ozark_sw750.sfs\n",
    "\n"
   ]
  },
  {
   "cell_type": "markdown",
   "id": "9e0706cc",
   "metadata": {
    "kernel": "SoS"
   },
   "source": [
    "#### 3. Estimate the three-pops FST \n",
    "Now we will estimate the F_ST using our GL and 2D-SFS (the order of the populations here will determine the order of the results in the output file):"
   ]
  },
  {
   "cell_type": "code",
   "execution_count": null,
   "id": "1af0yjwe",
   "metadata": {
    "kernel": "Calysto Bash"
   },
   "outputs": [],
   "source": [
    "realSFS fst index parviglumis_ds1.saf.idx ozark_ds1.saf.idx sw750_ds1.saf.idx -fstout parviglumis_ozark_sw750 -whichFst 1 -sfs parviglumis_ozark.sfs -sfs parviglumis_sw750.sfs -sfs ozark_sw750.sfs\n",
    "\n"
   ]
  },
  {
   "cell_type": "markdown",
   "id": "05bec2e7",
   "metadata": {
    "kernel": "SoS"
   },
   "source": [
    "####4. Estimate PBS in 5kb windowns\n",
    "We estimate the FST and PBS along chromosome 4 for in windowns of 5kb:"
   ]
  },
  {
   "cell_type": "code",
   "execution_count": null,
   "id": "jygnj349",
   "metadata": {
    "kernel": "Calysto Bash"
   },
   "outputs": [],
   "source": [
    "realSFS fst stats2 parviglumis_ozark_sw750.fst.idx -win 5000 -step 1000  > parviglumis_ozark_sw750_chr9_5Kwin\n",
    "\n"
   ]
  },
  {
   "cell_type": "markdown",
   "id": "asium2q4",
   "metadata": {
    "kernel": "SoS"
   },
   "source": [
    "Once it is done running, we can take a look at the results:\n"
   ]
  },
  {
   "cell_type": "code",
   "execution_count": null,
   "id": "e4295857",
   "metadata": {
    "kernel": "Calysto Bash"
   },
   "outputs": [],
   "source": [
    "head -n 5 parviglumis_ozark_sw750_chr9_5Kwin\n",
    "\n"
   ]
  },
  {
   "cell_type": "markdown",
   "id": "bb453140",
   "metadata": {
    "kernel": "SoS"
   },
   "source": [
    "#### 5. Plot the results using R\n"
   ]
  },
  {
   "cell_type": "code",
   "execution_count": null,
   "id": "wmb752",
   "metadata": {
    "kernel": "R"
   },
   "outputs": [],
   "source": [
    "#read the results:\n",
    "newtab<-read.table('~/current_folder/parviglumis_ozark_sw750_chr9_5Kwin', as.is=T, h=T)\n",
    "\n",
    "#exclude windows with less than 10 SNPs:\n",
    "newtab<-newtab[newtab$Nsites>=10,]\n",
    "\n",
    "#Get the threshold for the 99.5 percentile (notice how we are ploting the PBS1, which corresponds to the PBS of the Ozarks)q995<-quantile(newtab$PBS1[!is.na(newtab$PBS1)], probs=0.995)\n",
    "#This is genomic threshold for the 99.9 percentile:q999GW<-0.721893\n",
    "\n",
    "#make the plot\n",
    "pdf('~/current_folder/pbs_ozarks_5Kwin.pdf', useDingbats=F, width=7.5, heigh=5)\n",
    "\n",
    "plot(as.numeric(newtab$midPos), newtab$PBS1, col='grey80', ylab='PBS Ozarks', ylim=c(0, max(c(newtab$PBS0, newtab$PBS1, newtab$PBS2))+0.1), yaxs='i', , xaxs='i', xlab='Chr9', pch=16)\n",
    "\n",
    "#mark the location of the waxy gene\n",
    "abline(v=newtab$midPos[newtab$midPos>=23267684 & newtab$midPos<=23271612][1], col='black')\n",
    "\n",
    "#mark the 99.5 percentaline for chr4 and the 99.9 percentile for the whole genome:abline(h=q995, col='red', lty=2)\n",
    "#abline(h=q999GW, col='mediumpurple3', lty=2)\n",
    "\n",
    "dev.off()\n",
    "\n",
    "\n",
    "plot(as.numeric(newtab$midPos), newtab$PBS1, col='grey80', ylab='PBS Ozarks', ylim=c(0, max(c(newtab$PBS0, newtab$PBS1, newtab$PBS2))+0.1), yaxs='i', , xaxs='i', xlab='Chr9', pch=16)\n",
    "\n",
    "#mark the location of the waxy gene\n",
    "abline(v=newtab$midPos[newtab$midPos>=23267684 & newtab$midPos<=23271612][1], col='black')\n",
    "\n",
    "#mark the 99.5 percentaline for chr4 and the 99.9 percentile for the whole genome:abline(h=q995, col='red', lty=2)\n",
    "#abline(h=q999GW, col='mediumpurple3', lty=2)\n",
    "\n"
   ]
  },
  {
   "cell_type": "markdown",
   "id": "11550d07",
   "metadata": {
    "kernel": "SoS"
   },
   "source": [
    "Let's look at the results together."
   ]
  }
 ],
 "metadata": {
  "kernelspec": {
   "display_name": "SoS",
   "language": "sos",
   "name": "sos"
  },
  "language_info": {
   "codemirror_mode": "sos",
   "file_extension": ".sos",
   "mimetype": "text/x-sos",
   "name": "sos",
   "nbconvert_exporter": "sos_notebook.converter.SoS_Exporter",
   "pygments_lexer": "sos"
  },
  "sos": {
   "kernels": [
    [
     "Calysto Bash",
     "calysto_bash",
     "bash",
     "",
     ""
    ],
    [
     "Python 3 (ipykernel)",
     "python3",
     "python3",
     "",
     {
      "name": "ipython",
      "version": 3
     }
    ],
    [
     "R",
     "ir",
     "R",
     "",
     "r"
    ]
   ],
   "panel": {
    "displayed": true,
    "height": 0
   },
   "version": "0.24.1"
  }
 },
 "nbformat": 4,
 "nbformat_minor": 5
}
