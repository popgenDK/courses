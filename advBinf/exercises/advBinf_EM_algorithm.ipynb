{
 "cells": [
  {
   "cell_type": "markdown",
   "metadata": {
    "id": "_dn1YhT1Di4g"
   },
   "source": [
    "# Two-Coin EM Example\n",
    "\n",
    "We observe outcomes from 5 independent sequences of 10 coin tosses each. For each sequence, an **unobserved** choice is made between two biased coins, A and B, and then that chosen coin is tossed 10 times. We see the tosses but not which coin generated each sequence.\n",
    "\n",
    "**Data (5 sequences):**\n",
    "\n",
    "$X_1=`HTTTHHTHTH`=5\\\\\n",
    "X_2=`HHHHTHHHHH`=9\\\\\n",
    "X_3=`HTHTTTHHTT`=8\\\\\n",
    "X_4=`HTHTTTHHTT`=4\\\\\n",
    "X_5=`THHHTHHHTH`=7$\n",
    "\n",
    "## Model\n",
    "\n",
    "- Latent variable for sequence $i$:  \n",
    "  $Z_i \\in \\{A, B\\}$ indicating which coin was used.\n",
    "- Parameters:\n",
    "  - Coin usage frequency: $\\pi = P(Z_i = A)$ so $1-\\pi = P(Z_i = B) = 0.5$.\n",
    "  - Coin frequencies of heads: $\\theta_A = P(H \\mid Z=A)$, $\\theta_B = P(H \\mid Z=B)$.\n",
    "\n",
    "For sequence $i$, $X_i$ be the number of heads and $10-X_i$ the number of tails (e.g., count H/T in the string).\n",
    "\n",
    "The (complete-data) likelihood for one sequence is:\n",
    "\n",
    "\n",
    "$P(X_i| Z_i=A) = \\theta_A^{X_i} (1-\\theta_A)^{10-X_i},\\\\\n",
    "P(X_i| Z_i=B) = \\theta_B^{X_i} (1-\\theta_B)^{10-X_i}.$\n",
    "\n",
    "## EM Algorithm\n",
    "\n",
    "**Initialize** $ \\theta_A^{(0)}, \\theta_B^{(0)}$ (e.g. $\\theta_A^{(0)}=0.6, \\theta_B^{(0)}=0.5$).\n",
    "\n",
    "### E-step (compute expectations)\n",
    "\n",
    "For each sequence $i$, compute the posterior probability that coin A (or B) generated it given theta from the $n$th step in the algorithm. In each step we need to find the posterior probablity of the latent state which is also denoted $q(Z_i)$:\n",
    "\n",
    "$q(Z_i=A)=P(Z_i=A \\mid X_i, \\theta_A^{(n)}, \\theta_B^{(n)})\n",
    "= \\frac{P(X_i|Z_i=A, \\theta_A^{(n)}, \\theta_B^{(n)})P(Z_i=A|\\theta_A^{(n)}, \\theta_B^{(n)})}\n",
    "{\\sum_zP(X_i|Z_i=z, \\theta_A^{(n)}, \\theta_B^{(n)})P(Z_i=z|\\theta_A^{(n)}, \\theta_B^{(n)})}\n",
    "= \\frac{(\\theta_A^{(n)})^{X_i} (1-\\theta_A^{(n)})^{10-X_i}\\times 0.5}\n",
    "{(\\theta_A^{(n)})^{X_i} (1-\\theta_A^{(n)})^{10-X_i}\\times 0.5+(\\theta_B^{(n)})^{X_i} (1-\\theta_B^{(n)})^{10-X_i}\\times 0.5}.$\n",
    "\n",
    "\n",
    "Then $1-P(Z_i=A \\mid X_i, \\theta_A^{(n)}, \\theta_B^{(n)})= P(Z_i=B  \\mid X_i, \\theta_A^{(n)})$.\n",
    "\n",
    "### M-step (maximize expected complete-data log-likelihood)\n",
    "\n",
    "Update parameters using weighted counts (weights = responsibilities):\n",
    "\n",
    "\n",
    "$\\theta_A^{(n+1)} =\n",
    "\\frac{\\sum_{i=1}^N q(Z_i=A)^{(n)} X_i}\n",
    "{\\sum_{i=1}^N q(Z_i=A)^{(n)} (10)}, \\quad\n",
    "\\theta_B^{(n+1)} =\n",
    "\\frac{\\sum_{i=1}^N (1-q(Z_i=A)^{(n)}) X_i}\n",
    "{\\sum_{i=1}^N (1-q(Z_i=A)^{(n)}) (10)}.$\n",
    "\n",
    "**Iterate** E-step and M-step until convergence of the log-likelihood or parameters.\n",
    "here \"(n)\" refers to the $n$th step in the EM algorithm\n",
    "\n",
    "## Applying to the Given Data\n",
    "\n",
    "1. **Count heads/tails** for each sequence to get $(X_i, T_i)$ heads and 10 heads or tails.  \n",
    "2. **Run EM** using the formulas above:  \n",
    "   - E-step: compute $q(Z_i=A)^{(n)}$ for all 5 sequences.  \n",
    "   - M-step: update $\\theta_A, \\theta_B$.  \n",
    "3. **Repeat** until parameter changes are negligible (e.g., $<10^{-4}$).\n",
    "\n",
    "## Notes\n",
    "\n",
    "- EM is guaranteed to **not decrease** the data log-likelihood each iteration.  \n",
    "- Different initializations can converge to slightly different local optima—try a few starts to check stability."
   ]
  },
  {
   "cell_type": "markdown",
   "metadata": {
    "id": "W-EEjkbKPLTy"
   },
   "source": [
    "\n",
    "\n",
    " - What are Z , X and θ  ?\n",
    " - What is P(X|Z,θ)\n",
    " - What is P(Z|X,θ)  ?\n",
    " - What is P(Z|θ)  ?\n"
   ]
  },
  {
   "cell_type": "code",
   "execution_count": null,
   "metadata": {
    "colab": {
     "base_uri": "https://localhost:8080/"
    },
    "id": "cn8vqKg4PCvL",
    "outputId": "e98093fe-ef39-47e2-be5c-070f7a01244a",
    "scrolled": true
   },
   "outputs": [],
   "source": [
    "EMcoinStep<-function(theta,data){\n",
    "  lik <- cbind(#likelihood of data assuming\n",
    "    dbinom(data,10,theta[1]), #coin A\n",
    "    dbinom(data,10,theta[2]) #coin B\n",
    "  )\n",
    "  ##probabilty of coin given data\n",
    "  wA<-lik[,1]*0.5 / (lik[,1]*0.5 + lik[,2]*0.5)\n",
    "  wB<-lik[,2]*0.5 / (lik[,1]*0.5 + lik[,2]*0.5)\n",
    "  newTheta <-c(#n+1 - parameter\n",
    "    sum(data*wA)/sum(data*wA + (10-data)*wA),\n",
    "    sum(data*wB)/sum(data*wB + (10-data)*wB)\n",
    "  )\n",
    "  return(newTheta)\n",
    "}\n",
    "\n",
    "data <- c(5,9,8,4,7)\n",
    "\n",
    "theta <- c(0.5,0.6)\n",
    "for(i in 1:100)\n",
    "  print(theta<-EMcoinStep(theta,data))\n"
   ]
  },
  {
   "cell_type": "markdown",
   "metadata": {
    "id": "EPvrpTCiPD1S"
   },
   "source": [
    "\n",
    "try to run the algorithm in R\n",
    " - do you get the same results as in the review?\n",
    " - what is lik\n",
    " - where is P(z|θ) in the R code\n",
    " - what is wA and wB\n",
    " - what is sum(data*wA)\n",
    " - what is sum(data*wA + (10-data)*wA)\n",
    "\n",
    "\n",
    "In the experiment their is an assumption that each coin will be used with equal probability. Lets try to remove this assumption and instead estimate the probability of using coin A and coin B\n",
    "\n",
    " - try to calculate the expected number of coin A and B tosses from the figure in the article.\n",
    "try to modify the above code to also estimate the probability of using coin A and B.\n",
    " - how many additional parameters needs to be estimated?\n",
    " - implement the new model\n",
    "\n",
    "\n",
    "### Bonus 1 - write the likelihood\n",
    "\n",
    " - try to write the formula for the likelihood you are maximizing\n"
   ]
  },
  {
   "cell_type": "markdown",
   "metadata": {},
   "source": [
    "$p(X|\\theta)$"
   ]
  },
  {
   "cell_type": "markdown",
   "metadata": {
    "id": "FGG26NOCLJW6"
   },
   "source": [
    "### Bonus 2 - What if we don't know the coin probability\n",
    "instead of assuming the coin probability is 0.5 we can estimate it from the data"
   ]
  },
  {
   "cell_type": "code",
   "execution_count": null,
   "metadata": {
    "colab": {
     "base_uri": "https://localhost:8080/"
    },
    "id": "ZcEA99d_Kbjj",
    "outputId": "8d210f11-bd38-46d9-ed4a-7daa416624d7",
    "scrolled": true
   },
   "outputs": [],
   "source": [
    "EMcoinStep2<-function(theta,data){\n",
    "  pA <- theta[3]\n",
    "  pB <- 1-pA\n",
    "  lik <- cbind(#likelihood of data assuming\n",
    "    dbinom(data,10,theta[1]), #coin A\n",
    "    dbinom(data,10,theta[2]) #coin B\n",
    "  )\n",
    "  ##probabilty of coin given data\n",
    "  wA<-lik[,1]*pA / (lik[,1]*pA + lik[,2]*pB)\n",
    "  wB<-lik[,2]*pB / (lik[,1]*pA + lik[,2]*pB)\n",
    "  newTheta <-c(#n+1 - parameter\n",
    "    sum(data*wA)/sum(data*wA + (10-data)*wA),\n",
    "    sum(data*wB)/sum(data*wB + (10-data)*wB),\n",
    "    sum(wA)/length(data)\n",
    "  )\n",
    "  return(newTheta)\n",
    "}\n",
    "\n",
    "data <- c(5,9,8,4,7)\n",
    "## theta is the freq_A, freq_B, p(coin=A)\n",
    "theta <- c(0.6,0.5,0.9)\n",
    "for(i in 1:100)\n",
    "  print(theta<-EMcoinStep2(theta,data))"
   ]
  },
  {
   "cell_type": "markdown",
   "metadata": {
    "id": "ylf52hKxO5Ia"
   },
   "source": [
    "# EM algorithm examples\n",
    "\n",
    "## Estimating allele frequencies from genotype likelihoods\n",
    "We will try to estimate allele frequencies based on the reads in slides \"Simple allele frequency estimator\" from 6 individuals. The number of reads supporting allele G and allele T is shown in the table\n",
    "\n",
    "| indivduals      | 1  | 2  | 3 | 4 | 5 | 6 |\n",
    "|-------|----|----|---|---|---|---|\n",
    "| G reads     | 7  | 25 | 5 | 4 | 0 | 0 |\n",
    "| T reads    | 0  | 1  | 3 | 4 | 2 | 4 |\n",
    "\n",
    "To simplify we will assume that the seqeuncing error rate is $\\epsilon=0.01$ for all reads (Not recommended for real data) and we will use the GATK model to that $\\epsilon_{G->T}=\\epsilon_{T->G}=0.01/3$. When the error rates are the same for each reads and we only observe to kinds of read then the GATK model simplifies to\n",
    "\n",
    "\\begin{aligned}\n",
    "g_{GG} &= (1 - \\epsilon)^{\\#G} \\left(\\tfrac{\\epsilon}{3}\\right)^{\\#T}, \\\\\n",
    "g_{GT} &= \\left(\\frac{1}{2}(1 - \\epsilon) + \\frac{1}{2} \\tfrac{\\epsilon}{3}\\right)^{\\#G+\\#T}, \\\\\n",
    "g_{TT} &= (1 - \\epsilon)^{\\#T} \\left(\\tfrac{e}{3}\\right)^{\\#G}.\n",
    "\\end{aligned}\n",
    "\n",
    "\n",
    "You can read and run the calculatins in R below\n"
   ]
  },
  {
   "cell_type": "code",
   "execution_count": null,
   "metadata": {
    "colab": {
     "base_uri": "https://localhost:8080/"
    },
    "id": "xOmTh8TVZgXi",
    "outputId": "6f353100-88d4-4320-9382-90ec9d95c98b"
   },
   "outputs": [],
   "source": [
    "e <-0.01\n",
    "Greads <- c(7,25,5,4,0,0)\n",
    "Treads <- c(0,1,3,4,2,4)\n",
    "\n",
    "\n",
    "# Genoetype likelyhoods. Ignore how the genotype likelihoods are calculated here\n",
    "# genoetype likelihood assuming the error is the same for all reads\n",
    "# NB!. For real data we have four allele and we cannot calculate it like this because the error rate is different for each read\n",
    "gGG <- (1-e)^Greads * (e/3)^Treads\n",
    "gGT <-  ( 0.5*(1-e) + 0.5 * e/3 )^(Treads+Greads)\n",
    "gTT <- (1-e)^Treads * (e/3)^Greads\n",
    "GL<-rbind(gGG,gGT,gTT)\n",
    "colnames(GL) <- paste(\"ind\",1:6)\n",
    "\n",
    "cat(\"Genotypes likehooods:\\n\")\n",
    "print(GL)"
   ]
  },
  {
   "cell_type": "markdown",
   "metadata": {
    "id": "ZTcDteX2Zgi0"
   },
   "source": [
    "To estimate the allele frequency we can write up the likelihood as\n",
    "$$p(X \\mid \\theta) = \\prod_{i=1}^N p(X_i|\\theta) = \\prod_{i=1}^N\\sum_{z}p(X_i|Z_i=z)p(Z_i=z|\\theta)$$\n",
    " - What is N and i?\n",
    " - What are Z, X and $\\theta$  ?\n",
    " - What is $P(X_i|Z_i=z)$?\n",
    " - What is $P(Z_i=z|\\theta)$  ?\n",
    " - What are we assuming by setting $p(X \\mid \\theta) = \\prod_{i=1}^N p(X_i|\\theta)$?\n",
    "\n",
    "\n",
    "\n",
    "Let try to calculate the likelhoods assuming that the allele frequency is 0.3 or 0.1"
   ]
  },
  {
   "cell_type": "code",
   "execution_count": null,
   "metadata": {
    "colab": {
     "base_uri": "https://localhost:8080/",
     "height": 121
    },
    "id": "EXhFytd9OkGF",
    "outputId": "29db923d-8bd8-4353-b22c-03b9172319a1"
   },
   "outputs": [],
   "source": [
    "calculateLogLike <- function(theta,GL){\n",
    "   #p(z|θ)\n",
    "   pZ  <- c(pZ0= (1-theta)^2 ,pZ1= 2*theta*(1-theta), pZ2= theta^2 )\n",
    "   sum( log( colSums(GL*pZ) ))\n",
    "}\n",
    "\n",
    "theta <- 0.3\n",
    "cat(\"\\n log-likelhoods with theta_T\",theta,\"\\n\")\n",
    "calculateLogLike(theta , GL)\n",
    "\n",
    "theta <- 0.1\n",
    "cat(\"\\n log-likelhoods with theta_T\",theta,\"\\n\")\n",
    "calculateLogLike(theta , GL)"
   ]
  },
  {
   "cell_type": "markdown",
   "metadata": {
    "id": "mZLSg_4-d-ae"
   },
   "source": [
    " - Which frequency fits best with the data?\n",
    " - Identify the genotype likelihoods $P(X_i|Z_i=z)$ and the use of HWE $P(Z_i=z|\\theta)$ in the code.\n",
    "\n",
    "Lets plot the likelihood surface"
   ]
  },
  {
   "cell_type": "code",
   "execution_count": null,
   "metadata": {
    "colab": {
     "base_uri": "https://localhost:8080/",
     "height": 437
    },
    "id": "b5AqVP_0edvg",
    "outputId": "89dbfb51-4acc-4e60-819d-d356891e94fd"
   },
   "outputs": [],
   "source": [
    "thetas <- 1:99/100\n",
    "ll <- sapply(\n",
    "  thetas,\n",
    "  function(x) calculateLogLike(x,GL)\n",
    ")\n",
    "plot(thetas,ll,ylab=\"Log likelihood\",xlab=\"Frequency (theta_T)\",type=\"l\")"
   ]
  },
  {
   "cell_type": "markdown",
   "metadata": {
    "id": "yBmv1ckaed6m"
   },
   "source": [
    "To find the maximum we use a EM algorithm which has two steps\n",
    "\n",
    "E-step:\n",
    "   $q_i(Z_j)=p(Z_j|X_i,\\theta^{n})$\n",
    "   \n",
    "\n",
    "M-step:\n",
    "     $\\theta^{(n+1)} = argmax_{\\theta} Q(\\theta|\\theta^{(n)})$\n",
    "   \n",
    "Therefore in each in each iteration of the EM algorith we need to calculate the posterior probabiltiy of the genotype given the frequency. For this we use bayes formula\n",
    "$$p(Z_i=z|X_i,\\theta^{(n)}) =\\frac{p(X_i|Z_i=z,\\theta^{(n)})p(Z_i=z|\\theta^{(n)}) }{\\sum_{z'}p(X_i|Z_i=z’,\\theta^{(n)})p(Z_i=z’|\\theta^{(n)})}$$\n",
    "which is can simply by\n",
    "$p(X_i|Z_i=z,\\theta^{(n)})=p(X_i|Z_i=z)$\n",
    " - Why can we do that?\n",
    "\n",
    "In the second part we use the posterior probabilities to get the expected number of G and T alleles.\n",
    "\n",
    "The expected fraction of G alleles is\n",
    "$$\\frac{\\sum_i^N 2\\times P(Z_i=GG|X_i,\\theta^{(n)})+P(Z_i=GT|X_i,\\theta^{(n)})}{\\sum_z \\sum_i^N 2\\times P(Z_i=z|X_i,\\theta^{(n)})}=\\frac{\\sum_i^N 2\\times P(Z_i=GG|X_i,\\theta^{(n)})+P(Z_i=GT|X_i,\\theta^{(n)})}{12}$$\n",
    " - Explain the 2 and the 12 in the above equations.\n",
    "\n",
    "\n",
    "\n",
    "\n",
    " Lets run the EM algorithm"
   ]
  },
  {
   "cell_type": "code",
   "execution_count": null,
   "metadata": {
    "colab": {
     "base_uri": "https://localhost:8080/",
     "height": 603
    },
    "id": "ze-v0vNDdnjx",
    "outputId": "10e10fd7-1178-4745-dc93-d2f4d3f8d539"
   },
   "outputs": [],
   "source": [
    "\n",
    "EMgeno<-function(theta,GL){ #numeric optimazition EM\n",
    "  ## Q(Z), for Z = GG,GT,TT = 0,1,2\n",
    "  #p(x|z)p(z|θ)\n",
    "   w0<-GL[1,]*(1-theta)^2\n",
    "   w1<-GL[2,]*2*theta*(1-theta)\n",
    "   w2<-GL[3,]*theta^2\n",
    "\n",
    "  ## p(z|θ,x)\n",
    "  # p(x|θ)= \\sum_z p(x|z)p(z|θ) =\n",
    "  # p(x|Z=0)p(Z=0|θ)+p(x|Z=1)p(Z=1|θ)+p(x|Z=2)p(Z=2|θ)\n",
    "   pX <- w0 + w1 + w2\n",
    "  # p(z|θ,x) = p(x|z) p(z|θ) / p(x|θ)\n",
    "   p0 <- w0/pX\n",
    "   p1 <- w1/pX\n",
    "   p2 <- w2/pX\n",
    "\n",
    "  ## Î¸^(n+1) = E[allele 1] / ( E[allele 1] + E[allele 2] )\n",
    "   thetaNew <- sum( p1+2*p2 ) / sum( 2*p0 + 2*p1 + 2*p2 )\n",
    "   return(thetaNew)\n",
    "}\n",
    "\n",
    "\n",
    "maxIter <- 10\n",
    "output <- matrix(NA,nrow=maxIter+1,ncol=3)\n",
    "colnames(output)<- c(\"iter\",\"theta\",\"LL\")\n",
    "#starting point\n",
    "theta <- c(0.2)\n",
    "\n",
    "for(i in 0:maxIter){\n",
    "  #calculate likelihood and print (not used by the EM)\n",
    "  output[i+1,] <- c(i,theta,calculateLogLike(theta,GL))\n",
    "  cat(\"theta=\",output[i+1,\"theta\"],\"logLike=\",output[i+1,\"LL\"],\"iteration\",output[i+1,\"iter\"],\"\\n\")\n",
    "\n",
    "  #update theta (the EM steps)\n",
    "  theta <- EMgeno(theta,GL)\n",
    "}\n",
    "output"
   ]
  },
  {
   "cell_type": "code",
   "execution_count": null,
   "metadata": {
    "colab": {
     "base_uri": "https://localhost:8080/",
     "height": 857
    },
    "id": "OEpvNQJRJoCq",
    "outputId": "539fefb5-68f8-44d0-a26e-7e0cc51c4376"
   },
   "outputs": [],
   "source": [
    "plot(thetas,ll,ylab=\"Log likelihood\",xlab=\"Frequency (theta)\",type=\"l\")\n",
    "points(output[,\"theta\"],output[,\"LL\"],pch=16,col=1:nrow(output))\n",
    "text(output[,\"theta\"],output[,\"LL\"]*1.03,output[,\"iter\"],col=1:nrow(output))\n",
    "\n",
    "plot(thetas,ll,ylab=\"Log likelihood\",xlab=\"Frequency (theta)\",type=\"l\",\n",
    "ylim=range(output[-1,\"LL\"]),xlim=range(output[-1,\"theta\"]),main=\"zoom\")\n",
    "\n",
    "points(output[,\"theta\"],output[,\"LL\"],pch=16,col=1:nrow(output))\n",
    "text(output[,\"theta\"],output[,\"LL\"]*1.00008,output[,\"iter\"],col=1:nrow(output))\n",
    "\n",
    "\n",
    "#abline(v=theta_save)\n"
   ]
  },
  {
   "cell_type": "markdown",
   "metadata": {
    "id": "MrfaPIg5doE7"
   },
   "source": [
    " - how many iterations are needed for convergense?\n",
    " - try a different starting point the is further away from the maximum likelihood\n"
   ]
  },
  {
   "cell_type": "markdown",
   "metadata": {
    "id": "91mrrp86gxdy"
   },
   "source": [
    "### Bonus ( if you have extra time)\n",
    " - test if the site is polymorphic (hint: calc the likelihoods and use 1-pchisq(x,1) to get a p-value)\n"
   ]
  },
  {
   "cell_type": "markdown",
   "metadata": {
    "id": "u1GRhRW3lcp_"
   },
   "source": [
    "# Coin toss - how to find the maximum likelihood for a binomial\n",
    "\n",
    "Let $X\\in \\{0,1\\}^N$ be the outcome of a series of $N$ coin tosses  (the data) where each 0 corresponds to the outcome tail and each 1 is the outcome of a head. To estimate the frequency ($\\theta$) we can write up the likelihood as\n",
    "$$\n",
    "\\begin{aligned}\n",
    "P(X|\\theta)&=Binom(k=\\sum X;p=\\theta,n=N)={N\\choose k} \\prod_{i=1}^N P(X_i|\\theta)\\\\\n",
    "&={N\\choose k} \\prod_{i=1}^N \\theta^{X_i}(1-\\theta)^{1-X_i}∝\\prod_{i=1}^N \\theta^{X_i}(1-\\theta)^{1-X_i}=\\prod_{i=1}^N P(X_i|\\theta)\n",
    "\\end{aligned}\n",
    "$$\n",
    "\n",
    "To find the maximum likelihood we can choose to maximize with or without the binomial coefficient"
   ]
  },
  {
   "cell_type": "code",
   "execution_count": null,
   "metadata": {
    "colab": {
     "base_uri": "https://localhost:8080/",
     "height": 52
    },
    "id": "bvXAksMnjYkq",
    "outputId": "653d3776-5c4a-4985-84c1-3cc7e549ee71"
   },
   "outputs": [],
   "source": [
    "## simulate 10 coin tosses\n",
    "theta_true <- 0.5\n",
    "( X <- rbinom(10,1,theta_true) )\n",
    "\n",
    "k <- sum(X)\n",
    "\n",
    "cat(\"Number of heads\",k,\"\\n\")"
   ]
  },
  {
   "cell_type": "markdown",
   "metadata": {
    "id": "SiTd9HEyj9Nf"
   },
   "source": [
    "To find the maximum we can work on any function that is proportional to the probability of the data which is called the likelihood. We can also choose to work on the log-likelihood. As can be seen below they will have the maximum the same place."
   ]
  },
  {
   "cell_type": "code",
   "execution_count": null,
   "metadata": {
    "colab": {
     "base_uri": "https://localhost:8080/",
     "height": 1000
    },
    "id": "N9Im8IG6j9WD",
    "outputId": "cc0ed704-5538-4be3-fe49-50d24e20a73c"
   },
   "outputs": [],
   "source": [
    "thetas <- 1:99/100\n",
    "\n",
    "likBinom <- dbinom(k,10,thetas)\n",
    "plot(thetas,likBinom,ylab=\"Binom likelihood\",xlab=\"Frequency (theta)\",type=\"l\",main=\"Likelihood - Binom(k=sum X,p=theta,n=N) \")\n",
    "abline(v=k/10,col=\"red\");legend(\"topright\",\"Maximum\\n likelihood\",lty=1,col=\"red\")\n",
    "\n",
    "likProd <- sapply(thetas, function(x) prod(c(1-x,x)[X+1]) )\n",
    "plot(thetas,likProd,ylab=\"prod likelihood\",xlab=\"Frequency (theta)\",type=\"l\",main=\"Likelihood - without binomial coefficient\")\n",
    "abline(v=k/10,col=\"red\");legend(\"topright\",\"Maximum\\n likelihood\",lty=1,col=\"red\")\n",
    "\n",
    "plot(thetas,log(likBinom),ylab=\"Binom log-likelihood\",xlab=\"Frequency (theta)\",type=\"l\",main=\"log-Likelihood - Binom(k=sum X,p=theta,n=N) \")\n",
    "abline(v=k/10,col=\"red\");legend(\"topright\",\"Maximum\\n likelihood\",lty=1,col=\"red\")\n"
   ]
  },
  {
   "cell_type": "markdown",
   "metadata": {
    "id": "xUvkJwQcoBkV"
   },
   "source": [
    "### Analytical solution\n",
    "$$P(X|\\theta)={N\\choose k} \\prod_{i=1}^N P(X_i|\\theta)={N\\choose k}\\theta^k(1-\\theta)^{N-k},$$\n",
    "where $k=\\sum_i X_i$.\n",
    "The log likelhood is\n",
    "$$LL(\\theta)=log(P(X|\\theta))=log{N\\choose k} +\\sum_{i=1}^N log  \\left(P(X_i|\\theta)\\right)=log{N\\choose k}+k\\cdot log(\\theta) +(N-k)log(1-\\theta).$$\n",
    "\n",
    "To find the maximum we set the derivative to zero\n",
    "\n",
    "$$\\frac{d LL(\\theta)}{d \\theta}=\\frac{k}{\\theta}-\\frac{N-k}{1-\\theta}=0 \\quad \\Rightarrow \\quad \\theta=\\frac{k}{N}$$\n",
    "therefore the maximum likelihood solution is\n",
    "$$\\hat{\\theta}=argmax_{\\theta}{N\\choose k}\\theta^k(1-\\theta)^{N-k}=\\frac{k}{N}$$\n",
    "\n",
    "\n",
    "\n"
   ]
  }
 ],
 "metadata": {
  "colab": {
   "provenance": []
  },
  "kernelspec": {
   "display_name": "R",
   "language": "R",
   "name": "ir"
  },
  "language_info": {
   "codemirror_mode": "r",
   "file_extension": ".r",
   "mimetype": "text/x-r-source",
   "name": "R",
   "pygments_lexer": "r",
   "version": "4.1.2"
  }
 },
 "nbformat": 4,
 "nbformat_minor": 1
}
