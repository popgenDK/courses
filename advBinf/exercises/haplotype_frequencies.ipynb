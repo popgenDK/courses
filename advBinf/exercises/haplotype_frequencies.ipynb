{
 "cells": [
  {
   "cell_type": "markdown",
   "metadata": {
    "id": "2fpcOiO2on4a"
   },
   "source": [
    "\n",
    "#Estimating haplotype frequencies from genotypes(2 SNPs)\n",
    "\n",
    "In this exercise you should try to make your own EM algorithm to estimate haplotype frequencies. If you get stuff or if you want to check some results then you can look at this [solution](https://colab.research.google.com/drive/1XI9WSjQiW4gWRErrsxVZIssJgSVPowtb?usp=sharing)\n",
    "\n",
    "## simulate genotype data\n",
    "First set the true allele frequencies and the number of individuals.\n",
    "From the haplotype frequency we can simulate haplotypes and from the haplotypes we can get the genomes.\n",
    "We will assume that the genotypes from the first SNPs are AA,Aa,aa and the genotypes at the second SNP is BB,Bb,bb,\n",
    "\n",
    "\n"
   ]
  },
  {
   "cell_type": "code",
   "execution_count": null,
   "metadata": {
    "colab": {
     "base_uri": "https://localhost:8080/",
     "height": 260
    },
    "id": "-izKqa9Bokio",
    "outputId": "ffb77dc9-b4d9-46ba-fc84-1ab68476a1e6"
   },
   "outputs": [],
   "source": [
    "set.seed(1)\n",
    "#set haplotype frequencies. must sum to 1\n",
    "freqHap <- c(\n",
    "    freqHapAB = 0.03,\n",
    "    freqHapaB = 0.20,\n",
    "    freqHapAb = 0.55,\n",
    "    freqHapab = 1 -0.03-0.2-0.55\n",
    ")\n",
    "#set number of individals to simulate\n",
    "N<-1000\n",
    "\n",
    "\n",
    "## simulate the (2N)haplotypes.\n",
    "#cat(\"\\nsimulated haplotype pairs\")\n",
    "simHaps <- sample(c(\"AB\",\"aB\",\"Ab\",\"ab\"),2*N,prob=freqHap,replace=T)\n",
    "\n",
    "# two haplotype per individual\n",
    "hapMat <- matrix(simHaps,ncol=2)\n",
    "cat(\"\\nhapPairs is the sample haplotype pairs\\n\")\n",
    "table(hapPairs <- paste(hapMat[,1],hapMat[,2],sep=\"/\"))\n",
    "\n",
    "#sample genotypes for SNP 1 and 2\n",
    "SNP1 <- hapMat[,1] %in% c(\"AB\",\"Ab\")  + hapMat[,2] %in% c(\"AB\",\"Ab\") # counts haplotypes with A summed over two haplotypes\n",
    "SNP2 <- hapMat[,1] %in% c(\"AB\",\"aB\")  + hapMat[,2] %in% c(\"AB\",\"aB\") # counts haplotypes with B summed over two haplotypes\n",
    "\n",
    "#counts of genotypes combinations for the two SNPs\n",
    "cat(\"\\ngenotype table:\\n\")\n",
    "(genotypeTab <- table(c(\"aa\",\"Aa\",\"AA\")[SNP1+1],c(\"bb\",\"Bb\",\"BB\")[SNP2+1]))\n",
    "\n"
   ]
  },
  {
   "cell_type": "markdown",
   "metadata": {
    "id": "9c4r8DZioofT"
   },
   "source": [
    "\n",
    "First calculate the true population allele frequency for the two SNPs based on the true haplotype frequencies (freqHap) that was used in the simulations"
   ]
  },
  {
   "cell_type": "code",
   "execution_count": null,
   "metadata": {
    "id": "V4OjUbkRomOv"
   },
   "outputs": [],
   "source": []
  },
  {
   "cell_type": "markdown",
   "metadata": {
    "id": "1iokNFkDomh7"
   },
   "source": [
    "Compare this to the simulated data by first calculating the allele frequency of for the two SNPs for allele A and allele B  (based on the genotypes counts.)\n",
    "\n"
   ]
  },
  {
   "cell_type": "code",
   "execution_count": null,
   "metadata": {
    "id": "T19bRUYYom2I"
   },
   "outputs": [],
   "source": []
  },
  {
   "cell_type": "markdown",
   "metadata": {
    "id": "7sGXPYKHF5cH"
   },
   "source": [
    "\n",
    "Calculate the haplotype frequency based on the simulated haplotypes pairs\n"
   ]
  },
  {
   "cell_type": "code",
   "execution_count": null,
   "metadata": {
    "id": "z_r-YHNOF6FE"
   },
   "outputs": [],
   "source": []
  },
  {
   "cell_type": "markdown",
   "metadata": {
    "id": "Y1nT3MuDonHQ"
   },
   "source": [
    " -  Write a likelihood function where there data is the genotypes for both SNPs and the parameter is the haplotype frequencies.\n",
    "\n",
    " calculate the likelihood where the parameters are the true haplotype frequencies\n",
    "\n",
    "\n",
    "\n"
   ]
  },
  {
   "cell_type": "code",
   "execution_count": null,
   "metadata": {
    "id": "Y45bzEZio7kc"
   },
   "outputs": [],
   "source": []
  },
  {
   "cell_type": "markdown",
   "metadata": {
    "id": "Y8qUXkJso8ob"
   },
   "source": [
    "Write an em algorithm to estimate the haplotype frequency from the genotype data"
   ]
  }
 ],
 "metadata": {
  "colab": {
   "provenance": []
  },
  "kernelspec": {
   "display_name": "R",
   "language": "R",
   "name": "ir"
  },
  "language_info": {
   "codemirror_mode": "r",
   "file_extension": ".r",
   "mimetype": "text/x-r-source",
   "name": "R",
   "pygments_lexer": "r",
   "version": "4.1.2"
  }
 },
 "nbformat": 4,
 "nbformat_minor": 1
}
