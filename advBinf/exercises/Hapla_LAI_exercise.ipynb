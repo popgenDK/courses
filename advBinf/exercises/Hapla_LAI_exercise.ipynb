{
 "cells": [
  {
   "cell_type": "markdown",
   "id": "b7e3b70a",
   "metadata": {
    "kernel": "SoS"
   },
   "source": [
    "# Week 6 wednesday afternoon exercise on LAI with hapla\n",
    "## First up we are just gonna do a quick check to see if hapla works. The code in the exercise will be a mix of (poorly written) python, R and shell scripts, so keep an eye on the dropdown menu in the top right corner of the code cells if you get lost in the syntax. There will be questions throughout the exercise marked with bulletpoints, please discuss these with eachother and ask questions if you have any."
   ]
  },
  {
   "cell_type": "code",
   "execution_count": null,
   "id": "1b95b32e",
   "metadata": {
    "kernel": "Calysto Bash"
   },
   "outputs": [],
   "source": [
    "which hapla\n",
    "hapla -h"
   ]
  },
  {
   "cell_type": "markdown",
   "id": "ad40fd87",
   "metadata": {
    "kernel": "SoS"
   },
   "source": [
    "## For this exercise we will be simulating some data that you can analyse and you will be running this simulation yourself with the following code (should take ~2.5min). Here we are simulating 100 megabases which is like a medium sized human chromosome.\n",
    "## You don't neccesarily need to understand the details of the code, just that it gives is some phased bcf files for samples simulated under a specific demographic model along with some files containing the true ancestries from the simulation so that we can check how well our inference went."
   ]
  },
  {
   "cell_type": "code",
   "execution_count": null,
   "id": "d3bd460c",
   "metadata": {
    "kernel": "Python 3 (ipykernel)"
   },
   "outputs": [],
   "source": [
    "import numpy as np\n",
    "import time\n",
    "import subprocess\n",
    "import pandas as pd\n",
    "\n",
    "import demes\n",
    "import msprime\n",
    "import tspop\n",
    "\n",
    "\n",
    "t0 = time.time()\n",
    "\n",
    "sequence_length = 1e8\n",
    "seed = 1337\n",
    "rho = 1.3e-8 ## Recombination rate\n",
    "mu = 1.25e-8  ## Mutation rate\n",
    "\n",
    "## Make the Demography object.\n",
    "graph = demes.load(\"/davidData/users/thomas/hmmadvbinf/aa.yaml\")\n",
    "demography = msprime.Demography.from_demes(graph)\n",
    "demography.add_census(time=13)\n",
    "demography.sort_events()\n",
    "\n",
    "\n",
    "## Simulate.\n",
    "ts = msprime.sim_ancestry(\n",
    "    samples={\"AFR\": 100, \"EUR\": 100, \"EAS\": 100 ,\"ADMIX\" : 100},\n",
    "    demography=demography,\n",
    "    random_seed=seed,\n",
    "    sequence_length=sequence_length,\n",
    "    recombination_rate=rho\n",
    ")\n",
    "\n",
    "## Simulate mutations on the tree sequence.\n",
    "mutated_ts = msprime.sim_mutations(ts, rate=mu, random_seed=seed)\n",
    "\n",
    "## Define the output VCF and BCF file paths.\n",
    "vcf_file_path = \"simAA.vcf\"\n",
    "bcf_file_path = \"simAA_maf.bcf\"\n",
    "\n",
    "## Save the mutated tree sequence to a VCF file.\n",
    "with open(vcf_file_path, \"w\") as vcf_file:\n",
    "    mutated_ts.write_vcf(vcf_file, individual_names=[f\"{pop}_{i}\" for pop in [\"AFR\", \"EUR\", \"EAS\", \"ADMIX\"] for i in range(1, 101)])\n",
    "\n",
    "## Convert VCF to BCF and filter on minor allele freq\n",
    "subprocess.run([\"bcftools\", \"+fill-tags\", vcf_file_path, \"-O\", \"b\", \"-o\", \"simAA.bcf\", \"--\", \"-t\", \"MAF\"])\n",
    "\n",
    "subprocess.run([\"bcftools\", \"view\", \"simAA.bcf\", \"-O\", \"b\", \"-o\", bcf_file_path, \"-i\", \"INFO/MAF > 0.05\"])\n",
    "\n",
    "subprocess.run([\"rm\", vcf_file_path])\n",
    "\n",
    "subprocess.run([\"bcftools\", \"index\", \"simAA.bcf\"])\n",
    "subprocess.run([\"bcftools\", \"index\", bcf_file_path])\n",
    "\n",
    "\n",
    "pa = tspop.get_pop_ancestry(ts, census_time=13)\n",
    "## print(pa)\n",
    "\n",
    "st = pa.squashed_table\n",
    "## print(st)\n",
    "\n",
    "## Remap numbering of populations to order of sampled pops\n",
    "remap = {2: 0, 4: 1, 5: 2}\n",
    "st = st.replace({\"population\": remap})\n",
    "\n",
    "st_path = \"simAA_true_anc.csv\"\n",
    "st.to_csv(st_path, sep=\"\\t\", index=False)\n",
    "\n",
    "st[\"tract_len\"] = st[\"right\"] - st[\"left\"]\n",
    "\n",
    "st['sample'] = st['sample'] // 2 ## switch to individual numbering, instead of haplotype\n",
    "st_agg = st[['sample', 'population', 'tract_len']].groupby(['sample', 'population'], as_index=False).sum()\n",
    "st_pivoted = st_agg.pivot(index='sample', columns='population', values='tract_len').fillna(0)\n",
    "Q = st_pivoted.div(st_pivoted.sum(axis=1), axis=0).to_numpy()\n",
    "np.savetxt(\"simAA_trueQ.csv\", Q, delimiter=\"\\t\", fmt='%.4f')\n",
    "\n",
    "\n",
    "t1 = time.time()\n",
    "print(f\"Seconds elapsed: {t1-t0}\")"
   ]
  },
  {
   "cell_type": "markdown",
   "id": "dfd29685",
   "metadata": {
    "kernel": "Python 3 (ipykernel)"
   },
   "source": [
    "## Lets just have a quick look at the data we generated for good measure:"
   ]
  },
  {
   "cell_type": "code",
   "execution_count": null,
   "id": "a517004b",
   "metadata": {
    "kernel": "Calysto Bash"
   },
   "outputs": [],
   "source": [
    "bcftools view simAA.bcf | head -n20\n",
    "bcftools view simAA.bcf -h | wc -l"
   ]
  },
  {
   "cell_type": "markdown",
   "id": "ccd79704",
   "metadata": {
    "kernel": "SoS"
   },
   "source": [
    "* ## Do you recognize the format?\n",
    "* ## What do the different fields in the header line mean?\n",
    "* ## Do you remember what MAF is short for?\n",
    "* ## Can you see how many individuas we are working with, either from the cell output above or the simulation script?\n",
    "* ## How many sites?\n",
    "\n",
    "## Simulating our dataset here allows us to know the underlying  true ancestry to compare with,  that  we  would  never be  able  to  know completely with real data. The scenario from which our samples have been generated is a commonly used one which tries to approximate part of human demography  for modern American admixture between source populations from Africa, Europe and East Asia (Browning et al. 2018), it can also be visualized with the following snippet:"
   ]
  },
  {
   "cell_type": "code",
   "execution_count": null,
   "id": "ca371c1c",
   "metadata": {
    "kernel": "Python 3 (ipykernel)"
   },
   "outputs": [],
   "source": [
    "import msprime\n",
    "import demes\n",
    "import demesdraw\n",
    "import matplotlib.pyplot as plt\n",
    "\n",
    "\n",
    "## Make the Demography object.\n",
    "graph = demes.load(\"/davidData/users/thomas/hmmadvbinf/aa.yaml\")\n",
    "\n",
    "fig, ax = plt.subplots(figsize=(10, 8))\n",
    "demesdraw.tubes(graph, ax=ax)\n",
    "ax.set_yscale('symlog')\n",
    "ax.set_xlabel(\"Population Size\")\n",
    "ax.set_ylabel(\"Time (log scale)\")\n",
    "plt.show()"
   ]
  },
  {
   "cell_type": "markdown",
   "id": "3b28f663",
   "metadata": {
    "kernel": "R"
   },
   "source": [
    "## And here we see first an ancient human population (also in Africa) followed by anatomically modern humans and then a split out of Africa with a small population size (bottleneck) and then a subsequent split into European and East Asian populations, with continous ongoing migration between the source populations and an increase in population sizes through the generations(the Y-scale here is measured in generations). Lastly  we have an admixture event in recent history forming a modern american population and it is the samples from this population that we will try to infer ancestry in.\n",
    "## The .yaml file which we load the demographic scenario in from looks like this:"
   ]
  },
  {
   "cell_type": "code",
   "execution_count": null,
   "id": "d369b00f",
   "metadata": {
    "kernel": "Calysto Bash"
   },
   "outputs": [],
   "source": [
    "cat /davidData/users/thomas/hmmadvbinf/aa.yaml"
   ]
  },
  {
   "cell_type": "markdown",
   "id": "891c6312",
   "metadata": {
    "kernel": "Python 3.10 (hapla)"
   },
   "source": [
    "* ## From the above, can you tell how much ancestry on average we would expect in a randomly sampled individual in the admixed population? (look for \"proportions:\")\n",
    "## We will be working with just a single simulated contigous chromosome, but of course in the real world we run this for all available chromosomes. Now the first thing we need to do is to run the clustering module which will turn our perfectly phased bcf file into cluster assignments for each individual over windows with size 8:"
   ]
  },
  {
   "cell_type": "code",
   "execution_count": null,
   "id": "7e85bba2",
   "metadata": {
    "kernel": "Calysto Bash"
   },
   "outputs": [],
   "source": [
    "hapla cluster --bcf simAA.bcf --size 8 --threads 8 --out simAA_wdsize8"
   ]
  },
  {
   "cell_type": "markdown",
   "id": "4ebbc19e",
   "metadata": {
    "kernel": "Bash"
   },
   "source": [
    "## Hopefully it runs for you now and if it does you may see that we get a lot of warnings. The reason for these warnings is that a lot of our windows do not contain enough variation to generate more than a single cluster. We could simply lower the lambda value to get more clusters, but this might lead us to meaningful variation where there is none. The proper way to fix this problem is to filter our data on MAF so that we remove any sites where one allele is only observed a couple of times, since these will not be very informative about systematic trends in drift of alleles on a population level. Luckily we already made a bcf file earlier with a MAF < 0.05 filter which we can use:"
   ]
  },
  {
   "cell_type": "code",
   "execution_count": null,
   "id": "2faa2442",
   "metadata": {
    "kernel": "Calysto Bash"
   },
   "outputs": [],
   "source": [
    "hapla cluster --bcf simAA_maf.bcf --size 8 --threads 8 --out simAA_maf_wdsize8"
   ]
  },
  {
   "cell_type": "markdown",
   "id": "c162a117",
   "metadata": {
    "kernel": "SoS"
   },
   "source": [
    "## The next step will be to use these cluster assignments to infer admixture proportions (Q) and source population cluster frequencies (P, formerly F) for our data. But  first  lets have a look at the output we have generated so far. The .win contains information about each window, the .ids file list the order of appearance of samples by their ID/name and the .bca file contains the bulk of our data which is our cluster assignments in binary format:"
   ]
  },
  {
   "cell_type": "code",
   "execution_count": null,
   "id": "76ecdc06",
   "metadata": {
    "kernel": "Calysto Bash"
   },
   "outputs": [],
   "source": [
    "ll -h"
   ]
  },
  {
   "cell_type": "code",
   "execution_count": null,
   "id": "4e881467",
   "metadata": {
    "kernel": "Calysto Bash"
   },
   "outputs": [],
   "source": [
    "head simAA_maf_wdsize8.win"
   ]
  },
  {
   "cell_type": "markdown",
   "id": "bb34de0b",
   "metadata": {
    "kernel": "Calysto Bash"
   },
   "source": [
    "* ## Can you make sense of these fields?\n",
    "* ## Why do the Lengths of each window differ?\n",
    "## K is the number of clusters found for each window, lets have a look at our distribution of Ks:"
   ]
  },
  {
   "cell_type": "code",
   "execution_count": null,
   "id": "1c1314f3",
   "metadata": {
    "kernel": "Calysto Bash"
   },
   "outputs": [],
   "source": [
    "tail -n+2 simAA_maf_wdsize8.win | cut -f6 | sort -n -r | uniq -c"
   ]
  },
  {
   "cell_type": "markdown",
   "id": "64467855",
   "metadata": {
    "kernel": "SoS"
   },
   "source": [
    "* ## What is the most common number of clusters across all windows?\n",
    "## 24 clusters might sound like a lot, but with 8 SNPs in a window we will have 2<sup>8</sup> = 256 different possible haplotypes which puts this number into perspective.\n",
    "\n",
    "\n",
    "## Next step is to run admixture inference on our clustered haplotypes, the order in which Ks are assigned is arbitrary and so Ive set the seed to 6 because this makes our results match the order saved for the true ancestries. This makes the plotting a little smoother. Note here that usually we would also need to run the admixture part multiple times to ensure convergence, but we will skip this part here, dont tell Anders."
   ]
  },
  {
   "cell_type": "code",
   "execution_count": null,
   "id": "7a745d7e",
   "metadata": {
    "kernel": "Calysto Bash"
   },
   "outputs": [],
   "source": [
    "hapla admix --clusters simAA_maf_wdsize8 --K 3 --seed 6 --threads 8 --out simAA_maf_wdsize8"
   ]
  },
  {
   "cell_type": "markdown",
   "id": "c4e3abbc",
   "metadata": {
    "kernel": "Calysto Bash"
   },
   "source": [
    "## And now lets have a look at the output, our new P and Q matrices:"
   ]
  },
  {
   "cell_type": "code",
   "execution_count": null,
   "id": "72208a21",
   "metadata": {
    "kernel": "Calysto Bash"
   },
   "outputs": [],
   "source": [
    "head simAA_maf_wdsize8.K3.s6.P"
   ]
  },
  {
   "cell_type": "code",
   "execution_count": null,
   "id": "4944a4dc",
   "metadata": {
    "kernel": "Calysto Bash"
   },
   "outputs": [],
   "source": [
    "wc -l simAA_maf_wdsize8.K3.s6.P"
   ]
  },
  {
   "cell_type": "markdown",
   "id": "412f44ea",
   "metadata": {
    "kernel": "Calysto Bash"
   },
   "source": [
    "* ## Why do we have 3 columns in our P matrix?\n",
    "* ## What is the number of rows and why do we have so many compared to the number of windows?\n",
    "## If you cant figure out the previos question, try running this next line of code and try to figure out what it does. (the \"| paste -sd+ | bc\" part just sums up the numbers piped in)"
   ]
  },
  {
   "cell_type": "code",
   "execution_count": null,
   "id": "7151f4db",
   "metadata": {
    "kernel": "Calysto Bash"
   },
   "outputs": [],
   "source": [
    "cut -f6 simAA_maf_wdsize8.win | tail -n +2 | paste -sd+ | bc"
   ]
  },
  {
   "cell_type": "markdown",
   "id": "3b79f6fd",
   "metadata": {
    "kernel": "SoS"
   },
   "source": [
    "## And then our inferred admixture proportions from Q to see if they match our expectations from the demographic model:"
   ]
  },
  {
   "cell_type": "code",
   "execution_count": null,
   "id": "ac37870e",
   "metadata": {
    "kernel": "R",
    "scrolled": false
   },
   "outputs": [],
   "source": [
    "options(repr.plot.width = 26)\n",
    "\n",
    "popinfo <- gsub(\"[^A-Z]\", \"\", read.table(\"simAA_maf_wdsize8.ids\", h=F)[, 1])\n",
    "Q <- read.table(\"simAA_maf_wdsize8.K3.s6.Q\", h=F)\n",
    "\n",
    "N <- length(popinfo)\n",
    "popNames <- unique(popinfo)\n",
    "Npop <- length(popNames)\n",
    "popIDint <- rep(1:Npop,table(popinfo)[popNames])\n",
    "popSep <- c(0,cumsum(table(popIDint)))\n",
    "meanPopX <- popSep[-1]-table(popIDint)/2\n",
    "\n",
    "barplot(t(Q), col=c(\"#b783c9\", \"#3eb05d\", \"#826746\"), space=0, border=NA, cex.axis=1.2,cex.lab=1.8,axisnames=FALSE,\n",
    "             ylab=paste0(\"Admixture proportions\\nfor K = \", ncol(Q)), xlab=\"\", main=\"\", cex.main=1.5,xpd=NA)\n",
    "text(meanPopX, rep(-0.15,length(meanPopX)), unique(popinfo),xpd=NA,font=2,cex=2)\n",
    "abline(v=popSep)\n",
    "popinfo"
   ]
  },
  {
   "cell_type": "markdown",
   "id": "85afdca9",
   "metadata": {
    "kernel": "R"
   },
   "source": [
    "* ## Do you see any immediate problems here?\n",
    "## And since we simulated our data we can also cheat a little and check against the true admixture proportions:"
   ]
  },
  {
   "cell_type": "code",
   "execution_count": null,
   "id": "e270e047",
   "metadata": {
    "kernel": "R"
   },
   "outputs": [],
   "source": [
    "popinfo <- gsub(\"[^A-Z]\", \"\", read.table(\"simAA_maf_wdsize8.ids\", h=F)[, 1])\n",
    "\n",
    "Q <- read.table(\"simAA_trueQ.csv\", h=F)[, c(2,1,3)]\n",
    "\n",
    "N <- length(popinfo)\n",
    "popNames <- unique(popinfo)\n",
    "Npop <- length(popNames)\n",
    "popIDint <- rep(1:Npop,table(popinfo)[popNames])\n",
    "popSep <- c(0,cumsum(table(popIDint)))\n",
    "meanPopX <- popSep[-1]-table(popIDint)/2\n",
    "\n",
    "barplot(t(Q), col=c(\"#b783c9\", \"#3eb05d\", \"#826746\"), space=0, border=NA, cex.axis=1.2,cex.lab=1.8,axisnames=FALSE,\n",
    "             ylab=paste0(\"Admixture proportions\\nfor K = \", ncol(Q)), xlab=\"\", main=\"\", cex.main=1.5,xpd=NA)\n",
    "text(meanPopX, rep(-0.15,length(meanPopX)), unique(popinfo),xpd=NA,font=2,cex=2)\n",
    "abline(v=popSep)"
   ]
  },
  {
   "cell_type": "markdown",
   "id": "63c25768",
   "metadata": {
    "kernel": "SoS"
   },
   "source": [
    "* ## What do you think of our inferred ancestry proportions? Can you spot any differences?\n",
    "\n",
    "## Now we can start estimating local ancestry with the \"fatash\" module, where we use our observed cluster assignments and our Q and P matrices as input, and otherwise just default options:"
   ]
  },
  {
   "cell_type": "code",
   "execution_count": null,
   "id": "3f36b8c5",
   "metadata": {
    "kernel": "Calysto Bash"
   },
   "outputs": [],
   "source": [
    "hapla fatash --clusters simAA_maf_wdsize8 --qfile simAA_maf_wdsize8.K3.s6.Q --pfile simAA_maf_wdsize8.K3.s6.P --threads 8 --out simAA_maf_wdsize8"
   ]
  },
  {
   "cell_type": "markdown",
   "id": "455fca3b",
   "metadata": {
    "kernel": "Calysto Bash"
   },
   "source": [
    "## Now we get an output in the form of a .path file, which looks like this inside:"
   ]
  },
  {
   "cell_type": "code",
   "execution_count": null,
   "id": "fa8ef8ca",
   "metadata": {
    "kernel": "Calysto Bash"
   },
   "outputs": [],
   "source": [
    "ll"
   ]
  },
  {
   "cell_type": "code",
   "execution_count": null,
   "id": "f13d3126",
   "metadata": {
    "kernel": "Calysto Bash"
   },
   "outputs": [],
   "source": [
    "wc -l simAA_maf_wdsize8.path\n",
    "head simAA_maf_wdsize8.path -n1"
   ]
  },
  {
   "cell_type": "markdown",
   "id": "690273b0",
   "metadata": {
    "kernel": "Calysto Bash"
   },
   "source": [
    "* ## What does the number of rows correspond to?\n",
    "* ## What are we seeing as the output of the second command above?\n",
    "## I have written up a little plotting script to make this a little easier to read, you dont have to understand everything in this (especially not the parts where i use \"<<-\", I dont even understand why I choose to do that)"
   ]
  },
  {
   "cell_type": "code",
   "execution_count": null,
   "id": "6a6cc5d6",
   "metadata": {
    "kernel": "R",
    "scrolled": false
   },
   "outputs": [],
   "source": [
    "popcols <- c(\"0\" = \"#b783c9\", \"1\" = \"#3eb05d\", \"2\" = \"#826746\")\n",
    "\n",
    "subset_hap <- function(haplo_index) {\n",
    "    true_anc_sub <<- data.frame(pos = true_anc[true_anc[\"sample\"] == haplo_index, ]$pos,\n",
    "                               pop = true_anc[true_anc[\"sample\"] == haplo_index, ]$population)\n",
    "    true_anc_sub$len <<- c(diff(true_anc_sub$pos), seqlen - true_anc_sub[nrow(true_anc_sub), 1])\n",
    "\n",
    "    hapla_sub <<- data.frame(pos = as.numeric(names(hapla)),\n",
    "                            pop = unlist(hapla[haplo_index, ]))\n",
    "    hapla_sub[1, 1] <<- 0\n",
    "    hapla_sub <<- hapla_sub[c(1, 1 + which(diff(hapla_sub$pop) != 0)), ] ## only keep first instances of each pop in tract to remove redundancy and make plots look nicer\n",
    "    hapla_sub$len <<- c(diff(hapla_sub$pos), seqlen - hapla_sub[nrow(hapla_sub), 1])\n",
    "\n",
    "}\n",
    "\n",
    "\n",
    "plot_hap <- function(haplo_index, remap) {\n",
    "    subset_hap(haplo_index)\n",
    "    ind_index <- (haplo_index + 1) %/% 2\n",
    "\n",
    "    q <- read.table(list.files(pattern = \"simAA_maf_wdsize8.K3.s6.Q\")[1])\n",
    "    admix_str <- \"Admixture proportions inferred from hapla: \"\n",
    "    for (true_k in 0:(length(remap) - 1)) {\n",
    "        inferred_k <- names(remap[remap == as.character(true_k)])\n",
    "\n",
    "        admix_str <- paste0(\n",
    "            admix_str,\n",
    "            true_k, \": \",\n",
    "            round(q[ind_index, as.numeric(inferred_k) + 1], 3)\n",
    "        )\n",
    "    }\n",
    "\n",
    "    true_admix <- read.table(\"simAA_trueQ.csv\", header = FALSE)\n",
    "    true_admix_str <- \"True admixture proportions: \"\n",
    "    for (i in 1:dim(q)[2]){\n",
    "        true_admix_str <- paste0(true_admix_str, i - 1, \": \", round(true_admix[ind_index, i], 3))\n",
    "    }\n",
    "    \n",
    "    \n",
    "    plot(c(0, seqlen), c(0, 1), type = \"n\", main = paste(\"Haplotype no. \", haplo_index),\n",
    "        ylab = \"\", yaxt = \"n\", xlab = \"Position\\n\", cex.main = 3, cex.lab = 2, cex.sub = 3, bty=\"n\")\n",
    "\n",
    "    for (start in seq(1, nrow(hapla_sub))){\n",
    "        segments(hapla_sub[start, 1], .3, hapla_sub[start + 1, 1], .3, col = popcols[as.character(hapla_sub[start, 2])], lend = 1, lwd = 64)\n",
    "    }\n",
    "    segments(hapla_sub[nrow(hapla_sub), 1], .3, seqlen, .3, col = popcols[as.character(hapla_sub[nrow(hapla_sub), 2])], lend = 1, lwd = 64)\n",
    "    \n",
    "    for (start in seq(1, nrow(true_anc_sub))){\n",
    "        segments(true_anc_sub[start, 1], 0.1, true_anc_sub[start + 1, 1], 0.1, col = popcols[as.character(true_anc_sub[start, 2])], lend = 1, lwd = 64)\n",
    "    }\n",
    "    segments(true_anc_sub[nrow(true_anc_sub), 1], 0.1, seqlen, 0.1, col = popcols[as.character(true_anc_sub[nrow(true_anc_sub), 2])], lend = 1, lwd = 64)\n",
    "    \n",
    "    text(seqlen/2, -0.4, paste0(admix_str,  \"\\n\", true_admix_str), xpd=T, cex=2, font=2, pos=2)\n",
    "    text(-seqlen * 0.06, .3, \"Inferred Ancestry\",font=2, cex = 1.8, xpd=T)\n",
    "    text(-seqlen * 0.05, .1, \"True Ancestry\",font=2, cex = 1.8, xpd=T)\n",
    "    legend(\"top\", legend = c(\"EUR\", \"AFR\", \"EAS\"),\n",
    "                   fill = popcols[1:length(unique(true_anc_sub$pop))],\n",
    "                   cex = 2.5, bty=\"n\")\n",
    "}\n",
    "###### read true path\n",
    "true_anc <- read.table(\"simAA_true_anc.csv\", header = TRUE)\n",
    "true_anc[\"sample\"] <- true_anc[\"sample\"] + 1 ## change indexing from 0 to 1\n",
    "names(true_anc)[2] <- \"pos\"\n",
    "\n",
    "seqlen <- max(true_anc$right)\n",
    "npop <- length(unique(true_anc$population))\n",
    "\n",
    "\n",
    "###### read hapla path res\n",
    "hapla <- read.table(\"simAA_maf_wdsize8.path\", header = FALSE)\n",
    "names(hapla) <- read.table(\"simAA_maf_wdsize8.win\")[, 2]\n",
    "\n",
    "## Order of Ks are inferred arbitrarily, so we have to adjust them to fit the true values\n",
    "remap <- c(\"0\"=\"1\", \"1\"=\"0\", \"2\"=\"2\")\n",
    "hapla[] <- lapply(hapla, function(x) {\n",
    "    as.numeric(unname(remap[as.character(x)])) })\n",
    "\n",
    "\n",
    "par(mar=c(12,12,4,4))\n",
    "for (i in 601:602){\n",
    "    plot_hap(i, remap)\n",
    "}\n"
   ]
  },
  {
   "cell_type": "markdown",
   "id": "74e31b93",
   "metadata": {
    "kernel": "R"
   },
   "source": [
    "* ## What do you make of this result?\n",
    "* ## Does it make any mistakes compared to the true ancestry? Any common type of error?\n",
    "## Try looking at some more individuals by adjusting the code in the the last little loop of the code cell (set it to eg .\"i in 601:610\").\n",
    "* ## Why does the index start at 601?\n",
    "## Next try setting it to 1:10 instead\n",
    "* ## Which individuals are shown now?\n",
    "* ## What about 201:210?\n",
    "\n",
    "## Now lets try to change some of our parameters to see if we can get a better estimate. In the following code Ive set the window size to 32 instead and lowered the lambda parameter from 0.125 to 0.05 to get more clusters per window, lets see what difference that makes:"
   ]
  },
  {
   "cell_type": "code",
   "execution_count": null,
   "id": "9026429f",
   "metadata": {
    "kernel": "Calysto Bash"
   },
   "outputs": [],
   "source": [
    "hapla cluster --bcf simAA_maf.bcf --size 32 --threads 8 --out simAA_maf_wdsize32 --lmbda 0.05\n",
    "hapla admix --clusters simAA_maf_wdsize32 --K 3 --seed 2 --threads 8 --out simAA_maf_wdsize32\n",
    "hapla fatash --clusters simAA_maf_wdsize32 --qfile simAA_maf_wdsize32.K3.s2.Q --pfile simAA_maf_wdsize32.K3.s2.P --threads 8 --out simAA_maf_wdsize32"
   ]
  },
  {
   "cell_type": "code",
   "execution_count": null,
   "id": "ad12680d",
   "metadata": {
    "kernel": "R",
    "scrolled": false
   },
   "outputs": [],
   "source": [
    "popcols <- c(\"0\" = \"#b783c9\", \"1\" = \"#3eb05d\", \"2\" = \"#826746\")\n",
    "\n",
    "subset_hap <- function(haplo_index) {\n",
    "    true_anc_sub <<- data.frame(pos = true_anc[true_anc[\"sample\"] == haplo_index, ]$pos,\n",
    "                               pop = true_anc[true_anc[\"sample\"] == haplo_index, ]$population)\n",
    "    true_anc_sub$len <<- c(diff(true_anc_sub$pos), seqlen - true_anc_sub[nrow(true_anc_sub), 1])\n",
    "\n",
    "    hapla_sub <<- data.frame(pos = as.numeric(names(hapla)),\n",
    "                            pop = unlist(hapla[haplo_index, ]))\n",
    "    hapla_sub[1, 1] <<- 0\n",
    "    hapla_sub <<- hapla_sub[c(1, 1 + which(diff(hapla_sub$pop) != 0)), ] ## only keep first instances of each pop in tract to remove redundancy and make plots look nicer\n",
    "    hapla_sub$len <<- c(diff(hapla_sub$pos), seqlen - hapla_sub[nrow(hapla_sub), 1])\n",
    "\n",
    "}\n",
    "\n",
    "\n",
    "plot_hap <- function(haplo_index, remap) {\n",
    "    subset_hap(haplo_index)\n",
    "    ind_index <- (haplo_index + 1) %/% 2\n",
    "\n",
    "    q <- read.table(list.files(pattern = \"simAA_maf_wdsize32.K3.s2.Q\")[1])\n",
    "    admix_str <- \"Admixture proportions inferred from hapla: \"\n",
    "    for (true_k in 0:(length(remap) - 1)) {\n",
    "        inferred_k <- names(remap[remap == as.character(true_k)])\n",
    "\n",
    "        admix_str <- paste0(\n",
    "            admix_str,\n",
    "            true_k, \": \",\n",
    "            round(q[ind_index, as.numeric(inferred_k) + 1], 3)\n",
    "        )\n",
    "    }\n",
    "\n",
    "    true_admix <- read.table(\"simAA_trueQ.csv\", header = FALSE)\n",
    "    true_admix_str <- \"True admixture proportions: \"\n",
    "    for (i in 1:dim(q)[2]){\n",
    "        true_admix_str <- paste0(true_admix_str, i - 1, \": \", round(true_admix[ind_index, i], 3))\n",
    "    }\n",
    "    \n",
    "    \n",
    "    plot(c(0, seqlen), c(0, 1), type = \"n\", main = paste(\"Haplotype no. \", haplo_index),\n",
    "        ylab = \"\", yaxt = \"n\", xlab = \"Position\\n\", cex.main = 3, cex.lab = 2, cex.sub = 3, bty=\"n\")\n",
    "\n",
    "    for (start in seq(1, nrow(hapla_sub))){\n",
    "        segments(hapla_sub[start, 1], .3, hapla_sub[start + 1, 1], .3, col = popcols[as.character(hapla_sub[start, 2])], lend = 1, lwd = 64)\n",
    "    }\n",
    "    segments(hapla_sub[nrow(hapla_sub), 1], .3, seqlen, .3, col = popcols[as.character(hapla_sub[nrow(hapla_sub), 2])], lend = 1, lwd = 64)\n",
    "    \n",
    "    for (start in seq(1, nrow(true_anc_sub))){\n",
    "        segments(true_anc_sub[start, 1], 0.1, true_anc_sub[start + 1, 1], 0.1, col = popcols[as.character(true_anc_sub[start, 2])], lend = 1, lwd = 64)\n",
    "    }\n",
    "    segments(true_anc_sub[nrow(true_anc_sub), 1], 0.1, seqlen, 0.1, col = popcols[as.character(true_anc_sub[nrow(true_anc_sub), 2])], lend = 1, lwd = 64)\n",
    "    \n",
    "    text(seqlen/2, -0.4, paste0(admix_str,  \"\\n\", true_admix_str), xpd=T, cex=2, font=2, pos=2)\n",
    "    text(-seqlen * 0.06, .3, \"Inferred Ancestry\",font=2, cex = 1.8, xpd=T)\n",
    "    text(-seqlen * 0.05, .1, \"True Ancestry\",font=2, cex = 1.8, xpd=T)\n",
    "    legend(\"top\", legend = c(\"EUR\", \"AFR\", \"EAS\"),\n",
    "                   fill = popcols[1:length(unique(true_anc_sub$pop))],\n",
    "                   cex = 2.5, bty=\"n\")\n",
    "}\n",
    "\n",
    "\n",
    "\n",
    "###### read true path\n",
    "true_anc <- read.table(\"simAA_true_anc.csv\", header = TRUE)\n",
    "true_anc[\"sample\"] <- true_anc[\"sample\"] + 1 ## change indexing from 0 to 1\n",
    "names(true_anc)[2] <- \"pos\"\n",
    "\n",
    "seqlen <- max(true_anc$right)\n",
    "npop <- length(unique(true_anc$population))\n",
    "\n",
    "\n",
    "###### read hapla path res\n",
    "hapla <- read.table(\"simAA_maf_wdsize32.path\", header = FALSE)\n",
    "names(hapla) <- read.table(\"simAA_maf_wdsize32.win\")[, 2]\n",
    "\n",
    "## Order of Ks are inferred arbitrarily, so we have to adjust them to fit the true values\n",
    "remap <- c(\"0\"=\"1\", \"1\"=\"2\", \"2\"=\"0\")\n",
    "hapla[] <- lapply(hapla, function(x) {\n",
    "    as.numeric(unname(remap[as.character(x)])) })\n",
    "\n",
    "\n",
    "par(mar=c(12,12,4,4))\n",
    "for (i in 601:610){\n",
    "    plot_hap(i, remap)\n",
    "}\n"
   ]
  },
  {
   "cell_type": "markdown",
   "id": "3818ac83",
   "metadata": {
    "kernel": "R"
   },
   "source": [
    "* ## Did this help, if so, why do you think?\n",
    "## If you have time left try messing around with the parameters and see what changes (Note that the ordering of Ks might change and mess up the colors, you can fix this by changing the \"remap\" named vector in the plotting code or try out a different seed for the admixture part)\n",
    "## If you have yet more time left you can also try changing the number of samples in the simulation to 10 for each of the unadmixed populations to see what happens to our inference and try to adjust parameters to see if you can get a better result."
   ]
  },
  {
   "cell_type": "code",
   "execution_count": null,
   "id": "b555748f",
   "metadata": {
    "kernel": "Calysto Bash",
    "scrolled": true
   },
   "outputs": [],
   "source": [
    "## cow stuff\n",
    "hapla cluster --bcf /davidData/users/thomas/hmmadvbinf/cattle_hmmix_exercise/Chr25.314inds.imputated.BosTau9.bcf --size 256 --step 64 --threads 8 --out BosTau9\n",
    "hapla admix --clusters BosTau9 --K 2 --seed 2 --threads 8 --out BosTau9\n",
    "hapla fatash --clusters BosTau9 --qfile BosTau9.K2.s2.Q --pfile BosTau9.K2.s2.P --threads 8 --out BosTau9 --viterbi"
   ]
  },
  {
   "cell_type": "code",
   "execution_count": null,
   "id": "b3ee64e6",
   "metadata": {
    "kernel": "Calysto Bash"
   },
   "outputs": [],
   "source": [
    "cat /davidData/users/thomas/hmmadvbinf/cattle_hmmix_exercise/F1.pure.inds"
   ]
  },
  {
   "cell_type": "code",
   "execution_count": null,
   "id": "efa0888c",
   "metadata": {
    "kernel": "R",
    "scrolled": false
   },
   "outputs": [],
   "source": [
    "options(repr.plot.width = 26, repr.plot.height = 10)\n",
    "\n",
    "popinfo <- read.table(\"BosTau9.ids\", h=F)[,1]\n",
    "Q <- read.table(\"BosTau9.K2.s2.Q\", h=F)\n",
    "\n",
    "par(mar=c(12,14,4,4), oma=c(0,10,0,0))\n",
    "\n",
    "barplot(t(Q), col=c(\"#83c996\", \"#ed7551\"), space=0, border=NA, cex.axis=1.2,cex.lab=1.8,axisnames=FALSE,\n",
    "             ylab=paste0(\"Admixture proportions\\nfor K = \", ncol(Q)), xlab=\"\", main=\"\", cex.main=1.5,xpd=NA)\n",
    "\n",
    "nlabrows <- 26\n",
    "text(1:nrow(Q), rep((-1:-nlabrows)*0.03,nrow(Q)/nlabrows), popinfo, xpd=NA,font=2,cex=0.8, adj=.03)\n",
    "\n"
   ]
  },
  {
   "cell_type": "code",
   "execution_count": null,
   "id": "b48c6a01",
   "metadata": {
    "kernel": "R",
    "scrolled": false
   },
   "outputs": [],
   "source": [
    "options(repr.plot.width = 26, repr.plot.height = 4)\n",
    "popcols <- c(\"0\" = \"#83c996\", \"1\" = \"#ed7551\")\n",
    "\n",
    "subset_hap <- function(haplo_index) {\n",
    "    hapla_sub <<- data.frame(pos = as.numeric(names(hapla)),\n",
    "                            pop = unlist(hapla[haplo_index, ]))\n",
    "    hapla_sub[1, 1] <<- 0\n",
    "    hapla_sub <<- hapla_sub[c(1, 1 + which(diff(hapla_sub$pop) != 0)), ] ## only keep first instances of each pop in tract to remove redundancy and make plots look nicer\n",
    "    hapla_sub$len <<- c(diff(hapla_sub$pos), seqlen - hapla_sub[nrow(hapla_sub), 1])\n",
    "\n",
    "}\n",
    "\n",
    "\n",
    "plot_hap <- function(haplo_index) {\n",
    "    subset_hap(haplo_index)\n",
    "    plot(c(0, seqlen), c(0, .2), type = \"n\", main = paste(\"Haplotype no. \", haplo_index),\n",
    "        ylab = \"\", yaxt = \"n\", xlab = \"Position\\n\", cex.main = 3, cex.lab = 2, cex.sub = 3, bty=\"n\")\n",
    "\n",
    "    for (start in seq(1, nrow(hapla_sub))){\n",
    "        segments(hapla_sub[start, 1], .1, hapla_sub[start + 1, 1], .1, col = popcols[as.character(hapla_sub[start, 2])], lend = 1, lwd = 64)\n",
    "    }\n",
    "    segments(hapla_sub[nrow(hapla_sub), 1], .1, seqlen, .1, col = popcols[as.character(hapla_sub[nrow(hapla_sub), 2])], lend = 1, lwd = 64)\n",
    "    \n",
    "    text(-seqlen * 0.06, 1, \"Inferred Ancestry\",font=2, cex = 1.8, xpd=T)\n",
    "#     legend(\"top\", legend = c(\"EUR\", \"AFR\", \"EAS\"),\n",
    "#                    fill = popcols[1:length(unique(true_anc_sub$pop))],\n",
    "#                    cex = 2.5, bty=\"n\")\n",
    "}\n",
    "\n",
    "\n",
    "###### read hapla path res\n",
    "hapla <- read.table(\"BosTau9.path\", header = FALSE)\n",
    "names(hapla) <- read.table(\"BosTau9.win\")[, 2]\n",
    "seqlen <- max(as.numeric(names(hapla)))\n",
    "\n",
    "popinfo <- read.table(\"BosTau9.ids\", h=F)[,1]\n",
    "F1 <- which(popinfo==\"N_31B\")\n",
    "admixed <- 129:150\n",
    "\n",
    "par(mar=c(12,12,4,4))\n",
    "for (i in c(F1*2-1, F1*2, admixed)){\n",
    "    plot_hap(i)\n",
    "}\n"
   ]
  },
  {
   "cell_type": "code",
   "execution_count": null,
   "id": "a169089f",
   "metadata": {
    "kernel": "R"
   },
   "outputs": [],
   "source": []
  }
 ],
 "metadata": {
  "kernelspec": {
   "display_name": "SoS",
   "language": "sos",
   "name": "sos"
  },
  "language_info": {
   "codemirror_mode": "sos",
   "file_extension": ".sos",
   "mimetype": "text/x-sos",
   "name": "sos",
   "nbconvert_exporter": "sos_notebook.converter.SoS_Exporter",
   "pygments_lexer": "sos"
  },
  "sos": {
   "kernels": [
    [
     "Calysto Bash",
     "calysto_bash",
     "bash",
     "",
     ""
    ],
    [
     "Python 3 (ipykernel)",
     "python3",
     "python3",
     "",
     {
      "name": "ipython",
      "version": 3
     }
    ],
    [
     "R",
     "ir",
     "R",
     "",
     "r"
    ]
   ],
   "panel": {
    "displayed": true,
    "height": 0
   },
   "version": "0.24.1"
  }
 },
 "nbformat": 4,
 "nbformat_minor": 5
}
