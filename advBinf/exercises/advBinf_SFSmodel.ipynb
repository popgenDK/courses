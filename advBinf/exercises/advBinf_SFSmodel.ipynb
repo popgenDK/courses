{
 "cells": [
  {
   "cell_type": "markdown",
   "metadata": {
    "id": "thbcb9gLU3xT"
   },
   "source": [
    "# Estimating SFS\n",
    "\n",
    "## simulations\n",
    "Start by simulating some data.\n",
    "To perform the simulation of genotypes you should specify the number of SNPs and number of individuals. The simulation will first simulate a population allele frequency based on a beta distribution (sim_af)."
   ]
  },
  {
   "cell_type": "code",
   "execution_count": null,
   "metadata": {
    "colab": {
     "base_uri": "https://localhost:8080/",
     "height": 437
    },
    "id": "tP8IcW8dDJo5",
    "outputId": "0b62ec95-e292-4ac2-deb1-d86aa3c889fe"
   },
   "outputs": [],
   "source": [
    "curve(dbeta(x,0.5, 2),from=0,to=1,main=\"Beta distribution for population allele frequency\",\n",
    "ylab=\"density\",xlab=\"Allele frequency (x)\")"
   ]
  },
  {
   "cell_type": "code",
   "execution_count": null,
   "metadata": {
    "colab": {
     "base_uri": "https://localhost:8080/",
     "height": 472
    },
    "id": "U3tZvpBD0Fte",
    "outputId": "0927c94a-5611-41eb-b856-00cef1592c4c"
   },
   "outputs": [],
   "source": [
    "# Simulate allele frequencies.\n",
    "#\n",
    "# Input is a number of sites, output is a vector of allele frequencies.\n",
    "sim_af <- function(m)\n",
    "    rbeta(m, 0.5, 2)\n",
    "\n",
    "palette(c(\"goldenrod\",\"purple\",\"blue\"))\n",
    "\n",
    "# Simulate\n",
    "set.seed(1)\n",
    "m <- 100000\n",
    "n <- 10\n",
    "\n",
    "## simulate population allele frequencies\n",
    "af <- sim_af(m)\n",
    "cat(\"/n simulated true frequencies for the first 6 SNPs\\n\")\n",
    "head(af)\n",
    "\n",
    "hist(af,xlab=\"population allele frequency\",col=\"orange\",\n",
    "  main=\"Histogram of simulated allele frequencies\",\n",
    "  ylab=\"Number of sites\")\n",
    "\n",
    "\n"
   ]
  },
  {
   "cell_type": "markdown",
   "metadata": {
    "id": "fkYyvJprYUwj"
   },
   "source": [
    "### simulate genotypes\n",
    "\n",
    " From a site with allele frequency $f_j$ it will simulate genotypes from a binomial (same as assuming HWE) $g_{ij} \\sim Binomial(N=2,p=f_j)$ where $N$ is the number of tries and $i$ is the index of the individual.\n",
    "\n",
    " Based on genotypes for all individuals we can calculate the number of derived alleles $d_j=\\sum_i g_{ij}$"
   ]
  },
  {
   "cell_type": "code",
   "execution_count": null,
   "metadata": {
    "colab": {
     "base_uri": "https://localhost:8080/",
     "height": 670
    },
    "id": "4GhTBcWnYXSt",
    "outputId": "9d43c64d-9849-4692-fa51-8e18a4fc30d3"
   },
   "outputs": [],
   "source": [
    "# Simulate genotypes from allele frequencies.\n",
    "#\n",
    "# Input is a number of individuals, and a vector of m alleles frequencies,\n",
    "# output is a n-by-m matrix.\n",
    "sim_gt <- function(af, n){\n",
    "   gt <- sapply(af, rbinom, n = n, size = 2)\n",
    "  rownames(gt) <- paste0(\"Ind\",1:n)\n",
    "  colnames(gt) <- paste0(\"SNP\",1:length(af))\n",
    "  gt\n",
    "}\n",
    "\n",
    "\n",
    "## simulate genotypes for n indiviudals based on the frequency\n",
    "gt <- sim_gt(af, n)\n",
    "cat(\"Genotypes for the first 6 simulated SNPs\")\n",
    "gt[,1:6]\n",
    "\n",
    "\n",
    "cat(\"\\n\\nNumber of derived alleles for the first 6 simulated SNPs \")\n",
    "t(colSums(gt[,1:6]))\n",
    "\n",
    "cat(\"\\n\\nNumber of SNPs with a certain sample allele frequency \")\n",
    "table(colSums(gt)/2/n)\n"
   ]
  },
  {
   "cell_type": "markdown",
   "metadata": {
    "id": "kU9iC7rTY3xb"
   },
   "source": [
    "### Calculate the SFS from the genotypes\n",
    "\n",
    "We can calcuate the SFS based on the number of derived alleles at each site. The SFS $\\theta=\\{\\theta_0,\\theta_1,\\ldots,\\theta_{2n}\\}$ is simply the fraction of sites in the genome where we have $z$ derived alleles  where $z\\in \\{0,1,\\ldots,2n\\}$"
   ]
  },
  {
   "cell_type": "code",
   "execution_count": null,
   "metadata": {
    "colab": {
     "base_uri": "https://localhost:8080/",
     "height": 437
    },
    "id": "CgU5WIP-Y8jA",
    "outputId": "80d7136a-8c3c-466b-a50d-32d8a3c53b09"
   },
   "outputs": [],
   "source": [
    "# Calculate SFS from genotypes.\n",
    "#\n",
    "# Input is an n-by-m matrix of genotypes, output is an SFS.\n",
    "calc_sfs <- function(gt) {\n",
    "  n <- nrow(gt)\n",
    "  m <- ncol(gt)\n",
    "  table(colSums(gt) / (2 * n)) / m\n",
    "}\n",
    "\n",
    "true_sfs <- calc_sfs(gt)\n",
    "barplot(true_sfs,xlab=\"Number of derived allleles (z)\",ylab=\"fraction of sites (theta)\",col=1,main=\"SFS from true genotypes\",names=0:(2*n))"
   ]
  },
  {
   "cell_type": "markdown",
   "metadata": {
    "id": "-nLPf53TZ5nH"
   },
   "source": [
    "Simulate genotype likelihhoods from the true genotypes.\n",
    " - Choose an avg. depth $\\bar{D}_i$\n",
    " - Choose an error rate $\\epsilon$\n",
    "\n",
    "For this simulation we will assume that there are only two possible bases (instead of the normal 4 $(A,C,G,T)$)\n",
    "First the depth is simulated from a poission distribution $D_{ij} \\sim Pois(\\lambda=\\bar{D}_i)$. For each genotype we sample the one of the two alleles for each of the $D_{ij}$ reads. When sampling the alleles there is a $episilon$ probabily of changes the allele to the other alleles."
   ]
  },
  {
   "cell_type": "code",
   "execution_count": null,
   "metadata": {
    "colab": {
     "base_uri": "https://localhost:8080/",
     "height": 166
    },
    "id": "EYh7QbpOZ50J",
    "outputId": "20b88003-6fee-4df7-c98c-d71d30cf1865"
   },
   "outputs": [],
   "source": [
    "# Simulate genotype likelihoods from genotypes.\n",
    "#\n",
    "# Input is a n-by-m matrix of genotypes, output is a n-list length of\n",
    "# 3-by-m matrices.\n",
    "sim_gl <- function(gt, error = 0.01, mean_depth = 2, min_depth = 0) {\n",
    "  n <- nrow(gt)\n",
    "  m <- ncol(gt)\n",
    "  e <- c(error, 0.5, 1 - error)\n",
    "  depths <- pmax(rpois(n * m, mean_depth), min_depth)\n",
    "  probs <- e[gt + 1]\n",
    "  alts <- rbinom(n * m, depths, probs)\n",
    "  gl <- sapply(e, dbinom, x = alts, size = depths)\n",
    "  lapply(seq(n), function(i) t(gl[seq(i, nrow(gl), n),]))\n",
    "}\n",
    "\n",
    "## simulate sequencing data based on the genotypes and mean sequencing depth a error rate\n",
    "set.seed(1)\n",
    "gl <- sim_gl(gt, mean_depth = 6, error = 0.01)\n",
    "\n",
    "cat(\"Genotype likelihoods for individual 1\")\n",
    "gl[[1]]\n"
   ]
  },
  {
   "cell_type": "markdown",
   "metadata": {
    "id": "zlGh2qQrZ6FF"
   },
   "source": [
    " - How many sites?\n",
    " - With genotype is the most likely for SNP1?\n",
    "\n",
    "call genotypes from genotype likelihoods $GT = argmax_g p(X|g)$"
   ]
  },
  {
   "cell_type": "code",
   "execution_count": null,
   "metadata": {
    "colab": {
     "base_uri": "https://localhost:8080/",
     "height": 398
    },
    "id": "xVa56wvxZ6Q0",
    "outputId": "abbdc861-b993-4341-e6bd-c7ac3ffe5962"
   },
   "outputs": [],
   "source": [
    "# Calls genotypes from genotype likelihoods with uniform prior.\n",
    "call_gt <- function(gl) {\n",
    "  gt <- do.call(\"rbind\", lapply(gl, function(x) apply(x, 2, which.max) - 1))\n",
    "  rownames(gt) <- paste(\"Ind\",1:length(gl))\n",
    "  colnames(gt) <- paste(\"SNP\",1:length(gl[[1]][1,]))\n",
    "  gt\n",
    "}\n",
    "\n",
    "gt_calls <- call_gt(gl)\n",
    "\n",
    "cat(\"Genotypes call from GL (first 6 SNPs)\")\n",
    "gt_calls[,1:6]"
   ]
  },
  {
   "cell_type": "markdown",
   "metadata": {
    "id": "DgQHHIxVZ6cn"
   },
   "source": [
    "SFS from genotype calls"
   ]
  },
  {
   "cell_type": "code",
   "execution_count": null,
   "metadata": {
    "colab": {
     "base_uri": "https://localhost:8080/",
     "height": 437
    },
    "id": "B2QUBVPDZ6o1",
    "outputId": "2f96f693-a39a-43fd-bfd7-e7835994ca2a"
   },
   "outputs": [],
   "source": [
    "\n",
    "call_sfs <- calc_sfs(gt_calls)\n",
    "barplot(call_sfs,xlab=\"Number of derived allleles\",ylab=\"fraction of sites\",col=2,main=\"SFS from genotype calls\")"
   ]
  },
  {
   "cell_type": "markdown",
   "metadata": {
    "id": "aYWH-ZAd0dGp"
   },
   "source": [
    "# Estimate the SFS from genotype likelihoods\n",
    "The likelihoood\n",
    "$$p(X|\\theta)=\\prod_{j=1}^m p(X_j|\\theta)=\\prod_{j=1}^m \\sum_{z=0}^{2n}p(X_j|Z_j=z)p(Z_j=z|\\theta)$$\n",
    "were $\\theta=(\\theta_0,\\theta_1,\\ldots,\\theta_{2n})$ are the parameters - one for each of the $2n+1$ categories in the SFS such that $p(Z_j=z|\\theta)=\\theta_z$ and $p(X_j|Z_j)$ is the SAF.\n",
    "To estimate the SFS, $\\hat{\\theta}=argmax_{\\theta} p(X|\\theta)$, we\n",
    "\n",
    "1. First calculate the SAF from the genotype likelihoods\n",
    "2. then use the EM algorithm to find the maximum likelihood\n",
    "\n",
    "### 1: Calculate SAF likelihoods from genotype likelihoods.\n",
    "Let $Z_j$ be the number of derived alleles at site $j$. The SAF (sample allele frequency) is the likelihoods of the data given the laten state.\n",
    "$p(X_{j}|Z_j)$. Here $X_j$ is the sequencing data for all individuals for the $j$th site such that $X_{j}=(X_{1j},X_{2j},\\ldots,X_{nj})$. The SAF can be written in terms of genotype likelihoods, $p(X_{ij}|G_{ij}=g_{i})$ where $g_{i}\\in \\{0,1,2\\}$ is the number of derived alleles for individual $i$.\n",
    "$$p(X_{j}|Z_j=z)=\\sum_{g_{1j}}\\sum_{g_{2j}}\\ldots \\sum_{g_{nj}}p(G_j=(g_{1j},g_{2j},\\ldots,g_{nj})|Z_j=z)\\prod_{i=1}^n p(X_{ij}|G_{ij}=g_{ij})$$\n"
   ]
  },
  {
   "cell_type": "code",
   "execution_count": null,
   "metadata": {
    "id": "N1UPWQ9cdsGr"
   },
   "outputs": [],
   "source": [
    "# Input is a list of 3-by-m matrices, output is a 2*n+1-by-m matrix.\n",
    "calc_saf <- function(gl) {\n",
    "  n <- length(gl)\n",
    "  m <- unique(sapply(gl, ncol))\n",
    "  saf <- matrix(0, nrow = 2 * n + 1, ncol = m)\n",
    "  c <- choose(2, 0:2)\n",
    "  saf[1:3, ] <- c * gl[[1]]\n",
    "  for (i in 2:n) {\n",
    "    # Loop invariant: after ith iteration, first 2 * i + 1 rows of SAF\n",
    "    # would contain SAF for first i individuals if divided by\n",
    "    # choose(2 * i, 0:(2 * i)))\n",
    "        g <- gl[[i]]\n",
    "        for (j in (2 * i - 1):1) {\n",
    "            saf[j + 2,] <- colSums(saf[(j + 2):j,] * c * g)\n",
    "        }\n",
    "    saf[2,] <- saf[2,] * g[1,] + saf[1,] * 2 * g[2,]\n",
    "    saf[1,] <- saf[1,] * g[1,]\n",
    "  }\n",
    "  saf / choose(2 * n, 0:(2 * n))\n",
    "}\n",
    "\n",
    "\n",
    "saf <- calc_saf(gl)\n"
   ]
  },
  {
   "cell_type": "markdown",
   "metadata": {
    "id": "nHBFYAbgdsV9"
   },
   "source": [
    "### 2: EM algorithm\n",
    "\n",
    "E-step\n",
    "$$q(Z_{j}=z)=p(Z_j|X_j,\\theta)=\\frac{p(X_j|Z_j=z)p(Z_j=z|\\theta)}{\\sum_{z'=0}^{2n} p(X_j|Z_j=z')p(Z_j=z'|\\theta)}$$\n",
    "\n",
    "M-step\n",
    "\n",
    "$$\\theta_{z}^{new}=\\frac{\\sum_{j=1}^m q(Z_{j}=z)}{\\sum_{j=1}^m \\sum_{z'=0}^{2n} q(Z_{j}=z')}$$\n",
    "\n"
   ]
  },
  {
   "cell_type": "code",
   "execution_count": null,
   "metadata": {
    "colab": {
     "base_uri": "https://localhost:8080/",
     "height": 437
    },
    "id": "lczxQ0fo0OrX",
    "outputId": "8a294736-83df-4beb-c440-5bc3a4911081"
   },
   "outputs": [],
   "source": [
    "\n",
    "\n",
    "\n",
    "# Run an E-step.\n",
    "#\n",
    "# Input is SFS and precalculated (2 * n + 1)-by-m SAF matrix,\n",
    "# output is (2 * n + 1)-by-m matrix of posterior allele count probabilities.\n",
    "e_step <- function(sfs, saf) {\n",
    "  post <- sfs * saf\n",
    "  sweep(post, 2, colSums(post), `/`)\n",
    "}\n",
    "# Run an M-step.\n",
    "#\n",
    "# Input is (2 * n + 1)-by-m matrix of posterior allele count probabilities,\n",
    "# output is new SFS.\n",
    "m_step <- function(post) {\n",
    "  new <- rowSums(post)\n",
    "  new / sum(new)\n",
    "}\n",
    "# Runs EM for fixed number of iterations.\n",
    "em <- function(saf, iterations = 50) {\n",
    "\n",
    "  sfs <- rep(1 / nrow(saf), nrow(saf))\n",
    "  for (i in seq(iterations)) {\n",
    "    sfs <- m_step(e_step(sfs, saf))\n",
    "  }\n",
    "  sfs\n",
    "}\n",
    "\n",
    "\n",
    "em_sfs <- em(saf, iterations = 50)\n",
    "barplot(em_sfs,xlab=\"Number of derived allleles\",ylab=\"fraction of sites\",col=3,main=\"SFS from GL (EM algo)\")"
   ]
  },
  {
   "cell_type": "markdown",
   "metadata": {
    "id": "PV4vLsw60TwN"
   },
   "source": [
    "Lets compare the SFS"
   ]
  },
  {
   "cell_type": "code",
   "execution_count": null,
   "metadata": {
    "colab": {
     "base_uri": "https://localhost:8080/",
     "height": 437
    },
    "id": "htjHxi8U0T4n",
    "outputId": "33bc241a-91e0-4bac-9c66-8db18fe68774"
   },
   "outputs": [],
   "source": [
    "\n",
    "\n",
    "\n",
    "\n",
    "\n",
    "# Plot different SFS\n",
    "all_sfs <- rbind(\n",
    "\"True\" = true_sfs,\n",
    "\"EM\" = em_sfs,\n",
    "\"Calls\" = call_sfs\n",
    ")\n",
    "barplot(all_sfs,beside=T,col=1:3,\n",
    "  legend=c(\"TRUE SFS\",\"from GT (EM algorithm)\",\"from called genotypes\"),\n",
    "  names=0:(2*n),ylab=\"fraction of sites\",main=\"SFS \")"
   ]
  },
  {
   "cell_type": "markdown",
   "metadata": {
    "id": "6e4PKP51opqv"
   },
   "source": [
    "  - At which depth is the SFS from called genotypes no longer biased?\n",
    "  - What happens if you set the sequencing error rate to 0% or 10%?\n",
    "## Bonus\n",
    "  - Write the likelihoods and EM algorithm for estimating the two dimensional SFS\n",
    "\n",
    "\n",
    "\n"
   ]
  },
  {
   "cell_type": "code",
   "execution_count": null,
   "metadata": {
    "id": "oXFdKJB9kUsS"
   },
   "outputs": [],
   "source": []
  }
 ],
 "metadata": {
  "colab": {
   "provenance": []
  },
  "kernelspec": {
   "display_name": "R",
   "language": "R",
   "name": "ir"
  },
  "language_info": {
   "codemirror_mode": "r",
   "file_extension": ".r",
   "mimetype": "text/x-r-source",
   "name": "R",
   "pygments_lexer": "r",
   "version": "4.1.2"
  }
 },
 "nbformat": 4,
 "nbformat_minor": 1
}
