{
 "cells": [
  {
   "cell_type": "markdown",
   "metadata": {
    "id": "2fpcOiO2on4a"
   },
   "source": [
    "# Estimating haplotype frequencies from genotypes(2 SNPs)\n",
    "\n",
    "First set the true allele frequencies and the number of individuals.\n",
    "From the haplotype frequency we can simulate haplotypes and from the haplotypes we can get the genomes.\n",
    "We will assume that the genotypes from the first SNPs are AA,Aa,aa and the genotypes at the second SNP is BB,Bb,bb,\n",
    "\n",
    "\n"
   ]
  },
  {
   "cell_type": "code",
   "execution_count": 1,
   "metadata": {
    "colab": {
     "base_uri": "https://localhost:8080/",
     "height": 267
    },
    "id": "-izKqa9Bokio",
    "outputId": "d47bd670-d9d8-4b05-a622-4e515729b0f7"
   },
   "outputs": [
    {
     "name": "stdout",
     "output_type": "stream",
     "text": [
      "\n",
      "simulated haplotype pairs"
     ]
    },
    {
     "data": {
      "text/plain": [
       "\n",
       "ab/ab ab/aB ab/Ab ab/AB aB/ab aB/aB aB/Ab aB/AB Ab/ab Ab/aB Ab/Ab Ab/AB AB/ab \n",
       "   40    50   107     8    31    32   124     8   126   118   312    12     6 \n",
       "AB/aB AB/Ab AB/AB \n",
       "    6    19     1 "
      ]
     },
     "metadata": {},
     "output_type": "display_data"
    },
    {
     "name": "stdout",
     "output_type": "stream",
     "text": [
      "\n",
      " simulated genotype data as table:\n"
     ]
    },
    {
     "data": {
      "text/plain": [
       "    \n",
       "      bb  Bb  BB\n",
       "  aa  40  81  32\n",
       "  Aa 233 256  14\n",
       "  AA 312  31   1"
      ]
     },
     "metadata": {},
     "output_type": "display_data"
    }
   ],
   "source": [
    "set.seed(1)\n",
    "#set haplotype frequencies. must sum to 1\n",
    "# these are the true haplotype frequencies\n",
    "freqHap <- c(\n",
    "    freqHapAB = 0.03,\n",
    "    freqHapaB = 0.20,\n",
    "    freqHapAb = 0.55,\n",
    "    freqHapab = 1 -0.03-0.2-0.55\n",
    ")\n",
    "\n",
    "#set number of individals to simulate\n",
    "N<-1000\n",
    "\n",
    "## simulate the (2N)haplotypes.\n",
    "cat(\"\\nsimulated haplotype pairs\")\n",
    "simHaps <- sample(c(\"AB\",\"aB\",\"Ab\",\"ab\"),2*N,prob=freqHap,replace=T)\n",
    "# two haplotype per individual\n",
    "hapMat <- matrix(simHaps,ncol=2)\n",
    "table(hapPairs <- paste(hapMat[,1],hapMat[,2],sep=\"/\"))\n",
    "\n",
    "#genotypes for SNP 1\n",
    "SNP1 <- hapMat[,1] %in% c(\"AB\",\"Ab\")  + hapMat[,2] %in% c(\"AB\",\"Ab\") # counts haplotypes with A summed over two haplotypes\n",
    "SNP2 <- hapMat[,1] %in% c(\"AB\",\"aB\")  + hapMat[,2] %in% c(\"AB\",\"aB\") # counts haplotypes with B summed over two haplotypes\n",
    "\n",
    "#counts of genotypes combinations for the two SNPs\n",
    "cat(\"\\n simulated genotype data as table:\\n\")\n",
    "(genotypeTab <- table(c(\"aa\",\"Aa\",\"AA\")[SNP1+1],c(\"bb\",\"Bb\",\"BB\")[SNP2+1]))\n",
    "\n",
    "\n"
   ]
  },
  {
   "cell_type": "markdown",
   "metadata": {
    "id": "9c4r8DZioofT"
   },
   "source": [
    "\n",
    "First calculate the true population allele frequency based on the true haplotype frequencies"
   ]
  },
  {
   "cell_type": "code",
   "execution_count": 2,
   "metadata": {
    "colab": {
     "base_uri": "https://localhost:8080/",
     "height": 129
    },
    "id": "V4OjUbkRomOv",
    "outputId": "c9782366-ccfa-4aea-a677-754e32a60a35"
   },
   "outputs": [
    {
     "data": {
      "text/html": [
       "<table class=\"dataframe\">\n",
       "<caption>A data.frame: 1 × 4</caption>\n",
       "<thead>\n",
       "\t<tr><th></th><th scope=col>freq_A</th><th scope=col>freq_a</th><th scope=col>freq_B</th><th scope=col>freq_b</th></tr>\n",
       "\t<tr><th></th><th scope=col>&lt;dbl&gt;</th><th scope=col>&lt;dbl&gt;</th><th scope=col>&lt;dbl&gt;</th><th scope=col>&lt;dbl&gt;</th></tr>\n",
       "</thead>\n",
       "<tbody>\n",
       "\t<tr><th scope=row>freqHapAB</th><td>0.58</td><td>0.42</td><td>0.23</td><td>0.77</td></tr>\n",
       "</tbody>\n",
       "</table>\n"
      ],
      "text/latex": [
       "A data.frame: 1 × 4\n",
       "\\begin{tabular}{r|llll}\n",
       "  & freq\\_A & freq\\_a & freq\\_B & freq\\_b\\\\\n",
       "  & <dbl> & <dbl> & <dbl> & <dbl>\\\\\n",
       "\\hline\n",
       "\tfreqHapAB & 0.58 & 0.42 & 0.23 & 0.77\\\\\n",
       "\\end{tabular}\n"
      ],
      "text/markdown": [
       "\n",
       "A data.frame: 1 × 4\n",
       "\n",
       "| <!--/--> | freq_A &lt;dbl&gt; | freq_a &lt;dbl&gt; | freq_B &lt;dbl&gt; | freq_b &lt;dbl&gt; |\n",
       "|---|---|---|---|---|\n",
       "| freqHapAB | 0.58 | 0.42 | 0.23 | 0.77 |\n",
       "\n"
      ],
      "text/plain": [
       "          freq_A freq_a freq_B freq_b\n",
       "freqHapAB 0.58   0.42   0.23   0.77  "
      ]
     },
     "metadata": {},
     "output_type": "display_data"
    }
   ],
   "source": [
    "trueFreq <- data.frame(\n",
    "    freq_A = freqHap[\"freqHapAB\"] + freqHap[\"freqHapAb\"],\n",
    "    freq_a = freqHap[\"freqHapaB\"] + freqHap[\"freqHapab\"],\n",
    "    freq_B = freqHap[\"freqHapaB\"] + freqHap[\"freqHapAB\"],\n",
    "    freq_b = freqHap[\"freqHapab\"] + freqHap[\"freqHapAb\"]\n",
    " )\n",
    " trueFreq"
   ]
  },
  {
   "cell_type": "markdown",
   "metadata": {
    "id": "1iokNFkDomh7"
   },
   "source": [
    "\n",
    "Compare this to the simulated data by first calculating the allele frequency of for the two SNPs for allele A and allele B  (based on the genotypes counts.)\n"
   ]
  },
  {
   "cell_type": "code",
   "execution_count": 3,
   "metadata": {
    "colab": {
     "base_uri": "https://localhost:8080/",
     "height": 105
    },
    "id": "kDvtdzG7RfqW",
    "outputId": "085e5575-f614-4f28-d4dd-757749a4868d"
   },
   "outputs": [
    {
     "name": "stdout",
     "output_type": "stream",
     "text": [
      "est freq A"
     ]
    },
    {
     "data": {
      "text/html": [
       "0.5955"
      ],
      "text/latex": [
       "0.5955"
      ],
      "text/markdown": [
       "0.5955"
      ],
      "text/plain": [
       "[1] 0.5955"
      ]
     },
     "metadata": {},
     "output_type": "display_data"
    },
    {
     "name": "stdout",
     "output_type": "stream",
     "text": [
      "\n",
      "est freq B"
     ]
    },
    {
     "data": {
      "text/html": [
       "0.231"
      ],
      "text/latex": [
       "0.231"
      ],
      "text/markdown": [
       "0.231"
      ],
      "text/plain": [
       "[1] 0.231"
      ]
     },
     "metadata": {},
     "output_type": "display_data"
    }
   ],
   "source": [
    "cat(\"est freq A\")\n",
    "( estFreqA <- sum(SNP1)/N/2 )\n",
    "cat(\"\\nest freq B\")\n",
    "( estFreqB <- sum(SNP2)/N/2 )\n",
    "\n"
   ]
  },
  {
   "cell_type": "markdown",
   "metadata": {
    "id": "VkRsgXh6RgEK"
   },
   "source": [
    "\n",
    "\n",
    "\n",
    "Calculate the haplotype frequency based on the sample haplotypes pairs\n"
   ]
  },
  {
   "cell_type": "code",
   "execution_count": 4,
   "metadata": {
    "colab": {
     "base_uri": "https://localhost:8080/",
     "height": 338
    },
    "id": "T19bRUYYom2I",
    "outputId": "9af06326-3caf-46c5-b873-d8b5f61ea427"
   },
   "outputs": [
    {
     "name": "stdout",
     "output_type": "stream",
     "text": [
      "table of haplotypes pairs"
     ]
    },
    {
     "data": {
      "text/plain": [
       "hapPairs\n",
       "ab/ab ab/aB ab/Ab ab/AB aB/ab aB/aB aB/Ab aB/AB Ab/ab Ab/aB Ab/Ab Ab/AB AB/ab \n",
       "   40    50   107     8    31    32   124     8   126   118   312    12     6 \n",
       "AB/aB AB/Ab AB/AB \n",
       "    6    19     1 "
      ]
     },
     "metadata": {},
     "output_type": "display_data"
    },
    {
     "name": "stdout",
     "output_type": "stream",
     "text": [
      "\n",
      "extract columns (notice one haplotype pairs is there twice):\n",
      "Hapotype AB is in pairs AB/AB AB/aB AB/Ab AB/ab AB/AB aB/AB Ab/AB ab/AB \n",
      "Hapotype aB is in pairs aB/AB aB/aB aB/Ab aB/ab AB/aB aB/aB Ab/aB ab/aB \n",
      "Hapotype Ab is in pairs Ab/AB Ab/aB Ab/Ab Ab/ab AB/Ab aB/Ab Ab/Ab ab/Ab \n",
      "Hapotype ab is in pairs ab/AB ab/aB ab/Ab ab/ab AB/ab aB/ab Ab/ab ab/ab \n",
      "\n",
      "Counts of haplotypes (from counts of haplotype pairs)"
     ]
    },
    {
     "data": {
      "text/html": [
       "<style>\n",
       ".dl-inline {width: auto; margin:0; padding: 0}\n",
       ".dl-inline>dt, .dl-inline>dd {float: none; width: auto; display: inline-block}\n",
       ".dl-inline>dt::after {content: \":\\0020\"; padding-right: .5ex}\n",
       ".dl-inline>dt:not(:first-of-type) {padding-left: .5ex}\n",
       "</style><dl class=dl-inline><dt>AB</dt><dd>61</dd><dt>aB</dt><dd>401</dd><dt>Ab</dt><dd>1130</dd><dt>ab</dt><dd>408</dd></dl>\n"
      ],
      "text/latex": [
       "\\begin{description*}\n",
       "\\item[AB] 61\n",
       "\\item[aB] 401\n",
       "\\item[Ab] 1130\n",
       "\\item[ab] 408\n",
       "\\end{description*}\n"
      ],
      "text/markdown": [
       "AB\n",
       ":   61aB\n",
       ":   401Ab\n",
       ":   1130ab\n",
       ":   408\n",
       "\n"
      ],
      "text/plain": [
       "  AB   aB   Ab   ab \n",
       "  61  401 1130  408 "
      ]
     },
     "metadata": {},
     "output_type": "display_data"
    },
    {
     "name": "stdout",
     "output_type": "stream",
     "text": [
      "\n",
      "haplotype frequencies\n"
     ]
    },
    {
     "data": {
      "text/html": [
       "<style>\n",
       ".dl-inline {width: auto; margin:0; padding: 0}\n",
       ".dl-inline>dt, .dl-inline>dd {float: none; width: auto; display: inline-block}\n",
       ".dl-inline>dt::after {content: \":\\0020\"; padding-right: .5ex}\n",
       ".dl-inline>dt:not(:first-of-type) {padding-left: .5ex}\n",
       "</style><dl class=dl-inline><dt>freqHapAB</dt><dd>0.03</dd><dt>freqHapaB</dt><dd>0.2</dd><dt>freqHapAb</dt><dd>0.55</dd><dt>freqHapab</dt><dd>0.22</dd></dl>\n"
      ],
      "text/latex": [
       "\\begin{description*}\n",
       "\\item[freqHapAB] 0.03\n",
       "\\item[freqHapaB] 0.2\n",
       "\\item[freqHapAb] 0.55\n",
       "\\item[freqHapab] 0.22\n",
       "\\end{description*}\n"
      ],
      "text/markdown": [
       "freqHapAB\n",
       ":   0.03freqHapaB\n",
       ":   0.2freqHapAb\n",
       ":   0.55freqHapab\n",
       ":   0.22\n",
       "\n"
      ],
      "text/plain": [
       "freqHapAB freqHapaB freqHapAb freqHapab \n",
       "     0.03      0.20      0.55      0.22 "
      ]
     },
     "metadata": {},
     "output_type": "display_data"
    }
   ],
   "source": [
    "\n",
    "cat(\"table of haplotypes pairs\")\n",
    "hapPairsTab <- table(hapPairs)\n",
    "hapPairsTab\n",
    "\n",
    "countHaplotypes <- function(hapPairsTab,print=FALSE){\n",
    "  countHap <- c()\n",
    "  hapNames <- c(\"AB\",\"aB\",\"Ab\",\"ab\")\n",
    "  for(x in hapNames){\n",
    "    pairs <- c(paste(x,hapNames,sep=\"/\"),paste(hapNames,x,sep=\"/\")) # the x haplotype has is pair x,x twice\n",
    "    if(print)\n",
    "      cat(\"Hapotype\",x,\"is in pairs\",pairs,\"\\n\")\n",
    "    countHap[x] <- sum( hapPairsTab[pairs] )\n",
    "  }\n",
    "  countHap\n",
    "}\n",
    "cat(\"\\nextract columns (notice one haplotype pairs is there twice):\\n\")\n",
    "countHap <- countHaplotypes(hapPairsTab,print=TRUE)\n",
    "cat(\"\\nCounts of haplotypes (from counts of haplotype pairs)\")\n",
    "countHap\n",
    "\n",
    "## from counts to freuqencies\n",
    "estFreqHap <- countHap/sum(countHap)\n",
    "cat(\"\\nhaplotype frequencies\\n\")\n",
    "round(freqHap,4)\n"
   ]
  },
  {
   "cell_type": "markdown",
   "metadata": {
    "id": "Y1nT3MuDonHQ"
   },
   "source": [
    "# likelihood\n",
    " -  Write a likelihood function where there data is the genotypes for both SNPs and the parameter is the haplotypes.\n",
    "\n",
    "$L(\\theta)=p(X|\\theta)=\\prod_{i=1}^N p(X_i|\\theta)$\n",
    "\n",
    "where $\\theta=(\\theta_{AB},\\theta_{aB},\\theta_{Ab},\\theta_{ab})$ are the haplotype frequencies and $X$ is the matrix of data where $X_{i,j}\\in \\{0,1,2\\}$ is the genotype for individaul $i$ for site $j\\in \\{1,2\\}$. There are $N$ individuals and there are 2 sites.\n",
    "\n",
    "we can introduce a latent state of the four possible haplotypes\n",
    "$p(X_i|\\theta)=\\sum_{z\\in\\{AB,aB,Ab,ab\\}^2}p(X_i|Z=z)p(Z=z|\\theta)$\n",
    "where z is the pair of haplotypes $z=(z_1,z_2)$\n",
    "\n",
    "$p(Z=z|\\theta)=p(Z_1=z_1|\\theta)p(Z_2=z_2|\\theta)=\\theta_{z_1}\\theta_{z_2}$\n",
    "\n",
    "$p(X_i|Z=z)=0$ if genotypes are not consistent with the haplotypes and 1 otherwise.\n",
    "\n",
    "\n",
    "### Likelihoods for each individual\n",
    "\n",
    "$p(X_i|\\theta)=\\sum_{z\\in\\{AB,aB,Ab,ab\\}^2}p(X_i|Z=z)p(Z=z|\\theta)$\n",
    "\n"
   ]
  },
  {
   "cell_type": "code",
   "execution_count": 5,
   "metadata": {
    "colab": {
     "base_uri": "https://localhost:8080/",
     "height": 195
    },
    "id": "aLYo1Cv4OS5I",
    "outputId": "210f9de0-9500-4e42-8377-f9e6ea61358d"
   },
   "outputs": [
    {
     "data": {
      "text/html": [
       "<style>\n",
       ".dl-inline {width: auto; margin:0; padding: 0}\n",
       ".dl-inline>dt, .dl-inline>dd {float: none; width: auto; display: inline-block}\n",
       ".dl-inline>dt::after {content: \":\\0020\"; padding-right: .5ex}\n",
       ".dl-inline>dt:not(:first-of-type) {padding-left: .5ex}\n",
       "</style><dl class=dl-inline><dt>freqHapAB</dt><dd>0.03</dd><dt>freqHapaB</dt><dd>0.2</dd><dt>freqHapAb</dt><dd>0.55</dd><dt>freqHapab</dt><dd>0.22</dd></dl>\n"
      ],
      "text/latex": [
       "\\begin{description*}\n",
       "\\item[freqHapAB] 0.03\n",
       "\\item[freqHapaB] 0.2\n",
       "\\item[freqHapAb] 0.55\n",
       "\\item[freqHapab] 0.22\n",
       "\\end{description*}\n"
      ],
      "text/markdown": [
       "freqHapAB\n",
       ":   0.03freqHapaB\n",
       ":   0.2freqHapAb\n",
       ":   0.55freqHapab\n",
       ":   0.22\n",
       "\n"
      ],
      "text/plain": [
       "freqHapAB freqHapaB freqHapAb freqHapab \n",
       "     0.03      0.20      0.55      0.22 "
      ]
     },
     "metadata": {},
     "output_type": "display_data"
    },
    {
     "name": "stdout",
     "output_type": "stream",
     "text": [
      "like for individuals with genotype SNP1= 0  SNP2= 0  is 0.0484 \n",
      "like for individuals with genotype SNP1= 0  SNP2= 1  is 0.088 \n",
      "like for individuals with genotype SNP1= 0  SNP2= 2  is 0.04 \n",
      "like for individuals with genotype SNP1= 1  SNP2= 0  is 0.242 \n",
      "like for individuals with genotype SNP1= 1  SNP2= 1  is 0.2332 \n",
      "like for individuals with genotype SNP1= 1  SNP2= 2  is 0.012 \n",
      "like for individuals with genotype SNP1= 2  SNP2= 0  is 0.3025 \n",
      "like for individuals with genotype SNP1= 2  SNP2= 1  is 0.033 \n",
      "like for individuals with genotype SNP1= 2  SNP2= 2  is 9e-04 \n"
     ]
    }
   ],
   "source": [
    "#parameter theta\n",
    "(theta <- freqHap)\n",
    "\n",
    "\n",
    "likeG <- function(g1,g2,theta){\n",
    "##input: that takes two genotypes and theta\n",
    "##output p(X_i|theta)\n",
    "\n",
    "  names(theta) <- c(\"AB\",\"aB\",\"Ab\",\"ab\")\n",
    "\n",
    "  #p(X_i|theta)=sum_Z p(X|Z)p(Z|theta)\n",
    "  pX <- 0\n",
    "  for(z1 in c(\"AB\",\"aB\",\"Ab\",\"ab\")) # sum over two haplotypes\n",
    "    for(z2 in c(\"AB\",\"aB\",\"Ab\",\"ab\")){\n",
    "        hapToGeno1 <- z1%in%c(\"AB\",\"Ab\") + z2%in%c(\"AB\",\"Ab\") #haplotype to genotype (HapToGeno is the number of A allele 0,1,2 )\n",
    "        hapToGeno2 <- z1%in%c(\"AB\",\"aB\") + z2%in%c(\"AB\",\"aB\")\n",
    "        if(g1 != hapToGeno1 | g2 !=hapToGeno2)\n",
    "          next\n",
    "        pX <- pX + theta[z1]*theta[z2]\n",
    "    }\n",
    "  pX\n",
    "}\n",
    "\n",
    "for(g1 in 0:2)\n",
    "  for(g2 in 0:2)\n",
    "  cat(\"like for individuals with genotype SNP1=\",g1,\" SNP2=\",g2,\" is\",likeG(g1,g2,theta),\"\\n\")\n",
    "\n",
    "#genotypeTab/sum(genotypeTab)"
   ]
  },
  {
   "cell_type": "markdown",
   "metadata": {
    "id": "WEor3tnhe9qu"
   },
   "source": [
    "### likelihood\n",
    "$L(\\theta)=p(X|\\theta)=\\prod_{i=1}^N p(X_i|\\theta)$\n"
   ]
  },
  {
   "cell_type": "code",
   "execution_count": 6,
   "metadata": {
    "colab": {
     "base_uri": "https://localhost:8080/",
     "height": 344
    },
    "id": "079kWhVyfIpl",
    "outputId": "af18cd19-910f-4666-83bb-82d999f3f34a"
   },
   "outputs": [
    {
     "name": "stdout",
     "output_type": "stream",
     "text": [
      "Data for the first 5 individuals\n"
     ]
    },
    {
     "data": {
      "text/html": [
       "<table class=\"dataframe\">\n",
       "<caption>A matrix: 6 × 2 of type int</caption>\n",
       "<thead>\n",
       "\t<tr><th scope=col>SNP1</th><th scope=col>SNP2</th></tr>\n",
       "</thead>\n",
       "<tbody>\n",
       "\t<tr><td>2</td><td>0</td></tr>\n",
       "\t<tr><td>1</td><td>0</td></tr>\n",
       "\t<tr><td>1</td><td>0</td></tr>\n",
       "\t<tr><td>0</td><td>2</td></tr>\n",
       "\t<tr><td>2</td><td>0</td></tr>\n",
       "\t<tr><td>1</td><td>1</td></tr>\n",
       "</tbody>\n",
       "</table>\n"
      ],
      "text/latex": [
       "A matrix: 6 × 2 of type int\n",
       "\\begin{tabular}{ll}\n",
       " SNP1 & SNP2\\\\\n",
       "\\hline\n",
       "\t 2 & 0\\\\\n",
       "\t 1 & 0\\\\\n",
       "\t 1 & 0\\\\\n",
       "\t 0 & 2\\\\\n",
       "\t 2 & 0\\\\\n",
       "\t 1 & 1\\\\\n",
       "\\end{tabular}\n"
      ],
      "text/markdown": [
       "\n",
       "A matrix: 6 × 2 of type int\n",
       "\n",
       "| SNP1 | SNP2 |\n",
       "|---|---|\n",
       "| 2 | 0 |\n",
       "| 1 | 0 |\n",
       "| 1 | 0 |\n",
       "| 0 | 2 |\n",
       "| 2 | 0 |\n",
       "| 1 | 1 |\n",
       "\n"
      ],
      "text/plain": [
       "     SNP1 SNP2\n",
       "[1,] 2    0   \n",
       "[2,] 1    0   \n",
       "[3,] 1    0   \n",
       "[4,] 0    2   \n",
       "[5,] 2    0   \n",
       "[6,] 1    1   "
      ]
     },
     "metadata": {},
     "output_type": "display_data"
    },
    {
     "name": "stdout",
     "output_type": "stream",
     "text": [
      "start likelihood calculations\n",
      "Log likelihood based on true haplotype frequencies is -1672.014 \n",
      "Log likelihood with uniform haplotype frequencies -2168.858 \n"
     ]
    }
   ],
   "source": [
    "data <- cbind(SNP1,SNP2)\n",
    "cat(\"Data for the first 5 individuals\\n\")\n",
    "head(data)\n",
    "\n",
    "cat(\"start likelihood calculations\\n\")\n",
    "\n",
    "likelihood <- function(data,theta){\n",
    "  #input: data ( N x 2 matrix of genotypes) + theta\n",
    "  #output: log( p(X|theta) )\n",
    "  N <- nrow(data)\n",
    "  logLike <- 0\n",
    "  for(i in 1:N)\n",
    "    logLike <- logLike + log( likeG(g1=data[i,1],g2=data[i,2],theta) )\n",
    "\n",
    " logLike\n",
    "}\n",
    "lik <-likelihood(data,theta)\n",
    "cat(\"Log likelihood based on true haplotype frequencies is\",lik,\"\\n\")\n",
    "\n",
    "\n",
    "lik <-likelihood(data,rep(0.25,4))\n",
    "cat(\"Log likelihood with uniform haplotype frequencies\",lik,\"\\n\")\n"
   ]
  },
  {
   "cell_type": "markdown",
   "metadata": {
    "id": "ultiw4Dtf4nJ"
   },
   "source": [
    "### Faster version\n",
    "we only need to calculate the individual likelhood for the 9 combinations of genotypes"
   ]
  },
  {
   "cell_type": "code",
   "execution_count": 7,
   "metadata": {
    "colab": {
     "base_uri": "https://localhost:8080/",
     "height": 249
    },
    "id": "uxIVHOTcgxSR",
    "outputId": "a7bb6c1a-efe3-448e-cc01-41b320a1b092"
   },
   "outputs": [
    {
     "name": "stdout",
     "output_type": "stream",
     "text": [
      "data\n"
     ]
    },
    {
     "data": {
      "text/plain": [
       "    \n",
       "      bb  Bb  BB\n",
       "  aa  40  81  32\n",
       "  Aa 233 256  14\n",
       "  AA 312  31   1"
      ]
     },
     "metadata": {},
     "output_type": "display_data"
    },
    {
     "name": "stdout",
     "output_type": "stream",
     "text": [
      "\n",
      "parameter theta\n"
     ]
    },
    {
     "data": {
      "text/html": [
       "<style>\n",
       ".dl-inline {width: auto; margin:0; padding: 0}\n",
       ".dl-inline>dt, .dl-inline>dd {float: none; width: auto; display: inline-block}\n",
       ".dl-inline>dt::after {content: \":\\0020\"; padding-right: .5ex}\n",
       ".dl-inline>dt:not(:first-of-type) {padding-left: .5ex}\n",
       "</style><dl class=dl-inline><dt>freqHapAB</dt><dd>0.03</dd><dt>freqHapaB</dt><dd>0.2</dd><dt>freqHapAb</dt><dd>0.55</dd><dt>freqHapab</dt><dd>0.22</dd></dl>\n"
      ],
      "text/latex": [
       "\\begin{description*}\n",
       "\\item[freqHapAB] 0.03\n",
       "\\item[freqHapaB] 0.2\n",
       "\\item[freqHapAb] 0.55\n",
       "\\item[freqHapab] 0.22\n",
       "\\end{description*}\n"
      ],
      "text/markdown": [
       "freqHapAB\n",
       ":   0.03freqHapaB\n",
       ":   0.2freqHapAb\n",
       ":   0.55freqHapab\n",
       ":   0.22\n",
       "\n"
      ],
      "text/plain": [
       "freqHapAB freqHapaB freqHapAb freqHapab \n",
       "     0.03      0.20      0.55      0.22 "
      ]
     },
     "metadata": {},
     "output_type": "display_data"
    },
    {
     "name": "stdout",
     "output_type": "stream",
     "text": [
      "\n",
      "Log likelihood based on true haplotype frequencies is -1672.014 \n",
      "\n",
      "Log likelihood with uniform haplotype frequencies -2168.858 \n"
     ]
    }
   ],
   "source": [
    "cat(\"data\\n\")\n",
    "(dataTab <- genotypeTab)\n",
    "cat(\"\\nparameter theta\\n\")\n",
    "(theta <- freqHap)\n",
    "\n",
    "\n",
    "likelihoodFast <- function(dataTab,theta){\n",
    "  #input: data ( N x 2 matrix of genotypes) + theta\n",
    "  #output: log( p(X|theta) )\n",
    "\n",
    "  N <- nrow(dataTab)\n",
    "  logLike <- 0\n",
    "  for(g1 in 0:2)\n",
    "    for(g2 in 0:2){\n",
    "     likG<- likeG(g1=g1,g2=g2,theta)\n",
    "    logLike <- logLike + log( likG ) * dataTab[g1+1,g2+1]\n",
    "    #cat(\"g1,g2\",g1,g2,\"likG\",likG,\"Nind with that genotype\",dataTab[g1+1,g2+1],\"\\n\")\n",
    "    }\n",
    " logLike\n",
    "}\n",
    "lik <-likelihoodFast(dataTab,theta)\n",
    "cat(\"\\nLog likelihood based on true haplotype frequencies is\",lik,\"\\n\")\n",
    "\n",
    "\n",
    "lik <-likelihoodFast(dataTab,rep(0.25,4))\n",
    "cat(\"\\nLog likelihood with uniform haplotype frequencies\",lik,\"\\n\")"
   ]
  },
  {
   "cell_type": "markdown",
   "metadata": {
    "id": "J2ykj1qYWNVg"
   },
   "source": [
    "# EMalgorithm\n",
    "\n",
    "\n",
    "We need to calculate the posterior probabilty\n",
    "$q_i(Z=z)=p(Z=z|X_i,\\theta^{(n)})$  can be calculated by\n",
    "$$p(Z=z|X_i,\\theta^{(n)})=\\frac{p(X_i|Z=z)p(Z=z|\\theta^{(n))})}{\\sum_{z'} p(X_i|Z=z')p(Z=z'|\\theta^{(n))})}$$\n",
    "where $p(Z=z|\\theta)=\\theta_{z_1}\\theta_{z_2}$ and\n",
    "\n",
    "$p(X_i|Z=z)=0$ if genotypes are not consistent with the haplotypes and 1 otherwise.\n"
   ]
  },
  {
   "cell_type": "code",
   "execution_count": 8,
   "metadata": {
    "colab": {
     "base_uri": "https://localhost:8080/",
     "height": 522
    },
    "id": "rS1LxtLoWiS2",
    "outputId": "c556efd2-30a1-42f8-f1b4-598df91ef9c7"
   },
   "outputs": [
    {
     "data": {
      "text/html": [
       "<table class=\"dataframe\">\n",
       "<caption>A matrix: 6 × 2 of type int</caption>\n",
       "<thead>\n",
       "\t<tr><th scope=col>SNP1</th><th scope=col>SNP2</th></tr>\n",
       "</thead>\n",
       "<tbody>\n",
       "\t<tr><td>2</td><td>0</td></tr>\n",
       "\t<tr><td>1</td><td>0</td></tr>\n",
       "\t<tr><td>1</td><td>0</td></tr>\n",
       "\t<tr><td>0</td><td>2</td></tr>\n",
       "\t<tr><td>2</td><td>0</td></tr>\n",
       "\t<tr><td>1</td><td>1</td></tr>\n",
       "</tbody>\n",
       "</table>\n"
      ],
      "text/latex": [
       "A matrix: 6 × 2 of type int\n",
       "\\begin{tabular}{ll}\n",
       " SNP1 & SNP2\\\\\n",
       "\\hline\n",
       "\t 2 & 0\\\\\n",
       "\t 1 & 0\\\\\n",
       "\t 1 & 0\\\\\n",
       "\t 0 & 2\\\\\n",
       "\t 2 & 0\\\\\n",
       "\t 1 & 1\\\\\n",
       "\\end{tabular}\n"
      ],
      "text/markdown": [
       "\n",
       "A matrix: 6 × 2 of type int\n",
       "\n",
       "| SNP1 | SNP2 |\n",
       "|---|---|\n",
       "| 2 | 0 |\n",
       "| 1 | 0 |\n",
       "| 1 | 0 |\n",
       "| 0 | 2 |\n",
       "| 2 | 0 |\n",
       "| 1 | 1 |\n",
       "\n"
      ],
      "text/plain": [
       "     SNP1 SNP2\n",
       "[1,] 2    0   \n",
       "[2,] 1    0   \n",
       "[3,] 1    0   \n",
       "[4,] 0    2   \n",
       "[5,] 2    0   \n",
       "[6,] 1    1   "
      ]
     },
     "metadata": {},
     "output_type": "display_data"
    },
    {
     "name": "stdout",
     "output_type": "stream",
     "text": [
      "\n",
      "parameter theta\n"
     ]
    },
    {
     "data": {
      "text/html": [
       "<style>\n",
       ".dl-inline {width: auto; margin:0; padding: 0}\n",
       ".dl-inline>dt, .dl-inline>dd {float: none; width: auto; display: inline-block}\n",
       ".dl-inline>dt::after {content: \":\\0020\"; padding-right: .5ex}\n",
       ".dl-inline>dt:not(:first-of-type) {padding-left: .5ex}\n",
       "</style><dl class=dl-inline><dt>freqHapAB</dt><dd>0.03</dd><dt>freqHapaB</dt><dd>0.2</dd><dt>freqHapAb</dt><dd>0.55</dd><dt>freqHapab</dt><dd>0.22</dd></dl>\n"
      ],
      "text/latex": [
       "\\begin{description*}\n",
       "\\item[freqHapAB] 0.03\n",
       "\\item[freqHapaB] 0.2\n",
       "\\item[freqHapAb] 0.55\n",
       "\\item[freqHapab] 0.22\n",
       "\\end{description*}\n"
      ],
      "text/markdown": [
       "freqHapAB\n",
       ":   0.03freqHapaB\n",
       ":   0.2freqHapAb\n",
       ":   0.55freqHapab\n",
       ":   0.22\n",
       "\n"
      ],
      "text/plain": [
       "freqHapAB freqHapaB freqHapAb freqHapab \n",
       "     0.03      0.20      0.55      0.22 "
      ]
     },
     "metadata": {},
     "output_type": "display_data"
    },
    {
     "name": "stdout",
     "output_type": "stream",
     "text": [
      "iter 0 theta: 0.25 0.25 0.25 0.25 Loglike -2168.858 \n",
      "iter 1 theta: 0.0875 0.1435 0.508 0.261 Loglike -1728.17 \n",
      "iter 2 theta: 0.05403413 0.1769659 0.5414659 0.2275341 Loglike -1683.774 \n",
      "iter 3 theta: 0.03805581 0.1929442 0.5574442 0.2115558 Loglike -1672.219 \n",
      "iter 4 theta: 0.03241402 0.198586 0.563086 0.205914 Loglike -1670.567 \n",
      "iter 5 theta: 0.03070986 0.2002901 0.5647901 0.2042099 Loglike -1670.406 \n",
      "iter 6 theta: 0.03022334 0.2007767 0.5652767 0.2037233 Loglike -1670.392 \n",
      "iter 7 theta: 0.03008681 0.2009132 0.5654132 0.2035868 Loglike -1670.391 \n",
      "iter 8 theta: 0.03004868 0.2009513 0.5654513 0.2035487 Loglike -1670.391 \n",
      "iter 9 theta: 0.03003804 0.200962 0.565462 0.203538 Loglike -1670.391 \n",
      "iter 10 theta: 0.03003508 0.2009649 0.5654649 0.2035351 Loglike -1670.391 \n"
     ]
    }
   ],
   "source": [
    "data <- cbind(SNP1,SNP2)\n",
    "head(data)\n",
    "\n",
    "cat(\"\\nparameter theta\\n\")\n",
    "(theta <- freqHap)\n",
    "\n",
    "\n",
    "calculateQ<-function(theta,g1,g2){\n",
    "  #input: theta and two genotypes\n",
    "  #output: p(Z|X,theta) for 16 haplotype pairs\n",
    "\n",
    "  #X_i is the genotypes g1 and g2\n",
    "  # we need to calculate P(X|Z) and p(X|theta)\n",
    "\n",
    "  #P(X|Z)p(Z|theta)\n",
    "  names(theta) <- c(\"AB\",\"aB\",\"Ab\",\"ab\")\n",
    "  pXZ_pZtheta <- c()\n",
    "  for(z1 in c(\"AB\",\"aB\",\"Ab\",\"ab\")) # sum over two haplotypes\n",
    "    for(z2 in c(\"AB\",\"aB\",\"Ab\",\"ab\")){\n",
    "        hapToGeno1 <- z1%in%c(\"AB\",\"Ab\") + z2%in%c(\"AB\",\"Ab\")\n",
    "        hapToGeno2 <- z1%in%c(\"AB\",\"aB\") + z2%in%c(\"AB\",\"aB\")\n",
    "        hapPair <- paste(z1,z2,sep=\"/\")\n",
    "        if(g1 != hapToGeno1 | g2 !=hapToGeno2)\n",
    "          pXZ_pZtheta[hapPair] <- 0\n",
    "        else\n",
    "          pXZ_pZtheta[hapPair] <- theta[z1]*theta[z2]\n",
    "    }\n",
    "\n",
    "\n",
    "  ## then we need to normalize by summing over all Z\n",
    "  # P(X|Z)p(Z|theta)/[ sum( P(X|Z')p(Z'|theta) ) ]\n",
    "  return( pXZ_pZtheta/sum(pXZ_pZtheta) )\n",
    "\n",
    "}\n",
    "\n",
    "calculate9Q <- function(theta){\n",
    "  #input: theta\n",
    "  #output: p(Z|X,theta), matrix 9x16. 9 genotype  pairs, 16 haplotype pairs\n",
    "  ## X are the 9 genotype pairs.\n",
    "\n",
    "\n",
    "  QforG1G2 <- array(NA,dim=c(3,3,16))\n",
    "  for(g1 in 0:2)\n",
    "    for(g2 in 0:2)\n",
    "      QforG1G2[g1+1,g2+1,] <- calculateQ(theta,g1,g2)\n",
    "\n",
    "  QforG1G2\n",
    "}\n",
    "\n",
    "\n",
    "emStep <- function(theta,data){\n",
    "\n",
    "  names(theta) <- c(\"AB\",\"aB\",\"Ab\",\"ab\")\n",
    "  N <- nrow(data)\n",
    "\n",
    "  ## E step\n",
    "  Q9 <- calculate9Q(theta)\n",
    "  QZ <-matrix(0,nrow=nrow(data),ncol=16)\n",
    "  colnames(QZ) <- names(calculateQ(theta,1,1)) ## give columnames for the 16 haplotype pairs\n",
    "  for(i in 1:N){\n",
    "    g1=data[i,1]\n",
    "    g2=data[i,2]\n",
    "    QZ[i,] <- Q9[g1+1,g2+1,]\n",
    "  }\n",
    "\n",
    "\n",
    "  ## Mstep\n",
    "  # get the expected number of haptotype pairs(16 possible pairs)\n",
    "  expectedHaploPairs <-  colSums(QZ)\n",
    "  # calculate haplotype counts from the pairs (4 haplotypes)\n",
    "  expectedCountHap <- countHaplotypes(expectedHaploPairs)\n",
    "  thetaNew <- expectedCountHap/sum(expectedCountHap)\n",
    "  thetaNew\n",
    "}\n",
    "\n",
    "thetaEM <- rep(1/4,4)\n",
    "for(i in 0:10){\n",
    "  ll <- likelihood(data,thetaEM)\n",
    "  cat(\"iter\",i,\"theta:\",thetaEM,\"Loglike\",ll,\"\\n\")\n",
    "  thetaEM <- emStep(thetaEM,data)\n",
    "}"
   ]
  },
  {
   "cell_type": "markdown",
   "metadata": {
    "id": "LsKeOWxFfOsr"
   },
   "source": [
    "#faster version\n",
    "instead of summing over all 1000 individual when just the 9 possible genotypes"
   ]
  },
  {
   "cell_type": "code",
   "execution_count": 9,
   "metadata": {
    "colab": {
     "base_uri": "https://localhost:8080/",
     "height": 410
    },
    "id": "qmgorMPBfV_5",
    "outputId": "7596d805-4d3c-44af-83bd-40dc289f5980"
   },
   "outputs": [
    {
     "name": "stdout",
     "output_type": "stream",
     "text": [
      "data\n"
     ]
    },
    {
     "data": {
      "text/plain": [
       "    \n",
       "      bb  Bb  BB\n",
       "  aa  40  81  32\n",
       "  Aa 233 256  14\n",
       "  AA 312  31   1"
      ]
     },
     "metadata": {},
     "output_type": "display_data"
    },
    {
     "name": "stdout",
     "output_type": "stream",
     "text": [
      "\n",
      " run EM!!\n",
      "iter 0 theta: 0.25 0.25 0.25 0.25 Loglike -2168.858 \n",
      "iter 1 theta: 0.0875 0.1435 0.508 0.261 Loglike -1728.17 \n",
      "iter 2 theta: 0.05403413 0.1769659 0.5414659 0.2275341 Loglike -1683.774 \n",
      "iter 3 theta: 0.03805581 0.1929442 0.5574442 0.2115558 Loglike -1672.219 \n",
      "iter 4 theta: 0.03241402 0.198586 0.563086 0.205914 Loglike -1670.567 \n",
      "iter 5 theta: 0.03070986 0.2002901 0.5647901 0.2042099 Loglike -1670.406 \n",
      "iter 6 theta: 0.03022334 0.2007767 0.5652767 0.2037233 Loglike -1670.392 \n",
      "iter 7 theta: 0.03008681 0.2009132 0.5654132 0.2035868 Loglike -1670.391 \n",
      "iter 8 theta: 0.03004868 0.2009513 0.5654513 0.2035487 Loglike -1670.391 \n",
      "iter 9 theta: 0.03003804 0.200962 0.565462 0.203538 Loglike -1670.391 \n",
      "iter 10 theta: 0.03003508 0.2009649 0.5654649 0.2035351 Loglike -1670.391 \n",
      "\n",
      " sample freq Hap (not observed)\n"
     ]
    },
    {
     "data": {
      "text/html": [
       "<style>\n",
       ".dl-inline {width: auto; margin:0; padding: 0}\n",
       ".dl-inline>dt, .dl-inline>dd {float: none; width: auto; display: inline-block}\n",
       ".dl-inline>dt::after {content: \":\\0020\"; padding-right: .5ex}\n",
       ".dl-inline>dt:not(:first-of-type) {padding-left: .5ex}\n",
       "</style><dl class=dl-inline><dt>freqHapAB</dt><dd>0.03</dd><dt>freqHapaB</dt><dd>0.2</dd><dt>freqHapAb</dt><dd>0.55</dd><dt>freqHapab</dt><dd>0.22</dd></dl>\n"
      ],
      "text/latex": [
       "\\begin{description*}\n",
       "\\item[freqHapAB] 0.03\n",
       "\\item[freqHapaB] 0.2\n",
       "\\item[freqHapAb] 0.55\n",
       "\\item[freqHapab] 0.22\n",
       "\\end{description*}\n"
      ],
      "text/markdown": [
       "freqHapAB\n",
       ":   0.03freqHapaB\n",
       ":   0.2freqHapAb\n",
       ":   0.55freqHapab\n",
       ":   0.22\n",
       "\n"
      ],
      "text/plain": [
       "freqHapAB freqHapaB freqHapAb freqHapab \n",
       "     0.03      0.20      0.55      0.22 "
      ]
     },
     "metadata": {},
     "output_type": "display_data"
    }
   ],
   "source": [
    "cat(\"data\\n\")\n",
    "(dataTab <- genotypeTab)\n",
    "\n",
    "emStepFast <- function(theta,data){\n",
    "\n",
    "  names(theta) <- c(\"AB\",\"aB\",\"Ab\",\"ab\")\n",
    "  N <- sum(dataTab)\n",
    "\n",
    "  ## E step\n",
    "  Q9 <- calculate9Q(theta)\n",
    "  QZ <-matrix(0,nrow=9,ncol=16)\n",
    "  colnames(QZ) <- names(calculateQ(theta,1,1)) ## give columnames for the 16 haplotype pairs\n",
    "  i<-1\n",
    "  for(g1 in 0:2)\n",
    "    for(g2 in 0:2){\n",
    "      QZ[i,] <- Q9[g1+1,g2+1,]* dataTab[g1+1,g2+1]\n",
    "      i <- i+1\n",
    "  }\n",
    "\n",
    "\n",
    "  ## Mstep\n",
    "  # get the expected number of haptotype pairs(16 possible pairs)\n",
    "  expectedHaploPairs <-  colSums(QZ)\n",
    "  # calculate haplotype counts from the pairs (4 haplotypes)\n",
    "  expectedCountHap <- countHaplotypes(expectedHaploPairs)\n",
    "  thetaNew <- expectedCountHap/sum(expectedCountHap)\n",
    "  thetaNew\n",
    "}\n",
    "cat(\"\\n run EM!!\\n\")\n",
    "thetaEM <- rep(0.25,4)\n",
    "for(i in 0:10){\n",
    "  ll <- likelihoodFast(dataTab,thetaEM)\n",
    "  cat(\"iter\",i,\"theta:\",thetaEM,\"Loglike\",ll,\"\\n\")\n",
    "  thetaEM <- emStepFast(thetaEM,dataTab)\n",
    "}\n",
    "\n",
    "cat(\"\\n sample freq Hap (not observed)\\n\")\n",
    "freqHap\n"
   ]
  },
  {
   "cell_type": "markdown",
   "metadata": {
    "id": "njsdZ605OTFT"
   },
   "source": [
    "## EM algorithm (proof from class)\n",
    "\n",
    "If the likelihhood is in the form likelihood\n",
    "   \n",
    "$log(L(\\theta))  =  \\sum_i log \\left (\\sum_j p(X_i,Z_j|\\theta) \\right )$\n",
    "\n",
    "and\n",
    "$\\sum_j \\theta_j=1$\n",
    "\n",
    "and $p(X|Z,\\theta)=p(X|Z)$\n",
    "\n",
    "and $p(Z_j|\\theta)=\\theta_j$\n",
    "\n",
    "\n",
    "Then the solution is\n",
    "### E step\n",
    "$q_i(Z_j)=p(Z_j|X_i,\\theta^{(n)})$\n",
    "   \n",
    "### M step  \n",
    "$\\theta_j^{(n+1)} = \\frac{\\sum_i q_i(Z_j)}{\\sum_i \\sum_j q_i(Z_j)}$\n"
   ]
  },
  {
   "cell_type": "markdown",
   "metadata": {
    "id": "pmSn2qL9iqLU"
   },
   "source": [
    "# our likelihood\n",
    "Same form\n",
    "###log likelhood\n",
    "$log(L(\\theta))=Log(p(X|\\theta))=\\sum_{i=1}^N log\\left(\\sum_{z\\in\\{AB,aB,Ab,ab\\}^2}p(X_i|Z=z)p(Z=z|\\theta)\\right)$\n",
    "\n",
    "\n",
    "$\\theta=(\\theta_{AB},\\theta_{aB},\\theta_{Ab},\\theta_{ab})$ so $\\sum_{z_a} p(Z_a=z_a|\\theta)=1$\n",
    "\n",
    "and\n",
    "$$p(X_i|Z,\\theta)=p(X_i|Z)$$ because the genotypes are directy determined by the pairs of haplotypes\n",
    "and $$p(Z=z_a|\\theta)=\\theta_z$$ because the parameter of z is the frequency of z.\n",
    "\n",
    "\n",
    "## E\n",
    "$q_i(Z=z)=p(Z=z|X_i,\\theta^{(n)})$  can be calculated by\n",
    "$$p(Z=z|X_i,\\theta^{(n)})=\\frac{p(X_i|Z=z)p(Z=z|\\theta^{(n))})}{\\sum_{z'} p(X_i|Z=z')p(Z=z'|\\theta^{(n))})}$$\n",
    "where $p(Z=z|\\theta)=\\theta_{z_1}\\theta_{z_2}$ and\n",
    "\n",
    "$p(X_i|Z=z)=0$ if genotypes are not consistent with the haplotypes and 1 otherwise.\n",
    "\n",
    "for a single haplotype (instead of a pair)\n",
    "\n",
    "$$p(Z_a=z_a|X_i,\\theta^{(n)})=\\sum_{z'}\\left(p(Z=(z_a,z')|X_i,\\theta^{(n)}) + p(Z=(z',z_a)|X_i,\\theta^{(n)})\\right)$$\n",
    "\n",
    "## M\n",
    "$\\theta_{z_a}^{(n+1)} = \\frac{\\sum_i q_i(Z_a=z_a)}{\\sum_i \\sum_j q_i(Z_a=z_a)}$\n",
    "\n",
    "\n",
    "\n"
   ]
  },
  {
   "cell_type": "code",
   "execution_count": null,
   "metadata": {
    "id": "muW5CE8LqGd0"
   },
   "outputs": [],
   "source": []
  }
 ],
 "metadata": {
  "colab": {
   "provenance": []
  },
  "kernelspec": {
   "display_name": "R",
   "language": "R",
   "name": "ir"
  },
  "language_info": {
   "codemirror_mode": "r",
   "file_extension": ".r",
   "mimetype": "text/x-r-source",
   "name": "R",
   "pygments_lexer": "r",
   "version": "4.1.2"
  }
 },
 "nbformat": 4,
 "nbformat_minor": 1
}
