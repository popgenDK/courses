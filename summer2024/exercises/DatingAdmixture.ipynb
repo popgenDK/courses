{
 "cells": [
  {
   "cell_type": "markdown",
   "id": "e3267e66",
   "metadata": {
    "kernel": "SoS"
   },
   "source": [
    "# Population genetics summer course, Denmark\n",
    "\n",
    "# Dating Admixture and Selection in Admixed Individuals\n",
    "\n",
    "For the first part of this practical, we will be applying the statistical software ALDER, MALDER, fastGLOBETROTTER and MOSAIC to simulated individuals in order to detect and date admixture events.\n",
    "\n",
    "Here we will use the same dataset as in the “Clustering Algorithms” practical, though now using chromosomes 20, 21 and 22. Again this consists populations:\n",
    "\n",
    "| Population | Country | Region | number of individuals |\n",
    "|:--- |:--- |:--- |:---:|\n",
    "| Balochi | Pakistan | Central South Asia | 21 |\n",
    "| BantuKenya | Kenya | Africa | 11 |\n",
    "| BantuSouthAfrica | South Africa | Africa | 8 |\n",
    "| Burusho | Pakistan | Central South Asia | 25 |\n",
    "| English | Britain | Europe | 6 |\n",
    "| HanNchina | China | East Asia | 10 |\n",
    "| Kalash | Pakistan | Central South Asia | 23 |\n",
    "| Makrani | Pakistan | Central South Asia | 22 |\n",
    "| Mandenka | Senegal | Africa | 22 |\n",
    "| MbutiPygmy | Congo | Africa | 13 |\n",
    "| Mongola | Mongolia | East Asia | 10 |\n",
    "| NorthItalian | Italy | Europe | 12 |\n",
    "| Orcadian | Britain | Europe | 15 |\n",
    "| Pathan | Pakistan | Central South Asia | 22 |\n",
    "| Sardinian | Italy | Europe | 28 |\n",
    "| Tuscan | Italy | Europe | 8 |\n",
    "|  |  |  |  |\n",
    "| Total |  |  | 256 |\n",
    "\n",
    "The aim here is to see how well ALDER, MALDER, fastGLOBETROTTER and MOSAIC can reconstruct an admixture event in the simulated “population” described in the “Clustering Algorithms” practical. This simulated group consists of 20 individuals descending from an admixture event occurring 30 generations ago, where 80% of the DNA was contributed from present-day Brahui individuals (from Pakistan, Central South Asia) and the remaining 20% from present-day Yoruba individuals (from Nigeria, Africa). To identify this admixture event, we will use the 16 populations above (or a subset of these populations) as surrogates to the admixing sources."
   ]
  },
  {
   "cell_type": "markdown",
   "id": "a101549f",
   "metadata": {
    "kernel": "Bash"
   },
   "source": [
    "# 1 Inferring admixture: ALDER/MALDER\n",
    "\n",
    "Navigate to the folder `AlderMalderFiles/`. First, we will run ALDER to detect admixture in the simulated population.\n",
    "\n",
    "Unzip and extract ALDER:"
   ]
  },
  {
   "cell_type": "code",
   "execution_count": null,
   "id": "bc3ba5b4",
   "metadata": {
    "kernel": "Bash"
   },
   "outputs": [],
   "source": [
    "tar -xzf AdmixtureSelectionPractical.tar.gz; cd AlderMalderFiles; tar -xzvf alder_v1.03.tar.gz"
   ]
  },
  {
   "cell_type": "markdown",
   "id": "579cab5a",
   "metadata": {
    "kernel": "Bash"
   },
   "source": [
    "Then compile:"
   ]
  },
  {
   "cell_type": "code",
   "execution_count": null,
   "id": "e09fa426",
   "metadata": {
    "kernel": "Bash"
   },
   "outputs": [],
   "source": [
    "cd alder; make; cd .."
   ]
  },
  {
   "cell_type": "markdown",
   "id": "c28f49cc",
   "metadata": {
    "kernel": "Bash"
   },
   "source": [
    "Then run on the Brahui/Yoruba simulation:"
   ]
  },
  {
   "cell_type": "code",
   "execution_count": null,
   "id": "14cf4405",
   "metadata": {
    "kernel": "Bash"
   },
   "outputs": [],
   "source": [
    "alder/./alder -p BrahuiYorubaSimulation.alder.par > BrahuiYorubaSimulation.alder.out"
   ]
  },
  {
   "cell_type": "markdown",
   "id": "523cdb03",
   "metadata": {
    "kernel": "Bash"
   },
   "source": [
    "The results of the above run will be in `BrahuiYorubaSimulation.alder.out`.\n",
    "\n",
    "Also, run MALDER on the Brahui/Yoruba simulation. To do so, first unzip and extract\n",
    "MALDER:"
   ]
  },
  {
   "cell_type": "code",
   "execution_count": null,
   "id": "e1157a10",
   "metadata": {
    "kernel": "Bash"
   },
   "outputs": [],
   "source": [
    "unzip malder-master.zip"
   ]
  },
  {
   "cell_type": "markdown",
   "id": "ecb70265",
   "metadata": {
    "kernel": "Bash"
   },
   "source": [
    "Then compile"
   ]
  },
  {
   "cell_type": "code",
   "execution_count": null,
   "id": "1027e50f",
   "metadata": {
    "kernel": "Bash",
    "scrolled": true
   },
   "outputs": [],
   "source": [
    "cd malder-master/MALDER; make; cd ../.."
   ]
  },
  {
   "cell_type": "markdown",
   "id": "dabd3d1f",
   "metadata": {
    "kernel": "Bash"
   },
   "source": [
    "Then run on the Brahui/Yoruba simulation:"
   ]
  },
  {
   "cell_type": "code",
   "execution_count": null,
   "id": "ed95747a",
   "metadata": {
    "kernel": "Bash"
   },
   "outputs": [],
   "source": [
    "malder-master/MALDER/./malder -p BrahuiYorubaSimulation.malder.par > BrahuiYorubaSimulation.malder.out"
   ]
  },
  {
   "cell_type": "markdown",
   "id": "992c9352",
   "metadata": {
    "kernel": "Bash"
   },
   "source": [
    "Once finished, answer the following questions:\n",
    "1. Does ALDER detect admixture in this simulation? If so, what is the inferred date?\n",
    "2. What does the evidence for admixture look like here?\n",
    "3. When running MALDER, does the inferred admixture change when using different combinations of the surrogate populations?"
   ]
  },
  {
   "cell_type": "markdown",
   "id": "f6d93400",
   "metadata": {
    "kernel": "Bash"
   },
   "source": [
    "# 2 Inferring admixture: fastGLOBETROTTER\n",
    "\n",
    "Navigate to the folder GlobetrotterFiles/. As mentioned in the lecture, running GLOBETROTTER or fastGLOBETROTTER requires three steps:\n",
    "1. use CHROMOPAINTER to paint surrogate populations against each other\n",
    "2. use CHROMOPAINTER to paint target (admixed) populations against surrogates 3. run GLOBETROTTER or fastGLOBTROTTER using combined results from (1)-(2)\n",
    "\n",
    "For steps (1)-(2), we will use ChromoPainterv2. Unzip and compile ChromoPainterv2:"
   ]
  },
  {
   "cell_type": "code",
   "execution_count": null,
   "id": "ffcfc351",
   "metadata": {
    "kernel": "Bash"
   },
   "outputs": [],
   "source": [
    "cd ../GlobetrotterFiles\n",
    "tar -xzvf ChromoPainterv2.tar.gz\n",
    "gcc -Wall -o ChromoPainterv2 ChromoPainterv2.c -lm -lz"
   ]
  },
  {
   "cell_type": "markdown",
   "id": "8e620c59",
   "metadata": {
    "kernel": "Bash"
   },
   "source": [
    "We have already done step (1) in the last practical. For step (2), we have also done this in the last practical, but note below I have highlighted how we use `-s 10` here to output painting samples:"
   ]
  },
  {
   "cell_type": "code",
   "execution_count": null,
   "id": "e0af079e",
   "metadata": {
    "kernel": "Bash"
   },
   "outputs": [],
   "source": [
    "./ChromoPainterv2 -g data/BrahuiYorubaSimulationChrom22.haplotypes \\\n",
    "-r data/BrahuiYorubaSimulationChrom22.recomrates \\\n",
    "-t example/BrahuiYorubaSimulation.idfile.txt \\\n",
    "-f BrahuiYorubaSimulation.poplistReduced.txt 0 0 \\\n",
    "-o example/BrahuiYorubaSimulationAdmixtureChrom22 -s 10"
   ]
  },
  {
   "cell_type": "markdown",
   "id": "22c6072e",
   "metadata": {
    "kernel": "Bash"
   },
   "source": [
    "Repeat the above ChromoPainterv2 command for chromosomes 20 and 21. As mentioned in the lecture, there are two output files of interest for this analysis: `example/BrahuiYorubaSimulationAdmixtureChrom22.chunklengths.out`\n",
    "and `example/BrahuiYorubaSimulationAdmixtureChrom22.samples.out`.\n",
    "\n",
    "(In real applications, we want to sum the `.chunklengths.out` files across chromosomes, and then combine the output from steps (1) and (2). For simplicity here, we will use the combined matrix we made in the previous practical, which is only for chromosome 22, in `data/BrahuiYorubaSimulationAllVersusAllChrom22.chunklengths.out`.)\n",
    "\n",
    "Finally, for step (3) we’ll run fastGLOBETROTTER to infer admixture, using this output from ChromoPainterv2. Unzip and extract fastGLOBETROTTER:"
   ]
  },
  {
   "cell_type": "code",
   "execution_count": null,
   "id": "36a8bd24",
   "metadata": {
    "kernel": "Bash"
   },
   "outputs": [],
   "source": [
    "./ChromoPainterv2 -g data/BrahuiYorubaSimulationChrom20.haplotypes \\\n",
    "-r data/BrahuiYorubaSimulationChrom20.recomrates \\\n",
    "-t example/BrahuiYorubaSimulation.idfile.txt \\\n",
    "-f BrahuiYorubaSimulation.poplistReduced.txt 0 0 \\\n",
    "-o example/BrahuiYorubaSimulationAdmixtureChrom20 -s 10 "
   ]
  },
  {
   "cell_type": "code",
   "execution_count": null,
   "id": "6836191c",
   "metadata": {
    "kernel": "Bash",
    "scrolled": true
   },
   "outputs": [],
   "source": [
    "./ChromoPainterv2 -g data/BrahuiYorubaSimulationChrom21.haplotypes \\\n",
    "-r data/BrahuiYorubaSimulationChrom21.recomrates \\\n",
    "-t example/BrahuiYorubaSimulation.idfile.txt \\\n",
    "-f BrahuiYorubaSimulation.poplistReduced.txt 0 0 \\\n",
    "-o example/BrahuiYorubaSimulationAdmixtureChrom21 -s 10"
   ]
  },
  {
   "cell_type": "code",
   "execution_count": null,
   "id": "47095039",
   "metadata": {
    "kernel": "Bash",
    "scrolled": true
   },
   "outputs": [],
   "source": [
    "tar -xzvf fastGLOBETROTTER.tar.gz"
   ]
  },
  {
   "cell_type": "markdown",
   "id": "2bfa1cb4",
   "metadata": {
    "kernel": "Bash"
   },
   "source": [
    "Next compile with:"
   ]
  },
  {
   "cell_type": "code",
   "execution_count": null,
   "id": "26b91e64",
   "metadata": {
    "kernel": "Bash"
   },
   "outputs": [],
   "source": [
    "R CMD SHLIB -o fastGLOBETROTTERCompanion.so fastGLOBETROTTERCompanion.c -lz"
   ]
  },
  {
   "cell_type": "markdown",
   "id": "55b1c2e0",
   "metadata": {
    "kernel": "Bash"
   },
   "source": [
    "To run fastGLOBETROTTER for the Brahui-Yoruba simulation, type:"
   ]
  },
  {
   "cell_type": "code",
   "execution_count": null,
   "id": "726a8dfc",
   "metadata": {
    "kernel": "Bash",
    "scrolled": true
   },
   "outputs": [],
   "source": [
    "R < fastGLOBETROTTER.R BrahuiYorubaSimulationAdmixture.paramfile.txt BrahuiYorubaSimulationAdmixture.samplesfile.txt BrahuiYorubaSimulationAdmixture.recomfile.txt 1 --no-save > output.out"
   ]
  },
  {
   "cell_type": "markdown",
   "id": "de75a7ef",
   "metadata": {
    "kernel": "Bash"
   },
   "source": [
    "It will take a few minutes to complete. You can follow progress by typing:"
   ]
  },
  {
   "cell_type": "code",
   "execution_count": null,
   "id": "8726c277",
   "metadata": {
    "kernel": "Bash"
   },
   "outputs": [],
   "source": [
    "pic output.out"
   ]
  },
  {
   "cell_type": "markdown",
   "id": "13d2de87",
   "metadata": {
    "kernel": "Bash"
   },
   "source": [
    "Once finished, the following output files will be produced, each in the `example/` directory:\n",
    "\n",
    "`example/BrahuiYorubaSimulationAdmixed.fastGT.main.txt` \n",
    "`example/BrahuiYorubaSimulationAdmixed.fastGT.main.pdf` \n",
    "`example/BrahuiYorubaSimulationAdmixed.fastGT.main_curves.txt` `example/BrahuiYorubaSimulationAdmixed.fastGT.boot.txt`\n",
    "\n",
    "Using these files, answer the following questions:\n",
    "1. From the fastGLOBETROTTER user manual, what do the different measures in BrahuiYorubaSimulationAdmixed.fastGT.main.txt tell you? In particular what is fastGLOBTROTTER’s conclusion about admixture in this application? And what are the inferred sources and dates of the admixture event?\n",
    "2. How do you interpret the coancestry curves in BrahuiYorubaSimulationAdmixed.fastGT.main.pdf? Do the results from BrahuiYorubaSimulationAdmixed.fastGT.main.txt make sense in light of these coancestry curves?\n",
    "3. How confident are the date estimates?"
   ]
  },
  {
   "cell_type": "markdown",
   "id": "9cacad48",
   "metadata": {
    "kernel": "Bash"
   },
   "source": [
    "# 3 Inferring admixture: MOSAIC\n",
    "\n",
    "Navigate to the folder `MosaicFiles/`. Then unzip and extract MOSAIC:"
   ]
  },
  {
   "cell_type": "code",
   "execution_count": null,
   "id": "3764aa9e",
   "metadata": {
    "kernel": "Bash"
   },
   "outputs": [],
   "source": [
    "cd ../MosaicFiles/\n",
    "tar -xzvf mosaic-master.tar.gz"
   ]
  },
  {
   "cell_type": "markdown",
   "id": "97b33615",
   "metadata": {
    "kernel": "Bash"
   },
   "source": [
    "Then run on the Brahui/Yoruba simulation:"
   ]
  },
  {
   "cell_type": "code",
   "execution_count": null,
   "id": "2af69b17",
   "metadata": {
    "kernel": "Bash"
   },
   "outputs": [],
   "source": [
    "Rscript mosaic-master/mosaic.R -c 20:22 -p \"Balochi BantuKenya BantuSouthAfrica\n",
    "Burusho English HanNchina Kalash Makrani Mandenka MbutiPygmy Mongola NorthItalian\n",
    "Orcadian Pathan Sardinian Tuscan\" BrahuiYorubaSimulation -a 2 data/"
   ]
  },
  {
   "cell_type": "markdown",
   "id": "c83fb434",
   "metadata": {
    "kernel": "Bash"
   },
   "source": [
    "It will take a few minutes to complete. The results of the above run will be in three folders: `MOSAIC_RESULTS`, `MOSAIC_PLOTS`, `FREQS`).\n",
    "Looking at the plots in `MOSAIC_PLOTS/`, answer the following questions:\n",
    "1. What are the conclusions of admixture here, i.e. the inferred date and sources?\n",
    "2. Does it seem as if the algorithm has converged? \n",
    "3. What does the local painting look like?"
   ]
  },
  {
   "cell_type": "markdown",
   "id": "3bddb197",
   "metadata": {
    "kernel": "Bash"
   },
   "source": [
    "# 4 Inferring selection in admixed inds: ADAPTMIX\n",
    "\n",
    "For this last section, we will simulate and test for selection in admixed populations with AdaptMix, using example data provided with the program. This data is comprised of a small subset of data from 1000 Genomes populations. In particular we will test for selection in a simulated admixed Peruvian population (PEL), using admixture surrogates from China (CHB), Nigeria (YRI) and Spain (IBS).\n",
    "\n",
    "Navigate to the folder `AdaptMixFiles/`. Then unzip and extract AdaptMix and AdaptMixSimulator:"
   ]
  },
  {
   "cell_type": "code",
   "execution_count": null,
   "id": "7a862a08",
   "metadata": {
    "kernel": "Bash"
   },
   "outputs": [],
   "source": [
    "cd ../AdaptMixFiles\n",
    "tar -xzvf AdaptMixv1.tar.gz\n",
    "tar -xzvf AdaptMixSimulator.tar.gz"
   ]
  },
  {
   "cell_type": "markdown",
   "id": "afe7dda4",
   "metadata": {
    "kernel": "Bash"
   },
   "source": [
    "First we will use `AdaptMixSimulator.R`, running it with `CHB_selection_paramfile.txt` and the example data in `simexample/`, to generate a simulated “`PEL`” population that has selection and is admixed from simulated sources related to `{CHB, YRI, IBS}`: (How related the sources are depends on “drift.btwn.surrogates.and.sources” in\n",
    "CHB selection paramfile.txt, with higher values of this making the simulated sources more different from `{CHB, YRI, IBS}`.)"
   ]
  },
  {
   "cell_type": "code",
   "execution_count": null,
   "id": "5d3ce34d",
   "metadata": {
    "kernel": "Bash"
   },
   "outputs": [],
   "source": [
    "R < AdaptMixSimulator.R CHB_selection_paramfile.txt simexample/PEL_REFs_ALLCHR_chr.txt \\\n",
    "simexample/PEL_REFs.ids.txt CHB_selection_ALLCHR --no-save > screenoutput.out"
   ]
  },
  {
   "cell_type": "markdown",
   "id": "a2002a63",
   "metadata": {
    "kernel": "Bash"
   },
   "source": [
    "This will simulate input data to be read into `run_AdaptMix.R` that consists of the real data for the surrogate populations, added atop a simulated `PEL` population. While nearly all SNPs are neutral, one randomly selected SNP – with starting frequency ≥0.05 and ≤0.1 (`range.startfrequency.selected.snp:0.05 0.1`) in the population undergoing selection (`CHB`) – will have strong selection (`sel.coeff: 0.1` per generation, for 150 generations) occurring prior to admixture. This selected SNP will be the last SNP in the output file `CHB_selection_ALLCHR.haps`.\n",
    "\n",
    "Next run run AdaptMix on this simulated dataset, testing for selection in the simulated PEL population:"
   ]
  },
  {
   "cell_type": "code",
   "execution_count": null,
   "id": "c3432efc",
   "metadata": {
    "kernel": "Bash"
   },
   "outputs": [],
   "source": [
    "R < run_AdaptMix.R example/PEL_analysis_paramfile.txt CHB_selection_ALLCHR.txt \\\n",
    "CHB_selection_ALLCHR.idfile.txt CHB_selection_ALLCHR.adaptmix.txt --no-save > screenoutput.out2"
   ]
  },
  {
   "cell_type": "markdown",
   "id": "9336a4ba",
   "metadata": {
    "kernel": "Bash"
   },
   "source": [
    "The output will be in `CHB_selection_ALLCHR.adaptmix.txt`, with scores for the selected SNP in the last row of this file. The header is in the third row, with columns giving the p-value of the selection test (column 3) and other information, such as AIC scores.\n",
    "\n",
    "Repeat this for another simulation described in `PEL_selection_paramfile.txt`, which instead simulates selection post-admixture, with selection strength s = 0.15 for 50 generations:"
   ]
  },
  {
   "cell_type": "code",
   "execution_count": null,
   "id": "4cdce3fe",
   "metadata": {
    "kernel": "Bash",
    "scrolled": true
   },
   "outputs": [],
   "source": [
    "R < AdaptMixSimulator.R PEL_selection_paramfile.txt simexample/PEL_REFs_ALLCHR_chr.txt \\\n",
    "simexample/PEL_REFs.ids.txt PEL_selection_ALLCHR --no-save > screenoutput.out\n",
    "\n",
    "R < run_AdaptMix.R example/PEL_analysis_paramfile.txt PEL_selection_ALLCHR.txt \\\n",
    "CHB_selection_ALLCHR.idfile.txt PEL_selection_ALLCHR.adaptmix.txt --no-save > screenoutput.out2"
   ]
  },
  {
   "cell_type": "markdown",
   "id": "bcf35b78",
   "metadata": {
    "kernel": "Bash"
   },
   "source": [
    "The `AdaptMix` output for this run will be in `PEL_selection_ALLCHR.adaptmix.txt`. \n",
    "\n",
    "Use the two `AdaptMix` output files for these two simulations to answer the following questions.\n",
    "1. For each simulation scenario, is there evidence of selection at the SNP with simulated selection?\n",
    "2. For the SNP with simulated selection in each scenario, do the results indicate selection post-admixture, or in a particular source population pre-admixture?\n",
    "3. Looking at the bottom of screenoutput.out, how well do the correlations between the simulated allele frequencies of the sources and their respective surrogate populations match that observed in the real data? How would you adjust drift.btwn.surrogates.and.sources in the input parameter files to make a better match?"
   ]
  },
  {
   "cell_type": "code",
   "execution_count": null,
   "id": "ada8636f",
   "metadata": {
    "kernel": "Bash"
   },
   "outputs": [],
   "source": [
    "pic screenoutput.out"
   ]
  }
 ],
 "metadata": {
  "kernelspec": {
   "display_name": "SoS",
   "language": "sos",
   "name": "sos"
  },
  "language_info": {
   "codemirror_mode": "sos",
   "file_extension": ".sos",
   "mimetype": "text/x-sos",
   "name": "sos",
   "nbconvert_exporter": "sos_notebook.converter.SoS_Exporter",
   "pygments_lexer": "sos"
  },
  "sos": {
   "kernels": [
    [
     "Bash",
     "bash",
     "bash",
     "",
     "shell"
    ]
   ],
   "panel": {
    "displayed": false,
    "height": 0
   },
   "version": "0.24.1"
  }
 },
 "nbformat": 4,
 "nbformat_minor": 5
}
