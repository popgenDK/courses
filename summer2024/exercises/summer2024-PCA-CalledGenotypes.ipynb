{
 "cells": [
  {
   "cell_type": "markdown",
   "id": "0cf4cf69",
   "metadata": {
    "kernel": "SoS"
   },
   "source": [
    "</br>\n",
    "<font size=\"12\">PCA and population structure with called genotypes</font>\n"
   ]
  },
  {
   "cell_type": "markdown",
   "id": "b6b873e9",
   "metadata": {
    "kernel": "SoS"
   },
   "source": [
    "# PCA for wildebeest\n",
    "\n",
    "Again we will use data from the Blue Wildebeest. To simply the the analysis we have included only on of the Brindles populations ( B-Etosha). \n",
    "\n",
    "<img src=\"https://raw.githubusercontent.com/popgenDK/popgenDK.github.io/gh-pages/images/slider/wildeBeastMap.png\" alt=\"image info\" />\n",
    "\n",
    "\n",
    "#  PCA for low depth sequencing using PCAngsd \n",
    "\n",
    "\n",
    "# Software and data\n",
    "\n",
    "\n",
    "\n",
    "### Software\n",
    "We will be using plink, PCAone for this exercise. First lets see if the software is installed and get the data"
   ]
  },
  {
   "cell_type": "code",
   "execution_count": null,
   "id": "435b3898",
   "metadata": {
    "kernel": "Bash",
    "scrolled": false
   },
   "outputs": [],
   "source": [
    "echo --programs that are installed:--\n",
    "which plink\n",
    "which PCAone\n",
    "\n",
    "#make folder if it does not exist already\n",
    "mkdir -p ~/popgen24/\n",
    "mkdir -p ~/popgen24/pca2\n",
    "\n",
    "# enter folder\n",
    "cd ~/popgen24/pca2\n",
    "\n",
    "# make links to files and add them to the folder\n",
    "cp -sf /davidData/data/course/kenyaWorkshop/anders/structure_day3/blue_wildebeest_thin* .\n",
    "cp -r -sf  /davidData/data/course/kenyaWorkshop/anders/structure_day3/multiRunK7 .\n",
    "\n",
    "echo --- files in folder ---\n",
    "ls \n"
   ]
  },
  {
   "cell_type": "markdown",
   "id": "deeaffce",
   "metadata": {
    "kernel": "Bash"
   },
   "source": [
    "Let perform PCA on the whole data (without LD pruning). \n",
    "\n",
    "We will use PCAone first:\n",
    "\n"
   ]
  },
  {
   "cell_type": "code",
   "execution_count": null,
   "id": "9b31bad8",
   "metadata": {
    "kernel": "Bash"
   },
   "outputs": [],
   "source": [
    "PCAone"
   ]
  },
  {
   "cell_type": "markdown",
   "id": "09dba6b3",
   "metadata": {
    "kernel": "Bash"
   },
   "source": [
    "Shows the options. To run it use the following command"
   ]
  },
  {
   "cell_type": "code",
   "execution_count": null,
   "id": "544369a4",
   "metadata": {
    "kernel": "Bash",
    "scrolled": false
   },
   "outputs": [],
   "source": [
    "\n",
    "PCAone  -b blue_wildebeest_thin -o blue_wildebeest_thin"
   ]
  },
  {
   "cell_type": "markdown",
   "id": "bf139a1e",
   "metadata": {
    "kernel": "Calysto Bash"
   },
   "source": [
    " - look at the above output. How many SNPs and how many individuals?\n",
    " \n",
    " The default is to calculate the top 10 PCs. If you want more you can use the option --pc <INT> to choose a different number. However, let see what the top PCs capture. \n",
    "    \n",
    "First let look the two first PCs as well as the admixture proportions\n"
   ]
  },
  {
   "cell_type": "code",
   "execution_count": null,
   "id": "d1147269",
   "metadata": {
    "kernel": "R"
   },
   "outputs": [],
   "source": [
    "options(repr.plot.width=12, repr.plot.height=12)\n",
    "\n",
    "layout(matrix(c(1,1,2,3),nrow=2,by=T),height=c(2,4),width=2:1)\n",
    "#read in code to plot admixture proportions ( plotAdmix function)\n",
    "source(\"https://raw.githubusercontent.com/GenisGE/evalAdmix/master/visFuns.R\")\n",
    "\n",
    "\n",
    "# Read in inferred admixture proportions\n",
    "q <- read.table(\"~/popgen24/pca2/multiRunK7/blue_wildebeest_noLD.7.Q_4\")\n",
    "\n",
    "#read in the population labels (first column of fam file)\n",
    "tab <- table(pop <- read.table(\"~/popgen24/pca2/blue_wildebeest_thin.fam\")[,1])\n",
    "\n",
    "#make the plot. \n",
    "plotAdmix(q,pop=pop,rotatelab=15,padj=0.15,cex.lab=1.4,col=c(3,5,8,4,2,6,7))\n",
    "\n",
    "\n",
    "pca <- read.table(\"~/popgen24/pca2/blue_wildebeest_thin.eigvecs\")\n",
    "#layout(matrix(1:2,nrow=1),w=c(4,2))\n",
    "plot(pca[,1:2],col=as.integer(as.factor(pop))+1,ylab=paste(\"PC\",1),xlab=paste(\"PC\",2),cex.lab=1.5,cex=2,lwd=8)\n",
    "plot.new()\n",
    "legend(\"top\",legend=names(tab),bty=\"n\",xpd=T,cex=2,text.col=1:length(tab)+1,text.font=2)\n"
   ]
  },
  {
   "cell_type": "markdown",
   "id": "fc4b480c",
   "metadata": {
    "kernel": "R"
   },
   "source": [
    " - What information do you get from the PCA that you don't get from the ADMIXTURE results?\n",
    " - Can you identify the admixed individuals?\n",
    " \n",
    " \n",
    " Lets see what the other PCs show. \n",
    " "
   ]
  },
  {
   "cell_type": "code",
   "execution_count": null,
   "id": "245d4a20",
   "metadata": {
    "kernel": "R"
   },
   "outputs": [],
   "source": [
    "options(repr.plot.width=12, repr.plot.height=16)\n",
    "\n",
    "par(mfrow=c(3,2))\n",
    "for(pc in 0:4)\n",
    "    plot(pca[,pc*2+1:2],col=as.factor(pop),ylab=paste(\"PC\",pc*2+2),xlab=paste(\"PC\",pc*2+1),cex.lab=1.5,cex=2,lwd=8)\n"
   ]
  },
  {
   "cell_type": "markdown",
   "id": "e708940c",
   "metadata": {
    "kernel": "Bash"
   },
   "source": [
    " - How many PCs are used to separate the populations?\n",
    " - What do you think is captured on PC 7 and 8?\n",
    " - What  do you think is captures on PC 9 and 10?\n",
    " "
   ]
  },
  {
   "cell_type": "markdown",
   "id": "57386879",
   "metadata": {
    "kernel": "R"
   },
   "source": [
    "## Bonus exercise if there is time\n",
    "\n",
    "\n",
    "Lets try to run the PCA after pruning LD (linkage disequillibrium) from the data. The noLD data was created in the admixture exercise. \n",
    "Run first the pruning with PCA  and then run PCA on the pruned data"
   ]
  },
  {
   "cell_type": "code",
   "execution_count": null,
   "id": "49a1c254",
   "metadata": {
    "kernel": "Bash"
   },
   "outputs": [],
   "source": [
    "\n",
    "PCAone -b blue_wildebeest_thin -k 6 --ld-stats 0 --ld-r2 0.1 --ld-bp 1000000\n",
    "\n",
    "echo --number of variants to be keept --\n",
    "wc -l pcaone.ld.prune.in\n",
    " \n",
    "echo -e \"\\n --Extract variants using plink --\"\n",
    "plink --bfile blue_wildebeest_thin --extract pcaone.ld.prune.in --make-bed --out blue_wildebeest_noLD  --chr-set 29\n"
   ]
  },
  {
   "cell_type": "code",
   "execution_count": null,
   "id": "21661880",
   "metadata": {
    "kernel": "Bash"
   },
   "outputs": [],
   "source": [
    "PCAone  -b  blue_wildebeest_noLD -o blue_wildebeest_noLD"
   ]
  },
  {
   "cell_type": "markdown",
   "id": "3cf7c4a2",
   "metadata": {
    "kernel": "Bash"
   },
   "source": [
    "\n",
    "We can start by comparing the eigenvalue. These are proportional to the variance explained so that higher values means that the corresponding PC captures more information about the data. "
   ]
  },
  {
   "cell_type": "code",
   "execution_count": null,
   "id": "87a0a512",
   "metadata": {
    "kernel": "R",
    "scrolled": false
   },
   "outputs": [],
   "source": [
    "options(repr.plot.width=12, repr.plot.height=8)\n",
    "\n",
    "eigen <- scan(\"~/popgen24/pca2/blue_wildebeest_thin.eigvals\")\n",
    "eigenNoLD <- scan(\"~/popgen24/pca2/blue_wildebeest_noLD.eigvals\")\n",
    "\n",
    "barplot(rbind(eigen,eigenNoLD),beside=T,col=2:3,legend=c(\"With LD\",\"Without LD\"),\n",
    "       ylab=\"eigen values\",xlab=\"PC 1:10\")"
   ]
  },
  {
   "cell_type": "markdown",
   "id": "9bffb30e",
   "metadata": {
    "kernel": "Bash"
   },
   "source": [
    " - which data set captures the most information about the population structure from the first top PCs?\n",
    " \n",
    " Lets plot the PCs from the two data sets"
   ]
  },
  {
   "cell_type": "code",
   "execution_count": null,
   "id": "ca4a0440",
   "metadata": {
    "kernel": "R",
    "scrolled": false
   },
   "outputs": [],
   "source": [
    "options(repr.plot.width=12, repr.plot.height=32)\n",
    "\n",
    "tab <- table(pop <- read.table(\"~/popgen24/pca2/blue_wildebeest_noLD.fam\")[,1])\n",
    "\n",
    "\n",
    "pcaNoLD <- read.table(\"~/popgen24/pca2/blue_wildebeest_noLD.eigvecs\")\n",
    "\n",
    "\n",
    "par(mfrow=c(5,2))\n",
    "for(pc in 0:4){\n",
    " \n",
    "    plot(pca[,pc*2+1:2],col=as.factor(pop),ylab=paste(\"PC\",pc*2+2),xlab=paste(\"PC\",pc*2+1),cex.lab=1.5,cex=2,lwd=8,main=\"with LD\")\n",
    "    plot(pcaNoLD[,pc*2+1:2],col=as.factor(pop),ylab=paste(\"PC\",pc*2+2),xlab=paste(\"PC\",pc*2+1),cex.lab=1.5,cex=2,lwd=8,main=\"No LD\")\n",
    "\n",
    "    \n",
    "    }"
   ]
  },
  {
   "cell_type": "markdown",
   "id": "d233cf13",
   "metadata": {
    "kernel": "R"
   },
   "source": [
    " - Which of the PCs from prevous analysis capture LD and not population structure?\n",
    " - Do you think it is better to perform PCA with out without LD?"
   ]
  },
  {
   "cell_type": "markdown",
   "id": "fbcf04a6",
   "metadata": {
    "kernel": "R"
   },
   "source": [
    "## Identity by state tree\n",
    "As a last minute addition we can also make a neighbour joining tree mentioned in the lecture by first computing identity-by-state distances between individuals which a just the proportion of sites between two individuals where they are different.\n",
    "We can then load these distances into R and produce a NJ tree with the package APE.\n"
   ]
  },
  {
   "cell_type": "code",
   "execution_count": null,
   "id": "f939b999",
   "metadata": {
    "kernel": "Bash"
   },
   "outputs": [],
   "source": [
    "# get IBS distances with plink\n",
    "plink --allow-extra-chr --bfile blue_wildebeest_thin --distance square 1-ibs --chr-set 29"
   ]
  },
  {
   "cell_type": "code",
   "execution_count": null,
   "id": "1ba26195",
   "metadata": {
    "kernel": "R",
    "scrolled": false
   },
   "outputs": [],
   "source": [
    "library(ape)\n",
    "\n",
    "# read in distances\n",
    "m <- as.matrix(read.table(\"~/popgen24/pca2/plink.mdist\", header = F))\n",
    "\n",
    "# read id of individuals\n",
    "id <- read.table(\"~/popgen24/pca2/plink.mdist.id\")\n",
    "rownames(m) <- id$V2\n",
    "colnames(m) <- id$V2\n",
    "\n",
    "pops <- c(4,6,8,2,5,7,3)\n",
    "names(pops) <- unique(id$V1)\n",
    "\n",
    "plot(nj(m), tip.color = pops[id$V1], type = \"unrooted\", show.tip.label = TRUE)\n",
    "add.scale.bar()\n",
    "legend(\"bottomright\",\n",
    "       legend = names(pops),\n",
    "       fill = pops)"
   ]
  },
  {
   "cell_type": "markdown",
   "id": "a0705cad",
   "metadata": {
    "kernel": "R"
   },
   "source": [
    " - Try removing the \" type = 'unrooted',\" argument from the plotting command above and see what happens to the tree"
   ]
  }
 ],
 "metadata": {
  "kernelspec": {
   "display_name": "SoS",
   "language": "sos",
   "name": "sos"
  },
  "language_info": {
   "codemirror_mode": "sos",
   "file_extension": ".sos",
   "mimetype": "text/x-sos",
   "name": "sos",
   "nbconvert_exporter": "sos_notebook.converter.SoS_Exporter",
   "pygments_lexer": "sos"
  },
  "sos": {
   "kernels": [
    [
     "Bash",
     "bash",
     "bash",
     "",
     "shell"
    ],
    [
     "R",
     "ir",
     "R",
     "#DCDCDA",
     "r"
    ]
   ],
   "panel": {
    "displayed": false,
    "height": 0
   },
   "version": "0.24.1"
  }
 },
 "nbformat": 4,
 "nbformat_minor": 5
}
