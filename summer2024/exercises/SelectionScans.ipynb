{
 "cells": [
  {
   "cell_type": "markdown",
   "id": "38f9783e",
   "metadata": {
    "kernel": "SoS"
   },
   "source": [
    "# Exercises I: Frequency-based methods\n",
    "----\n",
    "## Variability statistics\n",
    "\n",
    "We will use individuals sequencing in the 1000 genomes project. Even thought the individuals we sequenced at low/medium depth they were able to obtain good genotype calls for most of the SNPs in the genome (using imputation + external information). Because of computational demands we will only be looking at a 20Mb region for a small subset of the individuals. We will use 56 African individuals (YRI) and 60 European individuals (CEU). These are the individuals what overlap with the HapMap project where many selection scans in humans have been performed. We will try to explore the *LCT* gene located at position 136.6 Mb.\n",
    "\n",
    "Aim: Locate the *LCT* selection signal using phased genotype data\n",
    "\n",
    "We will use the program selscan with contains many of the haplotype based methods used for scan statistics. These methods are based on phased genotype data. To save time we have prepared such data for you in vcf format. Let's start by setting up the paths for those files as well as for the selscan program and a file with a genetic map:"
   ]
  },
  {
   "cell_type": "code",
   "execution_count": null,
   "id": "38b2af2f",
   "metadata": {
    "kernel": "Bash"
   },
   "outputs": [],
   "source": [
    "## path for this exercise\n",
    "ThePath=/course/popgen24/cindy/selectionExercises\n",
    "  \n",
    "#selscan program folder\n",
    "SS=/course/popgen24/cindy/selectionExercises/prog/selscan-linux-1.3.0/\n",
    "\n",
    "#VCF files\n",
    "ceuVCF=$ThePath/ceuLCT.recode.vcf\n",
    "yriVCF=$ThePath/yriLCT.recode.vcf\n",
    "chbVCF=$ThePath/chbLCT.recode.vcf\n",
    "\n",
    "#genetic map (positions in centimorgans)\n",
    "MAP=$ThePath/geneticV2.map"
   ]
  },
  {
   "cell_type": "markdown",
   "id": "966198bf",
   "metadata": {
    "kernel": "SoS"
   },
   "source": [
    "And let's quickly look at a line in the vcf file to see how the fact that the data is indicated:"
   ]
  },
  {
   "cell_type": "code",
   "execution_count": null,
   "id": "e3510507",
   "metadata": {
    "kernel": "Bash"
   },
   "outputs": [],
   "source": [
    "tail -n 1 $ThePath/ceuLCT.recode.vcf"
   ]
  },
  {
   "cell_type": "markdown",
   "id": "46dca6f2",
   "metadata": {
    "kernel": "Bash"
   },
   "source": [
    "Note that for each genotype for this SNP the alleles for each individual are separated by a vertical pipe \"|\". The vertical pipe | indicates that the genotype is phased, and is used to indicate which chromosome the alleles are on (if this is a slash / rather than a vertical pipe, it means we don’t know which chromosome they are on)."
   ]
  },
  {
   "cell_type": "markdown",
   "id": "db80b72d",
   "metadata": {
    "kernel": "Bash"
   },
   "source": [
    "### Tajima's Theta (Tajima's π)\n",
    "---\n",
    "First lets look at the variability of the data in the CEU.\n",
    "\n",
    "- If there has been positive selection at the LCT loci what do you expect?\n",
    "\n",
    "With that in mind then try to estimate Tajima's theta (pi) in 10k windows using selscan using the following command:"
   ]
  },
  {
   "cell_type": "code",
   "execution_count": null,
   "id": "5de60e91",
   "metadata": {
    "kernel": "Bash"
   },
   "outputs": [],
   "source": [
    "\n",
    "\n",
    "$SS/selscan --pi --vcf $ceuVCF --pmap --out ceuLCT --threads 8 --pi-win 10000"
   ]
  },
  {
   "cell_type": "markdown",
   "id": "09a77fbd",
   "metadata": {
    "kernel": "SoS"
   },
   "source": [
    "Let's try to have look at the last 10 lines of the output file (which is named after the window size):"
   ]
  },
  {
   "cell_type": "code",
   "execution_count": null,
   "id": "b797e175",
   "metadata": {
    "kernel": "Bash"
   },
   "outputs": [],
   "source": [
    "tail -n 10 ceuLCT.pi.10000bp.out"
   ]
  },
  {
   "cell_type": "markdown",
   "id": "9316b9ad",
   "metadata": {
    "kernel": "SoS"
   },
   "source": [
    "- Is it clear what is outputed? (hint: there is a line for each window and the first two colums define the window and the last the pi values)\n",
    "\n",
    "Now try to plot the results in R using e.g. the following command:"
   ]
  },
  {
   "cell_type": "code",
   "execution_count": null,
   "id": "fc8d25a4",
   "metadata": {
    "kernel": "R"
   },
   "outputs": [],
   "source": [
    "r<-read.table(\"ceuLCT.pi.10000bp.out\",head=F)\n",
    "r<-subset(r,V3!=0)\n",
    "plot(r[,1]/1e6,r[,3],ylab=\"pi\",xlab=\"Position (Mb)\",pch=20)\n",
    "causalSNP <- 136608646/1e6\n",
    "abline(v=causalSNP,col=\"red\")\n",
    "legend(\"topleft\",lty=1,col=\"red\",\"LCT\")"
   ]
  },
  {
   "cell_type": "markdown",
   "id": "220331ac",
   "metadata": {
    "kernel": "SoS"
   },
   "source": [
    "- Can you see the reduced variability?\n",
    "\n",
    "To determine whether it is extreme we can compare with the pi values in rest of the region using the following R code:"
   ]
  },
  {
   "cell_type": "code",
   "execution_count": null,
   "id": "a35ee9a6",
   "metadata": {
    "kernel": "R"
   },
   "outputs": [],
   "source": [
    "#continue in R\n",
    "\n",
    "hist(r[,3],br=100, main=\"Histogram of pi values for all windows\", xlab=\"pi\")\n",
    "causalWin<-subset(r,V1<(causalSNP*1e6)& V2>(causalSNP*1e6))\n",
    "abline(v=causalWin[,3],col=\"red\")\n",
    "legend(\"topright\",lty=1,col=\"red\",\"LCT\")\n",
    "print(paste(\"The pi value in the window with LCT is\",causalWin[,3]))"
   ]
  },
  {
   "cell_type": "markdown",
   "id": "95608112",
   "metadata": {
    "kernel": "SoS"
   },
   "source": [
    "- Is the variability in the *LCT* region extreme?\n",
    "\n",
    "- Try different windows sizes to see if it will change your results. To do so you need to go back to the code above, change the window size when you estimate pi with selscan and rerun all of the code **(NB! you also have to change the name of the file with resulsts when reading into `R`)**\n",
    "\n",
    "### Tajima's *D*\n",
    "\n",
    "**See how Tajima's *D* compares to π.**\n",
    "Go to https://genome.ucsc.edu/s/aalbrechtsen/hg18Selection\n",
    "\n",
    "\n",
    "This is a browser that can be used to view genomic data. With the above link you will view both genes and Tajima's *D* for 3 populations. \n",
    " - Individuals with African descent are named AD\n",
    " - Individuals with European descent are named ED\n",
    " - Individuals with Chinese descent are named XD\n",
    "<br/><br/>\n",
    "\n",
    "You are looking at a random 11Mb region of the genome. Try to get a sense of the values that Tajima's *D* takes along the genome for the 3 populations.\n",
    " - You can move to another part of the chromosome by clicking ones on the chromosome arm \n",
    " - You can also change chromosome in the search field\n",
    " - You can zoom in by draging the mouse\n",
    " <figure>\n",
    "  <img  src=\"https://raw.githubusercontent.com/populationgenetics/exercises/master/NaturalSelection/browser.png\" alt=\"\" width=800 title=\"\">\n",
    " </figure>\n",
    " \n",
    "\n",
    "\n",
    "Take note of the highest and lowest values of Tajima's *D* that you observed. \n",
    "<br/><br/>\n",
    "  \n",
    "\n",
    "Try to find the *SLC45A2* gene (use the search field and choose the top option). This is one of the strongest selected genes in Europeans. \n",
    " - Is this an extreme value of Tajima's *D*?\n",
    "\n",
    "<br/><br/>\n",
    "Now go to the *LCT* loci. \n",
    " - Does this have an extreme value of Tajima's *D* ?\n",
    " - What can you conclude on the performance of Tajima’s *D* ?\n",
    " \n"
   ]
  },
  {
   "cell_type": "markdown",
   "id": "644ae728",
   "metadata": {
    "kernel": "SoS"
   },
   "source": [
    "## Population genetic differentation statistics\n",
    "----\n",
    "\n",
    "### $F_{ST}$ and Population Branch Statistics (PBS)\n",
    "\n",
    "Now that we've tried out single-population statistics, lets see how a selection scan that compares two populations performs.\n",
    "\n",
    "The data for Hudson's $F_{ST}$ comparing CEU (Europeans) and YRI (West Africans) for the *LCT* region has already been pre-ran using 10000bp window sizes.\n",
    "\n",
    "\n",
    "Let's copy the data into your folder and plot the results in `R`:"
   ]
  },
  {
   "cell_type": "code",
   "execution_count": null,
   "id": "b5e9da0e",
   "metadata": {
    "kernel": "R"
   },
   "outputs": [],
   "source": [
    "r <- read.table(\"/course/popgen24/cindy/selectionExercises/run/comboLCT.fst.out\",header=T)\n",
    "causalSNP <- 136608646\n",
    "#plot FST results\n",
    "plot(r$POS,r$FST,ylab=\"Fst\");\n",
    "abline(v=causalSNP,col=\"red\")"
   ]
  },
  {
   "cell_type": "markdown",
   "id": "7705417a",
   "metadata": {
    "kernel": "SoS"
   },
   "source": [
    "Similarly, data for PBS comparing CEU and CHB (Han Chinese) to YRI for the *LCT* region has been performed with window sizes consisting of 75 variants per window (approximately 10000 bp). \n",
    "\n",
    "Let's plot the pre-ran PBS results in `R`:\n"
   ]
  },
  {
   "cell_type": "code",
   "execution_count": null,
   "id": "2ae77d61",
   "metadata": {
    "kernel": "R"
   },
   "outputs": [],
   "source": [
    "r <- read.table(\"/course/popgen24/cindy/selectionExercises/run/comboLCT.pbs.out\",header=T)\n",
    "causalSNP <- 136608646\n",
    "#plot PBS results\n",
    "plot(r$POS,r$PBS,ylab=\"PBS\");\n",
    "abline(v=causalSNP,col=\"red\")"
   ]
  },
  {
   "cell_type": "markdown",
   "id": "3f276d91",
   "metadata": {
    "kernel": "SoS"
   },
   "source": [
    "**- How do both of these selection methods compare to Tajima's π/theta and Tajima's *D*?**\n",
    " <br/><br/>\n",
    " <br/><br/>"
   ]
  },
  {
   "cell_type": "markdown",
   "id": "24dcc30e",
   "metadata": {
    "kernel": "SoS"
   },
   "source": [
    "# Exercise II: Haplotype-based methods\n",
    "\n",
    "## Integrated Haplotype Score (iHS)\n",
    "\n",
    "Lets now see if the haplotype homozygosity does a better job than the frequency-based methods.\n",
    "\n",
    "Run iHS using the command:"
   ]
  },
  {
   "cell_type": "code",
   "execution_count": null,
   "id": "7895b992",
   "metadata": {
    "kernel": "Bash"
   },
   "outputs": [],
   "source": [
    "#$SS/selscan --ihs --vcf $ceuVCF --pmap --out ceuLCT --threads 8"
   ]
  },
  {
   "cell_type": "markdown",
   "id": "541122b5",
   "metadata": {
    "kernel": "SoS"
   },
   "source": [
    "The analysis takes a couple of minutes so instead we will work with an already pre-ran set of results. You can copy it here:"
   ]
  },
  {
   "cell_type": "code",
   "execution_count": null,
   "id": "f263ddfc",
   "metadata": {
    "kernel": "Bash"
   },
   "outputs": [],
   "source": [
    "ln -s $ThePath/run/ceuLCT.ihs* ."
   ]
  },
  {
   "cell_type": "markdown",
   "id": "17f58bf2",
   "metadata": {
    "kernel": "SoS"
   },
   "source": [
    "The output columns are:\n",
    "\n",
    "```\n",
    "<locusID> <physicalPos> <'1' freq> <ihh1> <ihh0> <unstandardized iHS>\n",
    "```\n",
    "\n",
    "These statistics will be affected by the frequency of the SNPs therefore we have to normalize in frequency bins. The default in 100 bins."
   ]
  },
  {
   "cell_type": "code",
   "execution_count": null,
   "id": "3a66624c",
   "metadata": {
    "kernel": "Bash"
   },
   "outputs": [],
   "source": [
    "$SS/norm --ihs --files ceuLCT.ihs.out --bins 20"
   ]
  },
  {
   "cell_type": "markdown",
   "id": "bf91e648",
   "metadata": {
    "kernel": "SoS"
   },
   "source": [
    "The number of bins is too high for this data set since we do not have enough SNPs for each bin of allele frequencies. Therefore, redo the analysis where you reduce the number of bins to 20 with the `--bins 20` option.\n",
    "\n",
    "Lets plot the results in `R`:"
   ]
  },
  {
   "cell_type": "code",
   "execution_count": null,
   "id": "f0526c56",
   "metadata": {
    "kernel": "R"
   },
   "outputs": [],
   "source": [
    "r <- read.table(\"ceuLCT.ihs.out.20bins.norm\",as.is=T,head=F)\n",
    "names(r) <- c(\"locusID\", \"physicalPos\",\"freq\",\"ihh1\",\"ihh0\",\"unstandardizediHS\")\n",
    "r[which.max(r$ihh1/r$ihh0),]\n",
    "causalSNP <- 136608646\n",
    "#plot without frequency standardization\n",
    "plot(r$physicalPos,r$unstandardizediHS);\n",
    "\n",
    "## with standardiztion IHS=ihh0/ihh1\n",
    "r$iHS<-log(r$ihh1/r$ihh0)\n",
    "plot(r$physicalPos,r$iHS,ylab=\"iHs\");\n",
    "abline(v=causalSNP,col=\"red\")\n",
    "\n",
    "## causal SNP test statistics vs. rest of region\n",
    "(causalSite<-r[which(r$physicalPos==causalSNP),])\n",
    "hist(r$iHS)\n",
    "abline(v=causalSite$iHS,col=\"red\")\n"
   ]
  },
  {
   "cell_type": "markdown",
   "id": "38dc5f8b",
   "metadata": {
    "kernel": "SoS"
   },
   "source": [
    "## Cross-population EHH (XP-EHH)\n",
    "\n",
    "Lets try to use West Africans (YRI) to normalise the iHS with XP-EHH:"
   ]
  },
  {
   "cell_type": "code",
   "execution_count": null,
   "id": "807850c6",
   "metadata": {
    "kernel": "Bash"
   },
   "outputs": [],
   "source": [
    "#$SS/selscan --xpehh --vcf $ceuVCF --pmap --vcf-ref $yriVCF --out ceuLCT --threads 8"
   ]
  },
  {
   "cell_type": "markdown",
   "id": "b43f95aa",
   "metadata": {
    "kernel": "SoS"
   },
   "source": [
    "This may take up to 10 minutes so feel free to copy the results instead:"
   ]
  },
  {
   "cell_type": "code",
   "execution_count": null,
   "id": "aab3b161",
   "metadata": {
    "kernel": "Bash"
   },
   "outputs": [],
   "source": [
    "ln -s $ThePath/run/ceuLCT.xpehh* ."
   ]
  },
  {
   "cell_type": "markdown",
   "id": "686c6f57",
   "metadata": {
    "kernel": "SoS"
   },
   "source": [
    "We also have to normalize these results:"
   ]
  },
  {
   "cell_type": "code",
   "execution_count": null,
   "id": "de8b6a40",
   "metadata": {
    "kernel": "Bash"
   },
   "outputs": [],
   "source": [
    "$SS/norm --xpehh --files ceuLCT.xpehh.out"
   ]
  },
  {
   "cell_type": "markdown",
   "id": "31a893ea",
   "metadata": {
    "kernel": "SoS"
   },
   "source": [
    "And once more, you can plot the results in `R`:"
   ]
  },
  {
   "cell_type": "code",
   "execution_count": null,
   "id": "14c3bb2e",
   "metadata": {
    "kernel": "R"
   },
   "outputs": [],
   "source": [
    "r<-read.table(\"ceuLCT.xpehh.out.norm\",head=T,as.is=T,row.names=NULL)\n",
    "causalSNP <- 136608646\n",
    "(causalSite<-r[which(r$pos==causalSNP),])                 \n",
    "plot(r$pos,r$normxpehh)\n",
    "abline(v=causalSNP,col=\"red\")\n",
    "\n",
    "#print the site with maximum statistic \n",
    "r[which.max(r$normxpehh),]\n",
    "\n",
    "#plot the distribution\n",
    "hist(r$normxpehh)\n",
    "abline(v=causalSite$normxpehh,col=\"red\")\n",
    "\n",
    "#get the quantile\n",
    "mean(causalSite$normxpehh>r$normxpehh)"
   ]
  },
  {
   "cell_type": "markdown",
   "id": "8db6b679",
   "metadata": {
    "kernel": "SoS"
   },
   "source": [
    "**- Are you more convinced that the site is under selection?**"
   ]
  },
  {
   "cell_type": "markdown",
   "id": "c1cd018b",
   "metadata": {
    "kernel": "R"
   },
   "source": [
    "# PBS 1000 Genomes\n",
    "\n",
    "    Lets explore the genome using PBS. First copy allele frequency informattion from the 1000 genomes"
   ]
  },
  {
   "cell_type": "code",
   "execution_count": null,
   "id": "18cbff0f",
   "metadata": {
    "kernel": "R"
   },
   "outputs": [],
   "source": [
    "cp -r -sf  /course/popgen24/anders/selectionScan/ ~/\n",
    "#enter the folder you just copied\n",
    "cd ~/selectionScan\n",
    "\n"
   ]
  },
  {
   "cell_type": "markdown",
   "id": "e097fd6d",
   "metadata": {
    "kernel": "R"
   },
   "source": [
    "Load thw data into R   ( you do not need to understand the code)"
   ]
  },
  {
   "cell_type": "code",
   "execution_count": null,
   "id": "200ea74c",
   "metadata": {
    "kernel": "R"
   },
   "outputs": [],
   "source": [
    "\n",
    "## load data and function\n",
    "setwd(\"~/selectionScan/\")\n",
    "\n",
    "source(\"server.R\")\n",
    "winSize <- 50000\n",
    "shinyDir<- \"~/selectionScan/tmp/\"\n",
    "\n",
    "shinyPBS<-paste0(shinyDir,\"pbs\") \n",
    "shinyCSV<-paste0(shinyDir,\"pbs.csv\")\n"
   ]
  },
  {
   "cell_type": "markdown",
   "id": "8afc1d54",
   "metadata": {
    "kernel": "R"
   },
   "source": [
    "First select 3 populations from\n",
    "\n",
    "    NAT - Native Americans (PERU+Mexico)\n",
    "    CHB – East Asian - Han Chinese\n",
    "    CEU – Central Europeans\n",
    "    YRI – African - Nigerians\n",
    "\n",
    "The first population is the one which branch you are investigating. The two others are the one you are comparing to. Chose CEU as the first and choose CHB and YRI as the two others."
   ]
  },
  {
   "cell_type": "code",
   "execution_count": null,
   "id": "dc2a7804",
   "metadata": {
    "kernel": "R"
   },
   "outputs": [],
   "source": [
    "#\"NAT\", \"CEU\", \"CHB\",\"YRI\"\n",
    "\n",
    "#### choose populations\n",
    "#pops 1=NAT,2=CHB\",3=CEU\",4=YRI\n",
    "myPops <- c(3,2,4)"
   ]
  },
  {
   "cell_type": "markdown",
   "id": "97ab6c04",
   "metadata": {
    "kernel": "R"
   },
   "source": [
    "First lets get an overview of the whole genome by making a manhattan plot\n"
   ]
  },
  {
   "cell_type": "code",
   "execution_count": null,
   "id": "4b34c453",
   "metadata": {
    "kernel": "R"
   },
   "outputs": [],
   "source": [
    "options(repr.plot.width=17, repr.plot.height=8)\n",
    "#### choose populations\n",
    "PBSmanPlot(myPops)\n"
   ]
  },
  {
   "cell_type": "markdown",
   "id": "1732b57e",
   "metadata": {
    "kernel": "R"
   },
   "source": [
    "ote which chromosomes have extreme values. A high value of PBS means a long branch length. To view a single chromosome – go to PBS region\n",
    "\n",
    "Chose the chromosome with the highest PBS value and set the starting position to -1 to get the whole chromosome\n",
    "\n",
    "e.g.\n",
    "\n",
    "# see entire chromosome 1\n"
   ]
  },
  {
   "cell_type": "code",
   "execution_count": null,
   "id": "e5c50c8d",
   "metadata": {
    "kernel": "R"
   },
   "outputs": [],
   "source": [
    "options(repr.plot.width=17, repr.plot.height=10)\n",
    "#modify below code with your selected chromsome\n",
    "PBSmanRegion(myPops,chrom=1,start=-1)"
   ]
  },
  {
   "cell_type": "markdown",
   "id": "9f7699dd",
   "metadata": {
    "kernel": "R"
   },
   "source": [
    "Zoom in to the peak by changing start and end position.\n",
    "\n",
    "# see region between 20Mb and 21Mb on chromosome 1\n"
   ]
  },
  {
   "cell_type": "code",
   "execution_count": null,
   "id": "97dd74f9",
   "metadata": {
    "kernel": "R"
   },
   "outputs": [],
   "source": [
    "options(repr.plot.width=17, repr.plot.height=10)\n",
    "\n",
    "#modify below code\n",
    "PBSmanRegion(myPops,chrom=1,start=20,end=21)\n"
   ]
  },
  {
   "cell_type": "markdown",
   "id": "5d9e465e",
   "metadata": {
    "kernel": "R"
   },
   "source": [
    "- Locate the most extreme regions of the genome and zoom in\n",
    " - Identify the Gene with the highest PBS value.\n",
    " - What does the gene do?\n",
    " - Try the LCT gene (the mutations are locate in the adjacent MCM6 gene). See below on how to get the position\n",
    " - How does this compare with Tajima’s D\n",
    "If you have time you can try other genes. Here are the top ones for Humans. You can find the find the location of the genes using for example the ucsc browser https://genome-euro.ucsc.edu/cgi-bin/hgGateway (choose human GRCh37/hg19 genome). Note that there are some population that you cannot test because the populations are not represented in the data e.g. Tibetan, Ethiopian , Inuit, Siberians."
   ]
  },
  {
   "cell_type": "markdown",
   "id": "12eb8ce8",
   "metadata": {
    "kernel": "R"
   },
   "source": [
    "### EDAR\n",
    "\n",
    "if you have time then try to see if you can detect selection on the EDAR gene in East Asians ( EDAR was the gene you explored using low depth sequencing the first day of the course)"
   ]
  },
  {
   "cell_type": "code",
   "execution_count": null,
   "id": "98a4eff3",
   "metadata": {
    "kernel": "R"
   },
   "outputs": [],
   "source": []
  }
 ],
 "metadata": {
  "kernelspec": {
   "display_name": "SoS",
   "language": "sos",
   "name": "sos"
  },
  "language_info": {
   "codemirror_mode": "sos",
   "file_extension": ".sos",
   "mimetype": "text/x-sos",
   "name": "sos",
   "nbconvert_exporter": "sos_notebook.converter.SoS_Exporter",
   "pygments_lexer": "sos"
  },
  "sos": {
   "kernels": [
    [
     "Bash",
     "bash",
     "bash",
     "",
     "shell"
    ],
    [
     "R",
     "ir",
     "R",
     "",
     "r"
    ],
    [
     "SoS",
     "sos",
     "",
     "",
     "sos"
    ]
   ],
   "panel": {
    "displayed": false,
    "height": 0
   },
   "version": "0.24.1"
  }
 },
 "nbformat": 4,
 "nbformat_minor": 5
}
