{
 "cells": [
  {
   "cell_type": "markdown",
   "id": "38f9783e",
   "metadata": {
    "kernel": "SoS"
   },
   "source": [
    "# Exercises I: Frequency-based methods\n",
    "----\n",
    "## Variability statistics\n",
    "\n",
    "We will use individuals sequencing in the 1000 genomes project. Even thought the individuals we sequenced at low/medium depth they were able to obtain good genotype calls for most of the SNPs in the genome (using imputation + external information). Because of computational demands we will only be looking at a 20Mb region for a small subset of the individuals. We will use 56 African individuals (YRI) and 60 European individuals (CEU). These are the individuals what overlap with the HapMap project where many selection scans in humans have been performed. We will try to explore the *LCT* gene located at position 136.6 Mb.\n",
    "\n",
    "Aim: Locate the *LCT* selection signal using phased genotype data\n",
    "\n",
    "We will use the program selscan with contains many of the haplotype based methods used for scan statistics. These methods are based on phased genotpe data.\n"
   ]
  },
  {
   "cell_type": "code",
   "execution_count": null,
   "id": "38b2af2f",
   "metadata": {
    "kernel": "Bash"
   },
   "outputs": [],
   "source": [
    "## path for this exercise\n",
    "ThePath=/course/popgen24/cindy/selectionExercises\n",
    "  \n",
    "#selscan program folder\n",
    "SS=/course/popgen24/cindy/selectionExercises/prog/selscan-linux-1.3.0/\n",
    "\n",
    "#VCF files\n",
    "ceuVCF=$ThePath/ceuLCT.recode.vcf\n",
    "yriVCF=$ThePath/yriLCT.recode.vcf\n",
    "chbVCF=$ThePath/chbLCT.recode.vcf\n",
    "\n",
    "#genetic map (positions in centimorgans)\n",
    "MAP=$ThePath/geneticV2.map"
   ]
  },
  {
   "cell_type": "markdown",
   "id": "966198bf",
   "metadata": {
    "kernel": "SoS"
   },
   "source": [
    "### Tajima's Theta (Tajima's π)\n",
    "---\n",
    "First lets look at the variability of the data in the CEU.\n",
    "\n",
    "- If there has been positive selection at the LCT loci what do you expect?\n",
    "\n",
    "Estimate Tajima's theta (pi) in 10k windows."
   ]
  },
  {
   "cell_type": "code",
   "execution_count": null,
   "id": "5de60e91",
   "metadata": {
    "kernel": "Bash"
   },
   "outputs": [],
   "source": [
    "$SS/selscan --pi --vcf $ceuVCF --pmap --out ceuLCT --threads 8 --pi-win 10000"
   ]
  },
  {
   "cell_type": "markdown",
   "id": "09a77fbd",
   "metadata": {
    "kernel": "SoS"
   },
   "source": [
    "**You can plot the results in `R` e.g.**"
   ]
  },
  {
   "cell_type": "code",
   "execution_count": null,
   "id": "fc8d25a4",
   "metadata": {
    "kernel": "R"
   },
   "outputs": [],
   "source": [
    "r<-read.table(\"ceuLCT.pi.10000bp.out\",head=F)\n",
    "r<-subset(r,V3!=0)\n",
    "plot(r[,1],r[,3],ylab=\"pi\",xlab=\"position\")\n",
    "causalSNP <- 136608646\n",
    "abline(v=136.5e6,col=\"red\")\n",
    "legend(\"topleft\",fill=\"red\",\"LCT\")"
   ]
  },
  {
   "cell_type": "markdown",
   "id": "220331ac",
   "metadata": {
    "kernel": "SoS"
   },
   "source": [
    "- Can you see the reduced variability?\n",
    "\n",
    "To determine whether it is extreme we can compare with the rest of the region."
   ]
  },
  {
   "cell_type": "code",
   "execution_count": null,
   "id": "a35ee9a6",
   "metadata": {
    "kernel": "R"
   },
   "outputs": [],
   "source": [
    "#continue in R\n",
    "\n",
    "hist(r[,3],br=100)\n",
    "(causalWin<-subset(r,V1<causalSNP & V2>causalSNP))\n",
    "abline(v=causalWin[,3],col=\"red\")"
   ]
  },
  {
   "cell_type": "markdown",
   "id": "95608112",
   "metadata": {
    "kernel": "SoS"
   },
   "source": [
    "- is the variability in the *LCT* region extreme?\n",
    "\n",
    "- Try different windows sizes to see if it will change your results **(NB! you have to change the name when reading into `R`)**\n",
    "\n",
    "### Tajima's *D*\n",
    "\n",
    "**See how Tajima's *D* compares to π.**\n",
    "Go to https://genome.ucsc.edu/s/aalbrechtsen/hg18Selection\n",
    "\n",
    "\n",
    "This is a browser that can be used to view genomic data. With the above link you will view both genes and Tajima's *D* for 3 populations. \n",
    " - Individuals with African descent are named AD\n",
    " - Individuals with European descent are named ED\n",
    " - Individuals with Chinese descent are named XD\n",
    " - <br/><br/>\n",
    "You are looking at a random 11Mb region of the genome. Try to get a sense of the values that Tajima's *D* takes along the genome for the 3 populations.\n",
    " - You can move to another part of the chromosome by clicking ones on the chromosome arm \n",
    " - You can also change chromosome in the search field\n",
    " - You can zoom in by draging the mouse\n",
    " <figure>\n",
    "  <img  src=\"https://raw.githubusercontent.com/populationgenetics/exercises/master/NaturalSelection/browser.png\" alt=\"\" width=800 title=\"\">\n",
    " </figure>\n",
    " \n",
    "\n",
    "\n",
    "Take note of the highest and lowest values of Tajima's *D* that you observed. \n",
    "<br/><br/>\n",
    "  \n",
    "\n",
    "Try to find the *SLC45A2* gene (use the search field and choose the top option). This is one of the strongest selected genes in Europeans. \n",
    " - Is this an extreme value of Tajima's *D*?\n",
    "\n",
    "<br/><br/>\n",
    "Now go to the *LCT* loci. \n",
    " - Does this have an extreme value of Tajima's *D* ?\n",
    " - What can you conclude on the performance of Tajima’s *D* ?\n",
    " \n"
   ]
  },
  {
   "cell_type": "markdown",
   "id": "644ae728",
   "metadata": {
    "kernel": "SoS"
   },
   "source": [
    "## Population genetic differentation statistics\n",
    "----\n",
    "\n",
    "### $F_{ST}$ and Population Branch Statistics (PBS)\n",
    "\n",
    "Now that we've tried out single-population statistics, lets see how a selection scan that compares two populations performs.\n",
    "\n",
    "The data for Hudson's $F_{ST}$ comparing CEU (Europeans) and YRI (West Africans) for the *LCT* region has already been pre-ran using 10000bp window sizes.\n",
    "\n",
    "\n",
    "Let's copy the data into your folder and plot the results in `R`:"
   ]
  },
  {
   "cell_type": "code",
   "execution_count": null,
   "id": "b5e9da0e",
   "metadata": {
    "kernel": "R"
   },
   "outputs": [],
   "source": [
    "r <- read.table(\"/course/popgen24/cindy/selectionExercises/run/comboLCT.fst.out\",header=T)\n",
    "causalSNP <- 136608646\n",
    "#plot FST results\n",
    "plot(r$POS,r$FST,ylab=\"Fst\");\n",
    "abline(v=causalSNP,col=\"red\")"
   ]
  },
  {
   "cell_type": "markdown",
   "id": "7705417a",
   "metadata": {
    "kernel": "SoS"
   },
   "source": [
    "Similarly, data for PBS comparing CEU and CHB (Han Chinese) to YRI for the *LCT* region has been performed with window sizes consisting of 75 variants per window (approximately 10000 bp). \n",
    "\n",
    "Let's plot the pre-ran PBS results in `R`:\n"
   ]
  },
  {
   "cell_type": "code",
   "execution_count": null,
   "id": "2ae77d61",
   "metadata": {
    "kernel": "R"
   },
   "outputs": [],
   "source": [
    "r <- read.table(\"/course/popgen24/cindy/selectionExercises/run/comboLCT.pbs.out\",header=T)\n",
    "causalSNP <- 136608646\n",
    "#plot PBS results\n",
    "plot(r$POS,r$PBS,ylab=\"PBS\");\n",
    "abline(v=causalSNP,col=\"red\")"
   ]
  },
  {
   "cell_type": "markdown",
   "id": "3f276d91",
   "metadata": {
    "kernel": "SoS"
   },
   "source": [
    "**- How do both of these selection methods compare to Tajima's π/theta and Tajima's *D*?**\n",
    " <br/><br/>\n",
    " <br/><br/>"
   ]
  },
  {
   "cell_type": "markdown",
   "id": "24dcc30e",
   "metadata": {
    "kernel": "SoS"
   },
   "source": [
    "# Exercise II: Haplotype-based methods\n",
    "\n",
    "## Integrated Haplotype Score (iHS)\n",
    "\n",
    "Lets now see if the haplotype homozygosity does a better job than the frequency-based methods.\n",
    "\n",
    "Run iHS using the command:"
   ]
  },
  {
   "cell_type": "code",
   "execution_count": null,
   "id": "7895b992",
   "metadata": {
    "kernel": "Bash"
   },
   "outputs": [],
   "source": [
    "#$SS/selscan --ihs --vcf $ceuVCF --pmap --out ceuLCT --threads 8"
   ]
  },
  {
   "cell_type": "markdown",
   "id": "541122b5",
   "metadata": {
    "kernel": "SoS"
   },
   "source": [
    "The analysis takes a couple of minutes so instead we will work with an already pre-ran set of results. You can copy it here:"
   ]
  },
  {
   "cell_type": "code",
   "execution_count": null,
   "id": "f263ddfc",
   "metadata": {
    "kernel": "Bash"
   },
   "outputs": [],
   "source": [
    "ln -s $ThePath/run/ceuLCT.ihs* ."
   ]
  },
  {
   "cell_type": "markdown",
   "id": "17f58bf2",
   "metadata": {
    "kernel": "SoS"
   },
   "source": [
    "The output columns are:\n",
    "\n",
    "```\n",
    "<locusID> <physicalPos> <'1' freq> <ihh1> <ihh0> <unstandardized iHS>\n",
    "```\n",
    "\n",
    "These statistics will be affected by the frequency of the SNPs therefore we have to normalize in frequency bins. The default in 100 bins."
   ]
  },
  {
   "cell_type": "code",
   "execution_count": null,
   "id": "3a66624c",
   "metadata": {
    "kernel": "Bash"
   },
   "outputs": [],
   "source": [
    "$SS/norm --ihs --files ceuLCT.ihs.out --bins 20"
   ]
  },
  {
   "cell_type": "markdown",
   "id": "bf91e648",
   "metadata": {
    "kernel": "SoS"
   },
   "source": [
    "The number of bins is too high for this data set since we do not have enough SNPs for each bin of allele frequencies. Therefore, redo the analysis where you reduce the number of bins to 20 with the `--bins 20` option.\n",
    "\n",
    "Lets plot the results in `R`:"
   ]
  },
  {
   "cell_type": "code",
   "execution_count": null,
   "id": "f0526c56",
   "metadata": {
    "kernel": "R"
   },
   "outputs": [],
   "source": [
    "r <- read.table(\"ceuLCT.ihs.out.20bins.norm\",as.is=T,head=F)\n",
    "names(r) <- c(\"locusID\", \"physicalPos\",\"freq\",\"ihh1\",\"ihh0\",\"unstandardizediHS\")\n",
    "r[which.max(r$ihh1/r$ihh0),]\n",
    "causalSNP <- 136608646\n",
    "#plot without frequency standardization\n",
    "plot(r$physicalPos,r$unstandardizediHS);\n",
    "\n",
    "## with standardiztion IHS=ihh0/ihh1\n",
    "r$iHS<-log(r$ihh1/r$ihh0)\n",
    "plot(r$physicalPos,r$iHS,ylab=\"iHs\");\n",
    "abline(v=causalSNP,col=\"red\")\n",
    "\n",
    "## causal SNP test statistics vs. rest of region\n",
    "(causalSite<-r[which(r$physicalPos==causalSNP),])\n",
    "hist(r$iHS)\n",
    "abline(v=causalSite$iHS,col=\"red\")\n"
   ]
  },
  {
   "cell_type": "markdown",
   "id": "38dc5f8b",
   "metadata": {
    "kernel": "SoS"
   },
   "source": [
    "## Cross-population EHH (XP-EHH)\n",
    "\n",
    "Lets try to use West Africans (YRI) to normalise the iHS with XP-EHH:"
   ]
  },
  {
   "cell_type": "code",
   "execution_count": null,
   "id": "807850c6",
   "metadata": {
    "kernel": "Bash"
   },
   "outputs": [],
   "source": [
    "#$SS/selscan --xpehh --vcf $ceuVCF --pmap --vcf-ref $yriVCF --out ceuLCT --threads 8"
   ]
  },
  {
   "cell_type": "markdown",
   "id": "b43f95aa",
   "metadata": {
    "kernel": "SoS"
   },
   "source": [
    "This may take up to 10 minutes so feel free to copy the results instead:"
   ]
  },
  {
   "cell_type": "code",
   "execution_count": null,
   "id": "aab3b161",
   "metadata": {
    "kernel": "Bash"
   },
   "outputs": [],
   "source": [
    "ln -s $ThePath/run/ceuLCT.xpehh* ."
   ]
  },
  {
   "cell_type": "markdown",
   "id": "686c6f57",
   "metadata": {
    "kernel": "SoS"
   },
   "source": [
    "We also have to normalize these results:"
   ]
  },
  {
   "cell_type": "code",
   "execution_count": null,
   "id": "de8b6a40",
   "metadata": {
    "kernel": "Bash"
   },
   "outputs": [],
   "source": [
    "$SS/norm --xpehh --files ceuLCT.xpehh.out"
   ]
  },
  {
   "cell_type": "markdown",
   "id": "31a893ea",
   "metadata": {
    "kernel": "SoS"
   },
   "source": [
    "And once more, you can plot the results in `R`:"
   ]
  },
  {
   "cell_type": "code",
   "execution_count": null,
   "id": "14c3bb2e",
   "metadata": {
    "kernel": "R"
   },
   "outputs": [],
   "source": [
    "r<-read.table(\"ceuLCT.xpehh.out.norm\",head=T,as.is=T,row.names=NULL)\n",
    "causalSNP <- 136608646\n",
    "(causalSite<-r[which(r$pos==causalSNP),])                 \n",
    "plot(r$pos,r$normxpehh)\n",
    "abline(v=causalSNP,col=\"red\")\n",
    "\n",
    "#print the site with maximum statistic \n",
    "r[which.max(r$normxpehh),]\n",
    "\n",
    "#plot the distribution\n",
    "hist(r$normxpehh)\n",
    "abline(v=causalSite$normxpehh,col=\"red\")\n",
    "\n",
    "#get the quantile\n",
    "mean(causalSite$normxpehh>r$normxpehh)"
   ]
  },
  {
   "cell_type": "markdown",
   "id": "8db6b679",
   "metadata": {
    "kernel": "SoS"
   },
   "source": [
    "**- Are you more convinced that the site is under selection?**"
   ]
  }
 ],
 "metadata": {
  "kernelspec": {
   "display_name": "SoS",
   "language": "sos",
   "name": "sos"
  },
  "language_info": {
   "codemirror_mode": "sos",
   "file_extension": ".sos",
   "mimetype": "text/x-sos",
   "name": "sos",
   "nbconvert_exporter": "sos_notebook.converter.SoS_Exporter",
   "pygments_lexer": "sos"
  },
  "sos": {
   "kernels": [
    [
     "Bash",
     "bash",
     "bash",
     "",
     ""
    ],
    [
     "R",
     "ir",
     "R",
     "",
     ""
    ]
   ],
   "panel": {
    "displayed": true,
    "height": 0
   },
   "version": "0.24.1"
  }
 },
 "nbformat": 4,
 "nbformat_minor": 5
}
