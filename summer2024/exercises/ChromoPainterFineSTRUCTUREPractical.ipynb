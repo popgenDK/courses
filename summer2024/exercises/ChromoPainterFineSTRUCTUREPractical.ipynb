{
 "cells": [
  {
   "cell_type": "markdown",
   "id": "070e8e5c",
   "metadata": {
    "kernel": "SoS"
   },
   "source": [
    "# Population genetics summer course, Denmark\n",
    "# Clustering individuals and inferring ancestry with ChromoPainter and fineSTRUCTURE\n",
    "\n",
    "For this practical, we will be applying the statistical software ChromoPainter and\n",
    "fineSTRUCTURE to cluster (real and simulated) individuals based on genetic similarity.\n",
    "We will also be using the programs GLOBETROTTER and SOURCEFIND to infer individuals’\n",
    "ancestry using ChromoPainter output. We will be using a dataset explored in Hellenthal\n",
    "et al 2014, which is freely available and consists of data from the Human Genome Diver-\n",
    "sity Panel (http://www.cephb.fr/hgdp/) and other resources. The SNPs were ascertained\n",
    "using Illumina chip technology. For this practical, we will work only with chromosome\n",
    "22, which has 6,812 SNPs.\n",
    "\n",
    "For this practical, we will further only use the following populations:\n",
    "\n",
    "| Population | Country | Region | number of individuals |\n",
    "|:--- |:--- |:--- |:---:|\n",
    "| Balochi | Pakistan | Central South Asia | 21 |\n",
    "| BantuKenya | Kenya | Africa | 11 |\n",
    "| BantuSouthAfrica | South Africa | Africa | 8 |\n",
    "| Burusho | Pakistan | Central South Asia | 25 |\n",
    "| English | Britain | Europe | 6 |\n",
    "| HanNchina | China | East Asia | 10 |\n",
    "| Kalash | Pakistan | Central South Asia | 23 |\n",
    "| Makrani | Pakistan | Central South Asia | 22 |\n",
    "| Mandenka | Senegal | Africa | 22 |\n",
    "| MbutiPygmy | Congo | Africa | 13 |\n",
    "| Mongola | Mongolia | East Asia | 10 |\n",
    "| NorthItalian | Italy | Europe | 12 |\n",
    "| Orcadian | Britain | Europe | 15 |\n",
    "| Pathan | Pakistan | Central South Asia | 22 |\n",
    "| Sardinian | Italy | Europe | 28 |\n",
    "| Tuscan | Italy | Europe | 8 |\n",
    "|  |  |  |  |\n",
    "| Total |  |  | 256 |\n",
    "\n",
    "I’ve also added to these a simulated “population” consisting of 20 individuals simulated\n",
    "as descendents of an admixture event occurring 30 generations ago, where 80% of the DNA\n",
    "was contributed from present-day Brahui individuals (from Pakistan, Central South Asia)\n",
    "and the remaining 20% from present-day Yoruba individuals (from Nigeria, Africa). This\n",
    "simulation is from Hellenthal et al 2014 (see Figure 1) and is the example file included with\n",
    "ChromoPainter. The populations in the above table will be used as potential ancestry\n",
    "“surrogates” to detect and describe this admixture event.\n"
   ]
  },
  {
   "cell_type": "markdown",
   "id": "ab2e5bf0",
   "metadata": {
    "kernel": "SoS"
   },
   "source": [
    "## 1 Clustering individuals: CHROMOPAINTER and fineSTRUCTURE\n",
    "\n",
    "First we will apply **ChromoPainter** and **fineSTRUCTURE** to cluster individuals. For simplicity, we will only cluster based on chromosome 22 data.\n",
    "\n",
    "Unarchive the file for practice `FineStructurePractical.tar.gz`. Then navigate to the folder `FineStructureFiles/`."
   ]
  },
  {
   "cell_type": "code",
   "execution_count": null,
   "id": "f7be344f",
   "metadata": {
    "kernel": "Bash"
   },
   "outputs": [],
   "source": [
    "tar -xzvf FineStructurePractical.tar.gz\n",
    "cd FineStructureFiles"
   ]
  },
  {
   "cell_type": "markdown",
   "id": "52424fd0",
   "metadata": {
    "kernel": "Bash"
   },
   "source": [
    "Extract `ChromoPainterv2` and `fineSTRUCTURE`:"
   ]
  },
  {
   "cell_type": "code",
   "execution_count": null,
   "id": "bdf905e3",
   "metadata": {
    "kernel": "Bash",
    "scrolled": true
   },
   "outputs": [],
   "source": [
    "tar -xzvf ChromoPainterv2.tar.gz\n",
    "unzip fs_4.0.0.zip"
   ]
  },
  {
   "cell_type": "markdown",
   "id": "9f95d042",
   "metadata": {
    "kernel": "Bash"
   },
   "source": [
    "We will use the pre-compiled binary `fs_linux_glibc2.3` in the directory `fs_4.0.0/`.\n",
    "\n",
    "Compile ChromoPainterv2 with:"
   ]
  },
  {
   "cell_type": "code",
   "execution_count": null,
   "id": "4bfe52fa",
   "metadata": {
    "kernel": "Bash",
    "scrolled": true
   },
   "outputs": [],
   "source": [
    "gcc -o ChromoPainterv2 ChromoPainterv2.c -lm -lz"
   ]
  },
  {
   "cell_type": "markdown",
   "id": "8eadec40",
   "metadata": {
    "kernel": "Bash"
   },
   "source": [
    "We aim to cluster all individuals in the above table. To do so, we first use `ChromoPainter`\n",
    "to paint each individual from these populations against the others:"
   ]
  },
  {
   "cell_type": "code",
   "execution_count": null,
   "id": "495f85cc",
   "metadata": {
    "kernel": "Bash"
   },
   "outputs": [],
   "source": [
    "### Please delete all the leading \"#\" sign at each of following #lines if you really want to run \n",
    "### the command (it takes 10 min)\n",
    "\n",
    "#./ChromoPainterv2 -g example/BrahuiYorubaSimulationChrom22.haplotypes \\\n",
    "#    -r example/BrahuiYorubaSimulationChrom22.recomrates \\\n",
    "#    -t example/BrahuiYorubaSimulation.idfile.txt \\\n",
    "#    -f BrahuiYorubaSimulationSurrogatesOnly.poplist.txt 0 0 \\\n",
    "#    -o example/BrahuiYorubaSimulationSurrogatesPaintingChrom22 \\\n",
    "#    -a 0 0 -s 0"
   ]
  },
  {
   "cell_type": "markdown",
   "id": "9fe0f748",
   "metadata": {
    "kernel": "Bash"
   },
   "source": [
    "(As mentioned in the lecture, note that you could initially do E-M steps to infer the\n",
    "“switch” (-n) and “mutation” (-M) parameters, but we will instead use default values. In\n",
    "most applications, skipping this E-M step will not make much or any difference, but it is\n",
    "good practice!).\n",
    "\n",
    "**A problem** – it may be too slow for this practical, as it takes **≈10min**. Therefore I have\n",
    "already done this painting for you in `data/BrahuiYorubaSimulationSurrogatesPaintingChrom22*`"
   ]
  },
  {
   "cell_type": "code",
   "execution_count": null,
   "id": "a9a2c09d",
   "metadata": {
    "kernel": "Bash"
   },
   "outputs": [],
   "source": [
    "ls data/BrahuiYorubaSimulationSurrogatesPaintingChrom22*"
   ]
  },
  {
   "cell_type": "markdown",
   "id": "9ec01449",
   "metadata": {
    "kernel": "Bash"
   },
   "source": [
    "Next we will run fineSTRUCTURE to cluster individuals based on the\n",
    "`data/BrahuiYorubaSimulationSurrogatesPaintingChrom22.chunkcounts.txt` output\n",
    "file. This file gives the total number of haplotype segments (“chunks”) that each recipi-\n",
    "ent individual copies from each donor individual. To do so, we first need to calculate a\n",
    "nuisance parameter “c”, using:"
   ]
  },
  {
   "cell_type": "code",
   "execution_count": null,
   "id": "39f07a57",
   "metadata": {
    "kernel": "Bash"
   },
   "outputs": [],
   "source": [
    "Rscript calcC_Continents.R data/BrahuiYorubaSimulationSurrogatesPaintingChrom22"
   ]
  },
  {
   "cell_type": "markdown",
   "id": "78c51a13",
   "metadata": {
    "kernel": "Bash"
   },
   "source": [
    "The value printed to screen is 0.173108247367689. We use this value when running\n",
    "`finestructure`"
   ]
  },
  {
   "cell_type": "code",
   "execution_count": null,
   "id": "f751d4bb",
   "metadata": {
    "kernel": "Bash"
   },
   "outputs": [],
   "source": [
    "fs_4.0.0/fs_linux_glibc2.3 finestructure -I 1 -c 0.173108247367689 \\\n",
    "    -x 10000 -y 20000 -z 100 \\\n",
    "    data/BrahuiYorubaSimulationSurrogatesPaintingChrom22.chunkcounts.out \\\n",
    "    BrahuiYorubaSimulationSurrogatesPaintingChrom22.finestructure.out"
   ]
  },
  {
   "cell_type": "markdown",
   "id": "f0fa0942",
   "metadata": {
    "kernel": "Bash"
   },
   "source": [
    "(Note that in real applications, you should probably have each of ‘‘-x’’, ‘‘-y’’,\n",
    "‘‘-z’’ a factor of 100 higher.)\n",
    "\n",
    "To generate a tree using this output, type:"
   ]
  },
  {
   "cell_type": "code",
   "execution_count": null,
   "id": "7fda2468",
   "metadata": {
    "kernel": "Bash"
   },
   "outputs": [],
   "source": [
    "fs_4.0.0/fs_linux_glibc2.3 finestructure -c 0.173108247367689 -x 10000 -k 2 -m T -t 1000000 \\\n",
    "    data/BrahuiYorubaSimulationSurrogatesPaintingChrom22.chunkcounts.out \\\n",
    "    BrahuiYorubaSimulationSurrogatesPaintingChrom22.finestructure.out \\\n",
    "    BrahuiYorubaSimulationSurrogatesPaintingChrom22.finestructureTREE.out"
   ]
  },
  {
   "cell_type": "markdown",
   "id": "2bc2345b",
   "metadata": {
    "kernel": "Bash"
   },
   "source": [
    "(Note that in real applications you should probably have ‘‘`-x`’’ a factor of 10 higher.)\n",
    "\n",
    "We will also make a “coincidence matrix” that gives the proportion of MCMC samples\n",
    "for which each pair of individuals is clustered together:"
   ]
  },
  {
   "cell_type": "code",
   "execution_count": null,
   "id": "ebf23c93",
   "metadata": {
    "kernel": "Bash"
   },
   "outputs": [],
   "source": [
    "fs_4.0.0/fs_linux_glibc2.3 finestructure -c 0.173108247367689 -e meancoincidence \\\n",
    "    data/BrahuiYorubaSimulationSurrogatesPaintingChrom22.chunkcounts.out \\\n",
    "    BrahuiYorubaSimulationSurrogatesPaintingChrom22.finestructure.out \\\n",
    "    BrahuiYorubaSimulationSurrogatesPaintingChrom22.finestructureCOINCIDENCE.out"
   ]
  },
  {
   "cell_type": "markdown",
   "id": "d5e4d28d",
   "metadata": {
    "kernel": "Bash"
   },
   "source": [
    "A good way to assess whether you have done enough MCMC samples is to run **fineSTRUCTURE** again, using a different seed (e.g. with “`-s 2`”):"
   ]
  },
  {
   "cell_type": "code",
   "execution_count": null,
   "id": "1896922c",
   "metadata": {
    "kernel": "Bash"
   },
   "outputs": [],
   "source": [
    "fs_4.0.0/fs_linux_glibc2.3 finestructure -s 2 -I 1 -c 0.173108247367689 \\\n",
    "    -x 10000 -y 20000 -z 100 \\\n",
    "    data/BrahuiYorubaSimulationSurrogatesPaintingChrom22.chunkcounts.out \\\n",
    "    BrahuiYorubaSimulationSurrogatesPaintingChrom22.finestructureSEED2.out \\\n",
    "\n",
    "fs_4.0.0/fs_linux_glibc2.3 finestructure -c 0.173108247367689 -x 10000 -k 2 -m T -t 1000000 \\\n",
    "    data/BrahuiYorubaSimulationSurrogatesPaintingChrom22.chunkcounts.out \\\n",
    "    BrahuiYorubaSimulationSurrogatesPaintingChrom22.finestructureSEED2.out \\\n",
    "    BrahuiYorubaSimulationSurrogatesPaintingChrom22.finestructureSEED2TREE.out \\\n",
    "\n",
    "fs_4.0.0/fs_linux_glibc2.3 finestructure -c 0.173108247367689 -e meancoincidence \\\n",
    "    data/BrahuiYorubaSimulationSurrogatesPaintingChrom22.chunkcounts.out \\\n",
    "    BrahuiYorubaSimulationSurrogatesPaintingChrom22.finestructureSEED2.out \\\n",
    "    BrahuiYorubaSimulationSurrogatesPaintingChrom22.finestructureSEED2COINCIDENCE.out"
   ]
  },
  {
   "cell_type": "markdown",
   "id": "a8623221",
   "metadata": {
    "kernel": "Bash"
   },
   "source": [
    "Finally we will plot some results using R scripts I have provided. Use `CHROMOPAINTERHeatMapPlot.R`\n",
    "to plot a heatmap of the `CHROMOPAINTER_chunkcounts.out` output, with individuals\n",
    "clustered according to the results of the initial **fineSTRUCTURE** run:"
   ]
  },
  {
   "cell_type": "code",
   "execution_count": null,
   "id": "861c42e3",
   "metadata": {
    "kernel": "Bash"
   },
   "outputs": [],
   "source": [
    "R CMD BATCH CHROMOPAINTERHeatMapPlot.R"
   ]
  },
  {
   "cell_type": "markdown",
   "id": "4c26ff23",
   "metadata": {
    "kernel": "Bash"
   },
   "source": [
    "This will make a new file called\n",
    "`BrahuiYorubaSimulationSurrogatesPaintingChrom22HEATMAPWithTree.pdf`, which contains a heatmap giving the total number of “chunks” (haplotype segments) that each recipient individual (column) copies from each donor individual (row). The tick marks along each axis color individuals based on their population labels (see legend at bottom)\n",
    "\n",
    "Use `FineStructureCoincidenceMatrixVisualize2Seeds.R` to plot the coincidence ma-\n",
    "trix for both fineSTRUCTURE runs:"
   ]
  },
  {
   "cell_type": "code",
   "execution_count": null,
   "id": "6bebc859",
   "metadata": {
    "kernel": "Bash"
   },
   "outputs": [],
   "source": [
    "R CMD BATCH FineStructureCoincidenceMatrixVisualize2Seeds.R"
   ]
  },
  {
   "cell_type": "markdown",
   "id": "975d500f",
   "metadata": {
    "kernel": "Bash"
   },
   "source": [
    "This will make a new file called\n",
    "`BrahuiYorubaSimulationSurrogatesPaintingChrom22FSCoincidencePlot.pdf`, which\n",
    "contains a heatmap giving the proportion of MCMC samples that each individual (rows)\n",
    "is clustered with every other individual (columns). The top left and bottom right triangles give these proportions for the first and second finestructure runs, respectively.\n",
    "Individuals are ordered along the axes according to the inferred finestructure tree from\n",
    "the first run, i.e. ordered as in the CHROMOPAINTER heatmap."
   ]
  },
  {
   "cell_type": "markdown",
   "id": "ddd064da",
   "metadata": {
    "kernel": "Bash"
   },
   "source": [
    "Use these plots to answer the following questions:\n",
    "\n",
    "1. Which groups are copied (painted from) least by the other groups?\n",
    "2. Which groups copy the most from each other?\n",
    "3. Do the inferred clusters seem sensible?\n",
    "4. Does the inferred tree seem sensible?\n",
    "5. How consistent do results from the two runs appear to be?"
   ]
  },
  {
   "cell_type": "markdown",
   "id": "0e612da8",
   "metadata": {
    "kernel": "Bash"
   },
   "source": [
    "## 2 Inferring ancestry: GLOBETROTTER and SOURCEFIND\n",
    "\n",
    "Next we will use **GLOBETROTTER** and **SOURCEFIND** to infer ancestry proportions for the\n",
    "simulated population. This will make use of the painting of the ancestry surrogate populations that we did in the previous section.\n",
    "\n",
    "We first need to paint the simulated target individuals against these surrogate populations:"
   ]
  },
  {
   "cell_type": "code",
   "execution_count": null,
   "id": "da0c3b61",
   "metadata": {
    "kernel": "Bash",
    "scrolled": true
   },
   "outputs": [],
   "source": [
    "./ChromoPainterv2 -g example/BrahuiYorubaSimulationChrom22.haplotypes \\\n",
    "    -r example/BrahuiYorubaSimulationChrom22.recomrates \\\n",
    "    -t example/BrahuiYorubaSimulation.idfile.txt \\\n",
    "    -f BrahuiYorubaSimulation.poplistReduced.txt 0 0 \\\n",
    "    -o example/BrahuiYorubaSimulationAdmixtureChrom22 -s 10"
   ]
  },
  {
   "cell_type": "markdown",
   "id": "630878b3",
   "metadata": {
    "kernel": "Bash"
   },
   "source": [
    "The output file of interest here is\n",
    "`example/BrahuiYorubaSimulationAdmixtureChrom22.chunklengths.out`, which gives\n",
    "the total (cM) amount of DNA across chromosome 22 that a target individual copies from\n",
    "each donor poplation. We will combine this painting with that of the surrogates, using a\n",
    "script I made:"
   ]
  },
  {
   "cell_type": "code",
   "execution_count": null,
   "id": "944abd2f",
   "metadata": {
    "kernel": "Bash"
   },
   "outputs": [],
   "source": [
    "R CMD BATCH CHROMOPAINTERSurrogateTargetPaintingsCombine.R"
   ]
  },
  {
   "cell_type": "markdown",
   "id": "81d47d73",
   "metadata": {
    "kernel": "Bash"
   },
   "source": [
    "Next unarchive `GLOBETROTTER.tar.gz`:"
   ]
  },
  {
   "cell_type": "code",
   "execution_count": null,
   "id": "350a1174",
   "metadata": {
    "kernel": "Bash"
   },
   "outputs": [],
   "source": [
    "tar -xzvf GLOBETROTTER.tar.gz"
   ]
  },
  {
   "cell_type": "markdown",
   "id": "7958b42d",
   "metadata": {
    "kernel": "Bash"
   },
   "source": [
    "and compile with:"
   ]
  },
  {
   "cell_type": "code",
   "execution_count": null,
   "id": "60b70b73",
   "metadata": {
    "kernel": "Bash"
   },
   "outputs": [],
   "source": [
    "R CMD SHLIB -o GLOBETROTTERCompanion.so GLOBETROTTERCompanion.c -lz"
   ]
  },
  {
   "cell_type": "markdown",
   "id": "398dcfd9",
   "metadata": {
    "kernel": "Bash"
   },
   "source": [
    "Run `GLOBETROTTER` using `BrahuiYorubaSimulationAdmixture.paramfileNNLS.txt`, which\n",
    "specifies (using `num.mixing.iterations:0`) that we only want to run the NNLS model\n",
    "in `GLOBETROTTER` to infer ancestry proportions in the simulated population, and not infer\n",
    "or date admixture:"
   ]
  },
  {
   "cell_type": "code",
   "execution_count": null,
   "id": "d68906bb",
   "metadata": {
    "kernel": "Bash"
   },
   "outputs": [],
   "source": [
    "R < GLOBETROTTER.R BrahuiYorubaSimulationAdmixture.paramfileNNLS.txt --no-save > output.out"
   ]
  },
  {
   "cell_type": "markdown",
   "id": "8d14ec86",
   "metadata": {
    "kernel": "Bash"
   },
   "source": [
    "This will make the output file `example/BrahuiYorubaSimulationAdmixed.GTnnls.main.txt`,\n",
    "which contains the inferred ancestry proportions under the NNLS model.\n",
    "\n",
    "Now run `SOURCEFIND` using `BrahuiYorubaSimulationAdmixture.SourcefindParamfile.txt`:"
   ]
  },
  {
   "cell_type": "code",
   "execution_count": null,
   "id": "2fda671d",
   "metadata": {
    "kernel": "Bash"
   },
   "outputs": [],
   "source": [
    "tar -xzvf SOURCEFINDv2.tar.gz\n",
    "\n",
    "R < sourcefindv2.R BrahuiYorubaSimulationAdmixture.SourcefindParamfile.txt --no-save >output.out"
   ]
  },
  {
   "cell_type": "markdown",
   "id": "796192a1",
   "metadata": {
    "kernel": "Bash"
   },
   "source": [
    "This will make the output file `BrahuiYorubaSimulation.sourcefind.txt`, which contains the inferred ancestry proportions under `SOURCEFIND`."
   ]
  },
  {
   "cell_type": "markdown",
   "id": "b9795bba",
   "metadata": {
    "kernel": "Bash"
   },
   "source": [
    "Answer the following questions.\n",
    "\n",
    "1. How well does the GLOBETROTTER NNLS soluation capture the ancestry of the simulated population?\n",
    "\n",
    "2. Find the SOURCEFIND MCMC sample with the highest posterior probability. What does this show? How does its inference compare to that of the other MCMC samples (or the mean across samples)?"
   ]
  }
 ],
 "metadata": {
  "kernelspec": {
   "display_name": "SoS",
   "language": "sos",
   "name": "sos"
  },
  "language_info": {
   "codemirror_mode": "sos",
   "file_extension": ".sos",
   "mimetype": "text/x-sos",
   "name": "sos",
   "nbconvert_exporter": "sos_notebook.converter.SoS_Exporter",
   "pygments_lexer": "sos"
  },
  "sos": {
   "kernels": [
    [
     "Bash",
     "bash",
     "bash",
     "",
     ""
    ]
   ],
   "panel": {
    "displayed": false,
    "height": 0
   },
   "version": "0.24.1"
  }
 },
 "nbformat": 4,
 "nbformat_minor": 5
}
