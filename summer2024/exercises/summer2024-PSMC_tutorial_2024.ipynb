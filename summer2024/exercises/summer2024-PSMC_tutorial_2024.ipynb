{
 "cells": [
  {
   "cell_type": "markdown",
   "metadata": {},
   "source": [
    "# 1. Resources and set up\n",
    "- [`PSMC`](https://github.com/lh3/psmc)\n",
    "- [`VCF file format`](https://samtools.github.io/hts-specs/VCFv4.2.pdf)\n",
    "- [`vcftools`](https://vcftools.github.io/index.html)\n",
    "- [`1000 genomes high coverage variant calls`](https://www.internationalgenome.org/data-portal/sample)\n",
    "\n",
    "\n",
    "You will need to start the exercises by copying the data and tutorial into your own directory.\n",
    "\n",
    "```bash\n",
    "cp -r /course/popgen24/shyam/psmc_tutorial .\n",
    "```\n",
    "\n",
    "For convenience's sake, this tutorial is presented as a python notebook. Almost all of the commands in this tutorial are run in bash."
   ]
  },
  {
   "cell_type": "markdown",
   "metadata": {},
   "source": [
    "We will use the `psmc` tool to estimate the effective population size for our data. But instead of directly using bam files, we will use a variant calling format (vcf) file as the starting point. In this tutorial, we will first take a look at a vcf file, then look at how a vcf file is converted to an input for `psmc` using a custom python script. And finally, run psmc on simulated and real data to see how well we can estimate effective population size $N_e$. Note that, unlike many of the previous tools you used in this course, `psmc` relies on high coverage data where we can estimate genotypes accurately, which is one of the reasons we are working in our exercises with vcf files. "
   ]
  },
  {
   "cell_type": "markdown",
   "metadata": {},
   "source": [
    "# 2. Data\n",
    "In this tutorial, we will use 2 sets of data. First, we will use the samples from 3 simulated populations, one with constant population size, one with populatoin growth, and the last one with population decline (see figure later in the tutorial). In the second half of the exercises, we will use data from the 1000 genomes project, namely 2 individuals, NA12718 - a CEU female sample (Northern European ancestry), and NA19471 - a female Luhya sample from Kenya, to compare and contrast how the effective population sizes vary between these two populations. Finally, if you want to play with some data on your own, then we can use the data from wildebeest to recreate their population history. "
   ]
  },
  {
   "cell_type": "markdown",
   "metadata": {},
   "source": [
    "Before we begin, let us take a look at the vcf file format using the simulated data with three individuals, one from each simulated population. Note that all the vcf files are zipped, so we will use `zcat` to display them."
   ]
  },
  {
   "cell_type": "code",
   "execution_count": 1,
   "metadata": {},
   "outputs": [
    {
     "name": "stdout",
     "output_type": "stream",
     "text": [
      "##fileformat=VCFv4.2\r\n",
      "##source=tskit 0.5.2\r\n",
      "##FILTER=<ID=PASS,Description=\"All filters passed\">\r\n",
      "##contig=<ID=chr42,length=100000000>\r\n",
      "##FORMAT=<ID=GT,Number=1,Type=String,Description=\"Genotype\">\r\n",
      "#CHROM\tPOS\tID\tREF\tALT\tQUAL\tFILTER\tINFO\tFORMAT\ts1_1\ts2_1\ts3_1\r\n",
      "chr42\t84\t0\tA\tT\t.\tPASS\t.\tGT\t0|0\t0|0\t0|0\r\n",
      "chr42\t147\t1\tT\tG\t.\tPASS\t.\tGT\t0|0\t0|0\t0|0\r\n",
      "chr42\t334\t2\tG\tA\t.\tPASS\t.\tGT\t0|0\t0|0\t0|0\r\n",
      "chr42\t406\t3\tC\tA\t.\tPASS\t.\tGT\t0|0\t0|0\t0|0\r\n",
      "\r\n",
      "gzip: stdout: Broken pipe\r\n"
     ]
    }
   ],
   "source": [
    "!zcat data/threeinds.recode.vcf.gz | head -10"
   ]
  },
  {
   "cell_type": "markdown",
   "metadata": {},
   "source": [
    "All the lines starting with `##` are information header lines which describe the VCF file. The line beginning with `#CHROM` is the header line describing the contents of the subsequent data lines. Each data line contains information on a single variant. As you can also see, each individual s1_1, s2_1 and s3_1 has a column with the genotype for that individual at each variant. Here \"0|0\" is homozygous for the reference (REF) allele, \"0|1\" is heterozygous, and \"1|1\" is homozygous for the alternate (ALT) allele."
   ]
  },
  {
   "cell_type": "markdown",
   "metadata": {},
   "source": [
    "We will use the vcf files to generate input files for our `psmc` analysis. Note that this is __NOT__ the prefered method to generate input files for `psmc`. The prefered method is to generate the input files directly from bam files, and that information can be found [here](https://github.com/lh3/psmc). \n",
    "\n",
    "__Question:__ Why do you think vcf files are not the preferred format? What information do you think is missing?"
   ]
  },
  {
   "cell_type": "markdown",
   "metadata": {},
   "source": [
    "# 3. Working with simulated data\n",
    "\n",
    "In this first exercise, we will look at simulated data from demography that looks like this ![population sizes](images/popsize.png).\n",
    "\n",
    "We will try and reconstruct the population sizes using `psmc` to see if we can faithfully reconstruct the population sizes. First, let us construct a psmcfa file - an input fasta file for psmc from the vcf files. \n",
    "\n",
    "## psmcfa file\n",
    "\n",
    "A psmcfa file is a fasta representation of the genome (or part of a genome), where each entry (letter) represents if there exists a heterozygous variant in a fixed size window. Let us try and understand this by converting our vcf file to a psmcfa file. We will use the custom script `vcf2psmcfa.py` to do this. Note that this script expects that the vcf file contains only 1 \"chromosome\", which is not the case for a general vcf file. The script takes 2 input parameters - the vcf file name and the name of the sample. The output file name is derived from the name of the sample. It also uses a fixed window size of 100 bp. "
   ]
  },
  {
   "cell_type": "code",
   "execution_count": 2,
   "metadata": {},
   "outputs": [],
   "source": [
    "!scripts/vcf2psmcfa.py data/threeinds.recode.vcf.gz s1_1\n",
    "!scripts/vcf2psmcfa.py data/threeinds.recode.vcf.gz s2_1\n",
    "!scripts/vcf2psmcfa.py data/threeinds.recode.vcf.gz s3_1"
   ]
  },
  {
   "cell_type": "markdown",
   "metadata": {},
   "source": [
    "Let us take a quick look at one of the psmcfa files. "
   ]
  },
  {
   "cell_type": "code",
   "execution_count": 3,
   "metadata": {},
   "outputs": [
    {
     "name": "stdout",
     "output_type": "stream",
     "text": [
      ">chr1\r\n",
      "TTTTTTTTTTTTTTTTTTTTTTTTTTTTTTTTKTTTTTTTTTTTTKTTTTTKKTTTTTTT\r\n",
      "TTTTTTTTTTTTTTTTTTTTTTTTTTTTTTTTTTTTTTTTKTTTKTTTTTTTTTTTTTTT\r\n",
      "TTTTTTTTTTTTTTTTTTTTTTTTTTTTTTTKTTKTTTTTTTTTTTTTTTTTTTTTTTTT\r\n",
      "TTTTTTTTTTTTTTKTTTTTTTTTTTTTTTTTTTTTTTTTKTTTTTTTTTTTTTTTTTTT\r\n",
      "TTTTTTTTTTTTTTTTTTKTTTTTTTTTKTTTTTTTTTTTTTTTTTTTTTTTTTTTTTTT\r\n",
      "TTTTTTTTTTTTTTTTTTTTTTKTTTTTTTTTTTTTTTTTTTTTTTKTTTTTTTTTTTTT\r\n",
      "TTTTTTTTTTTTTTTTTTTTTTTTTTTTTTTTTTTTTTTTTTTTTTTTTTTKTTTTTTTT\r\n",
      "TTTTTTTTTTTTTTTTTTTTTTTTTTTTTTTKTTTTTTTTTTTTTTTTTTTTTTTTTTTT\r\n",
      "TTTTTTTTTTTTTTTTTTTTTTTTTTTTTTTTTTTTKTTTKTTKTTTTTTTTTTTTTTTT\r\n"
     ]
    }
   ],
   "source": [
    "!head s2_1.psmcfa"
   ]
  },
  {
   "cell_type": "markdown",
   "metadata": {},
   "source": [
    "It appears to be a regular fasta file, with only \"T\" and \"K\". Here a \"T\" represents a 100 bp window without any heterozygous sites in it, whereas a \"K\" represents a 100 bp window with at least 1 heterozygous site in it. \n",
    "\n",
    "__Question:__ Given the population histories, which of the three samples would you expect to have the highest number of heterozygous windows?"
   ]
  },
  {
   "cell_type": "markdown",
   "metadata": {},
   "source": [
    "## Running psmc\n",
    "\n",
    "Now it is time for us to run our first `psmc` analysis. Let us first look at the options for running psmc. "
   ]
  },
  {
   "cell_type": "code",
   "execution_count": 4,
   "metadata": {},
   "outputs": [
    {
     "name": "stdout",
     "output_type": "stream",
     "text": [
      "\r\n",
      "Program: psmc (Pairwise SMC Model)\r\n",
      "Version: 0.6.5-r67\r\n",
      "Contact: <http://hengli.uservoice.com/>\r\n",
      "\r\n",
      "Usage:   psmc [options] input.txt\r\n",
      "\r\n",
      "Options: -p STR      pattern of parameters [4+5*3+4]\r\n",
      "         -t FLOAT    maximum 2N0 coalescent time [15]\r\n",
      "         -N INT      maximum number of iterations [30]\r\n",
      "         -r FLOAT    initial theta/rho ratio [4]\r\n",
      "         -c FILE     CpG counts generated by cntcpg [null]\r\n",
      "         -o FILE     output file [stdout]\r\n",
      "         -i FILE     input parameter file [null]\r\n",
      "         -T FLOAT    initial divergence time; -1 to disable [-1]\r\n",
      "         -b          bootstrap (input be preprocessed with split_psmcfa)\r\n",
      "         -S          simulate sequence\r\n",
      "         -d          perform decoding\r\n",
      "         -D          print full posterior probabilities\r\n",
      "\r\n"
     ]
    }
   ],
   "source": [
    "!psmc/psmc"
   ]
  },
  {
   "cell_type": "markdown",
   "metadata": {},
   "source": [
    "In particular, note the `-p` option, which allows us to specify a pattern of parameters. As we discussed in the lecture before, we divide up time into discrete bins. This pattern allows us to estimate the same parameter for multiple consecutive time bins. For example - the default pattern 4+5\\*3+4 splits time up into 23 bins (4+15+4), where only 1 parameter is estimated for the first 4 bins, then 1 parameter is estimmated for the next 5 triples of bins, and 1 parameter for the last 4 bins. So the total number of paramters we are estimating is 7 (1+5+1). Note this also in the plots for the effective population size, when we plot them. \n",
    "\n",
    "Let us now run psmc for the first time - we will just use the default values for the options, while still explicitly specifying the parameter pattern. This pattern is quite coarse, but we will try and estimate it again with finer time bins in the next section.  \n",
    "\n",
    "__Question:__ Can you think of a reason why the most recent and oldest time bins are quite often merged to get only 1 parameter?\n",
    "\n",
    "__Task (bonus)__: A recent [article](https://www.biorxiv.org/content/10.1101/2024.06.17.599025v1) investigated the effects of the time partitioning parameters on the signal of recent expansion seen in many PSMC analyses. Try and see if using differe parameters will help - keep the same number of total time slices, but change the partitioning, and subsequently change the number of time slices as well. Some examples could be - \"2+10\\*2+1\", \"6+11\\*1+6\", \"4+20\\*2+6\", \"2+30\\*1+2\". Try these parameters and see how the output changes - also look at the convergence, and output log file."
   ]
  },
  {
   "cell_type": "code",
   "execution_count": 5,
   "metadata": {},
   "outputs": [],
   "source": [
    "!psmc/psmc -p \"4+5*3+4\" -o s1_1_coarsePattern.psmc s1_1.psmcfa\n",
    "!psmc/psmc -p \"4+5*3+4\" -o s2_1_coarsePattern.psmc s2_1.psmcfa\n",
    "!psmc/psmc -p \"4+5*3+4\" -o s3_1_coarsePattern.psmc s3_1.psmcfa"
   ]
  },
  {
   "cell_type": "markdown",
   "metadata": {},
   "source": [
    "Let us take a look at one of the output files, and discuss its contents. "
   ]
  },
  {
   "cell_type": "code",
   "execution_count": 6,
   "metadata": {},
   "outputs": [
    {
     "name": "stdout",
     "output_type": "stream",
     "text": [
      "//\r\n",
      "IT\t1327\r\n",
      "RD\t30\r\n",
      "LK\t-6015.274045\r\n",
      "QD\t-0.974007 -> -0.880735\r\n",
      "RI\t0.0014122029\r\n",
      "TR\t0.012531\t0.011684\r\n",
      "MT\t27.555660\r\n",
      "MM\tC_pi: 1.933349, n_recomb: 1204.525381\r\n",
      "RS\t0\t0.000000\t98287.905916\t0.000353\t0.000000\t0.000000\r\n",
      "RS\t1\t0.029119\t98287.905916\t0.000456\t0.000000\t0.000000\r\n",
      "RS\t2\t0.066717\t98287.905916\t0.000589\t0.000000\t0.000000\r\n",
      "RS\t3\t0.115264\t98287.905916\t0.000760\t0.000001\t0.000001\r\n",
      "RS\t4\t0.177946\t1.648980\t57.121265\t0.047422\t0.037435\r\n",
      "RS\t5\t0.258881\t1.648980\t69.764081\t0.057918\t0.055311\r\n",
      "RS\t6\t0.363384\t1.648980\t83.838296\t0.069603\t0.069975\r\n",
      "RS\t7\t0.498317\t1.694196\t96.171145\t0.079842\t0.079550\r\n",
      "RS\t8\t0.672541\t1.694196\t110.535319\t0.091767\t0.092333\r\n",
      "RS\t9\t0.897497\t1.694196\t122.825500\t0.101970\t0.104154\r\n",
      "RS\t10\t1.187958\t2.119479\t106.716113\t0.088596\t0.091275\r\n",
      "RS\t11\t1.562999\t2.119479\t112.883875\t0.093716\t0.095418\r\n",
      "RS\t12\t2.047248\t2.119479\t112.707953\t0.093570\t0.094600\r\n",
      "RS\t13\t2.672505\t1.582841\t131.761145\t0.109388\t0.110663\r\n",
      "RS\t14\t3.479831\t1.582841\t96.024355\t0.079720\t0.081149\r\n",
      "RS\t15\t4.522243\t1.582841\t59.396654\t0.049311\t0.050449\r\n",
      "RS\t16\t5.868194\t1.087639\t35.629259\t0.029580\t0.030027\r\n",
      "RS\t17\t7.606073\t1.087639\t7.971480\t0.006618\t0.006687\r\n",
      "RS\t18\t9.850005\t1.087639\t1.093555\t0.000908\t0.000906\r\n",
      "RS\t19\t12.747348\t0.917226\t0.081791\t0.000068\t0.000067\r\n",
      "RS\t20\t16.488368\t0.917226\t0.001430\t0.000001\t0.000001\r\n",
      "RS\t21\t21.318736\t0.917226\t0.000008\t0.000000\t0.000000\r\n",
      "RS\t22\t27.555660\t0.917226\t0.000000\t0.000000\t0.000000\r\n",
      "PA\t4+5*3+4 0.012530751 0.011684485 27.555660116 98287.905915714 1.648979767 1.694196240 2.119479172 1.582840933 1.087639271 0.917226444\r\n",
      "//\r\n"
     ]
    }
   ],
   "source": [
    "!tail -34 s1_1_coarsePattern.psmc"
   ]
  },
  {
   "cell_type": "markdown",
   "metadata": {},
   "source": [
    "Let us now cat the psmc outputs for all 3 samples, and plot them into a pdf. "
   ]
  },
  {
   "cell_type": "code",
   "execution_count": 7,
   "metadata": {},
   "outputs": [],
   "source": [
    "!cat s1_1_coarsePattern.psmc s2_1_coarsePattern.psmc s3_1_coarsePattern.psmc > combined_coarsePattern.psmc "
   ]
  },
  {
   "cell_type": "markdown",
   "metadata": {},
   "source": [
    "We will use the inbuilt plotting functions in psmc to plot them. "
   ]
  },
  {
   "cell_type": "code",
   "execution_count": 8,
   "metadata": {},
   "outputs": [
    {
     "name": "stdout",
     "output_type": "stream",
     "text": [
      "\r\n",
      "Usage:   psmc_plot.pl [options] <out.prefix> <in.psmc>\r\n",
      "\r\n",
      "Options: -u FLOAT   absolute mutation rate per nucleotide [2.5e-08]\r\n",
      "         -s INT     skip used in data preparation [100]\r\n",
      "         -X FLOAT   maximum generations, 0 for auto [0]\r\n",
      "         -x FLOAT   minimum generations, 0 for auto [10000]\r\n",
      "         -Y FLOAT   maximum popsize, 0 for auto [0]\r\n",
      "         -m INT     minimum number of iteration [5]\r\n",
      "         -n INT     take n-th iteration (suppress GOF) [20]\r\n",
      "         -M titles  multiline mode [null]\r\n",
      "         -f STR     font for title, labels and tics [Helvetica,16]\r\n",
      "         -g INT     number of years per generation [25]\r\n",
      "         -w INT     line width [4]\r\n",
      "         -P STR     position of the keys [right top]\r\n",
      "         -T STR     figure title [null]\r\n",
      "         -N FLOAT   false negative rate [0]\r\n",
      "         -S         no scaling\r\n",
      "         -L         show the last bin\r\n",
      "         -p         convert to PDF (with epstopdf)\r\n",
      "         -R         do not remove temporary files\r\n",
      "         -G         plot grid\r\n",
      "\r\n"
     ]
    }
   ],
   "source": [
    "!psmc/utils/psmc_plot.pl"
   ]
  },
  {
   "cell_type": "code",
   "execution_count": 9,
   "metadata": {},
   "outputs": [],
   "source": [
    "!psmc/utils/psmc_plot.pl -u 2.5e-08 -s 100 -Y 1 -m 5 -n 30 -p -M \"Pop1, Pop2, Pop3\" Simulations_coarsePattern combined_coarsePattern.psmc"
   ]
  },
  {
   "cell_type": "markdown",
   "metadata": {},
   "source": [
    "Here is the plot from me (remember to change it to your own conputs once you have generated your output images) - ![Estimated population sizes](images/Simulation_coarsePattern.png).\n",
    "\n",
    "__Question:__ Can you see the differences in the population sizes? Do they make sense to you? Do they match up with you simulation scheme?"
   ]
  },
  {
   "cell_type": "markdown",
   "metadata": {},
   "source": [
    "Now that we know how to run psmc, and plot the output, run the psmc for the same samples, but with a much finer time pattern of \"4+25\\*2+4+6\", and plot the output. \n",
    "\n",
    "__Question:__ What would you expect the output to be? \n",
    "__Question:__ Does the output plot from the finer time pattern match the coarser time pattern? Which one would you prefer?\n",
    "__Question:__ When would you not always use a finer time partition?\n"
   ]
  },
  {
   "cell_type": "markdown",
   "metadata": {},
   "source": [
    "# 4. PSMC on real world samples\n",
    "\n",
    "We are now going to shift gears to estimate the effective population sizes from 2 samples in the 1000 genomes consoritum. We will only be using data from chromosome 1 due to time constraints. Further, I have already run the commands to generate the psmcfa files using our custom script. "
   ]
  },
  {
   "cell_type": "code",
   "execution_count": 10,
   "metadata": {},
   "outputs": [
    {
     "name": "stdout",
     "output_type": "stream",
     "text": [
      "scripts/vcf2psmcfa.py data/1kg_2samps_chr1_noindels.recode.vcf.gz NA12718\n",
      "scripts/vcf2psmcfa.py data/1kg_2samps_chr1_noindels.recode.vcf.gz NA19471\n"
     ]
    }
   ],
   "source": [
    "!echo scripts/vcf2psmcfa.py data/1kg_2samps_chr1_noindels.recode.vcf.gz NA12718\n",
    "!echo scripts/vcf2psmcfa.py data/1kg_2samps_chr1_noindels.recode.vcf.gz NA19471"
   ]
  },
  {
   "cell_type": "markdown",
   "metadata": {},
   "source": [
    "__Task__ The psmcfa files are called NA12718_chr1.psmcfa and NA19471_chr1.psmcfa. Using the same sets of commands we used in the previous section, run psmc on these 2 samples using the pattern \"4+25\\*2+4+6\". Note that this will take about 10 minutes to run."
   ]
  },
  {
   "cell_type": "markdown",
   "metadata": {},
   "source": [
    "If you are short on time, or are tired of waiting, I have the psmc files for these samples already generated. They are called NA12718_chr1.psmc and NA19471_chr1.psmc. Use the plotting command - you might have to remove the -Y option from the command from the last section - to plot these. "
   ]
  },
  {
   "cell_type": "markdown",
   "metadata": {},
   "source": [
    "Here is my output from psmc runs on these 2 samples (again remember to change the file paths to your own outputs when you generate them). ![PSMC 1000 genomes](images/1kg_chr1.png)\n",
    "\n",
    "__Question:__ Interpret these effective population size plots for an European and an African population. \n",
    "\n",
    "__Question:__ Connect the recent high population size of African populations to what you know about the genetic variation seen in Africa. "
   ]
  },
  {
   "cell_type": "markdown",
   "metadata": {},
   "source": [
    "## Effect of low coverage\n",
    "\n",
    "In the last section, we will explore the effects of low coverage on effective population size estimation. First let me ask you a quesiton?\n",
    "\n",
    "__Question:__ What will happen to genotype calling with decreasing coverage, for a single individual? Think about which kind of genotypes will be hard to call? Homozygote or heterozygote?\n",
    "\n",
    "I have run psmc 2 extra times for the sample NA12718, where I intentionally mask 10% and 20% of the heterozygote sites to mimic the effects of low coverage. \n",
    "\n",
    "__Question:__ What do you expect will happen to the effective population size estimates?"
   ]
  },
  {
   "cell_type": "markdown",
   "metadata": {},
   "source": [
    "Here is my psmc plot for the these three scenarios. ![PSMC missingness](images/NA12718.png)\n",
    "\n",
    "\n",
    "__Question:__ Can you explain the reduction in the $N_e$ with increasing missingness of heterozygotes?"
   ]
  },
  {
   "cell_type": "markdown",
   "metadata": {},
   "source": [
    "## Estimating uncertainty in $N_e$ estimates\n",
    "\n",
    "Due to time constraints, we will not delve into details here, but one can estimate the uncertainty in the $N_e$ estimates from psmc using bootstrapping, where the genome is broken into chunks and resampled. An example of bootstrapped estimates: ![Bootstrap](images/bootstrap.png)\n",
    "\n",
    "__Question:__ Why do the most recent time periods have the highest variance in $N_e$ estimates?"
   ]
  },
  {
   "cell_type": "markdown",
   "metadata": {},
   "source": [
    "## Bonus task: Wildebeest demography\n",
    "\n",
    "If you have reached here already, then here is the final challenge. Here is the bcf file for wildebeests (chr 27) `/davidData/users/thomas/workshop/CTauTzS_8872.chr27.filtered.bcf.gz`.\n",
    "\n",
    "First convert it to a vcf file using `bcftools view`, then use the pipeline from the rest of the tutorial to run PSMC, and see if you can estimate the $N_e$ for them."
   ]
  }
 ],
 "metadata": {
  "kernelspec": {
   "display_name": "Python 3 (ipykernel)",
   "language": "python",
   "name": "python3"
  },
  "language_info": {
   "codemirror_mode": {
    "name": "ipython",
    "version": 3
   },
   "file_extension": ".py",
   "mimetype": "text/x-python",
   "name": "python",
   "nbconvert_exporter": "python",
   "pygments_lexer": "ipython3",
   "version": "3.9.7"
  }
 },
 "nbformat": 4,
 "nbformat_minor": 2
}
