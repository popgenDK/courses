{
 "cells": [
  {
   "cell_type": "code",
   "execution_count": null,
   "metadata": {
    "tags": []
   },
   "outputs": [],
   "source": [
    "#setup\n",
    "wd = '/course/popgen23/ben/fstats_tutorial/software'\n",
    "dd = '/course/popgen23/ben/fstats_tutorial'\n",
    "setwd(wd)\n",
    "options(repr.plot.width=22, repr.plot.height=22)\n",
    "suppressPackageStartupMessages({\n",
    "    library(admixtools)                                                  \n",
    "    library(ape)                                                         \n",
    "    library(tidyverse)  \n",
    "    library(gplots)\n",
    "    library(glue)\n",
    "    source(glue(\"{wd}/scripts//analysis.R\"))\n",
    "    source(glue(\"{wd}/scripts//treemix_plotting2.R\"))\n",
    "})"
   ]
  },
  {
   "cell_type": "markdown",
   "metadata": {},
   "source": [
    "## 1. Estimating trees\n",
    "Many methods to visualize population structure between many populations can be written as functions of a _distance matrix_, like a matrix of $F_2$ or $F_{ST}$-values. These methods include principal component analysis, trees and admixture graphs, the latter two we will focus on today. In distance matrices, large values mean that samples are less similar to each other, in contrast to similarity matrices where large values imply samples are _more_ alike."
   ]
  },
  {
   "cell_type": "code",
   "execution_count": null,
   "metadata": {
    "tags": []
   },
   "outputs": [],
   "source": [
    "#here we read all possible f2 values\n",
    "f2s = read_f2(glue('{dd}/fdata/worldfoci2'))\n",
    "\n",
    "#we arrange them into a matrix\n",
    "f2_mat = f2_matrix(f2s)"
   ]
  },
  {
   "cell_type": "code",
   "execution_count": null,
   "metadata": {
    "tags": []
   },
   "outputs": [],
   "source": [
    "heatmap.2(f2_mat, symm=T, scale=\"none\", trace='n')"
   ]
  },
  {
   "cell_type": "markdown",
   "metadata": {},
   "source": [
    "**Task 1:** Use the distance matrix in the `f2_mat`-matrix to generate a tree using the neighbor joining algorithm.\n",
    "Use the following functions from the `ape` package:\n",
    " \n",
    " - `nj()` to calculate the tree\n",
    " - `root()` to set an appropriate root\n",
    " - `plot.phylo()` to visualize your data\n",
    "\n",
    "In case you are not sure how these functions work, the help (typing e.g. `?nj` may help)\n",
    "\n",
    "**Questions:**\n",
    "   - Can you tell which populations might be admixed?\n",
    "   - how does that relate to $f_3$-statistics?"
   ]
  },
  {
   "cell_type": "code",
   "execution_count": null,
   "metadata": {
    "tags": []
   },
   "outputs": [],
   "source": [
    "#Type your solution here"
   ]
  },
  {
   "cell_type": "markdown",
   "metadata": {},
   "source": [
    "## 2. Fitting admixture graphs using qpgraph\n",
    "Our next task will be to use `qpgraph` to fit a graph. In contrast to `nj`, `qpgraph` does not estimate a graph, so one has to be specified. It will then fit all admixture proportions and branch lengths. One can think of this as obtaining \"plausible\" graphs that fit the data, without any statements whether they are the best or unique graph for that purpose. Thus, we have to specify a graph. The easiest way is to give it a list using 2 columns, where each row is anedge in the graph."
   ]
  },
  {
   "cell_type": "code",
   "execution_count": null,
   "metadata": {
    "tags": []
   },
   "outputs": [],
   "source": [
    "starting_graph = rbind(                   \n",
    "              c(\"ROOT\", \"Mbuti\"),       \n",
    "              c(\"ROOT\", \"AFR\"),              \n",
    "              c(\"AFR\", \"AFR1\"),           \n",
    "              c(\"AFR1\", \"AA\"),     \n",
    "              c(\"AFR\", \"OOA\"),            \n",
    "              c(\"OOA\", \"EUR\"),            \n",
    "              c(\"OOA\", \"EAS\"),            \n",
    "              c(\"EUR\", \"Sardinian\"),         \n",
    "              c(\"EUR\",\"AA\"),       \n",
    "              c(\"EAS\", \"Han\")             \n",
    "              )                             "
   ]
  },
  {
   "cell_type": "markdown",
   "metadata": {},
   "source": [
    "For this purpose, we have to define a bunch of internal nodes (a useful convention is to use ALL-CAPS for internal nodes). I.e. in our starting graph, we start at the root, where we us the _Mbuti_ as an outgroup. Within Africa, we have two populations; the African component of the African-American population (_AA_), and the out-of-Africa population (OOA). Outside Africa, we split into Europe (EUR) and East Asians (EAS), represented by the _Sardinian_ and _Han_, respectively. Our hypothesis is that the African-Americans have some European ancestry, therefore we add a second edge from `EUR` to `AA` to reflect that."
   ]
  },
  {
   "cell_type": "code",
   "execution_count": null,
   "metadata": {
    "tags": []
   },
   "outputs": [],
   "source": [
    "#fitting the graph is done using the qpgraph function:\n",
    "G = qpgraph(f2s,starting_graph, return_fstats = T); \n",
    "plot_graph(G$edges, textsize=10)"
   ]
  },
  {
   "cell_type": "markdown",
   "metadata": {},
   "source": [
    "Next, we can look at the fitted $f_2$-statistics"
   ]
  },
  {
   "cell_type": "code",
   "execution_count": null,
   "metadata": {},
   "outputs": [],
   "source": [
    "G$f2"
   ]
  },
  {
   "cell_type": "markdown",
   "metadata": {},
   "source": [
    "the columns\n",
    "- `est` is the estimated f-statistic\n",
    "- `se` is the estimated standard error\n",
    "- `fit` is the f3/f4-statistic calculated under the model\n",
    "- `diff` and `z` give the difference `fit-est` and associated Z-score, respectively.\n",
    "\n",
    "If there are no Z-scores above 3 (or below -3), the model is often considered a fit to the data (again, with no claim about whether it is the best model). In this simple example, we only have 6 $f_2$-values and estimate 6 parameters (5 branch lengths and one admixture coefficient), so it is not surprising that we obtain a perfect fit."
   ]
  },
  {
   "cell_type": "markdown",
   "metadata": {},
   "source": [
    "**Task 2:** Assume we want to compare this model where the `AA`-population only has African Ancestry. For this purpose, remove the edge from `EUR` to `AA` from the graph. Does this model also fit?\n"
   ]
  },
  {
   "cell_type": "code",
   "execution_count": null,
   "metadata": {},
   "outputs": [],
   "source": [
    "# Type your solution here"
   ]
  },
  {
   "cell_type": "markdown",
   "metadata": {},
   "source": [
    "**Task 3:** We picked `Sardinian` as a \"proxy\" for Europeans, and `Mbuti` as a proxy for Africans. What happens if we substitute them for other populations from the same region (e.g. `Sardinian -> Basque`, `Mbuti -> Yoruba`). What happens if we all add `Yoruba`, `Mbuti`, `Sardinian` and `Basque` to the model? "
   ]
  },
  {
   "cell_type": "code",
   "execution_count": null,
   "metadata": {},
   "outputs": [],
   "source": [
    "# Type your solution here"
   ]
  },
  {
   "cell_type": "markdown",
   "metadata": {},
   "source": [
    "## 3. Estimating Admixture Graphs using Treemix\n",
    "`qpgraph` has the drawback that the user needs to specify the graph. This has the advantage that we retain fine-scale control over the fitting, but in many cases we would like to have a way to estimate the tree from data. \n",
    "\n",
    "This is the problem addressed by `treemix` [(Pickrell & Pritchard 2012)](https://journals.plos.org/plosgenetics/article?id=10.1371/journal.pgen.1002967). Unfortunately, the program has not been maintained for the last five+ years, so it is a little bit tedious to use. For this exercise, I converted the input files for the `world`-data set to treemix format (in `treemix/worldfoci2.treemix.in.gz`), and ran treemix with 0 to 5 admixture edges ((`-m 0` to `-m 5`), the resulting output are stored in the `treemix`-folder as well"
   ]
  },
  {
   "cell_type": "code",
   "execution_count": null,
   "metadata": {},
   "outputs": [],
   "source": [
    "#system(\"treemix -i treemix/worldfoci2.treemix.in.gz -m 0 -k 1000 -root Mbuti -o treemix/worldfoci2.treemix.m0\")\n",
    "#system(\"treemix -i treemix/worldfoci2.treemix.in.gz -m 1 -k 1000 -root Mbuti -o treemix/worldfoci2.treemix.m1\")\n",
    "#system(\"treemix -i treemix/worldfoci2.treemix.in.gz -m 2 -k 1000 -root Mbuti -o treemix/worldfoci2.treemix.m2\")\n",
    "#system(\"treemix -i treemix/worldfoci2.treemix.in.gz -m 3 -k 1000 -root Mbuti -o treemix/worldfoci2.treemix.m3\")\n",
    "#system(\"treemix -i treemix/worldfoci2.treemix.in.gz -m 4 -k 1000 -root Mbuti -o treemix/worldfoci2.treemix.m4\")\n",
    "#system(\"treemix -i treemix/worldfoci2.treemix.in.gz -m 5 -k 1000 -root Mbuti -o treemix/worldfoci2.treemix.m5\")"
   ]
  },
  {
   "cell_type": "markdown",
   "metadata": {},
   "source": [
    "The output of `treemix` will be wo plots; one is the fitted graph, and one is a plot of the residuals that gives us some information about which pairs of populations are not fit well. We can use the `plot_treemix` and `plot_resid`-functions for this purpose: (these will produce some warnings, which we can ignore)"
   ]
  },
  {
   "cell_type": "code",
   "execution_count": null,
   "metadata": {
    "tags": []
   },
   "outputs": [],
   "source": [
    "tm = plot_treemix(glue('{dd}/treemix/worldfoci2.treemix.m0'))\n"
   ]
  },
  {
   "cell_type": "code",
   "execution_count": null,
   "metadata": {
    "tags": []
   },
   "outputs": [],
   "source": [
    "tree = nj(f2_mat)\n",
    "res = plot_resid(glue('{dd}/treemix/worldfoci2.treemix.m0'), pop_order=get_tip_order(tree))"
   ]
  },
  {
   "cell_type": "code",
   "execution_count": null,
   "metadata": {},
   "outputs": [],
   "source": [
    "#Type your commands here"
   ]
  },
  {
   "cell_type": "markdown",
   "metadata": {},
   "source": [
    "**Task 4**: Have a look at the admixture graphs and residual plots for `m=0` to `m=5`. \n",
    "\n",
    "- Does the fit improve when adding more admixture events?\n",
    "- Can you predict how the fit improves?\n",
    "- Does `m=5` provide a good fit?"
   ]
  },
  {
   "cell_type": "code",
   "execution_count": null,
   "metadata": {},
   "outputs": [],
   "source": [
    "# Add your code here"
   ]
  },
  {
   "cell_type": "markdown",
   "metadata": {},
   "source": [
    "# Solutions\n",
    "### Task 1"
   ]
  },
  {
   "cell_type": "code",
   "execution_count": null,
   "metadata": {},
   "outputs": [],
   "source": [
    "f2_mat %>% nj %>% root('Mbuti') %>% plot"
   ]
  },
  {
   "cell_type": "markdown",
   "metadata": {},
   "source": [
    "### Task 2"
   ]
  },
  {
   "cell_type": "code",
   "execution_count": null,
   "metadata": {},
   "outputs": [],
   "source": [
    "graph_task2 = rbind(                   \n",
    "              c(\"ROOT\", \"Mbuti\"),       \n",
    "              c(\"ROOT\", \"AFR\"),              \n",
    "              c(\"AFR\", \"AFR1\"),           \n",
    "              c(\"AFR1\", \"AA\"),     \n",
    "              c(\"AFR\", \"OOA\"),            \n",
    "              c(\"OOA\", \"EUR\"),            \n",
    "              c(\"OOA\", \"EAS\"),            \n",
    "              c(\"EUR\", \"Sardinian\"),         \n",
    "              #c(\"EUR\",\"AA\"),       \n",
    "              c(\"EAS\", \"Han\")             \n",
    "              )  \n",
    "G2 = qpgraph(f2s,graph_task2,return_fstats=T); \n",
    "plot_graph(G2$edges, textsize=10)"
   ]
  },
  {
   "cell_type": "markdown",
   "metadata": {},
   "source": [
    "### Task 3"
   ]
  },
  {
   "cell_type": "code",
   "execution_count": null,
   "metadata": {},
   "outputs": [],
   "source": [
    "graph_task3 = rbind(                   \n",
    "              c(\"ROOT\", \"Mbuti\"),       \n",
    "              c(\"ROOT\", \"AFR\"),              \n",
    "              c(\"AFR\", \"AFR1\"),           \n",
    "              c(\"AFR1\", \"AA\"),     \n",
    "              c(\"AFR\", \"OOA\"),            \n",
    "              c(\"OOA\", \"EUR\"),            \n",
    "              c(\"OOA\", \"EAS\"),            \n",
    "              c(\"EUR\", \"Basque\"),         \n",
    "              #c(\"EUR\",\"AA\"),       \n",
    "              c(\"EAS\", \"Han\")             \n",
    "              )                             \n",
    "G3 = qpgraph(f2s,graph_task3,return_fstats=T); \n",
    "plot_graph(G3$edges, textsize=10)\n",
    "\n"
   ]
  },
  {
   "cell_type": "markdown",
   "metadata": {},
   "source": [
    "### Task 4"
   ]
  },
  {
   "cell_type": "code",
   "execution_count": null,
   "metadata": {},
   "outputs": [],
   "source": [
    "for(i in 0:5){\n",
    "    plot_treemix(glue('{dd}/treemix/worldfoci2.treemix.m{i}'))\n",
    "    plot_resid(glue('{dd}/treemix/worldfoci2.treemix.m{i}'), pop_order=get_tip_order(tree))\n",
    "    }"
   ]
  }
 ],
 "metadata": {
  "kernelspec": {
   "display_name": "R",
   "language": "R",
   "name": "ir"
  },
  "language_info": {
   "codemirror_mode": "r",
   "file_extension": ".r",
   "mimetype": "text/x-r-source",
   "name": "R",
   "pygments_lexer": "r",
   "version": "4.1.2"
  }
 },
 "nbformat": 4,
 "nbformat_minor": 4
}
