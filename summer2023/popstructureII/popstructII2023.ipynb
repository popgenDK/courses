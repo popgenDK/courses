{
 "cells": [
  {
   "cell_type": "markdown",
   "id": "0cf4cf69",
   "metadata": {
    "kernel": "SoS"
   },
   "source": [
    "# Simple example of PCA and MDS\n",
    "\n",
    "First let's try to perform PCA and MDS on the small matrix from the slides. The below code will input the genotypes into R. \n"
   ]
  },
  {
   "cell_type": "code",
   "execution_count": null,
   "id": "3b4426fc",
   "metadata": {
    "kernel": "R"
   },
   "outputs": [],
   "source": [
    "G <-matrix(c(1,0,2,0,2,0,2,1,1,1,0,1,0,2,1,2,1,1,1,1,1,0,1,0,2,0,1,1,0,2,1,2,0,1,0),5,by=T)\n",
    "nInd <- nrow(G)\n",
    "\n",
    "print(G)\n"
   ]
  },
  {
   "cell_type": "markdown",
   "id": "c4ecf59b",
   "metadata": {
    "kernel": "SoS"
   },
   "source": [
    "\n",
    " - Identify the rows and the columns. Does each row contain the genotypes of a site or an individual? And what about each column?\n",
    "\n",
    "## MDS \n",
    "\n",
    "Let's try to do MDS. First let's calculate the distance. The simple distance measure as seen in the slides is called a Manhattan distance.\n"
   ]
  },
  {
   "cell_type": "code",
   "execution_count": null,
   "id": "3703762a",
   "metadata": {
    "kernel": "R"
   },
   "outputs": [],
   "source": [
    "\n",
    "## continue in R\n",
    "D<-dist(G,upper=T,diag=T,method=\"manh\")\n",
    "D\n"
   ]
  },
  {
   "cell_type": "markdown",
   "id": "01158311",
   "metadata": {
    "kernel": "SoS"
   },
   "source": [
    "\n",
    " - How many dimensions are used to represent the distances?\n",
    "\n",
    "Now let's reduce the number of dimension to 2 using MDS and plot the results:"
   ]
  },
  {
   "cell_type": "code",
   "execution_count": null,
   "id": "31771ac3",
   "metadata": {
    "kernel": "R"
   },
   "outputs": [],
   "source": [
    " #perform MDS to 2 dimensions\n",
    "dist(k2<-cmdscale(D,k=2),upper=T,diag=T,method=\"manha\")\n",
    "\n",
    "cat(\"\\n original Distance between individuals:\")\n",
    "dist(G,upper=T,diag=T,method=\"manha\")\n",
    "cat(\"\\n Distance between individuals in from the MDS:\")\n",
    "round(D_k2<- dist(k2,upper=T,diag=T,method=\"manha\"),2)\n"
   ]
  },
  {
   "cell_type": "code",
   "execution_count": null,
   "id": "545826b4",
   "metadata": {
    "kernel": "R",
    "scrolled": true
   },
   "outputs": [],
   "source": [
    "#plot the results\n",
    " plot(k2,pch=16,cex=3,col=1:5+1,ylab=\"distance 2th dimension\",xlab=\"distance 1. dimension\",main=\"Multiple dimension scaling (MDS)\")\n",
    " points(k2,pch=as.character(1:5))"
   ]
  },
  {
   "cell_type": "markdown",
   "id": "25976e5c",
   "metadata": {
    "kernel": "SoS"
   },
   "source": [
    "\n",
    " - Can you find any difference in the pairwise distances from the plot and the original pairwise distances?. \n",
    "\n",
    "## PCA\n",
    "First let's try to perform PCA directy on the normalized genotypes without calculating the covariance matrix\n",
    "\n",
    " - Why do we normalize the genotypes?\n",
    "\n",
    " "
   ]
  },
  {
   "cell_type": "code",
   "execution_count": null,
   "id": "8f857e0c",
   "metadata": {
    "kernel": "R"
   },
   "outputs": [],
   "source": [
    " #first normalize the data do that the mean and variance is the same for each SNP\n",
    "  normalize <- function(x){\n",
    "    nInd <- nrow(x)\n",
    "    avg <- colMeans(x)\n",
    "    M <- x - rep(colMeans(x),each=nInd)\n",
    "    M <- M/sqrt(2*rep(avg/2*(1-avg/2),each=nInd))\n",
    "    M\n",
    " }\n",
    "print(G)\n",
    " M <- normalize(G)\n",
    "print(M)\n",
    "cat(\"Dimension of M\")\n",
    "dim(M)\n",
    "\n",
    " svd <- svd(M)\n",
    " ## print the decomposition for M=SDV\n",
    " ## u is the eigenvectors\n",
    " ## d is eigen values\n",
    " print(svd)\n"
   ]
  },
  {
   "cell_type": "markdown",
   "id": "f8721ee5",
   "metadata": {
    "kernel": "R"
   },
   "source": [
    "The above is the decomposition of the genotypes into the diagonal matrix (d) with eigenvalues, and the left (u) and right (v) eigenvectors such that\n",
    "$M=U\\Sigma V^T$\n",
    "where $\\Sigma$ has the diagonal values of d. Therefore, we can reconstruct the normalized genotypes from U, d and v:\n"
   ]
  },
  {
   "cell_type": "code",
   "execution_count": null,
   "id": "5d9502d7",
   "metadata": {
    "kernel": "R"
   },
   "outputs": [],
   "source": [
    "##make a diagonal matrix with the eigenvalues\n",
    "SIGMA <-  diag(svd$d)\n",
    "print(SIGMA)\n",
    "## using the matrixes from the decomposition we can undo the transformation of our normalized genotypes\n",
    "M2 <- svd$u%*%SIGMA%*%t(svd$v)\n",
    "cat(\"Original normalized genotypes (M):\")\n",
    "round(M,3)\n",
    "cat(\"Reconstructed normalized genotypes(M2):\")\n",
    "round(M2,3)"
   ]
  },
  {
   "cell_type": "markdown",
   "id": "ebdb19c7",
   "metadata": {
    "kernel": "SoS"
   },
   "source": [
    " - Did the reconstruction of the normalized genotypes work?\n",
    " - Would you be able to reconstruct the unnormalized (raw) genotypes?\n",
    "\n",
    "Now try performing PCA based on the covariance matrix instead. To do so we first calculate the covariance matrix:\n"
   ]
  },
  {
   "cell_type": "code",
   "execution_count": null,
   "id": "66a7fc18",
   "metadata": {
    "kernel": "R"
   },
   "outputs": [],
   "source": [
    " ## calculate the covariance matrix\n",
    "C <- M %*% t(M)\n",
    " print(C)\n"
   ]
  },
  {
   "cell_type": "markdown",
   "id": "84448464",
   "metadata": {
    "kernel": "SoS"
   },
   "source": [
    "The covariance matrix also shows the relationship between each individuals with the most similar individuals having a high positive value while the most distant individuals having a negativ value. However, unlike the euclidian distance the diagonal is not zero but instead is it related to the diversity within each individual.\n",
    "\n",
    "Now let's try to do PCA on this covariance matrix instead"
   ]
  },
  {
   "cell_type": "code",
   "execution_count": null,
   "id": "f8ec7799",
   "metadata": {
    "kernel": "R"
   },
   "outputs": [],
   "source": [
    " ## then perform the PCA by singular value decomposition\n",
    " e <- eigen(C)\n",
    "\n",
    " ## print first PC\n",
    "cat(\"First pricipal component:\")\n",
    " print(e$vectors[,1])\n",
    " ## print first PC\n",
    "cat(\"Eigenvalues:\")\n",
    " print(round(e$values,4))\n",
    " ##plot 2 first PC. for the 5 indiviudals\n",
    " plot(e$vectors[,1:2],pch=16,cex=3,col=1:5+1,ylab=\"2. PC\",xlab=\"1. PC\",main=\"Principle component analysis (PCA)\")\n",
    " points(e$vectors[,1:2],pch=as.character(1:5))\n",
    " \n"
   ]
  },
  {
   "cell_type": "markdown",
   "id": "f00c0940",
   "metadata": {
    "kernel": "R"
   },
   "source": [
    "\n",
    "\n",
    " - Do you get the same results using the covariance matrix as using the normalized genotypes directly?\n",
    " - Compare the two plots (MDS vs. PCA). Are the capturing the same thing? \n",
    "\n",
    "Bonus information:\n",
    "\n",
    "Unlike MDS, PCA will not remove information, so you are actually able to reconstruct your covariance matrix from the principal components."
   ]
  },
  {
   "cell_type": "code",
   "execution_count": null,
   "id": "837f3906",
   "metadata": {
    "kernel": "R"
   },
   "outputs": [],
   "source": [
    "##continue in R\n",
    "##make a diagonal matrix with the eigenvalues\n",
    "SIGMA <- diag(e$value)\n",
    "\n",
    "## transform the PC back to the original data\n",
    "## using matrix multiplication V SIGMA Vt\n",
    "out <- e$vectors %*% SIGMA %*% t(e$vectors)\n",
    "cat(\"Reconstructed covariance:\")\n",
    "print(out)\n",
    "cat(\"Original covariance:\")\n",
    "print(C)\n",
    "#close R after you are done"
   ]
  },
  {
   "cell_type": "markdown",
   "id": "3c2bf1e0",
   "metadata": {
    "kernel": "R"
   },
   "source": [
    "Try to also compare the eigenvalues from the decomposition of the normalized genotypes and from the covariance matrix"
   ]
  },
  {
   "cell_type": "code",
   "execution_count": null,
   "id": "0aa623ec",
   "metadata": {
    "kernel": "R"
   },
   "outputs": [],
   "source": [
    "cat(\"Eigenvalues of the covariance matrix:\")\n",
    " print(round(e$values,4))\n",
    "\n",
    "cat(\"Singular values from the normalized genotypes:\")\n",
    " print(round(svd$d,4))"
   ]
  },
  {
   "cell_type": "markdown",
   "id": "37f2cff5",
   "metadata": {
    "kernel": "R"
   },
   "source": [
    " - What is the relationship? (hint: try to square one of them by changing the above code)"
   ]
  },
  {
   "cell_type": "markdown",
   "id": "b6b873e9",
   "metadata": {
    "kernel": "SoS"
   },
   "source": [
    "#  PCA for low depth sequencing using PCAngsd \n",
    "\n",
    "\n",
    "In this exercise we will try to use PCAngsd to analyse the same data used in the NGSadmix exercises. \n",
    "\n",
    "Genotype likelihoods for variable sites was estimated from of bam files with low depth NGS data from 435 samples of 5 human populations from the 1000 genomes project:\n",
    "\n",
    "\n",
    "| Population code | Population                                     | Sample size |\n",
    "|-----------------|------------------------------------------------|-------------|\n",
    "| ASW             | HapMap African ancestry individuals from SW US | 61          |\n",
    "| CEU             | European individuals                           | 99          |\n",
    "| CHB             | Han Chinese in Beijing                         | 103         |\n",
    "| YRI             | Yoruba individuals from Nigeria                | 108         |\n",
    "| MXL             | Mexican individuals from LA California         | 63          |\n",
    "\n"
   ]
  },
  {
   "cell_type": "code",
   "execution_count": null,
   "id": "435b3898",
   "metadata": {
    "kernel": "Calysto Bash",
    "scrolled": true
   },
   "outputs": [],
   "source": [
    "# Make new folder and set path to that folder\n",
    "mkdir -p ~/structure2\n",
    "cd ~/structure2\n",
    "\n",
    "# NB this must be done every time you open a new terminal\n",
    "ThePath=/course/popgen23/anders/popstructureII\n",
    "\n",
    "## PCAngsd\n",
    "which pcangsd\n",
    "\n",
    "## Genotype likelihood data from previous exercise\n",
    "ls $ThePath/1000G5pops.inputgl.beagle.gz \n",
    "\n",
    "## sample information\n",
    "ls $ThePath/1000G5pops.pop.info\n",
    "\n"
   ]
  },
  {
   "cell_type": "markdown",
   "id": "deeaffce",
   "metadata": {
    "kernel": "Bash"
   },
   "source": [
    "Copy the information file to your directory and view the first 10 lines. \n"
   ]
  },
  {
   "cell_type": "code",
   "execution_count": null,
   "id": "544369a4",
   "metadata": {
    "kernel": "Calysto Bash",
    "scrolled": true
   },
   "outputs": [],
   "source": [
    "cp $ThePath/1000G5pops.pop.info .\n",
    "head 1000G5pops.pop.info"
   ]
  },
  {
   "cell_type": "markdown",
   "id": "bf139a1e",
   "metadata": {
    "kernel": "Calysto Bash"
   },
   "source": [
    "\n",
    "See the number of individuals for each population from the sample file"
   ]
  },
  {
   "cell_type": "code",
   "execution_count": null,
   "id": "d1147269",
   "metadata": {
    "kernel": "Calysto Bash",
    "scrolled": true
   },
   "outputs": [],
   "source": [
    "\n",
    "\n",
    "# summaries the fist column\n",
    "cut -f1 1000G5pops.pop.info | uniq -c\n",
    "\n"
   ]
  },
  {
   "cell_type": "markdown",
   "id": "e708940c",
   "metadata": {
    "kernel": "Bash"
   },
   "source": [
    "Count the number of lines in the genotype likelihood file"
   ]
  },
  {
   "cell_type": "code",
   "execution_count": null,
   "id": "e1ad841e",
   "metadata": {
    "kernel": "Calysto Bash"
   },
   "outputs": [],
   "source": [
    "zcat $ThePath/1000G5pops.inputgl.beagle.gz | wc -l "
   ]
  },
  {
   "cell_type": "markdown",
   "id": "1fc8f53f",
   "metadata": {
    "kernel": "Bash"
   },
   "source": [
    " - How many sites are in your genotype likelihood file? \n",
    " \n",
    " ## Run PCANGSD to perform PCA\n",
    " First let's get a list of the options in PCAngsd\n"
   ]
  },
  {
   "cell_type": "code",
   "execution_count": null,
   "id": "8fa13285",
   "metadata": {
    "kernel": "Calysto Bash",
    "scrolled": true
   },
   "outputs": [],
   "source": [
    "pcangsd -h"
   ]
  },
  {
   "cell_type": "markdown",
   "id": "5eb357c7",
   "metadata": {
    "kernel": "Bash"
   },
   "source": [
    "Run PCANGSD on your genotype likelihood data using 5 CPU threads"
   ]
  },
  {
   "cell_type": "code",
   "execution_count": null,
   "id": "54fa7b79",
   "metadata": {
    "kernel": "Calysto Bash",
    "scrolled": true
   },
   "outputs": [],
   "source": [
    "pcangsd -b $ThePath/1000G5pops.inputgl.beagle.gz -o PCANGSD1000G -t 5\n"
   ]
  },
  {
   "cell_type": "markdown",
   "id": "9b1e2f4e",
   "metadata": {
    "kernel": "Bash"
   },
   "source": [
    "The program estimates the covariance matrix that can then be used for PCA. Look at the output from the program\n",
    "\n",
    " - How many significant PCA was used by PCAngsd (see MAP test in output)?\n",
    "\n",
    "Plot the results in R"
   ]
  },
  {
   "cell_type": "code",
   "execution_count": null,
   "id": "d301ae88",
   "metadata": {
    "kernel": "R"
   },
   "outputs": [],
   "source": [
    "# Read covariance matrix estimated by PCAngsd\n",
    "C <- as.matrix(read.table(\"~/structure2/PCANGSD1000G.cov\"))\n",
    "\n",
    "# Read population labels for each individuals\n",
    "pop<-read.table(\"~/structure2/1000G5pops.pop.info\",stringsAsFactors=T)\n",
    "\n",
    "# Estimate the eigenvectors (principal components) from the covariance matrix\n",
    "e <- eigen(C)\n",
    "plot(e$vectors[,c(2,3)],col=pop[,1],xlab=\"PC1\",ylab=\"PC2\")\n",
    "legend(\"left\",fill=1:5,levels(pop[,1]))"
   ]
  },
  {
   "cell_type": "markdown",
   "id": "28bbdc37",
   "metadata": {
    "kernel": "Bash"
   },
   "source": [
    "Compare with the estimate admixture proportions (a NGSadmix analysis)\n",
    "\n"
   ]
  },
  {
   "cell_type": "code",
   "execution_count": null,
   "id": "93ae819f",
   "metadata": {
    "kernel": "R",
    "scrolled": true
   },
   "outputs": [],
   "source": [
    "par(mfrow=2:1)\n",
    "source(\"https://raw.githubusercontent.com/GenisGE/evalAdmix/master/visFuns.R\")\n",
    "## read and plot the output from NGSadmix from the Tuesday's exercises\n",
    "pop<-read.table(\"/course/popgen23/ida/admixexercise/admixinput/1000G5pops.pop.info\",as.is=T)\n",
    "q<-read.table(\"/course/popgen23/ida/admixexercise/admixoutput/1000G5popsAdmixK3seed3.qopt\")\n",
    "ord<-orderInds(pop = pop[,1], q=q) # sort indiivduals by population and within populaoitn by admixture proportion\n",
    "#plot\n",
    "barplot(t(q)[,ord],col=2:10,space=0,border=NA,xlab=\"Individuals\",ylab=\"Admixture proportions\",main=\"K=3\")\n",
    "text(sort(tapply(1:nrow(pop),pop[ord,1],mean)),-0.05,unique(pop[ord,1]),xpd=T) # add population labels\n",
    "abline(v=cumsum(sapply(unique(pop[ord,1]),function(x){sum(pop[ord,1]==x)})),col=1,lwd=1.2)\n",
    "\n",
    "## read for K=4\n",
    "pop<-read.table(\"/course/popgen23/ida/admixexercise/admixinput/1000G5pops.pop.info\",as.is=T)\n",
    "q<-read.table(\"/course/popgen23/ida/admixexercise/admixoutput/1000G5popsAdmixK4seed9.qopt\")\n",
    "plot\n",
    "barplot(t(q)[,ord],col=2:10,space=0,border=NA,xlab=\"Individuals\",ylab=\"Admixture proportions\",main=\"K=4\")\n",
    "text(sort(tapply(1:nrow(pop),pop[ord,1],mean)),-0.05,unique(pop[ord,1]),xpd=T) # add population labels\n",
    "abline(v=cumsum(sapply(unique(pop[ord,1]),function(x){sum(pop[ord,1]==x)})),col=1,lwd=1.2)"
   ]
  },
  {
   "cell_type": "markdown",
   "id": "6f60fdc0",
   "metadata": {
    "kernel": "R"
   },
   "source": [
    " - In the PCA plot can you identify the Mexicans with only European ancestry?\n",
    " - What about the African American with East Asian ancestry?\n",
    " - Based on the PCA would you have reached the same conclusion as the admixture proportions?\n",
    "\n",
    "## What if we use standard softwares that use mean imputation\n",
    "\n",
    "Try the same analysis but without estimating individual allele frequencies. This is the same as using the first iteration of the algorithm. This is similar to using mean imputation which is used by most PCA software (eigensoft, eigenstrat, smartPCA, NGStools, fastPCA, FlashPCA, plink --fast). \n"
   ]
  },
  {
   "cell_type": "code",
   "execution_count": null,
   "id": "fa9cfa31",
   "metadata": {
    "kernel": "Calysto Bash"
   },
   "outputs": [],
   "source": [
    "pcangsd -b $ThePath/1000G5pops.inputgl.beagle.gz -o PCANGSD1000G_iter0 -t 5 --iter 0"
   ]
  },
  {
   "cell_type": "markdown",
   "id": "46c33404",
   "metadata": {
    "kernel": "Bash"
   },
   "source": [
    "wait for the analysis to finish and then plot the results in R using the code below"
   ]
  },
  {
   "cell_type": "code",
   "execution_count": null,
   "id": "9e97e369",
   "metadata": {
    "kernel": "R"
   },
   "outputs": [],
   "source": [
    "# Read covariance matrix estimated by PCAngsd\n",
    "C <- as.matrix(read.table(\"~/structure2/PCANGSD1000G_iter0.cov\"))\n",
    "\n",
    "# Read population labels for each individuals\n",
    "pop<-read.table(\"~/structure2/1000G5pops.pop.info\",stringsAsFactors=T)\n",
    "\n",
    "# Estimate the eigenvectors (Principal components) from the covariance matrix\n",
    "e <- eigen(C)\n",
    "plot(e$vectors[,1:2],col=pop[,1],xlab=\"PC1\",ylab=\"PC2\")\n",
    "legend(\"top\",fill=1:5,levels(pop[,1]))\n"
   ]
  },
  {
   "cell_type": "markdown",
   "id": "a2ebc487",
   "metadata": {
    "kernel": "R"
   },
   "source": [
    " - Do you see any difference?\n",
    " - Would any of your conclusions change? (compared to the previous PCA plot)\n",
    "\n",
    "## Converting a PCA into admixture proportions\n",
    "Let's try to use the PCA to infer admixture proportions based on the first 2 principal components. For the optimization we will use a small penalty on the admixture proportions (alpha). This is a way to convert your PCA into admixture proportions:\n"
   ]
  },
  {
   "cell_type": "code",
   "execution_count": null,
   "id": "cda6cf13",
   "metadata": {
    "kernel": "Calysto Bash"
   },
   "outputs": [],
   "source": [
    "pcangsd -b $ThePath/1000G5pops.inputgl.beagle.gz -o PCANGSD1000G -t 5 --admix --admix_alpha 50 "
   ]
  },
  {
   "cell_type": "markdown",
   "id": "74446b1f",
   "metadata": {
    "kernel": "R"
   },
   "source": [
    "\n",
    "Plot the results in R\n",
    "\n"
   ]
  },
  {
   "cell_type": "code",
   "execution_count": null,
   "id": "f4b9cbff",
   "metadata": {
    "kernel": "R"
   },
   "outputs": [],
   "source": [
    "# Read the admixture proportions estimated from the PCA\n",
    "q<-read.table(\"~/structure2/PCANGSD1000G.admix.4.Q\")\n",
    "\n",
    "# Read population labels for each individuals\n",
    "pop<-read.table(\"~/structure2/1000G5pops.pop.info\",stringsAsFactors=T)\n",
    "\n",
    "## Order according to population\n",
    "ord<-orderInds(pop = pop[,1], q=q) # sort indiivduals by population and within populaoitn by admixture proportion\n",
    "\n",
    "\n",
    "barplot(t(q)[,ord],col=2:10,space=0,border=NA,xlab=\"Individuals\",ylab=\"Admixture proportions\")\n",
    "text(tapply(1:nrow(pop),pop[ord,1],mean),-0.05,unique(pop[ord,1]),xpd=T)\n",
    "abline(v=cumsum(sapply(unique(pop[ord,1]),function(x){sum(pop[ord,1]==x)})),col=1,lwd=1.2)\n",
    "\n"
   ]
  },
  {
   "cell_type": "markdown",
   "id": "ad6c4185",
   "metadata": {
    "kernel": "R"
   },
   "source": [
    "\n",
    " - how does this compare to the results from an admixture proportion analysis (the NGSadmix analysis above)?\n"
   ]
  },
  {
   "cell_type": "markdown",
   "id": "13b9f1c8",
   "metadata": {
    "kernel": "R"
   },
   "source": [
    "# PCAngsd and selection\n",
    "\n",
    "For very recent selection we can look within closely related individuals for example with in Europeans\n",
    "\n",
    "**Data:**\n",
    "\n",
    " - Genotype likelihoods in Beagle format\n",
    " - ~150k random SNPs with maf > 5%\n",
    " - Four EU populations with ~100 individuals in each\n",
    " - whole genome sequencing\n",
    " - depth 2-9X (1000 genome project)\n",
    "\n",
    " ```\n",
    "CEU | Europeans in Utah (British)\n",
    "GBR | Great Britain\n",
    "IBS | Iberian/Spain\n",
    "TSI | Italien\n",
    "```\n",
    "\n",
    "First let's set the paths\n"
   ]
  },
  {
   "cell_type": "code",
   "execution_count": null,
   "id": "d5f6744f",
   "metadata": {
    "kernel": "Calysto Bash"
   },
   "outputs": [],
   "source": [
    "cd ~/structure2\n",
    "\n",
    "# NB this must be done every time you open a new terminal\n",
    "ThePath=/course/popgen23/anders/popstructureII\n",
    "\n",
    "## Copy positions and sample information\n",
    "cp $ThePath/eu1000g.sample.Info .\n",
    "\n",
    "## Load the python module\n",
    "\n",
    "# check path to data\n",
    "ls $ThePath/eu1000g.small.beagle.gz\n",
    "\n"
   ]
  },
  {
   "cell_type": "markdown",
   "id": "19d3d5a0",
   "metadata": {
    "kernel": "Bash"
   },
   "source": [
    "### Explore the input data. \n",
    "\n",
    "Take a quick look at the sample data.\n",
    "\n",
    "First try to get an overview of the dataset by looking at the information file and making a summary using the following code:\n",
    " "
   ]
  },
  {
   "cell_type": "code",
   "execution_count": null,
   "id": "b120bd72",
   "metadata": {
    "kernel": "Calysto Bash"
   },
   "outputs": [],
   "source": [
    "# View first lines of sample info file\n",
    "echo First lines in sample info file\n",
    "head eu1000g.sample.Info\n",
    "\n",
    "\n",
    "\n",
    "echo Count the number of samples from each population\n",
    "cut -f 2 -d \" \" eu1000g.sample.Info | sed 1d| sort | uniq -c\n",
    "\n",
    " "
   ]
  },
  {
   "cell_type": "markdown",
   "id": "42ff40ba",
   "metadata": {
    "kernel": "Bash"
   },
   "source": [
    "- How many samples from each country?\n",
    "\n",
    "Now let's have a look at the genotype likelihood (GL) file that you have created with ANGSD. It is a \"beagle format\" file called all.beagle.gz - and will be the input file to PCAangsd. The first line in this file is a header line and after that it contains a line for each locus with GLs. By using the unix command wc we can count the number of lines in the file:\n",
    "\n"
   ]
  },
  {
   "cell_type": "code",
   "execution_count": null,
   "id": "925d0df1",
   "metadata": {
    "kernel": "Calysto Bash"
   },
   "outputs": [],
   "source": [
    "gunzip -c $ThePath/eu1000g.small.beagle.gz | wc -l\n",
    "\n",
    "  "
   ]
  },
  {
   "cell_type": "markdown",
   "id": "48da47e4",
   "metadata": {
    "kernel": "Bash"
   },
   "source": [
    "- Use this to find out how many loci there are GLs for in the data set?\n",
    "\n"
   ]
  },
  {
   "cell_type": "markdown",
   "id": "76926928",
   "metadata": {
    "kernel": "Bash"
   },
   "source": [
    "Next, to get an idea of what the GL file contains try (from the command line) to print the first 9 columns of the first 7 lines of the file:\n",
    "\n"
   ]
  },
  {
   "cell_type": "code",
   "execution_count": null,
   "id": "ebec6d98",
   "metadata": {
    "kernel": "Calysto Bash"
   },
   "outputs": [],
   "source": [
    "zcat $ThePath/eu1000g.small.beagle.gz | head -n 7 | cut -f1-9 | column -t\n",
    "\n",
    "## Ignore the \"Broken pipe\""
   ]
  },
  {
   "cell_type": "markdown",
   "id": "ca2f65da",
   "metadata": {
    "kernel": "Bash"
   },
   "source": [
    "In general, the first three columns of a beagle file contain marker name and the two alleles, allele1 and allele2, present in the locus (in beagle A=0, C=1, G=2, T=3).\n",
    "\n",
    "All following columns contain genotype likelihoods (three columns for each individual: first GL for homozygote for allele1, then GL for heterozygote and then GL for homozygote for allele2). Note that the GL values sum to one per site for each individuals. This is just a normalization of the genotype likelihoods in order to avoid underflow problems in the beagle software it does not mean that they are genotype probabilities.\n",
    "\n",
    " - Based on this, what is the most likely genotype of Ind0 in the first locus and the locus six?\n",
    "\n",
    "### PCAngsd and selection\n",
    "\n",
    "Run PCangsd with to estimate the covariance matrix while jointly estimating the individuals allele frequencies\n",
    "\n"
   ]
  },
  {
   "cell_type": "code",
   "execution_count": null,
   "id": "c3345f65",
   "metadata": {
    "kernel": "Calysto Bash"
   },
   "outputs": [],
   "source": [
    "pcangsd -b $ThePath/eu1000g.small.beagle.gz -o EUsmall -t 5\n",
    "\n"
   ]
  },
  {
   "cell_type": "markdown",
   "id": "a45d7ec5",
   "metadata": {
    "kernel": "Bash"
   },
   "source": [
    "This takes around 2 min to run. The program estimates the covariance matrix that can then be used for PCA. Look at the output from the program.\n",
    "\n",
    " - The algorithm might only need a low number of PCs to estimate the allele freuqencies. How many significant PCs (see MAP test in output)?\n",
    "\n",
    "Now plot the results in R:\n"
   ]
  },
  {
   "cell_type": "code",
   "execution_count": null,
   "id": "6ab96e34",
   "metadata": {
    "kernel": "R"
   },
   "outputs": [],
   "source": [
    " ## R\n",
    " cov <- as.matrix(read.table(\"~/structure2/EUsmall.cov\"))\n",
    "\n",
    " e<-eigen(cov)\n",
    " ID<-read.table(\"~/structure2/eu1000g.sample.Info\",head=T,stringsAsFactors=T)\n",
    " plot(e$vectors[,1:2],col=ID$POP,xlab=\"PC1\",ylab=\"PC2\")\n",
    "\n",
    " legend(\"topleft\",fill=1:4,levels(ID$POP))\n"
   ]
  },
  {
   "cell_type": "markdown",
   "id": "757cdaad",
   "metadata": {
    "kernel": "Bash"
   },
   "source": [
    " - Does the plot look like you expected? Which populations are close and distant to each other?\n",
    "\n",
    "Since the European individuals in 1000G are not simple homogeneous disjoint populations it is hard to use PBS/FST or similar statistics to infer selection based on populating differences ( you will learn about these later). However, PCA offers a good description of the differences between individuals without having the define disjoint groups.\n",
    "\n",
    "Let's try to infer selection along the genome based on the PCA\n",
    "\n"
   ]
  },
  {
   "cell_type": "code",
   "execution_count": null,
   "id": "1bde87ab",
   "metadata": {
    "kernel": "Calysto Bash"
   },
   "outputs": [],
   "source": [
    "pcangsd -b $ThePath/eu1000g.small.beagle.gz -o EUsmall --selection --sites_save --minMaf 0 -t 5\n"
   ]
  },
  {
   "cell_type": "markdown",
   "id": "ddc8119b",
   "metadata": {
    "kernel": "Bash"
   },
   "source": [
    "\n",
    "The analysis takes aboud two minutes. We also need to keep track of whether a SNP is used in the analysis or not, which can be done based on the output. Create a file with the SNP location info that you will need to plot the results (the third column indicate if the site is used=1 or not =0):\n",
    "\n"
   ]
  },
  {
   "cell_type": "code",
   "execution_count": null,
   "id": "4e5618c7",
   "metadata": {
    "kernel": "Calysto Bash"
   },
   "outputs": [],
   "source": [
    "# Create file with position and chromosome\n",
    "paste <(zcat $ThePath/eu1000g.small.beagle.gz| cut -f 1 | sed 's/\\_/\\t/g' | sed 1d ) EUsmall.sites  > EUsmall.sites.info\n",
    "\n",
    "\n",
    "head  EUsmall.sites.info \n",
    "\n"
   ]
  },
  {
   "cell_type": "markdown",
   "id": "d3bcd186",
   "metadata": {
    "kernel": "Bash"
   },
   "source": [
    "Next, plot the results of the selection scan\n",
    "\n"
   ]
  },
  {
   "cell_type": "code",
   "execution_count": null,
   "id": "e14190a1",
   "metadata": {
    "kernel": "R"
   },
   "outputs": [],
   "source": [
    "library(RcppCNPy)\n",
    "\n",
    "\n",
    "## function for QQplot\n",
    "qqchi<-function(x,...){\n",
    "lambda<-round(median(x)/qchisq(0.5,1),2)\n",
    "  qqplot(qchisq((1:length(x)-0.5)/(length(x)),1),x,ylab=\"Observed -log10(pvalues)\",xlab=\"Expected -log10(pvalues)\",...);abline(0,1,col=2,lwd=2)\n",
    "legend(\"topleft\",paste(\"lambda=\",lambda))\n",
    "}\n",
    "\n",
    "filename <- paste0(getwd(),\"/structure2/EUsmall.selection.npy\")\n",
    "print(filename)\n",
    "\n",
    "s <- npyLoad(filename)\n",
    "# convert test statistic to p-value\n",
    "pval<-1-pchisq(s,1)\n",
    "\n",
    "## make QQ plot to QC the test statistics\n",
    "qqchi(s)\n"
   ]
  },
  {
   "cell_type": "markdown",
   "id": "10cee787",
   "metadata": {
    "kernel": "R"
   },
   "source": [
    "The above is a QQ plot of the p-values from the selection scan. If the test statistics is good them most point will follow the red line which only a few (<1%) will deviate.\n",
    "\n",
    " - Did the test perform well?\n",
    " \n",
    " Finally, let's plot the results of the scan along the genome:  "
   ]
  },
  {
   "cell_type": "code",
   "execution_count": null,
   "id": "de24dc37",
   "metadata": {
    "kernel": "R",
    "scrolled": true
   },
   "outputs": [],
   "source": [
    "## read positions (hg38)\n",
    "p<-read.delim(\"~/structure2/EUsmall.sites.info\",colC=c(\"factor\",\"integer\",\"integer\"),head=F)\n",
    "\n",
    "names(p)<-c(\"chr\",\"pos\",\"keep\")\n",
    "\n",
    "## make manhatten plot\n",
    "plot(-log10(pval),col=p$chr[p$keep==1],xlab=\"Chromosomes\",main=\"Manhattan plot\")\n",
    "\n",
    "\n",
    "\n"
   ]
  },
  {
   "cell_type": "markdown",
   "id": "a55c387d",
   "metadata": {
    "kernel": "R"
   },
   "source": [
    "Lets zoom in om the highest peak"
   ]
  },
  {
   "cell_type": "code",
   "execution_count": null,
   "id": "6be2c476",
   "metadata": {
    "kernel": "R"
   },
   "outputs": [],
   "source": [
    "## zoom into region\n",
    "w<-range(which(pval<1e-7)) + c(-100,100)\n",
    "keep<-w[1]:w[2]\n",
    "plot(p$pos[keep],-log10(pval[keep]),col=p$chr[keep],xlab=\"HG38 Position chr2\")\n",
    "\n"
   ]
  },
  {
   "cell_type": "code",
   "execution_count": null,
   "id": "4012e7fc",
   "metadata": {
    "kernel": "R",
    "scrolled": true
   },
   "outputs": [],
   "source": [
    "## see the position of the most significant SNP\n",
    "cat(\"Base pair position of the highest peak \")\n",
    "p$pos[which.max(s)]"
   ]
  },
  {
   "cell_type": "markdown",
   "id": "a2909784",
   "metadata": {
    "kernel": "Bash"
   },
   "source": [
    "See if you can make sense of the top hit: \n",
    " - Go to the UCSC browser (https://genome.ucsc.edu/cgi-bin/hgGateway)\n",
    " - Choose human GRCh38/hg38\n",
    " - Search for the position of the top hit and identify the genes at that locus"
   ]
  }
 ],
 "metadata": {
  "kernelspec": {
   "display_name": "SoS",
   "language": "sos",
   "name": "sos"
  },
  "language_info": {
   "codemirror_mode": "sos",
   "file_extension": ".sos",
   "mimetype": "text/x-sos",
   "name": "sos",
   "nbconvert_exporter": "sos_notebook.converter.SoS_Exporter",
   "pygments_lexer": "sos"
  },
  "sos": {
   "kernels": [
    [
     "Calysto Bash",
     "calysto_bash",
     "bash",
     "",
     ""
    ],
    [
     "R",
     "ir",
     "R",
     "#DCDCDA",
     "r"
    ]
   ],
   "panel": {
    "displayed": false,
    "height": 0
   },
   "version": "0.24.1"
  }
 },
 "nbformat": 4,
 "nbformat_minor": 5
}
