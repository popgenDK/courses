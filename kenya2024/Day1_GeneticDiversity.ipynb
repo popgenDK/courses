{
 "cells": [
  {
   "cell_type": "markdown",
   "id": "f2ba418c",
   "metadata": {
    "kernel": "SoS"
   },
   "source": [
    "# Day 1, Practical 2\n",
    "\n",
    "A statistic commonly used to represent the genetic diversity within an individual is the proportion of sites that have two different alleles, refferred to as heterozygosity. While heterozygosity can refer to the proportion out of any set of markers, in this exercise we will look at the number of heterozygous sites out of all sites.\n",
    "\n",
    "In this exercise we will cover:\n",
    " - Filtering data to get highly accurate calls of heterozygous sites\n",
    " - How to estimate heterozygosity for a single individual\n",
    " - Comparing these values for multiple individuals\n",
    "    \n",
    "    \n",
    "Tools used: bcftools, samtools, AWK, R\n",
    "\n",
    "The notebooks are editable, so feel free to expirement and change the code to see what happens or write notes in the text cells. Just remember to download the notebooks used here at some point if you want to save them with your own changes included."
   ]
  },
  {
   "cell_type": "code",
   "execution_count": 1,
   "id": "29587ed5",
   "metadata": {
    "kernel": "Bash"
   },
   "outputs": [
    {
     "name": "stderr",
     "output_type": "stream",
     "text": [
      "Traceback (most recent call last):\n",
      "  File \"/opt/tljh/user/lib/python3.9/runpy.py\", line 197, in _run_module_as_main\n",
      "    return _run_code(code, main_globals, None,\n",
      "  File \"/opt/tljh/user/lib/python3.9/runpy.py\", line 87, in _run_code\n",
      "    exec(code, run_globals)\n",
      "  File \"/opt/tljh/user/lib/python3.9/site-packages/bash_kernel/__main__.py\", line 3, in <module>\n",
      "    IPKernelApp.launch_instance(kernel_class=BashKernel)\n",
      "  File \"/opt/tljh/user/lib/python3.9/site-packages/traitlets/config/application.py\", line 1042, in launch_instance\n",
      "    app.initialize(argv)\n",
      "  File \"/opt/tljh/user/lib/python3.9/site-packages/traitlets/config/application.py\", line 113, in inner\n",
      "    return method(app, *args, **kwargs)\n",
      "  File \"/opt/tljh/user/lib/python3.9/site-packages/ipykernel/kernelapp.py\", line 681, in initialize\n",
      "    self.init_sockets()\n",
      "  File \"/opt/tljh/user/lib/python3.9/site-packages/ipykernel/kernelapp.py\", line 320, in init_sockets\n",
      "    self.shell_port = self._bind_socket(self.shell_socket, self.shell_port)\n",
      "  File \"/opt/tljh/user/lib/python3.9/site-packages/ipykernel/kernelapp.py\", line 252, in _bind_socket\n",
      "    return self._try_bind_socket(s, port)\n",
      "  File \"/opt/tljh/user/lib/python3.9/site-packages/ipykernel/kernelapp.py\", line 228, in _try_bind_socket\n",
      "    s.bind(\"tcp://%s:%i\" % (self.ip, port))\n",
      "  File \"/opt/tljh/user/lib/python3.9/site-packages/zmq/sugar/socket.py\", line 302, in bind\n",
      "    super().bind(addr)\n",
      "  File \"zmq/backend/cython/socket.pyx\", line 564, in zmq.backend.cython.socket.Socket.bind\n",
      "  File \"zmq/backend/cython/checkrc.pxd\", line 28, in zmq.backend.cython.checkrc._check_rc\n",
      "zmq.error.ZMQError: Address already in use (addr='tcp://127.0.0.1:60003')\n"
     ]
    },
    {
     "name": "stdout",
     "output_type": "stream",
     "text": [
      "/usr/bin/bcftools\n",
      "/usr/bin/samtools\n",
      "/usr/bin/awk\n"
     ]
    }
   ],
   "source": [
    "### data paths\n",
    "BAM=/davidData/users/thomas/workshop/CTauTzS_8872.Goat.bam\n",
    "GOODSITES=/davidData/users/thomas/workshop/Goat.siteQC.good.bed\n",
    "GOAT_REF=/davidData/users/thomas/workshop/goat.fa.gz\n",
    "HET=/davidData/users/thomas/workshop/het.roh.tsv\n",
    "\n",
    "### make sure required software is installed\n",
    "which bcftools\n",
    "which samtools\n",
    "which awk \n",
    "\n",
    "### make directory for the exercise\n",
    "mkdir -p ~/kenya2024/GeneticDiversity\n",
    "cd ~/kenya2024/GeneticDiversity\n"
   ]
  },
  {
   "cell_type": "markdown",
   "id": "6339a90c",
   "metadata": {
    "kernel": "Bash"
   },
   "source": [
    "Do you remember from earlier what a bam file contains? Try to look inside the BAM file we're going to be using as input by running the following:"
   ]
  },
  {
   "cell_type": "code",
   "execution_count": 2,
   "id": "1c1cb0e8",
   "metadata": {
    "kernel": "Bash",
    "scrolled": true
   },
   "outputs": [
    {
     "name": "stdout",
     "output_type": "stream",
     "text": [
      "M_FP200000259BRL1C033R0156515682\t0\tNC_030808.1\t219\t0\t77M\t*\t0\t0\tGCCTTAGGAAGCATTACTAATAAACTAGTGGAGGTGATAGAATTCCAGCTGAGCTATTTCAAATCCTAAAAGATGAT\tIIIIIIIHIIIIIIIHIIIIIIIIIIIIIIHIIIHHIIFIIIIIIIIIIIIHIIFIIHHIIIIGIIEHIIHIIIHIH\tNM:i:1\tMD:Z:55G21\tAS:i:72\tXS:i:72\tXA:Z:NC_030808.1,+41883292,77M,1;\tXP:i:1\tRG:Z:Library1-31CED9F4\n",
      "samtools view: writing to standard output failed: Broken pipe\n",
      "samtools view: error closing standard output: -1\n"
     ]
    }
   ],
   "source": [
    "samtools view $BAM | head -n1"
   ]
  },
  {
   "cell_type": "markdown",
   "id": "89b68d07",
   "metadata": {
    "kernel": "Bash"
   },
   "source": [
    "The line shown has the information for a single read, of which this file contains around 242 million."
   ]
  },
  {
   "cell_type": "markdown",
   "id": "62f3dde3",
   "metadata": {
    "kernel": "Bash"
   },
   "source": [
    "## Filtering\n",
    "Since we are using data that has not been filtered much and because this estimation depends a lot on correctly determining which sites are truly heterozygous, we will want to employ some filters on the mapped reads. Two of these are options given to bcftools below \"-Q 30  -q 25\" which tell the program to simply ignore bases in reads if their base calling quality score is below 30 and to ignore entire reads if their mapping quality score is below 25.\n",
    " - What is the difference between base calling quality score and mapping quality score?\n",
    " - What do values of 30 and 25 correspond to? (Hint: https://en.wikipedia.org/wiki/Phred_quality_score)\n",
    " \n",
    "Going through an entire genome and evaluating every single position takes time and processing power and so for the purposes of demonstration we will be using only a single chromosome, number 27 or \"NC_030834.1\" even though analysis in reality would be done on as much data as available to get the most accurate estimate. When running the filtering we even have to subset further down to just a million basepairs (position 30,000,000 to 31,000,000).\n",
    " - How large a portion of chromosome 27 is this subset of 1 million bases? What about compared to the whole genome? (Hint: Look here https://www.ncbi.nlm.nih.gov/datasets/genome/GCF_001704415.2/)\n",
    "\n",
    "We also set a minimum and maximum depth of sequencing for each site based on a rough rule of thumb of half the mean depth and double the mean depth, respectively. Sites outside these boundaries are likely to be artefacts of some kind, for example two very similar regions in the genome of the sampled species mapping to a single region in the reference. This means that we will have to estimate the mean depth of sequencing which can be done by first extracting the depth for every covered site with \"samtools depth\" and then piping this result into AWK to compute the mean."
   ]
  },
  {
   "cell_type": "code",
   "execution_count": 3,
   "id": "fd6ea996",
   "metadata": {
    "kernel": "Bash"
   },
   "outputs": [
    {
     "name": "stdout",
     "output_type": "stream",
     "text": [
      "Mean =  17.1806\n"
     ]
    }
   ],
   "source": [
    "### compute depth\n",
    "samtools depth $BAM -r NC_030834.1 |  awk '{sum+=$3} END { print \"Mean = \",sum/NR}'"
   ]
  },
  {
   "cell_type": "markdown",
   "id": "59b48d39",
   "metadata": {
    "kernel": "Bash"
   },
   "source": [
    "Genomes have a lot of various kinds of repeating sequences which make mapping tricky and thus makes the information about sites in such regions unreliable when using short read sequencing. One of the ways to identify these regions to be able to exclude them from analysis is with the tool RepeatMasker which in our case was used on the goat reference genome beforehand. This list of good sites can also be further supplemented by removing sites that otherwise look problematic for the reference. For example sites that generally have outlying mapping rates between multiple samples or more heterozygsity in common between multiple samples, than would be expected. The list can then be supplied to bcftools with the \"-T\" option.\n",
    "\n",
    "It looks like this inside:"
   ]
  },
  {
   "cell_type": "code",
   "execution_count": 4,
   "id": "7eeda483",
   "metadata": {
    "kernel": "Bash"
   },
   "outputs": [
    {
     "name": "stdout",
     "output_type": "stream",
     "text": [
      "NC_030808.1\t0\t21\n",
      "NC_030808.1\t132\t137\n",
      "NC_030808.1\t5948\t5950\n",
      "NC_030808.1\t5951\t5953\n",
      "NC_030808.1\t5954\t5956\n",
      "NC_030808.1\t5957\t6031\n",
      "NC_030808.1\t6033\t6057\n",
      "NC_030808.1\t6058\t6059\n",
      "NC_030808.1\t6064\t6090\n",
      "NC_030808.1\t6091\t6092\n"
     ]
    }
   ],
   "source": [
    "head $GOODSITES"
   ]
  },
  {
   "cell_type": "markdown",
   "id": "19a7c2c7",
   "metadata": {
    "kernel": "Bash"
   },
   "source": [
    "Now we do some of the initial filtering and call genotypes:"
   ]
  },
  {
   "cell_type": "code",
   "execution_count": 5,
   "id": "cc739072",
   "metadata": {
    "kernel": "Bash"
   },
   "outputs": [
    {
     "name": "stdout",
     "output_type": "stream",
     "text": [
      "Note: none of --samples-file, --ploidy or --ploidy-file given, assuming all sites are diploid\n",
      "[mpileup] 1 samples in 1 input files\n",
      "[mpileup] maximum number of reads per input file set to -d 250\n"
     ]
    }
   ],
   "source": [
    "### filtering\n",
    "bcftools mpileup --threads 10 --full-BAQ -r NC_030834.1:30000000-31000000 -T $GOODSITES -Q 30 -q 25 -O u \\\n",
    "    --fasta-ref $GOAT_REF --per-sample-mF -a FORMAT/AD,FORMAT/DP $BAM | \\\n",
    "    bcftools call -Ob -o CTauTzS_8872.filtered.bcf.gz --threads 10 -c"
   ]
  },
  {
   "cell_type": "markdown",
   "id": "933ee453",
   "metadata": {
    "kernel": "Bash"
   },
   "source": [
    "Next up we want to do some more filtering and fill out the tag \"AC\" in the bcf file which is short for allele count.\n",
    "The command to do this may look a bit scary, but if we break it down it shouldn't be too bad. In the first part, the expression after -i removes any sites where the reference or alternate allele are not a single base (non-SNP's), as well as any site where the number of reads covering it is less than half or more than double the mean depth of coverage. The next part removes any site that is called to be heterozygous which does not have at least two reads supporting either allele. The last part on the last line fills in the tag \"AC\" for the number of alternate alleles in the sites left over. "
   ]
  },
  {
   "cell_type": "code",
   "execution_count": 6,
   "id": "d89754f9",
   "metadata": {
    "kernel": "Bash"
   },
   "outputs": [],
   "source": [
    "### more filtering and filling AC tag\n",
    "bcftools view --threads 10 -i 'strlen(REF)==1 & (strlen(ALT)==1 || ALT=\".\") &  FMT/DP>=8 & FMT/DP<=34' \\\n",
    "    -M 2 -Ou CTauTzS_8872.filtered.bcf.gz | \\\n",
    "    bcftools view --threads 10 -i '(GT==\"het\" & FMT/AD[*:0]>=2 & FMT/AD[*:1]>=2 ) || GT==\"hom\"' | \\\n",
    "    bcftools +fill-tags /dev/stdin -Ob -o CTauTzS_8872.filtered.di_mono_allelic.bcf.gz -- -t AC"
   ]
  },
  {
   "cell_type": "markdown",
   "id": "579fb63e",
   "metadata": {
    "kernel": "Bash"
   },
   "source": [
    "Lets have a look at the resulting file (grep -v '^##' skips the header lines with metadata):"
   ]
  },
  {
   "cell_type": "code",
   "execution_count": 7,
   "id": "8783705f",
   "metadata": {
    "kernel": "Bash"
   },
   "outputs": [
    {
     "name": "stdout",
     "output_type": "stream",
     "text": [
      "grep: write error: Broken pipe\n",
      "[main_vcfview] Error: cannot write to (null)\n",
      "#CHROM       POS       ID  REF  ALT  QUAL     FILTER  INFO                                                                                                                                                          FORMAT       CTauTzS_8872\n",
      "NC_030834.1  30000000  .   C    .    65.9943  .       DP=13;FS=0;MQ0F=0;AF1=0;AC1=0;DP4=4,8,0,0;MQ=60;FQ=-62.9862                                                                                                   GT:PL:DP:AD  0/0:0:12:12\n",
      "NC_030834.1  30000001  .   T    .    68.9944  .       DP=13;FS=0;MQ0F=0;AF1=0;AC1=0;DP4=4,9,0,0;MQ=60;FQ=-65.9862                                                                                                   GT:PL:DP:AD  0/0:0:13:13\n",
      "NC_030834.1  30000002  .   C    .    68.9944  .       DP=14;FS=0;MQ0F=0;AF1=0;AC1=0;DP4=4,9,0,0;MQ=60;FQ=-65.9862                                                                                                   GT:PL:DP:AD  0/0:0:13:13\n",
      "NC_030834.1  30000003  .   T    .    65.9943  .       DP=14;FS=0;MQ0F=0;AF1=0;AC1=0;DP4=4,8,0,0;MQ=60;FQ=-62.9862                                                                                                   GT:PL:DP:AD  0/0:0:12:12\n",
      "NC_030834.1  30000004  .   T    .    68.9944  .       DP=14;FS=0;MQ0F=0;AF1=0;AC1=0;DP4=4,9,0,0;MQ=60;FQ=-65.9862                                                                                                   GT:PL:DP:AD  0/0:0:13:13\n",
      "NC_030834.1  30000005  .   T    .    68.9944  .       DP=13;FS=0;MQ0F=0;AF1=0;AC1=0;DP4=4,9,0,0;MQ=60;FQ=-65.9862                                                                                                   GT:PL:DP:AD  0/0:0:13:13\n",
      "NC_030834.1  30000006  .   G    .    68.9944  .       DP=13;FS=0;MQ0F=0;AF1=0;AC1=0;DP4=4,9,0,0;MQ=60;FQ=-65.9862                                                                                                   GT:PL:DP:AD  0/0:0:13:13\n",
      "NC_030834.1  30000007  .   A    .    65.9943  .       DP=13;FS=0;MQ0F=0;AF1=0;AC1=0;DP4=3,9,0,0;MQ=60;FQ=-62.9862                                                                                                   GT:PL:DP:AD  0/0:0:12:12\n",
      "NC_030834.1  30000008  .   G    .    68.9944  .       DP=13;FS=0;MQ0F=0;AF1=0;AC1=0;DP4=4,9,0,0;MQ=60;FQ=-65.9862                                                                                                   GT:PL:DP:AD  0/0:0:13:13\n",
      "NC_030834.1  30000009  .   G    .    65.9943  .       DP=13;FS=0;MQ0F=0;AF1=0;AC1=0;DP4=4,8,0,0;MQ=60;FQ=-62.9862                                                                                                   GT:PL:DP:AD  0/0:0:12:12\n",
      "NC_030834.1  30000010  .   T    .    68.9944  .       DP=13;FS=0;MQ0F=0;AF1=0;AC1=0;DP4=4,9,0,0;MQ=60;FQ=-65.9862                                                                                                   GT:PL:DP:AD  0/0:0:13:13\n",
      "NC_030834.1  30000011  .   A    .    62.9943  .       DP=13;FS=0;MQ0F=0;AF1=0;AC1=0;DP4=4,7,0,0;MQ=60;FQ=-59.9861                                                                                                   GT:PL:DP:AD  0/0:0:11:11\n",
      "NC_030834.1  30000012  .   C    .    65.9943  .       DP=13;FS=0;MQ0F=0;AF1=0;AC1=0;DP4=4,8,0,0;MQ=60;FQ=-62.9862                                                                                                   GT:PL:DP:AD  0/0:0:12:12\n",
      "NC_030834.1  30000013  .   C    .    65.9943  .       DP=13;FS=0;MQ0F=0;AF1=0;AC1=0;DP4=4,8,0,0;MQ=60;FQ=-62.9862                                                                                                   GT:PL:DP:AD  0/0:0:12:12\n",
      "NC_030834.1  30000014  .   A    .    68.9944  .       DP=13;FS=0;MQ0F=0;AF1=0;AC1=0;DP4=4,9,0,0;MQ=60;FQ=-65.9862                                                                                                   GT:PL:DP:AD  0/0:0:13:13\n",
      "NC_030834.1  30000015  .   G    .    68.9944  .       DP=13;FS=0;MQ0F=0;AF1=0;AC1=0;DP4=4,9,0,0;MQ=60;FQ=-65.9862                                                                                                   GT:PL:DP:AD  0/0:0:13:13\n",
      "NC_030834.1  30000016  .   C    .    65.9943  .       DP=12;FS=0;MQ0F=0;AF1=0;AC1=0;DP4=4,8,0,0;MQ=60;FQ=-62.9862                                                                                                   GT:PL:DP:AD  0/0:0:12:12\n",
      "NC_030834.1  30000017  .   T    .    65.9943  .       DP=12;FS=0;MQ0F=0;AF1=0;AC1=0;DP4=4,8,0,0;MQ=60;FQ=-62.9862                                                                                                   GT:PL:DP:AD  0/0:0:12:12\n",
      "NC_030834.1  30000018  .   A    .    62.9943  .       DP=12;FS=0;MQ0F=0;AF1=0;AC1=0;DP4=4,7,0,0;MQ=60;FQ=-59.9861                                                                                                   GT:PL:DP:AD  0/0:0:11:11\n",
      "NC_030834.1  30000019  .   T    .    68.9944  .       DP=13;FS=0;MQ0F=0;AF1=0;AC1=0;DP4=5,8,0,0;MQ=60;FQ=-65.9862                                                                                                   GT:PL:DP:AD  0/0:0:13:13\n",
      "NC_030834.1  30000020  .   G    .    68.9944  .       DP=13;FS=0;MQ0F=0;AF1=0;AC1=0;DP4=5,8,0,0;MQ=60;FQ=-65.9862                                                                                                   GT:PL:DP:AD  0/0:0:13:13\n",
      "NC_030834.1  30000021  .   C    .    68.9944  .       DP=14;FS=0;MQ0F=0;AF1=0;AC1=0;DP4=6,7,0,0;MQ=60;FQ=-65.9862                                                                                                   GT:PL:DP:AD  0/0:0:13:13\n",
      "NC_030834.1  30000022  .   T    .    68.9944  .       DP=14;FS=0;MQ0F=0;AF1=0;AC1=0;DP4=6,7,0,0;MQ=60;FQ=-65.9862                                                                                                   GT:PL:DP:AD  0/0:0:13:13\n",
      "NC_030834.1  30000023  .   T    .    65.9943  .       DP=14;FS=0;MQ0F=0;AF1=0;AC1=0;DP4=6,6,0,0;MQ=60;FQ=-62.9862                                                                                                   GT:PL:DP:AD  0/0:0:12:12\n",
      "NC_030834.1  30000024  .   C    .    71.9944  .       DP=15;FS=0;MQ0F=0;AF1=0;AC1=0;DP4=7,7,0,0;MQ=60;FQ=-68.9862                                                                                                   GT:PL:DP:AD  0/0:0:14:14\n",
      "NC_030834.1  30000025  .   T    .    71.9944  .       DP=15;FS=0;MQ0F=0;AF1=0;AC1=0;DP4=7,7,0,0;MQ=60;FQ=-68.9862                                                                                                   GT:PL:DP:AD  0/0:0:14:14\n",
      "NC_030834.1  30000026  .   T    .    71.9944  .       DP=14;FS=0;MQ0F=0;AF1=0;AC1=0;DP4=7,7,0,0;MQ=60;FQ=-68.9862                                                                                                   GT:PL:DP:AD  0/0:0:14:14\n",
      "NC_030834.1  30000027  .   T    .    71.9944  .       DP=14;FS=0;MQ0F=0;AF1=0;AC1=0;DP4=7,7,0,0;MQ=60;FQ=-68.9862                                                                                                   GT:PL:DP:AD  0/0:0:14:14\n",
      "NC_030834.1  30000028  .   T    .    65.9943  .       DP=14;FS=0;MQ0F=0;AF1=0;AC1=0;DP4=7,5,0,0;MQ=60;FQ=-62.9862                                                                                                   GT:PL:DP:AD  0/0:0:12:12\n",
      "NC_030834.1  30000029  .   G    .    71.9944  .       DP=15;FS=0;MQ0F=0;AF1=0;AC1=0;DP4=7,7,0,0;MQ=60;FQ=-68.9862                                                                                                   GT:PL:DP:AD  0/0:0:14:14\n",
      "NC_030834.1  30000030  .   T    .    77.9945  .       DP=16;FS=0;MQ0F=0;AF1=0;AC1=0;DP4=7,9,0,0;MQ=60;FQ=-74.9863                                                                                                   GT:PL:DP:AD  0/0:0:16:16\n",
      "NC_030834.1  30000031  .   G    .    74.9944  .       DP=16;FS=0;MQ0F=0;AF1=0;AC1=0;DP4=7,8,0,0;MQ=60;FQ=-71.9863                                                                                                   GT:PL:DP:AD  0/0:0:15:15\n",
      "NC_030834.1  30000032  .   T    .    71.9944  .       DP=16;FS=0;MQ0F=0;AF1=0;AC1=0;DP4=7,7,0,0;MQ=60;FQ=-68.9862                                                                                                   GT:PL:DP:AD  0/0:0:14:14\n",
      "NC_030834.1  30000033  .   C    .    71.9944  .       DP=16;FS=0;MQ0F=0;AF1=0;AC1=0;DP4=7,7,0,0;MQ=60;FQ=-68.9862                                                                                                   GT:PL:DP:AD  0/0:0:14:14\n",
      "NC_030834.1  30000034  .   A    .    77.9945  .       DP=17;FS=0;MQ0F=0;AF1=0;AC1=0;DP4=7,9,0,0;MQ=60;FQ=-74.9863                                                                                                   GT:PL:DP:AD  0/0:0:16:16\n",
      "NC_030834.1  30000035  .   G    .    80.9945  .       DP=17;FS=0;MQ0F=0;AF1=0;AC1=0;DP4=8,9,0,0;MQ=60;FQ=-77.9863                                                                                                   GT:PL:DP:AD  0/0:0:17:17\n",
      "NC_030834.1  30000036  .   C    .    71.9944  .       DP=17;FS=0;MQ0F=0;AF1=0;AC1=0;DP4=7,7,0,0;MQ=60;FQ=-68.9862                                                                                                   GT:PL:DP:AD  0/0:0:14:14\n",
      "NC_030834.1  30000037  .   A    .    71.9944  .       DP=16;FS=0;MQ0F=0;AF1=0;AC1=0;DP4=7,7,0,0;MQ=60;FQ=-68.9862                                                                                                   GT:PL:DP:AD  0/0:0:14:14\n",
      "NC_030834.1  30000038  .   T    .    80.9945  .       DP=17;FS=0;MQ0F=0;AF1=0;AC1=0;DP4=8,9,0,0;MQ=60;FQ=-77.9863                                                                                                   GT:PL:DP:AD  0/0:0:17:17\n",
      "NC_030834.1  30000039  .   C    .    77.9945  .       DP=17;FS=0;MQ0F=0;AF1=0;AC1=0;DP4=8,8,0,0;MQ=60;FQ=-74.9863                                                                                                   GT:PL:DP:AD  0/0:0:16:16\n",
      "NC_030834.1  30000040  .   T    .    80.9945  .       DP=18;FS=0;MQ0F=0;AF1=0;AC1=0;DP4=9,8,0,0;MQ=60;FQ=-77.9863                                                                                                   GT:PL:DP:AD  0/0:0:17:17\n",
      "NC_030834.1  30000041  .   A    .    77.9945  .       DP=18;FS=0;MQ0F=0;AF1=0;AC1=0;DP4=9,7,0,0;MQ=60;FQ=-74.9863                                                                                                   GT:PL:DP:AD  0/0:0:16:16\n",
      "NC_030834.1  30000042  .   A    .    77.9945  .       DP=18;FS=0;MQ0F=0;AF1=0;AC1=0;DP4=9,7,0,0;MQ=60;FQ=-74.9863                                                                                                   GT:PL:DP:AD  0/0:0:16:16\n",
      "NC_030834.1  30000043  .   T    .    74.9944  .       DP=18;FS=0;MQ0F=0;AF1=0;AC1=0;DP4=8,7,0,0;MQ=60;FQ=-71.9863                                                                                                   GT:PL:DP:AD  0/0:0:15:15\n",
      "NC_030834.1  30000044  .   C    .    71.9944  .       DP=18;FS=0;MQ0F=0;AF1=0;AC1=0;DP4=8,6,0,0;MQ=60;FQ=-68.9862                                                                                                   GT:PL:DP:AD  0/0:0:14:14\n",
      "NC_030834.1  30000045  .   C    .    77.9945  .       DP=18;FS=0;MQ0F=0;AF1=0;AC1=0;DP4=9,7,0,0;MQ=60;FQ=-74.9863                                                                                                   GT:PL:DP:AD  0/0:0:16:16\n",
      "NC_030834.1  30000046  .   T    .    77.9945  .       DP=18;FS=0;MQ0F=0;AF1=0;AC1=0;DP4=8,8,0,0;MQ=60;FQ=-74.9863                                                                                                   GT:PL:DP:AD  0/0:0:16:16\n",
      "NC_030834.1  30000047  .   T    .    86.9946  .       DP=19;FS=0;MQ0F=0;AF1=0;AC1=0;DP4=8,11,0,0;MQ=60;FQ=-83.9864                                                                                                  GT:PL:DP:AD  0/0:0:19:19\n",
      "NC_030834.1  30000048  .   G    .    80.9945  .       DP=19;FS=0;MQ0F=0;AF1=0;AC1=0;DP4=8,9,0,0;MQ=60;FQ=-77.9863                                                                                                   GT:PL:DP:AD  0/0:0:17:17\n",
      "NC_030834.1  30000049  .   G    .    80.9945  .       DP=19;FS=0;MQ0F=0;AF1=0;AC1=0;DP4=7,10,0,0;MQ=60;FQ=-77.9863                                                                                                  GT:PL:DP:AD  0/0:0:17:17\n",
      "NC_030834.1  30000050  .   A    .    74.9944  .       DP=19;FS=0;MQ0F=0;AF1=0;AC1=0;DP4=7,8,0,0;MQ=60;FQ=-71.9863                                                                                                   GT:PL:DP:AD  0/0:0:15:15\n",
      "NC_030834.1  30000051  .   C    .    80.9945  .       DP=19;FS=0;MQ0F=0;AF1=0;AC1=0;DP4=8,9,0,0;MQ=60;FQ=-77.9863                                                                                                   GT:PL:DP:AD  0/0:0:17:17\n",
      "NC_030834.1  30000052  .   A    .    80.9945  .       DP=19;FS=0;MQ0F=0;AF1=0;AC1=0;DP4=8,9,0,0;MQ=60;FQ=-77.9863                                                                                                   GT:PL:DP:AD  0/0:0:17:17\n",
      "NC_030834.1  30000053  .   G    .    86.9946  .       DP=19;FS=0;MQ0F=0;AF1=0;AC1=0;DP4=8,11,0,0;MQ=60;FQ=-83.9864                                                                                                  GT:PL:DP:AD  0/0:0:19:19\n",
      "NC_030834.1  30000054  .   T    .    80.9945  .       DP=20;FS=0;MQ0F=0;AF1=0;AC1=0;DP4=7,10,0,0;MQ=60;FQ=-77.9863                                                                                                  GT:PL:DP:AD  0/0:0:17:17\n",
      "NC_030834.1  30000055  .   C    .    80.9945  .       DP=20;FS=0;MQ0F=0;AF1=0;AC1=0;DP4=8,9,0,0;MQ=60;FQ=-77.9863                                                                                                   GT:PL:DP:AD  0/0:0:17:17\n",
      "NC_030834.1  30000056  .   T    .    86.9946  .       DP=20;FS=0;MQ0F=0;AF1=0;AC1=0;DP4=8,11,0,0;MQ=60;FQ=-83.9864                                                                                                  GT:PL:DP:AD  0/0:0:19:19\n",
      "NC_030834.1  30000057  .   G    .    92.9947  .       DP=21;FS=0;MQ0F=0;AF1=0;AC1=0;DP4=8,13,0,0;MQ=60;FQ=-89.9865                                                                                                  GT:PL:DP:AD  0/0:0:21:21\n",
      "NC_030834.1  30000058  .   A    .    83.9945  .       DP=20;FS=0;MQ0F=0;AF1=0;AC1=0;DP4=6,12,0,0;MQ=60;FQ=-80.9864                                                                                                  GT:PL:DP:AD  0/0:0:18:18\n",
      "NC_030834.1  30000059  .   G    .    86.9946  .       DP=20;FS=0;MQ0F=0;AF1=0;AC1=0;DP4=8,11,0,0;MQ=60;FQ=-83.9864                                                                                                  GT:PL:DP:AD  0/0:0:19:19\n",
      "NC_030834.1  30000060  .   T    .    89.9946  .       DP=21;FS=0;MQ0F=0;AF1=0;AC1=0;DP4=9,11,0,0;MQ=60;FQ=-86.9865                                                                                                  GT:PL:DP:AD  0/0:0:20:20\n",
      "NC_030834.1  30000061  .   T    .    92.9947  .       DP=21;FS=0;MQ0F=0;AF1=0;AC1=0;DP4=9,12,0,0;MQ=60;FQ=-89.9865                                                                                                  GT:PL:DP:AD  0/0:0:21:21\n",
      "NC_030834.1  30000062  .   C    .    86.9946  .       DP=21;FS=0;MQ0F=0;AF1=0;AC1=0;DP4=8,11,0,0;MQ=60;FQ=-83.9864                                                                                                  GT:PL:DP:AD  0/0:0:19:19\n",
      "NC_030834.1  30000063  .   T    .    89.9946  .       DP=21;FS=0;MQ0F=0;AF1=0;AC1=0;DP4=9,11,0,0;MQ=60;FQ=-86.9865                                                                                                  GT:PL:DP:AD  0/0:0:20:20\n",
      "NC_030834.1  30000064  .   A    .    92.9947  .       DP=21;FS=0;MQ0F=0;AF1=0;AC1=0;DP4=9,12,0,0;MQ=60;FQ=-89.9865                                                                                                  GT:PL:DP:AD  0/0:0:21:21\n",
      "NC_030834.1  30000065  .   C    .    92.9947  .       DP=21;FS=0;MQ0F=0;AF1=0;AC1=0;DP4=9,12,0,0;MQ=60;FQ=-89.9865                                                                                                  GT:PL:DP:AD  0/0:0:21:21\n",
      "NC_030834.1  30000066  .   T    .    92.9947  .       DP=21;FS=0;MQ0F=0;AF1=0;AC1=0;DP4=9,12,0,0;MQ=60;FQ=-89.9865                                                                                                  GT:PL:DP:AD  0/0:0:21:21\n",
      "NC_030834.1  30000067  .   G    .    92.9947  .       DP=21;FS=0;MQ0F=0;AF1=0;AC1=0;DP4=9,12,0,0;MQ=60;FQ=-89.9865                                                                                                  GT:PL:DP:AD  0/0:0:21:21\n",
      "NC_030834.1  30000068  .   A    .    89.9946  .       DP=21;FS=0;MQ0F=0;AF1=0;AC1=0;DP4=8,12,0,0;MQ=60;FQ=-86.9865                                                                                                  GT:PL:DP:AD  0/0:0:20:20\n",
      "NC_030834.1  30000069  .   G    .    89.9946  .       DP=21;FS=0;MQ0F=0;AF1=0;AC1=0;DP4=9,11,0,0;MQ=60;FQ=-86.9865                                                                                                  GT:PL:DP:AD  0/0:0:20:20\n",
      "NC_030834.1  30000070  .   C    .    86.9946  .       DP=21;FS=0;MQ0F=0;AF1=0;AC1=0;DP4=8,11,0,0;MQ=60;FQ=-83.9864                                                                                                  GT:PL:DP:AD  0/0:0:19:19\n",
      "NC_030834.1  30000071  .   G    A    221.999  .       DP=21;VDB=0.587319;SGB=-0.692352;FS=0;MQ0F=0;AF1=1;AC1=2;DP4=0,0,9,12;MQ=60;FQ=-89.9865;AC=2                                                                  GT:PL:DP:AD  1/1:255,63,0:21:0,21\n",
      "NC_030834.1  30000072  .   A    .    83.9945  .       DP=22;FS=0;MQ0F=0;AF1=0;AC1=0;DP4=8,10,0,0;MQ=60;FQ=-80.9864                                                                                                  GT:PL:DP:AD  0/0:0:18:18\n",
      "NC_030834.1  30000073  .   A    .    95.9947  .       DP=22;FS=0;MQ0F=0;AF1=0;AC1=0;DP4=9,13,0,0;MQ=60;FQ=-92.9865                                                                                                  GT:PL:DP:AD  0/0:0:22:22\n",
      "NC_030834.1  30000074  .   C    .    92.9947  .       DP=22;FS=0;MQ0F=0;AF1=0;AC1=0;DP4=9,12,0,0;MQ=60;FQ=-89.9865                                                                                                  GT:PL:DP:AD  0/0:0:21:21\n",
      "NC_030834.1  30000075  .   A    .    89.9946  .       DP=22;FS=0;MQ0F=0;AF1=0;AC1=0;DP4=9,11,0,0;MQ=60;FQ=-86.9865                                                                                                  GT:PL:DP:AD  0/0:0:20:20\n",
      "NC_030834.1  30000076  .   G    .    95.9947  .       DP=22;FS=0;MQ0F=0;AF1=0;AC1=0;DP4=9,13,0,0;MQ=60;FQ=-92.9865                                                                                                  GT:PL:DP:AD  0/0:0:22:22\n",
      "NC_030834.1  30000077  .   C    .    92.9947  .       DP=22;FS=0;MQ0F=0;AF1=0;AC1=0;DP4=9,12,0,0;MQ=60;FQ=-89.9865                                                                                                  GT:PL:DP:AD  0/0:0:21:21\n",
      "NC_030834.1  30000078  .   A    .    89.9946  .       DP=22;FS=0;MQ0F=0;AF1=0;AC1=0;DP4=8,12,0,0;MQ=60;FQ=-86.9865                                                                                                  GT:PL:DP:AD  0/0:0:20:20\n",
      "NC_030834.1  30000079  .   G    .    92.9947  .       DP=23;FS=0;MQ0F=0;AF1=0;AC1=0;DP4=8,13,0,0;MQ=60;FQ=-89.9865                                                                                                  GT:PL:DP:AD  0/0:0:21:21\n",
      "NC_030834.1  30000080  .   G    .    89.9946  .       DP=23;FS=0;MQ0F=0;AF1=0;AC1=0;DP4=7,13,0,0;MQ=60;FQ=-86.9865                                                                                                  GT:PL:DP:AD  0/0:0:20:20\n",
      "NC_030834.1  30000081  .   T    .    89.9946  .       DP=22;FS=0;MQ0F=0;AF1=0;AC1=0;DP4=8,12,0,0;MQ=60;FQ=-86.9865                                                                                                  GT:PL:DP:AD  0/0:0:20:20\n",
      "NC_030834.1  30000082  .   A    .    89.9946  .       DP=23;FS=0;MQ0F=0;AF1=0;AC1=0;DP4=10,10,0,0;MQ=60;FQ=-86.9865                                                                                                 GT:PL:DP:AD  0/0:0:20:20\n",
      "NC_030834.1  30000083  .   C    .    95.9947  .       DP=23;FS=0;MQ0F=0;AF1=0;AC1=0;DP4=10,12,0,0;MQ=60;FQ=-92.9865                                                                                                 GT:PL:DP:AD  0/0:0:22:22\n",
      "NC_030834.1  30000084  .   T    .    92.9947  .       DP=23;FS=0;MQ0F=0;AF1=0;AC1=0;DP4=9,12,0,0;MQ=60;FQ=-89.9865                                                                                                  GT:PL:DP:AD  0/0:0:21:21\n",
      "NC_030834.1  30000085  .   T    .    95.9947  .       DP=23;FS=0;MQ0F=0;AF1=0;AC1=0;DP4=10,12,0,0;MQ=60;FQ=-92.9865                                                                                                 GT:PL:DP:AD  0/0:0:22:22\n",
      "NC_030834.1  30000086  .   A    .    95.9947  .       DP=23;FS=0;MQ0F=0;AF1=0;AC1=0;DP4=10,12,0,0;MQ=60;FQ=-92.9865                                                                                                 GT:PL:DP:AD  0/0:0:22:22\n",
      "NC_030834.1  30000087  .   A    .    92.9947  .       DP=23;FS=0;MQ0F=0;AF1=0;AC1=0;DP4=10,11,0,0;MQ=60;FQ=-89.9865                                                                                                 GT:PL:DP:AD  0/0:0:21:21\n",
      "NC_030834.1  30000088  .   T    .    95.9947  .       DP=23;FS=0;MQ0F=0;AF1=0;AC1=0;DP4=10,12,0,0;MQ=60;FQ=-92.9865                                                                                                 GT:PL:DP:AD  0/0:0:22:22\n",
      "NC_030834.1  30000089  .   A    .    92.9947  .       DP=23;FS=0;MQ0F=0;AF1=0;AC1=0;DP4=9,12,0,0;MQ=60;FQ=-89.9865                                                                                                  GT:PL:DP:AD  0/0:0:21:21\n",
      "NC_030834.1  30000090  .   A    .    95.9947  .       DP=22;FS=0;MQ0F=0;AF1=0;AC1=0;DP4=9,13,0,0;MQ=60;FQ=-92.9865                                                                                                  GT:PL:DP:AD  0/0:0:22:22\n",
      "NC_030834.1  30000091  .   T    .    95.9947  .       DP=22;FS=0;MQ0F=0;AF1=0;AC1=0;DP4=9,13,0,0;MQ=60;FQ=-92.9865                                                                                                  GT:PL:DP:AD  0/0:0:22:22\n",
      "NC_030834.1  30000092  .   T    .    95.9947  .       DP=22;FS=0;MQ0F=0;AF1=0;AC1=0;DP4=9,13,0,0;MQ=60;FQ=-92.9865                                                                                                  GT:PL:DP:AD  0/0:0:22:22\n",
      "NC_030834.1  30000093  .   G    .    92.9947  .       DP=22;FS=0;MQ0F=0;AF1=0;AC1=0;DP4=9,12,0,0;MQ=60;FQ=-89.9865                                                                                                  GT:PL:DP:AD  0/0:0:21:21\n",
      "NC_030834.1  30000094  .   C    .    92.9947  .       DP=22;FS=0;MQ0F=0;AF1=0;AC1=0;DP4=9,12,0,0;MQ=60;FQ=-89.9865                                                                                                  GT:PL:DP:AD  0/0:0:21:21\n",
      "NC_030834.1  30000095  .   T    .    92.9947  .       DP=22;FS=0;MQ0F=0;AF1=0;AC1=0;DP4=9,12,0,0;MQ=60;FQ=-89.9865                                                                                                  GT:PL:DP:AD  0/0:0:21:21\n",
      "NC_030834.1  30000096  .   G    .    86.9946  .       DP=22;FS=0;MQ0F=0;AF1=0;AC1=0;DP4=9,10,0,0;MQ=60;FQ=-83.9864                                                                                                  GT:PL:DP:AD  0/0:0:19:19\n",
      "NC_030834.1  30000097  .   A    .    89.9946  .       DP=22;FS=0;MQ0F=0;AF1=0;AC1=0;DP4=9,11,0,0;MQ=60;FQ=-86.9865                                                                                                  GT:PL:DP:AD  0/0:0:20:20\n",
      "NC_030834.1  30000098  .   A    .    83.9945  .       DP=22;FS=0;MQ0F=0;AF1=0;AC1=0;DP4=8,10,0,0;MQ=60;FQ=-80.9864                                                                                                  GT:PL:DP:AD  0/0:0:18:18\n",
      "NC_030834.1  30000099  .   T    .    92.9947  .       DP=22;FS=0;MQ0F=0;AF1=0;AC1=0;DP4=9,12,0,0;MQ=60;FQ=-89.9865                                                                                                  GT:PL:DP:AD  0/0:0:21:21\n",
      "NC_030834.1  30000100  .   T    .    86.9946  .       DP=22;FS=0;MQ0F=0;AF1=0;AC1=0;DP4=8,11,0,0;MQ=60;FQ=-83.9864                                                                                                  GT:PL:DP:AD  0/0:0:19:19\n",
      "NC_030834.1  30000101  .   A    .    92.9947  .       DP=22;FS=0;MQ0F=0;AF1=0;AC1=0;DP4=9,12,0,0;MQ=60;FQ=-89.9865                                                                                                  GT:PL:DP:AD  0/0:0:21:21\n",
      "NC_030834.1  30000102  .   C    .    92.9947  .       DP=22;FS=0;MQ0F=0;AF1=0;AC1=0;DP4=8,13,0,0;MQ=60;FQ=-89.9865                                                                                                  GT:PL:DP:AD  0/0:0:21:21\n",
      "NC_030834.1  30000103  .   A    .    83.9945  .       DP=21;FS=0;MQ0F=0;AF1=0;AC1=0;DP4=8,10,0,0;MQ=60;FQ=-80.9864                                                                                                  GT:PL:DP:AD  0/0:0:18:18\n",
      "NC_030834.1  30000104  .   T    .    92.9947  .       DP=21;FS=0;MQ0F=0;AF1=0;AC1=0;DP4=9,12,0,0;MQ=60;FQ=-89.9865                                                                                                  GT:PL:DP:AD  0/0:0:21:21\n",
      "NC_030834.1  30000105  .   T    .    89.9946  .       DP=22;FS=0;MQ0F=0;AF1=0;AC1=0;DP4=9,11,0,0;MQ=60;FQ=-86.9865                                                                                                  GT:PL:DP:AD  0/0:0:20:20\n",
      "NC_030834.1  30000106  .   T    .    92.9947  .       DP=22;FS=0;MQ0F=0;AF1=0;AC1=0;DP4=9,12,0,0;MQ=60;FQ=-89.9865                                                                                                  GT:PL:DP:AD  0/0:0:21:21\n",
      "NC_030834.1  30000107  .   C    .    92.9947  .       DP=23;FS=0;MQ0F=0;AF1=0;AC1=0;DP4=9,12,0,0;MQ=60;FQ=-89.9865                                                                                                  GT:PL:DP:AD  0/0:0:21:21\n",
      "NC_030834.1  30000108  .   T    .    101.995  .       DP=24;FS=0;MQ0F=0;AF1=0;AC1=0;DP4=10,14,0,0;MQ=60;FQ=-98.9866                                                                                                 GT:PL:DP:AD  0/0:0:24:24\n",
      "NC_030834.1  30000109  .   T    .    98.9947  .       DP=24;FS=0;MQ0F=0;AF1=0;AC1=0;DP4=9,14,0,0;MQ=60;FQ=-95.9866                                                                                                  GT:PL:DP:AD  0/0:0:23:23\n",
      "NC_030834.1  30000110  .   G    .    98.9947  .       DP=24;FS=0;MQ0F=0;AF1=0;AC1=0;DP4=9,14,0,0;MQ=60;FQ=-95.9866                                                                                                  GT:PL:DP:AD  0/0:0:23:23\n",
      "NC_030834.1  30000111  .   C    .    95.9947  .       DP=24;FS=0;MQ0F=0;AF1=0;AC1=0;DP4=9,13,0,0;MQ=60;FQ=-92.9865                                                                                                  GT:PL:DP:AD  0/0:0:22:22\n",
      "NC_030834.1  30000112  .   C    .    95.9947  .       DP=24;FS=0;MQ0F=0;AF1=0;AC1=0;DP4=9,13,0,0;MQ=60;FQ=-92.9865                                                                                                  GT:PL:DP:AD  0/0:0:22:22\n",
      "NC_030834.1  30000113  .   C    .    95.9947  .       DP=24;FS=0;MQ0F=0;AF1=0;AC1=0;DP4=9,13,0,0;MQ=60;FQ=-92.9865                                                                                                  GT:PL:DP:AD  0/0:0:22:22\n",
      "NC_030834.1  30000114  .   A    .    89.9946  .       DP=23;FS=0;MQ0F=0;AF1=0;AC1=0;DP4=10,10,0,0;MQ=60;FQ=-86.9865                                                                                                 GT:PL:DP:AD  0/0:0:20:20\n",
      "NC_030834.1  30000115  .   C    .    95.9947  .       DP=23;FS=0;MQ0F=0;AF1=0;AC1=0;DP4=10,12,0,0;MQ=60;FQ=-92.9865                                                                                                 GT:PL:DP:AD  0/0:0:22:22\n",
      "NC_030834.1  30000116  .   A    .    95.9947  .       DP=23;FS=0;MQ0F=0;AF1=0;AC1=0;DP4=10,12,0,0;MQ=60;FQ=-92.9865                                                                                                 GT:PL:DP:AD  0/0:0:22:22\n",
      "NC_030834.1  30000117  .   T    .    95.9947  .       DP=23;FS=0;MQ0F=0;AF1=0;AC1=0;DP4=10,12,0,0;MQ=60;FQ=-92.9865                                                                                                 GT:PL:DP:AD  0/0:0:22:22\n",
      "NC_030834.1  30000118  .   T    .    98.9947  .       DP=23;FS=0;MQ0F=0;AF1=0;AC1=0;DP4=10,13,0,0;MQ=60;FQ=-95.9866                                                                                                 GT:PL:DP:AD  0/0:0:23:23\n",
      "NC_030834.1  30000119  .   A    .    92.9947  .       DP=24;FS=0;MQ0F=0;AF1=0;AC1=0;DP4=11,10,0,0;MQ=60;FQ=-89.9865                                                                                                 GT:PL:DP:AD  0/0:0:21:21\n",
      "NC_030834.1  30000120  .   C    .    98.9947  .       DP=24;FS=0;MQ0F=0;AF1=0;AC1=0;DP4=11,12,0,0;MQ=60;FQ=-95.9866                                                                                                 GT:PL:DP:AD  0/0:0:23:23\n",
      "NC_030834.1  30000121  .   T    .    95.9947  .       DP=23;FS=0;MQ0F=0;AF1=0;AC1=0;DP4=11,11,0,0;MQ=60;FQ=-92.9865                                                                                                 GT:PL:DP:AD  0/0:0:22:22\n",
      "NC_030834.1  30000122  .   G    .    95.9947  .       DP=23;FS=0;MQ0F=0;AF1=0;AC1=0;DP4=10,12,0,0;MQ=60;FQ=-92.9865                                                                                                 GT:PL:DP:AD  0/0:0:22:22\n",
      "NC_030834.1  30000123  .   A    .    95.9947  .       DP=23;FS=0;MQ0F=0;AF1=0;AC1=0;DP4=11,11,0,0;MQ=60;FQ=-92.9865                                                                                                 GT:PL:DP:AD  0/0:0:22:22\n",
      "NC_030834.1  30000124  .   G    .    98.9947  .       DP=23;FS=0;MQ0F=0;AF1=0;AC1=0;DP4=11,12,0,0;MQ=60;FQ=-95.9866                                                                                                 GT:PL:DP:AD  0/0:0:23:23\n",
      "NC_030834.1  30000125  .   A    .    95.9947  .       DP=23;FS=0;MQ0F=0;AF1=0;AC1=0;DP4=11,11,0,0;MQ=60;FQ=-92.9865                                                                                                 GT:PL:DP:AD  0/0:0:22:22\n",
      "NC_030834.1  30000126  .   T    .    95.9947  .       DP=23;FS=0;MQ0F=0;AF1=0;AC1=0;DP4=10,12,0,0;MQ=60;FQ=-92.9865                                                                                                 GT:PL:DP:AD  0/0:0:22:22\n",
      "NC_030834.1  30000127  .   A    .    98.9947  .       DP=23;FS=0;MQ0F=0;AF1=0;AC1=0;DP4=11,12,0,0;MQ=60;FQ=-95.9866                                                                                                 GT:PL:DP:AD  0/0:0:23:23\n",
      "NC_030834.1  30000128  .   A    .    86.9946  .       DP=23;FS=0;MQ0F=0;AF1=0;AC1=0;DP4=9,10,0,0;MQ=60;FQ=-83.9864                                                                                                  GT:PL:DP:AD  0/0:0:19:19\n",
      "NC_030834.1  30000129  .   T    .    95.9947  .       DP=23;FS=0;MQ0F=0;AF1=0;AC1=0;DP4=11,11,0,0;MQ=60;FQ=-92.9865                                                                                                 GT:PL:DP:AD  0/0:0:22:22\n",
      "NC_030834.1  30000130  .   T    .    86.9946  .       DP=23;FS=0;MQ0F=0;AF1=0;AC1=0;DP4=9,10,0,0;MQ=60;FQ=-83.9864                                                                                                  GT:PL:DP:AD  0/0:0:19:19\n",
      "NC_030834.1  30000131  .   C    .    95.9947  .       DP=23;FS=0;MQ0F=0;AF1=0;AC1=0;DP4=11,11,0,0;MQ=60;FQ=-92.9865                                                                                                 GT:PL:DP:AD  0/0:0:22:22\n",
      "NC_030834.1  30000132  .   A    .    98.9947  .       DP=23;FS=0;MQ0F=0;AF1=0;AC1=0;DP4=11,12,0,0;MQ=60;FQ=-95.9866                                                                                                 GT:PL:DP:AD  0/0:0:23:23\n",
      "NC_030834.1  30000133  .   G    .    95.9947  .       DP=23;FS=0;MQ0F=0;AF1=0;AC1=0;DP4=11,11,0,0;MQ=60;FQ=-92.9865                                                                                                 GT:PL:DP:AD  0/0:0:22:22\n",
      "NC_030834.1  30000134  .   G    .    89.9946  .       DP=23;FS=0;MQ0F=0;AF1=0;AC1=0;DP4=10,10,0,0;MQ=60;FQ=-86.9865                                                                                                 GT:PL:DP:AD  0/0:0:20:20\n",
      "NC_030834.1  30000135  .   G    .    89.9946  .       DP=23;FS=0;MQ0F=0;AF1=0;AC1=0;DP4=10,10,0,0;MQ=60;FQ=-86.9865                                                                                                 GT:PL:DP:AD  0/0:0:20:20\n",
      "NC_030834.1  30000136  .   C    .    98.9947  .       DP=23;FS=0;MQ0F=0;AF1=0;AC1=0;DP4=11,12,0,0;MQ=60;FQ=-95.9866                                                                                                 GT:PL:DP:AD  0/0:0:23:23\n",
      "NC_030834.1  30000137  .   A    .    89.9946  .       DP=22;FS=0;MQ0F=0;AF1=0;AC1=0;DP4=10,10,0,0;MQ=60;FQ=-86.9865                                                                                                 GT:PL:DP:AD  0/0:0:20:20\n",
      "NC_030834.1  30000138  .   G    .    89.9946  .       DP=22;FS=0;MQ0F=0;AF1=0;AC1=0;DP4=10,10,0,0;MQ=60;FQ=-86.9865                                                                                                 GT:PL:DP:AD  0/0:0:20:20\n",
      "NC_030834.1  30000139  .   T    .    89.9946  .       DP=22;FS=0;MQ0F=0;AF1=0;AC1=0;DP4=10,10,0,0;MQ=60;FQ=-86.9865                                                                                                 GT:PL:DP:AD  0/0:0:20:20\n",
      "NC_030834.1  30000140  .   C    .    83.9945  .       DP=22;FS=0;MQ0F=0;AF1=0;AC1=0;DP4=10,8,0,0;MQ=60;FQ=-80.9864                                                                                                  GT:PL:DP:AD  0/0:0:18:18\n",
      "NC_030834.1  30000141  .   C    .    92.9947  .       DP=22;FS=0;MQ0F=0;AF1=0;AC1=0;DP4=10,11,0,0;MQ=60;FQ=-89.9865                                                                                                 GT:PL:DP:AD  0/0:0:21:21\n",
      "NC_030834.1  30000142  .   A    .    95.9947  .       DP=22;FS=0;MQ0F=0;AF1=0;AC1=0;DP4=10,12,0,0;MQ=60;FQ=-92.9865                                                                                                 GT:PL:DP:AD  0/0:0:22:22\n",
      "NC_030834.1  30000143  .   G    .    92.9947  .       DP=22;FS=0;MQ0F=0;AF1=0;AC1=0;DP4=10,11,0,0;MQ=60;FQ=-89.9865                                                                                                 GT:PL:DP:AD  0/0:0:21:21\n",
      "NC_030834.1  30000144  .   T    .    89.9946  .       DP=22;FS=0;MQ0F=0;AF1=0;AC1=0;DP4=8,12,0,0;MQ=60;FQ=-86.9865                                                                                                  GT:PL:DP:AD  0/0:0:20:20\n",
      "NC_030834.1  30000145  .   G    .    92.9947  .       DP=22;FS=0;MQ0F=0;AF1=0;AC1=0;DP4=10,11,0,0;MQ=60;FQ=-89.9865                                                                                                 GT:PL:DP:AD  0/0:0:21:21\n",
      "NC_030834.1  30000146  .   A    .    95.9947  .       DP=22;FS=0;MQ0F=0;AF1=0;AC1=0;DP4=10,12,0,0;MQ=60;FQ=-92.9865                                                                                                 GT:PL:DP:AD  0/0:0:22:22\n",
      "NC_030834.1  30000147  .   A    .    95.9947  .       DP=22;FS=0;MQ0F=0;AF1=0;AC1=0;DP4=10,12,0,0;MQ=60;FQ=-92.9865                                                                                                 GT:PL:DP:AD  0/0:0:22:22\n",
      "NC_030834.1  30000148  .   A    .    89.9946  .       DP=22;FS=0;MQ0F=0;AF1=0;AC1=0;DP4=10,10,0,0;MQ=60;FQ=-86.9865                                                                                                 GT:PL:DP:AD  0/0:0:20:20\n",
      "NC_030834.1  30000149  .   A    .    95.9947  .       DP=22;FS=0;MQ0F=0;AF1=0;AC1=0;DP4=10,12,0,0;MQ=60;FQ=-92.9865                                                                                                 GT:PL:DP:AD  0/0:0:22:22\n",
      "NC_030834.1  30000150  .   T    .    92.9947  .       DP=22;FS=0;MQ0F=0;AF1=0;AC1=0;DP4=10,11,0,0;MQ=60;FQ=-89.9865                                                                                                 GT:PL:DP:AD  0/0:0:21:21\n",
      "NC_030834.1  30000151  .   T    .    89.9946  .       DP=22;FS=0;MQ0F=0;AF1=0;AC1=0;DP4=9,11,0,0;MQ=60;FQ=-86.9865                                                                                                  GT:PL:DP:AD  0/0:0:20:20\n",
      "NC_030834.1  30000152  .   G    .    89.9946  .       DP=21;FS=0;MQ0F=0;AF1=0;AC1=0;DP4=10,10,0,0;MQ=60;FQ=-86.9865                                                                                                 GT:PL:DP:AD  0/0:0:20:20\n",
      "NC_030834.1  30000153  .   G    .    89.9946  .       DP=21;FS=0;MQ0F=0;AF1=0;AC1=0;DP4=9,11,0,0;MQ=60;FQ=-86.9865                                                                                                  GT:PL:DP:AD  0/0:0:20:20\n",
      "NC_030834.1  30000154  .   G    .    89.9946  .       DP=21;FS=0;MQ0F=0;AF1=0;AC1=0;DP4=9,11,0,0;MQ=60;FQ=-86.9865                                                                                                  GT:PL:DP:AD  0/0:0:20:20\n",
      "NC_030834.1  30000155  .   C    .    89.9946  .       DP=21;FS=0;MQ0F=0;AF1=0;AC1=0;DP4=10,10,0,0;MQ=60;FQ=-86.9865                                                                                                 GT:PL:DP:AD  0/0:0:20:20\n",
      "NC_030834.1  30000156  .   T    .    89.9946  .       DP=21;FS=0;MQ0F=0;AF1=0;AC1=0;DP4=10,10,0,0;MQ=60;FQ=-86.9865                                                                                                 GT:PL:DP:AD  0/0:0:20:20\n",
      "NC_030834.1  30000157  .   G    .    92.9947  .       DP=21;FS=0;MQ0F=0;AF1=0;AC1=0;DP4=10,11,0,0;MQ=60;FQ=-89.9865                                                                                                 GT:PL:DP:AD  0/0:0:21:21\n",
      "NC_030834.1  30000158  .   C    .    89.9946  .       DP=21;FS=0;MQ0F=0;AF1=0;AC1=0;DP4=10,10,0,0;MQ=60;FQ=-86.9865                                                                                                 GT:PL:DP:AD  0/0:0:20:20\n",
      "NC_030834.1  30000159  .   A    .    89.9946  .       DP=22;FS=0;MQ0F=0;AF1=0;AC1=0;DP4=9,11,0,0;MQ=60;FQ=-86.9865                                                                                                  GT:PL:DP:AD  0/0:0:20:20\n",
      "NC_030834.1  30000160  .   G    .    92.9947  .       DP=22;FS=0;MQ0F=0;AF1=0;AC1=0;DP4=9,12,0,0;MQ=60;FQ=-89.9865                                                                                                  GT:PL:DP:AD  0/0:0:21:21\n",
      "NC_030834.1  30000161  .   A    .    92.9947  .       DP=22;FS=0;MQ0F=0;AF1=0;AC1=0;DP4=9,12,0,0;MQ=60;FQ=-89.9865                                                                                                  GT:PL:DP:AD  0/0:0:21:21\n",
      "NC_030834.1  30000162  .   T    .    77.9945  .       DP=22;FS=0;MQ0F=0;AF1=0;AC1=0;DP4=7,9,0,0;MQ=60;FQ=-74.9863                                                                                                   GT:PL:DP:AD  0/0:0:16:16\n",
      "NC_030834.1  30000163  .   C    .    95.9947  .       DP=23;FS=0;MQ0F=0;AF1=0;AC1=0;DP4=9,13,0,0;MQ=60;FQ=-92.9865                                                                                                  GT:PL:DP:AD  0/0:0:22:22\n",
      "NC_030834.1  30000164  .   T    .    86.9946  .       DP=23;FS=0;MQ0F=0;AF1=0;AC1=0;DP4=8,11,0,0;MQ=60;FQ=-83.9864                                                                                                  GT:PL:DP:AD  0/0:0:19:19\n",
      "NC_030834.1  30000165  .   A    .    95.9947  .       DP=23;FS=0;MQ0F=0;AF1=0;AC1=0;DP4=9,13,0,0;MQ=60;FQ=-92.9865                                                                                                  GT:PL:DP:AD  0/0:0:22:22\n",
      "NC_030834.1  30000166  .   G    .    92.9947  .       DP=23;FS=0;MQ0F=0;AF1=0;AC1=0;DP4=9,12,0,0;MQ=60;FQ=-89.9865                                                                                                  GT:PL:DP:AD  0/0:0:21:21\n",
      "NC_030834.1  30000167  .   T    .    92.9947  .       DP=23;FS=0;MQ0F=0;AF1=0;AC1=0;DP4=8,13,0,0;MQ=60;FQ=-89.9865                                                                                                  GT:PL:DP:AD  0/0:0:21:21\n",
      "NC_030834.1  30000168  .   G    .    95.9947  .       DP=23;FS=0;MQ0F=0;AF1=0;AC1=0;DP4=9,13,0,0;MQ=60;FQ=-92.9865                                                                                                  GT:PL:DP:AD  0/0:0:22:22\n",
      "NC_030834.1  30000169  .   A    .    95.9947  .       DP=22;FS=0;MQ0F=0;AF1=0;AC1=0;DP4=9,13,0,0;MQ=60;FQ=-92.9865                                                                                                  GT:PL:DP:AD  0/0:0:22:22\n",
      "NC_030834.1  30000170  .   G    .    86.9946  .       DP=22;FS=0;MQ0F=0;AF1=0;AC1=0;DP4=9,10,0,0;MQ=60;FQ=-83.9864                                                                                                  GT:PL:DP:AD  0/0:0:19:19\n",
      "NC_030834.1  30000171  .   A    .    89.9946  .       DP=22;FS=0;MQ0F=0;AF1=0;AC1=0;DP4=9,11,0,0;MQ=60;FQ=-86.9865                                                                                                  GT:PL:DP:AD  0/0:0:20:20\n",
      "NC_030834.1  30000172  .   T    .    95.9947  .       DP=22;FS=0;MQ0F=0;AF1=0;AC1=0;DP4=9,13,0,0;MQ=60;FQ=-92.9865                                                                                                  GT:PL:DP:AD  0/0:0:22:22\n",
      "NC_030834.1  30000173  .   T    .    92.9947  .       DP=22;FS=0;MQ0F=0;AF1=0;AC1=0;DP4=9,12,0,0;MQ=60;FQ=-89.9865                                                                                                  GT:PL:DP:AD  0/0:0:21:21\n",
      "NC_030834.1  30000174  .   T    .    92.9947  .       DP=22;FS=0;MQ0F=0;AF1=0;AC1=0;DP4=9,12,0,0;MQ=60;FQ=-89.9865                                                                                                  GT:PL:DP:AD  0/0:0:21:21\n",
      "NC_030834.1  30000175  .   C    A    221.999  .       DP=22;VDB=0.035655;SGB=-0.692352;FS=0;MQ0F=0;AF1=1;AC1=2;DP4=0,0,9,12;MQ=60;FQ=-89.9865;AC=2                                                                  GT:PL:DP:AD  1/1:255,63,0:21:0,21\n",
      "NC_030834.1  30000176  .   A    .    89.9946  .       DP=22;FS=0;MQ0F=0;AF1=0;AC1=0;DP4=9,11,0,0;MQ=60;FQ=-86.9865                                                                                                  GT:PL:DP:AD  0/0:0:20:20\n",
      "NC_030834.1  30000177  .   T    .    95.9947  .       DP=22;FS=0;MQ0F=0;AF1=0;AC1=0;DP4=9,13,0,0;MQ=60;FQ=-92.9865                                                                                                  GT:PL:DP:AD  0/0:0:22:22\n",
      "NC_030834.1  30000178  .   A    .    92.9947  .       DP=22;FS=0;MQ0F=0;AF1=0;AC1=0;DP4=9,12,0,0;MQ=60;FQ=-89.9865                                                                                                  GT:PL:DP:AD  0/0:0:21:21\n",
      "NC_030834.1  30000179  .   T    .    92.9947  .       DP=21;FS=0;MQ0F=0;AF1=0;AC1=0;DP4=9,12,0,0;MQ=60;FQ=-89.9865                                                                                                  GT:PL:DP:AD  0/0:0:21:21\n",
      "NC_030834.1  30000180  .   T    .    95.9947  .       DP=22;FS=0;MQ0F=0;AF1=0;AC1=0;DP4=10,12,0,0;MQ=60;FQ=-92.9865                                                                                                 GT:PL:DP:AD  0/0:0:22:22\n",
      "NC_030834.1  30000181  .   A    .    95.9947  .       DP=22;FS=0;MQ0F=0;AF1=0;AC1=0;DP4=10,12,0,0;MQ=60;FQ=-92.9865                                                                                                 GT:PL:DP:AD  0/0:0:22:22\n",
      "NC_030834.1  30000182  .   A    .    92.9947  .       DP=22;FS=0;MQ0F=0;AF1=0;AC1=0;DP4=10,11,0,0;MQ=60;FQ=-89.9865                                                                                                 GT:PL:DP:AD  0/0:0:21:21\n",
      "NC_030834.1  30000183  .   G    C    221.999  .       DP=22;VDB=0.0821172;SGB=-0.692352;FS=0;MQ0F=0;AF1=1;AC1=2;DP4=0,0,9,12;MQ=60;FQ=-89.9865;AC=2                                                                 GT:PL:DP:AD  1/1:255,63,0:21:0,21\n",
      "NC_030834.1  30000184  .   T    .    89.9946  .       DP=22;FS=0;MQ0F=0;AF1=0;AC1=0;DP4=9,11,0,0;MQ=60;FQ=-86.9865                                                                                                  GT:PL:DP:AD  0/0:0:20:20\n",
      "NC_030834.1  30000185  .   C    .    95.9947  .       DP=22;FS=0;MQ0F=0;AF1=0;AC1=0;DP4=10,12,0,0;MQ=60;FQ=-92.9865                                                                                                 GT:PL:DP:AD  0/0:0:22:22\n",
      "NC_030834.1  30000186  .   A    .    95.9947  .       DP=22;FS=0;MQ0F=0;AF1=0;AC1=0;DP4=10,12,0,0;MQ=60;FQ=-92.9865                                                                                                 GT:PL:DP:AD  0/0:0:22:22\n",
      "NC_030834.1  30000187  .   A    .    92.9947  .       DP=22;FS=0;MQ0F=0;AF1=0;AC1=0;DP4=9,12,0,0;MQ=60;FQ=-89.9865                                                                                                  GT:PL:DP:AD  0/0:0:21:21\n",
      "NC_030834.1  30000188  .   A    .    86.9946  .       DP=22;FS=0;MQ0F=0;AF1=0;AC1=0;DP4=9,10,0,0;MQ=60;FQ=-83.9864                                                                                                  GT:PL:DP:AD  0/0:0:19:19\n",
      "NC_030834.1  30000189  .   G    .    92.9947  .       DP=22;FS=0;MQ0F=0;AF1=0;AC1=0;DP4=10,11,0,0;MQ=60;FQ=-89.9865                                                                                                 GT:PL:DP:AD  0/0:0:21:21\n",
      "NC_030834.1  30000190  .   A    .    92.9947  .       DP=21;FS=0;MQ0F=0;AF1=0;AC1=0;DP4=9,12,0,0;MQ=60;FQ=-89.9865                                                                                                  GT:PL:DP:AD  0/0:0:21:21\n",
      "NC_030834.1  30000191  .   G    .    92.9947  .       DP=21;FS=0;MQ0F=0;AF1=0;AC1=0;DP4=9,12,0,0;MQ=60;FQ=-89.9865                                                                                                  GT:PL:DP:AD  0/0:0:21:21\n",
      "NC_030834.1  30000192  .   A    .    83.9945  .       DP=21;FS=0;MQ0F=0;AF1=0;AC1=0;DP4=8,10,0,0;MQ=60;FQ=-80.9864                                                                                                  GT:PL:DP:AD  0/0:0:18:18\n",
      "NC_030834.1  30000193  .   C    .    95.9947  .       DP=22;FS=0;MQ0F=0;AF1=0;AC1=0;DP4=9,13,0,0;MQ=60;FQ=-92.9865                                                                                                  GT:PL:DP:AD  0/0:0:22:22\n",
      "NC_030834.1  30000194  .   T    .    89.9946  .       DP=22;FS=0;MQ0F=0;AF1=0;AC1=0;DP4=7,13,0,0;MQ=60;FQ=-86.9865                                                                                                  GT:PL:DP:AD  0/0:0:20:20\n",
      "NC_030834.1  30000195  .   T    .    89.9946  .       DP=22;FS=0;MQ0F=0;AF1=0;AC1=0;DP4=7,13,0,0;MQ=60;FQ=-86.9865                                                                                                  GT:PL:DP:AD  0/0:0:20:20\n",
      "NC_030834.1  30000196  .   T    .    92.9947  .       DP=22;FS=0;MQ0F=0;AF1=0;AC1=0;DP4=8,13,0,0;MQ=60;FQ=-89.9865                                                                                                  GT:PL:DP:AD  0/0:0:21:21\n",
      "NC_030834.1  30000197  .   T    .    92.9947  .       DP=22;FS=0;MQ0F=0;AF1=0;AC1=0;DP4=9,12,0,0;MQ=60;FQ=-89.9865                                                                                                  GT:PL:DP:AD  0/0:0:21:21\n",
      "NC_030834.1  30000198  .   A    .    95.9947  .       DP=22;FS=0;MQ0F=0;AF1=0;AC1=0;DP4=9,13,0,0;MQ=60;FQ=-92.9865                                                                                                  GT:PL:DP:AD  0/0:0:22:22\n",
      "NC_030834.1  30000199  .   A    .    92.9947  .       DP=22;FS=0;MQ0F=0;AF1=0;AC1=0;DP4=8,13,0,0;MQ=60;FQ=-89.9865                                                                                                  GT:PL:DP:AD  0/0:0:21:21\n",
      "NC_030834.1  30000200  .   A    .    95.9947  .       DP=22;FS=0;MQ0F=0;AF1=0;AC1=0;DP4=9,13,0,0;MQ=60;FQ=-92.9865                                                                                                  GT:PL:DP:AD  0/0:0:22:22\n",
      "NC_030834.1  30000201  .   A    .    95.9947  .       DP=22;FS=0;MQ0F=0;AF1=0;AC1=0;DP4=9,13,0,0;MQ=60;FQ=-92.9865                                                                                                  GT:PL:DP:AD  0/0:0:22:22\n",
      "NC_030834.1  30000202  .   G    .    95.9947  .       DP=22;FS=0;MQ0F=0;AF1=0;AC1=0;DP4=9,13,0,0;MQ=60;FQ=-92.9865                                                                                                  GT:PL:DP:AD  0/0:0:22:22\n",
      "NC_030834.1  30000203  .   T    .    89.9946  .       DP=22;FS=0;MQ0F=0;AF1=0;AC1=0;DP4=9,11,0,0;MQ=60;FQ=-86.9865                                                                                                  GT:PL:DP:AD  0/0:0:20:20\n",
      "NC_030834.1  30000204  .   C    .    92.9947  .       DP=21;FS=0;MQ0F=0;AF1=0;AC1=0;DP4=9,12,0,0;MQ=60;FQ=-89.9865                                                                                                  GT:PL:DP:AD  0/0:0:21:21\n",
      "NC_030834.1  30000205  .   T    .    89.9946  .       DP=21;FS=0;MQ0F=0;AF1=0;AC1=0;DP4=9,11,0,0;MQ=60;FQ=-86.9865                                                                                                  GT:PL:DP:AD  0/0:0:20:20\n",
      "NC_030834.1  30000206  .   A    .    80.9945  .       DP=21;FS=0;MQ0F=0;AF1=0;AC1=0;DP4=8,9,0,0;MQ=60;FQ=-77.9863                                                                                                   GT:PL:DP:AD  0/0:0:17:17\n",
      "NC_030834.1  30000207  .   C    .    89.9946  .       DP=21;FS=0;MQ0F=0;AF1=0;AC1=0;DP4=8,12,0,0;MQ=60;FQ=-86.9865                                                                                                  GT:PL:DP:AD  0/0:0:20:20\n",
      "NC_030834.1  30000208  .   C    .    92.9947  .       DP=22;FS=0;MQ0F=0;AF1=0;AC1=0;DP4=8,13,0,0;MQ=60;FQ=-89.9865                                                                                                  GT:PL:DP:AD  0/0:0:21:21\n",
      "NC_030834.1  30000209  .   T    .    92.9947  .       DP=22;FS=0;MQ0F=0;AF1=0;AC1=0;DP4=8,13,0,0;MQ=60;FQ=-89.9865                                                                                                  GT:PL:DP:AD  0/0:0:21:21\n",
      "NC_030834.1  30000210  .   T    .    89.9946  .       DP=21;FS=0;MQ0F=0;AF1=0;AC1=0;DP4=7,13,0,0;MQ=60;FQ=-86.9865                                                                                                  GT:PL:DP:AD  0/0:0:20:20\n",
      "NC_030834.1  30000211  .   C    .    89.9946  .       DP=21;FS=0;MQ0F=0;AF1=0;AC1=0;DP4=8,12,0,0;MQ=60;FQ=-86.9865                                                                                                  GT:PL:DP:AD  0/0:0:20:20\n",
      "NC_030834.1  30000212  .   T    .    89.9946  .       DP=21;FS=0;MQ0F=0;AF1=0;AC1=0;DP4=7,13,0,0;MQ=60;FQ=-86.9865                                                                                                  GT:PL:DP:AD  0/0:0:20:20\n",
      "NC_030834.1  30000213  .   G    .    95.9947  .       DP=22;FS=0;MQ0F=0;AF1=0;AC1=0;DP4=9,13,0,0;MQ=60;FQ=-92.9865                                                                                                  GT:PL:DP:AD  0/0:0:22:22\n",
      "NC_030834.1  30000214  .   C    .    92.9947  .       DP=22;FS=0;MQ0F=0;AF1=0;AC1=0;DP4=9,12,0,0;MQ=60;FQ=-89.9865                                                                                                  GT:PL:DP:AD  0/0:0:21:21\n",
      "NC_030834.1  30000215  .   C    .    95.9947  .       DP=22;FS=0;MQ0F=0;AF1=0;AC1=0;DP4=9,13,0,0;MQ=60;FQ=-92.9865                                                                                                  GT:PL:DP:AD  0/0:0:22:22\n",
      "NC_030834.1  30000216  .   A    .    92.9947  .       DP=22;FS=0;MQ0F=0;AF1=0;AC1=0;DP4=9,12,0,0;MQ=60;FQ=-89.9865                                                                                                  GT:PL:DP:AD  0/0:0:21:21\n",
      "NC_030834.1  30000217  .   G    A    200.009  .       DP=21;VDB=0.810801;SGB=-0.676189;RPBZ=-0.0352318;BQBZ=-0.827456;FS=0;MQ0F=0;AF1=0.5;AC1=1;DP4=5,5,4,7;MQ=60;FQ=195.227;PV4=0.669921,0.280116,1,0.318209;AC=1  GT:PL:DP:AD  0/1:230,0,223:21:10,11\n",
      "NC_030834.1  30000218  .   T    .    92.9947  .       DP=21;FS=0;MQ0F=0;AF1=0;AC1=0;DP4=9,12,0,0;MQ=60;FQ=-89.9865                                                                                                  GT:PL:DP:AD  0/0:0:21:21\n",
      "NC_030834.1  30000219  .   T    .    92.9947  .       DP=21;FS=0;MQ0F=0;AF1=0;AC1=0;DP4=9,12,0,0;MQ=60;FQ=-89.9865                                                                                                  GT:PL:DP:AD  0/0:0:21:21\n",
      "NC_030834.1  30000220  .   T    .    86.9946  .       DP=21;FS=0;MQ0F=0;AF1=0;AC1=0;DP4=8,11,0,0;MQ=60;FQ=-83.9864                                                                                                  GT:PL:DP:AD  0/0:0:19:19\n",
      "NC_030834.1  30000221  .   T    .    83.9945  .       DP=21;FS=0;MQ0F=0;AF1=0;AC1=0;DP4=7,11,0,0;MQ=60;FQ=-80.9864                                                                                                  GT:PL:DP:AD  0/0:0:18:18\n",
      "NC_030834.1  30000222  .   C    .    92.9947  .       DP=21;FS=0;MQ0F=0;AF1=0;AC1=0;DP4=9,12,0,0;MQ=60;FQ=-89.9865                                                                                                  GT:PL:DP:AD  0/0:0:21:21\n",
      "NC_030834.1  30000223  .   C    .    92.9947  .       DP=21;FS=0;MQ0F=0;AF1=0;AC1=0;DP4=9,12,0,0;MQ=60;FQ=-89.9865                                                                                                  GT:PL:DP:AD  0/0:0:21:21\n",
      "NC_030834.1  30000224  .   A    .    92.9947  .       DP=21;FS=0;MQ0F=0;AF1=0;AC1=0;DP4=9,12,0,0;MQ=60;FQ=-89.9865                                                                                                  GT:PL:DP:AD  0/0:0:21:21\n",
      "NC_030834.1  30000225  .   G    .    92.9947  .       DP=21;FS=0;MQ0F=0;AF1=0;AC1=0;DP4=9,12,0,0;MQ=60;FQ=-89.9865                                                                                                  GT:PL:DP:AD  0/0:0:21:21\n",
      "NC_030834.1  30000226  .   G    .    86.9946  .       DP=21;FS=0;MQ0F=0;AF1=0;AC1=0;DP4=8,11,0,0;MQ=60;FQ=-83.9864                                                                                                  GT:PL:DP:AD  0/0:0:19:19\n",
      "NC_030834.1  30000227  .   A    .    89.9946  .       DP=21;FS=0;MQ0F=0;AF1=0;AC1=0;DP4=8,12,0,0;MQ=60;FQ=-86.9865                                                                                                  GT:PL:DP:AD  0/0:0:20:20\n",
      "NC_030834.1  30000228  .   A    .    92.9947  .       DP=21;FS=0;MQ0F=0;AF1=0;AC1=0;DP4=9,12,0,0;MQ=60;FQ=-89.9865                                                                                                  GT:PL:DP:AD  0/0:0:21:21\n",
      "NC_030834.1  30000229  .   A    .    92.9947  .       DP=21;FS=0;MQ0F=0;AF1=0;AC1=0;DP4=9,12,0,0;MQ=60;FQ=-89.9865                                                                                                  GT:PL:DP:AD  0/0:0:21:21\n",
      "NC_030834.1  30000230  .   T    .    92.9947  .       DP=21;FS=0;MQ0F=0;AF1=0;AC1=0;DP4=9,12,0,0;MQ=60;FQ=-89.9865                                                                                                  GT:PL:DP:AD  0/0:0:21:21\n",
      "NC_030834.1  30000231  .   G    .    92.9947  .       DP=22;FS=0;MQ0F=0;AF1=0;AC1=0;DP4=9,12,0,0;MQ=60;FQ=-89.9865                                                                                                  GT:PL:DP:AD  0/0:0:21:21\n",
      "NC_030834.1  30000232  .   T    .    89.9946  .       DP=22;FS=0;MQ0F=0;AF1=0;AC1=0;DP4=8,12,0,0;MQ=60;FQ=-86.9865                                                                                                  GT:PL:DP:AD  0/0:0:20:20\n",
      "NC_030834.1  30000233  .   A    .    92.9947  .       DP=22;FS=0;MQ0F=0;AF1=0;AC1=0;DP4=10,11,0,0;MQ=60;FQ=-89.9865                                                                                                 GT:PL:DP:AD  0/0:0:21:21\n",
      "NC_030834.1  30000234  .   A    .    92.9947  .       DP=22;FS=0;MQ0F=0;AF1=0;AC1=0;DP4=10,11,0,0;MQ=60;FQ=-89.9865                                                                                                 GT:PL:DP:AD  0/0:0:21:21\n",
      "NC_030834.1  30000235  .   C    .    89.9946  .       DP=21;FS=0;MQ0F=0;AF1=0;AC1=0;DP4=10,10,0,0;MQ=60;FQ=-86.9865                                                                                                 GT:PL:DP:AD  0/0:0:20:20\n",
      "NC_030834.1  30000236  .   T    .    86.9946  .       DP=21;FS=0;MQ0F=0;AF1=0;AC1=0;DP4=10,9,0,0;MQ=60;FQ=-83.9864                                                                                                  GT:PL:DP:AD  0/0:0:19:19\n",
      "NC_030834.1  30000237  .   T    .    89.9946  .       DP=21;FS=0;MQ0F=0;AF1=0;AC1=0;DP4=10,10,0,0;MQ=60;FQ=-86.9865                                                                                                 GT:PL:DP:AD  0/0:0:20:20\n",
      "NC_030834.1  30000258  .   G    .    77.9945  .       DP=16;FS=0;MQ0F=0;AF1=0;AC1=0;DP4=7,9,0,0;MQ=60;FQ=-74.9863                                                                                                   GT:PL:DP:AD  0/0:0:16:16\n",
      "NC_030834.1  30000259  .   T    .    74.9944  .       DP=16;FS=0;MQ0F=0;AF1=0;AC1=0;DP4=6,9,0,0;MQ=60;FQ=-71.9863                                                                                                   GT:PL:DP:AD  0/0:0:15:15\n",
      "NC_030834.1  30000260  .   A    .    71.9944  .       DP=15;FS=0;MQ0F=0;AF1=0;AC1=0;DP4=5,9,0,0;MQ=60;FQ=-68.9862                                                                                                   GT:PL:DP:AD  0/0:0:14:14\n",
      "NC_030834.1  30000261  .   T    .    74.9944  .       DP=16;FS=0;MQ0F=0;AF1=0;AC1=0;DP4=7,8,0,0;MQ=60;FQ=-71.9863                                                                                                   GT:PL:DP:AD  0/0:0:15:15\n",
      "NC_030834.1  30000262  .   C    .    77.9945  .       DP=16;FS=0;MQ0F=0;AF1=0;AC1=0;DP4=7,9,0,0;MQ=60;FQ=-74.9863                                                                                                   GT:PL:DP:AD  0/0:0:16:16\n",
      "NC_030834.1  30000263  .   T    .    77.9945  .       DP=16;FS=0;MQ0F=0;AF1=0;AC1=0;DP4=7,9,0,0;MQ=60;FQ=-74.9863                                                                                                   GT:PL:DP:AD  0/0:0:16:16\n",
      "NC_030834.1  30000264  .   G    .    77.9945  .       DP=16;FS=0;MQ0F=0;AF1=0;AC1=0;DP4=7,9,0,0;MQ=60;FQ=-74.9863                                                                                                   GT:PL:DP:AD  0/0:0:16:16\n",
      "NC_030834.1  30000265  .   A    .    77.9945  .       DP=16;FS=0;MQ0F=0;AF1=0;AC1=0;DP4=7,9,0,0;MQ=60;FQ=-74.9863                                                                                                   GT:PL:DP:AD  0/0:0:16:16\n",
      "NC_030834.1  30000266  .   T    .    77.9945  .       DP=16;FS=0;MQ0F=0;AF1=0;AC1=0;DP4=7,9,0,0;MQ=60;FQ=-74.9863                                                                                                   GT:PL:DP:AD  0/0:0:16:16\n",
      "NC_030834.1  30000267  .   A    .    77.9945  .       DP=17;FS=0;MQ0F=0;AF1=0;AC1=0;DP4=7,9,0,0;MQ=60;FQ=-74.9863                                                                                                   GT:PL:DP:AD  0/0:0:16:16\n",
      "NC_030834.1  30000268  .   T    .    77.9945  .       DP=17;FS=0;MQ0F=0;AF1=0;AC1=0;DP4=7,9,0,0;MQ=60;FQ=-74.9863                                                                                                   GT:PL:DP:AD  0/0:0:16:16\n",
      "NC_030834.1  30000269  .   A    .    80.9945  .       DP=17;FS=0;MQ0F=0;AF1=0;AC1=0;DP4=7,10,0,0;MQ=60;FQ=-77.9863                                                                                                  GT:PL:DP:AD  0/0:0:17:17\n",
      "NC_030834.1  30000270  .   G    .    80.9945  .       DP=17;FS=0;MQ0F=0;AF1=0;AC1=0;DP4=7,10,0,0;MQ=60;FQ=-77.9863                                                                                                  GT:PL:DP:AD  0/0:0:17:17\n",
      "NC_030834.1  30000271  .   A    .    77.9945  .       DP=17;FS=0;MQ0F=0;AF1=0;AC1=0;DP4=7,9,0,0;MQ=60;FQ=-74.9863                                                                                                   GT:PL:DP:AD  0/0:0:16:16\n",
      "NC_030834.1  30000272  .   A    .    77.9945  .       DP=17;FS=0;MQ0F=0;AF1=0;AC1=0;DP4=6,10,0,0;MQ=60;FQ=-74.9863                                                                                                  GT:PL:DP:AD  0/0:0:16:16\n",
      "NC_030834.1  30000273  .   G    .    80.9945  .       DP=17;FS=0;MQ0F=0;AF1=0;AC1=0;DP4=7,10,0,0;MQ=60;FQ=-77.9863                                                                                                  GT:PL:DP:AD  0/0:0:17:17\n",
      "NC_030834.1  30000274  .   A    .    77.9945  .       DP=17;FS=0;MQ0F=0;AF1=0;AC1=0;DP4=7,9,0,0;MQ=60;FQ=-74.9863                                                                                                   GT:PL:DP:AD  0/0:0:16:16\n",
      "NC_030834.1  30000275  .   G    .    77.9945  .       DP=17;FS=0;MQ0F=0;AF1=0;AC1=0;DP4=6,10,0,0;MQ=60;FQ=-74.9863                                                                                                  GT:PL:DP:AD  0/0:0:16:16\n",
      "NC_030834.1  30000276  .   T    .    77.9945  .       DP=17;FS=0;MQ0F=0;AF1=0;AC1=0;DP4=6,10,0,0;MQ=60;FQ=-74.9863                                                                                                  GT:PL:DP:AD  0/0:0:16:16\n",
      "NC_030834.1  30000277  .   A    .    77.9945  .       DP=17;FS=0;MQ0F=0;AF1=0;AC1=0;DP4=7,9,0,0;MQ=60;FQ=-74.9863                                                                                                   GT:PL:DP:AD  0/0:0:16:16\n",
      "NC_030834.1  30000278  .   G    .    74.9944  .       DP=16;FS=0;MQ0F=0;AF1=0;AC1=0;DP4=7,8,0,0;MQ=60;FQ=-71.9863                                                                                                   GT:PL:DP:AD  0/0:0:15:15\n",
      "NC_030834.1  30000279  .   T    .    71.9944  .       DP=16;FS=0;MQ0F=0;AF1=0;AC1=0;DP4=6,8,0,0;MQ=60;FQ=-68.9862                                                                                                   GT:PL:DP:AD  0/0:0:14:14\n",
      "NC_030834.1  30000280  .   T    .    77.9945  .       DP=16;FS=0;MQ0F=0;AF1=0;AC1=0;DP4=7,9,0,0;MQ=60;FQ=-74.9863                                                                                                   GT:PL:DP:AD  0/0:0:16:16\n",
      "NC_030834.1  30000281  .   G    .    74.9944  .       DP=16;FS=0;MQ0F=0;AF1=0;AC1=0;DP4=6,9,0,0;MQ=60;FQ=-71.9863                                                                                                   GT:PL:DP:AD  0/0:0:15:15\n",
      "NC_030834.1  30000282  .   C    .    42.9942  .       DP=16;SGB=-0.379885;RPBZ=-0.7615;BQBZ=-0.331801;FS=0;MQ0F=0;AF1=0;AC1=0;DP4=6,9,1,0;MQ=60;FQ=-39.9863;PV4=0.4375,0.368348,1,1                                 GT:PL:DP:AD  0/0:0:16:15\n",
      "NC_030834.1  30000283  .   C    .    74.9944  .       DP=16;FS=0;MQ0F=0;AF1=0;AC1=0;DP4=7,8,0,0;MQ=60;FQ=-71.9863                                                                                                   GT:PL:DP:AD  0/0:0:15:15\n",
      "NC_030834.1  30000284  .   A    .    74.9944  .       DP=17;FS=0;MQ0F=0;AF1=0;AC1=0;DP4=7,8,0,0;MQ=60;FQ=-71.9863                                                                                                   GT:PL:DP:AD  0/0:0:15:15\n",
      "NC_030834.1  30000285  .   G    .    77.9945  .       DP=17;FS=0;MQ0F=0;AF1=0;AC1=0;DP4=7,9,0,0;MQ=60;FQ=-74.9863                                                                                                   GT:PL:DP:AD  0/0:0:16:16\n",
      "NC_030834.1  30000286  .   T    .    74.9944  .       DP=17;FS=0;MQ0F=0;AF1=0;AC1=0;DP4=8,7,0,0;MQ=60;FQ=-71.9863                                                                                                   GT:PL:DP:AD  0/0:0:15:15\n",
      "NC_030834.1  30000287  .   T    .    77.9945  .       DP=16;FS=0;MQ0F=0;AF1=0;AC1=0;DP4=8,8,0,0;MQ=60;FQ=-74.9863                                                                                                   GT:PL:DP:AD  0/0:0:16:16\n",
      "NC_030834.1  30000288  .   C    .    74.9944  .       DP=15;FS=0;MQ0F=0;AF1=0;AC1=0;DP4=7,8,0,0;MQ=60;FQ=-71.9863                                                                                                   GT:PL:DP:AD  0/0:0:15:15\n",
      "NC_030834.1  30000289  .   T    .    65.9943  .       DP=14;FS=0;MQ0F=0;AF1=0;AC1=0;DP4=6,6,0,0;MQ=60;FQ=-62.9862                                                                                                   GT:PL:DP:AD  0/0:0:12:12\n",
      "NC_030834.1  30000290  .   C    .    68.9944  .       DP=14;FS=0;MQ0F=0;AF1=0;AC1=0;DP4=6,7,0,0;MQ=60;FQ=-65.9862                                                                                                   GT:PL:DP:AD  0/0:0:13:13\n",
      "NC_030834.1  30000291  .   T    .    68.9944  .       DP=14;FS=0;MQ0F=0;AF1=0;AC1=0;DP4=6,7,0,0;MQ=60;FQ=-65.9862                                                                                                   GT:PL:DP:AD  0/0:0:13:13\n",
      "NC_030834.1  30000292  .   C    .    65.9943  .       DP=14;FS=0;MQ0F=0;AF1=0;AC1=0;DP4=4,8,0,0;MQ=60;FQ=-62.9862                                                                                                   GT:PL:DP:AD  0/0:0:12:12\n",
      "NC_030834.1  30000293  .   C    .    68.9944  .       DP=13;FS=0;MQ0F=0;AF1=0;AC1=0;DP4=5,8,0,0;MQ=60;FQ=-65.9862                                                                                                   GT:PL:DP:AD  0/0:0:13:13\n",
      "NC_030834.1  30000294  .   T    .    68.9944  .       DP=13;FS=0;MQ0F=0;AF1=0;AC1=0;DP4=5,8,0,0;MQ=60;FQ=-65.9862                                                                                                   GT:PL:DP:AD  0/0:0:13:13\n",
      "NC_030834.1  30000295  .   A    .    68.9944  .       DP=13;FS=0;MQ0F=0;AF1=0;AC1=0;DP4=5,8,0,0;MQ=60;FQ=-65.9862                                                                                                   GT:PL:DP:AD  0/0:0:13:13\n",
      "NC_030834.1  30000296  .   A    .    68.9944  .       DP=13;FS=0;MQ0F=0;AF1=0;AC1=0;DP4=5,8,0,0;MQ=60;FQ=-65.9862                                                                                                   GT:PL:DP:AD  0/0:0:13:13\n",
      "NC_030834.1  30000297  .   C    .    62.9943  .       DP=13;FS=0;MQ0F=0;AF1=0;AC1=0;DP4=4,7,0,0;MQ=60;FQ=-59.9861                                                                                                   GT:PL:DP:AD  0/0:0:11:11\n",
      "NC_030834.1  30000298  .   T    .    68.9944  .       DP=13;FS=0;MQ0F=0;AF1=0;AC1=0;DP4=5,8,0,0;MQ=60;FQ=-65.9862                                                                                                   GT:PL:DP:AD  0/0:0:13:13\n",
      "NC_030834.1  30000299  .   T    .    71.9944  .       DP=14;FS=0;MQ0F=0;AF1=0;AC1=0;DP4=5,9,0,0;MQ=60;FQ=-68.9862                                                                                                   GT:PL:DP:AD  0/0:0:14:14\n",
      "NC_030834.1  30000300  .   C    .    71.9944  .       DP=14;FS=0;MQ0F=0;AF1=0;AC1=0;DP4=5,9,0,0;MQ=60;FQ=-68.9862                                                                                                   GT:PL:DP:AD  0/0:0:14:14\n",
      "NC_030834.1  30000301  .   A    .    68.9944  .       DP=14;FS=0;MQ0F=0;AF1=0;AC1=0;DP4=5,8,0,0;MQ=60;FQ=-65.9862                                                                                                   GT:PL:DP:AD  0/0:0:13:13\n",
      "NC_030834.1  30000302  .   T    .    65.9943  .       DP=14;FS=0;MQ0F=0;AF1=0;AC1=0;DP4=4,8,0,0;MQ=60;FQ=-62.9862                                                                                                   GT:PL:DP:AD  0/0:0:12:12\n",
      "NC_030834.1  30000303  .   A    .    68.9944  .       DP=14;FS=0;MQ0F=0;AF1=0;AC1=0;DP4=5,8,0,0;MQ=60;FQ=-65.9862                                                                                                   GT:PL:DP:AD  0/0:0:13:13\n",
      "NC_030834.1  30000304  .   C    .    65.9943  .       DP=13;FS=0;MQ0F=0;AF1=0;AC1=0;DP4=5,7,0,0;MQ=60;FQ=-62.9862                                                                                                   GT:PL:DP:AD  0/0:0:12:12\n",
      "NC_030834.1  30000305  .   T    G    140.008  .       DP=13;VDB=0.968566;SGB=-0.636426;RPBZ=-0.162684;BQBZ=-0.667334;FS=0;MQ0F=0;AF1=0.5;AC1=1;DP4=2,3,3,4;MQ=60;FQ=101.016;PV4=1,0.213013,1,0.082241;AC=1          GT:PL:DP:AD  0/1:170,0,128:12:5,7\n",
      "NC_030834.1  30000306  .   T    .    65.9943  .       DP=12;FS=0;MQ0F=0;AF1=0;AC1=0;DP4=5,7,0,0;MQ=60;FQ=-62.9862                                                                                                   GT:PL:DP:AD  0/0:0:12:12\n",
      "NC_030834.1  30000307  .   A    .    62.9943  .       DP=12;FS=0;MQ0F=0;AF1=0;AC1=0;DP4=5,6,0,0;MQ=60;FQ=-59.9861                                                                                                   GT:PL:DP:AD  0/0:0:11:11\n",
      "NC_030834.1  30000308  .   A    .    65.9943  .       DP=12;FS=0;MQ0F=0;AF1=0;AC1=0;DP4=5,7,0,0;MQ=60;FQ=-62.9862                                                                                                   GT:PL:DP:AD  0/0:0:12:12\n",
      "NC_030834.1  30000309  .   C    .    59.9942  .       DP=11;FS=0;MQ0F=0;AF1=0;AC1=0;DP4=5,5,0,0;MQ=60;FQ=-56.9861                                                                                                   GT:PL:DP:AD  0/0:0:10:10\n",
      "NC_030834.1  30000310  .   A    .    56.9942  .       DP=11;FS=0;MQ0F=0;AF1=0;AC1=0;DP4=4,5,0,0;MQ=60;FQ=-53.9861                                                                                                   GT:PL:DP:AD  0/0:0:9:9\n",
      "NC_030834.1  30000311  .   C    .    62.9943  .       DP=11;FS=0;MQ0F=0;AF1=0;AC1=0;DP4=5,6,0,0;MQ=60;FQ=-59.9861                                                                                                   GT:PL:DP:AD  0/0:0:11:11\n",
      "NC_030834.1  30000312  .   T    .    56.9942  .       DP=11;FS=0;MQ0F=0;AF1=0;AC1=0;DP4=5,4,0,0;MQ=60;FQ=-53.9861                                                                                                   GT:PL:DP:AD  0/0:0:9:9\n",
      "NC_030834.1  30000313  .   G    .    59.9942  .       DP=11;FS=0;MQ0F=0;AF1=0;AC1=0;DP4=5,5,0,0;MQ=60;FQ=-56.9861                                                                                                   GT:PL:DP:AD  0/0:0:10:10\n",
      "NC_030834.1  30000314  .   T    .    62.9943  .       DP=11;FS=0;MQ0F=0;AF1=0;AC1=0;DP4=5,6,0,0;MQ=60;FQ=-59.9861                                                                                                   GT:PL:DP:AD  0/0:0:11:11\n",
      "NC_030834.1  30000315  .   A    .    59.9942  .       DP=11;FS=0;MQ0F=0;AF1=0;AC1=0;DP4=5,5,0,0;MQ=60;FQ=-56.9861                                                                                                   GT:PL:DP:AD  0/0:0:10:10\n",
      "NC_030834.1  30000316  .   T    .    62.9943  .       DP=11;FS=0;MQ0F=0;AF1=0;AC1=0;DP4=5,6,0,0;MQ=60;FQ=-59.9861                                                                                                   GT:PL:DP:AD  0/0:0:11:11\n",
      "NC_030834.1  30000317  .   A    .    62.9943  .       DP=11;FS=0;MQ0F=0;AF1=0;AC1=0;DP4=5,6,0,0;MQ=60;FQ=-59.9861                                                                                                   GT:PL:DP:AD  0/0:0:11:11\n",
      "NC_030834.1  30000318  .   T    .    59.9942  .       DP=11;FS=0;MQ0F=0;AF1=0;AC1=0;DP4=5,5,0,0;MQ=60;FQ=-56.9861                                                                                                   GT:PL:DP:AD  0/0:0:10:10\n",
      "NC_030834.1  30000319  .   T    .    62.9943  .       DP=11;FS=0;MQ0F=0;AF1=0;AC1=0;DP4=5,6,0,0;MQ=60;FQ=-59.9861                                                                                                   GT:PL:DP:AD  0/0:0:11:11\n",
      "NC_030834.1  30000320  .   T    .    62.9943  .       DP=11;FS=0;MQ0F=0;AF1=0;AC1=0;DP4=5,6,0,0;MQ=60;FQ=-59.9861                                                                                                   GT:PL:DP:AD  0/0:0:11:11\n",
      "NC_030834.1  30000321  .   T    .    56.9942  .       DP=11;FS=0;MQ0F=0;AF1=0;AC1=0;DP4=5,4,0,0;MQ=60;FQ=-53.9861                                                                                                   GT:PL:DP:AD  0/0:0:9:9\n",
      "NC_030834.1  30000322  .   C    .    62.9943  .       DP=11;FS=0;MQ0F=0;AF1=0;AC1=0;DP4=5,6,0,0;MQ=60;FQ=-59.9861                                                                                                   GT:PL:DP:AD  0/0:0:11:11\n",
      "NC_030834.1  30000323  .   A    .    62.9943  .       DP=11;FS=0;MQ0F=0;AF1=0;AC1=0;DP4=5,6,0,0;MQ=60;FQ=-59.9861                                                                                                   GT:PL:DP:AD  0/0:0:11:11\n",
      "NC_030834.1  30000324  .   T    .    62.9943  .       DP=11;FS=0;MQ0F=0;AF1=0;AC1=0;DP4=5,6,0,0;MQ=60;FQ=-59.9861                                                                                                   GT:PL:DP:AD  0/0:0:11:11\n",
      "NC_030834.1  30000325  .   C    .    62.9943  .       DP=12;FS=0;MQ0F=0;AF1=0;AC1=0;DP4=5,6,0,0;MQ=60;FQ=-59.9861                                                                                                   GT:PL:DP:AD  0/0:0:11:11\n",
      "NC_030834.1  30000326  .   T    .    65.9943  .       DP=12;FS=0;MQ0F=0;AF1=0;AC1=0;DP4=5,7,0,0;MQ=60;FQ=-62.9862                                                                                                   GT:PL:DP:AD  0/0:0:12:12\n",
      "NC_030834.1  30000327  .   G    .    62.9943  .       DP=12;FS=0;MQ0F=0;AF1=0;AC1=0;DP4=4,7,0,0;MQ=60;FQ=-59.9861                                                                                                   GT:PL:DP:AD  0/0:0:11:11\n",
      "NC_030834.1  30000328  .   G    .    56.9942  .       DP=12;FS=0;MQ0F=0;AF1=0;AC1=0;DP4=3,6,0,0;MQ=60;FQ=-53.9861                                                                                                   GT:PL:DP:AD  0/0:0:9:9\n",
      "NC_030834.1  30000329  .   A    .    59.9942  .       DP=12;FS=0;MQ0F=0;AF1=0;AC1=0;DP4=3,7,0,0;MQ=60;FQ=-56.9861                                                                                                   GT:PL:DP:AD  0/0:0:10:10\n",
      "NC_030834.1  30000330  .   A    .    59.9942  .       DP=11;FS=0;MQ0F=0;AF1=0;AC1=0;DP4=3,7,0,0;MQ=60;FQ=-56.9861                                                                                                   GT:PL:DP:AD  0/0:0:10:10\n",
      "NC_030834.1  30000331  .   A    .    56.9942  .       DP=11;FS=0;MQ0F=0;AF1=0;AC1=0;DP4=3,6,0,0;MQ=60;FQ=-53.9861                                                                                                   GT:PL:DP:AD  0/0:0:9:9\n",
      "NC_030834.1  30000332  .   A    .    62.9943  .       DP=11;FS=0;MQ0F=0;AF1=0;AC1=0;DP4=4,7,0,0;MQ=60;FQ=-59.9861                                                                                                   GT:PL:DP:AD  0/0:0:11:11\n",
      "NC_030834.1  30000333  .   C    .    62.9943  .       DP=12;FS=0;MQ0F=0;AF1=0;AC1=0;DP4=4,7,0,0;MQ=60;FQ=-59.9861                                                                                                   GT:PL:DP:AD  0/0:0:11:11\n",
      "NC_030834.1  30000334  .   C    .    65.9943  .       DP=12;FS=0;MQ0F=0;AF1=0;AC1=0;DP4=5,7,0,0;MQ=60;FQ=-62.9862                                                                                                   GT:PL:DP:AD  0/0:0:12:12\n",
      "NC_030834.1  30000335  .   T    .    62.9943  .       DP=12;FS=0;MQ0F=0;AF1=0;AC1=0;DP4=5,6,0,0;MQ=60;FQ=-59.9861                                                                                                   GT:PL:DP:AD  0/0:0:11:11\n",
      "NC_030834.1  30000336  .   C    .    62.9943  .       DP=12;FS=0;MQ0F=0;AF1=0;AC1=0;DP4=5,6,0,0;MQ=60;FQ=-59.9861                                                                                                   GT:PL:DP:AD  0/0:0:11:11\n",
      "NC_030834.1  30000337  .   A    .    59.9942  .       DP=12;FS=0;MQ0F=0;AF1=0;AC1=0;DP4=4,6,0,0;MQ=60;FQ=-56.9861                                                                                                   GT:PL:DP:AD  0/0:0:10:10\n",
      "NC_030834.1  30000338  .   G    .    62.9943  .       DP=12;FS=0;MQ0F=0;AF1=0;AC1=0;DP4=4,7,0,0;MQ=60;FQ=-59.9861                                                                                                   GT:PL:DP:AD  0/0:0:11:11\n",
      "NC_030834.1  30000339  .   A    .    59.9942  .       DP=12;FS=0;MQ0F=0;AF1=0;AC1=0;DP4=4,6,0,0;MQ=60;FQ=-56.9861                                                                                                   GT:PL:DP:AD  0/0:0:10:10\n",
      "NC_030834.1  30000360  .   C    .    59.9942  .       DP=10;FS=0;MQ0F=0;AF1=0;AC1=0;DP4=6,4,0,0;MQ=60;FQ=-56.9861                                                                                                   GT:PL:DP:AD  0/0:0:10:10\n",
      "NC_030834.1  30000361  .   T    .    59.9942  .       DP=10;FS=0;MQ0F=0;AF1=0;AC1=0;DP4=6,4,0,0;MQ=60;FQ=-56.9861                                                                                                   GT:PL:DP:AD  0/0:0:10:10\n",
      "NC_030834.1  30000362  .   G    .    56.9942  .       DP=10;FS=0;MQ0F=0;AF1=0;AC1=0;DP4=5,4,0,0;MQ=60;FQ=-53.9861                                                                                                   GT:PL:DP:AD  0/0:0:9:9\n",
      "NC_030834.1  30000364  .   A    .    56.9942  .       DP=10;FS=0;MQ0F=0;AF1=0;AC1=0;DP4=6,3,0,0;MQ=60;FQ=-53.9861                                                                                                   GT:PL:DP:AD  0/0:0:9:9\n",
      "NC_030834.1  30000365  .   A    .    59.9942  .       DP=10;FS=0;MQ0F=0;AF1=0;AC1=0;DP4=6,4,0,0;MQ=60;FQ=-56.9861                                                                                                   GT:PL:DP:AD  0/0:0:10:10\n",
      "NC_030834.1  30000366  .   C    .    53.9942  .       DP=10;FS=0;MQ0F=0;AF1=0;AC1=0;DP4=5,3,0,0;MQ=60;FQ=-50.986                                                                                                    GT:PL:DP:AD  0/0:0:8:8\n",
      "NC_030834.1  30000367  .   T    .    53.9942  .       DP=10;FS=0;MQ0F=0;AF1=0;AC1=0;DP4=5,3,0,0;MQ=60;FQ=-50.986                                                                                                    GT:PL:DP:AD  0/0:0:8:8\n",
      "NC_030834.1  30000368  .   G    .    59.9942  .       DP=12;FS=0;MQ0F=0;AF1=0;AC1=0;DP4=6,4,0,0;MQ=60;FQ=-56.9861                                                                                                   GT:PL:DP:AD  0/0:0:10:10\n",
      "NC_030834.1  30000369  .   T    .    56.9942  .       DP=12;FS=0;MQ0F=0;AF1=0;AC1=0;DP4=6,3,0,0;MQ=60;FQ=-53.9861                                                                                                   GT:PL:DP:AD  0/0:0:9:9\n",
      "NC_030834.1  30000370  .   C    T    114.008  .       DP=12;VDB=0.0733923;SGB=-0.590765;RPBZ=0.244949;BQBZ=2.28192;FS=0;MQ0F=0;AF1=0.5;AC1=1;DP4=2,2,3,2;MQ=60;FQ=75.0153;PV4=1,1,1,1;AC=1                          GT:PL:DP:AD  0/1:144,0,102:9:4,5\n",
      "NC_030834.1  30000371  .   A    .    62.9943  .       DP=12;FS=0;MQ0F=0;AF1=0;AC1=0;DP4=8,3,0,0;MQ=60;FQ=-59.9861                                                                                                   GT:PL:DP:AD  0/0:0:11:11\n",
      "NC_030834.1  30000372  .   G    .    59.9942  .       DP=12;FS=0;MQ0F=0;AF1=0;AC1=0;DP4=6,4,0,0;MQ=60;FQ=-56.9861                                                                                                   GT:PL:DP:AD  0/0:0:10:10\n",
      "NC_030834.1  30000373  .   T    .    65.9943  .       DP=12;FS=0;MQ0F=0;AF1=0;AC1=0;DP4=8,4,0,0;MQ=60;FQ=-62.9862                                                                                                   GT:PL:DP:AD  0/0:0:12:12\n",
      "NC_030834.1  30000374  .   T    .    62.9943  .       DP=12;FS=0;MQ0F=0;AF1=0;AC1=0;DP4=7,4,0,0;MQ=60;FQ=-59.9861                                                                                                   GT:PL:DP:AD  0/0:0:11:11\n",
      "NC_030834.1  30000375  .   T    .    65.9943  .       DP=12;FS=0;MQ0F=0;AF1=0;AC1=0;DP4=8,4,0,0;MQ=60;FQ=-62.9862                                                                                                   GT:PL:DP:AD  0/0:0:12:12\n",
      "NC_030834.1  30000422  .   C    .    71.9944  .       DP=17;FS=0;MQ0F=0;AF1=0;AC1=0;DP4=9,5,0,0;MQ=60;FQ=-68.9862                                                                                                   GT:PL:DP:AD  0/0:0:14:14\n",
      "NC_030834.1  30000423  .   A    .    77.9945  .       DP=17;FS=0;MQ0F=0;AF1=0;AC1=0;DP4=9,7,0,0;MQ=60;FQ=-74.9863                                                                                                   GT:PL:DP:AD  0/0:0:16:16\n",
      "NC_030834.1  30000424  .   A    .    77.9945  .       DP=17;FS=0;MQ0F=0;AF1=0;AC1=0;DP4=9,7,0,0;MQ=60;FQ=-74.9863                                                                                                   GT:PL:DP:AD  0/0:0:16:16\n",
      "NC_030834.1  30000425  .   A    .    77.9945  .       DP=17;FS=0;MQ0F=0;AF1=0;AC1=0;DP4=10,6,0,0;MQ=60;FQ=-74.9863                                                                                                  GT:PL:DP:AD  0/0:0:16:16\n",
      "NC_030834.1  30000426  .   A    .    74.9944  .       DP=17;FS=0;MQ0F=0;AF1=0;AC1=0;DP4=9,6,0,0;MQ=60;FQ=-71.9863                                                                                                   GT:PL:DP:AD  0/0:0:15:15\n",
      "NC_030834.1  30000427  .   T    .    74.9944  .       DP=17;FS=0;MQ0F=0;AF1=0;AC1=0;DP4=8,7,0,0;MQ=60;FQ=-71.9863                                                                                                   GT:PL:DP:AD  0/0:0:15:15\n",
      "NC_030834.1  30000428  .   A    .    71.9944  .       DP=17;FS=0;MQ0F=0;AF1=0;AC1=0;DP4=9,5,0,0;MQ=60;FQ=-68.9862                                                                                                   GT:PL:DP:AD  0/0:0:14:14\n",
      "NC_030834.1  30000429  .   T    .    80.9945  .       DP=17;FS=0;MQ0F=0;AF1=0;AC1=0;DP4=10,7,0,0;MQ=60;FQ=-77.9863                                                                                                  GT:PL:DP:AD  0/0:0:17:17\n",
      "NC_030834.1  30000430  .   A    .    80.9945  .       DP=17;FS=0;MQ0F=0;AF1=0;AC1=0;DP4=10,7,0,0;MQ=60;FQ=-77.9863                                                                                                  GT:PL:DP:AD  0/0:0:17:17\n",
      "NC_030834.1  30000431  .   G    .    74.9944  .       DP=17;FS=0;MQ0F=0;AF1=0;AC1=0;DP4=8,7,0,0;MQ=60;FQ=-71.9863                                                                                                   GT:PL:DP:AD  0/0:0:15:15\n",
      "NC_030834.1  30000432  .   T    .    77.9945  .       DP=17;FS=0;MQ0F=0;AF1=0;AC1=0;DP4=10,6,0,0;MQ=60;FQ=-74.9863                                                                                                  GT:PL:DP:AD  0/0:0:16:16\n",
      "NC_030834.1  30000433  .   C    .    74.9944  .       DP=17;FS=0;MQ0F=0;AF1=0;AC1=0;DP4=9,6,0,0;MQ=60;FQ=-71.9863                                                                                                   GT:PL:DP:AD  0/0:0:15:15\n",
      "NC_030834.1  30000434  .   T    .    80.9945  .       DP=17;FS=0;MQ0F=0;AF1=0;AC1=0;DP4=10,7,0,0;MQ=60;FQ=-77.9863                                                                                                  GT:PL:DP:AD  0/0:0:17:17\n",
      "NC_030834.1  30000435  .   C    .    74.9944  .       DP=16;FS=0;MQ0F=0;AF1=0;AC1=0;DP4=9,6,0,0;MQ=60;FQ=-71.9863                                                                                                   GT:PL:DP:AD  0/0:0:15:15\n",
      "NC_030834.1  30000436  .   T    .    59.9942  .       DP=16;FS=0;MQ0F=0;AF1=0;AC1=0;DP4=5,5,0,0;MQ=60;FQ=-56.9861                                                                                                   GT:PL:DP:AD  0/0:0:10:10\n",
      "NC_030834.1  30000437  .   T    .    77.9945  .       DP=16;FS=0;MQ0F=0;AF1=0;AC1=0;DP4=9,7,0,0;MQ=60;FQ=-74.9863                                                                                                   GT:PL:DP:AD  0/0:0:16:16\n",
      "NC_030834.1  30000438  .   T    .    71.9944  .       DP=16;FS=0;MQ0F=0;AF1=0;AC1=0;DP4=7,7,0,0;MQ=60;FQ=-68.9862                                                                                                   GT:PL:DP:AD  0/0:0:14:14\n",
      "NC_030834.1  30000439  .   T    .    77.9945  .       DP=16;FS=0;MQ0F=0;AF1=0;AC1=0;DP4=9,7,0,0;MQ=60;FQ=-74.9863                                                                                                   GT:PL:DP:AD  0/0:0:16:16\n",
      "NC_030834.1  30000440  .   A    .    71.9944  .       DP=16;FS=0;MQ0F=0;AF1=0;AC1=0;DP4=9,5,0,0;MQ=60;FQ=-68.9862                                                                                                   GT:PL:DP:AD  0/0:0:14:14\n",
      "NC_030834.1  30000441  .   A    .    71.9944  .       DP=16;FS=0;MQ0F=0;AF1=0;AC1=0;DP4=8,6,0,0;MQ=60;FQ=-68.9862                                                                                                   GT:PL:DP:AD  0/0:0:14:14\n",
      "NC_030834.1  30000442  .   A    .    74.9944  .       DP=16;FS=0;MQ0F=0;AF1=0;AC1=0;DP4=8,7,0,0;MQ=60;FQ=-71.9863                                                                                                   GT:PL:DP:AD  0/0:0:15:15\n",
      "NC_030834.1  30000443  .   C    T    221.999  .       DP=16;VDB=0.585101;SGB=-0.688148;FS=0;MQ0F=0;AF1=1;AC1=2;DP4=0,0,8,7;MQ=60;FQ=-71.9863;AC=2                                                                   GT:PL:DP:AD  1/1:255,45,0:15:0,15\n",
      "NC_030834.1  30000444  .   T    .    74.9944  .       DP=16;FS=0;MQ0F=0;AF1=0;AC1=0;DP4=8,7,0,0;MQ=60;FQ=-71.9863                                                                                                   GT:PL:DP:AD  0/0:0:15:15\n",
      "NC_030834.1  30000445  .   T    .    77.9945  .       DP=16;FS=0;MQ0F=0;AF1=0;AC1=0;DP4=9,7,0,0;MQ=60;FQ=-74.9863                                                                                                   GT:PL:DP:AD  0/0:0:16:16\n",
      "NC_030834.1  30000446  .   T    .    74.9944  .       DP=16;FS=0;MQ0F=0;AF1=0;AC1=0;DP4=8,7,0,0;MQ=60;FQ=-71.9863                                                                                                   GT:PL:DP:AD  0/0:0:15:15\n",
      "NC_030834.1  30000447  .   A    .    74.9944  .       DP=17;FS=0;MQ0F=0;AF1=0;AC1=0;DP4=8,7,0,0;MQ=60;FQ=-71.9863                                                                                                   GT:PL:DP:AD  0/0:0:15:15\n",
      "NC_030834.1  30000448  .   A    .    77.9945  .       DP=17;FS=0;MQ0F=0;AF1=0;AC1=0;DP4=8,8,0,0;MQ=60;FQ=-74.9863                                                                                                   GT:PL:DP:AD  0/0:0:16:16\n",
      "NC_030834.1  30000449  .   T    .    80.9945  .       DP=17;FS=0;MQ0F=0;AF1=0;AC1=0;DP4=9,8,0,0;MQ=60;FQ=-77.9863                                                                                                   GT:PL:DP:AD  0/0:0:17:17\n",
      "NC_030834.1  30000450  .   A    .    74.9944  .       DP=17;FS=0;MQ0F=0;AF1=0;AC1=0;DP4=8,7,0,0;MQ=60;FQ=-71.9863                                                                                                   GT:PL:DP:AD  0/0:0:15:15\n",
      "NC_030834.1  30000451  .   T    .    74.9944  .       DP=17;FS=0;MQ0F=0;AF1=0;AC1=0;DP4=7,8,0,0;MQ=60;FQ=-71.9863                                                                                                   GT:PL:DP:AD  0/0:0:15:15\n",
      "NC_030834.1  30000452  .   T    .    80.9945  .       DP=17;FS=0;MQ0F=0;AF1=0;AC1=0;DP4=9,8,0,0;MQ=60;FQ=-77.9863                                                                                                   GT:PL:DP:AD  0/0:0:17:17\n",
      "NC_030834.1  30000453  .   T    .    80.9945  .       DP=17;FS=0;MQ0F=0;AF1=0;AC1=0;DP4=9,8,0,0;MQ=60;FQ=-77.9863                                                                                                   GT:PL:DP:AD  0/0:0:17:17\n",
      "NC_030834.1  30000454  .   G    .    80.9945  .       DP=17;FS=0;MQ0F=0;AF1=0;AC1=0;DP4=9,8,0,0;MQ=60;FQ=-77.9863                                                                                                   GT:PL:DP:AD  0/0:0:17:17\n",
      "NC_030834.1  30000455  .   T    .    80.9945  .       DP=17;FS=0;MQ0F=0;AF1=0;AC1=0;DP4=9,8,0,0;MQ=60;FQ=-77.9863                                                                                                   GT:PL:DP:AD  0/0:0:17:17\n",
      "NC_030834.1  30000456  .   A    .    74.9944  .       DP=17;FS=0;MQ0F=0;AF1=0;AC1=0;DP4=7,8,0,0;MQ=60;FQ=-71.9863                                                                                                   GT:PL:DP:AD  0/0:0:15:15\n",
      "NC_030834.1  30000457  .   A    .    68.9944  .       DP=17;FS=0;MQ0F=0;AF1=0;AC1=0;DP4=8,5,0,0;MQ=60;FQ=-65.9862                                                                                                   GT:PL:DP:AD  0/0:0:13:13\n",
      "NC_030834.1  30000458  .   T    .    80.9945  .       DP=17;FS=0;MQ0F=0;AF1=0;AC1=0;DP4=9,8,0,0;MQ=60;FQ=-77.9863                                                                                                   GT:PL:DP:AD  0/0:0:17:17\n",
      "NC_030834.1  30000459  .   T    .    74.9944  .       DP=17;FS=0;MQ0F=0;AF1=0;AC1=0;DP4=8,7,0,0;MQ=60;FQ=-71.9863                                                                                                   GT:PL:DP:AD  0/0:0:15:15\n",
      "NC_030834.1  30000460  .   A    .    77.9945  .       DP=17;FS=0;MQ0F=0;AF1=0;AC1=0;DP4=8,8,0,0;MQ=60;FQ=-74.9863                                                                                                   GT:PL:DP:AD  0/0:0:16:16\n",
      "NC_030834.1  30000461  .   C    .    77.9945  .       DP=17;FS=0;MQ0F=0;AF1=0;AC1=0;DP4=8,8,0,0;MQ=60;FQ=-74.9863                                                                                                   GT:PL:DP:AD  0/0:0:16:16\n",
      "NC_030834.1  30000462  .   A    .    71.9944  .       DP=17;FS=0;MQ0F=0;AF1=0;AC1=0;DP4=9,5,0,0;MQ=60;FQ=-68.9862                                                                                                   GT:PL:DP:AD  0/0:0:14:14\n",
      "NC_030834.1  30000463  .   C    .    80.9945  .       DP=17;FS=0;MQ0F=0;AF1=0;AC1=0;DP4=9,8,0,0;MQ=60;FQ=-77.9863                                                                                                   GT:PL:DP:AD  0/0:0:17:17\n",
      "NC_030834.1  30000464  .   T    .    80.9945  .       DP=17;FS=0;MQ0F=0;AF1=0;AC1=0;DP4=9,8,0,0;MQ=60;FQ=-77.9863                                                                                                   GT:PL:DP:AD  0/0:0:17:17\n",
      "NC_030834.1  30000465  .   T    .    80.9945  .       DP=18;FS=0;MQ0F=0;AF1=0;AC1=0;DP4=9,8,0,0;MQ=60;FQ=-77.9863                                                                                                   GT:PL:DP:AD  0/0:0:17:17\n",
      "NC_030834.1  30000466  .   A    .    74.9944  .       DP=18;FS=0;MQ0F=0;AF1=0;AC1=0;DP4=8,7,0,0;MQ=60;FQ=-71.9863                                                                                                   GT:PL:DP:AD  0/0:0:15:15\n",
      "NC_030834.1  30000467  .   C    .    80.9945  .       DP=18;FS=0;MQ0F=0;AF1=0;AC1=0;DP4=8,9,0,0;MQ=60;FQ=-77.9863                                                                                                   GT:PL:DP:AD  0/0:0:17:17\n",
      "NC_030834.1  30000468  .   T    .    80.9945  .       DP=18;FS=0;MQ0F=0;AF1=0;AC1=0;DP4=8,9,0,0;MQ=60;FQ=-77.9863                                                                                                   GT:PL:DP:AD  0/0:0:17:17\n",
      "NC_030834.1  30000469  .   C    .    80.9945  .       DP=18;FS=0;MQ0F=0;AF1=0;AC1=0;DP4=8,9,0,0;MQ=60;FQ=-77.9863                                                                                                   GT:PL:DP:AD  0/0:0:17:17\n",
      "NC_030834.1  30000470  .   A    .    71.9944  .       DP=18;FS=0;MQ0F=0;AF1=0;AC1=0;DP4=7,7,0,0;MQ=60;FQ=-68.9862                                                                                                   GT:PL:DP:AD  0/0:0:14:14\n",
      "NC_030834.1  30000471  .   T    .    77.9945  .       DP=17;FS=0;MQ0F=0;AF1=0;AC1=0;DP4=9,7,0,0;MQ=60;FQ=-74.9863                                                                                                   GT:PL:DP:AD  0/0:0:16:16\n",
      "NC_030834.1  30000472  .   C    .    74.9944  .       DP=18;FS=0;MQ0F=0;AF1=0;AC1=0;DP4=9,6,0,0;MQ=60;FQ=-71.9863                                                                                                   GT:PL:DP:AD  0/0:0:15:15\n",
      "NC_030834.1  30000473  .   C    .    80.9945  .       DP=18;FS=0;MQ0F=0;AF1=0;AC1=0;DP4=9,8,0,0;MQ=60;FQ=-77.9863                                                                                                   GT:PL:DP:AD  0/0:0:17:17\n",
      "NC_030834.1  30000474  .   C    .    80.9945  .       DP=18;FS=0;MQ0F=0;AF1=0;AC1=0;DP4=10,7,0,0;MQ=60;FQ=-77.9863                                                                                                  GT:PL:DP:AD  0/0:0:17:17\n",
      "NC_030834.1  30000475  .   C    .    74.9944  .       DP=18;FS=0;MQ0F=0;AF1=0;AC1=0;DP4=9,6,0,0;MQ=60;FQ=-71.9863                                                                                                   GT:PL:DP:AD  0/0:0:15:15\n",
      "NC_030834.1  30000476  .   A    .    77.9945  .       DP=18;FS=0;MQ0F=0;AF1=0;AC1=0;DP4=9,7,0,0;MQ=60;FQ=-74.9863                                                                                                   GT:PL:DP:AD  0/0:0:16:16\n",
      "NC_030834.1  30000477  .   T    .    77.9945  .       DP=18;FS=0;MQ0F=0;AF1=0;AC1=0;DP4=9,7,0,0;MQ=60;FQ=-74.9863                                                                                                   GT:PL:DP:AD  0/0:0:16:16\n",
      "NC_030834.1  30000478  .   T    .    80.9945  .       DP=18;FS=0;MQ0F=0;AF1=0;AC1=0;DP4=10,7,0,0;MQ=60;FQ=-77.9863                                                                                                  GT:PL:DP:AD  0/0:0:17:17\n",
      "NC_030834.1  30000479  .   T    .    74.9944  .       DP=18;FS=0;MQ0F=0;AF1=0;AC1=0;DP4=9,6,0,0;MQ=60;FQ=-71.9863                                                                                                   GT:PL:DP:AD  0/0:0:15:15\n",
      "NC_030834.1  30000480  .   C    .    74.9944  .       DP=18;FS=0;MQ0F=0;AF1=0;AC1=0;DP4=8,7,0,0;MQ=60;FQ=-71.9863                                                                                                   GT:PL:DP:AD  0/0:0:15:15\n",
      "NC_030834.1  30000481  .   C    G    155.008  .       DP=19;VDB=0.86385;SGB=-0.651104;RPBZ=0.723018;BQBZ=0.734864;FS=0;MQ0F=0;AF1=0.5;AC1=1;DP4=4,5,5,3;MQ=60;FQ=157.973;PV4=0.637186,1,1,0.185256;AC=1             GT:PL:DP:AD  0/1:185,0,205:17:9,8\n",
      "NC_030834.1  30000482  .   A    .    77.9945  .       DP=19;FS=0;MQ0F=0;AF1=0;AC1=0;DP4=8,8,0,0;MQ=60;FQ=-74.9863                                                                                                   GT:PL:DP:AD  0/0:0:16:16\n",
      "NC_030834.1  30000483  .   G    .    77.9945  .       DP=19;FS=0;MQ0F=0;AF1=0;AC1=0;DP4=8,8,0,0;MQ=60;FQ=-74.9863                                                                                                   GT:PL:DP:AD  0/0:0:16:16\n",
      "NC_030834.1  30000484  .   A    .    71.9944  .       DP=18;FS=0;MQ0F=0;AF1=0;AC1=0;DP4=8,6,0,0;MQ=60;FQ=-68.9862                                                                                                   GT:PL:DP:AD  0/0:0:14:14\n",
      "NC_030834.1  30000485  .   C    .    77.9945  .       DP=18;FS=0;MQ0F=0;AF1=0;AC1=0;DP4=7,9,0,0;MQ=60;FQ=-74.9863                                                                                                   GT:PL:DP:AD  0/0:0:16:16\n",
      "NC_030834.1  30000486  .   A    .    80.9945  .       DP=18;FS=0;MQ0F=0;AF1=0;AC1=0;DP4=8,9,0,0;MQ=60;FQ=-77.9863                                                                                                   GT:PL:DP:AD  0/0:0:17:17\n",
      "NC_030834.1  30000487  .   T    .    80.9945  .       DP=19;FS=0;MQ0F=0;AF1=0;AC1=0;DP4=9,8,0,0;MQ=60;FQ=-77.9863                                                                                                   GT:PL:DP:AD  0/0:0:17:17\n",
      "NC_030834.1  30000488  .   A    .    80.9945  .       DP=18;FS=0;MQ0F=0;AF1=0;AC1=0;DP4=9,8,0,0;MQ=60;FQ=-77.9863                                                                                                   GT:PL:DP:AD  0/0:0:17:17\n",
      "NC_030834.1  30000489  .   T    .    80.9945  .       DP=18;FS=0;MQ0F=0;AF1=0;AC1=0;DP4=9,8,0,0;MQ=60;FQ=-77.9863                                                                                                   GT:PL:DP:AD  0/0:0:17:17\n",
      "NC_030834.1  30000490  .   A    .    83.9945  .       DP=18;FS=0;MQ0F=0;AF1=0;AC1=0;DP4=10,8,0,0;MQ=60;FQ=-80.9864                                                                                                  GT:PL:DP:AD  0/0:0:18:18\n",
      "NC_030834.1  30000491  .   A    .    77.9945  .       DP=18;FS=0;MQ0F=0;AF1=0;AC1=0;DP4=9,7,0,0;MQ=60;FQ=-74.9863                                                                                                   GT:PL:DP:AD  0/0:0:16:16\n",
      "NC_030834.1  30000492  .   C    .    83.9945  .       DP=18;FS=0;MQ0F=0;AF1=0;AC1=0;DP4=10,8,0,0;MQ=60;FQ=-80.9864                                                                                                  GT:PL:DP:AD  0/0:0:18:18\n",
      "NC_030834.1  30000493  .   A    .    77.9945  .       DP=17;FS=0;MQ0F=0;AF1=0;AC1=0;DP4=8,8,0,0;MQ=60;FQ=-74.9863                                                                                                   GT:PL:DP:AD  0/0:0:16:16\n",
      "NC_030834.1  30000494  .   C    .    74.9944  .       DP=17;FS=0;MQ0F=0;AF1=0;AC1=0;DP4=8,7,0,0;MQ=60;FQ=-71.9863                                                                                                   GT:PL:DP:AD  0/0:0:15:15\n",
      "NC_030834.1  30000495  .   T    .    77.9945  .       DP=17;FS=0;MQ0F=0;AF1=0;AC1=0;DP4=8,8,0,0;MQ=60;FQ=-74.9863                                                                                                   GT:PL:DP:AD  0/0:0:16:16\n",
      "NC_030834.1  30000496  .   G    .    83.9945  .       DP=18;FS=0;MQ0F=0;AF1=0;AC1=0;DP4=9,9,0,0;MQ=60;FQ=-80.9864                                                                                                   GT:PL:DP:AD  0/0:0:18:18\n",
      "NC_030834.1  30000497  .   T    .    68.9944  .       DP=18;FS=0;MQ0F=0;AF1=0;AC1=0;DP4=4,9,0,0;MQ=60;FQ=-65.9862                                                                                                   GT:PL:DP:AD  0/0:0:13:13\n",
      "NC_030834.1  30000498  .   A    .    77.9945  .       DP=18;FS=0;MQ0F=0;AF1=0;AC1=0;DP4=8,8,0,0;MQ=60;FQ=-74.9863                                                                                                   GT:PL:DP:AD  0/0:0:16:16\n",
      "NC_030834.1  30000499  .   C    .    71.9944  .       DP=18;FS=0;MQ0F=0;AF1=0;AC1=0;DP4=6,8,0,0;MQ=60;FQ=-68.9862                                                                                                   GT:PL:DP:AD  0/0:0:14:14\n",
      "NC_030834.1  30000500  .   C    .    65.9943  .       DP=17;FS=0;MQ0F=0;AF1=0;AC1=0;DP4=5,7,0,0;MQ=60;FQ=-62.9862                                                                                                   GT:PL:DP:AD  0/0:0:12:12\n",
      "NC_030834.1  30000501  .   C    .    77.9945  .       DP=17;FS=0;MQ0F=0;AF1=0;AC1=0;DP4=7,9,0,0;MQ=60;FQ=-74.9863                                                                                                   GT:PL:DP:AD  0/0:0:16:16\n",
      "NC_030834.1  30000502  .   A    G    221.999  .       DP=17;VDB=0.649897;SGB=-0.689466;FS=0;MQ0F=0;AF1=1;AC1=2;DP4=0,0,7,9;MQ=60;FQ=-74.9863;AC=2                                                                   GT:PL:DP:AD  1/1:255,48,0:16:0,16\n",
      "NC_030834.1  30000503  .   C    .    71.9944  .       DP=17;FS=0;MQ0F=0;AF1=0;AC1=0;DP4=6,8,0,0;MQ=60;FQ=-68.9862                                                                                                   GT:PL:DP:AD  0/0:0:14:14\n",
      "NC_030834.1  30000504  .   C    .    74.9944  .       DP=17;FS=0;MQ0F=0;AF1=0;AC1=0;DP4=6,9,0,0;MQ=60;FQ=-71.9863                                                                                                   GT:PL:DP:AD  0/0:0:15:15\n",
      "NC_030834.1  30000505  .   A    .    74.9944  .       DP=16;FS=0;MQ0F=0;AF1=0;AC1=0;DP4=7,8,0,0;MQ=60;FQ=-71.9863                                                                                                   GT:PL:DP:AD  0/0:0:15:15\n",
      "NC_030834.1  30000506  .   C    .    74.9944  .       DP=16;FS=0;MQ0F=0;AF1=0;AC1=0;DP4=6,9,0,0;MQ=60;FQ=-71.9863                                                                                                   GT:PL:DP:AD  0/0:0:15:15\n",
      "NC_030834.1  30000507  .   A    .    77.9945  .       DP=16;FS=0;MQ0F=0;AF1=0;AC1=0;DP4=7,9,0,0;MQ=60;FQ=-74.9863                                                                                                   GT:PL:DP:AD  0/0:0:16:16\n",
      "NC_030834.1  30000508  .   G    .    71.9944  .       DP=17;FS=0;MQ0F=0;AF1=0;AC1=0;DP4=5,9,0,0;MQ=60;FQ=-68.9862                                                                                                   GT:PL:DP:AD  0/0:0:14:14\n",
      "NC_030834.1  30000509  .   T    .    71.9944  .       DP=17;FS=0;MQ0F=0;AF1=0;AC1=0;DP4=4,10,0,0;MQ=60;FQ=-68.9862                                                                                                  GT:PL:DP:AD  0/0:0:14:14\n",
      "NC_030834.1  30000510  .   C    .    74.9944  .       DP=17;FS=0;MQ0F=0;AF1=0;AC1=0;DP4=6,9,0,0;MQ=60;FQ=-71.9863                                                                                                   GT:PL:DP:AD  0/0:0:15:15\n",
      "NC_030834.1  30000511  .   C    T    144.008  .       DP=17;VDB=0.637622;SGB=-0.636426;RPBZ=-2.14286;BQBZ=0.654654;FS=0;MQ0F=0;AF1=0.5;AC1=1;DP4=2,4,2,5;MQ=60;FQ=115.013;PV4=1,1,1,0.442337;AC=1                   GT:PL:DP:AD  0/1:174,0,142:13:6,7\n",
      "NC_030834.1  30000512  .   C    .    77.9945  .       DP=16;FS=0;MQ0F=0;AF1=0;AC1=0;DP4=6,10,0,0;MQ=60;FQ=-74.9863                                                                                                  GT:PL:DP:AD  0/0:0:16:16\n",
      "NC_030834.1  30000513  .   C    .    71.9944  .       DP=17;FS=0;MQ0F=0;AF1=0;AC1=0;DP4=5,9,0,0;MQ=60;FQ=-68.9862                                                                                                   GT:PL:DP:AD  0/0:0:14:14\n",
      "NC_030834.1  30000514  .   T    .    77.9945  .       DP=16;FS=0;MQ0F=0;AF1=0;AC1=0;DP4=6,10,0,0;MQ=60;FQ=-74.9863                                                                                                  GT:PL:DP:AD  0/0:0:16:16\n",
      "NC_030834.1  30000515  .   T    .    74.9944  .       DP=16;FS=0;MQ0F=0;AF1=0;AC1=0;DP4=5,10,0,0;MQ=60;FQ=-71.9863                                                                                                  GT:PL:DP:AD  0/0:0:15:15\n",
      "NC_030834.1  30000516  .   T    .    74.9944  .       DP=16;FS=0;MQ0F=0;AF1=0;AC1=0;DP4=5,10,0,0;MQ=60;FQ=-71.9863                                                                                                  GT:PL:DP:AD  0/0:0:15:15\n",
      "NC_030834.1  30000517  .   T    .    80.9945  .       DP=17;FS=0;MQ0F=0;AF1=0;AC1=0;DP4=7,10,0,0;MQ=60;FQ=-77.9863                                                                                                  GT:PL:DP:AD  0/0:0:17:17\n",
      "NC_030834.1  30000518  .   C    .    74.9944  .       DP=17;FS=0;MQ0F=0;AF1=0;AC1=0;DP4=6,9,0,0;MQ=60;FQ=-71.9863                                                                                                   GT:PL:DP:AD  0/0:0:15:15\n",
      "NC_030834.1  30000519  .   A    .    68.9944  .       DP=17;FS=0;MQ0F=0;AF1=0;AC1=0;DP4=4,9,0,0;MQ=60;FQ=-65.9862                                                                                                   GT:PL:DP:AD  0/0:0:13:13\n",
      "NC_030834.1  30000520  .   A    .    77.9945  .       DP=17;FS=0;MQ0F=0;AF1=0;AC1=0;DP4=6,10,0,0;MQ=60;FQ=-74.9863                                                                                                  GT:PL:DP:AD  0/0:0:16:16\n",
      "NC_030834.1  30000521  .   C    T    221.999  .       DP=17;VDB=0.810286;SGB=-0.688148;FS=0;MQ0F=0;AF1=1;AC1=2;DP4=0,0,6,9;MQ=60;FQ=-71.9863;AC=2                                                                   GT:PL:DP:AD  1/1:255,45,0:15:0,15\n",
      "NC_030834.1  30000522  .   C    .    77.9945  .       DP=18;FS=0;MQ0F=0;AF1=0;AC1=0;DP4=6,10,0,0;MQ=60;FQ=-74.9863                                                                                                  GT:PL:DP:AD  0/0:0:16:16\n",
      "NC_030834.1  30000523  .   A    .    74.9944  .       DP=18;FS=0;MQ0F=0;AF1=0;AC1=0;DP4=5,10,0,0;MQ=60;FQ=-71.9863                                                                                                  GT:PL:DP:AD  0/0:0:15:15\n",
      "NC_030834.1  30000524  .   T    .    83.9945  .       DP=18;FS=0;MQ0F=0;AF1=0;AC1=0;DP4=8,10,0,0;MQ=60;FQ=-80.9864                                                                                                  GT:PL:DP:AD  0/0:0:18:18\n",
      "NC_030834.1  30000525  .   C    .    71.9944  .       DP=18;FS=0;MQ0F=0;AF1=0;AC1=0;DP4=5,9,0,0;MQ=60;FQ=-68.9862                                                                                                   GT:PL:DP:AD  0/0:0:14:14\n",
      "NC_030834.1  30000526  .   T    .    83.9945  .       DP=18;FS=0;MQ0F=0;AF1=0;AC1=0;DP4=8,10,0,0;MQ=60;FQ=-80.9864                                                                                                  GT:PL:DP:AD  0/0:0:18:18\n",
      "NC_030834.1  30000527  .   T    .    83.9945  .       DP=18;FS=0;MQ0F=0;AF1=0;AC1=0;DP4=8,10,0,0;MQ=60;FQ=-80.9864                                                                                                  GT:PL:DP:AD  0/0:0:18:18\n",
      "NC_030834.1  30000528  .   T    .    80.9945  .       DP=18;FS=0;MQ0F=0;AF1=0;AC1=0;DP4=8,9,0,0;MQ=60;FQ=-77.9863                                                                                                   GT:PL:DP:AD  0/0:0:17:17\n",
      "NC_030834.1  30000529  .   A    .    77.9945  .       DP=18;FS=0;MQ0F=0;AF1=0;AC1=0;DP4=6,10,0,0;MQ=60;FQ=-74.9863                                                                                                  GT:PL:DP:AD  0/0:0:16:16\n",
      "NC_030834.1  30000530  .   A    .    80.9945  .       DP=18;FS=0;MQ0F=0;AF1=0;AC1=0;DP4=7,10,0,0;MQ=60;FQ=-77.9863                                                                                                  GT:PL:DP:AD  0/0:0:17:17\n",
      "NC_030834.1  30000531  .   T    .    83.9945  .       DP=18;FS=0;MQ0F=0;AF1=0;AC1=0;DP4=8,10,0,0;MQ=60;FQ=-80.9864                                                                                                  GT:PL:DP:AD  0/0:0:18:18\n",
      "NC_030834.1  30000532  .   A    .    80.9945  .       DP=18;FS=0;MQ0F=0;AF1=0;AC1=0;DP4=8,9,0,0;MQ=60;FQ=-77.9863                                                                                                   GT:PL:DP:AD  0/0:0:17:17\n",
      "NC_030834.1  30000533  .   C    .    77.9945  .       DP=18;FS=0;MQ0F=0;AF1=0;AC1=0;DP4=6,10,0,0;MQ=60;FQ=-74.9863                                                                                                  GT:PL:DP:AD  0/0:0:16:16\n",
      "NC_030834.1  30000534  .   A    .    77.9945  .       DP=18;FS=0;MQ0F=0;AF1=0;AC1=0;DP4=7,9,0,0;MQ=60;FQ=-74.9863                                                                                                   GT:PL:DP:AD  0/0:0:16:16\n",
      "NC_030834.1  30000535  .   A    .    83.9945  .       DP=18;FS=0;MQ0F=0;AF1=0;AC1=0;DP4=8,10,0,0;MQ=60;FQ=-80.9864                                                                                                  GT:PL:DP:AD  0/0:0:18:18\n",
      "NC_030834.1  30000536  .   G    .    77.9945  .       DP=18;FS=0;MQ0F=0;AF1=0;AC1=0;DP4=7,9,0,0;MQ=60;FQ=-74.9863                                                                                                   GT:PL:DP:AD  0/0:0:16:16\n",
      "NC_030834.1  30000537  .   T    .    77.9945  .       DP=18;FS=0;MQ0F=0;AF1=0;AC1=0;DP4=7,9,0,0;MQ=60;FQ=-74.9863                                                                                                   GT:PL:DP:AD  0/0:0:16:16\n",
      "NC_030834.1  30000538  .   T    .    80.9945  .       DP=18;FS=0;MQ0F=0;AF1=0;AC1=0;DP4=8,9,0,0;MQ=60;FQ=-77.9863                                                                                                   GT:PL:DP:AD  0/0:0:17:17\n",
      "NC_030834.1  30000539  .   T    .    80.9945  .       DP=18;FS=0;MQ0F=0;AF1=0;AC1=0;DP4=8,9,0,0;MQ=60;FQ=-77.9863                                                                                                   GT:PL:DP:AD  0/0:0:17:17\n",
      "NC_030834.1  30000540  .   C    .    77.9945  .       DP=18;FS=0;MQ0F=0;AF1=0;AC1=0;DP4=7,9,0,0;MQ=60;FQ=-74.9863                                                                                                   GT:PL:DP:AD  0/0:0:16:16\n",
      "NC_030834.1  30000541  .   A    .    80.9945  .       DP=18;FS=0;MQ0F=0;AF1=0;AC1=0;DP4=8,9,0,0;MQ=60;FQ=-77.9863                                                                                                   GT:PL:DP:AD  0/0:0:17:17\n",
      "NC_030834.1  30000542  .   C    .    80.9945  .       DP=18;FS=0;MQ0F=0;AF1=0;AC1=0;DP4=7,10,0,0;MQ=60;FQ=-77.9863                                                                                                  GT:PL:DP:AD  0/0:0:17:17\n",
      "NC_030834.1  30000543  .   G    .    80.9945  .       DP=18;FS=0;MQ0F=0;AF1=0;AC1=0;DP4=7,10,0,0;MQ=60;FQ=-77.9863                                                                                                  GT:PL:DP:AD  0/0:0:17:17\n",
      "NC_030834.1  30000544  .   T    .    77.9945  .       DP=18;FS=0;MQ0F=0;AF1=0;AC1=0;DP4=7,9,0,0;MQ=60;FQ=-74.9863                                                                                                   GT:PL:DP:AD  0/0:0:16:16\n",
      "NC_030834.1  30000545  .   C    .    77.9945  .       DP=18;FS=0;MQ0F=0;AF1=0;AC1=0;DP4=6,10,0,0;MQ=60;FQ=-74.9863                                                                                                  GT:PL:DP:AD  0/0:0:16:16\n",
      "NC_030834.1  30000546  .   T    .    89.9946  .       DP=20;FS=0;MQ0F=0;AF1=0;AC1=0;DP4=8,12,0,0;MQ=60;FQ=-86.9865                                                                                                  GT:PL:DP:AD  0/0:0:20:20\n",
      "NC_030834.1  30000547  .   C    .    83.9945  .       DP=20;FS=0;MQ0F=0;AF1=0;AC1=0;DP4=6,12,0,0;MQ=60;FQ=-80.9864                                                                                                  GT:PL:DP:AD  0/0:0:18:18\n",
      "NC_030834.1  30000548  .   T    .    86.9946  .       DP=20;FS=0;MQ0F=0;AF1=0;AC1=0;DP4=7,12,0,0;MQ=60;FQ=-83.9864                                                                                                  GT:PL:DP:AD  0/0:0:19:19\n",
      "NC_030834.1  30000549  .   G    .    89.9946  .       DP=20;FS=0;MQ0F=0;AF1=0;AC1=0;DP4=8,12,0,0;MQ=60;FQ=-86.9865                                                                                                  GT:PL:DP:AD  0/0:0:20:20\n",
      "NC_030834.1  30000550  .   T    .    83.9945  .       DP=20;FS=0;MQ0F=0;AF1=0;AC1=0;DP4=7,11,0,0;MQ=60;FQ=-80.9864                                                                                                  GT:PL:DP:AD  0/0:0:18:18\n",
      "NC_030834.1  30000551  .   C    .    86.9946  .       DP=20;FS=0;MQ0F=0;AF1=0;AC1=0;DP4=8,11,0,0;MQ=60;FQ=-83.9864                                                                                                  GT:PL:DP:AD  0/0:0:19:19\n",
      "NC_030834.1  30000552  .   C    .    86.9946  .       DP=20;FS=0;MQ0F=0;AF1=0;AC1=0;DP4=8,11,0,0;MQ=60;FQ=-83.9864                                                                                                  GT:PL:DP:AD  0/0:0:19:19\n",
      "NC_030834.1  30000553  .   A    .    86.9946  .       DP=20;FS=0;MQ0F=0;AF1=0;AC1=0;DP4=7,12,0,0;MQ=60;FQ=-83.9864                                                                                                  GT:PL:DP:AD  0/0:0:19:19\n",
      "NC_030834.1  30000554  .   T    .    86.9946  .       DP=20;FS=0;MQ0F=0;AF1=0;AC1=0;DP4=8,11,0,0;MQ=60;FQ=-83.9864                                                                                                  GT:PL:DP:AD  0/0:0:19:19\n",
      "NC_030834.1  30000555  .   T    .    89.9946  .       DP=20;FS=0;MQ0F=0;AF1=0;AC1=0;DP4=8,12,0,0;MQ=60;FQ=-86.9865                                                                                                  GT:PL:DP:AD  0/0:0:20:20\n",
      "NC_030834.1  30000556  .   C    .    80.9945  .       DP=20;FS=0;MQ0F=0;AF1=0;AC1=0;DP4=7,10,0,0;MQ=60;FQ=-77.9863                                                                                                  GT:PL:DP:AD  0/0:0:17:17\n",
      "NC_030834.1  30000557  .   T    .    89.9946  .       DP=20;FS=0;MQ0F=0;AF1=0;AC1=0;DP4=8,12,0,0;MQ=60;FQ=-86.9865                                                                                                  GT:PL:DP:AD  0/0:0:20:20\n",
      "NC_030834.1  30000558  .   T    .    89.9946  .       DP=20;FS=0;MQ0F=0;AF1=0;AC1=0;DP4=8,12,0,0;MQ=60;FQ=-86.9865                                                                                                  GT:PL:DP:AD  0/0:0:20:20\n",
      "NC_030834.1  30000559  .   T    .    89.9946  .       DP=20;FS=0;MQ0F=0;AF1=0;AC1=0;DP4=8,12,0,0;MQ=60;FQ=-86.9865                                                                                                  GT:PL:DP:AD  0/0:0:20:20\n",
      "NC_030834.1  30000560  .   T    .    89.9946  .       DP=20;FS=0;MQ0F=0;AF1=0;AC1=0;DP4=8,12,0,0;MQ=60;FQ=-86.9865                                                                                                  GT:PL:DP:AD  0/0:0:20:20\n",
      "NC_030834.1  30000561  .   G    .    83.9945  .       DP=20;FS=0;MQ0F=0;AF1=0;AC1=0;DP4=6,12,0,0;MQ=60;FQ=-80.9864                                                                                                  GT:PL:DP:AD  0/0:0:18:18\n",
      "NC_030834.1  30000562  .   T    .    83.9945  .       DP=20;FS=0;MQ0F=0;AF1=0;AC1=0;DP4=6,12,0,0;MQ=60;FQ=-80.9864                                                                                                  GT:PL:DP:AD  0/0:0:18:18\n",
      "NC_030834.1  30000563  .   C    .    86.9946  .       DP=20;FS=0;MQ0F=0;AF1=0;AC1=0;DP4=7,12,0,0;MQ=60;FQ=-83.9864                                                                                                  GT:PL:DP:AD  0/0:0:19:19\n",
      "NC_030834.1  30000564  .   A    .    83.9945  .       DP=20;FS=0;MQ0F=0;AF1=0;AC1=0;DP4=6,12,0,0;MQ=60;FQ=-80.9864                                                                                                  GT:PL:DP:AD  0/0:0:18:18\n",
      "NC_030834.1  30000565  .   A    .    86.9946  .       DP=20;FS=0;MQ0F=0;AF1=0;AC1=0;DP4=8,11,0,0;MQ=60;FQ=-83.9864                                                                                                  GT:PL:DP:AD  0/0:0:19:19\n",
      "NC_030834.1  30000566  .   G    .    77.9945  .       DP=19;FS=0;MQ0F=0;AF1=0;AC1=0;DP4=5,11,0,0;MQ=60;FQ=-74.9863                                                                                                  GT:PL:DP:AD  0/0:0:16:16\n",
      "NC_030834.1  30000567  .   G    .    77.9945  .       DP=18;FS=0;MQ0F=0;AF1=0;AC1=0;DP4=6,10,0,0;MQ=60;FQ=-74.9863                                                                                                  GT:PL:DP:AD  0/0:0:16:16\n",
      "NC_030834.1  30000568  .   T    .    80.9945  .       DP=18;FS=0;MQ0F=0;AF1=0;AC1=0;DP4=7,10,0,0;MQ=60;FQ=-77.9863                                                                                                  GT:PL:DP:AD  0/0:0:17:17\n",
      "NC_030834.1  30000569  .   T    .    83.9945  .       DP=18;FS=0;MQ0F=0;AF1=0;AC1=0;DP4=7,11,0,0;MQ=60;FQ=-80.9864                                                                                                  GT:PL:DP:AD  0/0:0:18:18\n",
      "NC_030834.1  30000570  .   G    .    80.9945  .       DP=17;FS=0;MQ0F=0;AF1=0;AC1=0;DP4=6,11,0,0;MQ=60;FQ=-77.9863                                                                                                  GT:PL:DP:AD  0/0:0:17:17\n",
      "NC_030834.1  30000571  .   G    .    80.9945  .       DP=17;FS=0;MQ0F=0;AF1=0;AC1=0;DP4=6,11,0,0;MQ=60;FQ=-77.9863                                                                                                  GT:PL:DP:AD  0/0:0:17:17\n",
      "NC_030834.1  30000572  .   A    .    77.9945  .       DP=17;FS=0;MQ0F=0;AF1=0;AC1=0;DP4=5,11,0,0;MQ=60;FQ=-74.9863                                                                                                  GT:PL:DP:AD  0/0:0:16:16\n",
      "NC_030834.1  30000573  .   C    .    80.9945  .       DP=17;FS=0;MQ0F=0;AF1=0;AC1=0;DP4=6,11,0,0;MQ=60;FQ=-77.9863                                                                                                  GT:PL:DP:AD  0/0:0:17:17\n",
      "NC_030834.1  30000574  .   A    .    83.9945  .       DP=18;FS=0;MQ0F=0;AF1=0;AC1=0;DP4=6,12,0,0;MQ=60;FQ=-80.9864                                                                                                  GT:PL:DP:AD  0/0:0:18:18\n",
      "NC_030834.1  30000575  .   A    .    83.9945  .       DP=18;FS=0;MQ0F=0;AF1=0;AC1=0;DP4=6,12,0,0;MQ=60;FQ=-80.9864                                                                                                  GT:PL:DP:AD  0/0:0:18:18\n",
      "NC_030834.1  30000576  .   G    .    80.9945  .       DP=18;FS=0;MQ0F=0;AF1=0;AC1=0;DP4=5,12,0,0;MQ=60;FQ=-77.9863                                                                                                  GT:PL:DP:AD  0/0:0:17:17\n",
      "NC_030834.1  30000577  .   A    .    83.9945  .       DP=18;FS=0;MQ0F=0;AF1=0;AC1=0;DP4=6,12,0,0;MQ=60;FQ=-80.9864                                                                                                  GT:PL:DP:AD  0/0:0:18:18\n",
      "NC_030834.1  30000578  .   T    .    80.9945  .       DP=18;FS=0;MQ0F=0;AF1=0;AC1=0;DP4=6,11,0,0;MQ=60;FQ=-77.9863                                                                                                  GT:PL:DP:AD  0/0:0:17:17\n",
      "NC_030834.1  30000579  .   C    .    77.9945  .       DP=18;FS=0;MQ0F=0;AF1=0;AC1=0;DP4=6,10,0,0;MQ=60;FQ=-74.9863                                                                                                  GT:PL:DP:AD  0/0:0:16:16\n",
      "NC_030834.1  30000580  .   C    .    77.9945  .       DP=18;FS=0;MQ0F=0;AF1=0;AC1=0;DP4=6,10,0,0;MQ=60;FQ=-74.9863                                                                                                  GT:PL:DP:AD  0/0:0:16:16\n",
      "NC_030834.1  30000581  .   C    .    77.9945  .       DP=17;FS=0;MQ0F=0;AF1=0;AC1=0;DP4=6,10,0,0;MQ=60;FQ=-74.9863                                                                                                  GT:PL:DP:AD  0/0:0:16:16\n",
      "NC_030834.1  30000582  .   T    .    77.9945  .       DP=17;FS=0;MQ0F=0;AF1=0;AC1=0;DP4=6,10,0,0;MQ=60;FQ=-74.9863                                                                                                  GT:PL:DP:AD  0/0:0:16:16\n",
      "NC_030834.1  30000583  .   T    .    77.9945  .       DP=16;FS=0;MQ0F=0;AF1=0;AC1=0;DP4=6,10,0,0;MQ=60;FQ=-74.9863                                                                                                  GT:PL:DP:AD  0/0:0:16:16\n",
      "NC_030834.1  30000584  .   A    .    80.9945  .       DP=17;FS=0;MQ0F=0;AF1=0;AC1=0;DP4=7,10,0,0;MQ=60;FQ=-77.9863                                                                                                  GT:PL:DP:AD  0/0:0:17:17\n",
      "NC_030834.1  30000585  .   A    .    80.9945  .       DP=17;FS=0;MQ0F=0;AF1=0;AC1=0;DP4=7,10,0,0;MQ=60;FQ=-77.9863                                                                                                  GT:PL:DP:AD  0/0:0:17:17\n"
     ]
    }
   ],
   "source": [
    "\n",
    "bcftools view CTauTzS_8872.filtered.di_mono_allelic.bcf.gz | grep -v '^##' | head -n500 | column -t "
   ]
  },
  {
   "cell_type": "markdown",
   "id": "45a40ce4",
   "metadata": {
    "kernel": "Bash"
   },
   "source": [
    " - Try to see if you can find a heterozygous site in the cell above. (Hint: Start by looking at sites where the \"ALT\" field is not \".\" and then look at the genotype or \"GT\")"
   ]
  },
  {
   "cell_type": "markdown",
   "id": "69889a33",
   "metadata": {
    "kernel": "Bash"
   },
   "source": [
    "## Estimation\n",
    "Now once we have the filtered vcf file, the actual estimation is quite simple both in concept and execution. We are simply going to count up all the sites estimated as  and then finally calculate the proportion of these that are heterozygous. We can do this  by piping the \"AC\" field into the tool AWK and then count up the number of each occurence."
   ]
  },
  {
   "cell_type": "code",
   "execution_count": 8,
   "id": "4ff4a5a7",
   "metadata": {
    "kernel": "Bash"
   },
   "outputs": [],
   "source": [
    "# loading in data from whole chr instead of subset\n",
    "BCF=/davidData/users/thomas/workshop/CTauTzS_8872.NC_030834.1.filtered.di_mono_allelic.bcf.gz\n",
    "\n",
    "# count up alleles:\n",
    "bcftools query -f '%INFO/AC\\n' $BCF | \\\n",
    "awk '{a[$1]++} END {for (allele in a){print allele, a[allele]}}' > CTauTzS_8872.AC"
   ]
  },
  {
   "cell_type": "code",
   "execution_count": 9,
   "id": "9721002b",
   "metadata": {
    "kernel": "Bash"
   },
   "outputs": [
    {
     "name": "stdout",
     "output_type": "stream",
     "text": [
      "2 737872\n",
      "1 36584\n",
      ". 19812664\n"
     ]
    }
   ],
   "source": [
    "cat CTauTzS_8872.AC"
   ]
  },
  {
   "cell_type": "markdown",
   "id": "d5f2e6bd",
   "metadata": {
    "kernel": "Bash"
   },
   "source": [
    "Saved to the file above we have the counts of sites that are homozygous for the alternative allele, sites that are heterozygous and sites that are homozygous for the reference allele.\n",
    "- Why do you suppose the counts are labeled as \"2\", \"1\" and \".\"?\n",
    "- What do you think could be the reason for the large number of sites homozygous for the alternative allele? (Hint: What could the reference/alternative alleles be defined in relation to? What is the reference genome that our data is mapped to?)\n",
    "\n",
    "To find the proportion of heterozygous sites simply divide the count of heterozygous sites by the total count (fill in the blanks and run the cell):"
   ]
  },
  {
   "cell_type": "code",
   "execution_count": 10,
   "id": "ae51629c",
   "metadata": {
    "kernel": "R"
   },
   "outputs": [
    {
     "ename": "ERROR",
     "evalue": "Error in eval(expr, envir, enclos): '...' used in an incorrect context\n",
     "output_type": "error",
     "traceback": [
      "Error in eval(expr, envir, enclos): '...' used in an incorrect context\nTraceback:\n"
     ]
    }
   ],
   "source": [
    "... / ( ... + ... + ... )"
   ]
  },
  {
   "cell_type": "markdown",
   "id": "86cd9aa9",
   "metadata": {
    "kernel": "Bash"
   },
   "source": [
    " - First try to run the filtering and then the estimation again but on the filtered bcf file we generated ourselves for the subset of chromosome 27 (Hint: replace \"$BCF\" with another file in the cell where we count up the alleles)\n",
    " - Now try to run it again with one or more of the filters turned off and see what kind of difference it makes. (Hint: look to the options \"-T\", \"-Q\" or \"-q\")\n",
    " - Why do you think we get this difference?"
   ]
  },
  {
   "cell_type": "markdown",
   "id": "061bd968",
   "metadata": {
    "kernel": "Bash"
   },
   "source": [
    "## Comparison between individuals\n",
    "In isolation the value we just estimated does not tell us much, so we will need something to compare it to. In general compared to other large african mammals, this value is a bit on the low side, but lets look at some more samples in comparison.\n",
    "While we could have estimated values for more indviduals by repeating the previous procedure, I have cheated a bit and done this ahead of time, saving the heterozygosities estimated on whole genomes in a file where the relevant values look like this:"
   ]
  },
  {
   "cell_type": "code",
   "execution_count": 11,
   "id": "5507034f",
   "metadata": {
    "kernel": "Bash"
   },
   "outputs": [
    {
     "name": "stdout",
     "output_type": "stream",
     "text": [
      "sampleID      het       map\n",
      "CTauNaN_2489  0.00267   B-Etosha\n",
      "CTauNaN_2495  0.002747  B-Etosha\n",
      "CTauNaN_2496  0.002757  B-Etosha\n",
      "CTauNaN_2500  0.00274   B-Etosha\n",
      "CTauNaN_2503  0.002765  B-Etosha\n",
      "CTauNaN_2506  0.00275   B-Etosha\n",
      "CTauZmC_3748  0.002391  B-Kafue\n",
      "CTauZmC_3745  0.002426  B-Kafue\n",
      "CTauZmC_3746  0.002316  B-Kafue\n",
      "CTauZmC_3747  0.002363  B-Kafue\n",
      "CTauZmE_2542  0.001938  C-Luangwa\n",
      "CTauZmE_2552  0.001909  C-Luangwa\n",
      "CTauZmE_3749  0.001803  C-Luangwa\n",
      "CTauTzN_2165  0.002087  E-Monduli\n",
      "CTauTzN_2199  0.00214   E-Monduli\n",
      "CTauTzN_3171  0.002388  E-Monduli\n",
      "CTauTzN_3172  0.002082  E-Monduli\n",
      "CTauTzN_4275  0.002155  E-Monduli\n",
      "CTauTzN_4276  0.002153  E-Monduli\n",
      "CTauTzN_4279  0.00213   E-Monduli\n",
      "CTauTzN_4498  0.00212   E-Monduli\n",
      "CTauTzN_4499  0.002121  E-Monduli\n",
      "CTauTzN_4501  0.002147  E-Monduli\n",
      "CTauTzN_4502  0.002111  E-Monduli\n",
      "CTauKeS__698  0.002069  E.wBearded_KeSAmb\n",
      "CTauKeS__699  0.00212   E.wBearded_KeSAmb\n",
      "CTauKeS__700  0.002064  E.wBearded_KeSAmb\n",
      "CTauKeS__701  0.002099  E.wBearded_KeSAmb\n",
      "CTauKeS__702  0.002052  E.wBearded_KeSAmb\n",
      "CTauKeS__704  0.002087  E.wBearded_KeSAmb\n",
      "CTauKeS__705  0.00208   E.wBearded_KeSAmb\n",
      "CTauKeS__706  0.002078  E.wBearded_KeSAmb\n",
      "CTauKeS__707  0.002119  E.wBearded_KeSAmb\n",
      "CTauKeS__709  0.001905  E.wBearded_KeSNai\n",
      "CTauKeS__710  0.001866  E.wBearded_KeSNai\n",
      "CTauKeS__711  0.001947  E.wBearded_KeSNai\n",
      "CTauKeS__712  0.001912  E.wBearded_KeSNai\n",
      "CTauKeS__713  0.001916  E.wBearded_KeSNai\n",
      "CTauKeS__714  0.001931  E.wBearded_KeSNai\n",
      "CTauKeS__715  0.001938  E.wBearded_KeSNai\n",
      "CTauKeS__716  0.001904  E.wBearded_KeSNai\n",
      "CTauKeS__717  0.001941  E.wBearded_KeSNai\n",
      "CTauKeS__718  0.001923  E.wBearded_KeSNai\n",
      "CTauKeW__638  0.002441  W.wBearded\n",
      "CTauKeW__640  0.002421  W.wBearded\n",
      "CTauKeW__641  0.002347  W.wBearded\n",
      "CTauKeW__642  0.002386  W.wBearded\n",
      "CTauKeW__643  0.002395  W.wBearded\n",
      "CTauKeW__644  0.002393  W.wBearded\n",
      "CTauKeW__645  0.002381  W.wBearded\n",
      "CTauKeW__646  0.002392  W.wBearded\n",
      "CTauKeW__648  0.002378  W.wBearded\n",
      "CTauKeW__649  0.002319  W.wBearded\n",
      "CTauTzN_4284  0.002406  W.wBearded\n",
      "CTauTzN_4285  0.002386  W.wBearded\n",
      "CTauTzN_4496  0.002379  W.wBearded\n",
      "CTauTzN_4497  0.002381  W.wBearded\n",
      "CTauTzN_5188  0.002408  W.wBearded\n",
      "CTauTzN_8202  0.002282  W.wBearded\n",
      "CTauTzN_8870  0.002377  W.wBearded\n",
      "CTauTzN_8871  0.002369  W.wBearded\n",
      "CTauTzN_3174  0.002379  W.wBearded\n",
      "CTauTzN__738  0.002454  W.wBearded\n",
      "CTauTzN__740  0.002356  W.wBearded\n",
      "CTauTzN__741  0.002393  W.wBearded\n",
      "CTauTzN__742  0.002371  W.wBearded\n",
      "CTauTzN__744  0.002349  W.wBearded\n",
      "CTauTzN__746  0.002371  W.wBearded\n",
      "CTauTzN__747  0.002288  W.wBearded\n",
      "CTauTzN__750  0.00227   W.wBearded\n",
      "CTauTzN__751  0.002296  W.wBearded\n"
     ]
    }
   ],
   "source": [
    "cut $HET -f1,6,7 | column -t"
   ]
  },
  {
   "cell_type": "markdown",
   "id": "d011fc4d",
   "metadata": {
    "kernel": "Bash"
   },
   "source": [
    "To get a better overview of these values, what is commonly done is to plot them in eg. a boxplot separated by a grouping of interest such as population, locality or species. Here the field \"map\" denotes their locality and we can use this information to separate the samples into groups."
   ]
  },
  {
   "cell_type": "code",
   "execution_count": 12,
   "id": "b875cafa",
   "metadata": {
    "kernel": "R"
   },
   "outputs": [
    {
     "data": {
      "image/png": "[encoded data removed]",
      "text/plain": [
       "plot without title"
      ]
     },
     "metadata": {
      "image/png": {
       "height": 420,
       "width": 960
      }
     },
     "output_type": "display_data"
    }
   ],
   "source": [
    "options(repr.plot.width = 16)\n",
    "het_table <- read.table(\"/davidData/users/thomas/workshop/het.roh.tsv\", header = TRUE)\n",
    "boxplot(het ~ map, data = het_table, col= \"hotpink\")"
   ]
  },
  {
   "cell_type": "markdown",
   "id": "54039a28",
   "metadata": {
    "kernel": "R"
   },
   "source": [
    " Now we have a better overview of the distributions of heterozygosity.\n",
    "  - What could be a reason that we see differences in heterozygosity between some groups, but not so much within the different groups?\n",
    "  - What could be the reason for the outliers we see? (the dots at Etosha and Monduli)\n",
    "  - In the file we also have values for heterozygosity outside of runs of homozygosity, which you will be introduced to later. How do these values differ from the ones we have just looked at?"
   ]
  }
 ],
 "metadata": {
  "kernelspec": {
   "display_name": "SoS",
   "language": "sos",
   "name": "sos"
  },
  "language_info": {
   "codemirror_mode": "sos",
   "file_extension": ".sos",
   "mimetype": "text/x-sos",
   "name": "sos",
   "nbconvert_exporter": "sos_notebook.converter.SoS_Exporter",
   "pygments_lexer": "sos"
  },
  "sos": {
   "kernels": [
    [
     "Bash",
     "bash",
     "bash",
     "",
     "shell"
    ],
    [
     "R",
     "ir",
     "R",
     "",
     "r"
    ]
   ],
   "panel": {
    "displayed": false,
    "height": 0
   },
   "version": "0.24.1"
  }
 },
 "nbformat": 4,
 "nbformat_minor": 5
}
