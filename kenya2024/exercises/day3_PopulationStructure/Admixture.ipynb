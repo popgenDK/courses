{
 "cells": [
  {
   "cell_type": "markdown",
   "id": "80daa632",
   "metadata": {
    "kernel": "SoS"
   },
   "source": [
    "\n",
    "\n",
    "</br>\n",
    "<font size=\"12\">Estimating admixture proportions</font>\n",
    "\n",
    "\n",
    "For this exercises we will use data from the Blue Wildebeest. To simply the the analysis we have included only one of the Brindle populations ( B-Etosha). There are five subspecies and but we have included all 3 populations from the east white bearded subpopulation.  \n",
    "\n",
    "<img src=\"https://raw.githubusercontent.com/popgenDK/popgenDK.github.io/gh-pages/images/slider/wildeBeastMap.png\" alt=\"image info\" />\n",
    "\n",
    "\n",
    "# Software and data\n",
    "\n",
    "\n",
    "\n",
    "### Software\n",
    "We will be using plink, PCAone and ADMIXTURE for this exerciser. First lets see if the software is installed"
   ]
  },
  {
   "cell_type": "code",
   "execution_count": null,
   "id": "20b11063",
   "metadata": {
    "kernel": "Bash"
   },
   "outputs": [],
   "source": [
    "\n",
    "echo --programs that are installed:--\n",
    "which admixture\n",
    "which plink\n",
    "which PCAone\n",
    "\n",
    "\n"
   ]
  },
  {
   "cell_type": "markdown",
   "id": "baed83f1",
   "metadata": {
    "kernel": "SoS"
   },
   "source": [
    "### data\n",
    "\n",
    "First lets make a folder in your home directory then then we will copy the data into your folder"
   ]
  },
  {
   "cell_type": "code",
   "execution_count": null,
   "id": "21a95aab",
   "metadata": {
    "kernel": "Bash"
   },
   "outputs": [],
   "source": [
    "\n",
    "#make folder \n",
    "mkdir -p ~/kenya2024/\n",
    "mkdir -p ~/kenya2024/admixture\n",
    "\n",
    "# enter folder\n",
    "cd ~/kenya2024/admixture\n",
    "\n",
    "\n",
    "\n",
    "##make links to files and add them to the folder\n",
    "cp -sf /davidData/data/course/kenyaWorkshop/anders/structure_day3/blue_wildebeest_thin* .\n",
    "cp -r -sf  /davidData/data/course/kenyaWorkshop/anders/structure_day3/multiRunK7 .\n",
    "cp -r -sf  /davidData/data/course/kenyaWorkshop/anders/structure_day3/allK .\n",
    "\n",
    "\n",
    "echo --- files in folder ---\n",
    "ls "
   ]
  },
  {
   "cell_type": "markdown",
   "id": "e8e75567",
   "metadata": {
    "kernel": "SoS"
   },
   "source": [
    "### fam file\n",
    "The genotype data is store in binary plink files (*.bed,*.fam,*.bim). Lets first look into the fam file which described the individuals in the data"
   ]
  },
  {
   "cell_type": "code",
   "execution_count": null,
   "id": "4323ea2e",
   "metadata": {
    "kernel": "Bash"
   },
   "outputs": [],
   "source": [
    "echo -- number of lines in fam file --\n",
    "wc -l blue_wildebeest_thin.fam\n",
    "\n",
    "echo -- first 10 lines fam file --\n",
    "head blue_wildebeest_thin.fam\n",
    "\n",
    "echo -- counts of populations/subspecies from first column of fam file --\n",
    "cut -f1 -d\" \" blue_wildebeest_thin.fam | sort | uniq -c"
   ]
  },
  {
   "cell_type": "markdown",
   "id": "7cc94a4c",
   "metadata": {
    "kernel": "SoS"
   },
   "source": [
    "# Bim file\n",
    "Now lets look into the bim file. This is the file that described the different genetics variants"
   ]
  },
  {
   "cell_type": "code",
   "execution_count": null,
   "id": "6c85d1ff",
   "metadata": {
    "kernel": "Bash"
   },
   "outputs": [],
   "source": [
    "echo -- number of lines in bim file --\n",
    "wc -l blue_wildebeest_thin.bim\n",
    "\n",
    "echo -e \"\\n-- first 10 lines bim file --\"\n",
    "echo -e \"CHR\\tvariantID CM\\tPosition allele_1\\t allele_2\"\n",
    "head blue_wildebeest_thin.bim\n",
    "\n",
    "echo -e \"\\n-- counts number of variants per chromosone from the first column of bim file --\"\n",
    "echo \\#Var Chromosome_name\n",
    "cat blue_wildebeest_thin.bim | cut -f1  | uniq -c\n"
   ]
  },
  {
   "cell_type": "markdown",
   "id": "e6096ec5",
   "metadata": {
    "kernel": "Bash"
   },
   "source": [
    "Run the code below to answer start a Quiz questions "
   ]
  },
  {
   "cell_type": "code",
   "execution_count": null,
   "id": "991bb58b",
   "metadata": {
    "kernel": "Python 3 (ipykernel)",
    "scrolled": true
   },
   "outputs": [],
   "source": [
    "\n",
    "from jupyterquiz import display_quiz\n",
    "display_quiz('https://raw.githubusercontent.com/popgenDK/courses/main/kenya2024/exercises/day3_PopulationStructure/admixture_quiz1.json')\n"
   ]
  },
  {
   "cell_type": "markdown",
   "id": "bc4e42c9",
   "metadata": {
    "kernel": "Python 3 (ipykernel)"
   },
   "source": [
    "## LD pruning\n",
    "\n",
    "It is recommended that LD pruning is performed prior to running ADMIXTURE. This is often done using plink while assmuming that there is no population structure. However, because we expect there to be lots of structure in our data we will us a new method, PCAone, that corrects for population structure using PCA. To perferm LD pruing we will choose the number of PCAs needed which in this case is **-k=6** since we expect there are 7 different populations (6 PCs allows for modelling 7 populations) because each PC can split data into to groups. We will use a LD threshold of **r2=0.1** which removed variants that are in LD with any other variant with a correlation coefficent above 0.1. Since we don't want to calculate LD between all pairs of variants we will estimate LD in a sliding window of size **1000000=1Mb**. \n",
    "\n",
    "The command to do so can be see below\n",
    "\n",
    "\n"
   ]
  },
  {
   "cell_type": "code",
   "execution_count": null,
   "id": "b91e1340",
   "metadata": {
    "kernel": "Bash"
   },
   "outputs": [],
   "source": [
    "PCAone -b blue_wildebeest_thin -k 6 --ld-stats 0 --ld-r2 0.1 --ld-bp 1000000"
   ]
  },
  {
   "cell_type": "markdown",
   "id": "c09f9a31",
   "metadata": {
    "kernel": "Bash"
   },
   "source": [
    "The software prints out a list of variants that are not in LD with eachother. We will extract those site using plink and create a new plink file named blue_wildebeest_noLD"
   ]
  },
  {
   "cell_type": "code",
   "execution_count": null,
   "id": "070d39cc",
   "metadata": {
    "kernel": "Bash"
   },
   "outputs": [],
   "source": [
    "echo --number of variants to be keept --\n",
    "wc -l pcaone.ld.prune.in\n",
    " \n",
    "echo -e \"\\n --Extract variants using plink --\"\n",
    " plink --bfile blue_wildebeest_thin --extract pcaone.ld.prune.in --make-bed --out blue_wildebeest_noLD  --chr-set 29"
   ]
  },
  {
   "cell_type": "markdown",
   "id": "7355eb22",
   "metadata": {
    "kernel": "Bash"
   },
   "source": [
    "\n",
    "\n",
    "## ADMIXTURE\n",
    "\n",
    "we are now ready to run ADMIXTURE. first lets look at the options of the program"
   ]
  },
  {
   "cell_type": "code",
   "execution_count": null,
   "id": "849a4b7c",
   "metadata": {
    "kernel": "Bash"
   },
   "outputs": [],
   "source": [
    "admixture --help"
   ]
  },
  {
   "cell_type": "markdown",
   "id": "f65d7037",
   "metadata": {
    "kernel": "Bash"
   },
   "source": [
    "As can be seen we need to input our plink file and we need to choose a number of ancestral populations. In our case the most likely relevant number of assumed ancestral populations is 7 - one for each population. ADMIXTURE using numberic optimisation based on a random starting guess of the parameters. Therefore, we will specify a seed for the random numbers so that we can reproduce the results (else we will get a different result each time we run it). \n",
    "\n",
    "To make is run faster we will use 10 CPU threads. Run the comment ( will take ~2min).\n"
   ]
  },
  {
   "cell_type": "code",
   "execution_count": null,
   "id": "a95de0fb",
   "metadata": {
    "kernel": "Bash"
   },
   "outputs": [],
   "source": [
    "\n",
    "admixture --seed 0 -j10 blue_wildebeest_noLD.bed 7\n",
    "\n"
   ]
  },
  {
   "cell_type": "code",
   "execution_count": null,
   "id": "92c7c5f4",
   "metadata": {
    "kernel": "Bash"
   },
   "outputs": [],
   "source": [
    "# let see which files it produces \n",
    "echo -- files sorted. last files are the most recent --\n",
    "ls -r"
   ]
  },
  {
   "cell_type": "markdown",
   "id": "59eb6d5e",
   "metadata": {
    "kernel": "Bash",
    "scrolled": true
   },
   "source": [
    "\n",
    "You should find two files ending with * .7.Q and * .7.P respectively. These are the estimated ancestry proportions and allele frequencies. \n",
    "\n",
    "### plotting admixture proportions\n",
    "lets plot the results. For this we will use R"
   ]
  },
  {
   "cell_type": "code",
   "execution_count": null,
   "id": "655d5315",
   "metadata": {
    "kernel": "R"
   },
   "outputs": [],
   "source": [
    "#make plot wide\n",
    "library(\"repr\")\n",
    "options(repr.plot.width=17, repr.plot.height=4.5)\n",
    "\n",
    "#read in code to plot admixture proportions ( plotAdmix function)\n",
    "source(\"https://raw.githubusercontent.com/GenisGE/evalAdmix/master/visFuns.R\")\n",
    "\n",
    "# Read in inferred admixture proportions\n",
    "q <- read.table(\"~/kenya2024/admixture/blue_wildebeest_noLD.7.Q\")\n",
    "\n",
    "#read in the population labels (first column of fam file)\n",
    "table(pop <- read.table(\"~/kenya2024/admixture/blue_wildebeest_noLD.fam\")[,1])\n",
    "\n",
    "#plot admixture proportions\n",
    "plotAdmix(q,pop=pop,rotatelab=15,padj=0.15,cex.lab=1.4,col=2:8)\n",
    "legend(0,1.1,fill=2:8,legend=0:5,hor=T,xpd=T)"
   ]
  },
  {
   "cell_type": "markdown",
   "id": "e9083e6d",
   "metadata": {
    "kernel": "R"
   },
   "source": [
    " - Does the results look like you expect (why/why not)?\n",
    " \n",
    " \n",
    " There are several hint that the results might be wrong. For example do you think it is realistic that the 3 cookson samples are all admixture with the same admixture proportions?\n",
    " \n",
    " ### EvalAdmix\n",
    " \n",
    " We can use evalAdmix to so if we can detect problems with the results of the analyiss. This method using the results of admixture to predict the genotypes for each indiviudals and then try identify indiviudals or population with a bad fit\n",
    " \n",
    " "
   ]
  },
  {
   "cell_type": "code",
   "execution_count": null,
   "id": "21349d43",
   "metadata": {
    "kernel": "Bash"
   },
   "outputs": [],
   "source": [
    "evalAdmix -plink blue_wildebeest_noLD -fname blue_wildebeest_noLD.7.P \\\n",
    "-qname blue_wildebeest_noLD.7.Q -o blue_wildebeest_noLD.7.eval -P 10\n",
    "\n"
   ]
  },
  {
   "cell_type": "markdown",
   "id": "3aca6c5a",
   "metadata": {
    "kernel": "R"
   },
   "source": [
    "The results from evalAdmixture can be plotted in R. "
   ]
  },
  {
   "cell_type": "code",
   "execution_count": null,
   "id": "23f1ec5b",
   "metadata": {
    "kernel": "R"
   },
   "outputs": [],
   "source": [
    "options(repr.plot.width=17, repr.plot.height=12)\n",
    "\n",
    "r <- as.matrix(read.table(\"~/kenya2024/admixture/blue_wildebeest_noLD.7.eval\"))\n",
    "plotCorRes(r, pop=pop, max_z = 0.25,rotatelabpop =20,adjlab = .05)\n"
   ]
  },
  {
   "cell_type": "markdown",
   "id": "84e5e030",
   "metadata": {
    "kernel": "Bash"
   },
   "source": [
    " - Which population does evalAdmix identify as having a bad fit? \n",
    "\n",
    "\n",
    "### evaluating covergence\n",
    "There are several posible explanations for why the fit it bad. The two most common reasons are 1) The choice of K is suboptimal 2) the algorithm has not converged to the global minimum. ADMIXTURE tries to find the combination of paramerts than maximizes  the log likelihoods. The algorith does not always give the correct results when the likelhoood surface is not concave as illustated below\n",
    "\n",
    "<img src=\"https://www.mathsisfun.com/algebra/images/function-max-global.svg\" alt=\"image info\" />\n",
    "\n",
    "To test for convergence we can test many different starting points and if many starting points leads to the same best log likelihood then we have likely found the global minimum. \n",
    "\n",
    "To save time we have prerun ADMIXTURE using 10 other seeds. The results are found in the folder multiRunK7\n",
    "\n",
    "\n"
   ]
  },
  {
   "cell_type": "code",
   "execution_count": null,
   "id": "21aad3c6",
   "metadata": {
    "kernel": "Bash"
   },
   "outputs": [],
   "source": [
    "K=7\n",
    "#mkdir -p multiRunK$K\n",
    "#for seed in 1 2 3 4 5 6 7 8 9 10\n",
    "#do\n",
    "#admixture --seed $seed -j70 blue_wildebeest_noLD.bed $K | tee multiRunK$K/blue_wildebeest_noLD.$K.log_$seed\n",
    "#mv blue_wildebeest_noLD.$K.Q multiRunK$K/blue_wildebeest_noLD.$K.Q_$seed \n",
    "#mv blue_wildebeest_noLD.$K.P multiRunK$K/blue_wildebeest_noLD.$K.P_$seed\n",
    "#done\n",
    "\n",
    "\n",
    "ls multiRunK$K"
   ]
  },
  {
   "cell_type": "markdown",
   "id": "1675da66",
   "metadata": {
    "kernel": "Bash"
   },
   "source": [
    "We can extract the likihoods for each of the 10 seed and sort according to their values. "
   ]
  },
  {
   "cell_type": "code",
   "execution_count": null,
   "id": "7d6579b3",
   "metadata": {
    "kernel": "Bash",
    "scrolled": false
   },
   "outputs": [],
   "source": [
    "grep ^Loglikelihood multiRunK7/blue_wildebeest_noLD.7.log* | sort -k 2 -t \" \"\n"
   ]
  },
  {
   "cell_type": "markdown",
   "id": "af2184a0",
   "metadata": {
    "kernel": "Bash"
   },
   "source": [
    " - Which seed has the highest likelihoods\n",
    " - Your run used seed 0. Did your run find a local or global maximum (find the likeihood in the bottom of the output from the program when you ran it)\n",
    " \n",
    " \n",
    " \n",
    " Lets try to plot the results from the seed with the best likelihood"
   ]
  },
  {
   "cell_type": "code",
   "execution_count": null,
   "id": "f6260cd1",
   "metadata": {
    "kernel": "R"
   },
   "outputs": [],
   "source": [
    "options(repr.plot.width=17, repr.plot.height=4.5)\n",
    "\n",
    "\n",
    "#read in code to plot admixture proportions ( plotAdmix function)\n",
    "source(\"https://raw.githubusercontent.com/GenisGE/evalAdmix/master/visFuns.R\")\n",
    "\n",
    "\n",
    "# Read in inferred admixture proportions\n",
    "q <- read.table(\"~/kenya2024/admixture/multiRunK7/blue_wildebeest_noLD.7.Q_4\")\n",
    "\n",
    "#read in the population labels (first column of fam file)\n",
    "pop <- read.table(\"~/kenya2024/admixture/blue_wildebeest_noLD.fam\")[,1]\n",
    "\n",
    "#make the plot. \n",
    "plotAdmix(q,pop=pop,rotatelab=15,padj=0.15,cex.lab=1.4,col=2:8)"
   ]
  },
  {
   "cell_type": "markdown",
   "id": "e9bcfb9f",
   "metadata": {
    "kernel": "Bash"
   },
   "source": [
    " - Did the results improve?\n",
    " - How many individuals can you find that are admixted between two subspecies?\n",
    " \n",
    " \n",
    " lets see if the fit is better now"
   ]
  },
  {
   "cell_type": "code",
   "execution_count": null,
   "id": "56ed0f01",
   "metadata": {
    "kernel": "Bash"
   },
   "outputs": [],
   "source": [
    "evalAdmix -plink blue_wildebeest_noLD -fname ~/kenya2024/admixture/multiRunK7/blue_wildebeest_noLD.7.P_4 \\\n",
    "-qname ~/kenya2024/admixture/multiRunK7/blue_wildebeest_noLD.7.Q_4 -o blue_wildebeest_noLD.7.eval_4 -P 10\n",
    "\n",
    "\n"
   ]
  },
  {
   "cell_type": "markdown",
   "id": "d87a7afd",
   "metadata": {
    "kernel": "Bash"
   },
   "source": [
    "Lets plot the results"
   ]
  },
  {
   "cell_type": "code",
   "execution_count": null,
   "id": "a7f45b3c",
   "metadata": {
    "kernel": "R"
   },
   "outputs": [],
   "source": [
    "#make plot wide\n",
    "library(\"repr\")\n",
    "options(repr.plot.width=17, repr.plot.height=12)\n",
    "\n",
    "#read in code to plot admixture proportions ( plotAdmix function)\n",
    "source(\"https://raw.githubusercontent.com/GenisGE/evalAdmix/master/visFuns.R\")\n",
    "\n",
    "#read in the population labels (first column of fam file)\n",
    "pop <- read.table(\"~/kenya2024/admixture/blue_wildebeest_noLD.fam\")[,1]\n",
    "\n",
    "r <- as.matrix(read.table(\"~/kenya2024/admixture/blue_wildebeest_noLD.7.eval_4\"))\n",
    "plotCorRes(r, pop=pop, max_z = 0.25,rotatelabpop =20,adjlab = .05)\n"
   ]
  },
  {
   "cell_type": "markdown",
   "id": "a40c53ae",
   "metadata": {
    "kernel": "R"
   },
   "source": [
    " - How is the fit?\n",
    " - There are some individual pairs of individuals with a positive correlation. What do you think is the reason?\n",
    " \n",
    " ### run for multiple K\n",
    " \n",
    " \n",
    " This will take some time so we have precomputed it using the code below using 3 seeds per K"
   ]
  },
  {
   "cell_type": "code",
   "execution_count": null,
   "id": "55c79f15",
   "metadata": {
    "kernel": "Bash"
   },
   "outputs": [],
   "source": [
    " \n",
    "#mkdir -p allK\n",
    "\n",
    "#for K in 1 2 3 4 5 6 7\n",
    "#do\n",
    "#  for seed in 1 2 3 \n",
    "#  do\n",
    "#    admixture --seed $seed -j70 blue_wildebeest_noLD.bed $K | tee allK/blue_wildebeest_noLD.$K.log_$seed\n",
    "#    mv blue_wildebeest_noLD.$K.Q allK/blue_wildebeest_noLD.$K.Q_$seed \n",
    "#    mv blue_wildebeest_noLD.$K.P allK/blue_wildebeest_noLD.$K.P_$seed\n",
    "#  done\n",
    "#done\n",
    "\n",
    "\n",
    "ls allK/"
   ]
  },
  {
   "cell_type": "markdown",
   "id": "f8b4ba9f",
   "metadata": {
    "kernel": "Bash"
   },
   "source": [
    "\n",
    "We can plot the results in R\n"
   ]
  },
  {
   "cell_type": "code",
   "execution_count": null,
   "id": "eba34594",
   "metadata": {
    "kernel": "R",
    "scrolled": true
   },
   "outputs": [],
   "source": [
    "options(repr.plot.width=17, repr.plot.height=9)\n",
    "\n",
    "l<-list.files(\"~/kenya2024/admixture/allK/\",full=TRUE,pattern=\"Q_1\")\n",
    "files<-sort(l)\n",
    "print(files)\n",
    "# possible K\n",
    "Kall <- 2:7\n",
    "\n",
    "## read Qs\n",
    "allQ <- list()\n",
    "for(K in Kall)\n",
    "    allQ[[K]]<-t(read.table(files[K-min(Kall)+1]))\n",
    "\n",
    "\n",
    "source(\"https://raw.githubusercontent.com/popgenDK/admixturePlot/main/admixFun.R\")\n",
    "\n",
    "pop <- read.table(\"~/kenya2024/admixture/blue_wildebeest_noLD.fam\")[,1]\n",
    "palette(palette()[-1])\n",
    "plotMulti(allQ,Kall=Kall,as.factor(pop))"
   ]
  },
  {
   "cell_type": "markdown",
   "id": "1061cdd9",
   "metadata": {
    "kernel": "R"
   },
   "source": [
    " - What determines which populations get their own compoment first ( with low K)?\n",
    "\n"
   ]
  }
 ],
 "metadata": {
  "kernelspec": {
   "display_name": "SoS",
   "language": "sos",
   "name": "sos"
  },
  "language_info": {
   "codemirror_mode": "sos",
   "file_extension": ".sos",
   "mimetype": "text/x-sos",
   "name": "sos",
   "nbconvert_exporter": "sos_notebook.converter.SoS_Exporter",
   "pygments_lexer": "sos"
  },
  "sos": {
   "kernels": [
    [
     "Bash",
     "bash",
     "bash",
     "",
     "shell"
    ],
    [
     "Python 3 (ipykernel)",
     "python3",
     "python3",
     "",
     {
      "name": "ipython",
      "version": 3
     }
    ],
    [
     "R",
     "ir",
     "R",
     "",
     "r"
    ]
   ],
   "panel": {
    "displayed": true,
    "height": 0
   },
   "version": "0.24.1"
  }
 },
 "nbformat": 4,
 "nbformat_minor": 5
}
