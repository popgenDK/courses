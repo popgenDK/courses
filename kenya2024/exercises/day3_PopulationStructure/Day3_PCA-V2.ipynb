{
 "cells": [
  {
   "cell_type": "markdown",
   "id": "0cf4cf69",
   "metadata": {
    "kernel": "SoS"
   },
   "source": [
    "\n",
    "\n",
    "</br>\n",
    "<font size=\"12\">PCA and population structure</font>\n",
    "\n",
    "\n",
    "\n",
    "\n",
    "# Simple example of PCA and MDS\n",
    "\n",
    "First let's try to perform PCA and MDS on the small matrix from the slides. The below code will input the genotypes into R. \n"
   ]
  },
  {
   "cell_type": "code",
   "execution_count": null,
   "id": "3b4426fc",
   "metadata": {
    "kernel": "R"
   },
   "outputs": [],
   "source": [
    "#read in data from slides\n",
    "G <-matrix(c(1,0,2,0,2,0,2,1,1,1,0,1,0,2,1,2,1,1,1,1,1,0,1,0,2,0,1,1,0,2,1,2,0,1,0),5,by=T,\n",
    "           dimnames=list(paste0(\"IND\",1:5),paste0(\"SNP\",1:7)))\n",
    "nInd <- nrow(G)\n",
    "\n",
    "print(G)\n"
   ]
  },
  {
   "cell_type": "code",
   "execution_count": null,
   "id": "10120061",
   "metadata": {
    "kernel": "Python 3 (ipykernel)"
   },
   "outputs": [],
   "source": [
    "## run the code to start a quiz\n",
    "from jupyterquiz import display_quiz\n",
    "display_quiz('https://raw.githubusercontent.com/popgenDK/courses/main/kenya2024/exercises/day3_PopulationStructure/pca_quiz1.json')"
   ]
  },
  {
   "cell_type": "markdown",
   "id": "c4ecf59b",
   "metadata": {
    "kernel": "SoS"
   },
   "source": [
    "\n",
    "## MDS \n",
    "\n",
    "Let's try to do multidimensional scaling (MDS). First let's calculate the distance. The simple distance measure as seen in the slides is called a Manhattan distance.\n"
   ]
  },
  {
   "cell_type": "code",
   "execution_count": null,
   "id": "3703762a",
   "metadata": {
    "kernel": "R"
   },
   "outputs": [],
   "source": [
    "\n",
    "## continue in R\n",
    "D<-dist(G,upper=T,diag=T,method=\"manh\")\n",
    "D\n"
   ]
  },
  {
   "cell_type": "markdown",
   "id": "01158311",
   "metadata": {
    "kernel": "SoS"
   },
   "source": [
    "\n",
    " - How many dimensions are used to represent the distances?\n",
    "\n",
    "Now let's reduce the number of dimension to 2 using MDS and plot the results:"
   ]
  },
  {
   "cell_type": "code",
   "execution_count": null,
   "id": "31771ac3",
   "metadata": {
    "kernel": "R",
    "scrolled": false
   },
   "outputs": [],
   "source": [
    " #perform MDS to 2 dimensions\n",
    "k2<-cmdscale(D,k=2)\n",
    "\n",
    "cat(\"\\n Dimension reduction to two dimensions\")\n",
    "k2\n",
    "cat(\"\\n original Distance between individuals:\")\n",
    "dist(G,upper=T,diag=T,method=\"manha\")\n",
    "cat(\"\\n Distance between individuals in from the MDS:\")\n",
    "round(D_k2<- dist(k2,upper=T,diag=T,method=\"manha\"),2)\n"
   ]
  },
  {
   "cell_type": "markdown",
   "id": "56d0f51e",
   "metadata": {
    "kernel": "R"
   },
   "source": [
    " - What is the biggest difference between the original distances and the projected?\n",
    " \n",
    " Lets plot the results"
   ]
  },
  {
   "cell_type": "code",
   "execution_count": null,
   "id": "545826b4",
   "metadata": {
    "kernel": "R",
    "scrolled": false
   },
   "outputs": [],
   "source": [
    "#plot the results\n",
    "options(repr.plot.width=10, repr.plot.height=10)\n",
    "plot(k2,pch=16,cex=3,col=1:5+1,ylab=\"distance 2nd dimension\",xlab=\"distance 1st dimension\",main=\"Multiple dimension scaling (MDS)\")\n",
    "points(k2,pch=as.character(1:5), col=\"white\")\n",
    "points(k2,pch=as.character(1:5), col=\"white\")"
   ]
  },
  {
   "cell_type": "markdown",
   "id": "25976e5c",
   "metadata": {
    "kernel": "SoS"
   },
   "source": [
    "\n",
    " - Can you find any difference in the pairwise distances from the plot and the original pairwise distances?. \n",
    "\n",
    "## PCA\n",
    "First let's try to perform PCA directy on the normalized genotypes without calculating the covariance matrix. We use the normalization $\\tilde{G}_{ij}=\\frac{G_{ij}-2f_j}{\\sqrt{2f_j(1-f_j)}}$ where j is the site (SNP) and i is the individuals. $f_j=\\frac{\\sum_i^n G_{ij}}{2n}$ is the allele frequency.  \n",
    "\n",
    " - Why do we normalize the genotypes?\n",
    " \n",
    "  "
   ]
  },
  {
   "cell_type": "code",
   "execution_count": null,
   "id": "8f857e0c",
   "metadata": {
    "kernel": "R"
   },
   "outputs": [],
   "source": [
    " #first normalize the data do that the mean and variance is the same for each SNP\n",
    "normalize <- function(x){\n",
    "    nInd <- nrow(x)\n",
    "    avg <- colMeans(x)\n",
    "    M <- x - rep(colMeans(x),each=nInd)\n",
    "    M <- M/sqrt(2*rep(avg/2*(1-avg/2),each=nInd))\n",
    "    M\n",
    " }\n",
    "\n",
    "\n",
    "cat(\"Original genotypes\\n\")\n",
    "print(G)\n",
    "\n",
    "cat(\"\\n Normalizes genotypes\\n\")\n",
    "Gtilde <- normalize(G)\n",
    "print(Gtilde)\n",
    "\n",
    "cat(\"\\n Dimension of G-tilde (tilde = ~)\")\n",
    "dim(Gtilde)\n",
    "\n",
    "\n",
    "cat(\"\\n Dimension of G-tilde\")\n",
    " svd <- svd(Gtilde)\n",
    " ## print the decomposition for M=SDV\n",
    " ## u is the eigenvectors\n",
    " ## d is eigen values\n",
    " print(svd)\n"
   ]
  },
  {
   "cell_type": "markdown",
   "id": "f8721ee5",
   "metadata": {
    "kernel": "R"
   },
   "source": [
    "The above is the decomposition of the genotypes into the diagonal matrix (d) with eigenvalues, and the left (u) and right (v) eigenvectors such that\n",
    "$\\tilde{G}=U\\Sigma V^T$\n",
    "where $\\Sigma$ has the diagonal values of d. \n",
    "\n",
    "PCA plots in genetics is often with the U matrix or $U\\Sigma$ \n"
   ]
  },
  {
   "cell_type": "code",
   "execution_count": null,
   "id": "079c7752",
   "metadata": {
    "kernel": "R",
    "scrolled": false
   },
   "outputs": [],
   "source": [
    "plot(svd$u[,1:2],pch=16,cex=3,col=1:5+1,ylab=\"2. PC\",xlab=\"1. PC\", \n",
    "     main=\"Principle component analysis (PCA) U matrix\")\n",
    "points(svd$u[,1:2],pch=as.character(1:5), col=\"white\")\n",
    "\n",
    "cat(\"SIGMA (diagonal matrix)\")\n",
    "SIGMA <-  diag(svd$d)\n",
    "plot(svd$u[,1:2]%*%SIGMA[1:2,1:2],pch=16,cex=3,col=1:5+1,ylab=\"2. PC\",xlab=\"1. PC\", \n",
    "     main=\"Principle component analysis (PCA) UΣ\")\n",
    "points(svd$u[,1:2]%*%SIGMA[1:2,1:2],pch=as.character(1:5), col=\"white\")\n"
   ]
  },
  {
   "cell_type": "markdown",
   "id": "f00c0940",
   "metadata": {
    "kernel": "R"
   },
   "source": [
    " - Compare the two plots. What is the difference? \n",
    "\n",
    " - Compare MDS vs. PCA. Are the capturing the same thing? \n",
    "\n",
    "Bonus information:\n",
    "\n",
    "Unlike MDS, PCA will not remove information, so you are actually able to reconstruct your covariance matrix from the principal components."
   ]
  },
  {
   "cell_type": "markdown",
   "id": "b6b873e9",
   "metadata": {
    "kernel": "SoS"
   },
   "source": [
    "# PCA for wildebeest\n",
    "\n",
    "Again we will use data from the Blue Wildebeest. To simply the the analysis we have included only on of the Brindles populations ( B-Etosha). \n",
    "\n",
    "<img src=\"https://raw.githubusercontent.com/popgenDK/popgenDK.github.io/gh-pages/images/slider/wildeBeastMap.png\" alt=\"image info\" />\n",
    "\n",
    "\n",
    "#  PCA for low depth sequencing using PCAngsd \n",
    "\n",
    "\n",
    "# Software and data\n",
    "\n",
    "\n",
    "\n",
    "### Software\n",
    "We will be using plink, PCAone for this exercise. First lets see if the software is installed and get the data"
   ]
  },
  {
   "cell_type": "code",
   "execution_count": null,
   "id": "435b3898",
   "metadata": {
    "kernel": "Bash",
    "scrolled": true
   },
   "outputs": [],
   "source": [
    "echo --programs that are installed:--\n",
    "which plink\n",
    "which PCAone\n",
    "\n",
    "#make folder if it does not exist already\n",
    "mkdir -p ~/kenya2024/\n",
    "mkdir -p ~/kenya2024/admixture\n",
    "\n",
    "# enter folder\n",
    "cd ~/kenya2024/admixture\n",
    "\n",
    "\n",
    "# make links to files and add them to the folder\n",
    "cp -sf /davidData/data/course/kenyaWorkshop/anders/structure_day3/blue_wildebeest_thin* .\n",
    "cp -r -sf  /davidData/data/course/kenyaWorkshop/anders/structure_day3/multiRunK7 .\n",
    "\n",
    "echo --- files in folder ---\n",
    "ls \n"
   ]
  },
  {
   "cell_type": "markdown",
   "id": "deeaffce",
   "metadata": {
    "kernel": "Bash"
   },
   "source": [
    "Let perform PCA on the whole data (without LD pruning). \n",
    "\n",
    "We will use PCAone first:\n",
    "\n"
   ]
  },
  {
   "cell_type": "code",
   "execution_count": null,
   "id": "9b31bad8",
   "metadata": {
    "kernel": "Bash"
   },
   "outputs": [],
   "source": [
    "PCAone"
   ]
  },
  {
   "cell_type": "markdown",
   "id": "09dba6b3",
   "metadata": {
    "kernel": "Bash"
   },
   "source": [
    "Shows the options. To run it use the following command"
   ]
  },
  {
   "cell_type": "code",
   "execution_count": null,
   "id": "544369a4",
   "metadata": {
    "kernel": "Bash",
    "scrolled": false
   },
   "outputs": [],
   "source": [
    "\n",
    "PCAone  -b blue_wildebeest_thin -o blue_wildebeest_thin"
   ]
  },
  {
   "cell_type": "markdown",
   "id": "bf139a1e",
   "metadata": {
    "kernel": "Calysto Bash"
   },
   "source": [
    " - look at the above output. How many SNPs and how many individuals?\n",
    " \n",
    " The default is to calculate the top 10 PCs. If you want more you can use the option --pc <INT> to choose a different number. However, let see what the top PCs capture. \n",
    "    \n",
    "First let look the two first PCs as well as the admixture proportions\n"
   ]
  },
  {
   "cell_type": "code",
   "execution_count": null,
   "id": "d1147269",
   "metadata": {
    "kernel": "R"
   },
   "outputs": [],
   "source": [
    "options(repr.plot.width=12, repr.plot.height=12)\n",
    "\n",
    "layout(matrix(c(1,1,2,3),nrow=2,by=T),height=c(2,4),width=2:1)\n",
    "#read in code to plot admixture proportions ( plotAdmix function)\n",
    "source(\"https://raw.githubusercontent.com/GenisGE/evalAdmix/master/visFuns.R\")\n",
    "\n",
    "\n",
    "# Read in inferred admixture proportions\n",
    "q <- read.table(\"~/kenya2024/admixture/multiRunK7/blue_wildebeest_noLD.7.Q_4\")\n",
    "\n",
    "#read in the population labels (first column of fam file)\n",
    "tab <- table(pop <- read.table(\"~/kenya2024/admixture/blue_wildebeest_noLD.fam\")[,1])\n",
    "\n",
    "#make the plot. \n",
    "plotAdmix(q,pop=pop,rotatelab=15,padj=0.15,cex.lab=1.4,col=c(3,5,8,4,2,6,7))\n",
    "\n",
    "\n",
    "pca <- read.table(\"~/kenya2024/admixture/blue_wildebeest_thin.eigvecs\")\n",
    "#layout(matrix(1:2,nrow=1),w=c(4,2))\n",
    "plot(pca[,1:2],col=as.integer(as.factor(pop))+1,ylab=paste(\"PC\",1),xlab=paste(\"PC\",2),cex.lab=1.5,cex=2,lwd=8)\n",
    "plot.new()\n",
    "legend(\"top\",legend=names(tab),bty=\"n\",xpd=T,cex=2,text.col=1:length(tab)+1,text.font=2)\n"
   ]
  },
  {
   "cell_type": "markdown",
   "id": "fc4b480c",
   "metadata": {
    "kernel": "R"
   },
   "source": [
    " - What information do you get from the PCA that you don't get from the ADMIXTURE results?\n",
    " - Can you identify the admixed individuals?\n",
    " \n",
    " \n",
    " Lets see what the other PCs show. \n",
    " "
   ]
  },
  {
   "cell_type": "code",
   "execution_count": null,
   "id": "245d4a20",
   "metadata": {
    "kernel": "R"
   },
   "outputs": [],
   "source": [
    "options(repr.plot.width=12, repr.plot.height=16)\n",
    "\n",
    "par(mfrow=c(3,2))\n",
    "for(pc in 0:4)\n",
    "    plot(pca[,pc*2+1:2],col=as.factor(pop),ylab=paste(\"PC\",pc*2+2),xlab=paste(\"PC\",pc*2+1),cex.lab=1.5,cex=2,lwd=8)\n"
   ]
  },
  {
   "cell_type": "markdown",
   "id": "e708940c",
   "metadata": {
    "kernel": "Bash"
   },
   "source": [
    " - How many PCs are used to separate the populations?\n",
    " - What do you think is captured on PC 7 and 8?\n",
    " - What  do you think is captures on PC 9 and 10?\n",
    " "
   ]
  },
  {
   "cell_type": "markdown",
   "id": "57386879",
   "metadata": {
    "kernel": "R"
   },
   "source": [
    "## Bonus exercise if there is time\n",
    "\n",
    "\n",
    "Lets try to run the PCA after pruning LD (linkage disequillibrium) from the data. The noLD data was created in the admixture exercise. \n",
    "Run the PCA "
   ]
  },
  {
   "cell_type": "code",
   "execution_count": null,
   "id": "21661880",
   "metadata": {
    "kernel": "Bash"
   },
   "outputs": [],
   "source": [
    "PCAone  -b  blue_wildebeest_noLD -o blue_wildebeest_noLD"
   ]
  },
  {
   "cell_type": "markdown",
   "id": "3cf7c4a2",
   "metadata": {
    "kernel": "Bash"
   },
   "source": [
    "\n",
    "We can start by comparing the eigenvalue. These are proportional to the variance explained so that higher values means that the corresponding PC captures more information about the data. "
   ]
  },
  {
   "cell_type": "code",
   "execution_count": null,
   "id": "87a0a512",
   "metadata": {
    "kernel": "R",
    "scrolled": false
   },
   "outputs": [],
   "source": [
    "options(repr.plot.width=12, repr.plot.height=8)\n",
    "\n",
    "eigen <- scan(\"~/kenya2024/admixture/blue_wildebeest_thin.eigvals\")\n",
    "eigenNoLD <- scan(\"~/kenya2024/admixture/blue_wildebeest_noLD.eigvals\")\n",
    "\n",
    "barplot(rbind(eigen,eigenNoLD),beside=T,col=2:3,legend=c(\"With LD\",\"Without LD\"),\n",
    "       ylab=\"eigen values\",xlab=\"PC 1:10\")"
   ]
  },
  {
   "cell_type": "markdown",
   "id": "9bffb30e",
   "metadata": {
    "kernel": "Bash"
   },
   "source": [
    " - which data set captures the most information about the population structure from the first top PCs?\n",
    " \n",
    " Lets plot the PCs from the two data sets"
   ]
  },
  {
   "cell_type": "code",
   "execution_count": null,
   "id": "ca4a0440",
   "metadata": {
    "kernel": "R",
    "scrolled": false
   },
   "outputs": [],
   "source": [
    "options(repr.plot.width=12, repr.plot.height=32)\n",
    "\n",
    "tab <- table(pop <- read.table(\"~/kenya2024/admixture/blue_wildebeest_noLD.fam\")[,1])\n",
    "\n",
    "\n",
    "pcaNoLD <- read.table(\"~/kenya2024/admixture/blue_wildebeest_noLD.eigvecs\")\n",
    "\n",
    "\n",
    "par(mfrow=c(5,2))\n",
    "for(pc in 0:4){\n",
    " \n",
    "    plot(pca[,pc*2+1:2],col=as.factor(pop),ylab=paste(\"PC\",pc*2+2),xlab=paste(\"PC\",pc*2+1),cex.lab=1.5,cex=2,lwd=8,main=\"with LD\")\n",
    "    plot(pcaNoLD[,pc*2+1:2],col=as.factor(pop),ylab=paste(\"PC\",pc*2+2),xlab=paste(\"PC\",pc*2+1),cex.lab=1.5,cex=2,lwd=8,main=\"No LD\")\n",
    "\n",
    "    \n",
    "    }"
   ]
  },
  {
   "cell_type": "markdown",
   "id": "d233cf13",
   "metadata": {
    "kernel": "R"
   },
   "source": [
    " - Which of the PCs from prevous analysis capture LD and not population structure?\n",
    " - Do you think it is better to perform PCA with out without LD?"
   ]
  }
 ],
 "metadata": {
  "kernelspec": {
   "display_name": "SoS",
   "language": "sos",
   "name": "sos"
  },
  "language_info": {
   "codemirror_mode": "sos",
   "file_extension": ".sos",
   "mimetype": "text/x-sos",
   "name": "sos",
   "nbconvert_exporter": "sos_notebook.converter.SoS_Exporter",
   "pygments_lexer": "sos"
  },
  "sos": {
   "kernels": [
    [
     "Bash",
     "bash",
     "bash",
     "",
     "shell"
    ],
    [
     "Python 3 (ipykernel)",
     "python3",
     "python3",
     "",
     {
      "name": "ipython",
      "version": 3
     }
    ],
    [
     "R",
     "ir",
     "R",
     "#DCDCDA",
     "r"
    ]
   ],
   "panel": {
    "displayed": false,
    "height": 0
   },
   "version": "0.24.1"
  }
 },
 "nbformat": 4,
 "nbformat_minor": 5
}
