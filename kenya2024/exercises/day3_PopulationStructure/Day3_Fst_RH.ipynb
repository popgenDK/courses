{
 "cells": [
  {
   "cell_type": "markdown",
   "id": "6210f976",
   "metadata": {
    "kernel": "SoS"
   },
   "source": [
    "# Day 3, Practical 3\n",
    "\n",
    "In this exercise we will cover:\n",
    " - Generating and displaying pairwise $F_{st}$ values\n",
    " - An example of f4 / D-statistics \n",
    "    \n",
    "    \n",
    "Tools used: plink2, R\n",
    "\n",
    "The notebooks are editable, so feel free to experiment and change the code to see what happens or write notes in the text cells. Just remember to download the notebooks used here at some point if you want to save them with your own changes included."
   ]
  },
  {
   "cell_type": "code",
   "execution_count": null,
   "id": "4133ff75",
   "metadata": {
    "kernel": "Bash"
   },
   "outputs": [],
   "source": [
    "### make directory for the exercise\n",
    "mkdir -p ~/kenya2024/Fstats\n",
    "cd ~/kenya2024/Fstats\n",
    "\n",
    "which plink2\n",
    "which R"
   ]
  },
  {
   "cell_type": "markdown",
   "id": "86096f31",
   "metadata": {
    "kernel": "Bash"
   },
   "source": [
    "We will be using the data set of called genotypes from different blue wildebeest populations, as well as some black wildebeest as an outgroup to compare to, saved in a plink format file set. \n",
    "\n",
    "Here is the map from earlier to help show the sampling locations of the different wildebeest populations:\n",
    "<img src=\"https://raw.githubusercontent.com/popgenDK/popgenDK.github.io/gh-pages/images/slider/wildeBeastMap.png\" alt=\"image info\" />\n",
    "\n",
    "\n",
    " - Do you remember what a plink file set (.bed, bim and .fam) contains?\n",
    " "
   ]
  },
  {
   "cell_type": "code",
   "execution_count": null,
   "id": "27b91ec2",
   "metadata": {
    "kernel": "Bash"
   },
   "outputs": [],
   "source": [
    "head /davidData/users/thomas/workshop/wildebeest_fst.fam"
   ]
  },
  {
   "cell_type": "code",
   "execution_count": null,
   "id": "76ae7def",
   "metadata": {
    "kernel": "Bash"
   },
   "outputs": [],
   "source": [
    "head /davidData/users/thomas/workshop/wildebeest_fst.bim"
   ]
  },
  {
   "cell_type": "markdown",
   "id": "8bd0e849",
   "metadata": {
    "kernel": "Bash"
   },
   "source": [
    "Below we have the command used to run the $F_{st}$ estimation:"
   ]
  },
  {
   "cell_type": "code",
   "execution_count": null,
   "id": "82470033",
   "metadata": {
    "kernel": "Bash"
   },
   "outputs": [],
   "source": [
    "\n",
    "plink2 --bfile /davidData/users/thomas/workshop/wildebeest_fst --within /davidData/users/thomas/workshop/clusterfile \\\n",
    "    --fst CATPHENO method=hudson --allow-extra-chr --threads 10"
   ]
  },
  {
   "cell_type": "markdown",
   "id": "3649580a",
   "metadata": {
    "kernel": "Bash"
   },
   "source": [
    " - The cluster/within file give with \"-within /davidData/users/thomas/workshop/clusterfile\" tells the program how to separate the individuals into different groups for comparison. If we did not know up front which samples belonged together in populations, can you recall something we have looked at that could perhaps help with this?\n",
    "\n",
    "Then let's have a look at the results:"
   ]
  },
  {
   "cell_type": "code",
   "execution_count": null,
   "id": "556411bf",
   "metadata": {
    "kernel": "Bash"
   },
   "outputs": [],
   "source": [
    "# some hartebeest samples were also originally included in this data set, but now we can just remove those from\n",
    "# the output\n",
    "grep -ve Hartebeest plink2.fst.summary > tmp\n",
    "mv tmp plink2.fst.summary\n",
    "\n",
    "# print the results\n",
    "column -t plink2.fst.summary"
   ]
  },
  {
   "cell_type": "markdown",
   "id": "f22e52b5",
   "metadata": {
    "kernel": "R"
   },
   "source": [
    " - Which populations are most genetically differentiated? Which are most similar?\n",
    " \n",
    " - Can you indentify a pattern in the Fst values between black wildebeest and each of the blue wildebeest populations? Try to see if you can explain this pattern.\n",
    "\n",
    "Are each of these values large or small? This is quite difficult to answer without context, as it will depend on the type of data you are analyzing, the amount of data and the scope of your study. To provide context, one often looks at a matrix of $F_{st}$ values, which can be visualized using a heatmap. To do this we first need to transform the above data frame into a matrix, and then generate a heatmap using the heatmap.2-function."
   ]
  },
  {
   "cell_type": "code",
   "execution_count": null,
   "id": "851a0714",
   "metadata": {
    "kernel": "R",
    "scrolled": false
   },
   "outputs": [],
   "source": [
    "options(repr.matrix.max.cols=10, repr.matrix.max.rows=10)\n",
    "options(repr.plot.width=16, repr.plot.height=16)\n",
    "library(gplots)\n",
    "\n",
    "# read the data into R\n",
    "fst <- read.table(\"~/kenya2024/Fstats/plink2.fst.summary\")\n",
    "names(fst) <- c(\"pop1\", \"pop2\", \"est\")\n",
    "fst <- fst[fst$pop1 != \"Hartebeest\" & fst$pop2 != \"Hartebeest\",]"
   ]
  },
  {
   "cell_type": "markdown",
   "id": "38eae150",
   "metadata": {
    "kernel": "R"
   },
   "source": [
    "Here we transform the table from above into a pairwise matrix that contains the exact same information, just in a different format:"
   ]
  },
  {
   "cell_type": "code",
   "execution_count": null,
   "id": "3092b3df",
   "metadata": {
    "kernel": "R"
   },
   "outputs": [],
   "source": [
    "mat <- matrix(NA, 8, 8)\n",
    "mat[lower.tri(mat)] <- fst$est\n",
    "mat <- t(mat)\n",
    "mat[lower.tri(mat)] <- fst$est\n",
    "colnames(mat) <- c( \"Amboseli\", fst[1:7,2])\n",
    "rownames(mat) <- c( \"Amboseli\", fst[1:7,2])\n",
    "mat"
   ]
  },
  {
   "cell_type": "code",
   "execution_count": null,
   "id": "e66d0bd8",
   "metadata": {
    "kernel": "R"
   },
   "outputs": [],
   "source": [
    "heatmap.2(mat, symm=T, trace='n', cexRow=1.5, cexCol=1.5, margins = c(12, 12))"
   ]
  },
  {
   "cell_type": "markdown",
   "id": "e6bb4e58",
   "metadata": {
    "kernel": "R"
   },
   "source": [
    " - Look at the clustering tree produced by this method. Do the different groups relate to each other as we would expect?\n",
    "\n",
    "- We can see some discrete levels of values in the color key and in the histogram in the inset plot. What do these correspond to?\n",
    " \n",
    "An important note here is that the tree/dendrogram used to order the groups here simply comes from clustering based on the $F_{st}$ values and will not neccesarily reflect the true evolutionary history of the groups.\n",
    "\n"
   ]
  },
  {
   "cell_type": "markdown",
   "id": "6438ca91",
   "metadata": {
    "kernel": "R"
   },
   "source": [
    "## F4 / D-statistic\n",
    "For this part of the exercise we can use the R package admixtools to compute F4 values which correspond to the D-statistic mentioned earlier in the day, just with a flipped sign, so that negative values of F4 correspond to a positive D-statistic and vice versa.\n",
    "\n",
    "Here we take a look at whether any of the populations of blue wildebeest are more closely related to the black wildebeest than the others - which indicates gene flow."
   ]
  },
  {
   "cell_type": "code",
   "execution_count": null,
   "id": "d0664658",
   "metadata": {
    "kernel": "R"
   },
   "outputs": [],
   "source": [
    "library(admixtools)\n",
    "library(tidyverse)\n",
    "options(repr.plot.width=16)\n",
    "\n",
    "# load in f2 values that were pre computed from the plink data set\n",
    "f2 <- read_f2(\"/davidData/users/thomas/workshop/wildebeest_fstats_wildebeestref\")\n",
    "\n",
    "# define tree of relationships between groups, this format is a bit hard to read,\n",
    "#  but is similar to newick format for those familiar\n",
    "tree <- c(c(c(c(c(c('N-Selous', 'C-Luangwa'), 'B-Ethosha'), c(c(c(\"E-Nairobi\", \"E-Amboseli\"), \"E-Monduli\"), 'W-Serengeti')), 'black'), \"hartebeest\"))\n",
    "\n",
    "# generate f4 values\n",
    "f4 <- f4(f2, tree, f4mode = FALSE)\n",
    "\n",
    "# select only values for subtrees where pop3 is black wildebeest and outgroup is hartebeest\n",
    "f4_sub <- f4[f4$pop4==\"hartebeest\" & f4$pop3==\"black\",]\n",
    "\n",
    "# make new row for each combination of pop 1 and pop 2 where they are switched and their f4 flipped, to make plot look nicer\n",
    "f4_sub_switched <- f4_sub %>%\n",
    "                          mutate(\n",
    "                            temp = .data[[\"pop1\"]],\n",
    "                            !!\"pop1\" := .data[[\"pop2\"]],\n",
    "                            !!\"pop2\" := temp,\n",
    "                            across(all_of(c(\"est\", \"z\" )), ~ . * -1)\n",
    "                          ) %>%\n",
    "                          select(-temp)\n",
    "\n",
    "f4_sub <- bind_rows(f4_sub, f4_sub_switched)\n",
    "\n",
    "# show resulting subset\n",
    "f4_sub"
   ]
  },
  {
   "cell_type": "markdown",
   "id": "dd0e2bbb",
   "metadata": {
    "kernel": "R"
   },
   "source": [
    "In this output, look for values in the column labelled 'z'. Those rows that have values higher than 3 or lower than -3 are usually considered statistically significant. If the value is negative, it means that the population in column pop2 has more alleles in common with black wildebeest than the population in column pop1. If it's positive, the interpretation is the opposite, i.e. pop1 has more alleles in common with black than pop2.\n",
    "\n",
    "This can also be shown in a plot. Run this plotting code and see if you can make sense of the plot below."
   ]
  },
  {
   "cell_type": "code",
   "execution_count": null,
   "id": "59c61389",
   "metadata": {
    "kernel": "R"
   },
   "outputs": [],
   "source": [
    "ggplot(f4_sub, aes(est, pop1, fill = pop2)) +\n",
    "geom_bar(stat = \"identity\", position = \"dodge\") +\n",
    "facet_wrap(~pop1, ncol=1, scale=\"free_y\") +\n",
    "theme_bw() +\n",
    "xlab(\"f4 value \\n with population 3 as black wildebeest and population 4 as hartebeest\") +\n",
    "theme(axis.text=element_text(size=20), legend.text = element_text(size=30), axis.title=element_text(size=20),\n",
    "      strip.background = element_blank(), strip.text.x = element_blank(), legend.key.size = unit(2, 'cm'), legend.title = element_text(size=30)) "
   ]
  },
  {
   "cell_type": "markdown",
   "id": "fe8c0865",
   "metadata": {
    "kernel": "R"
   },
   "source": [
    " - Which population of blue wildebeest had gene flow with black wildebeest? How do you think this happened, and why is it not all blue wildebeests that had gene flow with black wildebeest?"
   ]
  }
 ],
 "metadata": {
  "kernelspec": {
   "display_name": "SoS",
   "language": "sos",
   "name": "sos"
  },
  "language_info": {
   "codemirror_mode": "sos",
   "file_extension": ".sos",
   "mimetype": "text/x-sos",
   "name": "sos",
   "nbconvert_exporter": "sos_notebook.converter.SoS_Exporter",
   "pygments_lexer": "sos"
  },
  "sos": {
   "kernels": [
    [
     "Bash",
     "bash",
     "bash",
     "",
     "shell"
    ],
    [
     "R",
     "ir",
     "R",
     "",
     "r"
    ]
   ],
   "panel": {
    "displayed": false,
    "height": 0
   },
   "version": "0.24.1"
  }
 },
 "nbformat": 4,
 "nbformat_minor": 5
}
