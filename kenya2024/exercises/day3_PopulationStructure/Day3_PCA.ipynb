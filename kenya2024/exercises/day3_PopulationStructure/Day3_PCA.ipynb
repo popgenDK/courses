{
 "cells": [
  {
   "cell_type": "markdown",
   "id": "0cf4cf69",
   "metadata": {
    "kernel": "SoS"
   },
   "source": [
    "\n",
    "\n",
    "</br>\n",
    "<font size=\"12\">PCA and population structure</font>\n",
    "\n",
    "\n",
    "\n",
    "\n",
    "# Simple example of PCA and MDS\n",
    "\n",
    "First let's try to perform PCA and MDS on the small matrix from the slides. The below code will input the genotypes into R. \n"
   ]
  },
  {
   "cell_type": "code",
   "execution_count": null,
   "id": "3b4426fc",
   "metadata": {
    "kernel": "R"
   },
   "outputs": [],
   "source": [
    "#read in data from slides\n",
    "G <-matrix(c(1,0,2,0,2,0,2,1,1,1,0,1,0,2,1,2,1,1,1,1,1,0,1,0,2,0,1,1,0,2,1,2,0,1,0),5,by=T,\n",
    "           dimnames=list(paste0(\"IND\",1:5),paste0(\"SNP\",1:7)))\n",
    "nInd <- nrow(G)\n",
    "\n",
    "print(G)\n"
   ]
  },
  {
   "cell_type": "code",
   "execution_count": null,
   "id": "10120061",
   "metadata": {
    "kernel": "Python 3 (ipykernel)"
   },
   "outputs": [],
   "source": [
    "## run the code to start a quiz\n",
    "from jupyterquiz import display_quiz\n",
    "display_quiz('https://raw.githubusercontent.com/popgenDK/courses/main/kenya2024/exercises/day3_PopulationStructure/pca_quiz1.json')"
   ]
  },
  {
   "cell_type": "markdown",
   "id": "c4ecf59b",
   "metadata": {
    "kernel": "SoS"
   },
   "source": [
    "\n",
    "## MDS \n",
    "\n",
    "Let's try to do multidimentional scaling (MDS). First let's calculate the distance. The simple distance measure as seen in the slides is called a Manhattan distance.\n"
   ]
  },
  {
   "cell_type": "code",
   "execution_count": null,
   "id": "3703762a",
   "metadata": {
    "kernel": "R"
   },
   "outputs": [],
   "source": [
    "\n",
    "## continue in R\n",
    "D<-dist(G,upper=T,diag=T,method=\"manh\")\n",
    "D\n"
   ]
  },
  {
   "cell_type": "markdown",
   "id": "01158311",
   "metadata": {
    "kernel": "SoS"
   },
   "source": [
    "\n",
    " - How many dimensions are used to represent the distances?\n",
    "\n",
    "Now let's reduce the number of dimension to 2 using MDS and plot the results:"
   ]
  },
  {
   "cell_type": "code",
   "execution_count": null,
   "id": "31771ac3",
   "metadata": {
    "kernel": "R",
    "scrolled": true
   },
   "outputs": [],
   "source": [
    " #perform MDS to 2 dimensions\n",
    "k2<-cmdscale(D,k=2)\n",
    "\n",
    "cat(\"\\n Dimension reduction to two dimensions\")\n",
    "k2\n",
    "cat(\"\\n original Distance between individuals:\")\n",
    "dist(G,upper=T,diag=T,method=\"manha\")\n",
    "cat(\"\\n Distance between individuals in from the MDS:\")\n",
    "round(D_k2<- dist(k2,upper=T,diag=T,method=\"manha\"),2)\n"
   ]
  },
  {
   "cell_type": "markdown",
   "id": "56d0f51e",
   "metadata": {
    "kernel": "R"
   },
   "source": [
    " - What is the biggest difference between the original distances and the projected?\n",
    " \n",
    " Lets plot the results"
   ]
  },
  {
   "cell_type": "code",
   "execution_count": null,
   "id": "545826b4",
   "metadata": {
    "kernel": "R",
    "scrolled": true
   },
   "outputs": [],
   "source": [
    "#plot the results\n",
    " plot(k2,pch=16,cex=3,col=1:5+1,ylab=\"distance 2th dimension\",xlab=\"distance 1. dimension\",main=\"Multiple dimension scaling (MDS)\")\n",
    " points(k2,pch=as.character(1:5))"
   ]
  },
  {
   "cell_type": "markdown",
   "id": "25976e5c",
   "metadata": {
    "kernel": "SoS"
   },
   "source": [
    "\n",
    " - Can you find any difference in the pairwise distances from the plot and the original pairwise distances?. \n",
    "\n",
    "## PCA\n",
    "First let's try to perform PCA directy on the normalized genotypes without calculating the covariance matrix. We use the normalization $\\tilde{G}_{ij}=\\frac{G_{ij}-2f_j}{\\sqrt{2f_j(1-f_j)}}$ where j is the site (SNP) and i is the individuals. $f_j=\\frac{\\sum_i^n G_{ij}}{2n}$ is the allele frequency.  \n",
    "\n",
    " - Why do we normalize the genotypes?\n",
    " \n",
    "  "
   ]
  },
  {
   "cell_type": "code",
   "execution_count": null,
   "id": "8f857e0c",
   "metadata": {
    "kernel": "R"
   },
   "outputs": [],
   "source": [
    " #first normalize the data do that the mean and variance is the same for each SNP\n",
    "normalize <- function(x){\n",
    "    nInd <- nrow(x)\n",
    "    avg <- colMeans(x)\n",
    "    M <- x - rep(colMeans(x),each=nInd)\n",
    "    M <- M/sqrt(2*rep(avg/2*(1-avg/2),each=nInd))\n",
    "    M\n",
    " }\n",
    "\n",
    "\n",
    "cat(\"Original genotypes\\n\")\n",
    "print(G)\n",
    "\n",
    "cat(\"\\n Normalizes genotypes\\n\")\n",
    "Gtilde <- normalize(G)\n",
    "print(Gtilde)\n",
    "\n",
    "cat(\"\\n Dimension of G-tilde\")\n",
    "dim(Gtilde)\n",
    "\n",
    "\n",
    "cat(\"\\n Dimension of G-tilde\")\n",
    " svd <- svd(Gtilde)\n",
    " ## print the decomposition for M=SDV\n",
    " ## u is the eigenvectors\n",
    " ## d is eigen values\n",
    " print(svd)\n"
   ]
  },
  {
   "cell_type": "markdown",
   "id": "f8721ee5",
   "metadata": {
    "kernel": "R"
   },
   "source": [
    "The above is the decomposition of the genotypes into the diagonal matrix (d) with eigenvalues, and the left (u) and right (v) eigenvectors such that\n",
    "$\\tilde{G}=U\\Sigma V^T$\n",
    "where $\\Sigma$ has the diagonal values of d. Therefore, we can reconstruct the normalized genotypes from U, d and v:\n"
   ]
  },
  {
   "cell_type": "code",
   "execution_count": null,
   "id": "5d9502d7",
   "metadata": {
    "kernel": "R"
   },
   "outputs": [],
   "source": [
    "##make a diagonal matrix with the eigenvalues\n",
    "cat(\"SIGMA (diagonal matrix)\")\n",
    "SIGMA <-  diag(svd$d)\n",
    "print(SIGMA)\n",
    "\n",
    "\n",
    "## using the matrixes from the decomposition we can undo the transformation of our normalized genotypes\n",
    "Gtilde2 <- svd$u%*%SIGMA%*%t(svd$v)\n",
    "cat(\"\\n\\nOriginal normalized genotypes (M):\")\n",
    "round(Gtilde,3)\n",
    "cat(\"\\n\\nReconstructed normalized genotypes(M2):\")\n",
    "round(Gtilde2,3)"
   ]
  },
  {
   "cell_type": "markdown",
   "id": "ebdb19c7",
   "metadata": {
    "kernel": "SoS"
   },
   "source": [
    " - Did the reconstruction of the normalized genotypes work?\n",
    " - Would you be able to reconstruct the unnormalized (raw) genotypes?\n",
    "\n",
    "Now try performing PCA based on the covariance matrix instead. To do so we first calculate the covariance matrix:\n"
   ]
  },
  {
   "cell_type": "code",
   "execution_count": null,
   "id": "66a7fc18",
   "metadata": {
    "kernel": "R"
   },
   "outputs": [],
   "source": [
    " ## calculate the covariance matrix\n",
    "n <- nrow(Gtilde)\n",
    "C <- Gtilde %*% t(Gtilde) \n",
    "cat(\"\\n Covariance matrix\\n\")\n",
    " print(C)\n"
   ]
  },
  {
   "cell_type": "markdown",
   "id": "84448464",
   "metadata": {
    "kernel": "SoS"
   },
   "source": [
    "The covariance matrix also shows the relationship between each individuals with the most similar individuals having a high positive value while the most distant individuals having a negativ value. However, unlike the euclidian distance the diagonal is not zero but instead is it related to the diversity within each individual.\n",
    "\n",
    "Now let's try to do PCA on this covariance matrix instead"
   ]
  },
  {
   "cell_type": "code",
   "execution_count": null,
   "id": "f8ec7799",
   "metadata": {
    "kernel": "R"
   },
   "outputs": [],
   "source": [
    " ## then perform the PCA by singular value decomposition\n",
    " e <- eigen(C)\n",
    "\n",
    " ## print first PC\n",
    "cat(\"First pricipal component:\")\n",
    " print(e$vectors[,1])\n",
    " ## print first PC\n",
    "cat(\"Eigenvalues:\")\n",
    " print(round(e$values,4))\n",
    " ##plot 2 first PC. for the 5 indiviudals\n",
    " plot(e$vectors[,1:2],pch=16,cex=3,col=1:5+1,ylab=\"2. PC\",xlab=\"1. PC\",main=\"Principle component analysis (PCA)\")\n",
    " points(e$vectors[,1:2],pch=as.character(1:5))\n",
    " \n"
   ]
  },
  {
   "cell_type": "markdown",
   "id": "f00c0940",
   "metadata": {
    "kernel": "R"
   },
   "source": [
    "\n",
    "\n",
    " - Do you get the same results using the covariance matrix as using the normalized genotypes directly?\n",
    " - Compare the two plots (MDS vs. PCA). Are the capturing the same thing? \n",
    "\n",
    "Bonus information:\n",
    "\n",
    "Unlike MDS, PCA will not remove information, so you are actually able to reconstruct your covariance matrix from the principal components."
   ]
  },
  {
   "cell_type": "code",
   "execution_count": null,
   "id": "837f3906",
   "metadata": {
    "kernel": "R"
   },
   "outputs": [],
   "source": [
    "##continue in R\n",
    "##make a diagonal matrix with the eigenvalues\n",
    "SIGMA <- diag(e$value)\n",
    "\n",
    "## transform the PC back to the original data\n",
    "## using matrix multiplication V SIGMA Vt\n",
    "out <- e$vectors %*% SIGMA %*% t(e$vectors)\n",
    "cat(\"Reconstructed covariance:\\n\")\n",
    "print(out)\n",
    "cat(\"\\nOriginal covariance:\\n\")\n",
    "print(C)\n",
    "#close R after you are done"
   ]
  },
  {
   "cell_type": "markdown",
   "id": "3c2bf1e0",
   "metadata": {
    "kernel": "R"
   },
   "source": [
    "Try to also compare the eigenvalues from the decomposition of the normalized genotypes and from the covariance matrix"
   ]
  },
  {
   "cell_type": "code",
   "execution_count": null,
   "id": "0aa623ec",
   "metadata": {
    "kernel": "R"
   },
   "outputs": [],
   "source": [
    "cat(\"Eigenvalues of the covariance matrix:\")\n",
    " print(round(e$values,4))\n",
    "\n",
    "cat(\"Singular values from the normalized genotypes:\")\n",
    " print(round(svd$d,4))\n",
    "\n",
    "\n"
   ]
  },
  {
   "cell_type": "markdown",
   "id": "37f2cff5",
   "metadata": {
    "kernel": "R"
   },
   "source": [
    " - What is the relationship? (hint: try to square one of them by changing the above code)"
   ]
  },
  {
   "cell_type": "markdown",
   "id": "b6b873e9",
   "metadata": {
    "kernel": "SoS"
   },
   "source": [
    "# PCA for wildebeest\n",
    "\n",
    "Again we will use data from the Blue Wildebeest. To simply the the analysis we have included only on of the Brindles populations ( B-Etosha). \n",
    "\n",
    "<img src=\"https://raw.githubusercontent.com/popgenDK/popgenDK.github.io/gh-pages/images/slider/wildeBeastMap.png\" alt=\"image info\" />\n",
    "\n",
    "\n",
    "#  PCA for low depth sequencing using PCAngsd \n",
    "\n",
    "\n",
    "# Software and data\n",
    "\n",
    "\n",
    "\n",
    "### Software\n",
    "We will be using plink, PCAone for this exercise. First lets see if the software is installed and get the data"
   ]
  },
  {
   "cell_type": "code",
   "execution_count": null,
   "id": "435b3898",
   "metadata": {
    "kernel": "Bash",
    "scrolled": true
   },
   "outputs": [],
   "source": [
    "echo --programs that are installed:--\n",
    "which plink\n",
    "which PCAone\n",
    "\n",
    "#make folder if it does not exists\n",
    "mkdir -p ~/kenya2024/\n",
    "mkdir -p ~/kenya2024/admixture\n",
    "\n",
    "# enter folder\n",
    "cd ~/kenya2024/admixture\n",
    "\n",
    "\n",
    "##make links to files and add them to the folder\n",
    "cp -sf /davidData/data/course/kenyaWorkshop/anders/structure_day3/blue_wildebeest_thin* .\n",
    "cp -r -sf  /davidData/data/course/kenyaWorkshop/anders/structure_day3/multiRunK7 .\n",
    "\n",
    "echo --- files in folder ---\n",
    "ls \n"
   ]
  },
  {
   "cell_type": "markdown",
   "id": "deeaffce",
   "metadata": {
    "kernel": "Bash"
   },
   "source": [
    "Let perform PCA on the whole data ( without LD pruning). We will use PCAone first\n",
    "\n"
   ]
  },
  {
   "cell_type": "code",
   "execution_count": null,
   "id": "544369a4",
   "metadata": {
    "kernel": "Bash",
    "scrolled": true
   },
   "outputs": [],
   "source": [
    "\n",
    "PCAone  -b blue_wildebeest_thin \n"
   ]
  },
  {
   "cell_type": "markdown",
   "id": "bf139a1e",
   "metadata": {
    "kernel": "Calysto Bash"
   },
   "source": [
    " - look at the above output. How many SNPs and how many indiviudauls?\n",
    " \n",
    " The default is to calculate the top 10 PCs. If you want more you can use the option --pc <INT> to choose a different number. However, let see what the top PCs capture. \n",
    "    \n",
    "First let look the two first PCs as well as the admixture proportions\n"
   ]
  },
  {
   "cell_type": "code",
   "execution_count": null,
   "id": "d1147269",
   "metadata": {
    "kernel": "R",
    "scrolled": false
   },
   "outputs": [],
   "source": [
    "options(repr.plot.width=12, repr.plot.height=12)\n",
    "\n",
    "layout(matrix(c(1,1,2,3),nrow=2,by=T),height=c(2,4),width=2:1)\n",
    "#read in code to plot admixture proportions ( plotAdmix function)\n",
    "source(\"https://raw.githubusercontent.com/GenisGE/evalAdmix/master/visFuns.R\")\n",
    "\n",
    "\n",
    "# Read in inferred admixture proportions\n",
    "q <- read.table(\"~/kenya2024/admixture/multiRunK7/blue_wildebeest_noLD.7.Q_4\")\n",
    "\n",
    "#read in the population labels (first column of fam file)\n",
    "pop <- read.table(\"~/kenya2024/admixture/blue_wildebeest_noLD.fam\")[,1]\n",
    "\n",
    "#make the plot. \n",
    "plotAdmix(q,pop=pop,rotatelab=15,padj=0.15,cex.lab=1.4,col=c(3,5,8,4,2,6,7))\n",
    "\n",
    "\n",
    "pca <- read.table(\"~/kenya2024/admixture/pcaone.eigvecs\")\n",
    "#layout(matrix(1:2,nrow=1),w=c(4,2))\n",
    "plot(pca[,1:2],col=as.integer(as.factor(pop))+1,ylab=paste(\"PC\",1),xlab=paste(\"PC\",2),cex.lab=1.5,cex=2,lwd=8)\n",
    "plot.new()\n",
    "legend(\"top\",legend=names(tab),bty=\"n\",xpd=T,cex=2,text.col=1:length(tab)+1,text.font=2)\n"
   ]
  },
  {
   "cell_type": "markdown",
   "id": "fc4b480c",
   "metadata": {
    "kernel": "R"
   },
   "source": [
    " - What information do you get from the PCA that you don't get from the ADMIXTURE results?\n",
    " - Can you identify the admixted individuals?\n",
    " \n",
    " \n",
    " Lets see what the other PCs show. \n",
    " "
   ]
  },
  {
   "cell_type": "code",
   "execution_count": null,
   "id": "245d4a20",
   "metadata": {
    "kernel": "R"
   },
   "outputs": [],
   "source": [
    "options(repr.plot.width=12, repr.plot.height=16)\n",
    "\n",
    "par(mfrow=c(3,2))\n",
    "for(pc in 0:4)\n",
    "    plot(pca[,pc*2+1:2],col=as.factor(pop),ylab=paste(\"PC\",pc*2+2),xlab=paste(\"PC\",pc*2+1),cex.lab=1.5,cex=2,lwd=8)\n"
   ]
  },
  {
   "cell_type": "markdown",
   "id": "e708940c",
   "metadata": {
    "kernel": "Bash"
   },
   "source": [
    " - How many PCs are used to separate the populations?\n",
    " - What is captured on PC 7 and 9?\n",
    " - What is captures on PC 9 and 10?\n",
    " "
   ]
  }
 ],
 "metadata": {
  "kernelspec": {
   "display_name": "SoS",
   "language": "sos",
   "name": "sos"
  },
  "language_info": {
   "codemirror_mode": "sos",
   "file_extension": ".sos",
   "mimetype": "text/x-sos",
   "name": "sos",
   "nbconvert_exporter": "sos_notebook.converter.SoS_Exporter",
   "pygments_lexer": "sos"
  },
  "sos": {
   "kernels": [
    [
     "Bash",
     "bash",
     "bash",
     "",
     "shell"
    ],
    [
     "Calysto Bash",
     "calysto_bash",
     "bash",
     "",
     ""
    ],
    [
     "Python 3 (ipykernel)",
     "python3",
     "python3",
     "",
     {
      "name": "ipython",
      "version": 3
     }
    ],
    [
     "R",
     "ir",
     "R",
     "#DCDCDA",
     "r"
    ]
   ],
   "panel": {
    "displayed": true,
    "height": 0
   },
   "version": "0.24.1"
  }
 },
 "nbformat": 4,
 "nbformat_minor": 5
}
