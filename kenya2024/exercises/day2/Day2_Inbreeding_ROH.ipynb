{
 "cells": [
  {
   "cell_type": "markdown",
   "id": "5197662b",
   "metadata": {
    "kernel": "Bash"
   },
   "source": [
    "# Day 1, Practical 2\n",
    "\n",
    "</br>\n",
    "<font size=\"12\">ROHs from data</font>\n",
    "\n",
    "\n",
    "For this exercises we will use data from the Blue Wildebeest. To simplify the the analysis we have included only one of the Brindle populations ( B-Etosha). There are five subspecies and but we have included all 3 populations from the east white bearded subpopulation.\n",
    "\n",
    "<img src=\"https://raw.githubusercontent.com/popgenDK/popgenDK.github.io/gh-pages/images/slider/wildeBeastMap.png\" alt=\"image info\" />\n",
    "\n",
    "In this exercise we will cover:\n",
    " - Using plink to estimate runs of homozygosity\n",
    " - Plotting these estimated runs from select individuals for a closer look\n",
    " - Plotting the runs in a summarized manner for many individuals\n",
    "    \n",
    "    \n",
    "Tools used: plink, R\n",
    "\n",
    "The notebooks are editable, so feel free to experiment and change the code to see what happens, or to write notes in the text cells. Just remember to download the notebooks (e.g. both the originals and any edited versions you may make) to your own computer at some point so you can access them later.\n",
    "\n",
    "First, we define the paths for the files we need during the exercise."
   ]
  },
  {
   "cell_type": "code",
   "execution_count": null,
   "id": "14b4d03e",
   "metadata": {
    "kernel": "Bash"
   },
   "outputs": [],
   "source": [
    "# Set path to data \n",
    "PL=/davidData/data/course/kenyaWorkshop/anders/structure_day3/blue_wildebeest_thin\n",
    "\n",
    "# make sure the required programs are installed\n",
    "which plink\n",
    "\n",
    "# make directory for the exercise\n",
    "mkdir -p ~/kenya2024/Inbreeding_ROH\n",
    "cd ~/kenya2024/Inbreeding_ROH\n",
    "\n",
    "# download plotting script\n",
    "wget https://raw.githubusercontent.com/popgenDK/ROH/main/plotPlinkROH.R"
   ]
  },
  {
   "cell_type": "markdown",
   "id": "66c36bbe",
   "metadata": {
    "kernel": "SoS"
   },
   "source": [
    "We will use Plink v1.9 (https://www.cog-genomics.org/plink/) for estimating runs of homozygosity"
   ]
  },
  {
   "cell_type": "markdown",
   "id": "01f1f207",
   "metadata": {
    "kernel": "Bash"
   },
   "source": [
    "## Input\n",
    "Now lets have a look into the files we will be using as input:"
   ]
  },
  {
   "cell_type": "markdown",
   "id": "c9c77e65",
   "metadata": {
    "kernel": "Bash"
   },
   "source": [
    "### Fam file"
   ]
  },
  {
   "cell_type": "code",
   "execution_count": null,
   "id": "c051d732",
   "metadata": {
    "kernel": "Bash"
   },
   "outputs": [],
   "source": [
    "echo -- number of lines in fam file --\n",
    "wc -l $PL.fam\n",
    "\n",
    "echo -- first 10 lines fam file --\n",
    "head $PL.fam\n",
    "\n",
    "echo -- counts of populations/subspecies from first column of fam file --\n",
    "cut -f1 -d\" \" $PL.fam | sort | uniq -c"
   ]
  },
  {
   "cell_type": "markdown",
   "id": "56f14b0a",
   "metadata": {
    "kernel": "Bash",
    "scrolled": true
   },
   "source": [
    "### Bim file "
   ]
  },
  {
   "cell_type": "code",
   "execution_count": null,
   "id": "e763cf4e",
   "metadata": {
    "kernel": "Bash"
   },
   "outputs": [],
   "source": [
    "echo -- number of lines in bim file --\n",
    "wc -l $PL.bim\n",
    "\n",
    "echo -e \"\\n-- first 10 lines bim file --\"\n",
    "echo -e \"CHR\\tvariantID CM\\tPosition allele_1\\t allele_2\"\n",
    "head $PL.bim\n",
    "\n",
    "echo -e \"\\n-- counts number of variants per chromosome from the first column of bim file --\"\n",
    "echo \\#Var Chromosome_name\n",
    "cat $PL.bim | cut -f1  | uniq -c"
   ]
  },
  {
   "cell_type": "markdown",
   "id": "fdf33414",
   "metadata": {
    "kernel": "Bash"
   },
   "source": [
    "## Inferring ROH's"
   ]
  },
  {
   "cell_type": "code",
   "execution_count": null,
   "id": "5e159bb3",
   "metadata": {
    "kernel": "Bash",
    "scrolled": false
   },
   "outputs": [],
   "source": [
    "\n",
    "plink --bfile $PL --chr-set 29  --make-bed --homozyg --homozyg-window-het 3 --homozyg-window-missing 20 --out wildebeest_ROH --geno 0.01 --maf 0.1"
   ]
  },
  {
   "cell_type": "markdown",
   "id": "51950632",
   "metadata": {
    "kernel": "Bash"
   },
   "source": [
    "## Understanding the settings and plotting ROH results for one individual\n",
    "Notice that we use many options in the plink command. choose two (or all if you have time) and try to find out what the do.\n",
    "Replace \"...\" with the option you want to know about, for example \"plink --help geno\""
   ]
  },
  {
   "cell_type": "code",
   "execution_count": null,
   "id": "a11a05ad",
   "metadata": {
    "kernel": "Bash"
   },
   "outputs": [],
   "source": [
    "plink --help ..."
   ]
  },
  {
   "cell_type": "markdown",
   "id": "1f994e6f",
   "metadata": {
    "kernel": "Bash"
   },
   "source": [
    "The ouput of the analysis is given in three different files, which look like this inside:"
   ]
  },
  {
   "cell_type": "code",
   "execution_count": null,
   "id": "d9158283",
   "metadata": {
    "kernel": "Bash"
   },
   "outputs": [],
   "source": [
    "# this one contains the information about inference of ROH's for all individuals \n",
    "head wildebeest_ROH.hom"
   ]
  },
  {
   "cell_type": "code",
   "execution_count": null,
   "id": "069e3cd1",
   "metadata": {
    "kernel": "Bash"
   },
   "outputs": [],
   "source": [
    "# this one contains summarised information per site/variant\n",
    "head wildebeest_ROH.hom.summary"
   ]
  },
  {
   "cell_type": "code",
   "execution_count": null,
   "id": "61bf1d27",
   "metadata": {
    "kernel": "Bash"
   },
   "outputs": [],
   "source": [
    "# this one contains summarised information per individual\n",
    "head wildebeest_ROH.hom.indiv"
   ]
  },
  {
   "cell_type": "markdown",
   "id": "620e1942",
   "metadata": {
    "kernel": "Bash"
   },
   "source": [
    "## Plotting\n",
    "Plot the estimated ROH for individual CTauKeS__701 from East Amboseli"
   ]
  },
  {
   "cell_type": "code",
   "execution_count": null,
   "id": "6601b482",
   "metadata": {
    "kernel": "Bash"
   },
   "outputs": [],
   "source": [
    "Rscript plotPlinkROH.R -p wildebeest_ROH.bed -s CTauKeS__701 --homfile wildebeest_ROH.hom"
   ]
  },
  {
   "cell_type": "markdown",
   "id": "2510d1c0",
   "metadata": {
    "kernel": "R"
   },
   "source": [
    "This will generate a plot (as a .png file) in the same directory where your notebook is placed. You can open it as instructed below.\n",
    "\n",
    "![ROH\n",
    "plot](https://github.com/popgenDK/courses/blob/main/kenya2024/exercises/day2/openROH.png?raw=true)\n",
    "\n",
    "Here is a graphical explanation of what you see in the plot.\n",
    "\n",
    "![ROH\n",
    "plot](https://github.com/popgenDK/courses/blob/main/kenya2024/exercises/day2/ROHplot.png?raw=true)\n",
    "\n",
    "\n",
    " - Does it look like plink has identified all ROHs in this individual?\n",
    " - Do you see any ROHs longer than 5 mb?\n",
    "\n",
    "## Plotting ROH for other individuals\n",
    "Now try to copy the code above and change the name given with \"-s\" to plot the estimated ROH for individual CTauKeS__709 from East Narobi "
   ]
  },
  {
   "cell_type": "code",
   "execution_count": null,
   "id": "20f2dbc7",
   "metadata": {
    "kernel": "Bash"
   },
   "outputs": [],
   "source": [
    "..."
   ]
  },
  {
   "cell_type": "markdown",
   "id": "5fcc208c",
   "metadata": {
    "kernel": "Bash"
   },
   "source": [
    "And then for individual CTauKeW__638 from West Serengeti"
   ]
  },
  {
   "cell_type": "code",
   "execution_count": null,
   "id": "1885791b",
   "metadata": {
    "kernel": "Bash"
   },
   "outputs": [],
   "source": [
    "..."
   ]
  },
  {
   "cell_type": "markdown",
   "id": "d0e338d0",
   "metadata": {
    "kernel": "Bash"
   },
   "source": [
    " - When you compare these three individuals, what do you see? Which ones have more and which have fewer and shorter ROHs?\n",
    "\n",
    "Now, we will plot the average ROH proportion in various populations. This proportion is also called FROH, and is a good estimator of the inbreeding coefficient of each individual."
   ]
  },
  {
   "cell_type": "code",
   "execution_count": null,
   "id": "d01afece",
   "metadata": {
    "kernel": "R"
   },
   "outputs": [],
   "source": [
    "library('ggplot2')\n",
    "total_ROH <- read.table('~/kenya2024/Inbreeding_ROH/wildebeest_ROH.hom.indiv', header=T)\n",
    "autosomal_genome_size = 2000000\n",
    "\n",
    "ggplot(total_ROH, aes(x=FID, y=KB/autosomal_genome_size)) + \n",
    "  geom_boxplot()+ylab('FROH')+\n",
    "theme_bw() + theme(panel.border = element_blank(), panel.grid.major = element_blank(),\n",
    "                     panel.grid.minor = element_blank(), axis.line = element_line(colour = \"black\", linewidth = 1))\n"
   ]
  },
  {
   "cell_type": "markdown",
   "id": "1997779f",
   "metadata": {
    "kernel": "R"
   },
   "source": [
    " - What does an FROH of 0.15 mean?\n",
    "\n",
    "Next, we will visualize the distribution of ROHs of different lengths in each individual. We will get two plots, one showing the number of ROHs of different sizes, the other how large a proportion of the genome is contained in ROHs of different sizes. Script by Anders Albrechtsen."
   ]
  },
  {
   "cell_type": "code",
   "execution_count": null,
   "id": "24cc5834",
   "metadata": {
    "kernel": "R"
   },
   "outputs": [],
   "source": [
    "options(repr.plot.width=17)\n",
    "\n",
    "hom <- read.table(\"~/kenya2024/Inbreeding_ROH/wildebeest_ROH.hom\",head=T)\n",
    "hom <- subset(hom,KB>100)\n",
    "tab <- tapply(hom$KB/1e3,hom$IID,function(x) table(cut(x,c(1e6,2e6,5e6,1e7,1e8)/1e6)))\n",
    "\n",
    "res <- do.call(rbind,tab)\n",
    "barplot(t(res),col=1:7+1,las=2,ylab=\"Number of ROHs\")\n",
    "legend(\"topright\",fill=1:length(tab[[1]])+1,legend=names(tab[[1]]),hor=T,title=\"Size of ROH\")\n",
    "\n",
    "\n",
    "\n",
    "tab2 <- tapply(hom$KB/1e3,hom$IID,function(x) tapply(x,cut(x,c(1e6,2e6,5e6,1e7,1e8)/1e6),sum))\n",
    "\n",
    "res2 <- do.call(rbind,tab2)\n",
    "barplot(t(res2)/2e3,col=1:7+1,las=2,ylab=\"fraction of Genome\")\n",
    "legend(\"top\",fill=1:length(tab2[[1]])+1,legend=names(tab2[[1]]),hor=T,title=\"Size of ROH i MB\")"
   ]
  },
  {
   "cell_type": "markdown",
   "id": "414acbe7",
   "metadata": {
    "kernel": "Bash"
   },
   "source": [
    "## Interpretation of wildebeest ROHs \n",
    " - Which population needs more protection based on inbreeding values?\n",
    " - Which population has lower inbreeding and why?\n",
    " - How inbred are wildebeest compared to other Alcelaphines like Hirola or Hartebeest or Topi or Blesbocks?"
   ]
  }
 ],
 "metadata": {
  "kernelspec": {
   "display_name": "SoS",
   "language": "sos",
   "name": "sos"
  },
  "language_info": {
   "codemirror_mode": "sos",
   "file_extension": ".sos",
   "mimetype": "text/x-sos",
   "name": "sos",
   "nbconvert_exporter": "sos_notebook.converter.SoS_Exporter",
   "pygments_lexer": "sos"
  },
  "sos": {
   "kernels": [
    [
     "Bash",
     "bash",
     "bash",
     "",
     "shell"
    ],
    [
     "R",
     "ir",
     "R",
     "",
     "r"
    ]
   ],
   "panel": {
    "displayed": false,
    "height": 0
   },
   "version": "0.24.1"
  }
 },
 "nbformat": 4,
 "nbformat_minor": 5
}
