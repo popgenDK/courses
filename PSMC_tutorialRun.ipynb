{
 "cells": [
  {
   "cell_type": "markdown",
   "metadata": {
    "kernel": "SoS"
   },
   "source": [
    "# 1. Resources and set up\n",
    "- [`PSMC`](https://github.com/lh3/psmc)\n",
    "- [`VCF file format`](https://samtools.github.io/hts-specs/VCFv4.2.pdf)\n",
    "- [`vcftools`](https://vcftools.github.io/index.html)\n",
    "- [`1000 genomes high coverage variant calls`](https://www.internationalgenome.org/data-portal/sample)\n",
    "- `Cattle genomes high coverage variant calls`\n",
    "\n",
    "We have prepared all required tools and data for this exercise. Please enjoy the exercise !"
   ]
  },
  {
   "cell_type": "markdown",
   "metadata": {
    "kernel": "SoS"
   },
   "source": [
    "We will use the `psmc` tool to estimate the effective population size for our data. But instead of directly using bam files, we will use a variant calling format (vcf) file as the starting point. In this tutorial, we will first take a look at a vcf file, then look at how a vcf file is converted to an input for `psmc` using a custom python script. And finally, run psmc on simulated and real data to see how well we can estimate effective population size $N_e$. Note that `psmc` relies on high coverage data where we can estimate genotypes accurately, which is one of the reasons we are working in our exercises with vcf files. "
   ]
  },
  {
   "cell_type": "markdown",
   "metadata": {
    "kernel": "SoS"
   },
   "source": [
    "# 2. Data\n",
    "In this tutorial, we will use 3 sets of data. First, we will use three simulated samples as input data to estimate the effective population size in those three populations. The advantage here is that here we know what the true population size should be, so therefore we can test whether `psmc` is able to give a correct result. In the second part of the exercises, we will use data from the 1000 genomes project, namely 2 human individuals, NA12718 - a CEU female sample (Northern European ancestry), and NA19471 - a female Luhya sample from Kenya, to compare and contrast how the effective population sizes vary between these two populations. Lastly, we will use one sample of European cattle (*Bos taurus*): Limousin_ROUSTAN, one sample from their close relative, the Bali cattle (a domesticated population of the banteng, *Bos javanicus*): N_7B, and one sample that is the hybrid offspring of a Bali cattle and a regular cattle: N_31B. The latter sample will help us to understand what happens when we analyze an admixed sample using `psmc`."
   ]
  },
  {
   "cell_type": "markdown",
   "metadata": {
    "kernel": "SoS"
   },
   "source": [
    "Before we begin, let us take a look at the vcf file format using the simulated data with three individuals, one from each simulated population. Note that all the vcf files are zipped, so we will use `zcat` to display them."
   ]
  },
  {
   "cell_type": "code",
   "execution_count": 1,
   "metadata": {
    "kernel": "Bash"
   },
   "outputs": [
    {
     "name": "stdout",
     "output_type": "stream",
     "text": [
      "##fileformat=VCFv4.2\n",
      "##source=tskit 0.5.2\n",
      "##FILTER=<ID=PASS,Description=\"All filters passed\">\n",
      "##contig=<ID=chr42,length=100000000>\n",
      "##FORMAT=<ID=GT,Number=1,Type=String,Description=\"Genotype\">\n",
      "#CHROM\tPOS\tID\tREF\tALT\tQUAL\tFILTER\tINFO\tFORMAT\ts1_1\ts2_1\ts3_1\n",
      "chr42\t84\t0\tA\tT\t.\tPASS\t.\tGT\t0|0\t0|0\t0|0\n",
      "chr42\t147\t1\tT\tG\t.\tPASS\t.\tGT\t0|0\t0|0\t0|0\n",
      "chr42\t334\t2\tG\tA\t.\tPASS\t.\tGT\t0|0\t0|0\t0|0\n",
      "chr42\t406\t3\tC\tA\t.\tPASS\t.\tGT\t0|0\t0|0\t0|0\n",
      "\n",
      "gzip: stdout: Broken pipe\n"
     ]
    }
   ],
   "source": [
    "zcat /course/bgi23/rasmus/shyam/psmc_tutorial/data/threeinds.recode.vcf.gz | head -10"
   ]
  },
  {
   "cell_type": "markdown",
   "metadata": {
    "kernel": "SoS"
   },
   "source": [
    "All the lines starting with `##` are information header lines which describe the VCF file. The line beginning with `#CHROM` is the header line describing the contents of the subsequent data lines. Each data line contains information on a single variant. As you can also see, each individual s1_1, s2_1 and s3_1 has a column with the genotype for that individual at each variant. Here \"0|0\" is homozygous for the reference (REF) allele, \"0|1\" is heterozygous, and \"1|1\" is homozygous for the alternate (ALT) allele."
   ]
  },
  {
   "cell_type": "markdown",
   "metadata": {
    "kernel": "SoS"
   },
   "source": [
    "We will use the vcf files to generate input files for our `psmc` analysis. Note that this is __NOT__ the prefered method to generate input files for `psmc`. The prefered method is to generate the input files directly from bam files, and that information can be found [here](https://github.com/lh3/psmc). \n",
    "\n",
    "__Question:__ Why do you think vcf files are not the preferred format? What information do you think is missing?"
   ]
  },
  {
   "cell_type": "code",
   "execution_count": 2,
   "metadata": {
    "kernel": "Bash"
   },
   "outputs": [],
   "source": [
    "cp /davidData/data/course/bgi23/rasmus/shyam/psmc_tutorial/images/*.png ./"
   ]
  },
  {
   "cell_type": "markdown",
   "metadata": {
    "kernel": "SoS"
   },
   "source": [
    "# 3. Working with simulated data\n",
    "\n",
    "In this first exercise, we will look at simulated data. The simulation setup looked like this:\n",
    "\n",
    "(please run the following code to show the plot)"
   ]
  },
  {
   "cell_type": "code",
   "execution_count": 3,
   "metadata": {
    "kernel": "Python 3 (ipykernel)"
   },
   "outputs": [
    {
     "data": {
      "text/html": [
       "<img src=\"popsize.png\" width=\"600\" height=\"600\"/>"
      ],
      "text/plain": [
       "<IPython.core.display.Image object>"
      ]
     },
     "execution_count": 3,
     "metadata": {},
     "output_type": "execute_result"
    }
   ],
   "source": [
    "## check the output image\n",
    "from IPython.display import Image # import image module \n",
    "Image(url=\"popsize.png\", width=600, height=600)"
   ]
  },
  {
   "cell_type": "markdown",
   "metadata": {
    "kernel": "Python 3 (ipykernel)"
   },
   "source": [
    "We will try and reconstruct the population sizes using `psmc` to see if we can faithfully reconstruct the population sizes. First, let us construct a psmcfa file - an input fasta file for psmc from the vcf files. \n",
    "\n",
    "## psmcfa file\n",
    "\n",
    "A psmcfa file is a fasta representation of the genome (or part of a genome), where each entry (letter) represents if there exists a heterozygous variant in a fixed size window. Let us try and understand this by converting our vcf file to a psmcfa file. We will use the custom script `vcf2psmcfa.py` to do this. Note that this script expects that the vcf file contains only 1 \"chromosome\", which is not the case for a general vcf file. The script takes 2 input parameters - the vcf file name and the name of the sample. The output file name is derived from the name of the sample. It also uses a fixed window size of 100 bp. "
   ]
  },
  {
   "cell_type": "code",
   "execution_count": 4,
   "metadata": {
    "kernel": "Bash"
   },
   "outputs": [],
   "source": [
    "python2 /course/bgi23/rasmus/shyam/psmc_tutorial/scripts/vcf2psmcfa.py /course/bgi23/rasmus/shyam/psmc_tutorial/data/threeinds.recode.vcf.gz s1_1\n",
    "python2 /course/bgi23/rasmus/shyam/psmc_tutorial/scripts/vcf2psmcfa.py /course/bgi23/rasmus/shyam/psmc_tutorial/data/threeinds.recode.vcf.gz s2_1\n",
    "python2 /course/bgi23/rasmus/shyam/psmc_tutorial/scripts/vcf2psmcfa.py /course/bgi23/rasmus/shyam/psmc_tutorial/data/threeinds.recode.vcf.gz s3_1"
   ]
  },
  {
   "cell_type": "markdown",
   "metadata": {
    "kernel": "SoS"
   },
   "source": [
    "Let us take a quick look at one of the psmcfa files. "
   ]
  },
  {
   "cell_type": "code",
   "execution_count": 5,
   "metadata": {
    "kernel": "Bash"
   },
   "outputs": [
    {
     "name": "stdout",
     "output_type": "stream",
     "text": [
      ">chr1\n",
      "TTTTTTTTTTTTTTTTTTTTTTTTTTTTTTTTKTTTTTTTTTTTTKTTTTTKKTTTTTTT\n",
      "TTTTTTTTTTTTTTTTTTTTTTTTTTTTTTTTTTTTTTTTKTTTKTTTTTTTTTTTTTTT\n",
      "TTTTTTTTTTTTTTTTTTTTTTTTTTTTTTTKTTKTTTTTTTTTTTTTTTTTTTTTTTTT\n",
      "TTTTTTTTTTTTTTKTTTTTTTTTTTTTTTTTTTTTTTTTKTTTTTTTTTTTTTTTTTTT\n",
      "TTTTTTTTTTTTTTTTTTKTTTTTTTTTKTTTTTTTTTTTTTTTTTTTTTTTTTTTTTTT\n",
      "TTTTTTTTTTTTTTTTTTTTTTKTTTTTTTTTTTTTTTTTTTTTTTKTTTTTTTTTTTTT\n",
      "TTTTTTTTTTTTTTTTTTTTTTTTTTTTTTTTTTTTTTTTTTTTTTTTTTTKTTTTTTTT\n",
      "TTTTTTTTTTTTTTTTTTTTTTTTTTTTTTTKTTTTTTTTTTTTTTTTTTTTTTTTTTTT\n",
      "TTTTTTTTTTTTTTTTTTTTTTTTTTTTTTTTTTTTKTTTKTTKTTTTTTTTTTTTTTTT\n"
     ]
    }
   ],
   "source": [
    "head /course/bgi23/rasmus/shyam/psmc_tutorial/data/s2_1.psmcfa"
   ]
  },
  {
   "cell_type": "markdown",
   "metadata": {
    "kernel": "SoS"
   },
   "source": [
    "It appears to be a regular fasta file, with only \"T\" and \"K\". Here a \"T\" represents a 100 bp window without any heterozygous sites in it, whereas a \"K\" represents a 100 bp window with at least 1 heterozygous site in it. \n",
    "\n",
    "__Question:__ Given the population histories, which of the three samples would you expect to have the highest number of heterozygous windows?"
   ]
  },
  {
   "cell_type": "markdown",
   "metadata": {
    "kernel": "SoS"
   },
   "source": [
    "## Running psmc\n",
    "\n",
    "Now it is time for us to run our first `psmc` analysis. Let us first look at the options for running psmc. "
   ]
  },
  {
   "cell_type": "code",
   "execution_count": 6,
   "metadata": {
    "kernel": "Bash"
   },
   "outputs": [
    {
     "name": "stdout",
     "output_type": "stream",
     "text": [
      "\n",
      "Program: psmc (Pairwise SMC Model)\n",
      "Version: 0.6.5-r67\n",
      "Contact: <http://hengli.uservoice.com/>\n",
      "\n",
      "Usage:   psmc [options] input.txt\n",
      "\n",
      "Options: -p STR      pattern of parameters [4+5*3+4]\n",
      "         -t FLOAT    maximum 2N0 coalescent time [15]\n",
      "         -N INT      maximum number of iterations [30]\n",
      "         -r FLOAT    initial theta/rho ratio [4]\n",
      "         -c FILE     CpG counts generated by cntcpg [null]\n",
      "         -o FILE     output file [stdout]\n",
      "         -i FILE     input parameter file [null]\n",
      "         -T FLOAT    initial divergence time; -1 to disable [-1]\n",
      "         -b          bootstrap (input be preprocessed with split_psmcfa)\n",
      "         -S          simulate sequence\n",
      "         -d          perform decoding\n",
      "         -D          print full posterior probabilities\n",
      "\n"
     ]
    },
    {
     "ename": "",
     "evalue": "1",
     "output_type": "error",
     "traceback": []
    }
   ],
   "source": [
    "/course/bgi23/rasmus/psmc/psmc"
   ]
  },
  {
   "cell_type": "markdown",
   "metadata": {
    "kernel": "SoS"
   },
   "source": [
    "In particular, note the `-p` option, which allows us to specify a pattern of parameters. As we discussed in the lecture before, we divide up time into discrete bins. This pattern allows us to estimate the same parameter for multiple consecutive time bins. For example - the default pattern 4+5\\*3+4 splits time up into 23 bins (4+15+4), where only 1 parameter is estimated for the first 4 bins, then 1 parameter is estimmated for the next 5 triples of bins, and 1 parameter for the last 4 bins. So the total number of paramters we are estimating is 7 (1+5+1). Note this also in the plots for the effective population size, when we plot them. \n",
    "\n",
    "Let us now run psmc for the first time - we will just use the default values for the options, while still explicitly specifying the parameter pattern. This pattern is quite coarse, but we will try and estimate it again with finer time bins in the next section.  \n",
    "\n",
    "__Question:__ Can you think of a reason why the most recent and oldest time bins are quite often merged to get only 1 parameter?"
   ]
  },
  {
   "cell_type": "code",
   "execution_count": 7,
   "metadata": {
    "kernel": "Bash"
   },
   "outputs": [
    {
     "name": "stdout",
     "output_type": "stream",
     "text": [
      "[1] 451122\n",
      "[2] 451123\n",
      "[1]-  Done                    /course/bgi23/rasmus/psmc/psmc -p \"4+5*3+4\" -o s1_1_coarsePattern.psmc /course/bgi23/rasmus/shyam/psmc_tutorial/data/s1_1.psmcfa\n"
     ]
    }
   ],
   "source": [
    "/course/bgi23/rasmus/psmc/psmc -p \"4+5*3+4\" -o s1_1_coarsePattern.psmc /course/bgi23/rasmus/shyam/psmc_tutorial/data/s1_1.psmcfa &\n",
    "/course/bgi23/rasmus/psmc/psmc -p \"4+5*3+4\" -o s2_1_coarsePattern.psmc /course/bgi23/rasmus/shyam/psmc_tutorial/data/s2_1.psmcfa &\n",
    "/course/bgi23/rasmus/psmc/psmc -p \"4+5*3+4\" -o s3_1_coarsePattern.psmc /course/bgi23/rasmus/shyam/psmc_tutorial/data/s3_1.psmcfa"
   ]
  },
  {
   "cell_type": "markdown",
   "metadata": {
    "kernel": "SoS"
   },
   "source": [
    "Let us take a look at one of the output files, and discuss its contents. "
   ]
  },
  {
   "cell_type": "code",
   "execution_count": 8,
   "metadata": {
    "kernel": "Bash"
   },
   "outputs": [
    {
     "name": "stdout",
     "output_type": "stream",
     "text": [
      "//\n",
      "IT\t1301\n",
      "RD\t30\n",
      "LK\t-6048.127908\n",
      "QD\t-0.987841 -> -0.895559\n",
      "RI\t0.0013290298\n",
      "TR\t0.012441\t0.011574\n",
      "MT\t27.920540\n",
      "MM\tC_pi: 1.955250, n_recomb: 1209.203524\n",
      "RS\t0\t0.000000\t58721.822094\t0.000595\t0.000000\t0.000000\n",
      "RS\t1\t0.029196\t58721.822094\t0.000768\t0.000001\t0.000000\n",
      "RS\t2\t0.066916\t58721.822094\t0.000993\t0.000001\t0.000000\n",
      "RS\t3\t0.115649\t58721.822094\t0.001283\t0.000001\t0.000001\n",
      "RS\t4\t0.178609\t1.652714\t57.496115\t0.047549\t0.037859\n",
      "RS\t5\t0.259952\t1.652714\t70.251382\t0.058097\t0.055644\n",
      "RS\t6\t0.365044\t1.652714\t84.451425\t0.069841\t0.069953\n",
      "RS\t7\t0.500817\t1.790183\t92.146706\t0.076204\t0.075640\n",
      "RS\t8\t0.676232\t1.790183\t106.556138\t0.088121\t0.088476\n",
      "RS\t9\t0.902860\t1.790183\t119.305718\t0.098665\t0.100785\n",
      "RS\t10\t1.195655\t2.057115\t112.996050\t0.093447\t0.096319\n",
      "RS\t11\t1.573934\t2.057115\t118.651040\t0.098123\t0.100018\n",
      "RS\t12\t2.062655\t2.057115\t117.310827\t0.097015\t0.098087\n",
      "RS\t13\t2.694063\t1.614276\t130.058273\t0.107557\t0.108800\n",
      "RS\t14\t3.509816\t1.614276\t95.324766\t0.078833\t0.080210\n",
      "RS\t15\t4.563736\t1.614276\t59.361086\t0.049091\t0.050224\n",
      "RS\t16\t5.925359\t1.096136\t36.101903\t0.029856\t0.030318\n",
      "RS\t17\t7.684520\t1.096136\t8.018582\t0.006631\t0.006703\n",
      "RS\t18\t9.957286\t1.096136\t1.088356\t0.000900\t0.000898\n",
      "RS\t19\t12.893607\t0.917603\t0.080185\t0.000066\t0.000065\n",
      "RS\t20\t16.687215\t0.917603\t0.001325\t0.000001\t0.000001\n",
      "RS\t21\t21.588403\t0.917603\t0.000007\t0.000000\t0.000000\n",
      "RS\t22\t27.920540\t0.917603\t0.000000\t0.000000\t0.000000\n",
      "PA\t4+5*3+4 0.012440685 0.011574454 27.920540484 58721.822093546 1.652714035 1.790182896 2.057115107 1.614275722 1.096135943 0.917603012\n",
      "//\n"
     ]
    }
   ],
   "source": [
    "tail -34 s1_1_coarsePattern.psmc"
   ]
  },
  {
   "cell_type": "markdown",
   "metadata": {
    "kernel": "SoS"
   },
   "source": [
    "Let us now cat the psmc outputs for all 3 samples, and plot them into a pdf. "
   ]
  },
  {
   "cell_type": "code",
   "execution_count": 9,
   "metadata": {
    "kernel": "Bash"
   },
   "outputs": [],
   "source": [
    "cat s1_1_coarsePattern.psmc \\\n",
    "    s2_1_coarsePattern.psmc s3_1_coarsePattern.psmc > combined_coarsePattern.psmc "
   ]
  },
  {
   "cell_type": "markdown",
   "metadata": {
    "kernel": "SoS"
   },
   "source": [
    "We will use the inbuilt plotting functions in psmc to plot them. "
   ]
  },
  {
   "cell_type": "code",
   "execution_count": 10,
   "metadata": {
    "kernel": "Bash"
   },
   "outputs": [
    {
     "name": "stdout",
     "output_type": "stream",
     "text": [
      "\n",
      "Usage:   psmc_plot.pl [options] <out.prefix> <in.psmc>\n",
      "\n",
      "Options: -u FLOAT   absolute mutation rate per nucleotide [2.5e-08]\n",
      "         -s INT     skip used in data preparation [100]\n",
      "         -X FLOAT   maximum generations, 0 for auto [0]\n",
      "         -x FLOAT   minimum generations, 0 for auto [10000]\n",
      "         -Y FLOAT   maximum popsize, 0 for auto [0]\n",
      "         -m INT     minimum number of iteration [5]\n",
      "         -n INT     take n-th iteration (suppress GOF) [20]\n",
      "         -M titles  multiline mode [null]\n",
      "         -f STR     font for title, labels and tics [Helvetica,16]\n",
      "         -g INT     number of years per generation [25]\n",
      "         -w INT     line width [4]\n",
      "         -P STR     position of the keys [right top]\n",
      "         -T STR     figure title [null]\n",
      "         -N FLOAT   false negative rate [0]\n",
      "         -S         no scaling\n",
      "         -L         show the last bin\n",
      "         -p         convert to PDF (with epstopdf)\n",
      "         -R         do not remove temporary files\n",
      "         -G         plot grid\n",
      "\n"
     ]
    },
    {
     "ename": "",
     "evalue": "255",
     "output_type": "error",
     "traceback": []
    }
   ],
   "source": [
    "perl /course/bgi23/rasmus/psmc/utils/psmc_plot.pl"
   ]
  },
  {
   "cell_type": "code",
   "execution_count": 11,
   "metadata": {
    "kernel": "Bash"
   },
   "outputs": [],
   "source": [
    "perl /course/bgi23/rasmus/psmc/utils/psmc_plot.pl -u 2.5e-08 -s 100 -Y 1 -m 5 -n 30 -p -M \"Pop1, Pop2, Pop3\" Simulations_coarsePattern combined_coarsePattern.psmc\n",
    "convert Simulations_coarsePattern.pdf Simulations_coarsePattern.png"
   ]
  },
  {
   "cell_type": "code",
   "execution_count": 12,
   "metadata": {
    "kernel": "Python 3 (ipykernel)"
   },
   "outputs": [
    {
     "data": {
      "text/html": [
       "<img src=\"Simulations_coarsePattern.png\" width=\"600\" height=\"600\"/>"
      ],
      "text/plain": [
       "<IPython.core.display.Image object>"
      ]
     },
     "execution_count": 12,
     "metadata": {},
     "output_type": "execute_result"
    }
   ],
   "source": [
    "## check the output image\n",
    "from IPython.display import Image # import image module \n",
    "Image(url=\"Simulations_coarsePattern.png\", width=600, height=600)"
   ]
  },
  {
   "cell_type": "markdown",
   "metadata": {
    "kernel": "SoS"
   },
   "source": [
    "\n",
    "__Question:__ Can you see the differences in the population sizes? Do they make sense to you? Do they match up with you simulation scheme?"
   ]
  },
  {
   "cell_type": "markdown",
   "metadata": {
    "kernel": "SoS"
   },
   "source": [
    "Now that we know how to run psmc, and plot the output, we could run the psmc for the same samples, but with a much finer time pattern of \"4+25\\*2+4+6\", and plot the output. \n",
    "\n",
    "__Question:__ What would you expect the output to be? \n",
    "\n",
    "\n",
    "__Question:__ Does the output plot from the finer time pattern match the coarser time pattern? Which one would you prefer?\n",
    "\n",
    "\n",
    "__Question:__ Is it always better to use a finer resolution? Why or why not?\n"
   ]
  },
  {
   "cell_type": "markdown",
   "metadata": {
    "kernel": "SoS"
   },
   "source": [
    "# 4. PSMC on real world samples"
   ]
  },
  {
   "cell_type": "markdown",
   "metadata": {
    "kernel": "SoS"
   },
   "source": [
    "## 4.1 human data sets\n",
    "We are now going to shift gears to estimate the effective population sizes from 2 samples in the 1000 genomes consoritum. We will only be using data from chromosome 1 due to time constraints. Further, we have already run the commands that generate the psmcfa files using our custom script, so you do not need to do that."
   ]
  },
  {
   "cell_type": "code",
   "execution_count": 13,
   "metadata": {
    "kernel": "Bash"
   },
   "outputs": [
    {
     "name": "stdout",
     "output_type": "stream",
     "text": [
      "python2 /course/bgi23/rasmus/shyam/psmc_tutorial/scripts/vcf2psmcfa.py /course/bgi23/rasmus/shyam/psmc_tutorial/data/1kg_2samps_chr1_noindels.recode.vcf.gz NA12718\n",
      "python2 /course/bgi23/rasmus/shyam/psmc_tutorial/scripts/vcf2psmcfa.py /course/bgi23/rasmus/shyam/psmc_tutorial/data/1kg_2samps_chr1_noindels.recode.vcf.gz NA19471\n"
     ]
    }
   ],
   "source": [
    "echo python2 /course/bgi23/rasmus/shyam/psmc_tutorial/scripts/vcf2psmcfa.py /course/bgi23/rasmus/shyam/psmc_tutorial/data/1kg_2samps_chr1_noindels.recode.vcf.gz NA12718\n",
    "echo python2 /course/bgi23/rasmus/shyam/psmc_tutorial/scripts/vcf2psmcfa.py /course/bgi23/rasmus/shyam/psmc_tutorial/data/1kg_2samps_chr1_noindels.recode.vcf.gz NA19471"
   ]
  },
  {
   "cell_type": "markdown",
   "metadata": {
    "kernel": "SoS"
   },
   "source": [
    "__Task__ The psmcfa files are called NA12718_chr1.psmcfa and NA19471_chr1.psmcfa. Using the same sets of commands we used in the previous section, run psmc on these 2 samples using the pattern \"4+25\\*2+4+6\". Note that this will take about 10 minutes to run."
   ]
  },
  {
   "cell_type": "markdown",
   "metadata": {
    "kernel": "SoS"
   },
   "source": [
    "If you are short on time, or are tired of waiting, I have the psmc files for these samples already generated. They are called NA12718_chr1.psmc and NA19471_chr1.psmc. Use the plotting command - you might have to remove the -Y option from the command from the last section - to plot these. \n",
    "\n",
    "Here is my output from psmc runs on these 2 samples. Please run the following code to show the output plot."
   ]
  },
  {
   "cell_type": "code",
   "execution_count": 14,
   "metadata": {
    "kernel": "Python 3 (ipykernel)"
   },
   "outputs": [
    {
     "data": {
      "text/html": [
       "<img src=\"1kg_chr1.png\" width=\"600\" height=\"600\"/>"
      ],
      "text/plain": [
       "<IPython.core.display.Image object>"
      ]
     },
     "execution_count": 14,
     "metadata": {},
     "output_type": "execute_result"
    }
   ],
   "source": [
    "## check the output image\n",
    "from IPython.display import Image # import image module \n",
    "Image(url=\"1kg_chr1.png\", width=600, height=600)"
   ]
  },
  {
   "cell_type": "markdown",
   "metadata": {
    "kernel": "SoS"
   },
   "source": [
    "__Question:__ Interpret these effective population size plots for an European and an African population.\n",
    "\n",
    "__Question:__ Connect the recent high population size of African populations to what you know about the genetic variation seen in Africa. "
   ]
  },
  {
   "cell_type": "markdown",
   "metadata": {
    "kernel": "SoS"
   },
   "source": [
    "### Effect of low coverage\n",
    "\n",
    "In the last section, we will explore the effects of low coverage on effective population size estimation. First let me ask you a quesiton?\n",
    "\n",
    "__Question:__ What will happen to genotype calling with decreasing coverage, for a single individual? Think about which kind of genotypes will be hard to call? Homozygote or heterozygote?\n",
    "\n",
    "I have run psmc 2 extra times for the sample NA12718, where I intentionally mask 10% and 20% of the heterozygote sites to mimic the effects of low coverage. \n",
    "\n",
    "__Question:__ What do you expect will happen to the effective population size estimates?"
   ]
  },
  {
   "cell_type": "markdown",
   "metadata": {
    "kernel": "SoS"
   },
   "source": [
    "Here is my psmc plot for the these three scenarios: (Please run the following code to show the plot)"
   ]
  },
  {
   "cell_type": "code",
   "execution_count": 15,
   "metadata": {
    "kernel": "Python 3 (ipykernel)"
   },
   "outputs": [
    {
     "data": {
      "text/html": [
       "<img src=\"NA12718.png\" width=\"600\" height=\"600\"/>"
      ],
      "text/plain": [
       "<IPython.core.display.Image object>"
      ]
     },
     "execution_count": 15,
     "metadata": {},
     "output_type": "execute_result"
    }
   ],
   "source": [
    "## check the output image\n",
    "from IPython.display import Image # import image module \n",
    "Image(url=\"NA12718.png\", width=600, height=600)"
   ]
  },
  {
   "cell_type": "markdown",
   "metadata": {
    "kernel": "Python 3 (ipykernel)"
   },
   "source": [
    "__Question:__ Can you explain the reduction in the $N_e$ with increasing missingness of heterozygotes?"
   ]
  },
  {
   "cell_type": "markdown",
   "metadata": {
    "kernel": "SoS"
   },
   "source": [
    "### Estimating uncertainty in $N_e$ estimates\n",
    "\n",
    "Due to time constraints, we will not delve into details here, but one can estimate the uncertainty in the $N_e$ estimates from psmc using bootstrapping, where the genome is broken into chunks and resampled. An example of bootstrapped estimates: (Please run the following code to see the plot)"
   ]
  },
  {
   "cell_type": "code",
   "execution_count": 16,
   "metadata": {
    "kernel": "Python 3 (ipykernel)"
   },
   "outputs": [
    {
     "data": {
      "text/html": [
       "<img src=\"bootstrap.png\" width=\"600\" height=\"600\"/>"
      ],
      "text/plain": [
       "<IPython.core.display.Image object>"
      ]
     },
     "execution_count": 16,
     "metadata": {},
     "output_type": "execute_result"
    }
   ],
   "source": [
    "## check the output image\n",
    "from IPython.display import Image # import image module \n",
    "Image(url=\"bootstrap.png\", width=600, height=600)"
   ]
  },
  {
   "cell_type": "markdown",
   "metadata": {
    "kernel": "Bash"
   },
   "source": [
    "__Question:__ Why do the most recent time periods have the highest variance in $N_e$ estimates?"
   ]
  },
  {
   "cell_type": "markdown",
   "metadata": {
    "kernel": "SoS"
   },
   "source": [
    "## 4.2 Cattle data\n",
    "We are now going to estimate the effective population sizes from 3 samples of cattles. We will only be using data from chromosome 1 due to time constraints. We will also be slightly reducing the resolution, but you can feel free to try using the same resolution settings as above for the human data.\n",
    "\n",
    "**Note: running PSMC may take around 10 mins**"
   ]
  },
  {
   "cell_type": "code",
   "execution_count": 19,
   "metadata": {
    "kernel": "Bash"
   },
   "outputs": [
    {
     "name": "stdout",
     "output_type": "stream",
     "text": [
      "[3] 451545\n",
      "[4] 451546\n",
      "[1]   Done                    /course/bgi23/rasmus/psmc/psmc -p \"4+10*2+4+6\" -o N_7B.425246.psmc N_7B.psmcfa\n",
      "[2]   Done                    /course/bgi23/rasmus/psmc/psmc -p \"4+10*2+4+6\" -o N_31B.425246.psmc N_31B.psmcfa\n",
      "[3]-  Done                    python2 /course/bgi23/rasmus/cattles/vcf2psmcfa.py /course/bgi23/rasmus/cattles/Cattles.4inds.vcf.gz N_7B\n"
     ]
    }
   ],
   "source": [
    "python2 /course/bgi23/rasmus/cattles/vcf2psmcfa.py /course/bgi23/rasmus/cattles/Cattles.4inds.vcf.gz N_7B &\n",
    "python2 /course/bgi23/rasmus/cattles/vcf2psmcfa.py /course/bgi23/rasmus/cattles/Cattles.4inds.vcf.gz N_31B &\n",
    "python2 /course/bgi23/rasmus/cattles/vcf2psmcfa.py /course/bgi23/rasmus/cattles/Cattles.4inds.vcf.gz Limousin_ROUSTAN"
   ]
  },
  {
   "cell_type": "code",
   "execution_count": 18,
   "metadata": {
    "kernel": "Bash"
   },
   "outputs": [
    {
     "name": "stdout",
     "output_type": "stream",
     "text": [
      "[1] 451332\n",
      "[2] 451333\n"
     ]
    }
   ],
   "source": [
    "/course/bgi23/rasmus/psmc/psmc -p \"4+10*2+4+6\" -o N_7B.425246.psmc N_7B.psmcfa &\n",
    "/course/bgi23/rasmus/psmc/psmc -p \"4+10*2+4+6\" -o N_31B.425246.psmc N_31B.psmcfa &\n",
    "/course/bgi23/rasmus/psmc/psmc -p \"4+10*2+4+6\" -o Limousin_ROUSTAN.425246.psmc Limousin_ROUSTAN.psmcfa"
   ]
  },
  {
   "cell_type": "code",
   "execution_count": 20,
   "metadata": {
    "kernel": "Bash"
   },
   "outputs": [
    {
     "name": "stdout",
     "output_type": "stream",
     "text": [
      "[4]+  Done                    python2 /course/bgi23/rasmus/cattles/vcf2psmcfa.py /course/bgi23/rasmus/cattles/Cattles.4inds.vcf.gz N_31B\n"
     ]
    }
   ],
   "source": [
    "cat N_7B.425246.psmc Limousin_ROUSTAN.425246.psmc > two.combined_cattles.425246.psmc\n",
    "perl /course/bgi23/rasmus/psmc/utils/psmc_plot.pl -u 1.26e-08 -g 6 -s 100 -m 5 -n 30 -p -M \"PureBali,EuropeanTaurine\" two.combined_cattles.425246.psmc.plot two.combined_cattles.425246.psmc\n",
    "convert two.combined_cattles.425246.psmc.plot.pdf two.combined_cattles.425246.psmc.plot.png\n",
    "cat N_7B.425246.psmc N_31B.425246.psmc Limousin_ROUSTAN.425246.psmc > combined_cattles.425246.psmc\n",
    "perl /course/bgi23/rasmus/psmc/utils/psmc_plot.pl -u 1.26e-08 -g 6 -s 100 -m 5 -n 30 -p -M \"PureBali,Hybrid,EuropeanTaurine\" combined_cattles.425246.psmc.plot combined_cattles.425246.psmc\n",
    "convert combined_cattles.425246.psmc.plot.pdf combined_cattles.425246.psmc.plot.png"
   ]
  },
  {
   "cell_type": "markdown",
   "metadata": {
    "kernel": "Python 3 (ipykernel)"
   },
   "source": [
    "check the outputs"
   ]
  },
  {
   "cell_type": "code",
   "execution_count": 21,
   "metadata": {
    "kernel": "Python 3 (ipykernel)"
   },
   "outputs": [
    {
     "data": {
      "text/html": [
       "<img src=\"combined_cattles.425246.psmc.plot.png\" width=\"600\" height=\"600\"/>"
      ],
      "text/plain": [
       "<IPython.core.display.Image object>"
      ]
     },
     "execution_count": 21,
     "metadata": {},
     "output_type": "execute_result"
    }
   ],
   "source": [
    "# import image module \n",
    "from IPython.display import Image # import image module \n",
    "Image(url=\"combined_cattles.425246.psmc.plot.png\", width=600, height=600)"
   ]
  },
  {
   "cell_type": "code",
   "execution_count": 22,
   "metadata": {
    "kernel": "Python 3 (ipykernel)"
   },
   "outputs": [
    {
     "data": {
      "text/html": [
       "<img src=\"two.combined_cattles.425246.psmc.plot.png\" width=\"600\" height=\"600\"/>"
      ],
      "text/plain": [
       "<IPython.core.display.Image object>"
      ]
     },
     "execution_count": 22,
     "metadata": {},
     "output_type": "execute_result"
    }
   ],
   "source": [
    "Image(url=\"two.combined_cattles.425246.psmc.plot.png\", width=600, height=600)"
   ]
  },
  {
   "cell_type": "markdown",
   "metadata": {
    "kernel": "SoS"
   },
   "source": [
    "### Effect of admixture\n",
    "\n",
    "__Question__: Look at the curves for cattle and Bali cattle - what can we see here?\n",
    "\n",
    "__Question__: How about the hybrid sample? How does admixture impact the inference of effective population size? "
   ]
  },
  {
   "cell_type": "code",
   "execution_count": null,
   "metadata": {
    "kernel": "Python 3 (ipykernel)"
   },
   "outputs": [],
   "source": []
  }
 ],
 "metadata": {
  "kernelspec": {
   "display_name": "SoS",
   "language": "sos",
   "name": "sos"
  },
  "language_info": {
   "codemirror_mode": "sos",
   "file_extension": ".sos",
   "mimetype": "text/x-sos",
   "name": "sos",
   "nbconvert_exporter": "sos_notebook.converter.SoS_Exporter",
   "pygments_lexer": "sos"
  },
  "sos": {
   "kernels": [
    [
     "Bash",
     "bash",
     "bash",
     "",
     "shell"
    ],
    [
     "Python 3 (ipykernel)",
     "python3",
     "python3",
     "",
     {
      "name": "ipython",
      "version": 3
     }
    ]
   ],
   "panel": {
    "displayed": false,
    "height": 0
   },
   "version": "0.24.1"
  }
 },
 "nbformat": 4,
 "nbformat_minor": 2
}
