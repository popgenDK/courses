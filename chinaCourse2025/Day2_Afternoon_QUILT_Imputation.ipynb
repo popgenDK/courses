{
 "cells": [
  {
   "cell_type": "markdown",
   "id": "4f42eede",
   "metadata": {
    "kernel": "SoS"
   },
   "source": [
    "# NGS: SNP calling, genoptype calling, allele frequencies, Imputation and EM algorithm"
   ]
  },
  {
   "cell_type": "markdown",
   "id": "28038f1d",
   "metadata": {
    "kernel": "SoS"
   },
   "source": [
    "We will work on 33 European samples where we have reduced the genome so there is very little data. \n",
    "\n",
    "We will be looking at the default behaviour for 3 programs\n",
    "\n",
    "| tool | SAMtools/bcftools | GATK | ANGSD |\n",
    "| --- | --- | --- | --- |\n",
    "| Genotype likelihood | tries to model error dependenties | simple | user specified |\n",
    "| SNP caller | uses the SFS as prior | uses SFS as prior | likelihood ratio test |\n",
    "| Genotype caller | MAF | ML | MAF prior |\n",
    "\n",
    "<br>\n",
    "All the programs have additional filters and additional differences. "
   ]
  },
  {
   "cell_type": "markdown",
   "id": "c5a99af0",
   "metadata": {
    "kernel": "SoS"
   },
   "source": [
    "## Environment setup"
   ]
  },
  {
   "cell_type": "markdown",
   "id": "50e398ef",
   "metadata": {
    "kernel": "R"
   },
   "source": [
    "Please change these environments accordingly"
   ]
  },
  {
   "cell_type": "code",
   "execution_count": 27,
   "id": "1c54f2cc",
   "metadata": {
    "kernel": "Calysto Bash"
   },
   "outputs": [
    {
     "name": "stdout",
     "output_type": "stream",
     "text": [
      "(anders) (base) (anders) (anders) (anders) (anders) \n"
     ]
    }
   ],
   "source": [
    "# shared tools and data folder\n",
    "source /home/student/USER/miniconda.sh\n",
    "conda activate anders\n",
    "TOOL_PATH=/home/student/opt/anders # for standalone tool script including java package\n",
    "SHARED_PATH=/home/tch_wyd/myname/shared # For reference database\n",
    "INPUT_PATH=/home/tch_wyd/myname/inputs/imputation  # for input data"
   ]
  },
  {
   "cell_type": "code",
   "execution_count": 2,
   "id": "a2c11e4b",
   "metadata": {
    "kernel": "Calysto Bash"
   },
   "outputs": [
    {
     "name": "stdout",
     "output_type": "stream",
     "text": [
      "(anders) (anders) (anders) (anders) (anders) \n"
     ]
    }
   ],
   "source": [
    "# go to working folder\n",
    "cd ~/\n",
    "mkdir -p ~/sysu_day2_imputation\n",
    "cd ~/sysu_day2_imputation\n",
    "output_dir=~/sysu_day2_imputation"
   ]
  },
  {
   "cell_type": "code",
   "execution_count": 3,
   "id": "1ba0949b",
   "metadata": {
    "kernel": "R (anders)"
   },
   "outputs": [],
   "source": [
    "# set R working space\n",
    "work_d <- path.expand(\"~/sysu_day2_imputation\")\n",
    "setwd(work_d)"
   ]
  },
  {
   "cell_type": "markdown",
   "id": "f239b92c",
   "metadata": {
    "kernel": "R"
   },
   "source": [
    "we should have access to all files and tools if the environment is set up correctly"
   ]
  },
  {
   "cell_type": "code",
   "execution_count": 4,
   "id": "a300dbcf",
   "metadata": {
    "kernel": "Calysto Bash"
   },
   "outputs": [
    {
     "name": "stdout",
     "output_type": "stream",
     "text": [
      "/home/student/miniconda3/envs/anders/bin/angsd\n",
      "(anders) /home/student/miniconda3/envs/anders/bin/samtools\n",
      "(anders) /home/student/miniconda3/envs/anders/bin/bcftools\n",
      "(anders) /home/student/miniconda3/envs/anders/bin/vcftools\n",
      "(anders) (anders) (anders) (anders) (anders) (anders) (anders) (anders) (anders) (anders) (anders) (anders) (anders) (anders) (anders) (anders) (anders) (anders) (anders) (anders) (anders) (anders) \u001b[0m\u001b[01;32m/home/student/opt/anders/beagle.27Feb25.75f.jar\u001b[0m\n",
      "\u001b[01;31m/home/student/opt/anders/beagle.27Jan18.7e1.jar\u001b[0m\n",
      "\u001b[01;32m/home/student/opt/anders/QUILT/QUILT2.R\u001b[0m\n",
      "\u001b[01;32m/home/tch_wyd/myname/inputs/imputation/vcfs/CEU_fake_chip.chr20.vcf.gz\u001b[0m\n",
      "\u001b[01;32m/home/tch_wyd/myname/inputs/imputation/vcfs/CEU_ref_set.chr20.vcf.gz\u001b[0m\n",
      "\u001b[01;32m/home/tch_wyd/myname/inputs/imputation/vcfs/CEU_true_set.chr20.vcf.gz\u001b[0m\n",
      "\u001b[01;32m/home/tch_wyd/myname/inputs/imputation/vcfs/quilt2_all_inds.vcf.gz\u001b[0m\n",
      "\u001b[01;32m/home/tch_wyd/myname/shared/data/GRCh38_full_analysis_set_plus_decoy_hla.fa\u001b[0m\n",
      "\u001b[01;32m/home/tch_wyd/myname/shared/data/plink.GRCh38.map/plink.chr20.GRCh38.rename.map\u001b[0m\n",
      "\n",
      "/home/tch_wyd/myname/inputs/imputation/bams:\n",
      "\u001b[01;32mNA07000.lc.bam\u001b[0m      \u001b[01;32mNA11892.lc.bam.bai\u001b[0m  \u001b[01;32mNA12156.lc.bam\u001b[0m      \u001b[01;32mNA12827.lc.bam.bai\u001b[0m\n",
      "\u001b[01;32mNA07000.lc.bam.bai\u001b[0m  \u001b[01;32mNA11930.lc.bam\u001b[0m      \u001b[01;32mNA12156.lc.bam.bai\u001b[0m  \u001b[01;32mNA12828.lc.bam\u001b[0m\n",
      "\u001b[01;32mNA07048.lc.bam\u001b[0m      \u001b[01;32mNA11930.lc.bam.bai\u001b[0m  \u001b[01;32mNA12272.lc.bam\u001b[0m      \u001b[01;32mNA12828.lc.bam.bai\u001b[0m\n",
      "\u001b[01;32mNA07048.lc.bam.bai\u001b[0m  \u001b[01;32mNA11931.lc.bam\u001b[0m      \u001b[01;32mNA12272.lc.bam.bai\u001b[0m  \u001b[01;32mNA12829.lc.bam\u001b[0m\n",
      "\u001b[01;32mNA07056.lc.bam\u001b[0m      \u001b[01;32mNA11931.lc.bam.bai\u001b[0m  \u001b[01;32mNA12340.lc.bam\u001b[0m      \u001b[01;32mNA12829.lc.bam.bai\u001b[0m\n",
      "\u001b[01;32mNA07056.lc.bam.bai\u001b[0m  \u001b[01;32mNA11992.lc.bam\u001b[0m      \u001b[01;32mNA12340.lc.bam.bai\u001b[0m  \u001b[01;32mNA12842.lc.bam\u001b[0m\n",
      "\u001b[01;32mNA10851.lc.bam\u001b[0m      \u001b[01;32mNA11992.lc.bam.bai\u001b[0m  \u001b[01;32mNA12348.lc.bam\u001b[0m      \u001b[01;32mNA12842.lc.bam.bai\u001b[0m\n",
      "\u001b[01;32mNA10851.lc.bam.bai\u001b[0m  \u001b[01;32mNA11994.lc.bam\u001b[0m      \u001b[01;32mNA12348.lc.bam.bai\u001b[0m  \u001b[01;32mNA12872.lc.bam\u001b[0m\n",
      "\u001b[01;32mNA11829.lc.bam\u001b[0m      \u001b[01;32mNA11994.lc.bam.bai\u001b[0m  \u001b[01;32mNA12718.lc.bam\u001b[0m      \u001b[01;32mNA12872.lc.bam.bai\u001b[0m\n",
      "\u001b[01;32mNA11829.lc.bam.bai\u001b[0m  \u001b[01;32mNA12043.lc.bam\u001b[0m      \u001b[01;32mNA12718.lc.bam.bai\u001b[0m  \u001b[01;32mNA12878.lc.bam\u001b[0m\n",
      "\u001b[01;32mNA11832.lc.bam\u001b[0m      \u001b[01;32mNA12043.lc.bam.bai\u001b[0m  \u001b[01;32mNA12749.lc.bam\u001b[0m      \u001b[01;32mNA12878.lc.bam.bai\u001b[0m\n",
      "\u001b[01;32mNA11832.lc.bam.bai\u001b[0m  \u001b[01;32mNA12044.lc.bam\u001b[0m      \u001b[01;32mNA12749.lc.bam.bai\u001b[0m  \u001b[01;32mNA12889.lc.bam\u001b[0m\n",
      "\u001b[01;32mNA11881.lc.bam\u001b[0m      \u001b[01;32mNA12044.lc.bam.bai\u001b[0m  \u001b[01;32mNA12813.lc.bam\u001b[0m      \u001b[01;32mNA12889.lc.bam.bai\u001b[0m\n",
      "\u001b[01;32mNA11881.lc.bam.bai\u001b[0m  \u001b[01;32mNA12046.lc.bam\u001b[0m      \u001b[01;32mNA12813.lc.bam.bai\u001b[0m  \u001b[01;32mNA12890.lc.bam\u001b[0m\n",
      "\u001b[01;32mNA11892.lc.bam\u001b[0m      \u001b[01;32mNA12046.lc.bam.bai\u001b[0m  \u001b[01;32mNA12827.lc.bam\u001b[0m      \u001b[01;32mNA12890.lc.bam.bai\u001b[0m\n",
      "(anders) \n"
     ]
    }
   ],
   "source": [
    "which angsd\n",
    "which samtools\n",
    "which bcftools\n",
    "which vcftools\n",
    "\n",
    "# Additional tools\n",
    "BEAGLE4=${TOOL_PATH}/beagle.27Jan18.7e1.jar\n",
    "BEAGLE5=${TOOL_PATH}/beagle.27Feb25.75f.jar\n",
    "QUILT2=${TOOL_PATH}/QUILT/QUILT2.R\n",
    "\n",
    "# Reference data\n",
    "QUILT2_MAP=${SHARED_PATH}/data/hg38/CEU-chr20-final.b38.txt.gz\n",
    "BEAGLE5_MAP=${SHARED_PATH}/data/plink.GRCh38.map/plink.chr20.GRCh38.rename.map\n",
    "REF_GENOME=${SHARED_PATH}/data/GRCh38_full_analysis_set_plus_decoy_hla.fa\n",
    "\n",
    "REF_VCF=${INPUT_PATH}/vcfs/CEU_ref_set.chr20.vcf.gz\n",
    "TRUE_VCF=${INPUT_PATH}/vcfs/CEU_true_set.chr20.vcf.gz\n",
    "EXAMPLE_VCF=${INPUT_PATH}/vcfs/example.vcf.gz\n",
    "QUILT2_EXAMPLE=${INPUT_PATH}/vcfs/quilt2_all_inds.vcf.gz\n",
    "\n",
    "# Input data\n",
    "SAM_FOLDER=${INPUT_PATH}/bams\n",
    "FAKE_SNPCHIP=${INPUT_PATH}/vcfs/CEU_fake_chip.chr20.vcf.gz\n",
    "\n",
    "# you could run this to check whether files exist\n",
    "ls ${BEAGLE4} ${BEAGLE5} ${BEAGLE5_MAP} ${QUILT2} ${QULT2_MAP} ${REF_GENOME} ${TRUE_VCF} ${REF_VCF} ${QUILT2_EXAMPLE} ${FAKE_SNPCHIP} ${SAM_FOLDER} "
   ]
  },
  {
   "cell_type": "markdown",
   "id": "b9223351",
   "metadata": {
    "kernel": "Calysto Bash"
   },
   "source": [
    "## Input formats and pata preparation\n",
    "\n",
    "Input Reference panel. IMPUTE format hap and legend format files with reference haplotypes. These can be made from haplotype VCFs using bcftools convert --haplegendsample. Alternatively, they can be made manually. The haplotype file is a gzipped file with no header and no rownames, with one row per SNP, with one column per reference haplotype, space separated, and values of 0 (ref) and 1 (alt). The legend file is a gzipped file with no rownames, a header file including position for the physical position in 1 based coordinates, a0 for the reference allele, and a1 for the alternate allele. An optional sample file and file with samples to exclude can be useful for changing who is used in the reference panel.\n",
    "\n",
    "Genetic map. File with genetic map information, with 3 white-space delimited columns giving position (1-based), genetic rate map in cM/Mbp, and genetic map in cM\n",
    "\n",
    "Bams. Given as a bamlist (i.e. a file with one row per sample, the path to the bam)\n",
    "\n",
    "(Optional) Truth data. phasefile and posfile. Useful for understanding performance. Phasefile has a header row with a name for each sample, matching what is found in the bam file. File is tab separated, one subject per column, with 0 = ref and 1 = alt, separated by a vertical bar |, e.g. 0|0 or 0|1. Note therefore this file has one more row than posfile which has no header. For posfile, this is a file with positions of where to impute, lining up one-to-one with the SNPs of phasefile. File is tab seperated with no header, one row per SNP, with col 1 = chromosome, col 2 = physical position (sorted from smallest to largest), col 3 = reference base, col 4 = alternate base. Bases are capitalized. Example first row: 11000AG"
   ]
  },
  {
   "cell_type": "markdown",
   "id": "d7475950",
   "metadata": {
    "kernel": "Calysto Bash"
   },
   "source": [
    "- create folders and prepare inputs"
   ]
  },
  {
   "cell_type": "code",
   "execution_count": 5,
   "id": "f2d68ad5",
   "metadata": {
    "kernel": "Calysto Bash"
   },
   "outputs": [
    {
     "name": "stdout",
     "output_type": "stream",
     "text": [
      "(anders) \n"
     ]
    }
   ],
   "source": [
    "ls $SAM_FOLDER/NA*.bam > ${output_dir}/CEU_inds_bams.list"
   ]
  },
  {
   "cell_type": "markdown",
   "id": "1eaa68fe",
   "metadata": {
    "kernel": "Calysto Bash"
   },
   "source": [
    "- check your data"
   ]
  },
  {
   "cell_type": "code",
   "execution_count": 6,
   "id": "ed4cdac1",
   "metadata": {
    "kernel": "Calysto Bash",
    "scrolled": true
   },
   "outputs": [
    {
     "name": "stdout",
     "output_type": "stream",
     "text": [
      "[mpileup] 30 samples in 30 input files\n",
      "chr20\t1999852\tN\t1\t^]a\t?\t0\t*\t*\t0\t*\t*\t0\t*\t*\t0\t*\t*\t0\t*\t*\t0\t*\t*\t0\t*\t*\t0\t*\t*\t0\t*\t*\t0\t*\t*\t0\t*\t*\t0\t*\t*\t0\t*\t*\t0\t*\t*\t0\t*\t*\t0\t*\t*\t0\t*\t*\t0\t*\t*\t0\t*\t*\t0\t*\t*\t0\t*\t*\t0\t*\t*\t0\t*\t*\t0\t*\t*\t0\t*\t*\t0\t*\t*\t0\t*\t*\t0\t*\t*\t0\t*\t*\n",
      "chr20\t1999853\tN\t1\tc\t?\t0\t*\t*\t0\t*\t*\t0\t*\t*\t1\t^]c\t?\t0\t*\t*\t0\t*\t*\t0\t*\t*\t0\t*\t*\t0\t*\t*\t0\t*\t*\t0\t*\t*\t0\t*\t*\t0\t*\t*\t0\t*\t*\t0\t*\t*\t0\t*\t*\t0\t*\t*\t0\t*\t*\t0\t*\t*\t0\t*\t*\t0\t*\t*\t0\t*\t*\t0\t*\t*\t0\t*\t*\t0\t*\t*\t0\t*\t*\t0\t*\t*\t0\t*\t*\t0\t*\t*\n",
      "chr20\t1999854\tN\t1\ta\t?\t0\t*\t*\t0\t*\t*\t0\t*\t*\t1\ta\t?\t0\t*\t*\t0\t*\t*\t0\t*\t*\t0\t*\t*\t0\t*\t*\t0\t*\t*\t0\t*\t*\t0\t*\t*\t0\t*\t*\t0\t*\t*\t0\t*\t*\t0\t*\t*\t0\t*\t*\t0\t*\t*\t0\t*\t*\t0\t*\t*\t0\t*\t*\t0\t*\t*\t0\t*\t*\t0\t*\t*\t0\t*\t*\t0\t*\t*\t0\t*\t*\t0\t*\t*\t0\t*\t*\n",
      "chr20\t1999855\tN\t1\tt\t?\t0\t*\t*\t0\t*\t*\t0\t*\t*\t1\tt\t?\t0\t*\t*\t0\t*\t*\t0\t*\t*\t0\t*\t*\t0\t*\t*\t0\t*\t*\t0\t*\t*\t0\t*\t*\t0\t*\t*\t0\t*\t*\t0\t*\t*\t0\t*\t*\t0\t*\t*\t0\t*\t*\t0\t*\t*\t0\t*\t*\t0\t*\t*\t0\t*\t*\t0\t*\t*\t0\t*\t*\t0\t*\t*\t0\t*\t*\t0\t*\t*\t0\t*\t*\t0\t*\t*\n",
      "chr20\t1999856\tN\t1\ta\t?\t0\t*\t*\t0\t*\t*\t0\t*\t*\t1\ta\t?\t0\t*\t*\t0\t*\t*\t0\t*\t*\t0\t*\t*\t0\t*\t*\t0\t*\t*\t0\t*\t*\t0\t*\t*\t0\t*\t*\t0\t*\t*\t0\t*\t*\t0\t*\t*\t0\t*\t*\t0\t*\t*\t0\t*\t*\t0\t*\t*\t0\t*\t*\t0\t*\t*\t0\t*\t*\t0\t*\t*\t0\t*\t*\t0\t*\t*\t0\t*\t*\t0\t*\t*\t0\t*\t*\n",
      "chr20\t1999857\tN\t1\tt\t?\t0\t*\t*\t0\t*\t*\t0\t*\t*\t1\tt\t?\t0\t*\t*\t0\t*\t*\t1\t^]t\t?\t0\t*\t*\t0\t*\t*\t0\t*\t*\t0\t*\t*\t0\t*\t*\t0\t*\t*\t0\t*\t*\t0\t*\t*\t0\t*\t*\t0\t*\t*\t0\t*\t*\t0\t*\t*\t0\t*\t*\t0\t*\t*\t0\t*\t*\t0\t*\t*\t0\t*\t*\t0\t*\t*\t0\t*\t*\t1\t^]t\t?\t0\t*\t*\t0\t*\t*\n",
      "chr20\t1999858\tN\t1\ta\t?\t0\t*\t*\t0\t*\t*\t0\t*\t*\t1\ta\t?\t0\t*\t*\t0\t*\t*\t1\ta\t?\t0\t*\t*\t0\t*\t*\t0\t*\t*\t0\t*\t*\t0\t*\t*\t0\t*\t*\t0\t*\t*\t0\t*\t*\t0\t*\t*\t0\t*\t*\t0\t*\t*\t0\t*\t*\t0\t*\t*\t0\t*\t*\t0\t*\t*\t0\t*\t*\t0\t*\t*\t0\t*\t*\t0\t*\t*\t1\ta\t?\t0\t*\t*\t0\t*\t*\n",
      "chr20\t1999859\tN\t1\tc\t?\t0\t*\t*\t0\t*\t*\t0\t*\t*\t1\tc\t?\t0\t*\t*\t0\t*\t*\t1\tc\t?\t0\t*\t*\t0\t*\t*\t0\t*\t*\t0\t*\t*\t0\t*\t*\t0\t*\t*\t0\t*\t*\t0\t*\t*\t0\t*\t*\t0\t*\t*\t0\t*\t*\t0\t*\t*\t0\t*\t*\t1\t^]C\t?\t0\t*\t*\t0\t*\t*\t0\t*\t*\t0\t*\t*\t0\t*\t*\t1\tc\t?\t0\t*\t*\t0\t*\t*\n",
      "chr20\t1999860\tN\t1\ta\t?\t0\t*\t*\t0\t*\t*\t0\t*\t*\t1\ta\t?\t0\t*\t*\t0\t*\t*\t1\ta\t?\t0\t*\t*\t0\t*\t*\t0\t*\t*\t0\t*\t*\t0\t*\t*\t0\t*\t*\t0\t*\t*\t0\t*\t*\t0\t*\t*\t0\t*\t*\t0\t*\t*\t0\t*\t*\t0\t*\t*\t1\tA\t?\t0\t*\t*\t0\t*\t*\t0\t*\t*\t0\t*\t*\t0\t*\t*\t1\ta\t?\t0\t*\t*\t0\t*\t*\n",
      "chr20\t1999861\tN\t1\tc\t?\t0\t*\t*\t0\t*\t*\t0\t*\t*\t1\tc\t?\t0\t*\t*\t0\t*\t*\t1\tc\t?\t0\t*\t*\t1\t^]C\t?\t0\t*\t*\t0\t*\t*\t0\t*\t*\t0\t*\t*\t0\t*\t*\t0\t*\t*\t0\t*\t*\t0\t*\t*\t0\t*\t*\t0\t*\t*\t0\t*\t*\t1\tC\t?\t0\t*\t*\t0\t*\t*\t0\t*\t*\t0\t*\t*\t0\t*\t*\t1\tc\t?\t0\t*\t*\t0\t*\t*\n",
      "samtools mpileup: closing standard output failed: Broken pipe\n",
      "(anders) \n"
     ]
    }
   ],
   "source": [
    "samtools mpileup -b ${output_dir}/CEU_inds_bams.list | head -n 10"
   ]
  },
  {
   "cell_type": "markdown",
   "id": "6cdc2f85",
   "metadata": {
    "kernel": "Calysto Bash"
   },
   "source": [
    "- view the data in mpileup format and identify the columns\n",
    "\n",
    "\n",
    "And you should index the fasta reference"
   ]
  },
  {
   "cell_type": "code",
   "execution_count": 7,
   "id": "9a80f3d8",
   "metadata": {
    "kernel": "Calysto Bash"
   },
   "outputs": [
    {
     "name": "stdout",
     "output_type": "stream",
     "text": [
      "(anders) (anders) \n"
     ]
    }
   ],
   "source": [
    "## do not run. This is done for you\n",
    "#samtools faidx $REF"
   ]
  },
  {
   "cell_type": "markdown",
   "id": "f2255e1e",
   "metadata": {
    "kernel": "Calysto Bash"
   },
   "source": [
    "## output formats\n",
    "Output VCF with both SNP annotation information (see below) and per-sample genotype information. Per-sample genotype information includes the following entries: **`GT:GP:DS:HD`**\n",
    "\n",
    "GT Phased genotypes Phased genotype, where each allele is the rounded per-haplotype posterior probability (HD below)\n",
    "\n",
    "GP Genotype posteriors Posterior probabilities of the three genotypes given the data\n",
    "\n",
    "DS Diploid dosage Posterior expectation of the diploid genotype i.e. the expected number of copies of the alternate allele\n",
    "\n",
    "HD Haploid dosages Per-haplotype posterior probability of an alternate allele\n",
    "\n",
    "Note that in QUILT, genotype posteriors (GP) and dosages (DS) are taken from the main Gibbs sampling, while the phasing results (GT and HD) are taken from an additional special phasing Gibbs sample. As such, phasing results (GT and HD) might not be consistent with genotype information (GP and DS). If consistency is necessary, note that you can create a consistent GP and DS from HD."
   ]
  },
  {
   "cell_type": "code",
   "execution_count": 8,
   "id": "8a6499fb",
   "metadata": {
    "kernel": "Calysto Bash",
    "scrolled": true
   },
   "outputs": [
    {
     "name": "stdout",
     "output_type": "stream",
     "text": [
      "##FORMAT=<ID=HD,Number=2,Type=Float,Description=\"Haploid dosages\">\n",
      "#CHROM\tPOS\tID\tREF\tALT\tQUAL\tFILTER\tINFO\tFORMAT\tNA07000\tNA07048\tNA07056\tNA10851\tNA11829\tNA11832\tNA11881\tNA11892\tNA11930\tNA11931\tNA11992\tNA11994\tNA12043\tNA12044\tNA12046\tNA12156\tNA12272\tNA12340\tNA12348\tNA12718\tNA12749\tNA12813\tNA12827\tNA12828\tNA12829\tNA12842\tNA12872\tNA12878\tNA12889\tNA12890\n",
      "chr20\t2000004\t.\tC\tT\t.\tPASS\tEAF=0.001;INFO_SCORE=1;HWE=1.00e+00;ERC=0.03367;EAC=100.899;PAF=0.00033\tGT:GP:DS:HD\t0|0:0.998,0.002,0.000:0.002:0.001,0.001\t0|0:0.998,0.002,0.000:0.002:0.001,0.001\t0|0:0.998,0.002,0.000:0.002:0.001,0.001\t0|0:0.998,0.002,0.000:0.002:0.001,0.001\t0|0:0.998,0.002,0.000:0.002:0.001,0.001\t0|0:0.998,0.002,0.000:0.002:0.001,0.001\t0|0:0.998,0.002,0.000:0.002:0.001,0.001\t0|0:0.998,0.002,0.000:0.002:0.001,0.001\t0|0:0.998,0.002,0.000:0.002:0.001,0.001\t0|0:0.998,0.002,0.000:0.002:0.001,0.001\t0|0:0.998,0.002,0.000:0.002:0.001,0.001\t0|0:0.998,0.002,0.000:0.002:0.001,0.001\t0|0:0.998,0.002,0.000:0.002:0.001,0.001\t0|0:0.998,0.002,0.000:0.002:0.001,0.001\t0|0:0.998,0.002,0.000:0.002:0.001,0.001\t0|0:0.998,0.002,0.000:0.002:0.001,0.001\t0|0:0.998,0.002,0.000:0.002:0.001,0.001\t0|0:0.998,0.002,0.000:0.002:0.001,0.001\t0|0:0.998,0.002,0.000:0.002:0.001,0.001\t0|0:0.998,0.002,0.000:0.002:0.001,0.001\t0|0:0.998,0.002,0.000:0.002:0.001,0.001\t0|0:0.998,0.002,0.000:0.002:0.001,0.001\t0|0:0.998,0.002,0.000:0.002:0.001,0.001\t0|0:0.998,0.002,0.000:0.002:0.001,0.001\t0|0:0.998,0.002,0.000:0.002:0.001,0.001\t0|0:0.998,0.002,0.000:0.002:0.001,0.001\t0|0:0.998,0.002,0.000:0.002:0.001,0.001\t0|0:0.998,0.002,0.000:0.002:0.001,0.001\t0|0:0.998,0.002,0.000:0.002:0.001,0.001\t0|0:0.998,0.002,0.000:0.002:0.001,0.001\n",
      "chr20\t2000071\t.\tC\tG\t.\tPASS\tEAF=0.001;INFO_SCORE=1;HWE=1.00e+00;ERC=0.03433;EAC=93.897;PAF=0.00037\tGT:GP:DS:HD\t0|0:0.998,0.002,0.000:0.002:0.001,0.001\t0|0:0.998,0.002,0.000:0.002:0.001,0.001\t0|0:0.998,0.002,0.000:0.002:0.001,0.001\t0|0:0.998,0.002,0.000:0.002:0.001,0.001\t0|0:0.998,0.002,0.000:0.002:0.001,0.001\t0|0:0.998,0.002,0.000:0.002:0.001,0.001\t0|0:0.998,0.002,0.000:0.002:0.001,0.001\t0|0:0.998,0.002,0.000:0.002:0.001,0.001\t0|0:0.998,0.002,0.000:0.002:0.001,0.001\t0|0:0.998,0.002,0.000:0.002:0.001,0.001\t0|0:0.998,0.002,0.000:0.002:0.001,0.001\t0|0:0.998,0.002,0.000:0.002:0.001,0.001\t0|0:0.998,0.002,0.000:0.002:0.001,0.001\t0|0:0.998,0.002,0.000:0.002:0.001,0.001\t0|0:0.998,0.002,0.000:0.002:0.001,0.001\t0|0:0.998,0.002,0.000:0.002:0.001,0.001\t0|0:0.998,0.002,0.000:0.002:0.001,0.001\t0|0:0.998,0.002,0.000:0.002:0.001,0.001\t0|0:0.998,0.002,0.000:0.002:0.001,0.001\t0|0:0.998,0.002,0.000:0.002:0.001,0.001\t0|0:0.998,0.002,0.000:0.002:0.001,0.001\t0|0:0.998,0.002,0.000:0.002:0.001,0.001\t0|0:0.998,0.002,0.000:0.002:0.001,0.001\t0|0:0.998,0.002,0.000:0.002:0.001,0.001\t0|0:0.998,0.002,0.000:0.002:0.001,0.001\t0|0:0.998,0.002,0.000:0.002:0.001,0.001\t0|0:0.998,0.002,0.000:0.002:0.001,0.001\t0|0:0.998,0.002,0.000:0.002:0.001,0.001\t0|0:0.998,0.002,0.000:0.002:0.001,0.001\t0|0:0.998,0.002,0.000:0.002:0.001,0.001\n",
      "chr20\t2000112\t.\tT\tC\t.\tPASS\tEAF=0.001;INFO_SCORE=1;HWE=1.00e+00;ERC=0.033;EAC=89.901;PAF=0.00037\tGT:GP:DS:HD\t0|0:0.998,0.002,0.000:0.002:0.001,0.001\t0|0:0.998,0.002,0.000:0.002:0.001,0.001\t0|0:0.998,0.002,0.000:0.002:0.001,0.001\t0|0:0.998,0.002,0.000:0.002:0.001,0.001\t0|0:0.998,0.002,0.000:0.002:0.001,0.001\t0|0:0.998,0.002,0.000:0.002:0.001,0.001\t0|0:0.998,0.002,0.000:0.002:0.001,0.001\t0|0:0.998,0.002,0.000:0.002:0.001,0.001\t0|0:0.998,0.002,0.000:0.002:0.001,0.001\t0|0:0.998,0.002,0.000:0.002:0.001,0.001\t0|0:0.998,0.002,0.000:0.002:0.001,0.001\t0|0:0.998,0.002,0.000:0.002:0.001,0.001\t0|0:0.998,0.002,0.000:0.002:0.001,0.001\t0|0:0.998,0.002,0.000:0.002:0.001,0.001\t0|0:0.998,0.002,0.000:0.002:0.001,0.001\t0|0:0.998,0.002,0.000:0.002:0.001,0.001\t0|0:0.998,0.002,0.000:0.002:0.001,0.001\t0|0:0.998,0.002,0.000:0.002:0.001,0.001\t0|0:0.998,0.002,0.000:0.002:0.001,0.001\t0|0:0.998,0.002,0.000:0.002:0.001,0.001\t0|0:0.998,0.002,0.000:0.002:0.001,0.001\t0|0:0.998,0.002,0.000:0.002:0.001,0.001\t0|0:0.998,0.002,0.000:0.002:0.001,0.001\t0|0:0.998,0.002,0.000:0.002:0.001,0.001\t0|0:0.998,0.002,0.000:0.002:0.001,0.001\t0|0:0.998,0.002,0.000:0.002:0.001,0.001\t0|0:0.998,0.002,0.000:0.002:0.001,0.001\t0|0:0.998,0.002,0.000:0.002:0.001,0.001\t0|0:0.998,0.002,0.000:0.002:0.001,0.001\t0|0:0.998,0.002,0.000:0.002:0.001,0.001\n",
      "\n",
      "gzip: stdout: Broken pipe\n",
      "(anders) \n"
     ]
    }
   ],
   "source": [
    "zcat ${EXAMPLE_VCF} | head -n 15 | tail -n +11"
   ]
  },
  {
   "cell_type": "markdown",
   "id": "70b49d4a",
   "metadata": {
    "kernel": "Calysto Bash"
   },
   "source": [
    "## Genotype calling without Imputation\n",
    "\n",
    "In this exercise you will try to generate the widely used **vcf** formatted files. We will use\n",
    "\n",
    " - angsd\n",
    " - bcftools\n",
    " - vcftools"
   ]
  },
  {
   "cell_type": "markdown",
   "id": "5074bbb8",
   "metadata": {
    "kernel": "Calysto Bash"
   },
   "source": [
    "### samtools/bcftools\n",
    "\n",
    "SAMtools outputs a binary version of vcf files, called bcf files. To get a the vcf equivalent you shou0ld pipe the data to bcftools which is located within the samtools/bcftools subfolder.\n",
    "\n",
    "bcftools can do single sample genotyping/SNP calling however, it calculates the genotype likelihoods a little different than the simple GATK model"
   ]
  },
  {
   "cell_type": "code",
   "execution_count": 9,
   "id": "2ac9fd74",
   "metadata": {
    "kernel": "Calysto Bash"
   },
   "outputs": [
    {
     "name": "stdout",
     "output_type": "stream",
     "text": [
      "(anders) (anders) Note: none of --samples-file, --ploidy or --ploidy-file given, assuming all sites are diploid\n",
      "[mpileup] 30 samples in 30 input files\n",
      "[mpileup] maximum number of reads per input file set to -d 250\n",
      "(anders) (anders) (anders) (anders) (anders) (anders) (anders) (anders) \n"
     ]
    }
   ],
   "source": [
    "## 3 min to run\n",
    "if [ ! -d ${output_dir}/bcftoolsgt_out ]; then mkdir ${output_dir}/bcftoolsgt_out; fi\n",
    "bcftools mpileup -f $REF_GENOME -Ou -b ${output_dir}/CEU_inds_bams.list -r chr20:2000001-5000000 | \\\n",
    "    bcftools call -V indels -a GQ,GP -mv -Ov -o ${output_dir}/bcftoolsgt_out/CEU_inds_bam.vcf\n",
    "\n",
    "bgzip -f ${output_dir}/bcftoolsgt_out/CEU_inds_bam.vcf\n",
    "tabix -f ${output_dir}/bcftoolsgt_out/CEU_inds_bam.vcf.gz\n",
    "\n",
    "## it will take some time to execute bcftools, please copy the results if you cannot run properly\n",
    "## you can delete the leading \"#\" sign to copy the results \n",
    "#cp /home/tch_wyd/myname/outputs/sysu_day2_imputation/bcftoolsgt_out/CEU_inds_bam.vcf* ./bcftoolsgt_out/\n"
   ]
  },
  {
   "cell_type": "markdown",
   "id": "cfe3b749",
   "metadata": {
    "kernel": "Calysto Bash"
   },
   "source": [
    "## Genotype calling without imputation"
   ]
  },
  {
   "cell_type": "markdown",
   "id": "aad52336",
   "metadata": {
    "kernel": "Calysto Bash"
   },
   "source": [
    "### Angsd genotype calling"
   ]
  },
  {
   "cell_type": "markdown",
   "id": "eb2abae6",
   "metadata": {
    "kernel": "Calysto Bash"
   },
   "source": [
    "We now call genotypes using ANGSD, and by simply calling the genotype that has the highest likelihood. We see that genotypes in the above vcf format is identified by the counts of non-reference. The default behaviour of angsd is to estimate the major/minor based on GL. But we can force it to use the reference as major by using -doMajorMinor 4 and supplying the reference (just as in done i GATK and Samtools)."
   ]
  },
  {
   "cell_type": "code",
   "execution_count": 10,
   "id": "4dcdfdee",
   "metadata": {
    "kernel": "Calysto Bash",
    "scrolled": true
   },
   "outputs": [
    {
     "name": "stdout",
     "output_type": "stream",
     "text": [
      "(anders) (anders) (anders) \t-> angsd version: 0.940-dirty (htslib: 1.22.1) build(Dec 15 2024 09:11:59)\n",
      "\t-> angsd -bam /home/tch_myname/sysu_day2_imputation/CEU_inds_bams.list -SNP_pval 0.001 -doMaf 2 -doMajorMinor 4 -r chr20:2000001-5000000 -doGlf 2 -doGeno 2 -doPost 2 -GL 1 -doBcf 1 -out /home/tch_hemyname/sysu_day2_imputation/angsd_out/angsd_genotype -ref /home/tch_wyd/myname/shared/data/GRCh38_full_analysis_set_plus_decoy_hla.fa \n",
      "\t-> Inputtype is BAM/CRAM\n",
      "[multiReader] 30 samples in 30 input files\n",
      "\t-> Reading fasta: /home/tch_wyd/myname/shared/data/GRCh38_full_analysis_set_plus_decoy_hla.fa\n",
      "\t-> SNP-filter using a pvalue: 1.000000e-03 correspond to 10.827566 likelihood units\n",
      "\n",
      "[bcfoutput] \tPlease add the following parameters \n",
      "\t\t '-gl 1 -dopost 1 -domajorminor 1 -domaf 1 -dobcf 1 --ignore-RG 0 -dogeno 1 -docounts 1'\n",
      "\n",
      "\t-> Inputtype is BAM/CRAM\n",
      "\t-> Parsing 30 number of samples \n",
      "\t-> Region lookup 1/1\n",
      "\t-> Printing at chr: chr20 pos:4917102 chunknumber 2200 contains 1505 sites\n",
      "\t-> Done reading data waiting for calculations to finish\n",
      "\t-> Done waiting for threads\n",
      "\t-> Output filenames:\n",
      "\t\t->\"/home/tch_myname/sysu_day2_imputation/angsd_out/angsd_genotype.arg\"\n",
      "\t\t->\"/home/tch_myname/sysu_day2_imputation/angsd_out/angsd_genotype.beagle.gz\"\n",
      "\t\t->\"/home/tch_myname/sysu_day2_imputation/angsd_out/angsd_genotype.mafs.gz\"\n",
      "\t\t->\"/home/tch_myname/sysu_day2_imputation/angsd_out/angsd_genotype.geno.gz\"\n",
      "\t\t->\"/home/tch_myname/sysu_day2_imputation/angsd_out/angsd_genotype.bcf\"\n",
      "\t-> Sat Jul 26 11:57:05 2025\n",
      "\t-> Arguments and parameters for all analysis are located in .arg file\n",
      "\t-> Total number of sites analyzed: 3000280\n",
      "\t-> Number of sites retained after filtering: 11255 \n",
      "\t[ALL done] cpu-time used =  301.86 sec\n",
      "\t[ALL done] walltime used =  303.00 sec\n",
      "(anders) (anders) (anders) (anders) (anders) (anders) (anders) (anders) (anders) \n"
     ]
    }
   ],
   "source": [
    "if [ ! -d ${output_dir}/angsd_out/ ]; then mkdir ${output_dir}/angsd_out/ ; fi\n",
    "\n",
    "### 5 min to run \n",
    "angsd -bam ${output_dir}/CEU_inds_bams.list -SNP_pval 0.001 \\\n",
    " -doMaf 2 -doMajorMinor 4 -r chr20:2000001-5000000 \\\n",
    " -doGlf 2 -doGeno 2 -doPost 2 -GL 1 -doBcf 1 \\\n",
    " -out ${output_dir}/angsd_out/angsd_genotype -ref $REF_GENOME\n",
    "\n",
    "## it will take some time to execute bcftools\n",
    "## if you cannot run properly, please remove the angsd commands, and copy the results\n",
    "## you can delete the leading \"#\" sign to copy the results:\n",
    "#cp /home/tch_wyd/myname/outputs/sysu_day2_imputation/angsd_out/angsd_genotype.bcf ${output_dir}/angsd_out/\n",
    "\n",
    "# Then will need to build an index for the .bcf file\n",
    "bcftools index ${output_dir}/angsd_out/angsd_genotype.bcf\n"
   ]
  },
  {
   "cell_type": "markdown",
   "id": "45015fe0",
   "metadata": {
    "kernel": "Calysto Bash"
   },
   "source": [
    "This commands can be read as: We want to run the analysis based on 'bams.list' and we limit the analysis to chromosome '1'. We are not interested in all sites, but only those sites that are variable with a likelihood ratio test with a p-value of 0.001. Our output files should be prefixed with angsd. We want to estimate the allele frequency, and that requires that we also find the major and minor allele. And we base all analysis on the Samtools model of genotype likelihoods. \n",
    "For all information, please view <https://www.popgen.dk/angsd/index.php/ANGSD>\n",
    "\n",
    "Here we use the allele frequency in order to call SNPs (as in the slides) and no reference information\n"
   ]
  },
  {
   "cell_type": "markdown",
   "id": "7cadf207",
   "metadata": {
    "kernel": "Calysto Bash"
   },
   "source": [
    "### Comparing the results (SNP-discovery)\n",
    " - This requires R and the vcfppR and UpSetR package.\n",
    "Let us examine the difference between the two different approaches for SNP-calling, and their difference from the truth."
   ]
  },
  {
   "cell_type": "code",
   "execution_count": 11,
   "id": "e02018b4",
   "metadata": {
    "kernel": "R (anders)"
   },
   "outputs": [],
   "source": [
    "library(vcfppR)\n",
    "library(UpSetR)\n",
    "\n",
    "find_match <- function(vcf_in, vcf_truth, name=\"tool\", data_type=\"gt\"){\n",
    "    if(! all(vcf_truth$samples %in% vcf_in$samples)){stop(\"samples doesn't match\")}\n",
    "    true_pos_match <- match(vcf_truth$pos, vcf_in$pos)\n",
    "    vcf_pos_match <- match(vcf_in$pos, vcf_truth$pos)\n",
    "    vcf_in[[data_type]][true_pos_match,  match(vcf_truth$samples, vcf_in$samples)]\n",
    "}\n",
    "\n",
    "gt_truth_file <- paste0(\"/home/student/myname/inputs/imputation/vcfs\",\"/CEU_true_set.chr20.vcf.gz\")\n",
    "gt_bcftool_file <- paste0(work_d, \"/bcftoolsgt_out/CEU_inds_bam.vcf.gz\")\n",
    "gt_angsd_file <- paste0(work_d, \"/angsd_out/angsd_genotype.bcf\")\n",
    "\n",
    "res_truth <- vcftable(gt_truth_file, \"chr20:2000001-5000000\", vartype = \"snps\")\n",
    "res_bcftools <- vcftable(gt_bcftool_file, \"chr20:2000001-5000000\", vartype = \"snps\")\n",
    "res_angsd <- vcftable(gt_angsd_file, \"chr20:2000001-5000000\", vartype = \"snps\")\n"
   ]
  },
  {
   "cell_type": "markdown",
   "id": "955d0348",
   "metadata": {
    "kernel": "R"
   },
   "source": [
    "We will use Upset plot to see the performance of angsd and bcftools genotype calling."
   ]
  },
  {
   "cell_type": "code",
   "execution_count": 12,
   "id": "d79d43e5",
   "metadata": {
    "kernel": "R (anders)"
   },
   "outputs": [],
   "source": [
    "upsetdf <- fromList(list(\n",
    "    Truth=res_truth$pos,\n",
    "    angsd=res_angsd$pos,\n",
    "    bcftools=res_bcftools$pos\n",
    "))"
   ]
  },
  {
   "cell_type": "code",
   "execution_count": 13,
   "id": "43894ff4",
   "metadata": {
    "kernel": "R (anders)"
   },
   "outputs": [
    {
     "data": {
      "image/png": "[encoded data removed]",
      "text/plain": [
       "plot without title"
      ]
     },
     "metadata": {
      "image/png": {
       "height": 420,
       "width": 420
      }
     },
     "output_type": "display_data"
    }
   ],
   "source": [
    "upset(\n",
    "  upsetdf,\n",
    "  order.by         = \"freq\",\n",
    "  sets.x.label     = \"SNP count\",\n",
    "  mainbar.y.label  = \"shared SNP\",\n",
    "  text.scale = c(2.2, 1.8, 2.2, 1.8, 2, 1.8)\n",
    ")"
   ]
  },
  {
   "cell_type": "markdown",
   "id": "62afeec7-4a48-4fca-8605-4e1415803cc9",
   "metadata": {
    "kernel": "R (anders)"
   },
   "source": [
    "How many true SNPs were called of angsd and bcftools ?\n",
    "\n",
    "How many untrue SNPs were called ?"
   ]
  },
  {
   "cell_type": "markdown",
   "id": "5a95bcdf",
   "metadata": {
    "kernel": "R"
   },
   "source": [
    "See the last two columns, angsd has a bit less shared SNP with the truth. The reason is, angsd is mainly focusing and excellent on genotype likelihood estimation, but not genotype calling."
   ]
  },
  {
   "cell_type": "markdown",
   "id": "aa7bcd99",
   "metadata": {
    "kernel": "R"
   },
   "source": [
    "# Genotype calling with imputation"
   ]
  },
  {
   "cell_type": "markdown",
   "id": "a2be2c2b",
   "metadata": {
    "kernel": "R"
   },
   "source": [
    "we will use several different strategies to impute the genotype."
   ]
  },
  {
   "cell_type": "markdown",
   "id": "0bbe2fd7",
   "metadata": {
    "kernel": "Calysto Bash"
   },
   "source": [
    "## Genome data, genotype calling with Beagle 4 imputation"
   ]
  },
  {
   "cell_type": "markdown",
   "id": "b980fc0d",
   "metadata": {
    "kernel": "R"
   },
   "source": [
    "We should first preparing the information needed for imputation\n",
    "\n",
    "As we already have genotype (likelihood) data called by angsd, we will just use those output.\n",
    "\n",
    "Before that, we need to convert the data to vcf format, and build index, which is required for running Beagle 4 in genotype (likelihood) mode."
   ]
  },
  {
   "cell_type": "code",
   "execution_count": 14,
   "id": "215e2dd9",
   "metadata": {
    "kernel": "Calysto Bash"
   },
   "outputs": [
    {
     "name": "stdout",
     "output_type": "stream",
     "text": [
      "(anders) (anders) (anders) (anders) (anders) \n"
     ]
    }
   ],
   "source": [
    "# prepare data for beagle 4, using angsd bcf output\n",
    "if [ ! -d ${output_dir}/beagle4_out ]; then mkdir ${output_dir}/beagle4_out; fi\n",
    "bcftools view ${output_dir}/angsd_out/angsd_genotype.bcf -Ov -o ${output_dir}/beagle4_out/angsd_for_beagle.vcf\n",
    "bgzip -f ${output_dir}/beagle4_out/angsd_for_beagle.vcf\n",
    "tabix -f ${output_dir}/beagle4_out/angsd_for_beagle.vcf.gz\n",
    " "
   ]
  },
  {
   "cell_type": "markdown",
   "id": "791b0904",
   "metadata": {
    "kernel": "Calysto Bash"
   },
   "source": [
    "Run the imputation based on the angsd genotype.\n",
    "\"gl\" means genotype likelihood"
   ]
  },
  {
   "cell_type": "code",
   "execution_count": 15,
   "id": "57c66534",
   "metadata": {
    "kernel": "Calysto Bash",
    "scrolled": true
   },
   "outputs": [
    {
     "name": "stdout",
     "output_type": "stream",
     "text": [
      "(anders) beagle.27Jan18.7e1.jar (version 4.1)\n",
      "Copyright (C) 2014-2015 Brian L. Browning\n",
      "Enter \"java -jar beagle.27Jan18.7e1.jar\" for a summary of command line arguments.\n",
      "Start time: 11:57 AM CST on 26 Jul 2025\n",
      "\n",
      "Command line: java -Xmx8192m -jar beagle.jar\n",
      "  gl=/home/tch_myname/sysu_day2_imputation/beagle4_out/angsd_for_beagle.vcf.gz\n",
      "  out=/home/tch_myname/sysu_day2_imputation/beagle4_out/beagle4_imputation\n",
      "  niterations=10\n",
      "  nthreads=32\n",
      "\n",
      "No genetic map is specified: using 1 cM = 1 Mb\n",
      "\n",
      "reference samples:       0\n",
      "target samples:         30\n",
      "\n",
      "Window 1 [ chr20:2000377-4999859 ]\n",
      "target markers:      11255\n",
      "\n",
      "Starting burn-in iterations\n",
      "\n",
      "Window=1 Iteration=1\n",
      "Time for building model:         0 seconds\n",
      "Time for sampling (singles):     0 seconds\n",
      "DAG statistics\n",
      "mean edges/level: 4      max edges/level: 10\n",
      "mean edges/node:  1.946  mean count/edge: 15\n",
      "\n",
      "Window=1 Iteration=2\n",
      "Time for building model:         0 seconds\n",
      "Time for sampling (singles):     0 seconds\n",
      "DAG statistics\n",
      "mean edges/level: 5      max edges/level: 11\n",
      "mean edges/node:  1.818  mean count/edge: 12\n",
      "\n",
      "Window=1 Iteration=3\n",
      "Time for building model:         0 seconds\n",
      "Time for sampling (singles):     0 seconds\n",
      "DAG statistics\n",
      "mean edges/level: 6      max edges/level: 13\n",
      "mean edges/node:  1.666  mean count/edge: 10\n",
      "\n",
      "Window=1 Iteration=4\n",
      "Time for building model:         0 seconds\n",
      "Time for sampling (singles):     0 seconds\n",
      "DAG statistics\n",
      "mean edges/level: 6      max edges/level: 13\n",
      "mean edges/node:  1.531  mean count/edge: 10\n",
      "\n",
      "Window=1 Iteration=5\n",
      "Time for building model:         0 seconds\n",
      "Time for sampling (singles):     0 seconds\n",
      "DAG statistics\n",
      "mean edges/level: 6      max edges/level: 14\n",
      "mean edges/node:  1.421  mean count/edge: 10\n",
      "\n",
      "Window=1 Iteration=6\n",
      "Time for building model:         0 seconds\n",
      "Time for sampling (singles):     0 seconds\n",
      "DAG statistics\n",
      "mean edges/level: 6      max edges/level: 14\n",
      "mean edges/node:  1.351  mean count/edge: 10\n",
      "\n",
      "Window=1 Iteration=7\n",
      "Time for building model:         0 seconds\n",
      "Time for sampling (singles):     0 seconds\n",
      "DAG statistics\n",
      "mean edges/level: 6      max edges/level: 13\n",
      "mean edges/node:  1.302  mean count/edge: 10\n",
      "\n",
      "Window=1 Iteration=8\n",
      "Time for building model:         0 seconds\n",
      "Time for sampling (singles):     0 seconds\n",
      "DAG statistics\n",
      "mean edges/level: 6      max edges/level: 15\n",
      "mean edges/node:  1.272  mean count/edge: 10\n",
      "\n",
      "Window=1 Iteration=9\n",
      "Time for building model:         0 seconds\n",
      "Time for sampling (singles):     0 seconds\n",
      "DAG statistics\n",
      "mean edges/level: 6      max edges/level: 16\n",
      "mean edges/node:  1.245  mean count/edge: 10\n",
      "\n",
      "Window=1 Iteration=10\n",
      "Time for building model:         0 seconds\n",
      "Time for sampling (singles):     0 seconds\n",
      "DAG statistics\n",
      "mean edges/level: 6      max edges/level: 15\n",
      "mean edges/node:  1.234  mean count/edge: 10\n",
      "\n",
      "Starting phasing iterations\n",
      "\n",
      "Window=1 Iteration=11\n",
      "Time for building model:         0 seconds\n",
      "Time for sampling (singles):     1 second\n",
      "DAG statistics\n",
      "mean edges/level: 9      max edges/level: 19\n",
      "mean edges/node:  1.130  mean count/edge: 7\n",
      "\n",
      "Window=1 Iteration=12\n",
      "Time for building model:         0 seconds\n",
      "Time for sampling (singles):     3 seconds\n",
      "DAG statistics\n",
      "mean edges/level: 9      max edges/level: 19\n",
      "mean edges/node:  1.113  mean count/edge: 7\n",
      "\n",
      "Window=1 Iteration=13\n",
      "Time for building model:         0 seconds\n",
      "Time for sampling (singles):     0 seconds\n",
      "DAG statistics\n",
      "mean edges/level: 10     max edges/level: 18\n",
      "mean edges/node:  1.104  mean count/edge: 6\n",
      "\n",
      "Window=1 Iteration=14\n",
      "Time for building model:         0 seconds\n",
      "Time for sampling (singles):     0 seconds\n",
      "DAG statistics\n",
      "mean edges/level: 10     max edges/level: 19\n",
      "mean edges/node:  1.095  mean count/edge: 6\n",
      "\n",
      "Window=1 Iteration=15\n",
      "Time for building model:         0 seconds\n",
      "Time for sampling (singles):     0 seconds\n",
      "DAG statistics\n",
      "mean edges/level: 10     max edges/level: 19\n",
      "mean edges/node:  1.090  mean count/edge: 6\n",
      "\n",
      "Window=1 Iteration=16\n",
      "Time for building model:         0 seconds\n",
      "Time for sampling (singles):     0 seconds\n",
      "DAG statistics\n",
      "mean edges/level: 11     max edges/level: 19\n",
      "mean edges/node:  1.085  mean count/edge: 5\n",
      "\n",
      "Window=1 Iteration=17\n",
      "Time for building model:         0 seconds\n",
      "Time for sampling (singles):     0 seconds\n",
      "DAG statistics\n",
      "mean edges/level: 11     max edges/level: 21\n",
      "mean edges/node:  1.083  mean count/edge: 5\n",
      "\n",
      "Window=1 Iteration=18\n",
      "Time for building model:         0 seconds\n",
      "Time for sampling (singles):     0 seconds\n",
      "DAG statistics\n",
      "mean edges/level: 11     max edges/level: 20\n",
      "mean edges/node:  1.081  mean count/edge: 5\n",
      "\n",
      "Window=1 Iteration=19\n",
      "Time for building model:         0 seconds\n",
      "Time for sampling (singles):     0 seconds\n",
      "DAG statistics\n",
      "mean edges/level: 11     max edges/level: 19\n",
      "mean edges/node:  1.079  mean count/edge: 5\n",
      "\n",
      "Window=1 Iteration=20\n",
      "Time for building model:         0 seconds\n",
      "Time for sampling (singles):     0 seconds\n",
      "DAG statistics\n",
      "mean edges/level: 11     max edges/level: 19\n",
      "mean edges/node:  1.076  mean count/edge: 5\n",
      "\n",
      "Number of markers:               11255\n",
      "Total time for building model: 5 seconds\n",
      "Total time for sampling:       7 seconds\n",
      "Total run time:                13 seconds\n",
      "\n",
      "End time: 11:57 AM CST on 26 Jul 2025\n",
      "beagle.27Jan18.7e1.jar (version 4.1) finished\n",
      "(anders) (anders) \n"
     ]
    }
   ],
   "source": [
    "# 10 secs to run\n",
    "java -Xmx8g -jar ${BEAGLE4} \\\n",
    "    gl=${output_dir}/beagle4_out/angsd_for_beagle.vcf.gz \\\n",
    "    out=${output_dir}/beagle4_out/beagle4_imputation \\\n",
    "    niterations=10 \\\n",
    "    nthreads=32\n",
    "bcftools index ${output_dir}/beagle4_out/beagle4_imputation.vcf.gz\n"
   ]
  },
  {
   "cell_type": "markdown",
   "id": "878b1210",
   "metadata": {
    "kernel": "Calysto Bash"
   },
   "source": [
    "## Genome data, QUILT2 imputation + genotype calling"
   ]
  },
  {
   "cell_type": "markdown",
   "id": "6d4251fe",
   "metadata": {
    "kernel": "Calysto Bash"
   },
   "source": [
    "We will then play QUILT2. it will start from the bam file, do genotype calling and imputation.\n",
    "\n",
    "Because it takes 20min to run all 30 samples, we will take 1 sample as an example, and use the prepared outcome of 30 samples for further comparison."
   ]
  },
  {
   "cell_type": "code",
   "execution_count": 16,
   "id": "e90f0633",
   "metadata": {
    "kernel": "Calysto Bash",
    "scrolled": true
   },
   "outputs": [
    {
     "name": "stdout",
     "output_type": "stream",
     "text": [
      "(anders) (anders) (anders) (anders) 警告信息:\n",
      "1: 程序包‘QUILT’是用R版本4.4.3 来建造的 \n",
      "2: 程序包‘STITCH’是用R版本4.4.3 来建造的 \n",
      "3: 程序包‘mspbwt’是用R版本4.4.3 来建造的 \n",
      "4: 程序包‘data.table’是用R版本4.4.3 来建造的 \n",
      "[2025-07-26 11:57:24] Running QUILT(outputdir = /home/tch_myname/sysu_day2_imputation/quilt2_1_ind, chr = chr20, method = diploid, regionStart = 2000001, regionEnd = 5000000, buffer = 500000, fflist = , bamlist = /home/tch_hemyname/sysu_day2_imputation/CEU_1_ind.list, cramlist = , sampleNames_file = , reference = , nCores = 1, nGibbsSamples = 7, n_seek_its = 3, n_burn_in_seek_its = NA, Ksubset = 600, Knew = 600, K_top_matches = 5, output_gt_phased_genotypes = TRUE, heuristic_match_thin = 0.1, output_filename = NULL, RData_objects_to_save = NULL, output_RData_filename = NULL, prepared_reference_filename = , save_prepared_reference = TRUE, tempdir = NA, bqFilter = 17, useSoftClippedBases = FALSE, panel_size = NA, posfile = , genfile = , phasefile = , maxDifferenceBetweenReads = 1e+10, make_plots = FALSE, make_plots_block_gibbs = FALSE, verbose = TRUE, shuffle_bin_radius = 5000, iSizeUpperLimit = 1e+06, output_read_label_prob = FALSE, record_read_label_usage = FALSE, record_interim_dosages = FALSE, use_bx_tag = TRUE, bxTagUpperLimit = 50000, addOptimalHapsToVCF = FALSE, estimate_bq_using_truth_read_labels = FALSE, override_default_params_for_small_ref_panel = TRUE, gamma_physically_closest_to = NA, seed = NA, hla_run = FALSE, downsampleToCov = 30, minGLValue = 1e-10, minimum_number_of_sample_reads = 2, nGen = 100, reference_vcf_file = /home/tch_wyd/myname/inputs/imputation/vcfs/CEU_ref_set.chr20.vcf.gz, reference_haplotype_file = , reference_legend_file = , reference_sample_file = , reference_populations = NA, reference_phred = 30, reference_exclude_samplelist_file = , region_exclude_file = , genetic_map_file = /home/tch_wyd/myname/shared/data/hg38/CEU-chr20-final.b38.txt.gz, nMaxDH = NA, make_fake_vcf_with_sites_list = FALSE, output_sites_filename = NA, expRate = 1, maxRate = 100, minRate = 0.1, print_extra_timing_information = FALSE, small_ref_panel_block_gibbs_iterations = c(3, 6, 9), small_ref_panel_gibbs_iterations = 20, plot_per_sample_likelihoods = FALSE, use_small_eHapsCurrent_tc = FALSE, mspbwtL = 3, mspbwtM = 1, use_mspbwt = TRUE, mspbwt_nindices = 4, use_splitreadgl = FALSE, override_use_eMatDH_special_symbols = NA, use_hapMatcherR = TRUE, shard_check_every_pair = TRUE, use_eigen = TRUE, impute_rare_common = TRUE, rare_af_threshold = 0.001, make_heuristic_plot = FALSE, heuristic_approach = A, use_list_of_columns_of_A = TRUE, calculate_gamma_on_the_fly = TRUE)\n",
      "[2025-07-26 11:57:24] Auto-set n_burn_in_seek_its to 2 i.e. only sample one dosage per Gibbs sample\n",
      "[2025-07-26 11:57:24] Processing reference information\n",
      "[2025-07-26 11:57:24] Running QUILT_prepare_reference(outputdir = /home/tch_myname/sysu_day2_imputation/quilt2_1_ind, chr = chr20, nGen = 100, regionStart = 2000001, regionEnd = 5000000, buffer = 500000, output_file = /home/tch_hemyname/sysu_day2_imputation/quilt2_1_ind/RData/QUILT_prepared_reference.chr20.2000001.5000000.RData, reference_vcf_file = /home/tch_wyd/myname/inputs/imputation/vcfs/CEU_ref_set.chr20.vcf.gz, reference_haplotype_file = , reference_legend_file = , reference_sample_file = , reference_populations = NA, reference_phred = 30, reference_exclude_samplelist_file = , region_exclude_file = , genetic_map_file = /home/tch_wyd/myname/shared/data/hg38/CEU-chr20-final.b38.txt.gz, nMaxDH = NA, tempdir = /tmp/Rtmp6SszAR/file2ae485346423b8, make_fake_vcf_with_sites_list = FALSE, output_sites_filename = NA, expRate = 1, maxRate = 100, minRate = 0.1, use_mspbwt = TRUE, mspbwt_nindices = 4, override_use_eMatDH_special_symbols = NA, use_hapMatcherR = TRUE, impute_rare_common = TRUE, rare_af_threshold = 0.001, use_list_of_columns_of_A = TRUE)\n",
      "[2025-07-26 11:57:24] Program start\n",
      "[2025-07-26 11:57:24] Begin converting reference haplotypes\n",
      "[2025-07-26 11:57:24] Using reference information from:/home/tch_wyd/myname/inputs/imputation/vcfs/CEU_ref_set.chr20.vcf.gz\n",
      "[2025-07-26 11:57:24] Using strategy of first imputing using common SNPs and then using all SNPs, with allele frequency threshold:0.001\n",
      "[2025-07-26 11:57:24] Begin get sites and haplotypes from reference vcf\n",
      "[2025-07-26 11:57:55] End get sites and haplotypes from reference vcf\n",
      "[2025-07-26 11:57:55] There were 12179 skipped variants when processing the reference VCF (not bi-allelic, not a SNP, not unique position\n",
      "[2025-07-26 11:57:55] There are 0 common and 0 rare (0 total) variants in the left buffer region 1500001 <= position < 2000001\n",
      "[2025-07-26 11:57:55] There are 14191 common and 53418 rare (67609 total) variants in the central region 2000001 <= position <= 5000000\n",
      "[2025-07-26 11:57:55] There are 0 common and 0 rare (0 total) variants in the right buffer region 5000000 < position <= 5500000\n",
      "[2025-07-26 11:57:55] Getting and validating genetic map\n",
      "[2025-07-26 11:57:58] Match genetic map to desired imputation positions\n",
      "[2025-07-26 11:57:58] Done with getting genetic map\n",
      "[2025-07-26 11:58:01] There are 59 regions out of 443 below minimum recombination rate, setting them to minimum rate\n",
      "[2025-07-26 11:58:01] There are 0 regions out of 443 above maximum recombination rate, setting them to maximum rate\n",
      "[2025-07-26 11:58:02] Using nMaxDH = 43\n",
      "[2025-07-26 11:58:02] Build mspbwt indices\n",
      "[2025-07-26 11:58:02] Done building mspbwt indices\n",
      "[2025-07-26 11:58:02] Save converted reference haplotypes\n",
      "[2025-07-26 11:58:02] Done converting reference haplotypes\n",
      "[2025-07-26 11:58:02] Done processing reference information\n",
      "[2025-07-26 11:58:02] Overriding default parameters for small reference panel\n",
      "[2025-07-26 11:58:02] Observing number of reference haplotypes K=138\n",
      "[2025-07-26 11:58:02] Reset n_seek_its from 3 to 1\n",
      "[2025-07-26 11:58:02] Reset n_burn_in_seek_its from 2 to 0\n",
      "[2025-07-26 11:58:02] Set Ksubset to 138 (no longer necessary)\n",
      "[2025-07-26 11:58:02] Set Knew to 138 (no longer necessary)\n",
      "[2025-07-26 11:58:02] Get BAM sample names\n",
      "[2025-07-26 11:58:02] Done getting BAM sample names\n",
      "[2025-07-26 11:58:02] There are 14191 common SNPs and 67609 SNPs overall in this region\n",
      "[2025-07-26 11:58:02] There are 329 regions out of 2112 below minimum recombination rate, setting them to minimum rate\n",
      "[2025-07-26 11:58:02] There are 0 regions out of 2112 above maximum recombination rate, setting them to maximum rate\n",
      "[2025-07-26 11:58:02] Imputing sample: 1\n",
      "[2025-07-26 11:58:03] The average depth of this sample is:3.77553712488928\n",
      "[2025-07-26 11:58:03] There are 27568 reads under consideration\n",
      "[2025-07-26 11:58:03] i_gibbs=1, i_it = 1 small gibbs\n",
      "[2025-07-26 11:58:04] i_gibbs=1, i_it = 1 full\n",
      "[2025-07-26 11:58:04] i_gibbs=1, i_it = 1 small gibbs (all SNPs)\n",
      "[2025-07-26 11:58:06] i_gibbs=2, i_it = 1 small gibbs\n",
      "[2025-07-26 11:58:07] i_gibbs=2, i_it = 1 full\n",
      "[2025-07-26 11:58:07] i_gibbs=2, i_it = 1 small gibbs (all SNPs)\n",
      "[2025-07-26 11:58:08] i_gibbs=3, i_it = 1 small gibbs\n",
      "[2025-07-26 11:58:09] i_gibbs=3, i_it = 1 full\n",
      "[2025-07-26 11:58:09] i_gibbs=3, i_it = 1 small gibbs (all SNPs)\n",
      "[2025-07-26 11:58:11] i_gibbs=4, i_it = 1 small gibbs\n",
      "[2025-07-26 11:58:12] i_gibbs=4, i_it = 1 full\n",
      "[2025-07-26 11:58:12] i_gibbs=4, i_it = 1 small gibbs (all SNPs)\n",
      "[2025-07-26 11:58:13] i_gibbs=5, i_it = 1 small gibbs\n",
      "[2025-07-26 11:58:14] i_gibbs=5, i_it = 1 full\n",
      "[2025-07-26 11:58:14] i_gibbs=5, i_it = 1 small gibbs (all SNPs)\n",
      "[2025-07-26 11:58:15] i_gibbs=6, i_it = 1 small gibbs\n",
      "[2025-07-26 11:58:16] i_gibbs=6, i_it = 1 full\n",
      "[2025-07-26 11:58:16] i_gibbs=6, i_it = 1 small gibbs (all SNPs)\n",
      "[2025-07-26 11:58:18] i_gibbs=7, i_it = 1 small gibbs\n",
      "[2025-07-26 11:58:19] i_gibbs=7, i_it = 1 full\n",
      "[2025-07-26 11:58:19] i_gibbs=7, i_it = 1 small gibbs (all SNPs)\n",
      "[2025-07-26 11:58:20] There are 32 out of 108 regions that have been flipped by consensus\n",
      "[2025-07-26 11:58:20] Phasing it\n",
      "[2025-07-26 11:58:20] i_gibbs=8, i_it = 1 small gibbs\n",
      "[2025-07-26 11:58:21] i_gibbs=8, i_it = 1 full\n",
      "[2025-07-26 11:58:21] i_gibbs=8, i_it = 1 small gibbs (all SNPs)\n",
      "[2025-07-26 11:58:23] Begin making and writing output file\n",
      "[2025-07-26 11:58:24] bgzip output file\n",
      "[2025-07-26 11:58:24] Done making and writing output file\n",
      "[2025-07-26 11:58:24] Done QUILT\n",
      "NULL\n",
      "(anders) \n"
     ]
    }
   ],
   "source": [
    "# 2 min to run\n",
    "quilt_out=${output_dir}/quilt2_1_ind\n",
    "if [ -d ${quilt_out}/ ]; then rm -rf ${quilt_out}/; fi\n",
    "head -n 1 ${output_dir}/CEU_inds_bams.list > ${output_dir}/CEU_1_ind.list\n",
    "$QUILT2 \\\n",
    "    --outputdir=${quilt_out} \\\n",
    "    --chr=chr20 \\\n",
    "    --regionStart=2000001 \\\n",
    "    --regionEnd=5000000 \\\n",
    "    --buffer=500000 \\\n",
    "    --nGen=100 \\\n",
    "    --bamlist=${output_dir}/CEU_1_ind.list \\\n",
    "    --genetic_map_file=${QUILT2_MAP} \\\n",
    "    --reference_vcf_file=${REF_VCF} \\\n",
    "    --save_prepared_reference=TRUE\n"
   ]
  },
  {
   "cell_type": "code",
   "execution_count": 17,
   "id": "98c5dc05",
   "metadata": {
    "kernel": "Calysto Bash"
   },
   "outputs": [
    {
     "name": "stdout",
     "output_type": "stream",
     "text": [
      "(anders) (anders) (anders) (anders) (anders) (anders) (anders) (anders) (anders) (anders) (anders) (anders) (anders) (anders) (anders) (anders) (anders) \n"
     ]
    }
   ],
   "source": [
    "\n",
    "# it takes 20 min to run for all individuals, we will just copy the prepared results\n",
    "#quilt_out=${output_dir}/quilt2_output\n",
    "#if [ -d quiltout];thenrm−rfquilt_out; fi\n",
    "#$QUILT2 \\\n",
    "#    --outputdir=${quilt_out} \\\n",
    "#    --chr=chr20 \\\n",
    "#    --regionStart=2000001 \\\n",
    "#    --regionEnd=5000000 \\\n",
    "#    --buffer=500000 \\\n",
    "#    --nGen=100 \\\n",
    "#    --bamlist=${output_dir}/CEU_inds_bams.list \\\n",
    "#    --genetic_map_file=${QUILT2_MAP} \\\n",
    "#    --reference_vcf_file=${REF_VCF} \\\n",
    "#    --save_prepared_reference=TRUE\n",
    "\n",
    "cp ${QUILT2_EXAMPLE} ${output_dir}/quilt2_1_ind/quilt2_all_inds.vcf.gz\n",
    "tabix ${output_dir}/quilt2_1_ind/quilt2_all_inds.vcf.gz\n"
   ]
  },
  {
   "cell_type": "markdown",
   "id": "3c8cebb1",
   "metadata": {
    "kernel": "Calysto Bash"
   },
   "source": [
    "## SNP-chip data Beagle 5.5 imputation"
   ]
  },
  {
   "cell_type": "markdown",
   "id": "1ee8b55a",
   "metadata": {
    "kernel": "Calysto Bash"
   },
   "source": [
    "Beagle 5.5 supports large reference panel. which could help improve the accuracy."
   ]
  },
  {
   "cell_type": "code",
   "execution_count": 18,
   "id": "88358382",
   "metadata": {
    "kernel": "Calysto Bash",
    "scrolled": true
   },
   "outputs": [
    {
     "name": "stdout",
     "output_type": "stream",
     "text": [
      "(anders) (anders) (anders) beagle.27Feb25.75f.jar (version 5.5)\n",
      "Copyright (C) 2014-2024 Brian L. Browning\n",
      "Enter \"java -jar beagle.27Feb25.75f.jar\" to list command line argument\n",
      "Start time: 11:58 AM CST on 26 Jul 2025\n",
      "\n",
      "Command line: java -Xmx8192m -jar beagle.27Feb25.75f.jar\n",
      "  gt=/home/tch_wyd/myname/inputs/imputation/vcfs/CEU_fake_chip.chr20.vcf.gz\n",
      "  ref=/home/tch_wyd/myname/inputs/imputation/vcfs/CEU_ref_set.chr20.vcf.gz\n",
      "  map=/home/tch_wyd/myname/shared/data/plink.GRCh38.map/plink.chr20.GRCh38.rename.map\n",
      "  nthreads=16\n",
      "  impute=true\n",
      "  gp=true\n",
      "  out=/home/tch_myname/sysu_day2_imputation/beagle5_out/beagle5_imputed\n",
      "\n",
      "Reference samples:                   69\n",
      "Study     samples:                   30\n",
      "\n",
      "Window 1 [chr20:2000004-4999999]\n",
      "Reference markers:               79,788\n",
      "Study     markers:                1,144\n",
      "\n",
      "Imputation time:               1 second\n",
      "\n",
      "Cumulative Statistics:\n",
      "\n",
      "Reference markers:               79,788\n",
      "Study     markers:                1,144\n",
      "\n",
      "Imputation time:               1 second\n",
      "Total time:                    2 seconds\n",
      "\n",
      "End time: 11:58 AM CST on 26 Jul 2025\n",
      "beagle.27Feb25.75f.jar finished\n",
      "(anders) (anders) (anders) \n"
     ]
    }
   ],
   "source": [
    "# 3 secs to run\n",
    "if [ ! -d ${output_dir}/beagle5_out ]; then mkdir ${output_dir}/beagle5_out ; fi\n",
    "\n",
    "java -Xmx8g -jar $BEAGLE5 \\\n",
    "    gt=${FAKE_SNPCHIP} \\\n",
    "    ref=${REF_VCF} \\\n",
    "    map=${BEAGLE5_MAP} \\\n",
    "    nthreads=16 \\\n",
    "    impute=true \\\n",
    "    gp=true \\\n",
    "    out=${output_dir}/beagle5_out/beagle5_imputed\n",
    "\n",
    "bcftools index ${output_dir}/beagle5_out/beagle5_imputed.vcf.gz\n"
   ]
  },
  {
   "cell_type": "markdown",
   "id": "3ad393bb",
   "metadata": {
    "kernel": "Calysto Bash"
   },
   "source": [
    "# Compare results from tools"
   ]
  },
  {
   "cell_type": "markdown",
   "id": "0d0f501b",
   "metadata": {
    "kernel": "Calysto Bash"
   },
   "source": [
    "Lets first copy the true VCF results"
   ]
  },
  {
   "cell_type": "code",
   "execution_count": 19,
   "id": "54ba3626-a302-43db-90f1-d4a618192a5c",
   "metadata": {
    "kernel": "Calysto Bash"
   },
   "outputs": [
    {
     "name": "stdout",
     "output_type": "stream",
     "text": [
      "(anders) (anders) \n"
     ]
    }
   ],
   "source": [
    "cp -sf ${TRUE_VCF} ${output_dir}/\n",
    "tabix -f ${output_dir}/CEU_true_set.chr20.vcf.gz"
   ]
  },
  {
   "cell_type": "code",
   "execution_count": 20,
   "id": "07976bcf",
   "metadata": {
    "kernel": "R (anders)"
   },
   "outputs": [],
   "source": [
    "# load the function\n",
    "library(vcfppR)\n",
    "\n",
    "estimate_gt_tools <- function(gt_mat_list = list(), gt_true_mat=matrix(), keep=c()){\n",
    "    if(!all(lapply(gt_mat_list, nrow) == nrow(gt_true_mat))){stop(\"SNP count doesn't match\")}\n",
    "    if(!all(lapply(gt_mat_list, ncol) == ncol(gt_true_mat))){stop(\"Sample count doesn't match\")}\n",
    "    if(length(keep)==0){\n",
    "        keep <- rep(TRUE, nrow(gt_true_mat))\n",
    "    }\n",
    "    res <- \n",
    "    sapply(gt_mat_list,function(x){\n",
    "        x[is.na(x)] <- -1;\n",
    "      mean(res_truth_mat[keep, ]==x[keep, ],na.rm=T)})\n",
    "    \n",
    "    resMis <- sapply(gt_mat_list,function(x) \n",
    "      mean(is.na(x[keep, ]),na.rm=T))\n",
    "    resNA <- \n",
    "    sapply(gt_mat_list,function(x) \n",
    "      mean(res_truth_mat[keep, ]==x[keep, ],na.rm=T))\n",
    "    \n",
    "    cat(\"Missing genotype rate:\\n\")\n",
    "    print(resMis)\n",
    "    \n",
    "    cat(\"\\nDiscordance rate assuming missing is discordant:\\n\")\n",
    "    print(res)\n",
    "    \n",
    "    cat(\"\\nDiscordance rate when ignoring missing genotypes:\\n\")\n",
    "    print(resNA)\n",
    "}\n",
    "           \n",
    "gp_to_gq <- function(gp_row) {\n",
    "  if (any(is.na(gp_row))) return(0)  # NA to 0\n",
    "  p_max <- max(gp_row)\n",
    "  if (p_max >= 0.999999) return(99)  # cap GQ at 99\n",
    "  gq <- -10 * log10(1 - p_max)\n",
    "  return(round(gq, 2))\n",
    "}"
   ]
  },
  {
   "cell_type": "code",
   "execution_count": 21,
   "id": "1b240c22",
   "metadata": {
    "kernel": "R (anders)"
   },
   "outputs": [],
   "source": [
    "# Read all data\n",
    "\n",
    "gt_truth_file <- paste0(work_d, \"/CEU_true_set.chr20.vcf.gz\")\n",
    "gt_bcftool_file <- paste0(work_d, \"/bcftoolsgt_out/CEU_inds_bam.vcf.gz\")\n",
    "gt_angsd_file <- paste0(work_d, \"/angsd_out/angsd_genotype.bcf\")\n",
    "gt_beagle4gl_file <- paste0(work_d, \"/beagle4_out/beagle4_imputation.vcf.gz\")\n",
    "gt_quilt2_file <- paste0(work_d, \"/quilt2_1_ind/quilt2_all_inds.vcf.gz\")\n",
    "gt_beagle5gl_file <- paste0(work_d, \"/beagle5_out/beagle5_imputed.vcf.gz\")\n",
    "\n",
    "\n",
    "res_truth <- vcftable(gt_truth_file, \"chr20:2000001-5000000\", vartype = \"snps\")\n",
    "res_bcftools <- vcftable(gt_bcftool_file, \"chr20:2000001-5000000\", vartype = \"snps\")\n",
    "res_angsd <- vcftable(gt_angsd_file, \"chr20:2000001-5000000\", vartype = \"snps\")\n",
    "res_beagle4gl <- vcftable(gt_beagle4gl_file, \"chr20:2000001-5000000\", vartype = \"snps\")\n",
    "res_quilt2 <- vcftable(gt_quilt2_file, \"chr20:2000001-5000000\", vartype = \"snps\")\n",
    "res_beagle5gl <- vcftable(gt_beagle5gl_file, \"chr20:2000001-5000000\", vartype = \"snps\")\n",
    "\n",
    "\n",
    "res_truth$samples <- sub(\".lc.bam\", \"\", basename(res_truth$samples))\n",
    "res_bcftools$samples <- sub(\".lc.bam\", \"\", basename(res_bcftools$samples))\n",
    "res_angsd$samples <- sub(\".lc.bam\", \"\", basename(res_angsd$samples))\n",
    "res_beagle4gl$samples <- sub(\".lc.bam\", \"\", basename(res_beagle4gl$samples))\n",
    "res_quilt2$samples <- sub(\".lc.bam\", \"\", basename(res_quilt2$samples))\n",
    "res_beagle5gl$samples <- sub(\".lc.bam\", \"\", basename(res_beagle5gl$samples))\n",
    "\n"
   ]
  },
  {
   "cell_type": "code",
   "execution_count": 22,
   "id": "36ee773e",
   "metadata": {
    "kernel": "R (anders)"
   },
   "outputs": [
    {
     "data": {
      "text/plain": [
       "\n",
       "FALSE  TRUE \n",
       "60639  7592 "
      ]
     },
     "metadata": {},
     "output_type": "display_data"
    }
   ],
   "source": [
    "true_freq <- rowMeans(res_truth$gt)/2\n",
    "table(true_common <- true_freq > 0.05 & true_freq < 0.95)"
   ]
  },
  {
   "cell_type": "code",
   "execution_count": 23,
   "id": "e87dc592",
   "metadata": {
    "kernel": "R (anders)"
   },
   "outputs": [
    {
     "data": {
      "text/html": [
       "<style>\n",
       ".list-inline {list-style: none; margin:0; padding: 0}\n",
       ".list-inline>li {display: inline-block}\n",
       ".list-inline>li:not(:last-child)::after {content: \"\\00b7\"; padding: 0 .5ex}\n",
       "</style>\n",
       "<ol class=list-inline><li>'samples'</li><li>'chr'</li><li>'pos'</li><li>'id'</li><li>'ref'</li><li>'alt'</li><li>'qual'</li><li>'filter'</li><li>'info'</li><li>'gt'</li></ol>\n"
      ],
      "text/latex": [
       "\\begin{enumerate*}\n",
       "\\item 'samples'\n",
       "\\item 'chr'\n",
       "\\item 'pos'\n",
       "\\item 'id'\n",
       "\\item 'ref'\n",
       "\\item 'alt'\n",
       "\\item 'qual'\n",
       "\\item 'filter'\n",
       "\\item 'info'\n",
       "\\item 'gt'\n",
       "\\end{enumerate*}\n"
      ],
      "text/markdown": [
       "1. 'samples'\n",
       "2. 'chr'\n",
       "3. 'pos'\n",
       "4. 'id'\n",
       "5. 'ref'\n",
       "6. 'alt'\n",
       "7. 'qual'\n",
       "8. 'filter'\n",
       "9. 'info'\n",
       "10. 'gt'\n",
       "\n",
       "\n"
      ],
      "text/plain": [
       " [1] \"samples\" \"chr\"     \"pos\"     \"id\"      \"ref\"     \"alt\"     \"qual\"   \n",
       " [8] \"filter\"  \"info\"    \"gt\"     "
      ]
     },
     "metadata": {},
     "output_type": "display_data"
    }
   ],
   "source": [
    "names(res_truth)"
   ]
  },
  {
   "cell_type": "code",
   "execution_count": 24,
   "id": "f69a63c3",
   "metadata": {
    "kernel": "R (anders)"
   },
   "outputs": [],
   "source": [
    "res_truth_mat <- res_truth$gt\n",
    "res_bcftools_mat <- find_match(res_bcftools, res_truth, name=\"bcftools\")\n",
    "res_angsd_mat <- find_match(res_angsd, res_truth, name=\"angsd\")\n",
    "res_beagle4gl_mat <- find_match(res_beagle4gl, res_truth, name=\"beagle4gl\")\n",
    "res_beagle5gl_mat <- find_match(res_beagle5gl, res_truth, name=\"beagle5gl\")\n",
    "res_quilt2_mat <- find_match(res_quilt2, res_truth, name=\"quilt2\")\n"
   ]
  },
  {
   "cell_type": "code",
   "execution_count": 25,
   "id": "e8807f46",
   "metadata": {
    "kernel": "R (anders)"
   },
   "outputs": [
    {
     "name": "stdout",
     "output_type": "stream",
     "text": [
      "Missing genotype rate:\n",
      " bcftools     angsd beagle4gl beagle5gl    quilt2 \n",
      "0.8533970 0.8561138 0.8510794 0.0000000 0.0000000 \n",
      "\n",
      "Discordance rate assuming missing is discordant:\n",
      " bcftools     angsd beagle4gl beagle5gl    quilt2 \n",
      "0.1353354 0.1305741 0.1437988 0.9927999 0.9968118 \n",
      "\n",
      "Discordance rate when ignoring missing genotypes:\n",
      " bcftools     angsd beagle4gl beagle5gl    quilt2 \n",
      "0.9231420 0.9074815 0.9656071 0.9927999 0.9968118 \n"
     ]
    }
   ],
   "source": [
    "estimate_gt_tools(list(\n",
    "    bcftools=res_bcftools_mat,\n",
    "    angsd=res_angsd_mat,\n",
    "    beagle4gl=res_beagle4gl_mat,\n",
    "    beagle5gl=res_beagle5gl_mat,\n",
    "    quilt2=res_quilt2_mat), res_truth_mat)"
   ]
  },
  {
   "cell_type": "code",
   "execution_count": 26,
   "id": "49f8a928",
   "metadata": {
    "kernel": "R (anders)"
   },
   "outputs": [
    {
     "name": "stdout",
     "output_type": "stream",
     "text": [
      "Missing genotype rate:\n",
      "   bcftools       angsd   beagle4gl   beagle5gl      quilt2 \n",
      "0.039756762 0.039493326 0.006190727 0.000000000 0.000000000 \n",
      "\n",
      "Discordance rate assuming missing is discordant:\n",
      " bcftools     angsd beagle4gl beagle5gl    quilt2 \n",
      "0.8728442 0.8596505 0.9659817 0.9610335 0.9915525 \n",
      "\n",
      "Discordance rate when ignoring missing genotypes:\n",
      " bcftools     angsd beagle4gl beagle5gl    quilt2 \n",
      "0.9089824 0.8949969 0.9719991 0.9610335 0.9915525 \n"
     ]
    }
   ],
   "source": [
    "estimate_gt_tools(list(\n",
    "    bcftools=res_bcftools_mat,\n",
    "    angsd=res_angsd_mat,\n",
    "    beagle4gl=res_beagle4gl_mat,\n",
    "    beagle5gl=res_beagle5gl_mat,\n",
    "    quilt2=res_quilt2_mat), res_truth_mat, keep=true_common)"
   ]
  },
  {
   "cell_type": "code",
   "execution_count": null,
   "id": "26f523e6-4f29-4b01-9d7d-8538bc3ba1b9",
   "metadata": {
    "kernel": "R (anders)"
   },
   "outputs": [],
   "source": []
  }
 ],
 "metadata": {
  "kernelspec": {
   "display_name": "SoS",
   "language": "sos",
   "name": "sos"
  },
  "language_info": {
   "codemirror_mode": "sos",
   "file_extension": ".sos",
   "mimetype": "text/x-sos",
   "name": "sos",
   "nbconvert_exporter": "sos_notebook.converter.SoS_Exporter",
   "pygments_lexer": "sos"
  },
  "sos": {
   "kernels": [
    [
     "Calysto Bash",
     "calysto_bash",
     "bash",
     "",
     ""
    ],
    [
     "R",
     "ir",
     "R",
     "",
     "r"
    ],
    [
     "R (anders)",
     "andersr-r",
     "R",
     "",
     "r"
    ]
   ],
   "panel": {
    "displayed": false,
    "height": 0
   },
   "version": "0.24.1"
  }
 },
 "nbformat": 4,
 "nbformat_minor": 5
}
